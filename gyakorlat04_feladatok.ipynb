{
    "metadata": {
        "kernelspec": {
            "name": "SQL",
            "display_name": "SQL",
            "language": "sql"
        },
        "language_info": {
            "name": "sql",
            "version": ""
        }
    },
    "nbformat_minor": 2,
    "nbformat": 4,
    "cells": [
        {
            "cell_type": "markdown",
            "source": [
                "1. <span style=\"background-color: rgb(255, 255, 255); color: rgb(0, 0, 0); font-family: &quot;Open Sans&quot;, sans-serif; font-size: 14.44px;\">Készítsünk listát arról, hogy ügyfelenként (LOGIN), azon belül szállítási módonként hány megrendelés történt!&nbsp;</span> \n",
                "\n",
                "a. A lista tartalmazza a részösszegeket és a végösszeget is!  \n",
                "b. Használjuk a ROLLUP záradékot!"
            ],
            "metadata": {
                "azdata_cell_guid": "363cd270-6577-449b-9c89-d4b7c7972d52"
            },
            "attachments": {}
        },
        {
            "cell_type": "code",
            "source": [
                "SELECT LOGIN,\r\n",
                "       SZALL_MOD,\r\n",
                "       count(*)\r\n",
                "from Rendeles\r\n",
                "GROUP BY cube(LOGIN, SZALL_MOD)"
            ],
            "metadata": {
                "azdata_cell_guid": "6ab9f633-a3b5-48c9-a1dc-4fb8235ae85b",
                "language": "sql"
            },
            "outputs": [
                {
                    "output_type": "display_data",
                    "data": {
                        "text/html": "(766 rows affected)"
                    },
                    "metadata": {}
                },
                {
                    "output_type": "display_data",
                    "data": {
                        "text/html": "Total execution time: 00:00:00.186"
                    },
                    "metadata": {}
                },
                {
                    "output_type": "execute_result",
                    "metadata": {},
                    "execution_count": 2,
                    "data": {
                        "application/vnd.dataresource+json": {
                            "schema": {
                                "fields": [
                                    {
                                        "name": "LOGIN"
                                    },
                                    {
                                        "name": "SZALL_MOD"
                                    },
                                    {
                                        "name": "(No column name)"
                                    }
                                ]
                            },
                            "data": [
                                {
                                    "LOGIN": "adam1",
                                    "SZALL_MOD": "GLS",
                                    "(No column name)": "129"
                                },
                                {
                                    "LOGIN": "adam3",
                                    "SZALL_MOD": "GLS",
                                    "(No column name)": "10"
                                },
                                {
                                    "LOGIN": "adam4",
                                    "SZALL_MOD": "GLS",
                                    "(No column name)": "12"
                                },
                                {
                                    "LOGIN": "agnes",
                                    "SZALL_MOD": "GLS",
                                    "(No column name)": "144"
                                },
                                {
                                    "LOGIN": "agnes3",
                                    "SZALL_MOD": "GLS",
                                    "(No column name)": "148"
                                },
                                {
                                    "LOGIN": "AGNESH",
                                    "SZALL_MOD": "GLS",
                                    "(No column name)": "2"
                                },
                                {
                                    "LOGIN": "AGNESK",
                                    "SZALL_MOD": "GLS",
                                    "(No column name)": "1"
                                },
                                {
                                    "LOGIN": "akos",
                                    "SZALL_MOD": "GLS",
                                    "(No column name)": "146"
                                },
                                {
                                    "LOGIN": "aladar",
                                    "SZALL_MOD": "GLS",
                                    "(No column name)": "156"
                                },
                                {
                                    "LOGIN": "alexandra",
                                    "SZALL_MOD": "GLS",
                                    "(No column name)": "5"
                                },
                                {
                                    "LOGIN": "andi",
                                    "SZALL_MOD": "GLS",
                                    "(No column name)": "7"
                                },
                                {
                                    "LOGIN": "andras2",
                                    "SZALL_MOD": "GLS",
                                    "(No column name)": "4"
                                },
                                {
                                    "LOGIN": "andras21",
                                    "SZALL_MOD": "GLS",
                                    "(No column name)": "140"
                                },
                                {
                                    "LOGIN": "andras3",
                                    "SZALL_MOD": "GLS",
                                    "(No column name)": "3"
                                },
                                {
                                    "LOGIN": "andras4",
                                    "SZALL_MOD": "GLS",
                                    "(No column name)": "4"
                                },
                                {
                                    "LOGIN": "andras41",
                                    "SZALL_MOD": "GLS",
                                    "(No column name)": "149"
                                },
                                {
                                    "LOGIN": "ANDRASE",
                                    "SZALL_MOD": "GLS",
                                    "(No column name)": "159"
                                },
                                {
                                    "LOGIN": "ANDRASN",
                                    "SZALL_MOD": "GLS",
                                    "(No column name)": "10"
                                },
                                {
                                    "LOGIN": "andrea",
                                    "SZALL_MOD": "GLS",
                                    "(No column name)": "12"
                                },
                                {
                                    "LOGIN": "andrea3",
                                    "SZALL_MOD": "GLS",
                                    "(No column name)": "131"
                                },
                                {
                                    "LOGIN": "andrea4",
                                    "SZALL_MOD": "GLS",
                                    "(No column name)": "7"
                                },
                                {
                                    "LOGIN": "ANDREAT",
                                    "SZALL_MOD": "GLS",
                                    "(No column name)": "3"
                                },
                                {
                                    "LOGIN": "anett3",
                                    "SZALL_MOD": "GLS",
                                    "(No column name)": "3"
                                },
                                {
                                    "LOGIN": "aniko",
                                    "SZALL_MOD": "GLS",
                                    "(No column name)": "128"
                                },
                                {
                                    "LOGIN": "aniko4",
                                    "SZALL_MOD": "GLS",
                                    "(No column name)": "6"
                                },
                                {
                                    "LOGIN": "ANIKOS",
                                    "SZALL_MOD": "GLS",
                                    "(No column name)": "128"
                                },
                                {
                                    "LOGIN": "anita",
                                    "SZALL_MOD": "GLS",
                                    "(No column name)": "5"
                                },
                                {
                                    "LOGIN": "annamaria1",
                                    "SZALL_MOD": "GLS",
                                    "(No column name)": "5"
                                },
                                {
                                    "LOGIN": "ANNAMARIAR",
                                    "SZALL_MOD": "GLS",
                                    "(No column name)": "8"
                                },
                                {
                                    "LOGIN": "aron2",
                                    "SZALL_MOD": "GLS",
                                    "(No column name)": "132"
                                },
                                {
                                    "LOGIN": "ARONK",
                                    "SZALL_MOD": "GLS",
                                    "(No column name)": "155"
                                },
                                {
                                    "LOGIN": "arpad2",
                                    "SZALL_MOD": "GLS",
                                    "(No column name)": "6"
                                },
                                {
                                    "LOGIN": "ARPADH",
                                    "SZALL_MOD": "GLS",
                                    "(No column name)": "6"
                                },
                                {
                                    "LOGIN": "ARPADM",
                                    "SZALL_MOD": "GLS",
                                    "(No column name)": "6"
                                },
                                {
                                    "LOGIN": "attila1",
                                    "SZALL_MOD": "GLS",
                                    "(No column name)": "5"
                                },
                                {
                                    "LOGIN": "attila4",
                                    "SZALL_MOD": "GLS",
                                    "(No column name)": "135"
                                },
                                {
                                    "LOGIN": "ATTILAO",
                                    "SZALL_MOD": "GLS",
                                    "(No column name)": "4"
                                },
                                {
                                    "LOGIN": "balazs1",
                                    "SZALL_MOD": "GLS",
                                    "(No column name)": "128"
                                },
                                {
                                    "LOGIN": "balazs2",
                                    "SZALL_MOD": "GLS",
                                    "(No column name)": "5"
                                },
                                {
                                    "LOGIN": "balazs3",
                                    "SZALL_MOD": "GLS",
                                    "(No column name)": "6"
                                },
                                {
                                    "LOGIN": "balint",
                                    "SZALL_MOD": "GLS",
                                    "(No column name)": "10"
                                },
                                {
                                    "LOGIN": "balint1",
                                    "SZALL_MOD": "GLS",
                                    "(No column name)": "158"
                                },
                                {
                                    "LOGIN": "balint2",
                                    "SZALL_MOD": "GLS",
                                    "(No column name)": "8"
                                },
                                {
                                    "LOGIN": "balu",
                                    "SZALL_MOD": "GLS",
                                    "(No column name)": "127"
                                },
                                {
                                    "LOGIN": "BEATRIXK",
                                    "SZALL_MOD": "GLS",
                                    "(No column name)": "135"
                                },
                                {
                                    "LOGIN": "BEATRIXS",
                                    "SZALL_MOD": "GLS",
                                    "(No column name)": "146"
                                },
                                {
                                    "LOGIN": "BELAF",
                                    "SZALL_MOD": "GLS",
                                    "(No column name)": "11"
                                },
                                {
                                    "LOGIN": "bence",
                                    "SZALL_MOD": "GLS",
                                    "(No column name)": "4"
                                },
                                {
                                    "LOGIN": "BENCEB",
                                    "SZALL_MOD": "GLS",
                                    "(No column name)": "5"
                                },
                                {
                                    "LOGIN": "bernadett1",
                                    "SZALL_MOD": "GLS",
                                    "(No column name)": "10"
                                },
                                {
                                    "LOGIN": "bernadett2",
                                    "SZALL_MOD": "GLS",
                                    "(No column name)": "6"
                                },
                                {
                                    "LOGIN": "BERNADETTO",
                                    "SZALL_MOD": "GLS",
                                    "(No column name)": "7"
                                },
                                {
                                    "LOGIN": "bertalan",
                                    "SZALL_MOD": "GLS",
                                    "(No column name)": "128"
                                },
                                {
                                    "LOGIN": "brigitta",
                                    "SZALL_MOD": "GLS",
                                    "(No column name)": "137"
                                },
                                {
                                    "LOGIN": "brigitta3",
                                    "SZALL_MOD": "GLS",
                                    "(No column name)": "144"
                                },
                                {
                                    "LOGIN": "csongor3",
                                    "SZALL_MOD": "GLS",
                                    "(No column name)": "5"
                                },
                                {
                                    "LOGIN": "dani",
                                    "SZALL_MOD": "GLS",
                                    "(No column name)": "5"
                                },
                                {
                                    "LOGIN": "daniel",
                                    "SZALL_MOD": "GLS",
                                    "(No column name)": "7"
                                },
                                {
                                    "LOGIN": "daniel1",
                                    "SZALL_MOD": "GLS",
                                    "(No column name)": "156"
                                },
                                {
                                    "LOGIN": "david",
                                    "SZALL_MOD": "GLS",
                                    "(No column name)": "161"
                                },
                                {
                                    "LOGIN": "david1",
                                    "SZALL_MOD": "GLS",
                                    "(No column name)": "8"
                                },
                                {
                                    "LOGIN": "david4",
                                    "SZALL_MOD": "GLS",
                                    "(No column name)": "3"
                                },
                                {
                                    "LOGIN": "debora",
                                    "SZALL_MOD": "GLS",
                                    "(No column name)": "7"
                                },
                                {
                                    "LOGIN": "denes",
                                    "SZALL_MOD": "GLS",
                                    "(No column name)": "3"
                                },
                                {
                                    "LOGIN": "dora3",
                                    "SZALL_MOD": "GLS",
                                    "(No column name)": "144"
                                },
                                {
                                    "LOGIN": "edit",
                                    "SZALL_MOD": "GLS",
                                    "(No column name)": "7"
                                },
                                {
                                    "LOGIN": "emese",
                                    "SZALL_MOD": "GLS",
                                    "(No column name)": "128"
                                },
                                {
                                    "LOGIN": "eszter2",
                                    "SZALL_MOD": "GLS",
                                    "(No column name)": "127"
                                },
                                {
                                    "LOGIN": "eszter4",
                                    "SZALL_MOD": "GLS",
                                    "(No column name)": "141"
                                },
                                {
                                    "LOGIN": "ESZTERE",
                                    "SZALL_MOD": "GLS",
                                    "(No column name)": "6"
                                },
                                {
                                    "LOGIN": "eva",
                                    "SZALL_MOD": "GLS",
                                    "(No column name)": "125"
                                },
                                {
                                    "LOGIN": "eva2",
                                    "SZALL_MOD": "GLS",
                                    "(No column name)": "154"
                                },
                                {
                                    "LOGIN": "EVAV",
                                    "SZALL_MOD": "GLS",
                                    "(No column name)": "2"
                                },
                                {
                                    "LOGIN": "ferenc1",
                                    "SZALL_MOD": "GLS",
                                    "(No column name)": "144"
                                },
                                {
                                    "LOGIN": "fruzsina4",
                                    "SZALL_MOD": "GLS",
                                    "(No column name)": "8"
                                },
                                {
                                    "LOGIN": "gabor1",
                                    "SZALL_MOD": "GLS",
                                    "(No column name)": "9"
                                },
                                {
                                    "LOGIN": "gabor4",
                                    "SZALL_MOD": "GLS",
                                    "(No column name)": "7"
                                },
                                {
                                    "LOGIN": "GABORS",
                                    "SZALL_MOD": "GLS",
                                    "(No column name)": "5"
                                },
                                {
                                    "LOGIN": "gabriella1",
                                    "SZALL_MOD": "GLS",
                                    "(No column name)": "5"
                                },
                                {
                                    "LOGIN": "gabriella10",
                                    "SZALL_MOD": "GLS",
                                    "(No column name)": "4"
                                },
                                {
                                    "LOGIN": "georgij",
                                    "SZALL_MOD": "GLS",
                                    "(No column name)": "9"
                                },
                                {
                                    "LOGIN": "gusztav",
                                    "SZALL_MOD": "GLS",
                                    "(No column name)": "5"
                                },
                                {
                                    "LOGIN": "GYONGYIK",
                                    "SZALL_MOD": "GLS",
                                    "(No column name)": "6"
                                },
                                {
                                    "LOGIN": "GYORGYO",
                                    "SZALL_MOD": "GLS",
                                    "(No column name)": "7"
                                },
                                {
                                    "LOGIN": "henrik3",
                                    "SZALL_MOD": "GLS",
                                    "(No column name)": "7"
                                },
                                {
                                    "LOGIN": "IBOLYAA",
                                    "SZALL_MOD": "GLS",
                                    "(No column name)": "140"
                                },
                                {
                                    "LOGIN": "ilona3",
                                    "SZALL_MOD": "GLS",
                                    "(No column name)": "9"
                                },
                                {
                                    "LOGIN": "imre",
                                    "SZALL_MOD": "GLS",
                                    "(No column name)": "5"
                                },
                                {
                                    "LOGIN": "imre1",
                                    "SZALL_MOD": "GLS",
                                    "(No column name)": "8"
                                },
                                {
                                    "LOGIN": "istvan",
                                    "SZALL_MOD": "GLS",
                                    "(No column name)": "3"
                                },
                                {
                                    "LOGIN": "istvan1",
                                    "SZALL_MOD": "GLS",
                                    "(No column name)": "8"
                                },
                                {
                                    "LOGIN": "ISTVANV",
                                    "SZALL_MOD": "GLS",
                                    "(No column name)": "4"
                                },
                                {
                                    "LOGIN": "janos3",
                                    "SZALL_MOD": "GLS",
                                    "(No column name)": "5"
                                },
                                {
                                    "LOGIN": "JANOSG",
                                    "SZALL_MOD": "GLS",
                                    "(No column name)": "3"
                                },
                                {
                                    "LOGIN": "JANOSP",
                                    "SZALL_MOD": "GLS",
                                    "(No column name)": "7"
                                },
                                {
                                    "LOGIN": "jozsef",
                                    "SZALL_MOD": "GLS",
                                    "(No column name)": "116"
                                },
                                {
                                    "LOGIN": "jozsef2",
                                    "SZALL_MOD": "GLS",
                                    "(No column name)": "7"
                                },
                                {
                                    "LOGIN": "JOZSEFG",
                                    "SZALL_MOD": "GLS",
                                    "(No column name)": "11"
                                },
                                {
                                    "LOGIN": "JUDITH",
                                    "SZALL_MOD": "GLS",
                                    "(No column name)": "170"
                                },
                                {
                                    "LOGIN": "julia",
                                    "SZALL_MOD": "GLS",
                                    "(No column name)": "137"
                                },
                                {
                                    "LOGIN": "julia4",
                                    "SZALL_MOD": "GLS",
                                    "(No column name)": "2"
                                },
                                {
                                    "LOGIN": "julianna4",
                                    "SZALL_MOD": "GLS",
                                    "(No column name)": "8"
                                },
                                {
                                    "LOGIN": "kata",
                                    "SZALL_MOD": "GLS",
                                    "(No column name)": "5"
                                },
                                {
                                    "LOGIN": "katalin",
                                    "SZALL_MOD": "GLS",
                                    "(No column name)": "7"
                                },
                                {
                                    "LOGIN": "katalin4",
                                    "SZALL_MOD": "GLS",
                                    "(No column name)": "7"
                                },
                                {
                                    "LOGIN": "kati",
                                    "SZALL_MOD": "GLS",
                                    "(No column name)": "4"
                                },
                                {
                                    "LOGIN": "katka",
                                    "SZALL_MOD": "GLS",
                                    "(No column name)": "6"
                                },
                                {
                                    "LOGIN": "klaudia2",
                                    "SZALL_MOD": "GLS",
                                    "(No column name)": "3"
                                },
                                {
                                    "LOGIN": "kornel4",
                                    "SZALL_MOD": "GLS",
                                    "(No column name)": "3"
                                },
                                {
                                    "LOGIN": "kristof4",
                                    "SZALL_MOD": "GLS",
                                    "(No column name)": "9"
                                },
                                {
                                    "LOGIN": "kriszti",
                                    "SZALL_MOD": "GLS",
                                    "(No column name)": "3"
                                },
                                {
                                    "LOGIN": "krisztian4",
                                    "SZALL_MOD": "GLS",
                                    "(No column name)": "5"
                                },
                                {
                                    "LOGIN": "KRISZTIANM",
                                    "SZALL_MOD": "GLS",
                                    "(No column name)": "118"
                                },
                                {
                                    "LOGIN": "krisztina",
                                    "SZALL_MOD": "GLS",
                                    "(No column name)": "149"
                                },
                                {
                                    "LOGIN": "krisztina1",
                                    "SZALL_MOD": "GLS",
                                    "(No column name)": "10"
                                },
                                {
                                    "LOGIN": "KRISZTINAG",
                                    "SZALL_MOD": "GLS",
                                    "(No column name)": "6"
                                },
                                {
                                    "LOGIN": "lajos",
                                    "SZALL_MOD": "GLS",
                                    "(No column name)": "5"
                                },
                                {
                                    "LOGIN": "lala",
                                    "SZALL_MOD": "GLS",
                                    "(No column name)": "5"
                                },
                                {
                                    "LOGIN": "laszlo1",
                                    "SZALL_MOD": "GLS",
                                    "(No column name)": "130"
                                },
                                {
                                    "LOGIN": "laszlo2",
                                    "SZALL_MOD": "GLS",
                                    "(No column name)": "12"
                                },
                                {
                                    "LOGIN": "LASZLOA",
                                    "SZALL_MOD": "GLS",
                                    "(No column name)": "156"
                                },
                                {
                                    "LOGIN": "LASZLON",
                                    "SZALL_MOD": "GLS",
                                    "(No column name)": "126"
                                },
                                {
                                    "LOGIN": "maria1",
                                    "SZALL_MOD": "GLS",
                                    "(No column name)": "4"
                                },
                                {
                                    "LOGIN": "MARKH",
                                    "SZALL_MOD": "GLS",
                                    "(No column name)": "128"
                                },
                                {
                                    "LOGIN": "marton",
                                    "SZALL_MOD": "GLS",
                                    "(No column name)": "5"
                                },
                                {
                                    "LOGIN": "MATEK",
                                    "SZALL_MOD": "GLS",
                                    "(No column name)": "6"
                                },
                                {
                                    "LOGIN": "matyas2",
                                    "SZALL_MOD": "GLS",
                                    "(No column name)": "138"
                                },
                                {
                                    "LOGIN": "MATYASS",
                                    "SZALL_MOD": "GLS",
                                    "(No column name)": "4"
                                },
                                {
                                    "LOGIN": "MIHALYJ",
                                    "SZALL_MOD": "GLS",
                                    "(No column name)": "3"
                                },
                                {
                                    "LOGIN": "miklos2",
                                    "SZALL_MOD": "GLS",
                                    "(No column name)": "7"
                                },
                                {
                                    "LOGIN": "MIKLOSB",
                                    "SZALL_MOD": "GLS",
                                    "(No column name)": "6"
                                },
                                {
                                    "LOGIN": "MONIKAM",
                                    "SZALL_MOD": "GLS",
                                    "(No column name)": "133"
                                },
                                {
                                    "LOGIN": "NANDORF",
                                    "SZALL_MOD": "GLS",
                                    "(No column name)": "147"
                                },
                                {
                                    "LOGIN": "nikolett3",
                                    "SZALL_MOD": "GLS",
                                    "(No column name)": "4"
                                },
                                {
                                    "LOGIN": "nikoletta4",
                                    "SZALL_MOD": "GLS",
                                    "(No column name)": "137"
                                },
                                {
                                    "LOGIN": "NIKOLETTAT",
                                    "SZALL_MOD": "GLS",
                                    "(No column name)": "13"
                                },
                                {
                                    "LOGIN": "norbert2",
                                    "SZALL_MOD": "GLS",
                                    "(No column name)": "7"
                                },
                                {
                                    "LOGIN": "norbert4",
                                    "SZALL_MOD": "GLS",
                                    "(No column name)": "1"
                                },
                                {
                                    "LOGIN": "norbert5",
                                    "SZALL_MOD": "GLS",
                                    "(No column name)": "1"
                                },
                                {
                                    "LOGIN": "pal",
                                    "SZALL_MOD": "GLS",
                                    "(No column name)": "152"
                                },
                                {
                                    "LOGIN": "peter1",
                                    "SZALL_MOD": "GLS",
                                    "(No column name)": "151"
                                },
                                {
                                    "LOGIN": "peter2",
                                    "SZALL_MOD": "GLS",
                                    "(No column name)": "7"
                                },
                                {
                                    "LOGIN": "peter3",
                                    "SZALL_MOD": "GLS",
                                    "(No column name)": "8"
                                },
                                {
                                    "LOGIN": "peter4",
                                    "SZALL_MOD": "GLS",
                                    "(No column name)": "266"
                                },
                                {
                                    "LOGIN": "PETERB",
                                    "SZALL_MOD": "GLS",
                                    "(No column name)": "2"
                                },
                                {
                                    "LOGIN": "polla",
                                    "SZALL_MOD": "GLS",
                                    "(No column name)": "9"
                                },
                                {
                                    "LOGIN": "rajmond4",
                                    "SZALL_MOD": "GLS",
                                    "(No column name)": "6"
                                },
                                {
                                    "LOGIN": "reka4",
                                    "SZALL_MOD": "GLS",
                                    "(No column name)": "5"
                                },
                                {
                                    "LOGIN": "RENATAK",
                                    "SZALL_MOD": "GLS",
                                    "(No column name)": "135"
                                },
                                {
                                    "LOGIN": "RENATAS",
                                    "SZALL_MOD": "GLS",
                                    "(No column name)": "6"
                                },
                                {
                                    "LOGIN": "robert2",
                                    "SZALL_MOD": "GLS",
                                    "(No column name)": "5"
                                },
                                {
                                    "LOGIN": "ROBERTI",
                                    "SZALL_MOD": "GLS",
                                    "(No column name)": "5"
                                },
                                {
                                    "LOGIN": "ROBERTP",
                                    "SZALL_MOD": "GLS",
                                    "(No column name)": "8"
                                },
                                {
                                    "LOGIN": "roland",
                                    "SZALL_MOD": "GLS",
                                    "(No column name)": "132"
                                },
                                {
                                    "LOGIN": "roland1",
                                    "SZALL_MOD": "GLS",
                                    "(No column name)": "142"
                                },
                                {
                                    "LOGIN": "roza2",
                                    "SZALL_MOD": "GLS",
                                    "(No column name)": "3"
                                },
                                {
                                    "LOGIN": "sandor",
                                    "SZALL_MOD": "GLS",
                                    "(No column name)": "4"
                                },
                                {
                                    "LOGIN": "sandor3",
                                    "SZALL_MOD": "GLS",
                                    "(No column name)": "4"
                                },
                                {
                                    "LOGIN": "sandor4",
                                    "SZALL_MOD": "GLS",
                                    "(No column name)": "4"
                                },
                                {
                                    "LOGIN": "sara",
                                    "SZALL_MOD": "GLS",
                                    "(No column name)": "4"
                                },
                                {
                                    "LOGIN": "SEBASTIANF",
                                    "SZALL_MOD": "GLS",
                                    "(No column name)": "6"
                                },
                                {
                                    "LOGIN": "sebestyen",
                                    "SZALL_MOD": "GLS",
                                    "(No column name)": "4"
                                },
                                {
                                    "LOGIN": "szabolcs",
                                    "SZALL_MOD": "GLS",
                                    "(No column name)": "145"
                                },
                                {
                                    "LOGIN": "SZABOLCSM",
                                    "SZALL_MOD": "GLS",
                                    "(No column name)": "126"
                                },
                                {
                                    "LOGIN": "SZILARDS",
                                    "SZALL_MOD": "GLS",
                                    "(No column name)": "144"
                                },
                                {
                                    "LOGIN": "szilvia1",
                                    "SZALL_MOD": "GLS",
                                    "(No column name)": "156"
                                },
                                {
                                    "LOGIN": "tamara2",
                                    "SZALL_MOD": "GLS",
                                    "(No column name)": "6"
                                },
                                {
                                    "LOGIN": "tamas",
                                    "SZALL_MOD": "GLS",
                                    "(No column name)": "143"
                                },
                                {
                                    "LOGIN": "TAMASF",
                                    "SZALL_MOD": "GLS",
                                    "(No column name)": "159"
                                },
                                {
                                    "LOGIN": "tibor",
                                    "SZALL_MOD": "GLS",
                                    "(No column name)": "115"
                                },
                                {
                                    "LOGIN": "tibor2",
                                    "SZALL_MOD": "GLS",
                                    "(No column name)": "7"
                                },
                                {
                                    "LOGIN": "tihamer",
                                    "SZALL_MOD": "GLS",
                                    "(No column name)": "9"
                                },
                                {
                                    "LOGIN": "timea",
                                    "SZALL_MOD": "GLS",
                                    "(No column name)": "14"
                                },
                                {
                                    "LOGIN": "timea2",
                                    "SZALL_MOD": "GLS",
                                    "(No column name)": "1"
                                },
                                {
                                    "LOGIN": "tunde",
                                    "SZALL_MOD": "GLS",
                                    "(No column name)": "6"
                                },
                                {
                                    "LOGIN": "valentin",
                                    "SZALL_MOD": "GLS",
                                    "(No column name)": "5"
                                },
                                {
                                    "LOGIN": "veronika4",
                                    "SZALL_MOD": "GLS",
                                    "(No column name)": "5"
                                },
                                {
                                    "LOGIN": "VIKTORIAU",
                                    "SZALL_MOD": "GLS",
                                    "(No column name)": "5"
                                },
                                {
                                    "LOGIN": "VIKTORK",
                                    "SZALL_MOD": "GLS",
                                    "(No column name)": "8"
                                },
                                {
                                    "LOGIN": "vivien3",
                                    "SZALL_MOD": "GLS",
                                    "(No column name)": "9"
                                },
                                {
                                    "LOGIN": "zoltan",
                                    "SZALL_MOD": "GLS",
                                    "(No column name)": "5"
                                },
                                {
                                    "LOGIN": "zoltan4",
                                    "SZALL_MOD": "GLS",
                                    "(No column name)": "129"
                                },
                                {
                                    "LOGIN": "ZOLTANP",
                                    "SZALL_MOD": "GLS",
                                    "(No column name)": "6"
                                },
                                {
                                    "LOGIN": "ZOLTANT",
                                    "SZALL_MOD": "GLS",
                                    "(No column name)": "127"
                                },
                                {
                                    "LOGIN": "zsofi1",
                                    "SZALL_MOD": "GLS",
                                    "(No column name)": "7"
                                },
                                {
                                    "LOGIN": "zsolt1",
                                    "SZALL_MOD": "GLS",
                                    "(No column name)": "11"
                                },
                                {
                                    "LOGIN": "ZSOLTJ",
                                    "SZALL_MOD": "GLS",
                                    "(No column name)": "1"
                                },
                                {
                                    "LOGIN": "zsuzsa",
                                    "SZALL_MOD": "GLS",
                                    "(No column name)": "8"
                                },
                                {
                                    "LOGIN": "zsuzsa3",
                                    "SZALL_MOD": "GLS",
                                    "(No column name)": "5"
                                },
                                {
                                    "LOGIN": "zsuzsanna",
                                    "SZALL_MOD": "GLS",
                                    "(No column name)": "7"
                                },
                                {
                                    "LOGIN": "ZSUZSAV",
                                    "SZALL_MOD": "GLS",
                                    "(No column name)": "139"
                                },
                                {
                                    "LOGIN": "NULL",
                                    "SZALL_MOD": "GLS",
                                    "(No column name)": "9426"
                                },
                                {
                                    "LOGIN": "adam1",
                                    "SZALL_MOD": "Posta",
                                    "(No column name)": "132"
                                },
                                {
                                    "LOGIN": "adam3",
                                    "SZALL_MOD": "Posta",
                                    "(No column name)": "3"
                                },
                                {
                                    "LOGIN": "adam4",
                                    "SZALL_MOD": "Posta",
                                    "(No column name)": "6"
                                },
                                {
                                    "LOGIN": "agnes",
                                    "SZALL_MOD": "Posta",
                                    "(No column name)": "130"
                                },
                                {
                                    "LOGIN": "agnes3",
                                    "SZALL_MOD": "Posta",
                                    "(No column name)": "146"
                                },
                                {
                                    "LOGIN": "AGNESH",
                                    "SZALL_MOD": "Posta",
                                    "(No column name)": "3"
                                },
                                {
                                    "LOGIN": "AGNESK",
                                    "SZALL_MOD": "Posta",
                                    "(No column name)": "7"
                                },
                                {
                                    "LOGIN": "akos",
                                    "SZALL_MOD": "Posta",
                                    "(No column name)": "143"
                                },
                                {
                                    "LOGIN": "aladar",
                                    "SZALL_MOD": "Posta",
                                    "(No column name)": "134"
                                },
                                {
                                    "LOGIN": "alexandra",
                                    "SZALL_MOD": "Posta",
                                    "(No column name)": "9"
                                },
                                {
                                    "LOGIN": "andi",
                                    "SZALL_MOD": "Posta",
                                    "(No column name)": "4"
                                },
                                {
                                    "LOGIN": "andras2",
                                    "SZALL_MOD": "Posta",
                                    "(No column name)": "7"
                                },
                                {
                                    "LOGIN": "andras21",
                                    "SZALL_MOD": "Posta",
                                    "(No column name)": "124"
                                },
                                {
                                    "LOGIN": "andras3",
                                    "SZALL_MOD": "Posta",
                                    "(No column name)": "1"
                                },
                                {
                                    "LOGIN": "andras4",
                                    "SZALL_MOD": "Posta",
                                    "(No column name)": "4"
                                },
                                {
                                    "LOGIN": "andras41",
                                    "SZALL_MOD": "Posta",
                                    "(No column name)": "137"
                                },
                                {
                                    "LOGIN": "ANDRASE",
                                    "SZALL_MOD": "Posta",
                                    "(No column name)": "141"
                                },
                                {
                                    "LOGIN": "ANDRASN",
                                    "SZALL_MOD": "Posta",
                                    "(No column name)": "9"
                                },
                                {
                                    "LOGIN": "andrea",
                                    "SZALL_MOD": "Posta",
                                    "(No column name)": "4"
                                },
                                {
                                    "LOGIN": "andrea3",
                                    "SZALL_MOD": "Posta",
                                    "(No column name)": "136"
                                },
                                {
                                    "LOGIN": "andrea4",
                                    "SZALL_MOD": "Posta",
                                    "(No column name)": "4"
                                },
                                {
                                    "LOGIN": "ANDREAT",
                                    "SZALL_MOD": "Posta",
                                    "(No column name)": "6"
                                },
                                {
                                    "LOGIN": "anett3",
                                    "SZALL_MOD": "Posta",
                                    "(No column name)": "6"
                                },
                                {
                                    "LOGIN": "aniko",
                                    "SZALL_MOD": "Posta",
                                    "(No column name)": "137"
                                },
                                {
                                    "LOGIN": "aniko4",
                                    "SZALL_MOD": "Posta",
                                    "(No column name)": "6"
                                },
                                {
                                    "LOGIN": "ANIKOS",
                                    "SZALL_MOD": "Posta",
                                    "(No column name)": "126"
                                },
                                {
                                    "LOGIN": "anita",
                                    "SZALL_MOD": "Posta",
                                    "(No column name)": "2"
                                },
                                {
                                    "LOGIN": "annamaria1",
                                    "SZALL_MOD": "Posta",
                                    "(No column name)": "4"
                                },
                                {
                                    "LOGIN": "ANNAMARIAR",
                                    "SZALL_MOD": "Posta",
                                    "(No column name)": "2"
                                },
                                {
                                    "LOGIN": "aron2",
                                    "SZALL_MOD": "Posta",
                                    "(No column name)": "133"
                                },
                                {
                                    "LOGIN": "ARONK",
                                    "SZALL_MOD": "Posta",
                                    "(No column name)": "120"
                                },
                                {
                                    "LOGIN": "arpad2",
                                    "SZALL_MOD": "Posta",
                                    "(No column name)": "1"
                                },
                                {
                                    "LOGIN": "ARPADH",
                                    "SZALL_MOD": "Posta",
                                    "(No column name)": "3"
                                },
                                {
                                    "LOGIN": "ARPADM",
                                    "SZALL_MOD": "Posta",
                                    "(No column name)": "3"
                                },
                                {
                                    "LOGIN": "attila1",
                                    "SZALL_MOD": "Posta",
                                    "(No column name)": "7"
                                },
                                {
                                    "LOGIN": "attila4",
                                    "SZALL_MOD": "Posta",
                                    "(No column name)": "125"
                                },
                                {
                                    "LOGIN": "ATTILAO",
                                    "SZALL_MOD": "Posta",
                                    "(No column name)": "4"
                                },
                                {
                                    "LOGIN": "balazs1",
                                    "SZALL_MOD": "Posta",
                                    "(No column name)": "136"
                                },
                                {
                                    "LOGIN": "balazs2",
                                    "SZALL_MOD": "Posta",
                                    "(No column name)": "7"
                                },
                                {
                                    "LOGIN": "balazs3",
                                    "SZALL_MOD": "Posta",
                                    "(No column name)": "6"
                                },
                                {
                                    "LOGIN": "balint",
                                    "SZALL_MOD": "Posta",
                                    "(No column name)": "4"
                                },
                                {
                                    "LOGIN": "balint1",
                                    "SZALL_MOD": "Posta",
                                    "(No column name)": "152"
                                },
                                {
                                    "LOGIN": "balint2",
                                    "SZALL_MOD": "Posta",
                                    "(No column name)": "6"
                                },
                                {
                                    "LOGIN": "balu",
                                    "SZALL_MOD": "Posta",
                                    "(No column name)": "137"
                                },
                                {
                                    "LOGIN": "BEATRIXK",
                                    "SZALL_MOD": "Posta",
                                    "(No column name)": "155"
                                },
                                {
                                    "LOGIN": "BEATRIXS",
                                    "SZALL_MOD": "Posta",
                                    "(No column name)": "141"
                                },
                                {
                                    "LOGIN": "BELAF",
                                    "SZALL_MOD": "Posta",
                                    "(No column name)": "2"
                                },
                                {
                                    "LOGIN": "bence",
                                    "SZALL_MOD": "Posta",
                                    "(No column name)": "6"
                                },
                                {
                                    "LOGIN": "BENCEB",
                                    "SZALL_MOD": "Posta",
                                    "(No column name)": "7"
                                },
                                {
                                    "LOGIN": "bernadett1",
                                    "SZALL_MOD": "Posta",
                                    "(No column name)": "5"
                                },
                                {
                                    "LOGIN": "bernadett2",
                                    "SZALL_MOD": "Posta",
                                    "(No column name)": "2"
                                },
                                {
                                    "LOGIN": "BERNADETTO",
                                    "SZALL_MOD": "Posta",
                                    "(No column name)": "2"
                                },
                                {
                                    "LOGIN": "bertalan",
                                    "SZALL_MOD": "Posta",
                                    "(No column name)": "124"
                                },
                                {
                                    "LOGIN": "brigitta",
                                    "SZALL_MOD": "Posta",
                                    "(No column name)": "137"
                                },
                                {
                                    "LOGIN": "brigitta3",
                                    "SZALL_MOD": "Posta",
                                    "(No column name)": "130"
                                },
                                {
                                    "LOGIN": "csongor3",
                                    "SZALL_MOD": "Posta",
                                    "(No column name)": "2"
                                },
                                {
                                    "LOGIN": "daniel",
                                    "SZALL_MOD": "Posta",
                                    "(No column name)": "2"
                                },
                                {
                                    "LOGIN": "daniel1",
                                    "SZALL_MOD": "Posta",
                                    "(No column name)": "131"
                                },
                                {
                                    "LOGIN": "david",
                                    "SZALL_MOD": "Posta",
                                    "(No column name)": "144"
                                },
                                {
                                    "LOGIN": "david1",
                                    "SZALL_MOD": "Posta",
                                    "(No column name)": "1"
                                },
                                {
                                    "LOGIN": "david4",
                                    "SZALL_MOD": "Posta",
                                    "(No column name)": "8"
                                },
                                {
                                    "LOGIN": "debora",
                                    "SZALL_MOD": "Posta",
                                    "(No column name)": "6"
                                },
                                {
                                    "LOGIN": "denes",
                                    "SZALL_MOD": "Posta",
                                    "(No column name)": "2"
                                },
                                {
                                    "LOGIN": "dora3",
                                    "SZALL_MOD": "Posta",
                                    "(No column name)": "124"
                                },
                                {
                                    "LOGIN": "edit",
                                    "SZALL_MOD": "Posta",
                                    "(No column name)": "2"
                                },
                                {
                                    "LOGIN": "emese",
                                    "SZALL_MOD": "Posta",
                                    "(No column name)": "136"
                                },
                                {
                                    "LOGIN": "eszter2",
                                    "SZALL_MOD": "Posta",
                                    "(No column name)": "136"
                                },
                                {
                                    "LOGIN": "eszter4",
                                    "SZALL_MOD": "Posta",
                                    "(No column name)": "134"
                                },
                                {
                                    "LOGIN": "ESZTERE",
                                    "SZALL_MOD": "Posta",
                                    "(No column name)": "9"
                                },
                                {
                                    "LOGIN": "eva",
                                    "SZALL_MOD": "Posta",
                                    "(No column name)": "140"
                                },
                                {
                                    "LOGIN": "eva2",
                                    "SZALL_MOD": "Posta",
                                    "(No column name)": "138"
                                },
                                {
                                    "LOGIN": "EVAV",
                                    "SZALL_MOD": "Posta",
                                    "(No column name)": "1"
                                },
                                {
                                    "LOGIN": "ferenc1",
                                    "SZALL_MOD": "Posta",
                                    "(No column name)": "158"
                                },
                                {
                                    "LOGIN": "fruzsina4",
                                    "SZALL_MOD": "Posta",
                                    "(No column name)": "3"
                                },
                                {
                                    "LOGIN": "gabor1",
                                    "SZALL_MOD": "Posta",
                                    "(No column name)": "5"
                                },
                                {
                                    "LOGIN": "gabor4",
                                    "SZALL_MOD": "Posta",
                                    "(No column name)": "9"
                                },
                                {
                                    "LOGIN": "GABORS",
                                    "SZALL_MOD": "Posta",
                                    "(No column name)": "6"
                                },
                                {
                                    "LOGIN": "gabriella1",
                                    "SZALL_MOD": "Posta",
                                    "(No column name)": "4"
                                },
                                {
                                    "LOGIN": "gabriella10",
                                    "SZALL_MOD": "Posta",
                                    "(No column name)": "5"
                                },
                                {
                                    "LOGIN": "georgij",
                                    "SZALL_MOD": "Posta",
                                    "(No column name)": "2"
                                },
                                {
                                    "LOGIN": "gusztav",
                                    "SZALL_MOD": "Posta",
                                    "(No column name)": "4"
                                },
                                {
                                    "LOGIN": "GYONGYIK",
                                    "SZALL_MOD": "Posta",
                                    "(No column name)": "6"
                                },
                                {
                                    "LOGIN": "GYORGYO",
                                    "SZALL_MOD": "Posta",
                                    "(No column name)": "4"
                                },
                                {
                                    "LOGIN": "henrik3",
                                    "SZALL_MOD": "Posta",
                                    "(No column name)": "4"
                                },
                                {
                                    "LOGIN": "IBOLYAA",
                                    "SZALL_MOD": "Posta",
                                    "(No column name)": "125"
                                },
                                {
                                    "LOGIN": "ilona3",
                                    "SZALL_MOD": "Posta",
                                    "(No column name)": "2"
                                },
                                {
                                    "LOGIN": "imre",
                                    "SZALL_MOD": "Posta",
                                    "(No column name)": "4"
                                },
                                {
                                    "LOGIN": "imre1",
                                    "SZALL_MOD": "Posta",
                                    "(No column name)": "4"
                                },
                                {
                                    "LOGIN": "istvan",
                                    "SZALL_MOD": "Posta",
                                    "(No column name)": "4"
                                },
                                {
                                    "LOGIN": "istvan1",
                                    "SZALL_MOD": "Posta",
                                    "(No column name)": "4"
                                },
                                {
                                    "LOGIN": "ISTVANV",
                                    "SZALL_MOD": "Posta",
                                    "(No column name)": "9"
                                },
                                {
                                    "LOGIN": "janos3",
                                    "SZALL_MOD": "Posta",
                                    "(No column name)": "2"
                                },
                                {
                                    "LOGIN": "JANOSG",
                                    "SZALL_MOD": "Posta",
                                    "(No column name)": "3"
                                },
                                {
                                    "LOGIN": "JANOSP",
                                    "SZALL_MOD": "Posta",
                                    "(No column name)": "7"
                                },
                                {
                                    "LOGIN": "jozsef",
                                    "SZALL_MOD": "Posta",
                                    "(No column name)": "132"
                                },
                                {
                                    "LOGIN": "jozsef2",
                                    "SZALL_MOD": "Posta",
                                    "(No column name)": "2"
                                },
                                {
                                    "LOGIN": "JOZSEFG",
                                    "SZALL_MOD": "Posta",
                                    "(No column name)": "1"
                                },
                                {
                                    "LOGIN": "JUDITH",
                                    "SZALL_MOD": "Posta",
                                    "(No column name)": "130"
                                },
                                {
                                    "LOGIN": "julia",
                                    "SZALL_MOD": "Posta",
                                    "(No column name)": "160"
                                },
                                {
                                    "LOGIN": "julia4",
                                    "SZALL_MOD": "Posta",
                                    "(No column name)": "4"
                                },
                                {
                                    "LOGIN": "julianna4",
                                    "SZALL_MOD": "Posta",
                                    "(No column name)": "12"
                                },
                                {
                                    "LOGIN": "kata",
                                    "SZALL_MOD": "Posta",
                                    "(No column name)": "4"
                                },
                                {
                                    "LOGIN": "katalin",
                                    "SZALL_MOD": "Posta",
                                    "(No column name)": "7"
                                },
                                {
                                    "LOGIN": "katalin4",
                                    "SZALL_MOD": "Posta",
                                    "(No column name)": "5"
                                },
                                {
                                    "LOGIN": "kati",
                                    "SZALL_MOD": "Posta",
                                    "(No column name)": "5"
                                },
                                {
                                    "LOGIN": "katka",
                                    "SZALL_MOD": "Posta",
                                    "(No column name)": "6"
                                },
                                {
                                    "LOGIN": "klaudia2",
                                    "SZALL_MOD": "Posta",
                                    "(No column name)": "9"
                                },
                                {
                                    "LOGIN": "kornel4",
                                    "SZALL_MOD": "Posta",
                                    "(No column name)": "1"
                                },
                                {
                                    "LOGIN": "kristof4",
                                    "SZALL_MOD": "Posta",
                                    "(No column name)": "4"
                                },
                                {
                                    "LOGIN": "kriszti",
                                    "SZALL_MOD": "Posta",
                                    "(No column name)": "5"
                                },
                                {
                                    "LOGIN": "krisztian4",
                                    "SZALL_MOD": "Posta",
                                    "(No column name)": "6"
                                },
                                {
                                    "LOGIN": "KRISZTIANM",
                                    "SZALL_MOD": "Posta",
                                    "(No column name)": "136"
                                },
                                {
                                    "LOGIN": "krisztina",
                                    "SZALL_MOD": "Posta",
                                    "(No column name)": "150"
                                },
                                {
                                    "LOGIN": "krisztina1",
                                    "SZALL_MOD": "Posta",
                                    "(No column name)": "4"
                                },
                                {
                                    "LOGIN": "KRISZTINAG",
                                    "SZALL_MOD": "Posta",
                                    "(No column name)": "6"
                                },
                                {
                                    "LOGIN": "lajos",
                                    "SZALL_MOD": "Posta",
                                    "(No column name)": "2"
                                },
                                {
                                    "LOGIN": "lala",
                                    "SZALL_MOD": "Posta",
                                    "(No column name)": "3"
                                },
                                {
                                    "LOGIN": "laszlo1",
                                    "SZALL_MOD": "Posta",
                                    "(No column name)": "129"
                                },
                                {
                                    "LOGIN": "laszlo2",
                                    "SZALL_MOD": "Posta",
                                    "(No column name)": "6"
                                },
                                {
                                    "LOGIN": "LASZLOA",
                                    "SZALL_MOD": "Posta",
                                    "(No column name)": "136"
                                },
                                {
                                    "LOGIN": "LASZLON",
                                    "SZALL_MOD": "Posta",
                                    "(No column name)": "131"
                                },
                                {
                                    "LOGIN": "maria1",
                                    "SZALL_MOD": "Posta",
                                    "(No column name)": "5"
                                },
                                {
                                    "LOGIN": "MARKH",
                                    "SZALL_MOD": "Posta",
                                    "(No column name)": "142"
                                },
                                {
                                    "LOGIN": "marton",
                                    "SZALL_MOD": "Posta",
                                    "(No column name)": "4"
                                },
                                {
                                    "LOGIN": "MATEK",
                                    "SZALL_MOD": "Posta",
                                    "(No column name)": "10"
                                },
                                {
                                    "LOGIN": "matyas2",
                                    "SZALL_MOD": "Posta",
                                    "(No column name)": "131"
                                },
                                {
                                    "LOGIN": "MATYASS",
                                    "SZALL_MOD": "Posta",
                                    "(No column name)": "5"
                                },
                                {
                                    "LOGIN": "MIHALYJ",
                                    "SZALL_MOD": "Posta",
                                    "(No column name)": "4"
                                },
                                {
                                    "LOGIN": "miklos2",
                                    "SZALL_MOD": "Posta",
                                    "(No column name)": "4"
                                },
                                {
                                    "LOGIN": "MIKLOSB",
                                    "SZALL_MOD": "Posta",
                                    "(No column name)": "1"
                                },
                                {
                                    "LOGIN": "MONIKAM",
                                    "SZALL_MOD": "Posta",
                                    "(No column name)": "151"
                                },
                                {
                                    "LOGIN": "NANDORF",
                                    "SZALL_MOD": "Posta",
                                    "(No column name)": "139"
                                },
                                {
                                    "LOGIN": "nikolett3",
                                    "SZALL_MOD": "Posta",
                                    "(No column name)": "3"
                                },
                                {
                                    "LOGIN": "nikoletta4",
                                    "SZALL_MOD": "Posta",
                                    "(No column name)": "158"
                                },
                                {
                                    "LOGIN": "NIKOLETTAT",
                                    "SZALL_MOD": "Posta",
                                    "(No column name)": "7"
                                },
                                {
                                    "LOGIN": "norbert2",
                                    "SZALL_MOD": "Posta",
                                    "(No column name)": "4"
                                },
                                {
                                    "LOGIN": "norbert4",
                                    "SZALL_MOD": "Posta",
                                    "(No column name)": "3"
                                },
                                {
                                    "LOGIN": "norbert5",
                                    "SZALL_MOD": "Posta",
                                    "(No column name)": "6"
                                },
                                {
                                    "LOGIN": "pal",
                                    "SZALL_MOD": "Posta",
                                    "(No column name)": "132"
                                },
                                {
                                    "LOGIN": "peter1",
                                    "SZALL_MOD": "Posta",
                                    "(No column name)": "135"
                                },
                                {
                                    "LOGIN": "peter2",
                                    "SZALL_MOD": "Posta",
                                    "(No column name)": "4"
                                },
                                {
                                    "LOGIN": "peter3",
                                    "SZALL_MOD": "Posta",
                                    "(No column name)": "7"
                                },
                                {
                                    "LOGIN": "peter4",
                                    "SZALL_MOD": "Posta",
                                    "(No column name)": "293"
                                },
                                {
                                    "LOGIN": "PETERB",
                                    "SZALL_MOD": "Posta",
                                    "(No column name)": "4"
                                },
                                {
                                    "LOGIN": "polla",
                                    "SZALL_MOD": "Posta",
                                    "(No column name)": "6"
                                },
                                {
                                    "LOGIN": "rajmond4",
                                    "SZALL_MOD": "Posta",
                                    "(No column name)": "5"
                                },
                                {
                                    "LOGIN": "reka4",
                                    "SZALL_MOD": "Posta",
                                    "(No column name)": "4"
                                },
                                {
                                    "LOGIN": "RENATAK",
                                    "SZALL_MOD": "Posta",
                                    "(No column name)": "140"
                                },
                                {
                                    "LOGIN": "RENATAS",
                                    "SZALL_MOD": "Posta",
                                    "(No column name)": "5"
                                },
                                {
                                    "LOGIN": "robert2",
                                    "SZALL_MOD": "Posta",
                                    "(No column name)": "1"
                                },
                                {
                                    "LOGIN": "ROBERTI",
                                    "SZALL_MOD": "Posta",
                                    "(No column name)": "3"
                                },
                                {
                                    "LOGIN": "ROBERTP",
                                    "SZALL_MOD": "Posta",
                                    "(No column name)": "8"
                                },
                                {
                                    "LOGIN": "roland",
                                    "SZALL_MOD": "Posta",
                                    "(No column name)": "157"
                                },
                                {
                                    "LOGIN": "roland1",
                                    "SZALL_MOD": "Posta",
                                    "(No column name)": "155"
                                },
                                {
                                    "LOGIN": "roza2",
                                    "SZALL_MOD": "Posta",
                                    "(No column name)": "2"
                                },
                                {
                                    "LOGIN": "sandor",
                                    "SZALL_MOD": "Posta",
                                    "(No column name)": "6"
                                },
                                {
                                    "LOGIN": "sandor3",
                                    "SZALL_MOD": "Posta",
                                    "(No column name)": "4"
                                },
                                {
                                    "LOGIN": "sandor4",
                                    "SZALL_MOD": "Posta",
                                    "(No column name)": "2"
                                },
                                {
                                    "LOGIN": "sara",
                                    "SZALL_MOD": "Posta",
                                    "(No column name)": "7"
                                },
                                {
                                    "LOGIN": "SEBASTIANF",
                                    "SZALL_MOD": "Posta",
                                    "(No column name)": "3"
                                },
                                {
                                    "LOGIN": "sebestyen",
                                    "SZALL_MOD": "Posta",
                                    "(No column name)": "6"
                                },
                                {
                                    "LOGIN": "szabolcs",
                                    "SZALL_MOD": "Posta",
                                    "(No column name)": "157"
                                },
                                {
                                    "LOGIN": "SZABOLCSM",
                                    "SZALL_MOD": "Posta",
                                    "(No column name)": "153"
                                },
                                {
                                    "LOGIN": "SZILARDS",
                                    "SZALL_MOD": "Posta",
                                    "(No column name)": "131"
                                },
                                {
                                    "LOGIN": "szilvia1",
                                    "SZALL_MOD": "Posta",
                                    "(No column name)": "151"
                                },
                                {
                                    "LOGIN": "tamara2",
                                    "SZALL_MOD": "Posta",
                                    "(No column name)": "4"
                                },
                                {
                                    "LOGIN": "tamas",
                                    "SZALL_MOD": "Posta",
                                    "(No column name)": "156"
                                },
                                {
                                    "LOGIN": "TAMASF",
                                    "SZALL_MOD": "Posta",
                                    "(No column name)": "145"
                                },
                                {
                                    "LOGIN": "tibor",
                                    "SZALL_MOD": "Posta",
                                    "(No column name)": "129"
                                },
                                {
                                    "LOGIN": "tibor2",
                                    "SZALL_MOD": "Posta",
                                    "(No column name)": "7"
                                },
                                {
                                    "LOGIN": "tihamer",
                                    "SZALL_MOD": "Posta",
                                    "(No column name)": "6"
                                },
                                {
                                    "LOGIN": "timea",
                                    "SZALL_MOD": "Posta",
                                    "(No column name)": "23"
                                },
                                {
                                    "LOGIN": "timea2",
                                    "SZALL_MOD": "Posta",
                                    "(No column name)": "5"
                                },
                                {
                                    "LOGIN": "tunde",
                                    "SZALL_MOD": "Posta",
                                    "(No column name)": "6"
                                },
                                {
                                    "LOGIN": "valentin",
                                    "SZALL_MOD": "Posta",
                                    "(No column name)": "5"
                                },
                                {
                                    "LOGIN": "veronika4",
                                    "SZALL_MOD": "Posta",
                                    "(No column name)": "6"
                                },
                                {
                                    "LOGIN": "VIKTORIAU",
                                    "SZALL_MOD": "Posta",
                                    "(No column name)": "4"
                                },
                                {
                                    "LOGIN": "VIKTORK",
                                    "SZALL_MOD": "Posta",
                                    "(No column name)": "6"
                                },
                                {
                                    "LOGIN": "vivien3",
                                    "SZALL_MOD": "Posta",
                                    "(No column name)": "6"
                                },
                                {
                                    "LOGIN": "zoltan",
                                    "SZALL_MOD": "Posta",
                                    "(No column name)": "3"
                                },
                                {
                                    "LOGIN": "zoltan4",
                                    "SZALL_MOD": "Posta",
                                    "(No column name)": "124"
                                },
                                {
                                    "LOGIN": "ZOLTANP",
                                    "SZALL_MOD": "Posta",
                                    "(No column name)": "3"
                                },
                                {
                                    "LOGIN": "ZOLTANT",
                                    "SZALL_MOD": "Posta",
                                    "(No column name)": "107"
                                },
                                {
                                    "LOGIN": "zsofi1",
                                    "SZALL_MOD": "Posta",
                                    "(No column name)": "6"
                                },
                                {
                                    "LOGIN": "zsolt1",
                                    "SZALL_MOD": "Posta",
                                    "(No column name)": "6"
                                },
                                {
                                    "LOGIN": "ZSOLTJ",
                                    "SZALL_MOD": "Posta",
                                    "(No column name)": "8"
                                },
                                {
                                    "LOGIN": "zsuzsa",
                                    "SZALL_MOD": "Posta",
                                    "(No column name)": "5"
                                },
                                {
                                    "LOGIN": "zsuzsa3",
                                    "SZALL_MOD": "Posta",
                                    "(No column name)": "5"
                                },
                                {
                                    "LOGIN": "zsuzsanna",
                                    "SZALL_MOD": "Posta",
                                    "(No column name)": "5"
                                },
                                {
                                    "LOGIN": "ZSUZSAV",
                                    "SZALL_MOD": "Posta",
                                    "(No column name)": "139"
                                },
                                {
                                    "LOGIN": "NULL",
                                    "SZALL_MOD": "Posta",
                                    "(No column name)": "9191"
                                },
                                {
                                    "LOGIN": "adam1",
                                    "SZALL_MOD": "Személyes átvétel",
                                    "(No column name)": "131"
                                },
                                {
                                    "LOGIN": "adam3",
                                    "SZALL_MOD": "Személyes átvétel",
                                    "(No column name)": "2"
                                },
                                {
                                    "LOGIN": "adam4",
                                    "SZALL_MOD": "Személyes átvétel",
                                    "(No column name)": "11"
                                },
                                {
                                    "LOGIN": "agnes",
                                    "SZALL_MOD": "Személyes átvétel",
                                    "(No column name)": "144"
                                },
                                {
                                    "LOGIN": "agnes3",
                                    "SZALL_MOD": "Személyes átvétel",
                                    "(No column name)": "136"
                                },
                                {
                                    "LOGIN": "AGNESH",
                                    "SZALL_MOD": "Személyes átvétel",
                                    "(No column name)": "6"
                                },
                                {
                                    "LOGIN": "AGNESK",
                                    "SZALL_MOD": "Személyes átvétel",
                                    "(No column name)": "7"
                                },
                                {
                                    "LOGIN": "akos",
                                    "SZALL_MOD": "Személyes átvétel",
                                    "(No column name)": "140"
                                },
                                {
                                    "LOGIN": "aladar",
                                    "SZALL_MOD": "Személyes átvétel",
                                    "(No column name)": "118"
                                },
                                {
                                    "LOGIN": "alexandra",
                                    "SZALL_MOD": "Személyes átvétel",
                                    "(No column name)": "5"
                                },
                                {
                                    "LOGIN": "andi",
                                    "SZALL_MOD": "Személyes átvétel",
                                    "(No column name)": "7"
                                },
                                {
                                    "LOGIN": "andras2",
                                    "SZALL_MOD": "Személyes átvétel",
                                    "(No column name)": "11"
                                },
                                {
                                    "LOGIN": "andras21",
                                    "SZALL_MOD": "Személyes átvétel",
                                    "(No column name)": "126"
                                },
                                {
                                    "LOGIN": "andras3",
                                    "SZALL_MOD": "Személyes átvétel",
                                    "(No column name)": "5"
                                },
                                {
                                    "LOGIN": "andras4",
                                    "SZALL_MOD": "Személyes átvétel",
                                    "(No column name)": "4"
                                },
                                {
                                    "LOGIN": "andras41",
                                    "SZALL_MOD": "Személyes átvétel",
                                    "(No column name)": "133"
                                },
                                {
                                    "LOGIN": "ANDRASE",
                                    "SZALL_MOD": "Személyes átvétel",
                                    "(No column name)": "136"
                                },
                                {
                                    "LOGIN": "ANDRASN",
                                    "SZALL_MOD": "Személyes átvétel",
                                    "(No column name)": "5"
                                },
                                {
                                    "LOGIN": "andrea",
                                    "SZALL_MOD": "Személyes átvétel",
                                    "(No column name)": "8"
                                },
                                {
                                    "LOGIN": "andrea3",
                                    "SZALL_MOD": "Személyes átvétel",
                                    "(No column name)": "146"
                                },
                                {
                                    "LOGIN": "andrea4",
                                    "SZALL_MOD": "Személyes átvétel",
                                    "(No column name)": "7"
                                },
                                {
                                    "LOGIN": "ANDREAT",
                                    "SZALL_MOD": "Személyes átvétel",
                                    "(No column name)": "12"
                                },
                                {
                                    "LOGIN": "anett3",
                                    "SZALL_MOD": "Személyes átvétel",
                                    "(No column name)": "9"
                                },
                                {
                                    "LOGIN": "aniko",
                                    "SZALL_MOD": "Személyes átvétel",
                                    "(No column name)": "138"
                                },
                                {
                                    "LOGIN": "aniko4",
                                    "SZALL_MOD": "Személyes átvétel",
                                    "(No column name)": "3"
                                },
                                {
                                    "LOGIN": "ANIKOS",
                                    "SZALL_MOD": "Személyes átvétel",
                                    "(No column name)": "150"
                                },
                                {
                                    "LOGIN": "anita",
                                    "SZALL_MOD": "Személyes átvétel",
                                    "(No column name)": "5"
                                },
                                {
                                    "LOGIN": "annamaria1",
                                    "SZALL_MOD": "Személyes átvétel",
                                    "(No column name)": "7"
                                },
                                {
                                    "LOGIN": "ANNAMARIAR",
                                    "SZALL_MOD": "Személyes átvétel",
                                    "(No column name)": "3"
                                },
                                {
                                    "LOGIN": "aron2",
                                    "SZALL_MOD": "Személyes átvétel",
                                    "(No column name)": "144"
                                },
                                {
                                    "LOGIN": "ARONK",
                                    "SZALL_MOD": "Személyes átvétel",
                                    "(No column name)": "155"
                                },
                                {
                                    "LOGIN": "arpad2",
                                    "SZALL_MOD": "Személyes átvétel",
                                    "(No column name)": "10"
                                },
                                {
                                    "LOGIN": "ARPADH",
                                    "SZALL_MOD": "Személyes átvétel",
                                    "(No column name)": "5"
                                },
                                {
                                    "LOGIN": "ARPADM",
                                    "SZALL_MOD": "Személyes átvétel",
                                    "(No column name)": "7"
                                },
                                {
                                    "LOGIN": "attila1",
                                    "SZALL_MOD": "Személyes átvétel",
                                    "(No column name)": "6"
                                },
                                {
                                    "LOGIN": "attila4",
                                    "SZALL_MOD": "Személyes átvétel",
                                    "(No column name)": "141"
                                },
                                {
                                    "LOGIN": "ATTILAO",
                                    "SZALL_MOD": "Személyes átvétel",
                                    "(No column name)": "6"
                                },
                                {
                                    "LOGIN": "balazs1",
                                    "SZALL_MOD": "Személyes átvétel",
                                    "(No column name)": "155"
                                },
                                {
                                    "LOGIN": "balazs2",
                                    "SZALL_MOD": "Személyes átvétel",
                                    "(No column name)": "5"
                                },
                                {
                                    "LOGIN": "balazs3",
                                    "SZALL_MOD": "Személyes átvétel",
                                    "(No column name)": "3"
                                },
                                {
                                    "LOGIN": "balint",
                                    "SZALL_MOD": "Személyes átvétel",
                                    "(No column name)": "2"
                                },
                                {
                                    "LOGIN": "balint1",
                                    "SZALL_MOD": "Személyes átvétel",
                                    "(No column name)": "152"
                                },
                                {
                                    "LOGIN": "balint2",
                                    "SZALL_MOD": "Személyes átvétel",
                                    "(No column name)": "3"
                                },
                                {
                                    "LOGIN": "balu",
                                    "SZALL_MOD": "Személyes átvétel",
                                    "(No column name)": "123"
                                },
                                {
                                    "LOGIN": "BEATRIXK",
                                    "SZALL_MOD": "Személyes átvétel",
                                    "(No column name)": "145"
                                },
                                {
                                    "LOGIN": "BEATRIXS",
                                    "SZALL_MOD": "Személyes átvétel",
                                    "(No column name)": "133"
                                },
                                {
                                    "LOGIN": "BELAF",
                                    "SZALL_MOD": "Személyes átvétel",
                                    "(No column name)": "5"
                                },
                                {
                                    "LOGIN": "bence",
                                    "SZALL_MOD": "Személyes átvétel",
                                    "(No column name)": "8"
                                },
                                {
                                    "LOGIN": "BENCEB",
                                    "SZALL_MOD": "Személyes átvétel",
                                    "(No column name)": "5"
                                },
                                {
                                    "LOGIN": "bernadett1",
                                    "SZALL_MOD": "Személyes átvétel",
                                    "(No column name)": "5"
                                },
                                {
                                    "LOGIN": "bernadett2",
                                    "SZALL_MOD": "Személyes átvétel",
                                    "(No column name)": "7"
                                },
                                {
                                    "LOGIN": "BERNADETTO",
                                    "SZALL_MOD": "Személyes átvétel",
                                    "(No column name)": "7"
                                },
                                {
                                    "LOGIN": "bertalan",
                                    "SZALL_MOD": "Személyes átvétel",
                                    "(No column name)": "101"
                                },
                                {
                                    "LOGIN": "brigitta",
                                    "SZALL_MOD": "Személyes átvétel",
                                    "(No column name)": "119"
                                },
                                {
                                    "LOGIN": "brigitta3",
                                    "SZALL_MOD": "Személyes átvétel",
                                    "(No column name)": "139"
                                },
                                {
                                    "LOGIN": "csongor3",
                                    "SZALL_MOD": "Személyes átvétel",
                                    "(No column name)": "8"
                                },
                                {
                                    "LOGIN": "dani",
                                    "SZALL_MOD": "Személyes átvétel",
                                    "(No column name)": "8"
                                },
                                {
                                    "LOGIN": "daniel",
                                    "SZALL_MOD": "Személyes átvétel",
                                    "(No column name)": "4"
                                },
                                {
                                    "LOGIN": "daniel1",
                                    "SZALL_MOD": "Személyes átvétel",
                                    "(No column name)": "132"
                                },
                                {
                                    "LOGIN": "david",
                                    "SZALL_MOD": "Személyes átvétel",
                                    "(No column name)": "146"
                                },
                                {
                                    "LOGIN": "david1",
                                    "SZALL_MOD": "Személyes átvétel",
                                    "(No column name)": "8"
                                },
                                {
                                    "LOGIN": "david4",
                                    "SZALL_MOD": "Személyes átvétel",
                                    "(No column name)": "10"
                                },
                                {
                                    "LOGIN": "debora",
                                    "SZALL_MOD": "Személyes átvétel",
                                    "(No column name)": "3"
                                },
                                {
                                    "LOGIN": "denes",
                                    "SZALL_MOD": "Személyes átvétel",
                                    "(No column name)": "4"
                                },
                                {
                                    "LOGIN": "dora3",
                                    "SZALL_MOD": "Személyes átvétel",
                                    "(No column name)": "164"
                                },
                                {
                                    "LOGIN": "edit",
                                    "SZALL_MOD": "Személyes átvétel",
                                    "(No column name)": "4"
                                },
                                {
                                    "LOGIN": "emese",
                                    "SZALL_MOD": "Személyes átvétel",
                                    "(No column name)": "142"
                                },
                                {
                                    "LOGIN": "eszter2",
                                    "SZALL_MOD": "Személyes átvétel",
                                    "(No column name)": "152"
                                },
                                {
                                    "LOGIN": "eszter4",
                                    "SZALL_MOD": "Személyes átvétel",
                                    "(No column name)": "149"
                                },
                                {
                                    "LOGIN": "ESZTERE",
                                    "SZALL_MOD": "Személyes átvétel",
                                    "(No column name)": "7"
                                },
                                {
                                    "LOGIN": "eva",
                                    "SZALL_MOD": "Személyes átvétel",
                                    "(No column name)": "139"
                                },
                                {
                                    "LOGIN": "eva2",
                                    "SZALL_MOD": "Személyes átvétel",
                                    "(No column name)": "170"
                                },
                                {
                                    "LOGIN": "EVAV",
                                    "SZALL_MOD": "Személyes átvétel",
                                    "(No column name)": "4"
                                },
                                {
                                    "LOGIN": "ferenc1",
                                    "SZALL_MOD": "Személyes átvétel",
                                    "(No column name)": "135"
                                },
                                {
                                    "LOGIN": "fruzsina4",
                                    "SZALL_MOD": "Személyes átvétel",
                                    "(No column name)": "7"
                                },
                                {
                                    "LOGIN": "gabor1",
                                    "SZALL_MOD": "Személyes átvétel",
                                    "(No column name)": "5"
                                },
                                {
                                    "LOGIN": "gabor4",
                                    "SZALL_MOD": "Személyes átvétel",
                                    "(No column name)": "4"
                                },
                                {
                                    "LOGIN": "GABORS",
                                    "SZALL_MOD": "Személyes átvétel",
                                    "(No column name)": "4"
                                },
                                {
                                    "LOGIN": "gabriella1",
                                    "SZALL_MOD": "Személyes átvétel",
                                    "(No column name)": "5"
                                },
                                {
                                    "LOGIN": "gabriella10",
                                    "SZALL_MOD": "Személyes átvétel",
                                    "(No column name)": "7"
                                },
                                {
                                    "LOGIN": "georgij",
                                    "SZALL_MOD": "Személyes átvétel",
                                    "(No column name)": "10"
                                },
                                {
                                    "LOGIN": "gusztav",
                                    "SZALL_MOD": "Személyes átvétel",
                                    "(No column name)": "5"
                                },
                                {
                                    "LOGIN": "GYONGYIK",
                                    "SZALL_MOD": "Személyes átvétel",
                                    "(No column name)": "3"
                                },
                                {
                                    "LOGIN": "GYORGYO",
                                    "SZALL_MOD": "Személyes átvétel",
                                    "(No column name)": "5"
                                },
                                {
                                    "LOGIN": "henrik3",
                                    "SZALL_MOD": "Személyes átvétel",
                                    "(No column name)": "5"
                                },
                                {
                                    "LOGIN": "IBOLYAA",
                                    "SZALL_MOD": "Személyes átvétel",
                                    "(No column name)": "157"
                                },
                                {
                                    "LOGIN": "ilona3",
                                    "SZALL_MOD": "Személyes átvétel",
                                    "(No column name)": "7"
                                },
                                {
                                    "LOGIN": "imre",
                                    "SZALL_MOD": "Személyes átvétel",
                                    "(No column name)": "6"
                                },
                                {
                                    "LOGIN": "imre1",
                                    "SZALL_MOD": "Személyes átvétel",
                                    "(No column name)": "3"
                                },
                                {
                                    "LOGIN": "istvan",
                                    "SZALL_MOD": "Személyes átvétel",
                                    "(No column name)": "4"
                                },
                                {
                                    "LOGIN": "istvan1",
                                    "SZALL_MOD": "Személyes átvétel",
                                    "(No column name)": "7"
                                },
                                {
                                    "LOGIN": "ISTVANV",
                                    "SZALL_MOD": "Személyes átvétel",
                                    "(No column name)": "8"
                                },
                                {
                                    "LOGIN": "janos3",
                                    "SZALL_MOD": "Személyes átvétel",
                                    "(No column name)": "6"
                                },
                                {
                                    "LOGIN": "JANOSG",
                                    "SZALL_MOD": "Személyes átvétel",
                                    "(No column name)": "4"
                                },
                                {
                                    "LOGIN": "JANOSP",
                                    "SZALL_MOD": "Személyes átvétel",
                                    "(No column name)": "3"
                                },
                                {
                                    "LOGIN": "jozsef",
                                    "SZALL_MOD": "Személyes átvétel",
                                    "(No column name)": "134"
                                },
                                {
                                    "LOGIN": "jozsef2",
                                    "SZALL_MOD": "Személyes átvétel",
                                    "(No column name)": "4"
                                },
                                {
                                    "LOGIN": "JOZSEFG",
                                    "SZALL_MOD": "Személyes átvétel",
                                    "(No column name)": "9"
                                },
                                {
                                    "LOGIN": "JUDITH",
                                    "SZALL_MOD": "Személyes átvétel",
                                    "(No column name)": "150"
                                },
                                {
                                    "LOGIN": "julia",
                                    "SZALL_MOD": "Személyes átvétel",
                                    "(No column name)": "138"
                                },
                                {
                                    "LOGIN": "julia4",
                                    "SZALL_MOD": "Személyes átvétel",
                                    "(No column name)": "8"
                                },
                                {
                                    "LOGIN": "julianna4",
                                    "SZALL_MOD": "Személyes átvétel",
                                    "(No column name)": "7"
                                },
                                {
                                    "LOGIN": "kata",
                                    "SZALL_MOD": "Személyes átvétel",
                                    "(No column name)": "3"
                                },
                                {
                                    "LOGIN": "katalin",
                                    "SZALL_MOD": "Személyes átvétel",
                                    "(No column name)": "5"
                                },
                                {
                                    "LOGIN": "katalin4",
                                    "SZALL_MOD": "Személyes átvétel",
                                    "(No column name)": "11"
                                },
                                {
                                    "LOGIN": "kati",
                                    "SZALL_MOD": "Személyes átvétel",
                                    "(No column name)": "4"
                                },
                                {
                                    "LOGIN": "katka",
                                    "SZALL_MOD": "Személyes átvétel",
                                    "(No column name)": "10"
                                },
                                {
                                    "LOGIN": "klaudia2",
                                    "SZALL_MOD": "Személyes átvétel",
                                    "(No column name)": "5"
                                },
                                {
                                    "LOGIN": "kornel4",
                                    "SZALL_MOD": "Személyes átvétel",
                                    "(No column name)": "7"
                                },
                                {
                                    "LOGIN": "kristof4",
                                    "SZALL_MOD": "Személyes átvétel",
                                    "(No column name)": "8"
                                },
                                {
                                    "LOGIN": "kriszti",
                                    "SZALL_MOD": "Személyes átvétel",
                                    "(No column name)": "5"
                                },
                                {
                                    "LOGIN": "krisztian4",
                                    "SZALL_MOD": "Személyes átvétel",
                                    "(No column name)": "6"
                                },
                                {
                                    "LOGIN": "KRISZTIANM",
                                    "SZALL_MOD": "Személyes átvétel",
                                    "(No column name)": "130"
                                },
                                {
                                    "LOGIN": "krisztina",
                                    "SZALL_MOD": "Személyes átvétel",
                                    "(No column name)": "157"
                                },
                                {
                                    "LOGIN": "krisztina1",
                                    "SZALL_MOD": "Személyes átvétel",
                                    "(No column name)": "8"
                                },
                                {
                                    "LOGIN": "KRISZTINAG",
                                    "SZALL_MOD": "Személyes átvétel",
                                    "(No column name)": "10"
                                },
                                {
                                    "LOGIN": "lajos",
                                    "SZALL_MOD": "Személyes átvétel",
                                    "(No column name)": "9"
                                },
                                {
                                    "LOGIN": "lala",
                                    "SZALL_MOD": "Személyes átvétel",
                                    "(No column name)": "9"
                                },
                                {
                                    "LOGIN": "laszlo1",
                                    "SZALL_MOD": "Személyes átvétel",
                                    "(No column name)": "135"
                                },
                                {
                                    "LOGIN": "laszlo2",
                                    "SZALL_MOD": "Személyes átvétel",
                                    "(No column name)": "7"
                                },
                                {
                                    "LOGIN": "LASZLOA",
                                    "SZALL_MOD": "Személyes átvétel",
                                    "(No column name)": "154"
                                },
                                {
                                    "LOGIN": "LASZLON",
                                    "SZALL_MOD": "Személyes átvétel",
                                    "(No column name)": "143"
                                },
                                {
                                    "LOGIN": "maria1",
                                    "SZALL_MOD": "Személyes átvétel",
                                    "(No column name)": "1"
                                },
                                {
                                    "LOGIN": "MARKH",
                                    "SZALL_MOD": "Személyes átvétel",
                                    "(No column name)": "142"
                                },
                                {
                                    "LOGIN": "marton",
                                    "SZALL_MOD": "Személyes átvétel",
                                    "(No column name)": "5"
                                },
                                {
                                    "LOGIN": "MATEK",
                                    "SZALL_MOD": "Személyes átvétel",
                                    "(No column name)": "9"
                                },
                                {
                                    "LOGIN": "matyas2",
                                    "SZALL_MOD": "Személyes átvétel",
                                    "(No column name)": "164"
                                },
                                {
                                    "LOGIN": "MATYASS",
                                    "SZALL_MOD": "Személyes átvétel",
                                    "(No column name)": "3"
                                },
                                {
                                    "LOGIN": "MIHALYJ",
                                    "SZALL_MOD": "Személyes átvétel",
                                    "(No column name)": "6"
                                },
                                {
                                    "LOGIN": "miklos2",
                                    "SZALL_MOD": "Személyes átvétel",
                                    "(No column name)": "2"
                                },
                                {
                                    "LOGIN": "MIKLOSB",
                                    "SZALL_MOD": "Személyes átvétel",
                                    "(No column name)": "8"
                                },
                                {
                                    "LOGIN": "MONIKAM",
                                    "SZALL_MOD": "Személyes átvétel",
                                    "(No column name)": "123"
                                },
                                {
                                    "LOGIN": "NANDORF",
                                    "SZALL_MOD": "Személyes átvétel",
                                    "(No column name)": "134"
                                },
                                {
                                    "LOGIN": "nikolett3",
                                    "SZALL_MOD": "Személyes átvétel",
                                    "(No column name)": "10"
                                },
                                {
                                    "LOGIN": "nikoletta4",
                                    "SZALL_MOD": "Személyes átvétel",
                                    "(No column name)": "119"
                                },
                                {
                                    "LOGIN": "NIKOLETTAT",
                                    "SZALL_MOD": "Személyes átvétel",
                                    "(No column name)": "5"
                                },
                                {
                                    "LOGIN": "norbert4",
                                    "SZALL_MOD": "Személyes átvétel",
                                    "(No column name)": "9"
                                },
                                {
                                    "LOGIN": "norbert5",
                                    "SZALL_MOD": "Személyes átvétel",
                                    "(No column name)": "9"
                                },
                                {
                                    "LOGIN": "pal",
                                    "SZALL_MOD": "Személyes átvétel",
                                    "(No column name)": "154"
                                },
                                {
                                    "LOGIN": "peter1",
                                    "SZALL_MOD": "Személyes átvétel",
                                    "(No column name)": "126"
                                },
                                {
                                    "LOGIN": "peter2",
                                    "SZALL_MOD": "Személyes átvétel",
                                    "(No column name)": "7"
                                },
                                {
                                    "LOGIN": "peter3",
                                    "SZALL_MOD": "Személyes átvétel",
                                    "(No column name)": "10"
                                },
                                {
                                    "LOGIN": "peter4",
                                    "SZALL_MOD": "Személyes átvétel",
                                    "(No column name)": "293"
                                },
                                {
                                    "LOGIN": "PETERB",
                                    "SZALL_MOD": "Személyes átvétel",
                                    "(No column name)": "9"
                                },
                                {
                                    "LOGIN": "polla",
                                    "SZALL_MOD": "Személyes átvétel",
                                    "(No column name)": "7"
                                },
                                {
                                    "LOGIN": "rajmond4",
                                    "SZALL_MOD": "Személyes átvétel",
                                    "(No column name)": "6"
                                },
                                {
                                    "LOGIN": "reka4",
                                    "SZALL_MOD": "Személyes átvétel",
                                    "(No column name)": "11"
                                },
                                {
                                    "LOGIN": "RENATAK",
                                    "SZALL_MOD": "Személyes átvétel",
                                    "(No column name)": "147"
                                },
                                {
                                    "LOGIN": "RENATAS",
                                    "SZALL_MOD": "Személyes átvétel",
                                    "(No column name)": "5"
                                },
                                {
                                    "LOGIN": "robert2",
                                    "SZALL_MOD": "Személyes átvétel",
                                    "(No column name)": "7"
                                },
                                {
                                    "LOGIN": "ROBERTI",
                                    "SZALL_MOD": "Személyes átvétel",
                                    "(No column name)": "5"
                                },
                                {
                                    "LOGIN": "ROBERTP",
                                    "SZALL_MOD": "Személyes átvétel",
                                    "(No column name)": "10"
                                },
                                {
                                    "LOGIN": "roland",
                                    "SZALL_MOD": "Személyes átvétel",
                                    "(No column name)": "125"
                                },
                                {
                                    "LOGIN": "roland1",
                                    "SZALL_MOD": "Személyes átvétel",
                                    "(No column name)": "135"
                                },
                                {
                                    "LOGIN": "roza2",
                                    "SZALL_MOD": "Személyes átvétel",
                                    "(No column name)": "3"
                                },
                                {
                                    "LOGIN": "sandor",
                                    "SZALL_MOD": "Személyes átvétel",
                                    "(No column name)": "7"
                                },
                                {
                                    "LOGIN": "sandor3",
                                    "SZALL_MOD": "Személyes átvétel",
                                    "(No column name)": "6"
                                },
                                {
                                    "LOGIN": "sandor4",
                                    "SZALL_MOD": "Személyes átvétel",
                                    "(No column name)": "5"
                                },
                                {
                                    "LOGIN": "sara",
                                    "SZALL_MOD": "Személyes átvétel",
                                    "(No column name)": "9"
                                },
                                {
                                    "LOGIN": "SEBASTIANF",
                                    "SZALL_MOD": "Személyes átvétel",
                                    "(No column name)": "6"
                                },
                                {
                                    "LOGIN": "sebestyen",
                                    "SZALL_MOD": "Személyes átvétel",
                                    "(No column name)": "6"
                                },
                                {
                                    "LOGIN": "szabolcs",
                                    "SZALL_MOD": "Személyes átvétel",
                                    "(No column name)": "169"
                                },
                                {
                                    "LOGIN": "SZABOLCSM",
                                    "SZALL_MOD": "Személyes átvétel",
                                    "(No column name)": "129"
                                },
                                {
                                    "LOGIN": "SZILARDS",
                                    "SZALL_MOD": "Személyes átvétel",
                                    "(No column name)": "111"
                                },
                                {
                                    "LOGIN": "szilvia1",
                                    "SZALL_MOD": "Személyes átvétel",
                                    "(No column name)": "138"
                                },
                                {
                                    "LOGIN": "tamara2",
                                    "SZALL_MOD": "Személyes átvétel",
                                    "(No column name)": "3"
                                },
                                {
                                    "LOGIN": "tamas",
                                    "SZALL_MOD": "Személyes átvétel",
                                    "(No column name)": "122"
                                },
                                {
                                    "LOGIN": "TAMASF",
                                    "SZALL_MOD": "Személyes átvétel",
                                    "(No column name)": "129"
                                },
                                {
                                    "LOGIN": "tibor",
                                    "SZALL_MOD": "Személyes átvétel",
                                    "(No column name)": "130"
                                },
                                {
                                    "LOGIN": "tibor2",
                                    "SZALL_MOD": "Személyes átvétel",
                                    "(No column name)": "11"
                                },
                                {
                                    "LOGIN": "tihamer",
                                    "SZALL_MOD": "Személyes átvétel",
                                    "(No column name)": "5"
                                },
                                {
                                    "LOGIN": "timea",
                                    "SZALL_MOD": "Személyes átvétel",
                                    "(No column name)": "18"
                                },
                                {
                                    "LOGIN": "timea2",
                                    "SZALL_MOD": "Személyes átvétel",
                                    "(No column name)": "10"
                                },
                                {
                                    "LOGIN": "tunde",
                                    "SZALL_MOD": "Személyes átvétel",
                                    "(No column name)": "4"
                                },
                                {
                                    "LOGIN": "valentin",
                                    "SZALL_MOD": "Személyes átvétel",
                                    "(No column name)": "3"
                                },
                                {
                                    "LOGIN": "veronika4",
                                    "SZALL_MOD": "Személyes átvétel",
                                    "(No column name)": "7"
                                },
                                {
                                    "LOGIN": "VIKTORIAU",
                                    "SZALL_MOD": "Személyes átvétel",
                                    "(No column name)": "5"
                                },
                                {
                                    "LOGIN": "VIKTORK",
                                    "SZALL_MOD": "Személyes átvétel",
                                    "(No column name)": "6"
                                },
                                {
                                    "LOGIN": "vivien3",
                                    "SZALL_MOD": "Személyes átvétel",
                                    "(No column name)": "7"
                                },
                                {
                                    "LOGIN": "zoltan",
                                    "SZALL_MOD": "Személyes átvétel",
                                    "(No column name)": "7"
                                },
                                {
                                    "LOGIN": "zoltan4",
                                    "SZALL_MOD": "Személyes átvétel",
                                    "(No column name)": "171"
                                },
                                {
                                    "LOGIN": "ZOLTANP",
                                    "SZALL_MOD": "Személyes átvétel",
                                    "(No column name)": "4"
                                },
                                {
                                    "LOGIN": "ZOLTANT",
                                    "SZALL_MOD": "Személyes átvétel",
                                    "(No column name)": "123"
                                },
                                {
                                    "LOGIN": "zsofi1",
                                    "SZALL_MOD": "Személyes átvétel",
                                    "(No column name)": "6"
                                },
                                {
                                    "LOGIN": "zsolt1",
                                    "SZALL_MOD": "Személyes átvétel",
                                    "(No column name)": "3"
                                },
                                {
                                    "LOGIN": "ZSOLTJ",
                                    "SZALL_MOD": "Személyes átvétel",
                                    "(No column name)": "9"
                                },
                                {
                                    "LOGIN": "zsuzsa",
                                    "SZALL_MOD": "Személyes átvétel",
                                    "(No column name)": "3"
                                },
                                {
                                    "LOGIN": "zsuzsa3",
                                    "SZALL_MOD": "Személyes átvétel",
                                    "(No column name)": "6"
                                },
                                {
                                    "LOGIN": "zsuzsanna",
                                    "SZALL_MOD": "Személyes átvétel",
                                    "(No column name)": "3"
                                },
                                {
                                    "LOGIN": "ZSUZSAV",
                                    "SZALL_MOD": "Személyes átvétel",
                                    "(No column name)": "142"
                                },
                                {
                                    "LOGIN": "NULL",
                                    "SZALL_MOD": "Személyes átvétel",
                                    "(No column name)": "9468"
                                },
                                {
                                    "LOGIN": "NULL",
                                    "SZALL_MOD": "NULL",
                                    "(No column name)": "28085"
                                },
                                {
                                    "LOGIN": "adam1",
                                    "SZALL_MOD": "NULL",
                                    "(No column name)": "392"
                                },
                                {
                                    "LOGIN": "adam3",
                                    "SZALL_MOD": "NULL",
                                    "(No column name)": "15"
                                },
                                {
                                    "LOGIN": "adam4",
                                    "SZALL_MOD": "NULL",
                                    "(No column name)": "29"
                                },
                                {
                                    "LOGIN": "agnes",
                                    "SZALL_MOD": "NULL",
                                    "(No column name)": "418"
                                },
                                {
                                    "LOGIN": "agnes3",
                                    "SZALL_MOD": "NULL",
                                    "(No column name)": "430"
                                },
                                {
                                    "LOGIN": "AGNESH",
                                    "SZALL_MOD": "NULL",
                                    "(No column name)": "11"
                                },
                                {
                                    "LOGIN": "AGNESK",
                                    "SZALL_MOD": "NULL",
                                    "(No column name)": "15"
                                },
                                {
                                    "LOGIN": "akos",
                                    "SZALL_MOD": "NULL",
                                    "(No column name)": "429"
                                },
                                {
                                    "LOGIN": "aladar",
                                    "SZALL_MOD": "NULL",
                                    "(No column name)": "408"
                                },
                                {
                                    "LOGIN": "alexandra",
                                    "SZALL_MOD": "NULL",
                                    "(No column name)": "19"
                                },
                                {
                                    "LOGIN": "andi",
                                    "SZALL_MOD": "NULL",
                                    "(No column name)": "18"
                                },
                                {
                                    "LOGIN": "andras2",
                                    "SZALL_MOD": "NULL",
                                    "(No column name)": "22"
                                },
                                {
                                    "LOGIN": "andras21",
                                    "SZALL_MOD": "NULL",
                                    "(No column name)": "390"
                                },
                                {
                                    "LOGIN": "andras3",
                                    "SZALL_MOD": "NULL",
                                    "(No column name)": "9"
                                },
                                {
                                    "LOGIN": "andras4",
                                    "SZALL_MOD": "NULL",
                                    "(No column name)": "12"
                                },
                                {
                                    "LOGIN": "andras41",
                                    "SZALL_MOD": "NULL",
                                    "(No column name)": "419"
                                },
                                {
                                    "LOGIN": "ANDRASE",
                                    "SZALL_MOD": "NULL",
                                    "(No column name)": "436"
                                },
                                {
                                    "LOGIN": "ANDRASN",
                                    "SZALL_MOD": "NULL",
                                    "(No column name)": "24"
                                },
                                {
                                    "LOGIN": "andrea",
                                    "SZALL_MOD": "NULL",
                                    "(No column name)": "24"
                                },
                                {
                                    "LOGIN": "andrea3",
                                    "SZALL_MOD": "NULL",
                                    "(No column name)": "413"
                                },
                                {
                                    "LOGIN": "andrea4",
                                    "SZALL_MOD": "NULL",
                                    "(No column name)": "18"
                                },
                                {
                                    "LOGIN": "ANDREAT",
                                    "SZALL_MOD": "NULL",
                                    "(No column name)": "21"
                                },
                                {
                                    "LOGIN": "anett3",
                                    "SZALL_MOD": "NULL",
                                    "(No column name)": "18"
                                },
                                {
                                    "LOGIN": "aniko",
                                    "SZALL_MOD": "NULL",
                                    "(No column name)": "403"
                                },
                                {
                                    "LOGIN": "aniko4",
                                    "SZALL_MOD": "NULL",
                                    "(No column name)": "15"
                                },
                                {
                                    "LOGIN": "ANIKOS",
                                    "SZALL_MOD": "NULL",
                                    "(No column name)": "404"
                                },
                                {
                                    "LOGIN": "anita",
                                    "SZALL_MOD": "NULL",
                                    "(No column name)": "12"
                                },
                                {
                                    "LOGIN": "annamaria1",
                                    "SZALL_MOD": "NULL",
                                    "(No column name)": "16"
                                },
                                {
                                    "LOGIN": "ANNAMARIAR",
                                    "SZALL_MOD": "NULL",
                                    "(No column name)": "13"
                                },
                                {
                                    "LOGIN": "aron2",
                                    "SZALL_MOD": "NULL",
                                    "(No column name)": "409"
                                },
                                {
                                    "LOGIN": "ARONK",
                                    "SZALL_MOD": "NULL",
                                    "(No column name)": "430"
                                },
                                {
                                    "LOGIN": "arpad2",
                                    "SZALL_MOD": "NULL",
                                    "(No column name)": "17"
                                },
                                {
                                    "LOGIN": "ARPADH",
                                    "SZALL_MOD": "NULL",
                                    "(No column name)": "14"
                                },
                                {
                                    "LOGIN": "ARPADM",
                                    "SZALL_MOD": "NULL",
                                    "(No column name)": "16"
                                },
                                {
                                    "LOGIN": "attila1",
                                    "SZALL_MOD": "NULL",
                                    "(No column name)": "18"
                                },
                                {
                                    "LOGIN": "attila4",
                                    "SZALL_MOD": "NULL",
                                    "(No column name)": "401"
                                },
                                {
                                    "LOGIN": "ATTILAO",
                                    "SZALL_MOD": "NULL",
                                    "(No column name)": "14"
                                },
                                {
                                    "LOGIN": "balazs1",
                                    "SZALL_MOD": "NULL",
                                    "(No column name)": "419"
                                },
                                {
                                    "LOGIN": "balazs2",
                                    "SZALL_MOD": "NULL",
                                    "(No column name)": "17"
                                },
                                {
                                    "LOGIN": "balazs3",
                                    "SZALL_MOD": "NULL",
                                    "(No column name)": "15"
                                },
                                {
                                    "LOGIN": "balint",
                                    "SZALL_MOD": "NULL",
                                    "(No column name)": "16"
                                },
                                {
                                    "LOGIN": "balint1",
                                    "SZALL_MOD": "NULL",
                                    "(No column name)": "462"
                                },
                                {
                                    "LOGIN": "balint2",
                                    "SZALL_MOD": "NULL",
                                    "(No column name)": "17"
                                },
                                {
                                    "LOGIN": "balu",
                                    "SZALL_MOD": "NULL",
                                    "(No column name)": "387"
                                },
                                {
                                    "LOGIN": "BEATRIXK",
                                    "SZALL_MOD": "NULL",
                                    "(No column name)": "435"
                                },
                                {
                                    "LOGIN": "BEATRIXS",
                                    "SZALL_MOD": "NULL",
                                    "(No column name)": "420"
                                },
                                {
                                    "LOGIN": "BELAF",
                                    "SZALL_MOD": "NULL",
                                    "(No column name)": "18"
                                },
                                {
                                    "LOGIN": "bence",
                                    "SZALL_MOD": "NULL",
                                    "(No column name)": "18"
                                },
                                {
                                    "LOGIN": "BENCEB",
                                    "SZALL_MOD": "NULL",
                                    "(No column name)": "17"
                                },
                                {
                                    "LOGIN": "bernadett1",
                                    "SZALL_MOD": "NULL",
                                    "(No column name)": "20"
                                },
                                {
                                    "LOGIN": "bernadett2",
                                    "SZALL_MOD": "NULL",
                                    "(No column name)": "15"
                                },
                                {
                                    "LOGIN": "BERNADETTO",
                                    "SZALL_MOD": "NULL",
                                    "(No column name)": "16"
                                },
                                {
                                    "LOGIN": "bertalan",
                                    "SZALL_MOD": "NULL",
                                    "(No column name)": "353"
                                },
                                {
                                    "LOGIN": "brigitta",
                                    "SZALL_MOD": "NULL",
                                    "(No column name)": "393"
                                },
                                {
                                    "LOGIN": "brigitta3",
                                    "SZALL_MOD": "NULL",
                                    "(No column name)": "413"
                                },
                                {
                                    "LOGIN": "csongor3",
                                    "SZALL_MOD": "NULL",
                                    "(No column name)": "15"
                                },
                                {
                                    "LOGIN": "dani",
                                    "SZALL_MOD": "NULL",
                                    "(No column name)": "13"
                                },
                                {
                                    "LOGIN": "daniel",
                                    "SZALL_MOD": "NULL",
                                    "(No column name)": "13"
                                },
                                {
                                    "LOGIN": "daniel1",
                                    "SZALL_MOD": "NULL",
                                    "(No column name)": "419"
                                },
                                {
                                    "LOGIN": "david",
                                    "SZALL_MOD": "NULL",
                                    "(No column name)": "451"
                                },
                                {
                                    "LOGIN": "david1",
                                    "SZALL_MOD": "NULL",
                                    "(No column name)": "17"
                                },
                                {
                                    "LOGIN": "david4",
                                    "SZALL_MOD": "NULL",
                                    "(No column name)": "21"
                                },
                                {
                                    "LOGIN": "debora",
                                    "SZALL_MOD": "NULL",
                                    "(No column name)": "16"
                                },
                                {
                                    "LOGIN": "denes",
                                    "SZALL_MOD": "NULL",
                                    "(No column name)": "9"
                                },
                                {
                                    "LOGIN": "dora3",
                                    "SZALL_MOD": "NULL",
                                    "(No column name)": "432"
                                },
                                {
                                    "LOGIN": "edit",
                                    "SZALL_MOD": "NULL",
                                    "(No column name)": "13"
                                },
                                {
                                    "LOGIN": "emese",
                                    "SZALL_MOD": "NULL",
                                    "(No column name)": "406"
                                },
                                {
                                    "LOGIN": "eszter2",
                                    "SZALL_MOD": "NULL",
                                    "(No column name)": "415"
                                },
                                {
                                    "LOGIN": "eszter4",
                                    "SZALL_MOD": "NULL",
                                    "(No column name)": "424"
                                },
                                {
                                    "LOGIN": "ESZTERE",
                                    "SZALL_MOD": "NULL",
                                    "(No column name)": "22"
                                },
                                {
                                    "LOGIN": "eva",
                                    "SZALL_MOD": "NULL",
                                    "(No column name)": "404"
                                },
                                {
                                    "LOGIN": "eva2",
                                    "SZALL_MOD": "NULL",
                                    "(No column name)": "462"
                                },
                                {
                                    "LOGIN": "EVAV",
                                    "SZALL_MOD": "NULL",
                                    "(No column name)": "7"
                                },
                                {
                                    "LOGIN": "ferenc1",
                                    "SZALL_MOD": "NULL",
                                    "(No column name)": "437"
                                },
                                {
                                    "LOGIN": "fruzsina4",
                                    "SZALL_MOD": "NULL",
                                    "(No column name)": "18"
                                },
                                {
                                    "LOGIN": "gabor1",
                                    "SZALL_MOD": "NULL",
                                    "(No column name)": "19"
                                },
                                {
                                    "LOGIN": "gabor4",
                                    "SZALL_MOD": "NULL",
                                    "(No column name)": "20"
                                },
                                {
                                    "LOGIN": "GABORS",
                                    "SZALL_MOD": "NULL",
                                    "(No column name)": "15"
                                },
                                {
                                    "LOGIN": "gabriella1",
                                    "SZALL_MOD": "NULL",
                                    "(No column name)": "14"
                                },
                                {
                                    "LOGIN": "gabriella10",
                                    "SZALL_MOD": "NULL",
                                    "(No column name)": "16"
                                },
                                {
                                    "LOGIN": "georgij",
                                    "SZALL_MOD": "NULL",
                                    "(No column name)": "21"
                                },
                                {
                                    "LOGIN": "gusztav",
                                    "SZALL_MOD": "NULL",
                                    "(No column name)": "14"
                                },
                                {
                                    "LOGIN": "GYONGYIK",
                                    "SZALL_MOD": "NULL",
                                    "(No column name)": "15"
                                },
                                {
                                    "LOGIN": "GYORGYO",
                                    "SZALL_MOD": "NULL",
                                    "(No column name)": "16"
                                },
                                {
                                    "LOGIN": "henrik3",
                                    "SZALL_MOD": "NULL",
                                    "(No column name)": "16"
                                },
                                {
                                    "LOGIN": "IBOLYAA",
                                    "SZALL_MOD": "NULL",
                                    "(No column name)": "422"
                                },
                                {
                                    "LOGIN": "ilona3",
                                    "SZALL_MOD": "NULL",
                                    "(No column name)": "18"
                                },
                                {
                                    "LOGIN": "imre",
                                    "SZALL_MOD": "NULL",
                                    "(No column name)": "15"
                                },
                                {
                                    "LOGIN": "imre1",
                                    "SZALL_MOD": "NULL",
                                    "(No column name)": "15"
                                },
                                {
                                    "LOGIN": "istvan",
                                    "SZALL_MOD": "NULL",
                                    "(No column name)": "11"
                                },
                                {
                                    "LOGIN": "istvan1",
                                    "SZALL_MOD": "NULL",
                                    "(No column name)": "19"
                                },
                                {
                                    "LOGIN": "ISTVANV",
                                    "SZALL_MOD": "NULL",
                                    "(No column name)": "21"
                                },
                                {
                                    "LOGIN": "janos3",
                                    "SZALL_MOD": "NULL",
                                    "(No column name)": "13"
                                },
                                {
                                    "LOGIN": "JANOSG",
                                    "SZALL_MOD": "NULL",
                                    "(No column name)": "10"
                                },
                                {
                                    "LOGIN": "JANOSP",
                                    "SZALL_MOD": "NULL",
                                    "(No column name)": "17"
                                },
                                {
                                    "LOGIN": "jozsef",
                                    "SZALL_MOD": "NULL",
                                    "(No column name)": "382"
                                },
                                {
                                    "LOGIN": "jozsef2",
                                    "SZALL_MOD": "NULL",
                                    "(No column name)": "13"
                                },
                                {
                                    "LOGIN": "JOZSEFG",
                                    "SZALL_MOD": "NULL",
                                    "(No column name)": "21"
                                },
                                {
                                    "LOGIN": "JUDITH",
                                    "SZALL_MOD": "NULL",
                                    "(No column name)": "450"
                                },
                                {
                                    "LOGIN": "julia",
                                    "SZALL_MOD": "NULL",
                                    "(No column name)": "435"
                                },
                                {
                                    "LOGIN": "julia4",
                                    "SZALL_MOD": "NULL",
                                    "(No column name)": "14"
                                },
                                {
                                    "LOGIN": "julianna4",
                                    "SZALL_MOD": "NULL",
                                    "(No column name)": "27"
                                },
                                {
                                    "LOGIN": "kata",
                                    "SZALL_MOD": "NULL",
                                    "(No column name)": "12"
                                },
                                {
                                    "LOGIN": "katalin",
                                    "SZALL_MOD": "NULL",
                                    "(No column name)": "19"
                                },
                                {
                                    "LOGIN": "katalin4",
                                    "SZALL_MOD": "NULL",
                                    "(No column name)": "23"
                                },
                                {
                                    "LOGIN": "kati",
                                    "SZALL_MOD": "NULL",
                                    "(No column name)": "13"
                                },
                                {
                                    "LOGIN": "katka",
                                    "SZALL_MOD": "NULL",
                                    "(No column name)": "22"
                                },
                                {
                                    "LOGIN": "klaudia2",
                                    "SZALL_MOD": "NULL",
                                    "(No column name)": "17"
                                },
                                {
                                    "LOGIN": "kornel4",
                                    "SZALL_MOD": "NULL",
                                    "(No column name)": "11"
                                },
                                {
                                    "LOGIN": "kristof4",
                                    "SZALL_MOD": "NULL",
                                    "(No column name)": "21"
                                },
                                {
                                    "LOGIN": "kriszti",
                                    "SZALL_MOD": "NULL",
                                    "(No column name)": "13"
                                },
                                {
                                    "LOGIN": "krisztian4",
                                    "SZALL_MOD": "NULL",
                                    "(No column name)": "17"
                                },
                                {
                                    "LOGIN": "KRISZTIANM",
                                    "SZALL_MOD": "NULL",
                                    "(No column name)": "384"
                                },
                                {
                                    "LOGIN": "krisztina",
                                    "SZALL_MOD": "NULL",
                                    "(No column name)": "456"
                                },
                                {
                                    "LOGIN": "krisztina1",
                                    "SZALL_MOD": "NULL",
                                    "(No column name)": "22"
                                },
                                {
                                    "LOGIN": "KRISZTINAG",
                                    "SZALL_MOD": "NULL",
                                    "(No column name)": "22"
                                },
                                {
                                    "LOGIN": "lajos",
                                    "SZALL_MOD": "NULL",
                                    "(No column name)": "16"
                                },
                                {
                                    "LOGIN": "lala",
                                    "SZALL_MOD": "NULL",
                                    "(No column name)": "17"
                                },
                                {
                                    "LOGIN": "laszlo1",
                                    "SZALL_MOD": "NULL",
                                    "(No column name)": "394"
                                },
                                {
                                    "LOGIN": "laszlo2",
                                    "SZALL_MOD": "NULL",
                                    "(No column name)": "25"
                                },
                                {
                                    "LOGIN": "LASZLOA",
                                    "SZALL_MOD": "NULL",
                                    "(No column name)": "446"
                                },
                                {
                                    "LOGIN": "LASZLON",
                                    "SZALL_MOD": "NULL",
                                    "(No column name)": "400"
                                },
                                {
                                    "LOGIN": "maria1",
                                    "SZALL_MOD": "NULL",
                                    "(No column name)": "10"
                                },
                                {
                                    "LOGIN": "MARKH",
                                    "SZALL_MOD": "NULL",
                                    "(No column name)": "412"
                                },
                                {
                                    "LOGIN": "marton",
                                    "SZALL_MOD": "NULL",
                                    "(No column name)": "14"
                                },
                                {
                                    "LOGIN": "MATEK",
                                    "SZALL_MOD": "NULL",
                                    "(No column name)": "25"
                                },
                                {
                                    "LOGIN": "matyas2",
                                    "SZALL_MOD": "NULL",
                                    "(No column name)": "433"
                                },
                                {
                                    "LOGIN": "MATYASS",
                                    "SZALL_MOD": "NULL",
                                    "(No column name)": "12"
                                },
                                {
                                    "LOGIN": "MIHALYJ",
                                    "SZALL_MOD": "NULL",
                                    "(No column name)": "13"
                                },
                                {
                                    "LOGIN": "miklos2",
                                    "SZALL_MOD": "NULL",
                                    "(No column name)": "13"
                                },
                                {
                                    "LOGIN": "MIKLOSB",
                                    "SZALL_MOD": "NULL",
                                    "(No column name)": "15"
                                },
                                {
                                    "LOGIN": "MONIKAM",
                                    "SZALL_MOD": "NULL",
                                    "(No column name)": "407"
                                },
                                {
                                    "LOGIN": "NANDORF",
                                    "SZALL_MOD": "NULL",
                                    "(No column name)": "420"
                                },
                                {
                                    "LOGIN": "nikolett3",
                                    "SZALL_MOD": "NULL",
                                    "(No column name)": "17"
                                },
                                {
                                    "LOGIN": "nikoletta4",
                                    "SZALL_MOD": "NULL",
                                    "(No column name)": "414"
                                },
                                {
                                    "LOGIN": "NIKOLETTAT",
                                    "SZALL_MOD": "NULL",
                                    "(No column name)": "25"
                                },
                                {
                                    "LOGIN": "norbert2",
                                    "SZALL_MOD": "NULL",
                                    "(No column name)": "11"
                                },
                                {
                                    "LOGIN": "norbert4",
                                    "SZALL_MOD": "NULL",
                                    "(No column name)": "13"
                                },
                                {
                                    "LOGIN": "norbert5",
                                    "SZALL_MOD": "NULL",
                                    "(No column name)": "16"
                                },
                                {
                                    "LOGIN": "pal",
                                    "SZALL_MOD": "NULL",
                                    "(No column name)": "438"
                                },
                                {
                                    "LOGIN": "peter1",
                                    "SZALL_MOD": "NULL",
                                    "(No column name)": "412"
                                },
                                {
                                    "LOGIN": "peter2",
                                    "SZALL_MOD": "NULL",
                                    "(No column name)": "18"
                                },
                                {
                                    "LOGIN": "peter3",
                                    "SZALL_MOD": "NULL",
                                    "(No column name)": "25"
                                },
                                {
                                    "LOGIN": "peter4",
                                    "SZALL_MOD": "NULL",
                                    "(No column name)": "852"
                                },
                                {
                                    "LOGIN": "PETERB",
                                    "SZALL_MOD": "NULL",
                                    "(No column name)": "15"
                                },
                                {
                                    "LOGIN": "polla",
                                    "SZALL_MOD": "NULL",
                                    "(No column name)": "22"
                                },
                                {
                                    "LOGIN": "rajmond4",
                                    "SZALL_MOD": "NULL",
                                    "(No column name)": "17"
                                },
                                {
                                    "LOGIN": "reka4",
                                    "SZALL_MOD": "NULL",
                                    "(No column name)": "20"
                                },
                                {
                                    "LOGIN": "RENATAK",
                                    "SZALL_MOD": "NULL",
                                    "(No column name)": "422"
                                },
                                {
                                    "LOGIN": "RENATAS",
                                    "SZALL_MOD": "NULL",
                                    "(No column name)": "16"
                                },
                                {
                                    "LOGIN": "robert2",
                                    "SZALL_MOD": "NULL",
                                    "(No column name)": "13"
                                },
                                {
                                    "LOGIN": "ROBERTI",
                                    "SZALL_MOD": "NULL",
                                    "(No column name)": "13"
                                },
                                {
                                    "LOGIN": "ROBERTP",
                                    "SZALL_MOD": "NULL",
                                    "(No column name)": "26"
                                },
                                {
                                    "LOGIN": "roland",
                                    "SZALL_MOD": "NULL",
                                    "(No column name)": "414"
                                },
                                {
                                    "LOGIN": "roland1",
                                    "SZALL_MOD": "NULL",
                                    "(No column name)": "432"
                                },
                                {
                                    "LOGIN": "roza2",
                                    "SZALL_MOD": "NULL",
                                    "(No column name)": "8"
                                },
                                {
                                    "LOGIN": "sandor",
                                    "SZALL_MOD": "NULL",
                                    "(No column name)": "17"
                                },
                                {
                                    "LOGIN": "sandor3",
                                    "SZALL_MOD": "NULL",
                                    "(No column name)": "14"
                                },
                                {
                                    "LOGIN": "sandor4",
                                    "SZALL_MOD": "NULL",
                                    "(No column name)": "11"
                                },
                                {
                                    "LOGIN": "sara",
                                    "SZALL_MOD": "NULL",
                                    "(No column name)": "20"
                                },
                                {
                                    "LOGIN": "SEBASTIANF",
                                    "SZALL_MOD": "NULL",
                                    "(No column name)": "15"
                                },
                                {
                                    "LOGIN": "sebestyen",
                                    "SZALL_MOD": "NULL",
                                    "(No column name)": "16"
                                },
                                {
                                    "LOGIN": "szabolcs",
                                    "SZALL_MOD": "NULL",
                                    "(No column name)": "471"
                                },
                                {
                                    "LOGIN": "SZABOLCSM",
                                    "SZALL_MOD": "NULL",
                                    "(No column name)": "408"
                                },
                                {
                                    "LOGIN": "SZILARDS",
                                    "SZALL_MOD": "NULL",
                                    "(No column name)": "386"
                                },
                                {
                                    "LOGIN": "szilvia1",
                                    "SZALL_MOD": "NULL",
                                    "(No column name)": "445"
                                },
                                {
                                    "LOGIN": "tamara2",
                                    "SZALL_MOD": "NULL",
                                    "(No column name)": "13"
                                },
                                {
                                    "LOGIN": "tamas",
                                    "SZALL_MOD": "NULL",
                                    "(No column name)": "421"
                                },
                                {
                                    "LOGIN": "TAMASF",
                                    "SZALL_MOD": "NULL",
                                    "(No column name)": "433"
                                },
                                {
                                    "LOGIN": "tibor",
                                    "SZALL_MOD": "NULL",
                                    "(No column name)": "374"
                                },
                                {
                                    "LOGIN": "tibor2",
                                    "SZALL_MOD": "NULL",
                                    "(No column name)": "25"
                                },
                                {
                                    "LOGIN": "tihamer",
                                    "SZALL_MOD": "NULL",
                                    "(No column name)": "20"
                                },
                                {
                                    "LOGIN": "timea",
                                    "SZALL_MOD": "NULL",
                                    "(No column name)": "55"
                                },
                                {
                                    "LOGIN": "timea2",
                                    "SZALL_MOD": "NULL",
                                    "(No column name)": "16"
                                },
                                {
                                    "LOGIN": "tunde",
                                    "SZALL_MOD": "NULL",
                                    "(No column name)": "16"
                                },
                                {
                                    "LOGIN": "valentin",
                                    "SZALL_MOD": "NULL",
                                    "(No column name)": "13"
                                },
                                {
                                    "LOGIN": "veronika4",
                                    "SZALL_MOD": "NULL",
                                    "(No column name)": "18"
                                },
                                {
                                    "LOGIN": "VIKTORIAU",
                                    "SZALL_MOD": "NULL",
                                    "(No column name)": "14"
                                },
                                {
                                    "LOGIN": "VIKTORK",
                                    "SZALL_MOD": "NULL",
                                    "(No column name)": "20"
                                },
                                {
                                    "LOGIN": "vivien3",
                                    "SZALL_MOD": "NULL",
                                    "(No column name)": "22"
                                },
                                {
                                    "LOGIN": "zoltan",
                                    "SZALL_MOD": "NULL",
                                    "(No column name)": "15"
                                },
                                {
                                    "LOGIN": "zoltan4",
                                    "SZALL_MOD": "NULL",
                                    "(No column name)": "424"
                                },
                                {
                                    "LOGIN": "ZOLTANP",
                                    "SZALL_MOD": "NULL",
                                    "(No column name)": "13"
                                },
                                {
                                    "LOGIN": "ZOLTANT",
                                    "SZALL_MOD": "NULL",
                                    "(No column name)": "357"
                                },
                                {
                                    "LOGIN": "zsofi1",
                                    "SZALL_MOD": "NULL",
                                    "(No column name)": "19"
                                },
                                {
                                    "LOGIN": "zsolt1",
                                    "SZALL_MOD": "NULL",
                                    "(No column name)": "20"
                                },
                                {
                                    "LOGIN": "ZSOLTJ",
                                    "SZALL_MOD": "NULL",
                                    "(No column name)": "18"
                                },
                                {
                                    "LOGIN": "zsuzsa",
                                    "SZALL_MOD": "NULL",
                                    "(No column name)": "16"
                                },
                                {
                                    "LOGIN": "zsuzsa3",
                                    "SZALL_MOD": "NULL",
                                    "(No column name)": "16"
                                },
                                {
                                    "LOGIN": "zsuzsanna",
                                    "SZALL_MOD": "NULL",
                                    "(No column name)": "15"
                                },
                                {
                                    "LOGIN": "ZSUZSAV",
                                    "SZALL_MOD": "NULL",
                                    "(No column name)": "420"
                                }
                            ]
                        },
                        "text/html": [
                            "<table>",
                            "<tr><th>LOGIN</th><th>SZALL_MOD</th><th>(No column name)</th></tr>",
                            "<tr><td>adam1</td><td>GLS</td><td>129</td></tr>",
                            "<tr><td>adam3</td><td>GLS</td><td>10</td></tr>",
                            "<tr><td>adam4</td><td>GLS</td><td>12</td></tr>",
                            "<tr><td>agnes</td><td>GLS</td><td>144</td></tr>",
                            "<tr><td>agnes3</td><td>GLS</td><td>148</td></tr>",
                            "<tr><td>AGNESH</td><td>GLS</td><td>2</td></tr>",
                            "<tr><td>AGNESK</td><td>GLS</td><td>1</td></tr>",
                            "<tr><td>akos</td><td>GLS</td><td>146</td></tr>",
                            "<tr><td>aladar</td><td>GLS</td><td>156</td></tr>",
                            "<tr><td>alexandra</td><td>GLS</td><td>5</td></tr>",
                            "<tr><td>andi</td><td>GLS</td><td>7</td></tr>",
                            "<tr><td>andras2</td><td>GLS</td><td>4</td></tr>",
                            "<tr><td>andras21</td><td>GLS</td><td>140</td></tr>",
                            "<tr><td>andras3</td><td>GLS</td><td>3</td></tr>",
                            "<tr><td>andras4</td><td>GLS</td><td>4</td></tr>",
                            "<tr><td>andras41</td><td>GLS</td><td>149</td></tr>",
                            "<tr><td>ANDRASE</td><td>GLS</td><td>159</td></tr>",
                            "<tr><td>ANDRASN</td><td>GLS</td><td>10</td></tr>",
                            "<tr><td>andrea</td><td>GLS</td><td>12</td></tr>",
                            "<tr><td>andrea3</td><td>GLS</td><td>131</td></tr>",
                            "<tr><td>andrea4</td><td>GLS</td><td>7</td></tr>",
                            "<tr><td>ANDREAT</td><td>GLS</td><td>3</td></tr>",
                            "<tr><td>anett3</td><td>GLS</td><td>3</td></tr>",
                            "<tr><td>aniko</td><td>GLS</td><td>128</td></tr>",
                            "<tr><td>aniko4</td><td>GLS</td><td>6</td></tr>",
                            "<tr><td>ANIKOS</td><td>GLS</td><td>128</td></tr>",
                            "<tr><td>anita</td><td>GLS</td><td>5</td></tr>",
                            "<tr><td>annamaria1</td><td>GLS</td><td>5</td></tr>",
                            "<tr><td>ANNAMARIAR</td><td>GLS</td><td>8</td></tr>",
                            "<tr><td>aron2</td><td>GLS</td><td>132</td></tr>",
                            "<tr><td>ARONK</td><td>GLS</td><td>155</td></tr>",
                            "<tr><td>arpad2</td><td>GLS</td><td>6</td></tr>",
                            "<tr><td>ARPADH</td><td>GLS</td><td>6</td></tr>",
                            "<tr><td>ARPADM</td><td>GLS</td><td>6</td></tr>",
                            "<tr><td>attila1</td><td>GLS</td><td>5</td></tr>",
                            "<tr><td>attila4</td><td>GLS</td><td>135</td></tr>",
                            "<tr><td>ATTILAO</td><td>GLS</td><td>4</td></tr>",
                            "<tr><td>balazs1</td><td>GLS</td><td>128</td></tr>",
                            "<tr><td>balazs2</td><td>GLS</td><td>5</td></tr>",
                            "<tr><td>balazs3</td><td>GLS</td><td>6</td></tr>",
                            "<tr><td>balint</td><td>GLS</td><td>10</td></tr>",
                            "<tr><td>balint1</td><td>GLS</td><td>158</td></tr>",
                            "<tr><td>balint2</td><td>GLS</td><td>8</td></tr>",
                            "<tr><td>balu</td><td>GLS</td><td>127</td></tr>",
                            "<tr><td>BEATRIXK</td><td>GLS</td><td>135</td></tr>",
                            "<tr><td>BEATRIXS</td><td>GLS</td><td>146</td></tr>",
                            "<tr><td>BELAF</td><td>GLS</td><td>11</td></tr>",
                            "<tr><td>bence</td><td>GLS</td><td>4</td></tr>",
                            "<tr><td>BENCEB</td><td>GLS</td><td>5</td></tr>",
                            "<tr><td>bernadett1</td><td>GLS</td><td>10</td></tr>",
                            "<tr><td>bernadett2</td><td>GLS</td><td>6</td></tr>",
                            "<tr><td>BERNADETTO</td><td>GLS</td><td>7</td></tr>",
                            "<tr><td>bertalan</td><td>GLS</td><td>128</td></tr>",
                            "<tr><td>brigitta</td><td>GLS</td><td>137</td></tr>",
                            "<tr><td>brigitta3</td><td>GLS</td><td>144</td></tr>",
                            "<tr><td>csongor3</td><td>GLS</td><td>5</td></tr>",
                            "<tr><td>dani</td><td>GLS</td><td>5</td></tr>",
                            "<tr><td>daniel</td><td>GLS</td><td>7</td></tr>",
                            "<tr><td>daniel1</td><td>GLS</td><td>156</td></tr>",
                            "<tr><td>david</td><td>GLS</td><td>161</td></tr>",
                            "<tr><td>david1</td><td>GLS</td><td>8</td></tr>",
                            "<tr><td>david4</td><td>GLS</td><td>3</td></tr>",
                            "<tr><td>debora</td><td>GLS</td><td>7</td></tr>",
                            "<tr><td>denes</td><td>GLS</td><td>3</td></tr>",
                            "<tr><td>dora3</td><td>GLS</td><td>144</td></tr>",
                            "<tr><td>edit</td><td>GLS</td><td>7</td></tr>",
                            "<tr><td>emese</td><td>GLS</td><td>128</td></tr>",
                            "<tr><td>eszter2</td><td>GLS</td><td>127</td></tr>",
                            "<tr><td>eszter4</td><td>GLS</td><td>141</td></tr>",
                            "<tr><td>ESZTERE</td><td>GLS</td><td>6</td></tr>",
                            "<tr><td>eva</td><td>GLS</td><td>125</td></tr>",
                            "<tr><td>eva2</td><td>GLS</td><td>154</td></tr>",
                            "<tr><td>EVAV</td><td>GLS</td><td>2</td></tr>",
                            "<tr><td>ferenc1</td><td>GLS</td><td>144</td></tr>",
                            "<tr><td>fruzsina4</td><td>GLS</td><td>8</td></tr>",
                            "<tr><td>gabor1</td><td>GLS</td><td>9</td></tr>",
                            "<tr><td>gabor4</td><td>GLS</td><td>7</td></tr>",
                            "<tr><td>GABORS</td><td>GLS</td><td>5</td></tr>",
                            "<tr><td>gabriella1</td><td>GLS</td><td>5</td></tr>",
                            "<tr><td>gabriella10</td><td>GLS</td><td>4</td></tr>",
                            "<tr><td>georgij</td><td>GLS</td><td>9</td></tr>",
                            "<tr><td>gusztav</td><td>GLS</td><td>5</td></tr>",
                            "<tr><td>GYONGYIK</td><td>GLS</td><td>6</td></tr>",
                            "<tr><td>GYORGYO</td><td>GLS</td><td>7</td></tr>",
                            "<tr><td>henrik3</td><td>GLS</td><td>7</td></tr>",
                            "<tr><td>IBOLYAA</td><td>GLS</td><td>140</td></tr>",
                            "<tr><td>ilona3</td><td>GLS</td><td>9</td></tr>",
                            "<tr><td>imre</td><td>GLS</td><td>5</td></tr>",
                            "<tr><td>imre1</td><td>GLS</td><td>8</td></tr>",
                            "<tr><td>istvan</td><td>GLS</td><td>3</td></tr>",
                            "<tr><td>istvan1</td><td>GLS</td><td>8</td></tr>",
                            "<tr><td>ISTVANV</td><td>GLS</td><td>4</td></tr>",
                            "<tr><td>janos3</td><td>GLS</td><td>5</td></tr>",
                            "<tr><td>JANOSG</td><td>GLS</td><td>3</td></tr>",
                            "<tr><td>JANOSP</td><td>GLS</td><td>7</td></tr>",
                            "<tr><td>jozsef</td><td>GLS</td><td>116</td></tr>",
                            "<tr><td>jozsef2</td><td>GLS</td><td>7</td></tr>",
                            "<tr><td>JOZSEFG</td><td>GLS</td><td>11</td></tr>",
                            "<tr><td>JUDITH</td><td>GLS</td><td>170</td></tr>",
                            "<tr><td>julia</td><td>GLS</td><td>137</td></tr>",
                            "<tr><td>julia4</td><td>GLS</td><td>2</td></tr>",
                            "<tr><td>julianna4</td><td>GLS</td><td>8</td></tr>",
                            "<tr><td>kata</td><td>GLS</td><td>5</td></tr>",
                            "<tr><td>katalin</td><td>GLS</td><td>7</td></tr>",
                            "<tr><td>katalin4</td><td>GLS</td><td>7</td></tr>",
                            "<tr><td>kati</td><td>GLS</td><td>4</td></tr>",
                            "<tr><td>katka</td><td>GLS</td><td>6</td></tr>",
                            "<tr><td>klaudia2</td><td>GLS</td><td>3</td></tr>",
                            "<tr><td>kornel4</td><td>GLS</td><td>3</td></tr>",
                            "<tr><td>kristof4</td><td>GLS</td><td>9</td></tr>",
                            "<tr><td>kriszti</td><td>GLS</td><td>3</td></tr>",
                            "<tr><td>krisztian4</td><td>GLS</td><td>5</td></tr>",
                            "<tr><td>KRISZTIANM</td><td>GLS</td><td>118</td></tr>",
                            "<tr><td>krisztina</td><td>GLS</td><td>149</td></tr>",
                            "<tr><td>krisztina1</td><td>GLS</td><td>10</td></tr>",
                            "<tr><td>KRISZTINAG</td><td>GLS</td><td>6</td></tr>",
                            "<tr><td>lajos</td><td>GLS</td><td>5</td></tr>",
                            "<tr><td>lala</td><td>GLS</td><td>5</td></tr>",
                            "<tr><td>laszlo1</td><td>GLS</td><td>130</td></tr>",
                            "<tr><td>laszlo2</td><td>GLS</td><td>12</td></tr>",
                            "<tr><td>LASZLOA</td><td>GLS</td><td>156</td></tr>",
                            "<tr><td>LASZLON</td><td>GLS</td><td>126</td></tr>",
                            "<tr><td>maria1</td><td>GLS</td><td>4</td></tr>",
                            "<tr><td>MARKH</td><td>GLS</td><td>128</td></tr>",
                            "<tr><td>marton</td><td>GLS</td><td>5</td></tr>",
                            "<tr><td>MATEK</td><td>GLS</td><td>6</td></tr>",
                            "<tr><td>matyas2</td><td>GLS</td><td>138</td></tr>",
                            "<tr><td>MATYASS</td><td>GLS</td><td>4</td></tr>",
                            "<tr><td>MIHALYJ</td><td>GLS</td><td>3</td></tr>",
                            "<tr><td>miklos2</td><td>GLS</td><td>7</td></tr>",
                            "<tr><td>MIKLOSB</td><td>GLS</td><td>6</td></tr>",
                            "<tr><td>MONIKAM</td><td>GLS</td><td>133</td></tr>",
                            "<tr><td>NANDORF</td><td>GLS</td><td>147</td></tr>",
                            "<tr><td>nikolett3</td><td>GLS</td><td>4</td></tr>",
                            "<tr><td>nikoletta4</td><td>GLS</td><td>137</td></tr>",
                            "<tr><td>NIKOLETTAT</td><td>GLS</td><td>13</td></tr>",
                            "<tr><td>norbert2</td><td>GLS</td><td>7</td></tr>",
                            "<tr><td>norbert4</td><td>GLS</td><td>1</td></tr>",
                            "<tr><td>norbert5</td><td>GLS</td><td>1</td></tr>",
                            "<tr><td>pal</td><td>GLS</td><td>152</td></tr>",
                            "<tr><td>peter1</td><td>GLS</td><td>151</td></tr>",
                            "<tr><td>peter2</td><td>GLS</td><td>7</td></tr>",
                            "<tr><td>peter3</td><td>GLS</td><td>8</td></tr>",
                            "<tr><td>peter4</td><td>GLS</td><td>266</td></tr>",
                            "<tr><td>PETERB</td><td>GLS</td><td>2</td></tr>",
                            "<tr><td>polla</td><td>GLS</td><td>9</td></tr>",
                            "<tr><td>rajmond4</td><td>GLS</td><td>6</td></tr>",
                            "<tr><td>reka4</td><td>GLS</td><td>5</td></tr>",
                            "<tr><td>RENATAK</td><td>GLS</td><td>135</td></tr>",
                            "<tr><td>RENATAS</td><td>GLS</td><td>6</td></tr>",
                            "<tr><td>robert2</td><td>GLS</td><td>5</td></tr>",
                            "<tr><td>ROBERTI</td><td>GLS</td><td>5</td></tr>",
                            "<tr><td>ROBERTP</td><td>GLS</td><td>8</td></tr>",
                            "<tr><td>roland</td><td>GLS</td><td>132</td></tr>",
                            "<tr><td>roland1</td><td>GLS</td><td>142</td></tr>",
                            "<tr><td>roza2</td><td>GLS</td><td>3</td></tr>",
                            "<tr><td>sandor</td><td>GLS</td><td>4</td></tr>",
                            "<tr><td>sandor3</td><td>GLS</td><td>4</td></tr>",
                            "<tr><td>sandor4</td><td>GLS</td><td>4</td></tr>",
                            "<tr><td>sara</td><td>GLS</td><td>4</td></tr>",
                            "<tr><td>SEBASTIANF</td><td>GLS</td><td>6</td></tr>",
                            "<tr><td>sebestyen</td><td>GLS</td><td>4</td></tr>",
                            "<tr><td>szabolcs</td><td>GLS</td><td>145</td></tr>",
                            "<tr><td>SZABOLCSM</td><td>GLS</td><td>126</td></tr>",
                            "<tr><td>SZILARDS</td><td>GLS</td><td>144</td></tr>",
                            "<tr><td>szilvia1</td><td>GLS</td><td>156</td></tr>",
                            "<tr><td>tamara2</td><td>GLS</td><td>6</td></tr>",
                            "<tr><td>tamas</td><td>GLS</td><td>143</td></tr>",
                            "<tr><td>TAMASF</td><td>GLS</td><td>159</td></tr>",
                            "<tr><td>tibor</td><td>GLS</td><td>115</td></tr>",
                            "<tr><td>tibor2</td><td>GLS</td><td>7</td></tr>",
                            "<tr><td>tihamer</td><td>GLS</td><td>9</td></tr>",
                            "<tr><td>timea</td><td>GLS</td><td>14</td></tr>",
                            "<tr><td>timea2</td><td>GLS</td><td>1</td></tr>",
                            "<tr><td>tunde</td><td>GLS</td><td>6</td></tr>",
                            "<tr><td>valentin</td><td>GLS</td><td>5</td></tr>",
                            "<tr><td>veronika4</td><td>GLS</td><td>5</td></tr>",
                            "<tr><td>VIKTORIAU</td><td>GLS</td><td>5</td></tr>",
                            "<tr><td>VIKTORK</td><td>GLS</td><td>8</td></tr>",
                            "<tr><td>vivien3</td><td>GLS</td><td>9</td></tr>",
                            "<tr><td>zoltan</td><td>GLS</td><td>5</td></tr>",
                            "<tr><td>zoltan4</td><td>GLS</td><td>129</td></tr>",
                            "<tr><td>ZOLTANP</td><td>GLS</td><td>6</td></tr>",
                            "<tr><td>ZOLTANT</td><td>GLS</td><td>127</td></tr>",
                            "<tr><td>zsofi1</td><td>GLS</td><td>7</td></tr>",
                            "<tr><td>zsolt1</td><td>GLS</td><td>11</td></tr>",
                            "<tr><td>ZSOLTJ</td><td>GLS</td><td>1</td></tr>",
                            "<tr><td>zsuzsa</td><td>GLS</td><td>8</td></tr>",
                            "<tr><td>zsuzsa3</td><td>GLS</td><td>5</td></tr>",
                            "<tr><td>zsuzsanna</td><td>GLS</td><td>7</td></tr>",
                            "<tr><td>ZSUZSAV</td><td>GLS</td><td>139</td></tr>",
                            "<tr><td>NULL</td><td>GLS</td><td>9426</td></tr>",
                            "<tr><td>adam1</td><td>Posta</td><td>132</td></tr>",
                            "<tr><td>adam3</td><td>Posta</td><td>3</td></tr>",
                            "<tr><td>adam4</td><td>Posta</td><td>6</td></tr>",
                            "<tr><td>agnes</td><td>Posta</td><td>130</td></tr>",
                            "<tr><td>agnes3</td><td>Posta</td><td>146</td></tr>",
                            "<tr><td>AGNESH</td><td>Posta</td><td>3</td></tr>",
                            "<tr><td>AGNESK</td><td>Posta</td><td>7</td></tr>",
                            "<tr><td>akos</td><td>Posta</td><td>143</td></tr>",
                            "<tr><td>aladar</td><td>Posta</td><td>134</td></tr>",
                            "<tr><td>alexandra</td><td>Posta</td><td>9</td></tr>",
                            "<tr><td>andi</td><td>Posta</td><td>4</td></tr>",
                            "<tr><td>andras2</td><td>Posta</td><td>7</td></tr>",
                            "<tr><td>andras21</td><td>Posta</td><td>124</td></tr>",
                            "<tr><td>andras3</td><td>Posta</td><td>1</td></tr>",
                            "<tr><td>andras4</td><td>Posta</td><td>4</td></tr>",
                            "<tr><td>andras41</td><td>Posta</td><td>137</td></tr>",
                            "<tr><td>ANDRASE</td><td>Posta</td><td>141</td></tr>",
                            "<tr><td>ANDRASN</td><td>Posta</td><td>9</td></tr>",
                            "<tr><td>andrea</td><td>Posta</td><td>4</td></tr>",
                            "<tr><td>andrea3</td><td>Posta</td><td>136</td></tr>",
                            "<tr><td>andrea4</td><td>Posta</td><td>4</td></tr>",
                            "<tr><td>ANDREAT</td><td>Posta</td><td>6</td></tr>",
                            "<tr><td>anett3</td><td>Posta</td><td>6</td></tr>",
                            "<tr><td>aniko</td><td>Posta</td><td>137</td></tr>",
                            "<tr><td>aniko4</td><td>Posta</td><td>6</td></tr>",
                            "<tr><td>ANIKOS</td><td>Posta</td><td>126</td></tr>",
                            "<tr><td>anita</td><td>Posta</td><td>2</td></tr>",
                            "<tr><td>annamaria1</td><td>Posta</td><td>4</td></tr>",
                            "<tr><td>ANNAMARIAR</td><td>Posta</td><td>2</td></tr>",
                            "<tr><td>aron2</td><td>Posta</td><td>133</td></tr>",
                            "<tr><td>ARONK</td><td>Posta</td><td>120</td></tr>",
                            "<tr><td>arpad2</td><td>Posta</td><td>1</td></tr>",
                            "<tr><td>ARPADH</td><td>Posta</td><td>3</td></tr>",
                            "<tr><td>ARPADM</td><td>Posta</td><td>3</td></tr>",
                            "<tr><td>attila1</td><td>Posta</td><td>7</td></tr>",
                            "<tr><td>attila4</td><td>Posta</td><td>125</td></tr>",
                            "<tr><td>ATTILAO</td><td>Posta</td><td>4</td></tr>",
                            "<tr><td>balazs1</td><td>Posta</td><td>136</td></tr>",
                            "<tr><td>balazs2</td><td>Posta</td><td>7</td></tr>",
                            "<tr><td>balazs3</td><td>Posta</td><td>6</td></tr>",
                            "<tr><td>balint</td><td>Posta</td><td>4</td></tr>",
                            "<tr><td>balint1</td><td>Posta</td><td>152</td></tr>",
                            "<tr><td>balint2</td><td>Posta</td><td>6</td></tr>",
                            "<tr><td>balu</td><td>Posta</td><td>137</td></tr>",
                            "<tr><td>BEATRIXK</td><td>Posta</td><td>155</td></tr>",
                            "<tr><td>BEATRIXS</td><td>Posta</td><td>141</td></tr>",
                            "<tr><td>BELAF</td><td>Posta</td><td>2</td></tr>",
                            "<tr><td>bence</td><td>Posta</td><td>6</td></tr>",
                            "<tr><td>BENCEB</td><td>Posta</td><td>7</td></tr>",
                            "<tr><td>bernadett1</td><td>Posta</td><td>5</td></tr>",
                            "<tr><td>bernadett2</td><td>Posta</td><td>2</td></tr>",
                            "<tr><td>BERNADETTO</td><td>Posta</td><td>2</td></tr>",
                            "<tr><td>bertalan</td><td>Posta</td><td>124</td></tr>",
                            "<tr><td>brigitta</td><td>Posta</td><td>137</td></tr>",
                            "<tr><td>brigitta3</td><td>Posta</td><td>130</td></tr>",
                            "<tr><td>csongor3</td><td>Posta</td><td>2</td></tr>",
                            "<tr><td>daniel</td><td>Posta</td><td>2</td></tr>",
                            "<tr><td>daniel1</td><td>Posta</td><td>131</td></tr>",
                            "<tr><td>david</td><td>Posta</td><td>144</td></tr>",
                            "<tr><td>david1</td><td>Posta</td><td>1</td></tr>",
                            "<tr><td>david4</td><td>Posta</td><td>8</td></tr>",
                            "<tr><td>debora</td><td>Posta</td><td>6</td></tr>",
                            "<tr><td>denes</td><td>Posta</td><td>2</td></tr>",
                            "<tr><td>dora3</td><td>Posta</td><td>124</td></tr>",
                            "<tr><td>edit</td><td>Posta</td><td>2</td></tr>",
                            "<tr><td>emese</td><td>Posta</td><td>136</td></tr>",
                            "<tr><td>eszter2</td><td>Posta</td><td>136</td></tr>",
                            "<tr><td>eszter4</td><td>Posta</td><td>134</td></tr>",
                            "<tr><td>ESZTERE</td><td>Posta</td><td>9</td></tr>",
                            "<tr><td>eva</td><td>Posta</td><td>140</td></tr>",
                            "<tr><td>eva2</td><td>Posta</td><td>138</td></tr>",
                            "<tr><td>EVAV</td><td>Posta</td><td>1</td></tr>",
                            "<tr><td>ferenc1</td><td>Posta</td><td>158</td></tr>",
                            "<tr><td>fruzsina4</td><td>Posta</td><td>3</td></tr>",
                            "<tr><td>gabor1</td><td>Posta</td><td>5</td></tr>",
                            "<tr><td>gabor4</td><td>Posta</td><td>9</td></tr>",
                            "<tr><td>GABORS</td><td>Posta</td><td>6</td></tr>",
                            "<tr><td>gabriella1</td><td>Posta</td><td>4</td></tr>",
                            "<tr><td>gabriella10</td><td>Posta</td><td>5</td></tr>",
                            "<tr><td>georgij</td><td>Posta</td><td>2</td></tr>",
                            "<tr><td>gusztav</td><td>Posta</td><td>4</td></tr>",
                            "<tr><td>GYONGYIK</td><td>Posta</td><td>6</td></tr>",
                            "<tr><td>GYORGYO</td><td>Posta</td><td>4</td></tr>",
                            "<tr><td>henrik3</td><td>Posta</td><td>4</td></tr>",
                            "<tr><td>IBOLYAA</td><td>Posta</td><td>125</td></tr>",
                            "<tr><td>ilona3</td><td>Posta</td><td>2</td></tr>",
                            "<tr><td>imre</td><td>Posta</td><td>4</td></tr>",
                            "<tr><td>imre1</td><td>Posta</td><td>4</td></tr>",
                            "<tr><td>istvan</td><td>Posta</td><td>4</td></tr>",
                            "<tr><td>istvan1</td><td>Posta</td><td>4</td></tr>",
                            "<tr><td>ISTVANV</td><td>Posta</td><td>9</td></tr>",
                            "<tr><td>janos3</td><td>Posta</td><td>2</td></tr>",
                            "<tr><td>JANOSG</td><td>Posta</td><td>3</td></tr>",
                            "<tr><td>JANOSP</td><td>Posta</td><td>7</td></tr>",
                            "<tr><td>jozsef</td><td>Posta</td><td>132</td></tr>",
                            "<tr><td>jozsef2</td><td>Posta</td><td>2</td></tr>",
                            "<tr><td>JOZSEFG</td><td>Posta</td><td>1</td></tr>",
                            "<tr><td>JUDITH</td><td>Posta</td><td>130</td></tr>",
                            "<tr><td>julia</td><td>Posta</td><td>160</td></tr>",
                            "<tr><td>julia4</td><td>Posta</td><td>4</td></tr>",
                            "<tr><td>julianna4</td><td>Posta</td><td>12</td></tr>",
                            "<tr><td>kata</td><td>Posta</td><td>4</td></tr>",
                            "<tr><td>katalin</td><td>Posta</td><td>7</td></tr>",
                            "<tr><td>katalin4</td><td>Posta</td><td>5</td></tr>",
                            "<tr><td>kati</td><td>Posta</td><td>5</td></tr>",
                            "<tr><td>katka</td><td>Posta</td><td>6</td></tr>",
                            "<tr><td>klaudia2</td><td>Posta</td><td>9</td></tr>",
                            "<tr><td>kornel4</td><td>Posta</td><td>1</td></tr>",
                            "<tr><td>kristof4</td><td>Posta</td><td>4</td></tr>",
                            "<tr><td>kriszti</td><td>Posta</td><td>5</td></tr>",
                            "<tr><td>krisztian4</td><td>Posta</td><td>6</td></tr>",
                            "<tr><td>KRISZTIANM</td><td>Posta</td><td>136</td></tr>",
                            "<tr><td>krisztina</td><td>Posta</td><td>150</td></tr>",
                            "<tr><td>krisztina1</td><td>Posta</td><td>4</td></tr>",
                            "<tr><td>KRISZTINAG</td><td>Posta</td><td>6</td></tr>",
                            "<tr><td>lajos</td><td>Posta</td><td>2</td></tr>",
                            "<tr><td>lala</td><td>Posta</td><td>3</td></tr>",
                            "<tr><td>laszlo1</td><td>Posta</td><td>129</td></tr>",
                            "<tr><td>laszlo2</td><td>Posta</td><td>6</td></tr>",
                            "<tr><td>LASZLOA</td><td>Posta</td><td>136</td></tr>",
                            "<tr><td>LASZLON</td><td>Posta</td><td>131</td></tr>",
                            "<tr><td>maria1</td><td>Posta</td><td>5</td></tr>",
                            "<tr><td>MARKH</td><td>Posta</td><td>142</td></tr>",
                            "<tr><td>marton</td><td>Posta</td><td>4</td></tr>",
                            "<tr><td>MATEK</td><td>Posta</td><td>10</td></tr>",
                            "<tr><td>matyas2</td><td>Posta</td><td>131</td></tr>",
                            "<tr><td>MATYASS</td><td>Posta</td><td>5</td></tr>",
                            "<tr><td>MIHALYJ</td><td>Posta</td><td>4</td></tr>",
                            "<tr><td>miklos2</td><td>Posta</td><td>4</td></tr>",
                            "<tr><td>MIKLOSB</td><td>Posta</td><td>1</td></tr>",
                            "<tr><td>MONIKAM</td><td>Posta</td><td>151</td></tr>",
                            "<tr><td>NANDORF</td><td>Posta</td><td>139</td></tr>",
                            "<tr><td>nikolett3</td><td>Posta</td><td>3</td></tr>",
                            "<tr><td>nikoletta4</td><td>Posta</td><td>158</td></tr>",
                            "<tr><td>NIKOLETTAT</td><td>Posta</td><td>7</td></tr>",
                            "<tr><td>norbert2</td><td>Posta</td><td>4</td></tr>",
                            "<tr><td>norbert4</td><td>Posta</td><td>3</td></tr>",
                            "<tr><td>norbert5</td><td>Posta</td><td>6</td></tr>",
                            "<tr><td>pal</td><td>Posta</td><td>132</td></tr>",
                            "<tr><td>peter1</td><td>Posta</td><td>135</td></tr>",
                            "<tr><td>peter2</td><td>Posta</td><td>4</td></tr>",
                            "<tr><td>peter3</td><td>Posta</td><td>7</td></tr>",
                            "<tr><td>peter4</td><td>Posta</td><td>293</td></tr>",
                            "<tr><td>PETERB</td><td>Posta</td><td>4</td></tr>",
                            "<tr><td>polla</td><td>Posta</td><td>6</td></tr>",
                            "<tr><td>rajmond4</td><td>Posta</td><td>5</td></tr>",
                            "<tr><td>reka4</td><td>Posta</td><td>4</td></tr>",
                            "<tr><td>RENATAK</td><td>Posta</td><td>140</td></tr>",
                            "<tr><td>RENATAS</td><td>Posta</td><td>5</td></tr>",
                            "<tr><td>robert2</td><td>Posta</td><td>1</td></tr>",
                            "<tr><td>ROBERTI</td><td>Posta</td><td>3</td></tr>",
                            "<tr><td>ROBERTP</td><td>Posta</td><td>8</td></tr>",
                            "<tr><td>roland</td><td>Posta</td><td>157</td></tr>",
                            "<tr><td>roland1</td><td>Posta</td><td>155</td></tr>",
                            "<tr><td>roza2</td><td>Posta</td><td>2</td></tr>",
                            "<tr><td>sandor</td><td>Posta</td><td>6</td></tr>",
                            "<tr><td>sandor3</td><td>Posta</td><td>4</td></tr>",
                            "<tr><td>sandor4</td><td>Posta</td><td>2</td></tr>",
                            "<tr><td>sara</td><td>Posta</td><td>7</td></tr>",
                            "<tr><td>SEBASTIANF</td><td>Posta</td><td>3</td></tr>",
                            "<tr><td>sebestyen</td><td>Posta</td><td>6</td></tr>",
                            "<tr><td>szabolcs</td><td>Posta</td><td>157</td></tr>",
                            "<tr><td>SZABOLCSM</td><td>Posta</td><td>153</td></tr>",
                            "<tr><td>SZILARDS</td><td>Posta</td><td>131</td></tr>",
                            "<tr><td>szilvia1</td><td>Posta</td><td>151</td></tr>",
                            "<tr><td>tamara2</td><td>Posta</td><td>4</td></tr>",
                            "<tr><td>tamas</td><td>Posta</td><td>156</td></tr>",
                            "<tr><td>TAMASF</td><td>Posta</td><td>145</td></tr>",
                            "<tr><td>tibor</td><td>Posta</td><td>129</td></tr>",
                            "<tr><td>tibor2</td><td>Posta</td><td>7</td></tr>",
                            "<tr><td>tihamer</td><td>Posta</td><td>6</td></tr>",
                            "<tr><td>timea</td><td>Posta</td><td>23</td></tr>",
                            "<tr><td>timea2</td><td>Posta</td><td>5</td></tr>",
                            "<tr><td>tunde</td><td>Posta</td><td>6</td></tr>",
                            "<tr><td>valentin</td><td>Posta</td><td>5</td></tr>",
                            "<tr><td>veronika4</td><td>Posta</td><td>6</td></tr>",
                            "<tr><td>VIKTORIAU</td><td>Posta</td><td>4</td></tr>",
                            "<tr><td>VIKTORK</td><td>Posta</td><td>6</td></tr>",
                            "<tr><td>vivien3</td><td>Posta</td><td>6</td></tr>",
                            "<tr><td>zoltan</td><td>Posta</td><td>3</td></tr>",
                            "<tr><td>zoltan4</td><td>Posta</td><td>124</td></tr>",
                            "<tr><td>ZOLTANP</td><td>Posta</td><td>3</td></tr>",
                            "<tr><td>ZOLTANT</td><td>Posta</td><td>107</td></tr>",
                            "<tr><td>zsofi1</td><td>Posta</td><td>6</td></tr>",
                            "<tr><td>zsolt1</td><td>Posta</td><td>6</td></tr>",
                            "<tr><td>ZSOLTJ</td><td>Posta</td><td>8</td></tr>",
                            "<tr><td>zsuzsa</td><td>Posta</td><td>5</td></tr>",
                            "<tr><td>zsuzsa3</td><td>Posta</td><td>5</td></tr>",
                            "<tr><td>zsuzsanna</td><td>Posta</td><td>5</td></tr>",
                            "<tr><td>ZSUZSAV</td><td>Posta</td><td>139</td></tr>",
                            "<tr><td>NULL</td><td>Posta</td><td>9191</td></tr>",
                            "<tr><td>adam1</td><td>Személyes átvétel</td><td>131</td></tr>",
                            "<tr><td>adam3</td><td>Személyes átvétel</td><td>2</td></tr>",
                            "<tr><td>adam4</td><td>Személyes átvétel</td><td>11</td></tr>",
                            "<tr><td>agnes</td><td>Személyes átvétel</td><td>144</td></tr>",
                            "<tr><td>agnes3</td><td>Személyes átvétel</td><td>136</td></tr>",
                            "<tr><td>AGNESH</td><td>Személyes átvétel</td><td>6</td></tr>",
                            "<tr><td>AGNESK</td><td>Személyes átvétel</td><td>7</td></tr>",
                            "<tr><td>akos</td><td>Személyes átvétel</td><td>140</td></tr>",
                            "<tr><td>aladar</td><td>Személyes átvétel</td><td>118</td></tr>",
                            "<tr><td>alexandra</td><td>Személyes átvétel</td><td>5</td></tr>",
                            "<tr><td>andi</td><td>Személyes átvétel</td><td>7</td></tr>",
                            "<tr><td>andras2</td><td>Személyes átvétel</td><td>11</td></tr>",
                            "<tr><td>andras21</td><td>Személyes átvétel</td><td>126</td></tr>",
                            "<tr><td>andras3</td><td>Személyes átvétel</td><td>5</td></tr>",
                            "<tr><td>andras4</td><td>Személyes átvétel</td><td>4</td></tr>",
                            "<tr><td>andras41</td><td>Személyes átvétel</td><td>133</td></tr>",
                            "<tr><td>ANDRASE</td><td>Személyes átvétel</td><td>136</td></tr>",
                            "<tr><td>ANDRASN</td><td>Személyes átvétel</td><td>5</td></tr>",
                            "<tr><td>andrea</td><td>Személyes átvétel</td><td>8</td></tr>",
                            "<tr><td>andrea3</td><td>Személyes átvétel</td><td>146</td></tr>",
                            "<tr><td>andrea4</td><td>Személyes átvétel</td><td>7</td></tr>",
                            "<tr><td>ANDREAT</td><td>Személyes átvétel</td><td>12</td></tr>",
                            "<tr><td>anett3</td><td>Személyes átvétel</td><td>9</td></tr>",
                            "<tr><td>aniko</td><td>Személyes átvétel</td><td>138</td></tr>",
                            "<tr><td>aniko4</td><td>Személyes átvétel</td><td>3</td></tr>",
                            "<tr><td>ANIKOS</td><td>Személyes átvétel</td><td>150</td></tr>",
                            "<tr><td>anita</td><td>Személyes átvétel</td><td>5</td></tr>",
                            "<tr><td>annamaria1</td><td>Személyes átvétel</td><td>7</td></tr>",
                            "<tr><td>ANNAMARIAR</td><td>Személyes átvétel</td><td>3</td></tr>",
                            "<tr><td>aron2</td><td>Személyes átvétel</td><td>144</td></tr>",
                            "<tr><td>ARONK</td><td>Személyes átvétel</td><td>155</td></tr>",
                            "<tr><td>arpad2</td><td>Személyes átvétel</td><td>10</td></tr>",
                            "<tr><td>ARPADH</td><td>Személyes átvétel</td><td>5</td></tr>",
                            "<tr><td>ARPADM</td><td>Személyes átvétel</td><td>7</td></tr>",
                            "<tr><td>attila1</td><td>Személyes átvétel</td><td>6</td></tr>",
                            "<tr><td>attila4</td><td>Személyes átvétel</td><td>141</td></tr>",
                            "<tr><td>ATTILAO</td><td>Személyes átvétel</td><td>6</td></tr>",
                            "<tr><td>balazs1</td><td>Személyes átvétel</td><td>155</td></tr>",
                            "<tr><td>balazs2</td><td>Személyes átvétel</td><td>5</td></tr>",
                            "<tr><td>balazs3</td><td>Személyes átvétel</td><td>3</td></tr>",
                            "<tr><td>balint</td><td>Személyes átvétel</td><td>2</td></tr>",
                            "<tr><td>balint1</td><td>Személyes átvétel</td><td>152</td></tr>",
                            "<tr><td>balint2</td><td>Személyes átvétel</td><td>3</td></tr>",
                            "<tr><td>balu</td><td>Személyes átvétel</td><td>123</td></tr>",
                            "<tr><td>BEATRIXK</td><td>Személyes átvétel</td><td>145</td></tr>",
                            "<tr><td>BEATRIXS</td><td>Személyes átvétel</td><td>133</td></tr>",
                            "<tr><td>BELAF</td><td>Személyes átvétel</td><td>5</td></tr>",
                            "<tr><td>bence</td><td>Személyes átvétel</td><td>8</td></tr>",
                            "<tr><td>BENCEB</td><td>Személyes átvétel</td><td>5</td></tr>",
                            "<tr><td>bernadett1</td><td>Személyes átvétel</td><td>5</td></tr>",
                            "<tr><td>bernadett2</td><td>Személyes átvétel</td><td>7</td></tr>",
                            "<tr><td>BERNADETTO</td><td>Személyes átvétel</td><td>7</td></tr>",
                            "<tr><td>bertalan</td><td>Személyes átvétel</td><td>101</td></tr>",
                            "<tr><td>brigitta</td><td>Személyes átvétel</td><td>119</td></tr>",
                            "<tr><td>brigitta3</td><td>Személyes átvétel</td><td>139</td></tr>",
                            "<tr><td>csongor3</td><td>Személyes átvétel</td><td>8</td></tr>",
                            "<tr><td>dani</td><td>Személyes átvétel</td><td>8</td></tr>",
                            "<tr><td>daniel</td><td>Személyes átvétel</td><td>4</td></tr>",
                            "<tr><td>daniel1</td><td>Személyes átvétel</td><td>132</td></tr>",
                            "<tr><td>david</td><td>Személyes átvétel</td><td>146</td></tr>",
                            "<tr><td>david1</td><td>Személyes átvétel</td><td>8</td></tr>",
                            "<tr><td>david4</td><td>Személyes átvétel</td><td>10</td></tr>",
                            "<tr><td>debora</td><td>Személyes átvétel</td><td>3</td></tr>",
                            "<tr><td>denes</td><td>Személyes átvétel</td><td>4</td></tr>",
                            "<tr><td>dora3</td><td>Személyes átvétel</td><td>164</td></tr>",
                            "<tr><td>edit</td><td>Személyes átvétel</td><td>4</td></tr>",
                            "<tr><td>emese</td><td>Személyes átvétel</td><td>142</td></tr>",
                            "<tr><td>eszter2</td><td>Személyes átvétel</td><td>152</td></tr>",
                            "<tr><td>eszter4</td><td>Személyes átvétel</td><td>149</td></tr>",
                            "<tr><td>ESZTERE</td><td>Személyes átvétel</td><td>7</td></tr>",
                            "<tr><td>eva</td><td>Személyes átvétel</td><td>139</td></tr>",
                            "<tr><td>eva2</td><td>Személyes átvétel</td><td>170</td></tr>",
                            "<tr><td>EVAV</td><td>Személyes átvétel</td><td>4</td></tr>",
                            "<tr><td>ferenc1</td><td>Személyes átvétel</td><td>135</td></tr>",
                            "<tr><td>fruzsina4</td><td>Személyes átvétel</td><td>7</td></tr>",
                            "<tr><td>gabor1</td><td>Személyes átvétel</td><td>5</td></tr>",
                            "<tr><td>gabor4</td><td>Személyes átvétel</td><td>4</td></tr>",
                            "<tr><td>GABORS</td><td>Személyes átvétel</td><td>4</td></tr>",
                            "<tr><td>gabriella1</td><td>Személyes átvétel</td><td>5</td></tr>",
                            "<tr><td>gabriella10</td><td>Személyes átvétel</td><td>7</td></tr>",
                            "<tr><td>georgij</td><td>Személyes átvétel</td><td>10</td></tr>",
                            "<tr><td>gusztav</td><td>Személyes átvétel</td><td>5</td></tr>",
                            "<tr><td>GYONGYIK</td><td>Személyes átvétel</td><td>3</td></tr>",
                            "<tr><td>GYORGYO</td><td>Személyes átvétel</td><td>5</td></tr>",
                            "<tr><td>henrik3</td><td>Személyes átvétel</td><td>5</td></tr>",
                            "<tr><td>IBOLYAA</td><td>Személyes átvétel</td><td>157</td></tr>",
                            "<tr><td>ilona3</td><td>Személyes átvétel</td><td>7</td></tr>",
                            "<tr><td>imre</td><td>Személyes átvétel</td><td>6</td></tr>",
                            "<tr><td>imre1</td><td>Személyes átvétel</td><td>3</td></tr>",
                            "<tr><td>istvan</td><td>Személyes átvétel</td><td>4</td></tr>",
                            "<tr><td>istvan1</td><td>Személyes átvétel</td><td>7</td></tr>",
                            "<tr><td>ISTVANV</td><td>Személyes átvétel</td><td>8</td></tr>",
                            "<tr><td>janos3</td><td>Személyes átvétel</td><td>6</td></tr>",
                            "<tr><td>JANOSG</td><td>Személyes átvétel</td><td>4</td></tr>",
                            "<tr><td>JANOSP</td><td>Személyes átvétel</td><td>3</td></tr>",
                            "<tr><td>jozsef</td><td>Személyes átvétel</td><td>134</td></tr>",
                            "<tr><td>jozsef2</td><td>Személyes átvétel</td><td>4</td></tr>",
                            "<tr><td>JOZSEFG</td><td>Személyes átvétel</td><td>9</td></tr>",
                            "<tr><td>JUDITH</td><td>Személyes átvétel</td><td>150</td></tr>",
                            "<tr><td>julia</td><td>Személyes átvétel</td><td>138</td></tr>",
                            "<tr><td>julia4</td><td>Személyes átvétel</td><td>8</td></tr>",
                            "<tr><td>julianna4</td><td>Személyes átvétel</td><td>7</td></tr>",
                            "<tr><td>kata</td><td>Személyes átvétel</td><td>3</td></tr>",
                            "<tr><td>katalin</td><td>Személyes átvétel</td><td>5</td></tr>",
                            "<tr><td>katalin4</td><td>Személyes átvétel</td><td>11</td></tr>",
                            "<tr><td>kati</td><td>Személyes átvétel</td><td>4</td></tr>",
                            "<tr><td>katka</td><td>Személyes átvétel</td><td>10</td></tr>",
                            "<tr><td>klaudia2</td><td>Személyes átvétel</td><td>5</td></tr>",
                            "<tr><td>kornel4</td><td>Személyes átvétel</td><td>7</td></tr>",
                            "<tr><td>kristof4</td><td>Személyes átvétel</td><td>8</td></tr>",
                            "<tr><td>kriszti</td><td>Személyes átvétel</td><td>5</td></tr>",
                            "<tr><td>krisztian4</td><td>Személyes átvétel</td><td>6</td></tr>",
                            "<tr><td>KRISZTIANM</td><td>Személyes átvétel</td><td>130</td></tr>",
                            "<tr><td>krisztina</td><td>Személyes átvétel</td><td>157</td></tr>",
                            "<tr><td>krisztina1</td><td>Személyes átvétel</td><td>8</td></tr>",
                            "<tr><td>KRISZTINAG</td><td>Személyes átvétel</td><td>10</td></tr>",
                            "<tr><td>lajos</td><td>Személyes átvétel</td><td>9</td></tr>",
                            "<tr><td>lala</td><td>Személyes átvétel</td><td>9</td></tr>",
                            "<tr><td>laszlo1</td><td>Személyes átvétel</td><td>135</td></tr>",
                            "<tr><td>laszlo2</td><td>Személyes átvétel</td><td>7</td></tr>",
                            "<tr><td>LASZLOA</td><td>Személyes átvétel</td><td>154</td></tr>",
                            "<tr><td>LASZLON</td><td>Személyes átvétel</td><td>143</td></tr>",
                            "<tr><td>maria1</td><td>Személyes átvétel</td><td>1</td></tr>",
                            "<tr><td>MARKH</td><td>Személyes átvétel</td><td>142</td></tr>",
                            "<tr><td>marton</td><td>Személyes átvétel</td><td>5</td></tr>",
                            "<tr><td>MATEK</td><td>Személyes átvétel</td><td>9</td></tr>",
                            "<tr><td>matyas2</td><td>Személyes átvétel</td><td>164</td></tr>",
                            "<tr><td>MATYASS</td><td>Személyes átvétel</td><td>3</td></tr>",
                            "<tr><td>MIHALYJ</td><td>Személyes átvétel</td><td>6</td></tr>",
                            "<tr><td>miklos2</td><td>Személyes átvétel</td><td>2</td></tr>",
                            "<tr><td>MIKLOSB</td><td>Személyes átvétel</td><td>8</td></tr>",
                            "<tr><td>MONIKAM</td><td>Személyes átvétel</td><td>123</td></tr>",
                            "<tr><td>NANDORF</td><td>Személyes átvétel</td><td>134</td></tr>",
                            "<tr><td>nikolett3</td><td>Személyes átvétel</td><td>10</td></tr>",
                            "<tr><td>nikoletta4</td><td>Személyes átvétel</td><td>119</td></tr>",
                            "<tr><td>NIKOLETTAT</td><td>Személyes átvétel</td><td>5</td></tr>",
                            "<tr><td>norbert4</td><td>Személyes átvétel</td><td>9</td></tr>",
                            "<tr><td>norbert5</td><td>Személyes átvétel</td><td>9</td></tr>",
                            "<tr><td>pal</td><td>Személyes átvétel</td><td>154</td></tr>",
                            "<tr><td>peter1</td><td>Személyes átvétel</td><td>126</td></tr>",
                            "<tr><td>peter2</td><td>Személyes átvétel</td><td>7</td></tr>",
                            "<tr><td>peter3</td><td>Személyes átvétel</td><td>10</td></tr>",
                            "<tr><td>peter4</td><td>Személyes átvétel</td><td>293</td></tr>",
                            "<tr><td>PETERB</td><td>Személyes átvétel</td><td>9</td></tr>",
                            "<tr><td>polla</td><td>Személyes átvétel</td><td>7</td></tr>",
                            "<tr><td>rajmond4</td><td>Személyes átvétel</td><td>6</td></tr>",
                            "<tr><td>reka4</td><td>Személyes átvétel</td><td>11</td></tr>",
                            "<tr><td>RENATAK</td><td>Személyes átvétel</td><td>147</td></tr>",
                            "<tr><td>RENATAS</td><td>Személyes átvétel</td><td>5</td></tr>",
                            "<tr><td>robert2</td><td>Személyes átvétel</td><td>7</td></tr>",
                            "<tr><td>ROBERTI</td><td>Személyes átvétel</td><td>5</td></tr>",
                            "<tr><td>ROBERTP</td><td>Személyes átvétel</td><td>10</td></tr>",
                            "<tr><td>roland</td><td>Személyes átvétel</td><td>125</td></tr>",
                            "<tr><td>roland1</td><td>Személyes átvétel</td><td>135</td></tr>",
                            "<tr><td>roza2</td><td>Személyes átvétel</td><td>3</td></tr>",
                            "<tr><td>sandor</td><td>Személyes átvétel</td><td>7</td></tr>",
                            "<tr><td>sandor3</td><td>Személyes átvétel</td><td>6</td></tr>",
                            "<tr><td>sandor4</td><td>Személyes átvétel</td><td>5</td></tr>",
                            "<tr><td>sara</td><td>Személyes átvétel</td><td>9</td></tr>",
                            "<tr><td>SEBASTIANF</td><td>Személyes átvétel</td><td>6</td></tr>",
                            "<tr><td>sebestyen</td><td>Személyes átvétel</td><td>6</td></tr>",
                            "<tr><td>szabolcs</td><td>Személyes átvétel</td><td>169</td></tr>",
                            "<tr><td>SZABOLCSM</td><td>Személyes átvétel</td><td>129</td></tr>",
                            "<tr><td>SZILARDS</td><td>Személyes átvétel</td><td>111</td></tr>",
                            "<tr><td>szilvia1</td><td>Személyes átvétel</td><td>138</td></tr>",
                            "<tr><td>tamara2</td><td>Személyes átvétel</td><td>3</td></tr>",
                            "<tr><td>tamas</td><td>Személyes átvétel</td><td>122</td></tr>",
                            "<tr><td>TAMASF</td><td>Személyes átvétel</td><td>129</td></tr>",
                            "<tr><td>tibor</td><td>Személyes átvétel</td><td>130</td></tr>",
                            "<tr><td>tibor2</td><td>Személyes átvétel</td><td>11</td></tr>",
                            "<tr><td>tihamer</td><td>Személyes átvétel</td><td>5</td></tr>",
                            "<tr><td>timea</td><td>Személyes átvétel</td><td>18</td></tr>",
                            "<tr><td>timea2</td><td>Személyes átvétel</td><td>10</td></tr>",
                            "<tr><td>tunde</td><td>Személyes átvétel</td><td>4</td></tr>",
                            "<tr><td>valentin</td><td>Személyes átvétel</td><td>3</td></tr>",
                            "<tr><td>veronika4</td><td>Személyes átvétel</td><td>7</td></tr>",
                            "<tr><td>VIKTORIAU</td><td>Személyes átvétel</td><td>5</td></tr>",
                            "<tr><td>VIKTORK</td><td>Személyes átvétel</td><td>6</td></tr>",
                            "<tr><td>vivien3</td><td>Személyes átvétel</td><td>7</td></tr>",
                            "<tr><td>zoltan</td><td>Személyes átvétel</td><td>7</td></tr>",
                            "<tr><td>zoltan4</td><td>Személyes átvétel</td><td>171</td></tr>",
                            "<tr><td>ZOLTANP</td><td>Személyes átvétel</td><td>4</td></tr>",
                            "<tr><td>ZOLTANT</td><td>Személyes átvétel</td><td>123</td></tr>",
                            "<tr><td>zsofi1</td><td>Személyes átvétel</td><td>6</td></tr>",
                            "<tr><td>zsolt1</td><td>Személyes átvétel</td><td>3</td></tr>",
                            "<tr><td>ZSOLTJ</td><td>Személyes átvétel</td><td>9</td></tr>",
                            "<tr><td>zsuzsa</td><td>Személyes átvétel</td><td>3</td></tr>",
                            "<tr><td>zsuzsa3</td><td>Személyes átvétel</td><td>6</td></tr>",
                            "<tr><td>zsuzsanna</td><td>Személyes átvétel</td><td>3</td></tr>",
                            "<tr><td>ZSUZSAV</td><td>Személyes átvétel</td><td>142</td></tr>",
                            "<tr><td>NULL</td><td>Személyes átvétel</td><td>9468</td></tr>",
                            "<tr><td>NULL</td><td>NULL</td><td>28085</td></tr>",
                            "<tr><td>adam1</td><td>NULL</td><td>392</td></tr>",
                            "<tr><td>adam3</td><td>NULL</td><td>15</td></tr>",
                            "<tr><td>adam4</td><td>NULL</td><td>29</td></tr>",
                            "<tr><td>agnes</td><td>NULL</td><td>418</td></tr>",
                            "<tr><td>agnes3</td><td>NULL</td><td>430</td></tr>",
                            "<tr><td>AGNESH</td><td>NULL</td><td>11</td></tr>",
                            "<tr><td>AGNESK</td><td>NULL</td><td>15</td></tr>",
                            "<tr><td>akos</td><td>NULL</td><td>429</td></tr>",
                            "<tr><td>aladar</td><td>NULL</td><td>408</td></tr>",
                            "<tr><td>alexandra</td><td>NULL</td><td>19</td></tr>",
                            "<tr><td>andi</td><td>NULL</td><td>18</td></tr>",
                            "<tr><td>andras2</td><td>NULL</td><td>22</td></tr>",
                            "<tr><td>andras21</td><td>NULL</td><td>390</td></tr>",
                            "<tr><td>andras3</td><td>NULL</td><td>9</td></tr>",
                            "<tr><td>andras4</td><td>NULL</td><td>12</td></tr>",
                            "<tr><td>andras41</td><td>NULL</td><td>419</td></tr>",
                            "<tr><td>ANDRASE</td><td>NULL</td><td>436</td></tr>",
                            "<tr><td>ANDRASN</td><td>NULL</td><td>24</td></tr>",
                            "<tr><td>andrea</td><td>NULL</td><td>24</td></tr>",
                            "<tr><td>andrea3</td><td>NULL</td><td>413</td></tr>",
                            "<tr><td>andrea4</td><td>NULL</td><td>18</td></tr>",
                            "<tr><td>ANDREAT</td><td>NULL</td><td>21</td></tr>",
                            "<tr><td>anett3</td><td>NULL</td><td>18</td></tr>",
                            "<tr><td>aniko</td><td>NULL</td><td>403</td></tr>",
                            "<tr><td>aniko4</td><td>NULL</td><td>15</td></tr>",
                            "<tr><td>ANIKOS</td><td>NULL</td><td>404</td></tr>",
                            "<tr><td>anita</td><td>NULL</td><td>12</td></tr>",
                            "<tr><td>annamaria1</td><td>NULL</td><td>16</td></tr>",
                            "<tr><td>ANNAMARIAR</td><td>NULL</td><td>13</td></tr>",
                            "<tr><td>aron2</td><td>NULL</td><td>409</td></tr>",
                            "<tr><td>ARONK</td><td>NULL</td><td>430</td></tr>",
                            "<tr><td>arpad2</td><td>NULL</td><td>17</td></tr>",
                            "<tr><td>ARPADH</td><td>NULL</td><td>14</td></tr>",
                            "<tr><td>ARPADM</td><td>NULL</td><td>16</td></tr>",
                            "<tr><td>attila1</td><td>NULL</td><td>18</td></tr>",
                            "<tr><td>attila4</td><td>NULL</td><td>401</td></tr>",
                            "<tr><td>ATTILAO</td><td>NULL</td><td>14</td></tr>",
                            "<tr><td>balazs1</td><td>NULL</td><td>419</td></tr>",
                            "<tr><td>balazs2</td><td>NULL</td><td>17</td></tr>",
                            "<tr><td>balazs3</td><td>NULL</td><td>15</td></tr>",
                            "<tr><td>balint</td><td>NULL</td><td>16</td></tr>",
                            "<tr><td>balint1</td><td>NULL</td><td>462</td></tr>",
                            "<tr><td>balint2</td><td>NULL</td><td>17</td></tr>",
                            "<tr><td>balu</td><td>NULL</td><td>387</td></tr>",
                            "<tr><td>BEATRIXK</td><td>NULL</td><td>435</td></tr>",
                            "<tr><td>BEATRIXS</td><td>NULL</td><td>420</td></tr>",
                            "<tr><td>BELAF</td><td>NULL</td><td>18</td></tr>",
                            "<tr><td>bence</td><td>NULL</td><td>18</td></tr>",
                            "<tr><td>BENCEB</td><td>NULL</td><td>17</td></tr>",
                            "<tr><td>bernadett1</td><td>NULL</td><td>20</td></tr>",
                            "<tr><td>bernadett2</td><td>NULL</td><td>15</td></tr>",
                            "<tr><td>BERNADETTO</td><td>NULL</td><td>16</td></tr>",
                            "<tr><td>bertalan</td><td>NULL</td><td>353</td></tr>",
                            "<tr><td>brigitta</td><td>NULL</td><td>393</td></tr>",
                            "<tr><td>brigitta3</td><td>NULL</td><td>413</td></tr>",
                            "<tr><td>csongor3</td><td>NULL</td><td>15</td></tr>",
                            "<tr><td>dani</td><td>NULL</td><td>13</td></tr>",
                            "<tr><td>daniel</td><td>NULL</td><td>13</td></tr>",
                            "<tr><td>daniel1</td><td>NULL</td><td>419</td></tr>",
                            "<tr><td>david</td><td>NULL</td><td>451</td></tr>",
                            "<tr><td>david1</td><td>NULL</td><td>17</td></tr>",
                            "<tr><td>david4</td><td>NULL</td><td>21</td></tr>",
                            "<tr><td>debora</td><td>NULL</td><td>16</td></tr>",
                            "<tr><td>denes</td><td>NULL</td><td>9</td></tr>",
                            "<tr><td>dora3</td><td>NULL</td><td>432</td></tr>",
                            "<tr><td>edit</td><td>NULL</td><td>13</td></tr>",
                            "<tr><td>emese</td><td>NULL</td><td>406</td></tr>",
                            "<tr><td>eszter2</td><td>NULL</td><td>415</td></tr>",
                            "<tr><td>eszter4</td><td>NULL</td><td>424</td></tr>",
                            "<tr><td>ESZTERE</td><td>NULL</td><td>22</td></tr>",
                            "<tr><td>eva</td><td>NULL</td><td>404</td></tr>",
                            "<tr><td>eva2</td><td>NULL</td><td>462</td></tr>",
                            "<tr><td>EVAV</td><td>NULL</td><td>7</td></tr>",
                            "<tr><td>ferenc1</td><td>NULL</td><td>437</td></tr>",
                            "<tr><td>fruzsina4</td><td>NULL</td><td>18</td></tr>",
                            "<tr><td>gabor1</td><td>NULL</td><td>19</td></tr>",
                            "<tr><td>gabor4</td><td>NULL</td><td>20</td></tr>",
                            "<tr><td>GABORS</td><td>NULL</td><td>15</td></tr>",
                            "<tr><td>gabriella1</td><td>NULL</td><td>14</td></tr>",
                            "<tr><td>gabriella10</td><td>NULL</td><td>16</td></tr>",
                            "<tr><td>georgij</td><td>NULL</td><td>21</td></tr>",
                            "<tr><td>gusztav</td><td>NULL</td><td>14</td></tr>",
                            "<tr><td>GYONGYIK</td><td>NULL</td><td>15</td></tr>",
                            "<tr><td>GYORGYO</td><td>NULL</td><td>16</td></tr>",
                            "<tr><td>henrik3</td><td>NULL</td><td>16</td></tr>",
                            "<tr><td>IBOLYAA</td><td>NULL</td><td>422</td></tr>",
                            "<tr><td>ilona3</td><td>NULL</td><td>18</td></tr>",
                            "<tr><td>imre</td><td>NULL</td><td>15</td></tr>",
                            "<tr><td>imre1</td><td>NULL</td><td>15</td></tr>",
                            "<tr><td>istvan</td><td>NULL</td><td>11</td></tr>",
                            "<tr><td>istvan1</td><td>NULL</td><td>19</td></tr>",
                            "<tr><td>ISTVANV</td><td>NULL</td><td>21</td></tr>",
                            "<tr><td>janos3</td><td>NULL</td><td>13</td></tr>",
                            "<tr><td>JANOSG</td><td>NULL</td><td>10</td></tr>",
                            "<tr><td>JANOSP</td><td>NULL</td><td>17</td></tr>",
                            "<tr><td>jozsef</td><td>NULL</td><td>382</td></tr>",
                            "<tr><td>jozsef2</td><td>NULL</td><td>13</td></tr>",
                            "<tr><td>JOZSEFG</td><td>NULL</td><td>21</td></tr>",
                            "<tr><td>JUDITH</td><td>NULL</td><td>450</td></tr>",
                            "<tr><td>julia</td><td>NULL</td><td>435</td></tr>",
                            "<tr><td>julia4</td><td>NULL</td><td>14</td></tr>",
                            "<tr><td>julianna4</td><td>NULL</td><td>27</td></tr>",
                            "<tr><td>kata</td><td>NULL</td><td>12</td></tr>",
                            "<tr><td>katalin</td><td>NULL</td><td>19</td></tr>",
                            "<tr><td>katalin4</td><td>NULL</td><td>23</td></tr>",
                            "<tr><td>kati</td><td>NULL</td><td>13</td></tr>",
                            "<tr><td>katka</td><td>NULL</td><td>22</td></tr>",
                            "<tr><td>klaudia2</td><td>NULL</td><td>17</td></tr>",
                            "<tr><td>kornel4</td><td>NULL</td><td>11</td></tr>",
                            "<tr><td>kristof4</td><td>NULL</td><td>21</td></tr>",
                            "<tr><td>kriszti</td><td>NULL</td><td>13</td></tr>",
                            "<tr><td>krisztian4</td><td>NULL</td><td>17</td></tr>",
                            "<tr><td>KRISZTIANM</td><td>NULL</td><td>384</td></tr>",
                            "<tr><td>krisztina</td><td>NULL</td><td>456</td></tr>",
                            "<tr><td>krisztina1</td><td>NULL</td><td>22</td></tr>",
                            "<tr><td>KRISZTINAG</td><td>NULL</td><td>22</td></tr>",
                            "<tr><td>lajos</td><td>NULL</td><td>16</td></tr>",
                            "<tr><td>lala</td><td>NULL</td><td>17</td></tr>",
                            "<tr><td>laszlo1</td><td>NULL</td><td>394</td></tr>",
                            "<tr><td>laszlo2</td><td>NULL</td><td>25</td></tr>",
                            "<tr><td>LASZLOA</td><td>NULL</td><td>446</td></tr>",
                            "<tr><td>LASZLON</td><td>NULL</td><td>400</td></tr>",
                            "<tr><td>maria1</td><td>NULL</td><td>10</td></tr>",
                            "<tr><td>MARKH</td><td>NULL</td><td>412</td></tr>",
                            "<tr><td>marton</td><td>NULL</td><td>14</td></tr>",
                            "<tr><td>MATEK</td><td>NULL</td><td>25</td></tr>",
                            "<tr><td>matyas2</td><td>NULL</td><td>433</td></tr>",
                            "<tr><td>MATYASS</td><td>NULL</td><td>12</td></tr>",
                            "<tr><td>MIHALYJ</td><td>NULL</td><td>13</td></tr>",
                            "<tr><td>miklos2</td><td>NULL</td><td>13</td></tr>",
                            "<tr><td>MIKLOSB</td><td>NULL</td><td>15</td></tr>",
                            "<tr><td>MONIKAM</td><td>NULL</td><td>407</td></tr>",
                            "<tr><td>NANDORF</td><td>NULL</td><td>420</td></tr>",
                            "<tr><td>nikolett3</td><td>NULL</td><td>17</td></tr>",
                            "<tr><td>nikoletta4</td><td>NULL</td><td>414</td></tr>",
                            "<tr><td>NIKOLETTAT</td><td>NULL</td><td>25</td></tr>",
                            "<tr><td>norbert2</td><td>NULL</td><td>11</td></tr>",
                            "<tr><td>norbert4</td><td>NULL</td><td>13</td></tr>",
                            "<tr><td>norbert5</td><td>NULL</td><td>16</td></tr>",
                            "<tr><td>pal</td><td>NULL</td><td>438</td></tr>",
                            "<tr><td>peter1</td><td>NULL</td><td>412</td></tr>",
                            "<tr><td>peter2</td><td>NULL</td><td>18</td></tr>",
                            "<tr><td>peter3</td><td>NULL</td><td>25</td></tr>",
                            "<tr><td>peter4</td><td>NULL</td><td>852</td></tr>",
                            "<tr><td>PETERB</td><td>NULL</td><td>15</td></tr>",
                            "<tr><td>polla</td><td>NULL</td><td>22</td></tr>",
                            "<tr><td>rajmond4</td><td>NULL</td><td>17</td></tr>",
                            "<tr><td>reka4</td><td>NULL</td><td>20</td></tr>",
                            "<tr><td>RENATAK</td><td>NULL</td><td>422</td></tr>",
                            "<tr><td>RENATAS</td><td>NULL</td><td>16</td></tr>",
                            "<tr><td>robert2</td><td>NULL</td><td>13</td></tr>",
                            "<tr><td>ROBERTI</td><td>NULL</td><td>13</td></tr>",
                            "<tr><td>ROBERTP</td><td>NULL</td><td>26</td></tr>",
                            "<tr><td>roland</td><td>NULL</td><td>414</td></tr>",
                            "<tr><td>roland1</td><td>NULL</td><td>432</td></tr>",
                            "<tr><td>roza2</td><td>NULL</td><td>8</td></tr>",
                            "<tr><td>sandor</td><td>NULL</td><td>17</td></tr>",
                            "<tr><td>sandor3</td><td>NULL</td><td>14</td></tr>",
                            "<tr><td>sandor4</td><td>NULL</td><td>11</td></tr>",
                            "<tr><td>sara</td><td>NULL</td><td>20</td></tr>",
                            "<tr><td>SEBASTIANF</td><td>NULL</td><td>15</td></tr>",
                            "<tr><td>sebestyen</td><td>NULL</td><td>16</td></tr>",
                            "<tr><td>szabolcs</td><td>NULL</td><td>471</td></tr>",
                            "<tr><td>SZABOLCSM</td><td>NULL</td><td>408</td></tr>",
                            "<tr><td>SZILARDS</td><td>NULL</td><td>386</td></tr>",
                            "<tr><td>szilvia1</td><td>NULL</td><td>445</td></tr>",
                            "<tr><td>tamara2</td><td>NULL</td><td>13</td></tr>",
                            "<tr><td>tamas</td><td>NULL</td><td>421</td></tr>",
                            "<tr><td>TAMASF</td><td>NULL</td><td>433</td></tr>",
                            "<tr><td>tibor</td><td>NULL</td><td>374</td></tr>",
                            "<tr><td>tibor2</td><td>NULL</td><td>25</td></tr>",
                            "<tr><td>tihamer</td><td>NULL</td><td>20</td></tr>",
                            "<tr><td>timea</td><td>NULL</td><td>55</td></tr>",
                            "<tr><td>timea2</td><td>NULL</td><td>16</td></tr>",
                            "<tr><td>tunde</td><td>NULL</td><td>16</td></tr>",
                            "<tr><td>valentin</td><td>NULL</td><td>13</td></tr>",
                            "<tr><td>veronika4</td><td>NULL</td><td>18</td></tr>",
                            "<tr><td>VIKTORIAU</td><td>NULL</td><td>14</td></tr>",
                            "<tr><td>VIKTORK</td><td>NULL</td><td>20</td></tr>",
                            "<tr><td>vivien3</td><td>NULL</td><td>22</td></tr>",
                            "<tr><td>zoltan</td><td>NULL</td><td>15</td></tr>",
                            "<tr><td>zoltan4</td><td>NULL</td><td>424</td></tr>",
                            "<tr><td>ZOLTANP</td><td>NULL</td><td>13</td></tr>",
                            "<tr><td>ZOLTANT</td><td>NULL</td><td>357</td></tr>",
                            "<tr><td>zsofi1</td><td>NULL</td><td>19</td></tr>",
                            "<tr><td>zsolt1</td><td>NULL</td><td>20</td></tr>",
                            "<tr><td>ZSOLTJ</td><td>NULL</td><td>18</td></tr>",
                            "<tr><td>zsuzsa</td><td>NULL</td><td>16</td></tr>",
                            "<tr><td>zsuzsa3</td><td>NULL</td><td>16</td></tr>",
                            "<tr><td>zsuzsanna</td><td>NULL</td><td>15</td></tr>",
                            "<tr><td>ZSUZSAV</td><td>NULL</td><td>420</td></tr>",
                            "</table>"
                        ]
                    }
                }
            ],
            "execution_count": 2
        },
        {
            "cell_type": "markdown",
            "source": [
                "2. <span style=\"background-color: rgb(255, 255, 255); color: rgb(0, 0, 0); font-family: &quot;Open Sans&quot;, sans-serif; font-size: 14.44px;\">Készítsünk listát a termékek számáról a következő csoportosítási szempontok szerint:<br>kategória azonosító, raktárkód, raktárkód+mennyiségi egység!</span>\n",
                "\n",
                "a. A listát szűrjük azokra a csoportokra, ahol a termékek száma legalább 6!"
            ],
            "metadata": {
                "azdata_cell_guid": "ea75c103-911f-41a3-a32c-3d40fb3e4e4a"
            },
            "attachments": {}
        },
        {
            "cell_type": "code",
            "source": [
                "SELECT KAT_ID,\r\n",
                "       RAKTAR_KOD,\r\n",
                "       MEGYS,\r\n",
                "       COUNT(*) as 'darab'\r\n",
                "from Termek\r\n",
                "GROUP BY GROUPING SETS(KAT_ID,RAKTAR_KOD, (RAKTAR_KOD, MEGYS))\r\n",
                "having COUNT(*) >6\r\n",
                "\r\n",
                "select  KAT_ID, RAKTAR_KOD, MEGYS, count(*)\r\n",
                "from Termek \r\n",
                "group by KAT_ID,RAKTAR_KOD, (RAKTAR_KOD, MEGYS)\r\n",
                "\r\n",
                ""
            ],
            "metadata": {
                "azdata_cell_guid": "222b9618-a8e8-42b4-a8e8-d002257122b7",
                "language": "sql"
            },
            "outputs": [
                {
                    "output_type": "display_data",
                    "data": {
                        "text/html": "(43 rows affected)"
                    },
                    "metadata": {}
                },
                {
                    "output_type": "display_data",
                    "data": {
                        "text/html": "(335 rows affected)"
                    },
                    "metadata": {}
                },
                {
                    "output_type": "display_data",
                    "data": {
                        "text/html": "Total execution time: 00:00:00.314"
                    },
                    "metadata": {}
                },
                {
                    "output_type": "execute_result",
                    "metadata": {},
                    "execution_count": 22,
                    "data": {
                        "application/vnd.dataresource+json": {
                            "schema": {
                                "fields": [
                                    {
                                        "name": "KAT_ID"
                                    },
                                    {
                                        "name": "RAKTAR_KOD"
                                    },
                                    {
                                        "name": "MEGYS"
                                    },
                                    {
                                        "name": "darab"
                                    }
                                ]
                            },
                            "data": [
                                {
                                    "KAT_ID": "NULL",
                                    "RAKTAR_KOD": "1",
                                    "MEGYS": "db",
                                    "darab": "11"
                                },
                                {
                                    "KAT_ID": "NULL",
                                    "RAKTAR_KOD": "1",
                                    "MEGYS": "NULL",
                                    "darab": "11"
                                },
                                {
                                    "KAT_ID": "NULL",
                                    "RAKTAR_KOD": "3",
                                    "MEGYS": "db",
                                    "darab": "14"
                                },
                                {
                                    "KAT_ID": "NULL",
                                    "RAKTAR_KOD": "3",
                                    "MEGYS": "NULL",
                                    "darab": "14"
                                },
                                {
                                    "KAT_ID": "NULL",
                                    "RAKTAR_KOD": "5",
                                    "MEGYS": "csomag",
                                    "darab": "7"
                                },
                                {
                                    "KAT_ID": "NULL",
                                    "RAKTAR_KOD": "5",
                                    "MEGYS": "db",
                                    "darab": "72"
                                },
                                {
                                    "KAT_ID": "NULL",
                                    "RAKTAR_KOD": "5",
                                    "MEGYS": "NULL",
                                    "darab": "86"
                                },
                                {
                                    "KAT_ID": "NULL",
                                    "RAKTAR_KOD": "6",
                                    "MEGYS": "csomag",
                                    "darab": "9"
                                },
                                {
                                    "KAT_ID": "NULL",
                                    "RAKTAR_KOD": "6",
                                    "MEGYS": "db",
                                    "darab": "94"
                                },
                                {
                                    "KAT_ID": "NULL",
                                    "RAKTAR_KOD": "6",
                                    "MEGYS": "NULL",
                                    "darab": "106"
                                },
                                {
                                    "KAT_ID": "NULL",
                                    "RAKTAR_KOD": "7",
                                    "MEGYS": "csomag",
                                    "darab": "9"
                                },
                                {
                                    "KAT_ID": "NULL",
                                    "RAKTAR_KOD": "7",
                                    "MEGYS": "db",
                                    "darab": "88"
                                },
                                {
                                    "KAT_ID": "NULL",
                                    "RAKTAR_KOD": "7",
                                    "MEGYS": "NULL",
                                    "darab": "100"
                                },
                                {
                                    "KAT_ID": "NULL",
                                    "RAKTAR_KOD": "8",
                                    "MEGYS": "csomag",
                                    "darab": "8"
                                },
                                {
                                    "KAT_ID": "NULL",
                                    "RAKTAR_KOD": "8",
                                    "MEGYS": "db",
                                    "darab": "109"
                                },
                                {
                                    "KAT_ID": "NULL",
                                    "RAKTAR_KOD": "8",
                                    "MEGYS": "NULL",
                                    "darab": "123"
                                },
                                {
                                    "KAT_ID": "NULL",
                                    "RAKTAR_KOD": "9",
                                    "MEGYS": "csomag",
                                    "darab": "11"
                                },
                                {
                                    "KAT_ID": "NULL",
                                    "RAKTAR_KOD": "9",
                                    "MEGYS": "db",
                                    "darab": "86"
                                },
                                {
                                    "KAT_ID": "NULL",
                                    "RAKTAR_KOD": "9",
                                    "MEGYS": "NULL",
                                    "darab": "102"
                                },
                                {
                                    "KAT_ID": "4",
                                    "RAKTAR_KOD": "NULL",
                                    "MEGYS": "NULL",
                                    "darab": "15"
                                },
                                {
                                    "KAT_ID": "6",
                                    "RAKTAR_KOD": "NULL",
                                    "MEGYS": "NULL",
                                    "darab": "20"
                                },
                                {
                                    "KAT_ID": "16",
                                    "RAKTAR_KOD": "NULL",
                                    "MEGYS": "NULL",
                                    "darab": "7"
                                },
                                {
                                    "KAT_ID": "19",
                                    "RAKTAR_KOD": "NULL",
                                    "MEGYS": "NULL",
                                    "darab": "19"
                                },
                                {
                                    "KAT_ID": "24",
                                    "RAKTAR_KOD": "NULL",
                                    "MEGYS": "NULL",
                                    "darab": "7"
                                },
                                {
                                    "KAT_ID": "30",
                                    "RAKTAR_KOD": "NULL",
                                    "MEGYS": "NULL",
                                    "darab": "7"
                                },
                                {
                                    "KAT_ID": "35",
                                    "RAKTAR_KOD": "NULL",
                                    "MEGYS": "NULL",
                                    "darab": "7"
                                },
                                {
                                    "KAT_ID": "41",
                                    "RAKTAR_KOD": "NULL",
                                    "MEGYS": "NULL",
                                    "darab": "13"
                                },
                                {
                                    "KAT_ID": "45",
                                    "RAKTAR_KOD": "NULL",
                                    "MEGYS": "NULL",
                                    "darab": "11"
                                },
                                {
                                    "KAT_ID": "46",
                                    "RAKTAR_KOD": "NULL",
                                    "MEGYS": "NULL",
                                    "darab": "7"
                                },
                                {
                                    "KAT_ID": "52",
                                    "RAKTAR_KOD": "NULL",
                                    "MEGYS": "NULL",
                                    "darab": "26"
                                },
                                {
                                    "KAT_ID": "66",
                                    "RAKTAR_KOD": "NULL",
                                    "MEGYS": "NULL",
                                    "darab": "7"
                                },
                                {
                                    "KAT_ID": "78",
                                    "RAKTAR_KOD": "NULL",
                                    "MEGYS": "NULL",
                                    "darab": "24"
                                },
                                {
                                    "KAT_ID": "85",
                                    "RAKTAR_KOD": "NULL",
                                    "MEGYS": "NULL",
                                    "darab": "16"
                                },
                                {
                                    "KAT_ID": "91",
                                    "RAKTAR_KOD": "NULL",
                                    "MEGYS": "NULL",
                                    "darab": "7"
                                },
                                {
                                    "KAT_ID": "93",
                                    "RAKTAR_KOD": "NULL",
                                    "MEGYS": "NULL",
                                    "darab": "7"
                                },
                                {
                                    "KAT_ID": "96",
                                    "RAKTAR_KOD": "NULL",
                                    "MEGYS": "NULL",
                                    "darab": "9"
                                },
                                {
                                    "KAT_ID": "97",
                                    "RAKTAR_KOD": "NULL",
                                    "MEGYS": "NULL",
                                    "darab": "10"
                                },
                                {
                                    "KAT_ID": "100",
                                    "RAKTAR_KOD": "NULL",
                                    "MEGYS": "NULL",
                                    "darab": "9"
                                },
                                {
                                    "KAT_ID": "118",
                                    "RAKTAR_KOD": "NULL",
                                    "MEGYS": "NULL",
                                    "darab": "9"
                                },
                                {
                                    "KAT_ID": "122",
                                    "RAKTAR_KOD": "NULL",
                                    "MEGYS": "NULL",
                                    "darab": "7"
                                },
                                {
                                    "KAT_ID": "124",
                                    "RAKTAR_KOD": "NULL",
                                    "MEGYS": "NULL",
                                    "darab": "10"
                                },
                                {
                                    "KAT_ID": "145",
                                    "RAKTAR_KOD": "NULL",
                                    "MEGYS": "NULL",
                                    "darab": "18"
                                },
                                {
                                    "KAT_ID": "146",
                                    "RAKTAR_KOD": "NULL",
                                    "MEGYS": "NULL",
                                    "darab": "7"
                                }
                            ]
                        },
                        "text/html": [
                            "<table>",
                            "<tr><th>KAT_ID</th><th>RAKTAR_KOD</th><th>MEGYS</th><th>darab</th></tr>",
                            "<tr><td>NULL</td><td>1</td><td>db</td><td>11</td></tr>",
                            "<tr><td>NULL</td><td>1</td><td>NULL</td><td>11</td></tr>",
                            "<tr><td>NULL</td><td>3</td><td>db</td><td>14</td></tr>",
                            "<tr><td>NULL</td><td>3</td><td>NULL</td><td>14</td></tr>",
                            "<tr><td>NULL</td><td>5</td><td>csomag</td><td>7</td></tr>",
                            "<tr><td>NULL</td><td>5</td><td>db</td><td>72</td></tr>",
                            "<tr><td>NULL</td><td>5</td><td>NULL</td><td>86</td></tr>",
                            "<tr><td>NULL</td><td>6</td><td>csomag</td><td>9</td></tr>",
                            "<tr><td>NULL</td><td>6</td><td>db</td><td>94</td></tr>",
                            "<tr><td>NULL</td><td>6</td><td>NULL</td><td>106</td></tr>",
                            "<tr><td>NULL</td><td>7</td><td>csomag</td><td>9</td></tr>",
                            "<tr><td>NULL</td><td>7</td><td>db</td><td>88</td></tr>",
                            "<tr><td>NULL</td><td>7</td><td>NULL</td><td>100</td></tr>",
                            "<tr><td>NULL</td><td>8</td><td>csomag</td><td>8</td></tr>",
                            "<tr><td>NULL</td><td>8</td><td>db</td><td>109</td></tr>",
                            "<tr><td>NULL</td><td>8</td><td>NULL</td><td>123</td></tr>",
                            "<tr><td>NULL</td><td>9</td><td>csomag</td><td>11</td></tr>",
                            "<tr><td>NULL</td><td>9</td><td>db</td><td>86</td></tr>",
                            "<tr><td>NULL</td><td>9</td><td>NULL</td><td>102</td></tr>",
                            "<tr><td>4</td><td>NULL</td><td>NULL</td><td>15</td></tr>",
                            "<tr><td>6</td><td>NULL</td><td>NULL</td><td>20</td></tr>",
                            "<tr><td>16</td><td>NULL</td><td>NULL</td><td>7</td></tr>",
                            "<tr><td>19</td><td>NULL</td><td>NULL</td><td>19</td></tr>",
                            "<tr><td>24</td><td>NULL</td><td>NULL</td><td>7</td></tr>",
                            "<tr><td>30</td><td>NULL</td><td>NULL</td><td>7</td></tr>",
                            "<tr><td>35</td><td>NULL</td><td>NULL</td><td>7</td></tr>",
                            "<tr><td>41</td><td>NULL</td><td>NULL</td><td>13</td></tr>",
                            "<tr><td>45</td><td>NULL</td><td>NULL</td><td>11</td></tr>",
                            "<tr><td>46</td><td>NULL</td><td>NULL</td><td>7</td></tr>",
                            "<tr><td>52</td><td>NULL</td><td>NULL</td><td>26</td></tr>",
                            "<tr><td>66</td><td>NULL</td><td>NULL</td><td>7</td></tr>",
                            "<tr><td>78</td><td>NULL</td><td>NULL</td><td>24</td></tr>",
                            "<tr><td>85</td><td>NULL</td><td>NULL</td><td>16</td></tr>",
                            "<tr><td>91</td><td>NULL</td><td>NULL</td><td>7</td></tr>",
                            "<tr><td>93</td><td>NULL</td><td>NULL</td><td>7</td></tr>",
                            "<tr><td>96</td><td>NULL</td><td>NULL</td><td>9</td></tr>",
                            "<tr><td>97</td><td>NULL</td><td>NULL</td><td>10</td></tr>",
                            "<tr><td>100</td><td>NULL</td><td>NULL</td><td>9</td></tr>",
                            "<tr><td>118</td><td>NULL</td><td>NULL</td><td>9</td></tr>",
                            "<tr><td>122</td><td>NULL</td><td>NULL</td><td>7</td></tr>",
                            "<tr><td>124</td><td>NULL</td><td>NULL</td><td>10</td></tr>",
                            "<tr><td>145</td><td>NULL</td><td>NULL</td><td>18</td></tr>",
                            "<tr><td>146</td><td>NULL</td><td>NULL</td><td>7</td></tr>",
                            "</table>"
                        ]
                    }
                },
                {
                    "output_type": "execute_result",
                    "metadata": {},
                    "execution_count": 22,
                    "data": {
                        "application/vnd.dataresource+json": {
                            "schema": {
                                "fields": [
                                    {
                                        "name": "KAT_ID"
                                    },
                                    {
                                        "name": "RAKTAR_KOD"
                                    },
                                    {
                                        "name": "MEGYS"
                                    },
                                    {
                                        "name": "(No column name)"
                                    }
                                ]
                            },
                            "data": [
                                {
                                    "KAT_ID": "4",
                                    "RAKTAR_KOD": "5",
                                    "MEGYS": "db",
                                    "(No column name)": "3"
                                },
                                {
                                    "KAT_ID": "4",
                                    "RAKTAR_KOD": "6",
                                    "MEGYS": "db",
                                    "(No column name)": "3"
                                },
                                {
                                    "KAT_ID": "4",
                                    "RAKTAR_KOD": "7",
                                    "MEGYS": "db",
                                    "(No column name)": "1"
                                },
                                {
                                    "KAT_ID": "4",
                                    "RAKTAR_KOD": "8",
                                    "MEGYS": "db",
                                    "(No column name)": "6"
                                },
                                {
                                    "KAT_ID": "4",
                                    "RAKTAR_KOD": "9",
                                    "MEGYS": "db",
                                    "(No column name)": "2"
                                },
                                {
                                    "KAT_ID": "5",
                                    "RAKTAR_KOD": "5",
                                    "MEGYS": "db",
                                    "(No column name)": "2"
                                },
                                {
                                    "KAT_ID": "5",
                                    "RAKTAR_KOD": "9",
                                    "MEGYS": "db",
                                    "(No column name)": "1"
                                },
                                {
                                    "KAT_ID": "6",
                                    "RAKTAR_KOD": "6",
                                    "MEGYS": "db",
                                    "(No column name)": "5"
                                },
                                {
                                    "KAT_ID": "6",
                                    "RAKTAR_KOD": "7",
                                    "MEGYS": "db",
                                    "(No column name)": "3"
                                },
                                {
                                    "KAT_ID": "6",
                                    "RAKTAR_KOD": "7",
                                    "MEGYS": "tekercs",
                                    "(No column name)": "1"
                                },
                                {
                                    "KAT_ID": "6",
                                    "RAKTAR_KOD": "8",
                                    "MEGYS": "db",
                                    "(No column name)": "8"
                                },
                                {
                                    "KAT_ID": "6",
                                    "RAKTAR_KOD": "9",
                                    "MEGYS": "db",
                                    "(No column name)": "3"
                                },
                                {
                                    "KAT_ID": "7",
                                    "RAKTAR_KOD": "7",
                                    "MEGYS": "db",
                                    "(No column name)": "1"
                                },
                                {
                                    "KAT_ID": "7",
                                    "RAKTAR_KOD": "8",
                                    "MEGYS": "db",
                                    "(No column name)": "2"
                                },
                                {
                                    "KAT_ID": "8",
                                    "RAKTAR_KOD": "3",
                                    "MEGYS": "db",
                                    "(No column name)": "1"
                                },
                                {
                                    "KAT_ID": "8",
                                    "RAKTAR_KOD": "4",
                                    "MEGYS": "db",
                                    "(No column name)": "2"
                                },
                                {
                                    "KAT_ID": "9",
                                    "RAKTAR_KOD": "6",
                                    "MEGYS": "db",
                                    "(No column name)": "1"
                                },
                                {
                                    "KAT_ID": "9",
                                    "RAKTAR_KOD": "9",
                                    "MEGYS": "db",
                                    "(No column name)": "1"
                                },
                                {
                                    "KAT_ID": "10",
                                    "RAKTAR_KOD": "9",
                                    "MEGYS": "db",
                                    "(No column name)": "1"
                                },
                                {
                                    "KAT_ID": "11",
                                    "RAKTAR_KOD": "8",
                                    "MEGYS": "db",
                                    "(No column name)": "1"
                                },
                                {
                                    "KAT_ID": "12",
                                    "RAKTAR_KOD": "5",
                                    "MEGYS": "db",
                                    "(No column name)": "1"
                                },
                                {
                                    "KAT_ID": "13",
                                    "RAKTAR_KOD": "5",
                                    "MEGYS": "db",
                                    "(No column name)": "1"
                                },
                                {
                                    "KAT_ID": "13",
                                    "RAKTAR_KOD": "8",
                                    "MEGYS": "db",
                                    "(No column name)": "1"
                                },
                                {
                                    "KAT_ID": "14",
                                    "RAKTAR_KOD": "6",
                                    "MEGYS": "db",
                                    "(No column name)": "2"
                                },
                                {
                                    "KAT_ID": "14",
                                    "RAKTAR_KOD": "7",
                                    "MEGYS": "db",
                                    "(No column name)": "1"
                                },
                                {
                                    "KAT_ID": "14",
                                    "RAKTAR_KOD": "8",
                                    "MEGYS": "db",
                                    "(No column name)": "1"
                                },
                                {
                                    "KAT_ID": "15",
                                    "RAKTAR_KOD": "9",
                                    "MEGYS": "db",
                                    "(No column name)": "1"
                                },
                                {
                                    "KAT_ID": "16",
                                    "RAKTAR_KOD": "5",
                                    "MEGYS": "db",
                                    "(No column name)": "1"
                                },
                                {
                                    "KAT_ID": "16",
                                    "RAKTAR_KOD": "6",
                                    "MEGYS": "db",
                                    "(No column name)": "3"
                                },
                                {
                                    "KAT_ID": "16",
                                    "RAKTAR_KOD": "7",
                                    "MEGYS": "db",
                                    "(No column name)": "1"
                                },
                                {
                                    "KAT_ID": "16",
                                    "RAKTAR_KOD": "8",
                                    "MEGYS": "db",
                                    "(No column name)": "1"
                                },
                                {
                                    "KAT_ID": "16",
                                    "RAKTAR_KOD": "9",
                                    "MEGYS": "db",
                                    "(No column name)": "1"
                                },
                                {
                                    "KAT_ID": "17",
                                    "RAKTAR_KOD": "8",
                                    "MEGYS": "db",
                                    "(No column name)": "1"
                                },
                                {
                                    "KAT_ID": "18",
                                    "RAKTAR_KOD": "8",
                                    "MEGYS": "csomag",
                                    "(No column name)": "1"
                                },
                                {
                                    "KAT_ID": "18",
                                    "RAKTAR_KOD": "8",
                                    "MEGYS": "db",
                                    "(No column name)": "1"
                                },
                                {
                                    "KAT_ID": "19",
                                    "RAKTAR_KOD": "5",
                                    "MEGYS": "db",
                                    "(No column name)": "4"
                                },
                                {
                                    "KAT_ID": "19",
                                    "RAKTAR_KOD": "6",
                                    "MEGYS": "db",
                                    "(No column name)": "5"
                                },
                                {
                                    "KAT_ID": "19",
                                    "RAKTAR_KOD": "7",
                                    "MEGYS": "db",
                                    "(No column name)": "5"
                                },
                                {
                                    "KAT_ID": "19",
                                    "RAKTAR_KOD": "8",
                                    "MEGYS": "db",
                                    "(No column name)": "1"
                                },
                                {
                                    "KAT_ID": "19",
                                    "RAKTAR_KOD": "9",
                                    "MEGYS": "db",
                                    "(No column name)": "4"
                                },
                                {
                                    "KAT_ID": "20",
                                    "RAKTAR_KOD": "7",
                                    "MEGYS": "db",
                                    "(No column name)": "2"
                                },
                                {
                                    "KAT_ID": "20",
                                    "RAKTAR_KOD": "9",
                                    "MEGYS": "db",
                                    "(No column name)": "1"
                                },
                                {
                                    "KAT_ID": "21",
                                    "RAKTAR_KOD": "5",
                                    "MEGYS": "csomag",
                                    "(No column name)": "1"
                                },
                                {
                                    "KAT_ID": "21",
                                    "RAKTAR_KOD": "5",
                                    "MEGYS": "ív",
                                    "(No column name)": "1"
                                },
                                {
                                    "KAT_ID": "21",
                                    "RAKTAR_KOD": "6",
                                    "MEGYS": "ív",
                                    "(No column name)": "2"
                                },
                                {
                                    "KAT_ID": "21",
                                    "RAKTAR_KOD": "9",
                                    "MEGYS": "Ív",
                                    "(No column name)": "1"
                                },
                                {
                                    "KAT_ID": "22",
                                    "RAKTAR_KOD": "7",
                                    "MEGYS": "db",
                                    "(No column name)": "1"
                                },
                                {
                                    "KAT_ID": "22",
                                    "RAKTAR_KOD": "8",
                                    "MEGYS": "csomag",
                                    "(No column name)": "1"
                                },
                                {
                                    "KAT_ID": "24",
                                    "RAKTAR_KOD": "5",
                                    "MEGYS": "db",
                                    "(No column name)": "1"
                                },
                                {
                                    "KAT_ID": "24",
                                    "RAKTAR_KOD": "5",
                                    "MEGYS": "ív",
                                    "(No column name)": "1"
                                },
                                {
                                    "KAT_ID": "24",
                                    "RAKTAR_KOD": "6",
                                    "MEGYS": "db",
                                    "(No column name)": "1"
                                },
                                {
                                    "KAT_ID": "24",
                                    "RAKTAR_KOD": "7",
                                    "MEGYS": "db",
                                    "(No column name)": "2"
                                },
                                {
                                    "KAT_ID": "24",
                                    "RAKTAR_KOD": "9",
                                    "MEGYS": "db",
                                    "(No column name)": "1"
                                },
                                {
                                    "KAT_ID": "24",
                                    "RAKTAR_KOD": "9",
                                    "MEGYS": "ív",
                                    "(No column name)": "1"
                                },
                                {
                                    "KAT_ID": "25",
                                    "RAKTAR_KOD": "5",
                                    "MEGYS": "db",
                                    "(No column name)": "1"
                                },
                                {
                                    "KAT_ID": "25",
                                    "RAKTAR_KOD": "6",
                                    "MEGYS": "db",
                                    "(No column name)": "1"
                                },
                                {
                                    "KAT_ID": "25",
                                    "RAKTAR_KOD": "7",
                                    "MEGYS": "db",
                                    "(No column name)": "1"
                                },
                                {
                                    "KAT_ID": "25",
                                    "RAKTAR_KOD": "8",
                                    "MEGYS": "db",
                                    "(No column name)": "1"
                                },
                                {
                                    "KAT_ID": "26",
                                    "RAKTAR_KOD": "9",
                                    "MEGYS": "ív",
                                    "(No column name)": "1"
                                },
                                {
                                    "KAT_ID": "27",
                                    "RAKTAR_KOD": "5",
                                    "MEGYS": "db",
                                    "(No column name)": "1"
                                },
                                {
                                    "KAT_ID": "27",
                                    "RAKTAR_KOD": "7",
                                    "MEGYS": "db",
                                    "(No column name)": "1"
                                },
                                {
                                    "KAT_ID": "27",
                                    "RAKTAR_KOD": "9",
                                    "MEGYS": "db",
                                    "(No column name)": "1"
                                },
                                {
                                    "KAT_ID": "28",
                                    "RAKTAR_KOD": "6",
                                    "MEGYS": "db",
                                    "(No column name)": "1"
                                },
                                {
                                    "KAT_ID": "28",
                                    "RAKTAR_KOD": "8",
                                    "MEGYS": "db",
                                    "(No column name)": "4"
                                },
                                {
                                    "KAT_ID": "29",
                                    "RAKTAR_KOD": "9",
                                    "MEGYS": "db",
                                    "(No column name)": "1"
                                },
                                {
                                    "KAT_ID": "30",
                                    "RAKTAR_KOD": "5",
                                    "MEGYS": "db",
                                    "(No column name)": "1"
                                },
                                {
                                    "KAT_ID": "30",
                                    "RAKTAR_KOD": "6",
                                    "MEGYS": "db",
                                    "(No column name)": "1"
                                },
                                {
                                    "KAT_ID": "30",
                                    "RAKTAR_KOD": "7",
                                    "MEGYS": "db",
                                    "(No column name)": "1"
                                },
                                {
                                    "KAT_ID": "30",
                                    "RAKTAR_KOD": "8",
                                    "MEGYS": "db",
                                    "(No column name)": "3"
                                },
                                {
                                    "KAT_ID": "30",
                                    "RAKTAR_KOD": "9",
                                    "MEGYS": "db",
                                    "(No column name)": "1"
                                },
                                {
                                    "KAT_ID": "31",
                                    "RAKTAR_KOD": "5",
                                    "MEGYS": "db",
                                    "(No column name)": "1"
                                },
                                {
                                    "KAT_ID": "32",
                                    "RAKTAR_KOD": "6",
                                    "MEGYS": "db",
                                    "(No column name)": "1"
                                },
                                {
                                    "KAT_ID": "32",
                                    "RAKTAR_KOD": "7",
                                    "MEGYS": "db",
                                    "(No column name)": "2"
                                },
                                {
                                    "KAT_ID": "33",
                                    "RAKTAR_KOD": "7",
                                    "MEGYS": "db",
                                    "(No column name)": "1"
                                },
                                {
                                    "KAT_ID": "34",
                                    "RAKTAR_KOD": "9",
                                    "MEGYS": "db",
                                    "(No column name)": "1"
                                },
                                {
                                    "KAT_ID": "35",
                                    "RAKTAR_KOD": "1",
                                    "MEGYS": "db",
                                    "(No column name)": "1"
                                },
                                {
                                    "KAT_ID": "35",
                                    "RAKTAR_KOD": "2",
                                    "MEGYS": "db",
                                    "(No column name)": "1"
                                },
                                {
                                    "KAT_ID": "35",
                                    "RAKTAR_KOD": "3",
                                    "MEGYS": "db",
                                    "(No column name)": "3"
                                },
                                {
                                    "KAT_ID": "35",
                                    "RAKTAR_KOD": "4",
                                    "MEGYS": "db",
                                    "(No column name)": "2"
                                },
                                {
                                    "KAT_ID": "36",
                                    "RAKTAR_KOD": "5",
                                    "MEGYS": "csomag",
                                    "(No column name)": "1"
                                },
                                {
                                    "KAT_ID": "36",
                                    "RAKTAR_KOD": "6",
                                    "MEGYS": "csomag",
                                    "(No column name)": "2"
                                },
                                {
                                    "KAT_ID": "36",
                                    "RAKTAR_KOD": "9",
                                    "MEGYS": "csomag",
                                    "(No column name)": "2"
                                },
                                {
                                    "KAT_ID": "37",
                                    "RAKTAR_KOD": "1",
                                    "MEGYS": "db",
                                    "(No column name)": "1"
                                },
                                {
                                    "KAT_ID": "38",
                                    "RAKTAR_KOD": "1",
                                    "MEGYS": "db",
                                    "(No column name)": "1"
                                },
                                {
                                    "KAT_ID": "39",
                                    "RAKTAR_KOD": "1",
                                    "MEGYS": "db",
                                    "(No column name)": "1"
                                },
                                {
                                    "KAT_ID": "39",
                                    "RAKTAR_KOD": "3",
                                    "MEGYS": "db",
                                    "(No column name)": "1"
                                },
                                {
                                    "KAT_ID": "40",
                                    "RAKTAR_KOD": "6",
                                    "MEGYS": "db",
                                    "(No column name)": "1"
                                },
                                {
                                    "KAT_ID": "41",
                                    "RAKTAR_KOD": "5",
                                    "MEGYS": "db",
                                    "(No column name)": "5"
                                },
                                {
                                    "KAT_ID": "41",
                                    "RAKTAR_KOD": "7",
                                    "MEGYS": "db",
                                    "(No column name)": "1"
                                },
                                {
                                    "KAT_ID": "41",
                                    "RAKTAR_KOD": "8",
                                    "MEGYS": "db",
                                    "(No column name)": "4"
                                },
                                {
                                    "KAT_ID": "41",
                                    "RAKTAR_KOD": "9",
                                    "MEGYS": "csomag",
                                    "(No column name)": "1"
                                },
                                {
                                    "KAT_ID": "41",
                                    "RAKTAR_KOD": "9",
                                    "MEGYS": "db",
                                    "(No column name)": "2"
                                },
                                {
                                    "KAT_ID": "42",
                                    "RAKTAR_KOD": "7",
                                    "MEGYS": "db",
                                    "(No column name)": "1"
                                },
                                {
                                    "KAT_ID": "43",
                                    "RAKTAR_KOD": "8",
                                    "MEGYS": "ív",
                                    "(No column name)": "2"
                                },
                                {
                                    "KAT_ID": "43",
                                    "RAKTAR_KOD": "9",
                                    "MEGYS": "ív",
                                    "(No column name)": "1"
                                },
                                {
                                    "KAT_ID": "44",
                                    "RAKTAR_KOD": "9",
                                    "MEGYS": "db",
                                    "(No column name)": "1"
                                },
                                {
                                    "KAT_ID": "45",
                                    "RAKTAR_KOD": "5",
                                    "MEGYS": "db",
                                    "(No column name)": "1"
                                },
                                {
                                    "KAT_ID": "45",
                                    "RAKTAR_KOD": "6",
                                    "MEGYS": "db",
                                    "(No column name)": "2"
                                },
                                {
                                    "KAT_ID": "45",
                                    "RAKTAR_KOD": "7",
                                    "MEGYS": "db",
                                    "(No column name)": "2"
                                },
                                {
                                    "KAT_ID": "45",
                                    "RAKTAR_KOD": "8",
                                    "MEGYS": "db",
                                    "(No column name)": "3"
                                },
                                {
                                    "KAT_ID": "45",
                                    "RAKTAR_KOD": "9",
                                    "MEGYS": "db",
                                    "(No column name)": "3"
                                },
                                {
                                    "KAT_ID": "46",
                                    "RAKTAR_KOD": "2",
                                    "MEGYS": "db",
                                    "(No column name)": "1"
                                },
                                {
                                    "KAT_ID": "46",
                                    "RAKTAR_KOD": "6",
                                    "MEGYS": "db",
                                    "(No column name)": "2"
                                },
                                {
                                    "KAT_ID": "46",
                                    "RAKTAR_KOD": "7",
                                    "MEGYS": "csomag",
                                    "(No column name)": "1"
                                },
                                {
                                    "KAT_ID": "46",
                                    "RAKTAR_KOD": "7",
                                    "MEGYS": "db",
                                    "(No column name)": "1"
                                },
                                {
                                    "KAT_ID": "46",
                                    "RAKTAR_KOD": "9",
                                    "MEGYS": "db",
                                    "(No column name)": "2"
                                },
                                {
                                    "KAT_ID": "47",
                                    "RAKTAR_KOD": "6",
                                    "MEGYS": "db",
                                    "(No column name)": "2"
                                },
                                {
                                    "KAT_ID": "47",
                                    "RAKTAR_KOD": "7",
                                    "MEGYS": "db",
                                    "(No column name)": "1"
                                },
                                {
                                    "KAT_ID": "47",
                                    "RAKTAR_KOD": "9",
                                    "MEGYS": "db",
                                    "(No column name)": "1"
                                },
                                {
                                    "KAT_ID": "48",
                                    "RAKTAR_KOD": "7",
                                    "MEGYS": "db",
                                    "(No column name)": "1"
                                },
                                {
                                    "KAT_ID": "48",
                                    "RAKTAR_KOD": "8",
                                    "MEGYS": "db",
                                    "(No column name)": "1"
                                },
                                {
                                    "KAT_ID": "49",
                                    "RAKTAR_KOD": "5",
                                    "MEGYS": "csomag",
                                    "(No column name)": "1"
                                },
                                {
                                    "KAT_ID": "49",
                                    "RAKTAR_KOD": "8",
                                    "MEGYS": "csomag",
                                    "(No column name)": "1"
                                },
                                {
                                    "KAT_ID": "50",
                                    "RAKTAR_KOD": "7",
                                    "MEGYS": "csomag",
                                    "(No column name)": "1"
                                },
                                {
                                    "KAT_ID": "51",
                                    "RAKTAR_KOD": "7",
                                    "MEGYS": "csomag",
                                    "(No column name)": "1"
                                },
                                {
                                    "KAT_ID": "51",
                                    "RAKTAR_KOD": "8",
                                    "MEGYS": "db",
                                    "(No column name)": "1"
                                },
                                {
                                    "KAT_ID": "51",
                                    "RAKTAR_KOD": "9",
                                    "MEGYS": "csomag",
                                    "(No column name)": "1"
                                },
                                {
                                    "KAT_ID": "52",
                                    "RAKTAR_KOD": "5",
                                    "MEGYS": "db",
                                    "(No column name)": "4"
                                },
                                {
                                    "KAT_ID": "52",
                                    "RAKTAR_KOD": "6",
                                    "MEGYS": "db",
                                    "(No column name)": "5"
                                },
                                {
                                    "KAT_ID": "52",
                                    "RAKTAR_KOD": "7",
                                    "MEGYS": "db",
                                    "(No column name)": "4"
                                },
                                {
                                    "KAT_ID": "52",
                                    "RAKTAR_KOD": "8",
                                    "MEGYS": "db",
                                    "(No column name)": "8"
                                },
                                {
                                    "KAT_ID": "52",
                                    "RAKTAR_KOD": "9",
                                    "MEGYS": "db",
                                    "(No column name)": "5"
                                },
                                {
                                    "KAT_ID": "53",
                                    "RAKTAR_KOD": "9",
                                    "MEGYS": "csomag",
                                    "(No column name)": "1"
                                },
                                {
                                    "KAT_ID": "54",
                                    "RAKTAR_KOD": "1",
                                    "MEGYS": "db",
                                    "(No column name)": "2"
                                },
                                {
                                    "KAT_ID": "54",
                                    "RAKTAR_KOD": "2",
                                    "MEGYS": "db",
                                    "(No column name)": "1"
                                },
                                {
                                    "KAT_ID": "54",
                                    "RAKTAR_KOD": "3",
                                    "MEGYS": "db",
                                    "(No column name)": "3"
                                },
                                {
                                    "KAT_ID": "55",
                                    "RAKTAR_KOD": "1",
                                    "MEGYS": "db",
                                    "(No column name)": "2"
                                },
                                {
                                    "KAT_ID": "56",
                                    "RAKTAR_KOD": "1",
                                    "MEGYS": "db",
                                    "(No column name)": "1"
                                },
                                {
                                    "KAT_ID": "56",
                                    "RAKTAR_KOD": "3",
                                    "MEGYS": "db",
                                    "(No column name)": "3"
                                },
                                {
                                    "KAT_ID": "57",
                                    "RAKTAR_KOD": "3",
                                    "MEGYS": "db",
                                    "(No column name)": "2"
                                },
                                {
                                    "KAT_ID": "58",
                                    "RAKTAR_KOD": "5",
                                    "MEGYS": "db",
                                    "(No column name)": "1"
                                },
                                {
                                    "KAT_ID": "58",
                                    "RAKTAR_KOD": "7",
                                    "MEGYS": "db",
                                    "(No column name)": "1"
                                },
                                {
                                    "KAT_ID": "58",
                                    "RAKTAR_KOD": "8",
                                    "MEGYS": "db",
                                    "(No column name)": "1"
                                },
                                {
                                    "KAT_ID": "59",
                                    "RAKTAR_KOD": "5",
                                    "MEGYS": "csomag",
                                    "(No column name)": "1"
                                },
                                {
                                    "KAT_ID": "59",
                                    "RAKTAR_KOD": "6",
                                    "MEGYS": "db",
                                    "(No column name)": "1"
                                },
                                {
                                    "KAT_ID": "59",
                                    "RAKTAR_KOD": "8",
                                    "MEGYS": "db",
                                    "(No column name)": "1"
                                },
                                {
                                    "KAT_ID": "59",
                                    "RAKTAR_KOD": "9",
                                    "MEGYS": "csomag",
                                    "(No column name)": "1"
                                },
                                {
                                    "KAT_ID": "60",
                                    "RAKTAR_KOD": "6",
                                    "MEGYS": "db",
                                    "(No column name)": "1"
                                },
                                {
                                    "KAT_ID": "60",
                                    "RAKTAR_KOD": "7",
                                    "MEGYS": "db",
                                    "(No column name)": "1"
                                },
                                {
                                    "KAT_ID": "60",
                                    "RAKTAR_KOD": "9",
                                    "MEGYS": "db",
                                    "(No column name)": "3"
                                },
                                {
                                    "KAT_ID": "61",
                                    "RAKTAR_KOD": "8",
                                    "MEGYS": "db",
                                    "(No column name)": "1"
                                },
                                {
                                    "KAT_ID": "62",
                                    "RAKTAR_KOD": "9",
                                    "MEGYS": "db",
                                    "(No column name)": "2"
                                },
                                {
                                    "KAT_ID": "64",
                                    "RAKTAR_KOD": "6",
                                    "MEGYS": "db",
                                    "(No column name)": "2"
                                },
                                {
                                    "KAT_ID": "64",
                                    "RAKTAR_KOD": "8",
                                    "MEGYS": "db",
                                    "(No column name)": "2"
                                },
                                {
                                    "KAT_ID": "65",
                                    "RAKTAR_KOD": "7",
                                    "MEGYS": "db",
                                    "(No column name)": "1"
                                },
                                {
                                    "KAT_ID": "65",
                                    "RAKTAR_KOD": "9",
                                    "MEGYS": "db",
                                    "(No column name)": "1"
                                },
                                {
                                    "KAT_ID": "66",
                                    "RAKTAR_KOD": "5",
                                    "MEGYS": "db",
                                    "(No column name)": "1"
                                },
                                {
                                    "KAT_ID": "66",
                                    "RAKTAR_KOD": "6",
                                    "MEGYS": "db",
                                    "(No column name)": "1"
                                },
                                {
                                    "KAT_ID": "66",
                                    "RAKTAR_KOD": "7",
                                    "MEGYS": "db",
                                    "(No column name)": "3"
                                },
                                {
                                    "KAT_ID": "66",
                                    "RAKTAR_KOD": "8",
                                    "MEGYS": "db",
                                    "(No column name)": "1"
                                },
                                {
                                    "KAT_ID": "66",
                                    "RAKTAR_KOD": "9",
                                    "MEGYS": "db",
                                    "(No column name)": "1"
                                },
                                {
                                    "KAT_ID": "67",
                                    "RAKTAR_KOD": "7",
                                    "MEGYS": "db",
                                    "(No column name)": "1"
                                },
                                {
                                    "KAT_ID": "67",
                                    "RAKTAR_KOD": "8",
                                    "MEGYS": "db",
                                    "(No column name)": "1"
                                },
                                {
                                    "KAT_ID": "68",
                                    "RAKTAR_KOD": "5",
                                    "MEGYS": "db",
                                    "(No column name)": "2"
                                },
                                {
                                    "KAT_ID": "70",
                                    "RAKTAR_KOD": "6",
                                    "MEGYS": "db",
                                    "(No column name)": "1"
                                },
                                {
                                    "KAT_ID": "70",
                                    "RAKTAR_KOD": "8",
                                    "MEGYS": "db",
                                    "(No column name)": "2"
                                },
                                {
                                    "KAT_ID": "71",
                                    "RAKTAR_KOD": "5",
                                    "MEGYS": "db",
                                    "(No column name)": "1"
                                },
                                {
                                    "KAT_ID": "71",
                                    "RAKTAR_KOD": "9",
                                    "MEGYS": "db",
                                    "(No column name)": "1"
                                },
                                {
                                    "KAT_ID": "72",
                                    "RAKTAR_KOD": "6",
                                    "MEGYS": "db",
                                    "(No column name)": "1"
                                },
                                {
                                    "KAT_ID": "72",
                                    "RAKTAR_KOD": "7",
                                    "MEGYS": "db",
                                    "(No column name)": "1"
                                },
                                {
                                    "KAT_ID": "73",
                                    "RAKTAR_KOD": "7",
                                    "MEGYS": "db",
                                    "(No column name)": "1"
                                },
                                {
                                    "KAT_ID": "73",
                                    "RAKTAR_KOD": "8",
                                    "MEGYS": "db",
                                    "(No column name)": "1"
                                },
                                {
                                    "KAT_ID": "74",
                                    "RAKTAR_KOD": "5",
                                    "MEGYS": "db",
                                    "(No column name)": "1"
                                },
                                {
                                    "KAT_ID": "75",
                                    "RAKTAR_KOD": "8",
                                    "MEGYS": "db",
                                    "(No column name)": "2"
                                },
                                {
                                    "KAT_ID": "76",
                                    "RAKTAR_KOD": "5",
                                    "MEGYS": "db",
                                    "(No column name)": "1"
                                },
                                {
                                    "KAT_ID": "76",
                                    "RAKTAR_KOD": "6",
                                    "MEGYS": "db",
                                    "(No column name)": "3"
                                },
                                {
                                    "KAT_ID": "76",
                                    "RAKTAR_KOD": "7",
                                    "MEGYS": "db",
                                    "(No column name)": "1"
                                },
                                {
                                    "KAT_ID": "78",
                                    "RAKTAR_KOD": "5",
                                    "MEGYS": "csomag",
                                    "(No column name)": "1"
                                },
                                {
                                    "KAT_ID": "78",
                                    "RAKTAR_KOD": "5",
                                    "MEGYS": "db",
                                    "(No column name)": "3"
                                },
                                {
                                    "KAT_ID": "78",
                                    "RAKTAR_KOD": "6",
                                    "MEGYS": "csomag",
                                    "(No column name)": "2"
                                },
                                {
                                    "KAT_ID": "78",
                                    "RAKTAR_KOD": "6",
                                    "MEGYS": "db",
                                    "(No column name)": "6"
                                },
                                {
                                    "KAT_ID": "78",
                                    "RAKTAR_KOD": "7",
                                    "MEGYS": "csomag",
                                    "(No column name)": "1"
                                },
                                {
                                    "KAT_ID": "78",
                                    "RAKTAR_KOD": "7",
                                    "MEGYS": "db",
                                    "(No column name)": "5"
                                },
                                {
                                    "KAT_ID": "78",
                                    "RAKTAR_KOD": "8",
                                    "MEGYS": "db",
                                    "(No column name)": "5"
                                },
                                {
                                    "KAT_ID": "78",
                                    "RAKTAR_KOD": "9",
                                    "MEGYS": "db",
                                    "(No column name)": "1"
                                },
                                {
                                    "KAT_ID": "79",
                                    "RAKTAR_KOD": "7",
                                    "MEGYS": "db",
                                    "(No column name)": "4"
                                },
                                {
                                    "KAT_ID": "80",
                                    "RAKTAR_KOD": "5",
                                    "MEGYS": "db",
                                    "(No column name)": "1"
                                },
                                {
                                    "KAT_ID": "82",
                                    "RAKTAR_KOD": "8",
                                    "MEGYS": "db",
                                    "(No column name)": "1"
                                },
                                {
                                    "KAT_ID": "83",
                                    "RAKTAR_KOD": "5",
                                    "MEGYS": "ív",
                                    "(No column name)": "2"
                                },
                                {
                                    "KAT_ID": "83",
                                    "RAKTAR_KOD": "6",
                                    "MEGYS": "ív",
                                    "(No column name)": "1"
                                },
                                {
                                    "KAT_ID": "83",
                                    "RAKTAR_KOD": "7",
                                    "MEGYS": "ív",
                                    "(No column name)": "1"
                                },
                                {
                                    "KAT_ID": "83",
                                    "RAKTAR_KOD": "8",
                                    "MEGYS": "ív",
                                    "(No column name)": "1"
                                },
                                {
                                    "KAT_ID": "83",
                                    "RAKTAR_KOD": "9",
                                    "MEGYS": "ív",
                                    "(No column name)": "1"
                                },
                                {
                                    "KAT_ID": "84",
                                    "RAKTAR_KOD": "6",
                                    "MEGYS": "db",
                                    "(No column name)": "1"
                                },
                                {
                                    "KAT_ID": "85",
                                    "RAKTAR_KOD": "5",
                                    "MEGYS": "db",
                                    "(No column name)": "4"
                                },
                                {
                                    "KAT_ID": "85",
                                    "RAKTAR_KOD": "6",
                                    "MEGYS": "db",
                                    "(No column name)": "3"
                                },
                                {
                                    "KAT_ID": "85",
                                    "RAKTAR_KOD": "7",
                                    "MEGYS": "db",
                                    "(No column name)": "2"
                                },
                                {
                                    "KAT_ID": "85",
                                    "RAKTAR_KOD": "8",
                                    "MEGYS": "db",
                                    "(No column name)": "3"
                                },
                                {
                                    "KAT_ID": "85",
                                    "RAKTAR_KOD": "9",
                                    "MEGYS": "db",
                                    "(No column name)": "4"
                                },
                                {
                                    "KAT_ID": "86",
                                    "RAKTAR_KOD": "7",
                                    "MEGYS": "db",
                                    "(No column name)": "1"
                                },
                                {
                                    "KAT_ID": "88",
                                    "RAKTAR_KOD": "2",
                                    "MEGYS": "db",
                                    "(No column name)": "1"
                                },
                                {
                                    "KAT_ID": "88",
                                    "RAKTAR_KOD": "3",
                                    "MEGYS": "db",
                                    "(No column name)": "1"
                                },
                                {
                                    "KAT_ID": "89",
                                    "RAKTAR_KOD": "5",
                                    "MEGYS": "db",
                                    "(No column name)": "1"
                                },
                                {
                                    "KAT_ID": "89",
                                    "RAKTAR_KOD": "6",
                                    "MEGYS": "db",
                                    "(No column name)": "1"
                                },
                                {
                                    "KAT_ID": "89",
                                    "RAKTAR_KOD": "8",
                                    "MEGYS": "db",
                                    "(No column name)": "1"
                                },
                                {
                                    "KAT_ID": "90",
                                    "RAKTAR_KOD": "5",
                                    "MEGYS": "ív",
                                    "(No column name)": "1"
                                },
                                {
                                    "KAT_ID": "90",
                                    "RAKTAR_KOD": "8",
                                    "MEGYS": "Ív",
                                    "(No column name)": "1"
                                },
                                {
                                    "KAT_ID": "91",
                                    "RAKTAR_KOD": "8",
                                    "MEGYS": "db",
                                    "(No column name)": "4"
                                },
                                {
                                    "KAT_ID": "91",
                                    "RAKTAR_KOD": "9",
                                    "MEGYS": "db",
                                    "(No column name)": "3"
                                },
                                {
                                    "KAT_ID": "92",
                                    "RAKTAR_KOD": "7",
                                    "MEGYS": "db",
                                    "(No column name)": "1"
                                },
                                {
                                    "KAT_ID": "92",
                                    "RAKTAR_KOD": "8",
                                    "MEGYS": "db",
                                    "(No column name)": "1"
                                },
                                {
                                    "KAT_ID": "93",
                                    "RAKTAR_KOD": "6",
                                    "MEGYS": "csomag",
                                    "(No column name)": "2"
                                },
                                {
                                    "KAT_ID": "93",
                                    "RAKTAR_KOD": "6",
                                    "MEGYS": "db",
                                    "(No column name)": "3"
                                },
                                {
                                    "KAT_ID": "93",
                                    "RAKTAR_KOD": "7",
                                    "MEGYS": "db",
                                    "(No column name)": "2"
                                },
                                {
                                    "KAT_ID": "94",
                                    "RAKTAR_KOD": "6",
                                    "MEGYS": "db",
                                    "(No column name)": "1"
                                },
                                {
                                    "KAT_ID": "94",
                                    "RAKTAR_KOD": "7",
                                    "MEGYS": "db",
                                    "(No column name)": "1"
                                },
                                {
                                    "KAT_ID": "95",
                                    "RAKTAR_KOD": "7",
                                    "MEGYS": "db",
                                    "(No column name)": "1"
                                },
                                {
                                    "KAT_ID": "95",
                                    "RAKTAR_KOD": "9",
                                    "MEGYS": "db",
                                    "(No column name)": "1"
                                },
                                {
                                    "KAT_ID": "96",
                                    "RAKTAR_KOD": "6",
                                    "MEGYS": "db",
                                    "(No column name)": "2"
                                },
                                {
                                    "KAT_ID": "96",
                                    "RAKTAR_KOD": "7",
                                    "MEGYS": "db",
                                    "(No column name)": "2"
                                },
                                {
                                    "KAT_ID": "96",
                                    "RAKTAR_KOD": "8",
                                    "MEGYS": "db",
                                    "(No column name)": "3"
                                },
                                {
                                    "KAT_ID": "96",
                                    "RAKTAR_KOD": "9",
                                    "MEGYS": "db",
                                    "(No column name)": "2"
                                },
                                {
                                    "KAT_ID": "97",
                                    "RAKTAR_KOD": "5",
                                    "MEGYS": "db",
                                    "(No column name)": "3"
                                },
                                {
                                    "KAT_ID": "97",
                                    "RAKTAR_KOD": "6",
                                    "MEGYS": "db",
                                    "(No column name)": "1"
                                },
                                {
                                    "KAT_ID": "97",
                                    "RAKTAR_KOD": "7",
                                    "MEGYS": "db",
                                    "(No column name)": "1"
                                },
                                {
                                    "KAT_ID": "97",
                                    "RAKTAR_KOD": "8",
                                    "MEGYS": "db",
                                    "(No column name)": "1"
                                },
                                {
                                    "KAT_ID": "97",
                                    "RAKTAR_KOD": "9",
                                    "MEGYS": "db",
                                    "(No column name)": "4"
                                },
                                {
                                    "KAT_ID": "98",
                                    "RAKTAR_KOD": "5",
                                    "MEGYS": "db",
                                    "(No column name)": "2"
                                },
                                {
                                    "KAT_ID": "98",
                                    "RAKTAR_KOD": "6",
                                    "MEGYS": "db",
                                    "(No column name)": "1"
                                },
                                {
                                    "KAT_ID": "98",
                                    "RAKTAR_KOD": "9",
                                    "MEGYS": "db",
                                    "(No column name)": "1"
                                },
                                {
                                    "KAT_ID": "99",
                                    "RAKTAR_KOD": "6",
                                    "MEGYS": "db",
                                    "(No column name)": "1"
                                },
                                {
                                    "KAT_ID": "100",
                                    "RAKTAR_KOD": "5",
                                    "MEGYS": "db",
                                    "(No column name)": "2"
                                },
                                {
                                    "KAT_ID": "100",
                                    "RAKTAR_KOD": "6",
                                    "MEGYS": "db",
                                    "(No column name)": "4"
                                },
                                {
                                    "KAT_ID": "100",
                                    "RAKTAR_KOD": "7",
                                    "MEGYS": "db",
                                    "(No column name)": "1"
                                },
                                {
                                    "KAT_ID": "100",
                                    "RAKTAR_KOD": "8",
                                    "MEGYS": "db",
                                    "(No column name)": "1"
                                },
                                {
                                    "KAT_ID": "100",
                                    "RAKTAR_KOD": "9",
                                    "MEGYS": "db",
                                    "(No column name)": "1"
                                },
                                {
                                    "KAT_ID": "101",
                                    "RAKTAR_KOD": "8",
                                    "MEGYS": "ív",
                                    "(No column name)": "1"
                                },
                                {
                                    "KAT_ID": "103",
                                    "RAKTAR_KOD": "8",
                                    "MEGYS": "db",
                                    "(No column name)": "1"
                                },
                                {
                                    "KAT_ID": "104",
                                    "RAKTAR_KOD": "8",
                                    "MEGYS": "db",
                                    "(No column name)": "1"
                                },
                                {
                                    "KAT_ID": "104",
                                    "RAKTAR_KOD": "9",
                                    "MEGYS": "db",
                                    "(No column name)": "1"
                                },
                                {
                                    "KAT_ID": "105",
                                    "RAKTAR_KOD": "9",
                                    "MEGYS": "db",
                                    "(No column name)": "1"
                                },
                                {
                                    "KAT_ID": "106",
                                    "RAKTAR_KOD": "5",
                                    "MEGYS": "db",
                                    "(No column name)": "1"
                                },
                                {
                                    "KAT_ID": "106",
                                    "RAKTAR_KOD": "6",
                                    "MEGYS": "db",
                                    "(No column name)": "2"
                                },
                                {
                                    "KAT_ID": "106",
                                    "RAKTAR_KOD": "9",
                                    "MEGYS": "db",
                                    "(No column name)": "2"
                                },
                                {
                                    "KAT_ID": "107",
                                    "RAKTAR_KOD": "1",
                                    "MEGYS": "db",
                                    "(No column name)": "1"
                                },
                                {
                                    "KAT_ID": "108",
                                    "RAKTAR_KOD": "2",
                                    "MEGYS": "db",
                                    "(No column name)": "1"
                                },
                                {
                                    "KAT_ID": "109",
                                    "RAKTAR_KOD": "7",
                                    "MEGYS": "ív",
                                    "(No column name)": "1"
                                },
                                {
                                    "KAT_ID": "110",
                                    "RAKTAR_KOD": "9",
                                    "MEGYS": "db",
                                    "(No column name)": "2"
                                },
                                {
                                    "KAT_ID": "111",
                                    "RAKTAR_KOD": "5",
                                    "MEGYS": "db",
                                    "(No column name)": "1"
                                },
                                {
                                    "KAT_ID": "111",
                                    "RAKTAR_KOD": "7",
                                    "MEGYS": "db",
                                    "(No column name)": "1"
                                },
                                {
                                    "KAT_ID": "111",
                                    "RAKTAR_KOD": "8",
                                    "MEGYS": "db",
                                    "(No column name)": "1"
                                },
                                {
                                    "KAT_ID": "112",
                                    "RAKTAR_KOD": "5",
                                    "MEGYS": "doboz",
                                    "(No column name)": "1"
                                },
                                {
                                    "KAT_ID": "112",
                                    "RAKTAR_KOD": "8",
                                    "MEGYS": "db",
                                    "(No column name)": "1"
                                },
                                {
                                    "KAT_ID": "114",
                                    "RAKTAR_KOD": "8",
                                    "MEGYS": "csomag",
                                    "(No column name)": "1"
                                },
                                {
                                    "KAT_ID": "115",
                                    "RAKTAR_KOD": "8",
                                    "MEGYS": "ív",
                                    "(No column name)": "1"
                                },
                                {
                                    "KAT_ID": "116",
                                    "RAKTAR_KOD": "6",
                                    "MEGYS": "db",
                                    "(No column name)": "1"
                                },
                                {
                                    "KAT_ID": "116",
                                    "RAKTAR_KOD": "7",
                                    "MEGYS": "db",
                                    "(No column name)": "1"
                                },
                                {
                                    "KAT_ID": "117",
                                    "RAKTAR_KOD": "6",
                                    "MEGYS": "db",
                                    "(No column name)": "1"
                                },
                                {
                                    "KAT_ID": "117",
                                    "RAKTAR_KOD": "9",
                                    "MEGYS": "db",
                                    "(No column name)": "1"
                                },
                                {
                                    "KAT_ID": "118",
                                    "RAKTAR_KOD": "5",
                                    "MEGYS": "db",
                                    "(No column name)": "3"
                                },
                                {
                                    "KAT_ID": "118",
                                    "RAKTAR_KOD": "7",
                                    "MEGYS": "db",
                                    "(No column name)": "1"
                                },
                                {
                                    "KAT_ID": "118",
                                    "RAKTAR_KOD": "8",
                                    "MEGYS": "db",
                                    "(No column name)": "4"
                                },
                                {
                                    "KAT_ID": "118",
                                    "RAKTAR_KOD": "9",
                                    "MEGYS": "db",
                                    "(No column name)": "1"
                                },
                                {
                                    "KAT_ID": "119",
                                    "RAKTAR_KOD": "5",
                                    "MEGYS": "db",
                                    "(No column name)": "1"
                                },
                                {
                                    "KAT_ID": "119",
                                    "RAKTAR_KOD": "7",
                                    "MEGYS": "db",
                                    "(No column name)": "1"
                                },
                                {
                                    "KAT_ID": "119",
                                    "RAKTAR_KOD": "9",
                                    "MEGYS": "db",
                                    "(No column name)": "1"
                                },
                                {
                                    "KAT_ID": "121",
                                    "RAKTAR_KOD": "7",
                                    "MEGYS": "db",
                                    "(No column name)": "1"
                                },
                                {
                                    "KAT_ID": "121",
                                    "RAKTAR_KOD": "8",
                                    "MEGYS": "db",
                                    "(No column name)": "1"
                                },
                                {
                                    "KAT_ID": "122",
                                    "RAKTAR_KOD": "6",
                                    "MEGYS": "db",
                                    "(No column name)": "1"
                                },
                                {
                                    "KAT_ID": "122",
                                    "RAKTAR_KOD": "7",
                                    "MEGYS": "db",
                                    "(No column name)": "1"
                                },
                                {
                                    "KAT_ID": "122",
                                    "RAKTAR_KOD": "8",
                                    "MEGYS": "db",
                                    "(No column name)": "3"
                                },
                                {
                                    "KAT_ID": "122",
                                    "RAKTAR_KOD": "9",
                                    "MEGYS": "db",
                                    "(No column name)": "2"
                                },
                                {
                                    "KAT_ID": "123",
                                    "RAKTAR_KOD": "5",
                                    "MEGYS": "db",
                                    "(No column name)": "1"
                                },
                                {
                                    "KAT_ID": "123",
                                    "RAKTAR_KOD": "7",
                                    "MEGYS": "db",
                                    "(No column name)": "1"
                                },
                                {
                                    "KAT_ID": "124",
                                    "RAKTAR_KOD": "5",
                                    "MEGYS": "db",
                                    "(No column name)": "2"
                                },
                                {
                                    "KAT_ID": "124",
                                    "RAKTAR_KOD": "6",
                                    "MEGYS": "db",
                                    "(No column name)": "2"
                                },
                                {
                                    "KAT_ID": "124",
                                    "RAKTAR_KOD": "7",
                                    "MEGYS": "db",
                                    "(No column name)": "1"
                                },
                                {
                                    "KAT_ID": "124",
                                    "RAKTAR_KOD": "8",
                                    "MEGYS": "db",
                                    "(No column name)": "3"
                                },
                                {
                                    "KAT_ID": "124",
                                    "RAKTAR_KOD": "9",
                                    "MEGYS": "db",
                                    "(No column name)": "2"
                                },
                                {
                                    "KAT_ID": "125",
                                    "RAKTAR_KOD": "6",
                                    "MEGYS": "db",
                                    "(No column name)": "1"
                                },
                                {
                                    "KAT_ID": "125",
                                    "RAKTAR_KOD": "7",
                                    "MEGYS": "db",
                                    "(No column name)": "1"
                                },
                                {
                                    "KAT_ID": "125",
                                    "RAKTAR_KOD": "9",
                                    "MEGYS": "db",
                                    "(No column name)": "2"
                                },
                                {
                                    "KAT_ID": "126",
                                    "RAKTAR_KOD": "9",
                                    "MEGYS": "csomag",
                                    "(No column name)": "1"
                                },
                                {
                                    "KAT_ID": "127",
                                    "RAKTAR_KOD": "5",
                                    "MEGYS": "csomag",
                                    "(No column name)": "1"
                                },
                                {
                                    "KAT_ID": "127",
                                    "RAKTAR_KOD": "9",
                                    "MEGYS": "csomag",
                                    "(No column name)": "1"
                                },
                                {
                                    "KAT_ID": "128",
                                    "RAKTAR_KOD": "6",
                                    "MEGYS": "db",
                                    "(No column name)": "1"
                                },
                                {
                                    "KAT_ID": "128",
                                    "RAKTAR_KOD": "8",
                                    "MEGYS": "csomag",
                                    "(No column name)": "1"
                                },
                                {
                                    "KAT_ID": "129",
                                    "RAKTAR_KOD": "5",
                                    "MEGYS": "db",
                                    "(No column name)": "1"
                                },
                                {
                                    "KAT_ID": "129",
                                    "RAKTAR_KOD": "9",
                                    "MEGYS": "db",
                                    "(No column name)": "1"
                                },
                                {
                                    "KAT_ID": "130",
                                    "RAKTAR_KOD": "1",
                                    "MEGYS": "db",
                                    "(No column name)": "1"
                                },
                                {
                                    "KAT_ID": "131",
                                    "RAKTAR_KOD": "9",
                                    "MEGYS": "db",
                                    "(No column name)": "1"
                                },
                                {
                                    "KAT_ID": "132",
                                    "RAKTAR_KOD": "8",
                                    "MEGYS": "db",
                                    "(No column name)": "1"
                                },
                                {
                                    "KAT_ID": "133",
                                    "RAKTAR_KOD": "5",
                                    "MEGYS": "csomag",
                                    "(No column name)": "1"
                                },
                                {
                                    "KAT_ID": "133",
                                    "RAKTAR_KOD": "6",
                                    "MEGYS": "csomag",
                                    "(No column name)": "1"
                                },
                                {
                                    "KAT_ID": "133",
                                    "RAKTAR_KOD": "7",
                                    "MEGYS": "csomag",
                                    "(No column name)": "1"
                                },
                                {
                                    "KAT_ID": "133",
                                    "RAKTAR_KOD": "8",
                                    "MEGYS": "csomag",
                                    "(No column name)": "2"
                                },
                                {
                                    "KAT_ID": "133",
                                    "RAKTAR_KOD": "9",
                                    "MEGYS": "csomag",
                                    "(No column name)": "1"
                                },
                                {
                                    "KAT_ID": "134",
                                    "RAKTAR_KOD": "5",
                                    "MEGYS": "db",
                                    "(No column name)": "1"
                                },
                                {
                                    "KAT_ID": "134",
                                    "RAKTAR_KOD": "6",
                                    "MEGYS": "db",
                                    "(No column name)": "1"
                                },
                                {
                                    "KAT_ID": "135",
                                    "RAKTAR_KOD": "7",
                                    "MEGYS": "csomag",
                                    "(No column name)": "1"
                                },
                                {
                                    "KAT_ID": "136",
                                    "RAKTAR_KOD": "7",
                                    "MEGYS": "db",
                                    "(No column name)": "1"
                                },
                                {
                                    "KAT_ID": "136",
                                    "RAKTAR_KOD": "8",
                                    "MEGYS": "db",
                                    "(No column name)": "1"
                                },
                                {
                                    "KAT_ID": "137",
                                    "RAKTAR_KOD": "6",
                                    "MEGYS": "db",
                                    "(No column name)": "2"
                                },
                                {
                                    "KAT_ID": "137",
                                    "RAKTAR_KOD": "9",
                                    "MEGYS": "db",
                                    "(No column name)": "1"
                                },
                                {
                                    "KAT_ID": "138",
                                    "RAKTAR_KOD": "5",
                                    "MEGYS": "db",
                                    "(No column name)": "1"
                                },
                                {
                                    "KAT_ID": "138",
                                    "RAKTAR_KOD": "6",
                                    "MEGYS": "csomag",
                                    "(No column name)": "1"
                                },
                                {
                                    "KAT_ID": "138",
                                    "RAKTAR_KOD": "7",
                                    "MEGYS": "db",
                                    "(No column name)": "1"
                                },
                                {
                                    "KAT_ID": "138",
                                    "RAKTAR_KOD": "8",
                                    "MEGYS": "db",
                                    "(No column name)": "1"
                                },
                                {
                                    "KAT_ID": "138",
                                    "RAKTAR_KOD": "9",
                                    "MEGYS": "db",
                                    "(No column name)": "1"
                                },
                                {
                                    "KAT_ID": "139",
                                    "RAKTAR_KOD": "9",
                                    "MEGYS": "csomag",
                                    "(No column name)": "1"
                                },
                                {
                                    "KAT_ID": "140",
                                    "RAKTAR_KOD": "6",
                                    "MEGYS": "db",
                                    "(No column name)": "1"
                                },
                                {
                                    "KAT_ID": "141",
                                    "RAKTAR_KOD": "8",
                                    "MEGYS": "db",
                                    "(No column name)": "2"
                                },
                                {
                                    "KAT_ID": "142",
                                    "RAKTAR_KOD": "6",
                                    "MEGYS": "csomag",
                                    "(No column name)": "1"
                                },
                                {
                                    "KAT_ID": "143",
                                    "RAKTAR_KOD": "7",
                                    "MEGYS": "csomag",
                                    "(No column name)": "1"
                                },
                                {
                                    "KAT_ID": "143",
                                    "RAKTAR_KOD": "7",
                                    "MEGYS": "db",
                                    "(No column name)": "1"
                                },
                                {
                                    "KAT_ID": "143",
                                    "RAKTAR_KOD": "9",
                                    "MEGYS": "db",
                                    "(No column name)": "1"
                                },
                                {
                                    "KAT_ID": "144",
                                    "RAKTAR_KOD": "5",
                                    "MEGYS": "db",
                                    "(No column name)": "1"
                                },
                                {
                                    "KAT_ID": "144",
                                    "RAKTAR_KOD": "9",
                                    "MEGYS": "db",
                                    "(No column name)": "1"
                                },
                                {
                                    "KAT_ID": "145",
                                    "RAKTAR_KOD": "5",
                                    "MEGYS": "db",
                                    "(No column name)": "4"
                                },
                                {
                                    "KAT_ID": "145",
                                    "RAKTAR_KOD": "6",
                                    "MEGYS": "db",
                                    "(No column name)": "6"
                                },
                                {
                                    "KAT_ID": "145",
                                    "RAKTAR_KOD": "7",
                                    "MEGYS": "db",
                                    "(No column name)": "3"
                                },
                                {
                                    "KAT_ID": "145",
                                    "RAKTAR_KOD": "8",
                                    "MEGYS": "db",
                                    "(No column name)": "2"
                                },
                                {
                                    "KAT_ID": "145",
                                    "RAKTAR_KOD": "9",
                                    "MEGYS": "db",
                                    "(No column name)": "3"
                                },
                                {
                                    "KAT_ID": "146",
                                    "RAKTAR_KOD": "5",
                                    "MEGYS": "db",
                                    "(No column name)": "2"
                                },
                                {
                                    "KAT_ID": "146",
                                    "RAKTAR_KOD": "7",
                                    "MEGYS": "db",
                                    "(No column name)": "3"
                                },
                                {
                                    "KAT_ID": "146",
                                    "RAKTAR_KOD": "8",
                                    "MEGYS": "csomag",
                                    "(No column name)": "1"
                                },
                                {
                                    "KAT_ID": "146",
                                    "RAKTAR_KOD": "9",
                                    "MEGYS": "db",
                                    "(No column name)": "1"
                                },
                                {
                                    "KAT_ID": "147",
                                    "RAKTAR_KOD": "8",
                                    "MEGYS": "db",
                                    "(No column name)": "1"
                                },
                                {
                                    "KAT_ID": "148",
                                    "RAKTAR_KOD": "5",
                                    "MEGYS": "üveg",
                                    "(No column name)": "1"
                                },
                                {
                                    "KAT_ID": "149",
                                    "RAKTAR_KOD": "5",
                                    "MEGYS": "db",
                                    "(No column name)": "2"
                                },
                                {
                                    "KAT_ID": "149",
                                    "RAKTAR_KOD": "6",
                                    "MEGYS": "db",
                                    "(No column name)": "2"
                                },
                                {
                                    "KAT_ID": "149",
                                    "RAKTAR_KOD": "8",
                                    "MEGYS": "db",
                                    "(No column name)": "2"
                                },
                                {
                                    "KAT_ID": "150",
                                    "RAKTAR_KOD": "7",
                                    "MEGYS": "csomag",
                                    "(No column name)": "1"
                                },
                                {
                                    "KAT_ID": "150",
                                    "RAKTAR_KOD": "9",
                                    "MEGYS": "csomag",
                                    "(No column name)": "1"
                                },
                                {
                                    "KAT_ID": "151",
                                    "RAKTAR_KOD": "6",
                                    "MEGYS": "db",
                                    "(No column name)": "2"
                                },
                                {
                                    "KAT_ID": "151",
                                    "RAKTAR_KOD": "7",
                                    "MEGYS": "db",
                                    "(No column name)": "2"
                                },
                                {
                                    "KAT_ID": "152",
                                    "RAKTAR_KOD": "6",
                                    "MEGYS": "db",
                                    "(No column name)": "1"
                                },
                                {
                                    "KAT_ID": "152",
                                    "RAKTAR_KOD": "7",
                                    "MEGYS": "db",
                                    "(No column name)": "1"
                                },
                                {
                                    "KAT_ID": "152",
                                    "RAKTAR_KOD": "8",
                                    "MEGYS": "db",
                                    "(No column name)": "3"
                                },
                                {
                                    "KAT_ID": "152",
                                    "RAKTAR_KOD": "9",
                                    "MEGYS": "db",
                                    "(No column name)": "1"
                                },
                                {
                                    "KAT_ID": "153",
                                    "RAKTAR_KOD": "5",
                                    "MEGYS": "db",
                                    "(No column name)": "1"
                                },
                                {
                                    "KAT_ID": "154",
                                    "RAKTAR_KOD": "7",
                                    "MEGYS": "csomag",
                                    "(No column name)": "1"
                                },
                                {
                                    "KAT_ID": "154",
                                    "RAKTAR_KOD": "7",
                                    "MEGYS": "db",
                                    "(No column name)": "2"
                                },
                                {
                                    "KAT_ID": "154",
                                    "RAKTAR_KOD": "9",
                                    "MEGYS": "db",
                                    "(No column name)": "1"
                                },
                                {
                                    "KAT_ID": "155",
                                    "RAKTAR_KOD": "8",
                                    "MEGYS": "db",
                                    "(No column name)": "1"
                                }
                            ]
                        },
                        "text/html": [
                            "<table>",
                            "<tr><th>KAT_ID</th><th>RAKTAR_KOD</th><th>MEGYS</th><th>(No column name)</th></tr>",
                            "<tr><td>4</td><td>5</td><td>db</td><td>3</td></tr>",
                            "<tr><td>4</td><td>6</td><td>db</td><td>3</td></tr>",
                            "<tr><td>4</td><td>7</td><td>db</td><td>1</td></tr>",
                            "<tr><td>4</td><td>8</td><td>db</td><td>6</td></tr>",
                            "<tr><td>4</td><td>9</td><td>db</td><td>2</td></tr>",
                            "<tr><td>5</td><td>5</td><td>db</td><td>2</td></tr>",
                            "<tr><td>5</td><td>9</td><td>db</td><td>1</td></tr>",
                            "<tr><td>6</td><td>6</td><td>db</td><td>5</td></tr>",
                            "<tr><td>6</td><td>7</td><td>db</td><td>3</td></tr>",
                            "<tr><td>6</td><td>7</td><td>tekercs</td><td>1</td></tr>",
                            "<tr><td>6</td><td>8</td><td>db</td><td>8</td></tr>",
                            "<tr><td>6</td><td>9</td><td>db</td><td>3</td></tr>",
                            "<tr><td>7</td><td>7</td><td>db</td><td>1</td></tr>",
                            "<tr><td>7</td><td>8</td><td>db</td><td>2</td></tr>",
                            "<tr><td>8</td><td>3</td><td>db</td><td>1</td></tr>",
                            "<tr><td>8</td><td>4</td><td>db</td><td>2</td></tr>",
                            "<tr><td>9</td><td>6</td><td>db</td><td>1</td></tr>",
                            "<tr><td>9</td><td>9</td><td>db</td><td>1</td></tr>",
                            "<tr><td>10</td><td>9</td><td>db</td><td>1</td></tr>",
                            "<tr><td>11</td><td>8</td><td>db</td><td>1</td></tr>",
                            "<tr><td>12</td><td>5</td><td>db</td><td>1</td></tr>",
                            "<tr><td>13</td><td>5</td><td>db</td><td>1</td></tr>",
                            "<tr><td>13</td><td>8</td><td>db</td><td>1</td></tr>",
                            "<tr><td>14</td><td>6</td><td>db</td><td>2</td></tr>",
                            "<tr><td>14</td><td>7</td><td>db</td><td>1</td></tr>",
                            "<tr><td>14</td><td>8</td><td>db</td><td>1</td></tr>",
                            "<tr><td>15</td><td>9</td><td>db</td><td>1</td></tr>",
                            "<tr><td>16</td><td>5</td><td>db</td><td>1</td></tr>",
                            "<tr><td>16</td><td>6</td><td>db</td><td>3</td></tr>",
                            "<tr><td>16</td><td>7</td><td>db</td><td>1</td></tr>",
                            "<tr><td>16</td><td>8</td><td>db</td><td>1</td></tr>",
                            "<tr><td>16</td><td>9</td><td>db</td><td>1</td></tr>",
                            "<tr><td>17</td><td>8</td><td>db</td><td>1</td></tr>",
                            "<tr><td>18</td><td>8</td><td>csomag</td><td>1</td></tr>",
                            "<tr><td>18</td><td>8</td><td>db</td><td>1</td></tr>",
                            "<tr><td>19</td><td>5</td><td>db</td><td>4</td></tr>",
                            "<tr><td>19</td><td>6</td><td>db</td><td>5</td></tr>",
                            "<tr><td>19</td><td>7</td><td>db</td><td>5</td></tr>",
                            "<tr><td>19</td><td>8</td><td>db</td><td>1</td></tr>",
                            "<tr><td>19</td><td>9</td><td>db</td><td>4</td></tr>",
                            "<tr><td>20</td><td>7</td><td>db</td><td>2</td></tr>",
                            "<tr><td>20</td><td>9</td><td>db</td><td>1</td></tr>",
                            "<tr><td>21</td><td>5</td><td>csomag</td><td>1</td></tr>",
                            "<tr><td>21</td><td>5</td><td>ív</td><td>1</td></tr>",
                            "<tr><td>21</td><td>6</td><td>ív</td><td>2</td></tr>",
                            "<tr><td>21</td><td>9</td><td>Ív</td><td>1</td></tr>",
                            "<tr><td>22</td><td>7</td><td>db</td><td>1</td></tr>",
                            "<tr><td>22</td><td>8</td><td>csomag</td><td>1</td></tr>",
                            "<tr><td>24</td><td>5</td><td>db</td><td>1</td></tr>",
                            "<tr><td>24</td><td>5</td><td>ív</td><td>1</td></tr>",
                            "<tr><td>24</td><td>6</td><td>db</td><td>1</td></tr>",
                            "<tr><td>24</td><td>7</td><td>db</td><td>2</td></tr>",
                            "<tr><td>24</td><td>9</td><td>db</td><td>1</td></tr>",
                            "<tr><td>24</td><td>9</td><td>ív</td><td>1</td></tr>",
                            "<tr><td>25</td><td>5</td><td>db</td><td>1</td></tr>",
                            "<tr><td>25</td><td>6</td><td>db</td><td>1</td></tr>",
                            "<tr><td>25</td><td>7</td><td>db</td><td>1</td></tr>",
                            "<tr><td>25</td><td>8</td><td>db</td><td>1</td></tr>",
                            "<tr><td>26</td><td>9</td><td>ív</td><td>1</td></tr>",
                            "<tr><td>27</td><td>5</td><td>db</td><td>1</td></tr>",
                            "<tr><td>27</td><td>7</td><td>db</td><td>1</td></tr>",
                            "<tr><td>27</td><td>9</td><td>db</td><td>1</td></tr>",
                            "<tr><td>28</td><td>6</td><td>db</td><td>1</td></tr>",
                            "<tr><td>28</td><td>8</td><td>db</td><td>4</td></tr>",
                            "<tr><td>29</td><td>9</td><td>db</td><td>1</td></tr>",
                            "<tr><td>30</td><td>5</td><td>db</td><td>1</td></tr>",
                            "<tr><td>30</td><td>6</td><td>db</td><td>1</td></tr>",
                            "<tr><td>30</td><td>7</td><td>db</td><td>1</td></tr>",
                            "<tr><td>30</td><td>8</td><td>db</td><td>3</td></tr>",
                            "<tr><td>30</td><td>9</td><td>db</td><td>1</td></tr>",
                            "<tr><td>31</td><td>5</td><td>db</td><td>1</td></tr>",
                            "<tr><td>32</td><td>6</td><td>db</td><td>1</td></tr>",
                            "<tr><td>32</td><td>7</td><td>db</td><td>2</td></tr>",
                            "<tr><td>33</td><td>7</td><td>db</td><td>1</td></tr>",
                            "<tr><td>34</td><td>9</td><td>db</td><td>1</td></tr>",
                            "<tr><td>35</td><td>1</td><td>db</td><td>1</td></tr>",
                            "<tr><td>35</td><td>2</td><td>db</td><td>1</td></tr>",
                            "<tr><td>35</td><td>3</td><td>db</td><td>3</td></tr>",
                            "<tr><td>35</td><td>4</td><td>db</td><td>2</td></tr>",
                            "<tr><td>36</td><td>5</td><td>csomag</td><td>1</td></tr>",
                            "<tr><td>36</td><td>6</td><td>csomag</td><td>2</td></tr>",
                            "<tr><td>36</td><td>9</td><td>csomag</td><td>2</td></tr>",
                            "<tr><td>37</td><td>1</td><td>db</td><td>1</td></tr>",
                            "<tr><td>38</td><td>1</td><td>db</td><td>1</td></tr>",
                            "<tr><td>39</td><td>1</td><td>db</td><td>1</td></tr>",
                            "<tr><td>39</td><td>3</td><td>db</td><td>1</td></tr>",
                            "<tr><td>40</td><td>6</td><td>db</td><td>1</td></tr>",
                            "<tr><td>41</td><td>5</td><td>db</td><td>5</td></tr>",
                            "<tr><td>41</td><td>7</td><td>db</td><td>1</td></tr>",
                            "<tr><td>41</td><td>8</td><td>db</td><td>4</td></tr>",
                            "<tr><td>41</td><td>9</td><td>csomag</td><td>1</td></tr>",
                            "<tr><td>41</td><td>9</td><td>db</td><td>2</td></tr>",
                            "<tr><td>42</td><td>7</td><td>db</td><td>1</td></tr>",
                            "<tr><td>43</td><td>8</td><td>ív</td><td>2</td></tr>",
                            "<tr><td>43</td><td>9</td><td>ív</td><td>1</td></tr>",
                            "<tr><td>44</td><td>9</td><td>db</td><td>1</td></tr>",
                            "<tr><td>45</td><td>5</td><td>db</td><td>1</td></tr>",
                            "<tr><td>45</td><td>6</td><td>db</td><td>2</td></tr>",
                            "<tr><td>45</td><td>7</td><td>db</td><td>2</td></tr>",
                            "<tr><td>45</td><td>8</td><td>db</td><td>3</td></tr>",
                            "<tr><td>45</td><td>9</td><td>db</td><td>3</td></tr>",
                            "<tr><td>46</td><td>2</td><td>db</td><td>1</td></tr>",
                            "<tr><td>46</td><td>6</td><td>db</td><td>2</td></tr>",
                            "<tr><td>46</td><td>7</td><td>csomag</td><td>1</td></tr>",
                            "<tr><td>46</td><td>7</td><td>db</td><td>1</td></tr>",
                            "<tr><td>46</td><td>9</td><td>db</td><td>2</td></tr>",
                            "<tr><td>47</td><td>6</td><td>db</td><td>2</td></tr>",
                            "<tr><td>47</td><td>7</td><td>db</td><td>1</td></tr>",
                            "<tr><td>47</td><td>9</td><td>db</td><td>1</td></tr>",
                            "<tr><td>48</td><td>7</td><td>db</td><td>1</td></tr>",
                            "<tr><td>48</td><td>8</td><td>db</td><td>1</td></tr>",
                            "<tr><td>49</td><td>5</td><td>csomag</td><td>1</td></tr>",
                            "<tr><td>49</td><td>8</td><td>csomag</td><td>1</td></tr>",
                            "<tr><td>50</td><td>7</td><td>csomag</td><td>1</td></tr>",
                            "<tr><td>51</td><td>7</td><td>csomag</td><td>1</td></tr>",
                            "<tr><td>51</td><td>8</td><td>db</td><td>1</td></tr>",
                            "<tr><td>51</td><td>9</td><td>csomag</td><td>1</td></tr>",
                            "<tr><td>52</td><td>5</td><td>db</td><td>4</td></tr>",
                            "<tr><td>52</td><td>6</td><td>db</td><td>5</td></tr>",
                            "<tr><td>52</td><td>7</td><td>db</td><td>4</td></tr>",
                            "<tr><td>52</td><td>8</td><td>db</td><td>8</td></tr>",
                            "<tr><td>52</td><td>9</td><td>db</td><td>5</td></tr>",
                            "<tr><td>53</td><td>9</td><td>csomag</td><td>1</td></tr>",
                            "<tr><td>54</td><td>1</td><td>db</td><td>2</td></tr>",
                            "<tr><td>54</td><td>2</td><td>db</td><td>1</td></tr>",
                            "<tr><td>54</td><td>3</td><td>db</td><td>3</td></tr>",
                            "<tr><td>55</td><td>1</td><td>db</td><td>2</td></tr>",
                            "<tr><td>56</td><td>1</td><td>db</td><td>1</td></tr>",
                            "<tr><td>56</td><td>3</td><td>db</td><td>3</td></tr>",
                            "<tr><td>57</td><td>3</td><td>db</td><td>2</td></tr>",
                            "<tr><td>58</td><td>5</td><td>db</td><td>1</td></tr>",
                            "<tr><td>58</td><td>7</td><td>db</td><td>1</td></tr>",
                            "<tr><td>58</td><td>8</td><td>db</td><td>1</td></tr>",
                            "<tr><td>59</td><td>5</td><td>csomag</td><td>1</td></tr>",
                            "<tr><td>59</td><td>6</td><td>db</td><td>1</td></tr>",
                            "<tr><td>59</td><td>8</td><td>db</td><td>1</td></tr>",
                            "<tr><td>59</td><td>9</td><td>csomag</td><td>1</td></tr>",
                            "<tr><td>60</td><td>6</td><td>db</td><td>1</td></tr>",
                            "<tr><td>60</td><td>7</td><td>db</td><td>1</td></tr>",
                            "<tr><td>60</td><td>9</td><td>db</td><td>3</td></tr>",
                            "<tr><td>61</td><td>8</td><td>db</td><td>1</td></tr>",
                            "<tr><td>62</td><td>9</td><td>db</td><td>2</td></tr>",
                            "<tr><td>64</td><td>6</td><td>db</td><td>2</td></tr>",
                            "<tr><td>64</td><td>8</td><td>db</td><td>2</td></tr>",
                            "<tr><td>65</td><td>7</td><td>db</td><td>1</td></tr>",
                            "<tr><td>65</td><td>9</td><td>db</td><td>1</td></tr>",
                            "<tr><td>66</td><td>5</td><td>db</td><td>1</td></tr>",
                            "<tr><td>66</td><td>6</td><td>db</td><td>1</td></tr>",
                            "<tr><td>66</td><td>7</td><td>db</td><td>3</td></tr>",
                            "<tr><td>66</td><td>8</td><td>db</td><td>1</td></tr>",
                            "<tr><td>66</td><td>9</td><td>db</td><td>1</td></tr>",
                            "<tr><td>67</td><td>7</td><td>db</td><td>1</td></tr>",
                            "<tr><td>67</td><td>8</td><td>db</td><td>1</td></tr>",
                            "<tr><td>68</td><td>5</td><td>db</td><td>2</td></tr>",
                            "<tr><td>70</td><td>6</td><td>db</td><td>1</td></tr>",
                            "<tr><td>70</td><td>8</td><td>db</td><td>2</td></tr>",
                            "<tr><td>71</td><td>5</td><td>db</td><td>1</td></tr>",
                            "<tr><td>71</td><td>9</td><td>db</td><td>1</td></tr>",
                            "<tr><td>72</td><td>6</td><td>db</td><td>1</td></tr>",
                            "<tr><td>72</td><td>7</td><td>db</td><td>1</td></tr>",
                            "<tr><td>73</td><td>7</td><td>db</td><td>1</td></tr>",
                            "<tr><td>73</td><td>8</td><td>db</td><td>1</td></tr>",
                            "<tr><td>74</td><td>5</td><td>db</td><td>1</td></tr>",
                            "<tr><td>75</td><td>8</td><td>db</td><td>2</td></tr>",
                            "<tr><td>76</td><td>5</td><td>db</td><td>1</td></tr>",
                            "<tr><td>76</td><td>6</td><td>db</td><td>3</td></tr>",
                            "<tr><td>76</td><td>7</td><td>db</td><td>1</td></tr>",
                            "<tr><td>78</td><td>5</td><td>csomag</td><td>1</td></tr>",
                            "<tr><td>78</td><td>5</td><td>db</td><td>3</td></tr>",
                            "<tr><td>78</td><td>6</td><td>csomag</td><td>2</td></tr>",
                            "<tr><td>78</td><td>6</td><td>db</td><td>6</td></tr>",
                            "<tr><td>78</td><td>7</td><td>csomag</td><td>1</td></tr>",
                            "<tr><td>78</td><td>7</td><td>db</td><td>5</td></tr>",
                            "<tr><td>78</td><td>8</td><td>db</td><td>5</td></tr>",
                            "<tr><td>78</td><td>9</td><td>db</td><td>1</td></tr>",
                            "<tr><td>79</td><td>7</td><td>db</td><td>4</td></tr>",
                            "<tr><td>80</td><td>5</td><td>db</td><td>1</td></tr>",
                            "<tr><td>82</td><td>8</td><td>db</td><td>1</td></tr>",
                            "<tr><td>83</td><td>5</td><td>ív</td><td>2</td></tr>",
                            "<tr><td>83</td><td>6</td><td>ív</td><td>1</td></tr>",
                            "<tr><td>83</td><td>7</td><td>ív</td><td>1</td></tr>",
                            "<tr><td>83</td><td>8</td><td>ív</td><td>1</td></tr>",
                            "<tr><td>83</td><td>9</td><td>ív</td><td>1</td></tr>",
                            "<tr><td>84</td><td>6</td><td>db</td><td>1</td></tr>",
                            "<tr><td>85</td><td>5</td><td>db</td><td>4</td></tr>",
                            "<tr><td>85</td><td>6</td><td>db</td><td>3</td></tr>",
                            "<tr><td>85</td><td>7</td><td>db</td><td>2</td></tr>",
                            "<tr><td>85</td><td>8</td><td>db</td><td>3</td></tr>",
                            "<tr><td>85</td><td>9</td><td>db</td><td>4</td></tr>",
                            "<tr><td>86</td><td>7</td><td>db</td><td>1</td></tr>",
                            "<tr><td>88</td><td>2</td><td>db</td><td>1</td></tr>",
                            "<tr><td>88</td><td>3</td><td>db</td><td>1</td></tr>",
                            "<tr><td>89</td><td>5</td><td>db</td><td>1</td></tr>",
                            "<tr><td>89</td><td>6</td><td>db</td><td>1</td></tr>",
                            "<tr><td>89</td><td>8</td><td>db</td><td>1</td></tr>",
                            "<tr><td>90</td><td>5</td><td>ív</td><td>1</td></tr>",
                            "<tr><td>90</td><td>8</td><td>Ív</td><td>1</td></tr>",
                            "<tr><td>91</td><td>8</td><td>db</td><td>4</td></tr>",
                            "<tr><td>91</td><td>9</td><td>db</td><td>3</td></tr>",
                            "<tr><td>92</td><td>7</td><td>db</td><td>1</td></tr>",
                            "<tr><td>92</td><td>8</td><td>db</td><td>1</td></tr>",
                            "<tr><td>93</td><td>6</td><td>csomag</td><td>2</td></tr>",
                            "<tr><td>93</td><td>6</td><td>db</td><td>3</td></tr>",
                            "<tr><td>93</td><td>7</td><td>db</td><td>2</td></tr>",
                            "<tr><td>94</td><td>6</td><td>db</td><td>1</td></tr>",
                            "<tr><td>94</td><td>7</td><td>db</td><td>1</td></tr>",
                            "<tr><td>95</td><td>7</td><td>db</td><td>1</td></tr>",
                            "<tr><td>95</td><td>9</td><td>db</td><td>1</td></tr>",
                            "<tr><td>96</td><td>6</td><td>db</td><td>2</td></tr>",
                            "<tr><td>96</td><td>7</td><td>db</td><td>2</td></tr>",
                            "<tr><td>96</td><td>8</td><td>db</td><td>3</td></tr>",
                            "<tr><td>96</td><td>9</td><td>db</td><td>2</td></tr>",
                            "<tr><td>97</td><td>5</td><td>db</td><td>3</td></tr>",
                            "<tr><td>97</td><td>6</td><td>db</td><td>1</td></tr>",
                            "<tr><td>97</td><td>7</td><td>db</td><td>1</td></tr>",
                            "<tr><td>97</td><td>8</td><td>db</td><td>1</td></tr>",
                            "<tr><td>97</td><td>9</td><td>db</td><td>4</td></tr>",
                            "<tr><td>98</td><td>5</td><td>db</td><td>2</td></tr>",
                            "<tr><td>98</td><td>6</td><td>db</td><td>1</td></tr>",
                            "<tr><td>98</td><td>9</td><td>db</td><td>1</td></tr>",
                            "<tr><td>99</td><td>6</td><td>db</td><td>1</td></tr>",
                            "<tr><td>100</td><td>5</td><td>db</td><td>2</td></tr>",
                            "<tr><td>100</td><td>6</td><td>db</td><td>4</td></tr>",
                            "<tr><td>100</td><td>7</td><td>db</td><td>1</td></tr>",
                            "<tr><td>100</td><td>8</td><td>db</td><td>1</td></tr>",
                            "<tr><td>100</td><td>9</td><td>db</td><td>1</td></tr>",
                            "<tr><td>101</td><td>8</td><td>ív</td><td>1</td></tr>",
                            "<tr><td>103</td><td>8</td><td>db</td><td>1</td></tr>",
                            "<tr><td>104</td><td>8</td><td>db</td><td>1</td></tr>",
                            "<tr><td>104</td><td>9</td><td>db</td><td>1</td></tr>",
                            "<tr><td>105</td><td>9</td><td>db</td><td>1</td></tr>",
                            "<tr><td>106</td><td>5</td><td>db</td><td>1</td></tr>",
                            "<tr><td>106</td><td>6</td><td>db</td><td>2</td></tr>",
                            "<tr><td>106</td><td>9</td><td>db</td><td>2</td></tr>",
                            "<tr><td>107</td><td>1</td><td>db</td><td>1</td></tr>",
                            "<tr><td>108</td><td>2</td><td>db</td><td>1</td></tr>",
                            "<tr><td>109</td><td>7</td><td>ív</td><td>1</td></tr>",
                            "<tr><td>110</td><td>9</td><td>db</td><td>2</td></tr>",
                            "<tr><td>111</td><td>5</td><td>db</td><td>1</td></tr>",
                            "<tr><td>111</td><td>7</td><td>db</td><td>1</td></tr>",
                            "<tr><td>111</td><td>8</td><td>db</td><td>1</td></tr>",
                            "<tr><td>112</td><td>5</td><td>doboz</td><td>1</td></tr>",
                            "<tr><td>112</td><td>8</td><td>db</td><td>1</td></tr>",
                            "<tr><td>114</td><td>8</td><td>csomag</td><td>1</td></tr>",
                            "<tr><td>115</td><td>8</td><td>ív</td><td>1</td></tr>",
                            "<tr><td>116</td><td>6</td><td>db</td><td>1</td></tr>",
                            "<tr><td>116</td><td>7</td><td>db</td><td>1</td></tr>",
                            "<tr><td>117</td><td>6</td><td>db</td><td>1</td></tr>",
                            "<tr><td>117</td><td>9</td><td>db</td><td>1</td></tr>",
                            "<tr><td>118</td><td>5</td><td>db</td><td>3</td></tr>",
                            "<tr><td>118</td><td>7</td><td>db</td><td>1</td></tr>",
                            "<tr><td>118</td><td>8</td><td>db</td><td>4</td></tr>",
                            "<tr><td>118</td><td>9</td><td>db</td><td>1</td></tr>",
                            "<tr><td>119</td><td>5</td><td>db</td><td>1</td></tr>",
                            "<tr><td>119</td><td>7</td><td>db</td><td>1</td></tr>",
                            "<tr><td>119</td><td>9</td><td>db</td><td>1</td></tr>",
                            "<tr><td>121</td><td>7</td><td>db</td><td>1</td></tr>",
                            "<tr><td>121</td><td>8</td><td>db</td><td>1</td></tr>",
                            "<tr><td>122</td><td>6</td><td>db</td><td>1</td></tr>",
                            "<tr><td>122</td><td>7</td><td>db</td><td>1</td></tr>",
                            "<tr><td>122</td><td>8</td><td>db</td><td>3</td></tr>",
                            "<tr><td>122</td><td>9</td><td>db</td><td>2</td></tr>",
                            "<tr><td>123</td><td>5</td><td>db</td><td>1</td></tr>",
                            "<tr><td>123</td><td>7</td><td>db</td><td>1</td></tr>",
                            "<tr><td>124</td><td>5</td><td>db</td><td>2</td></tr>",
                            "<tr><td>124</td><td>6</td><td>db</td><td>2</td></tr>",
                            "<tr><td>124</td><td>7</td><td>db</td><td>1</td></tr>",
                            "<tr><td>124</td><td>8</td><td>db</td><td>3</td></tr>",
                            "<tr><td>124</td><td>9</td><td>db</td><td>2</td></tr>",
                            "<tr><td>125</td><td>6</td><td>db</td><td>1</td></tr>",
                            "<tr><td>125</td><td>7</td><td>db</td><td>1</td></tr>",
                            "<tr><td>125</td><td>9</td><td>db</td><td>2</td></tr>",
                            "<tr><td>126</td><td>9</td><td>csomag</td><td>1</td></tr>",
                            "<tr><td>127</td><td>5</td><td>csomag</td><td>1</td></tr>",
                            "<tr><td>127</td><td>9</td><td>csomag</td><td>1</td></tr>",
                            "<tr><td>128</td><td>6</td><td>db</td><td>1</td></tr>",
                            "<tr><td>128</td><td>8</td><td>csomag</td><td>1</td></tr>",
                            "<tr><td>129</td><td>5</td><td>db</td><td>1</td></tr>",
                            "<tr><td>129</td><td>9</td><td>db</td><td>1</td></tr>",
                            "<tr><td>130</td><td>1</td><td>db</td><td>1</td></tr>",
                            "<tr><td>131</td><td>9</td><td>db</td><td>1</td></tr>",
                            "<tr><td>132</td><td>8</td><td>db</td><td>1</td></tr>",
                            "<tr><td>133</td><td>5</td><td>csomag</td><td>1</td></tr>",
                            "<tr><td>133</td><td>6</td><td>csomag</td><td>1</td></tr>",
                            "<tr><td>133</td><td>7</td><td>csomag</td><td>1</td></tr>",
                            "<tr><td>133</td><td>8</td><td>csomag</td><td>2</td></tr>",
                            "<tr><td>133</td><td>9</td><td>csomag</td><td>1</td></tr>",
                            "<tr><td>134</td><td>5</td><td>db</td><td>1</td></tr>",
                            "<tr><td>134</td><td>6</td><td>db</td><td>1</td></tr>",
                            "<tr><td>135</td><td>7</td><td>csomag</td><td>1</td></tr>",
                            "<tr><td>136</td><td>7</td><td>db</td><td>1</td></tr>",
                            "<tr><td>136</td><td>8</td><td>db</td><td>1</td></tr>",
                            "<tr><td>137</td><td>6</td><td>db</td><td>2</td></tr>",
                            "<tr><td>137</td><td>9</td><td>db</td><td>1</td></tr>",
                            "<tr><td>138</td><td>5</td><td>db</td><td>1</td></tr>",
                            "<tr><td>138</td><td>6</td><td>csomag</td><td>1</td></tr>",
                            "<tr><td>138</td><td>7</td><td>db</td><td>1</td></tr>",
                            "<tr><td>138</td><td>8</td><td>db</td><td>1</td></tr>",
                            "<tr><td>138</td><td>9</td><td>db</td><td>1</td></tr>",
                            "<tr><td>139</td><td>9</td><td>csomag</td><td>1</td></tr>",
                            "<tr><td>140</td><td>6</td><td>db</td><td>1</td></tr>",
                            "<tr><td>141</td><td>8</td><td>db</td><td>2</td></tr>",
                            "<tr><td>142</td><td>6</td><td>csomag</td><td>1</td></tr>",
                            "<tr><td>143</td><td>7</td><td>csomag</td><td>1</td></tr>",
                            "<tr><td>143</td><td>7</td><td>db</td><td>1</td></tr>",
                            "<tr><td>143</td><td>9</td><td>db</td><td>1</td></tr>",
                            "<tr><td>144</td><td>5</td><td>db</td><td>1</td></tr>",
                            "<tr><td>144</td><td>9</td><td>db</td><td>1</td></tr>",
                            "<tr><td>145</td><td>5</td><td>db</td><td>4</td></tr>",
                            "<tr><td>145</td><td>6</td><td>db</td><td>6</td></tr>",
                            "<tr><td>145</td><td>7</td><td>db</td><td>3</td></tr>",
                            "<tr><td>145</td><td>8</td><td>db</td><td>2</td></tr>",
                            "<tr><td>145</td><td>9</td><td>db</td><td>3</td></tr>",
                            "<tr><td>146</td><td>5</td><td>db</td><td>2</td></tr>",
                            "<tr><td>146</td><td>7</td><td>db</td><td>3</td></tr>",
                            "<tr><td>146</td><td>8</td><td>csomag</td><td>1</td></tr>",
                            "<tr><td>146</td><td>9</td><td>db</td><td>1</td></tr>",
                            "<tr><td>147</td><td>8</td><td>db</td><td>1</td></tr>",
                            "<tr><td>148</td><td>5</td><td>üveg</td><td>1</td></tr>",
                            "<tr><td>149</td><td>5</td><td>db</td><td>2</td></tr>",
                            "<tr><td>149</td><td>6</td><td>db</td><td>2</td></tr>",
                            "<tr><td>149</td><td>8</td><td>db</td><td>2</td></tr>",
                            "<tr><td>150</td><td>7</td><td>csomag</td><td>1</td></tr>",
                            "<tr><td>150</td><td>9</td><td>csomag</td><td>1</td></tr>",
                            "<tr><td>151</td><td>6</td><td>db</td><td>2</td></tr>",
                            "<tr><td>151</td><td>7</td><td>db</td><td>2</td></tr>",
                            "<tr><td>152</td><td>6</td><td>db</td><td>1</td></tr>",
                            "<tr><td>152</td><td>7</td><td>db</td><td>1</td></tr>",
                            "<tr><td>152</td><td>8</td><td>db</td><td>3</td></tr>",
                            "<tr><td>152</td><td>9</td><td>db</td><td>1</td></tr>",
                            "<tr><td>153</td><td>5</td><td>db</td><td>1</td></tr>",
                            "<tr><td>154</td><td>7</td><td>csomag</td><td>1</td></tr>",
                            "<tr><td>154</td><td>7</td><td>db</td><td>2</td></tr>",
                            "<tr><td>154</td><td>9</td><td>db</td><td>1</td></tr>",
                            "<tr><td>155</td><td>8</td><td>db</td><td>1</td></tr>",
                            "</table>"
                        ]
                    }
                }
            ],
            "execution_count": 22
        },
        {
            "cell_type": "markdown",
            "source": [
                "```\n",
                "3. Készítsünk listát az egyes termékkategóriákban lévő termékek számáról! \n",
                "\n",
                "```\n",
                "\n",
                "a. Elég megjeleníteni a kategóriák azonosítóit és a darabszámokat!   \n",
                "<span style=\"color: var(--vscode-foreground);\">b. A lista megfelelően jelölve tartalmazza a végösszeget is!&nbsp;<br></span> <span style=\"color: var(--vscode-foreground);\">c. Az oszlopokat nevezzük el értelemszerűen!&nbsp;<br></span> <span style=\"color: var(--vscode-foreground);\">d. A listát rendezzük a darabszám szerint növekvő sorrendbe!</span>\n",
                "\n",
                "  \n",
                "\n",
                "![](https://moodle.uni-corvinus.hu/theme/image.php/adaptable/atto_h5p/1709548862/icon)"
            ],
            "metadata": {
                "azdata_cell_guid": "d7876bb9-76d0-4d07-baed-3cb17b2f96c3"
            },
            "attachments": {}
        },
        {
            "cell_type": "code",
            "source": [
                "select * from termek\r\n",
                "where KAT_ID is null\r\n",
                "\r\n",
                "SELECT KAT_ID,\r\n",
                "       iif(GROUPING_ID(KAT_ID)=1, 'Összesen', cast(KAT_ID as nvarchar(10))),\r\n",
                "       count(*)\r\n",
                "FROM Termek\r\n",
                "group BY rollup(KAT_ID)\r\n",
                "order BY count(*)\r\n",
                "\r\n",
                "select kat_id, --a\r\n",
                "       count(*) as cnt, --a\r\n",
                "       SUM(LISTAAR*KESZLET) as vegosszeg --b\r\n",
                "from Termek\r\n",
                "group by KAT_ID\r\n",
                "order by count(*)\r\n",
                "\r\n",
                "select kat_id, --a\r\n",
                "       count(*) as cnt --a\r\n",
                "       --SUM(LISTAAR*KESZLET) as vegosszeg --b\r\n",
                "from Termek\r\n",
                "group by rollup(KAT_ID) --rollup -> azért kell hogy legyen egy teljesen összeadott összeget (amit nem kér ez a feladat amúgy)\r\n",
                "order by count(*)\r\n",
                ""
            ],
            "metadata": {
                "azdata_cell_guid": "56ec19ce-e249-4551-b2a8-f17569765acc",
                "language": "sql"
            },
            "outputs": [
                {
                    "output_type": "display_data",
                    "data": {
                        "text/html": "(0 rows affected)"
                    },
                    "metadata": {}
                },
                {
                    "output_type": "display_data",
                    "data": {
                        "text/html": "(144 rows affected)"
                    },
                    "metadata": {}
                },
                {
                    "output_type": "display_data",
                    "data": {
                        "text/html": "(143 rows affected)"
                    },
                    "metadata": {}
                },
                {
                    "output_type": "display_data",
                    "data": {
                        "text/html": "(144 rows affected)"
                    },
                    "metadata": {}
                },
                {
                    "output_type": "display_data",
                    "data": {
                        "text/html": "Total execution time: 00:00:00.128"
                    },
                    "metadata": {}
                },
                {
                    "output_type": "execute_result",
                    "metadata": {},
                    "execution_count": 45,
                    "data": {
                        "application/vnd.dataresource+json": {
                            "schema": {
                                "fields": [
                                    {
                                        "name": "TERMEKKOD"
                                    },
                                    {
                                        "name": "MEGNEVEZES"
                                    },
                                    {
                                        "name": "KAT_ID"
                                    },
                                    {
                                        "name": "LISTAAR"
                                    },
                                    {
                                        "name": "LEIRAS"
                                    },
                                    {
                                        "name": "RAKTAR_KOD"
                                    },
                                    {
                                        "name": "KESZLET"
                                    },
                                    {
                                        "name": "MEGYS"
                                    },
                                    {
                                        "name": "FELVITTE"
                                    },
                                    {
                                        "name": "FELVITEL"
                                    }
                                ]
                            },
                            "data": []
                        },
                        "text/html": [
                            "<table>",
                            "<tr><th>TERMEKKOD</th><th>MEGNEVEZES</th><th>KAT_ID</th><th>LISTAAR</th><th>LEIRAS</th><th>RAKTAR_KOD</th><th>KESZLET</th><th>MEGYS</th><th>FELVITTE</th><th>FELVITEL</th></tr>",
                            "</table>"
                        ]
                    }
                },
                {
                    "output_type": "execute_result",
                    "metadata": {},
                    "execution_count": 45,
                    "data": {
                        "application/vnd.dataresource+json": {
                            "schema": {
                                "fields": [
                                    {
                                        "name": "KAT_ID"
                                    },
                                    {
                                        "name": "(No column name)"
                                    },
                                    {
                                        "name": "(No column name)"
                                    }
                                ]
                            },
                            "data": [
                                {
                                    "KAT_ID": "10",
                                    "(No column name)": "1"
                                },
                                {
                                    "KAT_ID": "11",
                                    "(No column name)": "1"
                                },
                                {
                                    "KAT_ID": "12",
                                    "(No column name)": "1"
                                },
                                {
                                    "KAT_ID": "15",
                                    "(No column name)": "1"
                                },
                                {
                                    "KAT_ID": "17",
                                    "(No column name)": "1"
                                },
                                {
                                    "KAT_ID": "26",
                                    "(No column name)": "1"
                                },
                                {
                                    "KAT_ID": "29",
                                    "(No column name)": "1"
                                },
                                {
                                    "KAT_ID": "31",
                                    "(No column name)": "1"
                                },
                                {
                                    "KAT_ID": "33",
                                    "(No column name)": "1"
                                },
                                {
                                    "KAT_ID": "34",
                                    "(No column name)": "1"
                                },
                                {
                                    "KAT_ID": "37",
                                    "(No column name)": "1"
                                },
                                {
                                    "KAT_ID": "38",
                                    "(No column name)": "1"
                                },
                                {
                                    "KAT_ID": "40",
                                    "(No column name)": "1"
                                },
                                {
                                    "KAT_ID": "42",
                                    "(No column name)": "1"
                                },
                                {
                                    "KAT_ID": "44",
                                    "(No column name)": "1"
                                },
                                {
                                    "KAT_ID": "50",
                                    "(No column name)": "1"
                                },
                                {
                                    "KAT_ID": "53",
                                    "(No column name)": "1"
                                },
                                {
                                    "KAT_ID": "61",
                                    "(No column name)": "1"
                                },
                                {
                                    "KAT_ID": "74",
                                    "(No column name)": "1"
                                },
                                {
                                    "KAT_ID": "80",
                                    "(No column name)": "1"
                                },
                                {
                                    "KAT_ID": "82",
                                    "(No column name)": "1"
                                },
                                {
                                    "KAT_ID": "84",
                                    "(No column name)": "1"
                                },
                                {
                                    "KAT_ID": "86",
                                    "(No column name)": "1"
                                },
                                {
                                    "KAT_ID": "99",
                                    "(No column name)": "1"
                                },
                                {
                                    "KAT_ID": "101",
                                    "(No column name)": "1"
                                },
                                {
                                    "KAT_ID": "103",
                                    "(No column name)": "1"
                                },
                                {
                                    "KAT_ID": "105",
                                    "(No column name)": "1"
                                },
                                {
                                    "KAT_ID": "107",
                                    "(No column name)": "1"
                                },
                                {
                                    "KAT_ID": "108",
                                    "(No column name)": "1"
                                },
                                {
                                    "KAT_ID": "109",
                                    "(No column name)": "1"
                                },
                                {
                                    "KAT_ID": "114",
                                    "(No column name)": "1"
                                },
                                {
                                    "KAT_ID": "115",
                                    "(No column name)": "1"
                                },
                                {
                                    "KAT_ID": "126",
                                    "(No column name)": "1"
                                },
                                {
                                    "KAT_ID": "130",
                                    "(No column name)": "1"
                                },
                                {
                                    "KAT_ID": "131",
                                    "(No column name)": "1"
                                },
                                {
                                    "KAT_ID": "132",
                                    "(No column name)": "1"
                                },
                                {
                                    "KAT_ID": "135",
                                    "(No column name)": "1"
                                },
                                {
                                    "KAT_ID": "139",
                                    "(No column name)": "1"
                                },
                                {
                                    "KAT_ID": "140",
                                    "(No column name)": "1"
                                },
                                {
                                    "KAT_ID": "142",
                                    "(No column name)": "1"
                                },
                                {
                                    "KAT_ID": "147",
                                    "(No column name)": "1"
                                },
                                {
                                    "KAT_ID": "148",
                                    "(No column name)": "1"
                                },
                                {
                                    "KAT_ID": "153",
                                    "(No column name)": "1"
                                },
                                {
                                    "KAT_ID": "155",
                                    "(No column name)": "1"
                                },
                                {
                                    "KAT_ID": "150",
                                    "(No column name)": "2"
                                },
                                {
                                    "KAT_ID": "144",
                                    "(No column name)": "2"
                                },
                                {
                                    "KAT_ID": "141",
                                    "(No column name)": "2"
                                },
                                {
                                    "KAT_ID": "136",
                                    "(No column name)": "2"
                                },
                                {
                                    "KAT_ID": "123",
                                    "(No column name)": "2"
                                },
                                {
                                    "KAT_ID": "134",
                                    "(No column name)": "2"
                                },
                                {
                                    "KAT_ID": "127",
                                    "(No column name)": "2"
                                },
                                {
                                    "KAT_ID": "128",
                                    "(No column name)": "2"
                                },
                                {
                                    "KAT_ID": "129",
                                    "(No column name)": "2"
                                },
                                {
                                    "KAT_ID": "116",
                                    "(No column name)": "2"
                                },
                                {
                                    "KAT_ID": "117",
                                    "(No column name)": "2"
                                },
                                {
                                    "KAT_ID": "112",
                                    "(No column name)": "2"
                                },
                                {
                                    "KAT_ID": "121",
                                    "(No column name)": "2"
                                },
                                {
                                    "KAT_ID": "110",
                                    "(No column name)": "2"
                                },
                                {
                                    "KAT_ID": "104",
                                    "(No column name)": "2"
                                },
                                {
                                    "KAT_ID": "94",
                                    "(No column name)": "2"
                                },
                                {
                                    "KAT_ID": "95",
                                    "(No column name)": "2"
                                },
                                {
                                    "KAT_ID": "88",
                                    "(No column name)": "2"
                                },
                                {
                                    "KAT_ID": "90",
                                    "(No column name)": "2"
                                },
                                {
                                    "KAT_ID": "92",
                                    "(No column name)": "2"
                                },
                                {
                                    "KAT_ID": "71",
                                    "(No column name)": "2"
                                },
                                {
                                    "KAT_ID": "72",
                                    "(No column name)": "2"
                                },
                                {
                                    "KAT_ID": "73",
                                    "(No column name)": "2"
                                },
                                {
                                    "KAT_ID": "75",
                                    "(No column name)": "2"
                                },
                                {
                                    "KAT_ID": "62",
                                    "(No column name)": "2"
                                },
                                {
                                    "KAT_ID": "55",
                                    "(No column name)": "2"
                                },
                                {
                                    "KAT_ID": "65",
                                    "(No column name)": "2"
                                },
                                {
                                    "KAT_ID": "67",
                                    "(No column name)": "2"
                                },
                                {
                                    "KAT_ID": "68",
                                    "(No column name)": "2"
                                },
                                {
                                    "KAT_ID": "57",
                                    "(No column name)": "2"
                                },
                                {
                                    "KAT_ID": "48",
                                    "(No column name)": "2"
                                },
                                {
                                    "KAT_ID": "49",
                                    "(No column name)": "2"
                                },
                                {
                                    "KAT_ID": "39",
                                    "(No column name)": "2"
                                },
                                {
                                    "KAT_ID": "22",
                                    "(No column name)": "2"
                                },
                                {
                                    "KAT_ID": "18",
                                    "(No column name)": "2"
                                },
                                {
                                    "KAT_ID": "9",
                                    "(No column name)": "2"
                                },
                                {
                                    "KAT_ID": "13",
                                    "(No column name)": "2"
                                },
                                {
                                    "KAT_ID": "5",
                                    "(No column name)": "3"
                                },
                                {
                                    "KAT_ID": "7",
                                    "(No column name)": "3"
                                },
                                {
                                    "KAT_ID": "8",
                                    "(No column name)": "3"
                                },
                                {
                                    "KAT_ID": "20",
                                    "(No column name)": "3"
                                },
                                {
                                    "KAT_ID": "27",
                                    "(No column name)": "3"
                                },
                                {
                                    "KAT_ID": "32",
                                    "(No column name)": "3"
                                },
                                {
                                    "KAT_ID": "43",
                                    "(No column name)": "3"
                                },
                                {
                                    "KAT_ID": "58",
                                    "(No column name)": "3"
                                },
                                {
                                    "KAT_ID": "51",
                                    "(No column name)": "3"
                                },
                                {
                                    "KAT_ID": "70",
                                    "(No column name)": "3"
                                },
                                {
                                    "KAT_ID": "89",
                                    "(No column name)": "3"
                                },
                                {
                                    "KAT_ID": "111",
                                    "(No column name)": "3"
                                },
                                {
                                    "KAT_ID": "119",
                                    "(No column name)": "3"
                                },
                                {
                                    "KAT_ID": "137",
                                    "(No column name)": "3"
                                },
                                {
                                    "KAT_ID": "143",
                                    "(No column name)": "3"
                                },
                                {
                                    "KAT_ID": "151",
                                    "(No column name)": "4"
                                },
                                {
                                    "KAT_ID": "154",
                                    "(No column name)": "4"
                                },
                                {
                                    "KAT_ID": "125",
                                    "(No column name)": "4"
                                },
                                {
                                    "KAT_ID": "79",
                                    "(No column name)": "4"
                                },
                                {
                                    "KAT_ID": "98",
                                    "(No column name)": "4"
                                },
                                {
                                    "KAT_ID": "56",
                                    "(No column name)": "4"
                                },
                                {
                                    "KAT_ID": "64",
                                    "(No column name)": "4"
                                },
                                {
                                    "KAT_ID": "59",
                                    "(No column name)": "4"
                                },
                                {
                                    "KAT_ID": "47",
                                    "(No column name)": "4"
                                },
                                {
                                    "KAT_ID": "25",
                                    "(No column name)": "4"
                                },
                                {
                                    "KAT_ID": "14",
                                    "(No column name)": "4"
                                },
                                {
                                    "KAT_ID": "21",
                                    "(No column name)": "5"
                                },
                                {
                                    "KAT_ID": "36",
                                    "(No column name)": "5"
                                },
                                {
                                    "KAT_ID": "28",
                                    "(No column name)": "5"
                                },
                                {
                                    "KAT_ID": "60",
                                    "(No column name)": "5"
                                },
                                {
                                    "KAT_ID": "76",
                                    "(No column name)": "5"
                                },
                                {
                                    "KAT_ID": "106",
                                    "(No column name)": "5"
                                },
                                {
                                    "KAT_ID": "138",
                                    "(No column name)": "5"
                                },
                                {
                                    "KAT_ID": "133",
                                    "(No column name)": "6"
                                },
                                {
                                    "KAT_ID": "152",
                                    "(No column name)": "6"
                                },
                                {
                                    "KAT_ID": "149",
                                    "(No column name)": "6"
                                },
                                {
                                    "KAT_ID": "83",
                                    "(No column name)": "6"
                                },
                                {
                                    "KAT_ID": "54",
                                    "(No column name)": "6"
                                },
                                {
                                    "KAT_ID": "46",
                                    "(No column name)": "7"
                                },
                                {
                                    "KAT_ID": "66",
                                    "(No column name)": "7"
                                },
                                {
                                    "KAT_ID": "24",
                                    "(No column name)": "7"
                                },
                                {
                                    "KAT_ID": "30",
                                    "(No column name)": "7"
                                },
                                {
                                    "KAT_ID": "35",
                                    "(No column name)": "7"
                                },
                                {
                                    "KAT_ID": "16",
                                    "(No column name)": "7"
                                },
                                {
                                    "KAT_ID": "146",
                                    "(No column name)": "7"
                                },
                                {
                                    "KAT_ID": "122",
                                    "(No column name)": "7"
                                },
                                {
                                    "KAT_ID": "93",
                                    "(No column name)": "7"
                                },
                                {
                                    "KAT_ID": "91",
                                    "(No column name)": "7"
                                },
                                {
                                    "KAT_ID": "100",
                                    "(No column name)": "9"
                                },
                                {
                                    "KAT_ID": "96",
                                    "(No column name)": "9"
                                },
                                {
                                    "KAT_ID": "118",
                                    "(No column name)": "9"
                                },
                                {
                                    "KAT_ID": "97",
                                    "(No column name)": "10"
                                },
                                {
                                    "KAT_ID": "124",
                                    "(No column name)": "10"
                                },
                                {
                                    "KAT_ID": "45",
                                    "(No column name)": "11"
                                },
                                {
                                    "KAT_ID": "41",
                                    "(No column name)": "13"
                                },
                                {
                                    "KAT_ID": "4",
                                    "(No column name)": "15"
                                },
                                {
                                    "KAT_ID": "85",
                                    "(No column name)": "16"
                                },
                                {
                                    "KAT_ID": "145",
                                    "(No column name)": "18"
                                },
                                {
                                    "KAT_ID": "19",
                                    "(No column name)": "19"
                                },
                                {
                                    "KAT_ID": "6",
                                    "(No column name)": "20"
                                },
                                {
                                    "KAT_ID": "78",
                                    "(No column name)": "24"
                                },
                                {
                                    "KAT_ID": "52",
                                    "(No column name)": "26"
                                },
                                {
                                    "KAT_ID": "NULL",
                                    "(No column name)": "551"
                                }
                            ]
                        },
                        "text/html": [
                            "<table>",
                            "<tr><th>KAT_ID</th><th>(No column name)</th><th>(No column name)</th></tr>",
                            "<tr><td>10</td><td>10</td><td>1</td></tr>",
                            "<tr><td>11</td><td>11</td><td>1</td></tr>",
                            "<tr><td>12</td><td>12</td><td>1</td></tr>",
                            "<tr><td>15</td><td>15</td><td>1</td></tr>",
                            "<tr><td>17</td><td>17</td><td>1</td></tr>",
                            "<tr><td>26</td><td>26</td><td>1</td></tr>",
                            "<tr><td>29</td><td>29</td><td>1</td></tr>",
                            "<tr><td>31</td><td>31</td><td>1</td></tr>",
                            "<tr><td>33</td><td>33</td><td>1</td></tr>",
                            "<tr><td>34</td><td>34</td><td>1</td></tr>",
                            "<tr><td>37</td><td>37</td><td>1</td></tr>",
                            "<tr><td>38</td><td>38</td><td>1</td></tr>",
                            "<tr><td>40</td><td>40</td><td>1</td></tr>",
                            "<tr><td>42</td><td>42</td><td>1</td></tr>",
                            "<tr><td>44</td><td>44</td><td>1</td></tr>",
                            "<tr><td>50</td><td>50</td><td>1</td></tr>",
                            "<tr><td>53</td><td>53</td><td>1</td></tr>",
                            "<tr><td>61</td><td>61</td><td>1</td></tr>",
                            "<tr><td>74</td><td>74</td><td>1</td></tr>",
                            "<tr><td>80</td><td>80</td><td>1</td></tr>",
                            "<tr><td>82</td><td>82</td><td>1</td></tr>",
                            "<tr><td>84</td><td>84</td><td>1</td></tr>",
                            "<tr><td>86</td><td>86</td><td>1</td></tr>",
                            "<tr><td>99</td><td>99</td><td>1</td></tr>",
                            "<tr><td>101</td><td>101</td><td>1</td></tr>",
                            "<tr><td>103</td><td>103</td><td>1</td></tr>",
                            "<tr><td>105</td><td>105</td><td>1</td></tr>",
                            "<tr><td>107</td><td>107</td><td>1</td></tr>",
                            "<tr><td>108</td><td>108</td><td>1</td></tr>",
                            "<tr><td>109</td><td>109</td><td>1</td></tr>",
                            "<tr><td>114</td><td>114</td><td>1</td></tr>",
                            "<tr><td>115</td><td>115</td><td>1</td></tr>",
                            "<tr><td>126</td><td>126</td><td>1</td></tr>",
                            "<tr><td>130</td><td>130</td><td>1</td></tr>",
                            "<tr><td>131</td><td>131</td><td>1</td></tr>",
                            "<tr><td>132</td><td>132</td><td>1</td></tr>",
                            "<tr><td>135</td><td>135</td><td>1</td></tr>",
                            "<tr><td>139</td><td>139</td><td>1</td></tr>",
                            "<tr><td>140</td><td>140</td><td>1</td></tr>",
                            "<tr><td>142</td><td>142</td><td>1</td></tr>",
                            "<tr><td>147</td><td>147</td><td>1</td></tr>",
                            "<tr><td>148</td><td>148</td><td>1</td></tr>",
                            "<tr><td>153</td><td>153</td><td>1</td></tr>",
                            "<tr><td>155</td><td>155</td><td>1</td></tr>",
                            "<tr><td>150</td><td>150</td><td>2</td></tr>",
                            "<tr><td>144</td><td>144</td><td>2</td></tr>",
                            "<tr><td>141</td><td>141</td><td>2</td></tr>",
                            "<tr><td>136</td><td>136</td><td>2</td></tr>",
                            "<tr><td>123</td><td>123</td><td>2</td></tr>",
                            "<tr><td>134</td><td>134</td><td>2</td></tr>",
                            "<tr><td>127</td><td>127</td><td>2</td></tr>",
                            "<tr><td>128</td><td>128</td><td>2</td></tr>",
                            "<tr><td>129</td><td>129</td><td>2</td></tr>",
                            "<tr><td>116</td><td>116</td><td>2</td></tr>",
                            "<tr><td>117</td><td>117</td><td>2</td></tr>",
                            "<tr><td>112</td><td>112</td><td>2</td></tr>",
                            "<tr><td>121</td><td>121</td><td>2</td></tr>",
                            "<tr><td>110</td><td>110</td><td>2</td></tr>",
                            "<tr><td>104</td><td>104</td><td>2</td></tr>",
                            "<tr><td>94</td><td>94</td><td>2</td></tr>",
                            "<tr><td>95</td><td>95</td><td>2</td></tr>",
                            "<tr><td>88</td><td>88</td><td>2</td></tr>",
                            "<tr><td>90</td><td>90</td><td>2</td></tr>",
                            "<tr><td>92</td><td>92</td><td>2</td></tr>",
                            "<tr><td>71</td><td>71</td><td>2</td></tr>",
                            "<tr><td>72</td><td>72</td><td>2</td></tr>",
                            "<tr><td>73</td><td>73</td><td>2</td></tr>",
                            "<tr><td>75</td><td>75</td><td>2</td></tr>",
                            "<tr><td>62</td><td>62</td><td>2</td></tr>",
                            "<tr><td>55</td><td>55</td><td>2</td></tr>",
                            "<tr><td>65</td><td>65</td><td>2</td></tr>",
                            "<tr><td>67</td><td>67</td><td>2</td></tr>",
                            "<tr><td>68</td><td>68</td><td>2</td></tr>",
                            "<tr><td>57</td><td>57</td><td>2</td></tr>",
                            "<tr><td>48</td><td>48</td><td>2</td></tr>",
                            "<tr><td>49</td><td>49</td><td>2</td></tr>",
                            "<tr><td>39</td><td>39</td><td>2</td></tr>",
                            "<tr><td>22</td><td>22</td><td>2</td></tr>",
                            "<tr><td>18</td><td>18</td><td>2</td></tr>",
                            "<tr><td>9</td><td>9</td><td>2</td></tr>",
                            "<tr><td>13</td><td>13</td><td>2</td></tr>",
                            "<tr><td>5</td><td>5</td><td>3</td></tr>",
                            "<tr><td>7</td><td>7</td><td>3</td></tr>",
                            "<tr><td>8</td><td>8</td><td>3</td></tr>",
                            "<tr><td>20</td><td>20</td><td>3</td></tr>",
                            "<tr><td>27</td><td>27</td><td>3</td></tr>",
                            "<tr><td>32</td><td>32</td><td>3</td></tr>",
                            "<tr><td>43</td><td>43</td><td>3</td></tr>",
                            "<tr><td>58</td><td>58</td><td>3</td></tr>",
                            "<tr><td>51</td><td>51</td><td>3</td></tr>",
                            "<tr><td>70</td><td>70</td><td>3</td></tr>",
                            "<tr><td>89</td><td>89</td><td>3</td></tr>",
                            "<tr><td>111</td><td>111</td><td>3</td></tr>",
                            "<tr><td>119</td><td>119</td><td>3</td></tr>",
                            "<tr><td>137</td><td>137</td><td>3</td></tr>",
                            "<tr><td>143</td><td>143</td><td>3</td></tr>",
                            "<tr><td>151</td><td>151</td><td>4</td></tr>",
                            "<tr><td>154</td><td>154</td><td>4</td></tr>",
                            "<tr><td>125</td><td>125</td><td>4</td></tr>",
                            "<tr><td>79</td><td>79</td><td>4</td></tr>",
                            "<tr><td>98</td><td>98</td><td>4</td></tr>",
                            "<tr><td>56</td><td>56</td><td>4</td></tr>",
                            "<tr><td>64</td><td>64</td><td>4</td></tr>",
                            "<tr><td>59</td><td>59</td><td>4</td></tr>",
                            "<tr><td>47</td><td>47</td><td>4</td></tr>",
                            "<tr><td>25</td><td>25</td><td>4</td></tr>",
                            "<tr><td>14</td><td>14</td><td>4</td></tr>",
                            "<tr><td>21</td><td>21</td><td>5</td></tr>",
                            "<tr><td>36</td><td>36</td><td>5</td></tr>",
                            "<tr><td>28</td><td>28</td><td>5</td></tr>",
                            "<tr><td>60</td><td>60</td><td>5</td></tr>",
                            "<tr><td>76</td><td>76</td><td>5</td></tr>",
                            "<tr><td>106</td><td>106</td><td>5</td></tr>",
                            "<tr><td>138</td><td>138</td><td>5</td></tr>",
                            "<tr><td>133</td><td>133</td><td>6</td></tr>",
                            "<tr><td>152</td><td>152</td><td>6</td></tr>",
                            "<tr><td>149</td><td>149</td><td>6</td></tr>",
                            "<tr><td>83</td><td>83</td><td>6</td></tr>",
                            "<tr><td>54</td><td>54</td><td>6</td></tr>",
                            "<tr><td>46</td><td>46</td><td>7</td></tr>",
                            "<tr><td>66</td><td>66</td><td>7</td></tr>",
                            "<tr><td>24</td><td>24</td><td>7</td></tr>",
                            "<tr><td>30</td><td>30</td><td>7</td></tr>",
                            "<tr><td>35</td><td>35</td><td>7</td></tr>",
                            "<tr><td>16</td><td>16</td><td>7</td></tr>",
                            "<tr><td>146</td><td>146</td><td>7</td></tr>",
                            "<tr><td>122</td><td>122</td><td>7</td></tr>",
                            "<tr><td>93</td><td>93</td><td>7</td></tr>",
                            "<tr><td>91</td><td>91</td><td>7</td></tr>",
                            "<tr><td>100</td><td>100</td><td>9</td></tr>",
                            "<tr><td>96</td><td>96</td><td>9</td></tr>",
                            "<tr><td>118</td><td>118</td><td>9</td></tr>",
                            "<tr><td>97</td><td>97</td><td>10</td></tr>",
                            "<tr><td>124</td><td>124</td><td>10</td></tr>",
                            "<tr><td>45</td><td>45</td><td>11</td></tr>",
                            "<tr><td>41</td><td>41</td><td>13</td></tr>",
                            "<tr><td>4</td><td>4</td><td>15</td></tr>",
                            "<tr><td>85</td><td>85</td><td>16</td></tr>",
                            "<tr><td>145</td><td>145</td><td>18</td></tr>",
                            "<tr><td>19</td><td>19</td><td>19</td></tr>",
                            "<tr><td>6</td><td>6</td><td>20</td></tr>",
                            "<tr><td>78</td><td>78</td><td>24</td></tr>",
                            "<tr><td>52</td><td>52</td><td>26</td></tr>",
                            "<tr><td>NULL</td><td>Összesen</td><td>551</td></tr>",
                            "</table>"
                        ]
                    }
                },
                {
                    "output_type": "execute_result",
                    "metadata": {},
                    "execution_count": 45,
                    "data": {
                        "application/vnd.dataresource+json": {
                            "schema": {
                                "fields": [
                                    {
                                        "name": "kat_id"
                                    },
                                    {
                                        "name": "cnt"
                                    },
                                    {
                                        "name": "vegosszeg"
                                    }
                                ]
                            },
                            "data": [
                                {
                                    "kat_id": "10",
                                    "cnt": "1",
                                    "vegosszeg": "10600"
                                },
                                {
                                    "kat_id": "11",
                                    "cnt": "1",
                                    "vegosszeg": "23000"
                                },
                                {
                                    "kat_id": "12",
                                    "cnt": "1",
                                    "vegosszeg": "45600"
                                },
                                {
                                    "kat_id": "15",
                                    "cnt": "1",
                                    "vegosszeg": "207900"
                                },
                                {
                                    "kat_id": "17",
                                    "cnt": "1",
                                    "vegosszeg": "12000"
                                },
                                {
                                    "kat_id": "26",
                                    "cnt": "1",
                                    "vegosszeg": "3600"
                                },
                                {
                                    "kat_id": "29",
                                    "cnt": "1",
                                    "vegosszeg": "172900"
                                },
                                {
                                    "kat_id": "31",
                                    "cnt": "1",
                                    "vegosszeg": "2500"
                                },
                                {
                                    "kat_id": "33",
                                    "cnt": "1",
                                    "vegosszeg": "5200"
                                },
                                {
                                    "kat_id": "34",
                                    "cnt": "1",
                                    "vegosszeg": "48300"
                                },
                                {
                                    "kat_id": "37",
                                    "cnt": "1",
                                    "vegosszeg": "2472690"
                                },
                                {
                                    "kat_id": "38",
                                    "cnt": "1",
                                    "vegosszeg": "3806000"
                                },
                                {
                                    "kat_id": "40",
                                    "cnt": "1",
                                    "vegosszeg": "562500"
                                },
                                {
                                    "kat_id": "42",
                                    "cnt": "1",
                                    "vegosszeg": "25500"
                                },
                                {
                                    "kat_id": "44",
                                    "cnt": "1",
                                    "vegosszeg": "6000"
                                },
                                {
                                    "kat_id": "50",
                                    "cnt": "1",
                                    "vegosszeg": "44500"
                                },
                                {
                                    "kat_id": "53",
                                    "cnt": "1",
                                    "vegosszeg": "7600"
                                },
                                {
                                    "kat_id": "61",
                                    "cnt": "1",
                                    "vegosszeg": "46200"
                                },
                                {
                                    "kat_id": "74",
                                    "cnt": "1",
                                    "vegosszeg": "17700"
                                },
                                {
                                    "kat_id": "80",
                                    "cnt": "1",
                                    "vegosszeg": "38400"
                                },
                                {
                                    "kat_id": "82",
                                    "cnt": "1",
                                    "vegosszeg": "137800"
                                },
                                {
                                    "kat_id": "84",
                                    "cnt": "1",
                                    "vegosszeg": "366800"
                                },
                                {
                                    "kat_id": "86",
                                    "cnt": "1",
                                    "vegosszeg": "195000"
                                },
                                {
                                    "kat_id": "99",
                                    "cnt": "1",
                                    "vegosszeg": "3200"
                                },
                                {
                                    "kat_id": "101",
                                    "cnt": "1",
                                    "vegosszeg": "5400"
                                },
                                {
                                    "kat_id": "103",
                                    "cnt": "1",
                                    "vegosszeg": "26700"
                                },
                                {
                                    "kat_id": "105",
                                    "cnt": "1",
                                    "vegosszeg": "2790000"
                                },
                                {
                                    "kat_id": "107",
                                    "cnt": "1",
                                    "vegosszeg": "1848000"
                                },
                                {
                                    "kat_id": "108",
                                    "cnt": "1",
                                    "vegosszeg": "2395810"
                                },
                                {
                                    "kat_id": "109",
                                    "cnt": "1",
                                    "vegosszeg": "4000"
                                },
                                {
                                    "kat_id": "114",
                                    "cnt": "1",
                                    "vegosszeg": "100000"
                                },
                                {
                                    "kat_id": "115",
                                    "cnt": "1",
                                    "vegosszeg": "3000"
                                },
                                {
                                    "kat_id": "126",
                                    "cnt": "1",
                                    "vegosszeg": "35600"
                                },
                                {
                                    "kat_id": "130",
                                    "cnt": "1",
                                    "vegosszeg": "153230"
                                },
                                {
                                    "kat_id": "131",
                                    "cnt": "1",
                                    "vegosszeg": "13500"
                                },
                                {
                                    "kat_id": "132",
                                    "cnt": "1",
                                    "vegosszeg": "35600"
                                },
                                {
                                    "kat_id": "135",
                                    "cnt": "1",
                                    "vegosszeg": "38700"
                                },
                                {
                                    "kat_id": "139",
                                    "cnt": "1",
                                    "vegosszeg": "316500"
                                },
                                {
                                    "kat_id": "140",
                                    "cnt": "1",
                                    "vegosszeg": "64000"
                                },
                                {
                                    "kat_id": "142",
                                    "cnt": "1",
                                    "vegosszeg": "10300"
                                },
                                {
                                    "kat_id": "147",
                                    "cnt": "1",
                                    "vegosszeg": "1425000"
                                },
                                {
                                    "kat_id": "148",
                                    "cnt": "1",
                                    "vegosszeg": "147900"
                                },
                                {
                                    "kat_id": "153",
                                    "cnt": "1",
                                    "vegosszeg": "4000"
                                },
                                {
                                    "kat_id": "155",
                                    "cnt": "1",
                                    "vegosszeg": "8100"
                                },
                                {
                                    "kat_id": "150",
                                    "cnt": "2",
                                    "vegosszeg": "156000"
                                },
                                {
                                    "kat_id": "144",
                                    "cnt": "2",
                                    "vegosszeg": "30800"
                                },
                                {
                                    "kat_id": "141",
                                    "cnt": "2",
                                    "vegosszeg": "14400"
                                },
                                {
                                    "kat_id": "136",
                                    "cnt": "2",
                                    "vegosszeg": "700800"
                                },
                                {
                                    "kat_id": "123",
                                    "cnt": "2",
                                    "vegosszeg": "170500"
                                },
                                {
                                    "kat_id": "134",
                                    "cnt": "2",
                                    "vegosszeg": "387000"
                                },
                                {
                                    "kat_id": "127",
                                    "cnt": "2",
                                    "vegosszeg": "1031600"
                                },
                                {
                                    "kat_id": "128",
                                    "cnt": "2",
                                    "vegosszeg": "59000"
                                },
                                {
                                    "kat_id": "129",
                                    "cnt": "2",
                                    "vegosszeg": "168600"
                                },
                                {
                                    "kat_id": "116",
                                    "cnt": "2",
                                    "vegosszeg": "84400"
                                },
                                {
                                    "kat_id": "117",
                                    "cnt": "2",
                                    "vegosszeg": "33600"
                                },
                                {
                                    "kat_id": "112",
                                    "cnt": "2",
                                    "vegosszeg": "522400"
                                },
                                {
                                    "kat_id": "121",
                                    "cnt": "2",
                                    "vegosszeg": "140700"
                                },
                                {
                                    "kat_id": "110",
                                    "cnt": "2",
                                    "vegosszeg": "327800"
                                },
                                {
                                    "kat_id": "104",
                                    "cnt": "2",
                                    "vegosszeg": "559200"
                                },
                                {
                                    "kat_id": "94",
                                    "cnt": "2",
                                    "vegosszeg": "59300"
                                },
                                {
                                    "kat_id": "95",
                                    "cnt": "2",
                                    "vegosszeg": "621600"
                                },
                                {
                                    "kat_id": "88",
                                    "cnt": "2",
                                    "vegosszeg": "25339000"
                                },
                                {
                                    "kat_id": "90",
                                    "cnt": "2",
                                    "vegosszeg": "3000"
                                },
                                {
                                    "kat_id": "92",
                                    "cnt": "2",
                                    "vegosszeg": "103600"
                                },
                                {
                                    "kat_id": "71",
                                    "cnt": "2",
                                    "vegosszeg": "455000"
                                },
                                {
                                    "kat_id": "72",
                                    "cnt": "2",
                                    "vegosszeg": "248900"
                                },
                                {
                                    "kat_id": "73",
                                    "cnt": "2",
                                    "vegosszeg": "95600"
                                },
                                {
                                    "kat_id": "75",
                                    "cnt": "2",
                                    "vegosszeg": "15000"
                                },
                                {
                                    "kat_id": "62",
                                    "cnt": "2",
                                    "vegosszeg": "1689600"
                                },
                                {
                                    "kat_id": "55",
                                    "cnt": "2",
                                    "vegosszeg": "4218600"
                                },
                                {
                                    "kat_id": "65",
                                    "cnt": "2",
                                    "vegosszeg": "32000"
                                },
                                {
                                    "kat_id": "67",
                                    "cnt": "2",
                                    "vegosszeg": "57900"
                                },
                                {
                                    "kat_id": "68",
                                    "cnt": "2",
                                    "vegosszeg": "4200"
                                },
                                {
                                    "kat_id": "57",
                                    "cnt": "2",
                                    "vegosszeg": "1825200"
                                },
                                {
                                    "kat_id": "48",
                                    "cnt": "2",
                                    "vegosszeg": "165600"
                                },
                                {
                                    "kat_id": "49",
                                    "cnt": "2",
                                    "vegosszeg": "19100"
                                },
                                {
                                    "kat_id": "39",
                                    "cnt": "2",
                                    "vegosszeg": "5457550"
                                },
                                {
                                    "kat_id": "22",
                                    "cnt": "2",
                                    "vegosszeg": "30900"
                                },
                                {
                                    "kat_id": "18",
                                    "cnt": "2",
                                    "vegosszeg": "16500"
                                },
                                {
                                    "kat_id": "9",
                                    "cnt": "2",
                                    "vegosszeg": "1274400"
                                },
                                {
                                    "kat_id": "13",
                                    "cnt": "2",
                                    "vegosszeg": "59400"
                                },
                                {
                                    "kat_id": "5",
                                    "cnt": "3",
                                    "vegosszeg": "367000"
                                },
                                {
                                    "kat_id": "7",
                                    "cnt": "3",
                                    "vegosszeg": "332500"
                                },
                                {
                                    "kat_id": "8",
                                    "cnt": "3",
                                    "vegosszeg": "19567800"
                                },
                                {
                                    "kat_id": "20",
                                    "cnt": "3",
                                    "vegosszeg": "31500"
                                },
                                {
                                    "kat_id": "27",
                                    "cnt": "3",
                                    "vegosszeg": "29300"
                                },
                                {
                                    "kat_id": "32",
                                    "cnt": "3",
                                    "vegosszeg": "5447200"
                                },
                                {
                                    "kat_id": "43",
                                    "cnt": "3",
                                    "vegosszeg": "12800"
                                },
                                {
                                    "kat_id": "58",
                                    "cnt": "3",
                                    "vegosszeg": "62600"
                                },
                                {
                                    "kat_id": "51",
                                    "cnt": "3",
                                    "vegosszeg": "541600"
                                },
                                {
                                    "kat_id": "70",
                                    "cnt": "3",
                                    "vegosszeg": "62700"
                                },
                                {
                                    "kat_id": "89",
                                    "cnt": "3",
                                    "vegosszeg": "155000"
                                },
                                {
                                    "kat_id": "111",
                                    "cnt": "3",
                                    "vegosszeg": "99800"
                                },
                                {
                                    "kat_id": "119",
                                    "cnt": "3",
                                    "vegosszeg": "439900"
                                },
                                {
                                    "kat_id": "137",
                                    "cnt": "3",
                                    "vegosszeg": "7500"
                                },
                                {
                                    "kat_id": "143",
                                    "cnt": "3",
                                    "vegosszeg": "76000"
                                },
                                {
                                    "kat_id": "151",
                                    "cnt": "4",
                                    "vegosszeg": "81500"
                                },
                                {
                                    "kat_id": "154",
                                    "cnt": "4",
                                    "vegosszeg": "1120800"
                                },
                                {
                                    "kat_id": "125",
                                    "cnt": "4",
                                    "vegosszeg": "164800"
                                },
                                {
                                    "kat_id": "79",
                                    "cnt": "4",
                                    "vegosszeg": "138200"
                                },
                                {
                                    "kat_id": "98",
                                    "cnt": "4",
                                    "vegosszeg": "63500"
                                },
                                {
                                    "kat_id": "56",
                                    "cnt": "4",
                                    "vegosszeg": "3682270"
                                },
                                {
                                    "kat_id": "64",
                                    "cnt": "4",
                                    "vegosszeg": "834500"
                                },
                                {
                                    "kat_id": "59",
                                    "cnt": "4",
                                    "vegosszeg": "451400"
                                },
                                {
                                    "kat_id": "47",
                                    "cnt": "4",
                                    "vegosszeg": "2028100"
                                },
                                {
                                    "kat_id": "25",
                                    "cnt": "4",
                                    "vegosszeg": "166800"
                                },
                                {
                                    "kat_id": "14",
                                    "cnt": "4",
                                    "vegosszeg": "2758700"
                                },
                                {
                                    "kat_id": "21",
                                    "cnt": "5",
                                    "vegosszeg": "484300"
                                },
                                {
                                    "kat_id": "36",
                                    "cnt": "5",
                                    "vegosszeg": "2388300"
                                },
                                {
                                    "kat_id": "28",
                                    "cnt": "5",
                                    "vegosszeg": "2732700"
                                },
                                {
                                    "kat_id": "60",
                                    "cnt": "5",
                                    "vegosszeg": "2054300"
                                },
                                {
                                    "kat_id": "76",
                                    "cnt": "5",
                                    "vegosszeg": "53400"
                                },
                                {
                                    "kat_id": "106",
                                    "cnt": "5",
                                    "vegosszeg": "716700"
                                },
                                {
                                    "kat_id": "138",
                                    "cnt": "5",
                                    "vegosszeg": "202800"
                                },
                                {
                                    "kat_id": "133",
                                    "cnt": "6",
                                    "vegosszeg": "679300"
                                },
                                {
                                    "kat_id": "152",
                                    "cnt": "6",
                                    "vegosszeg": "99100"
                                },
                                {
                                    "kat_id": "149",
                                    "cnt": "6",
                                    "vegosszeg": "23054300"
                                },
                                {
                                    "kat_id": "83",
                                    "cnt": "6",
                                    "vegosszeg": "356900"
                                },
                                {
                                    "kat_id": "54",
                                    "cnt": "6",
                                    "vegosszeg": "13118600"
                                },
                                {
                                    "kat_id": "46",
                                    "cnt": "7",
                                    "vegosszeg": "88800"
                                },
                                {
                                    "kat_id": "66",
                                    "cnt": "7",
                                    "vegosszeg": "702200"
                                },
                                {
                                    "kat_id": "24",
                                    "cnt": "7",
                                    "vegosszeg": "801400"
                                },
                                {
                                    "kat_id": "30",
                                    "cnt": "7",
                                    "vegosszeg": "598300"
                                },
                                {
                                    "kat_id": "35",
                                    "cnt": "7",
                                    "vegosszeg": "1105740"
                                },
                                {
                                    "kat_id": "16",
                                    "cnt": "7",
                                    "vegosszeg": "270900"
                                },
                                {
                                    "kat_id": "146",
                                    "cnt": "7",
                                    "vegosszeg": "3286800"
                                },
                                {
                                    "kat_id": "122",
                                    "cnt": "7",
                                    "vegosszeg": "430300"
                                },
                                {
                                    "kat_id": "93",
                                    "cnt": "7",
                                    "vegosszeg": "440600"
                                },
                                {
                                    "kat_id": "91",
                                    "cnt": "7",
                                    "vegosszeg": "1709960"
                                },
                                {
                                    "kat_id": "100",
                                    "cnt": "9",
                                    "vegosszeg": "7424300"
                                },
                                {
                                    "kat_id": "96",
                                    "cnt": "9",
                                    "vegosszeg": "4587600"
                                },
                                {
                                    "kat_id": "118",
                                    "cnt": "9",
                                    "vegosszeg": "14527100"
                                },
                                {
                                    "kat_id": "97",
                                    "cnt": "10",
                                    "vegosszeg": "769600"
                                },
                                {
                                    "kat_id": "124",
                                    "cnt": "10",
                                    "vegosszeg": "2190600"
                                },
                                {
                                    "kat_id": "45",
                                    "cnt": "11",
                                    "vegosszeg": "1058500"
                                },
                                {
                                    "kat_id": "41",
                                    "cnt": "13",
                                    "vegosszeg": "758400"
                                },
                                {
                                    "kat_id": "4",
                                    "cnt": "15",
                                    "vegosszeg": "6767500"
                                },
                                {
                                    "kat_id": "85",
                                    "cnt": "16",
                                    "vegosszeg": "1078700"
                                },
                                {
                                    "kat_id": "145",
                                    "cnt": "18",
                                    "vegosszeg": "3812600"
                                },
                                {
                                    "kat_id": "19",
                                    "cnt": "19",
                                    "vegosszeg": "277800"
                                },
                                {
                                    "kat_id": "6",
                                    "cnt": "20",
                                    "vegosszeg": "6873300"
                                },
                                {
                                    "kat_id": "78",
                                    "cnt": "24",
                                    "vegosszeg": "954750"
                                },
                                {
                                    "kat_id": "52",
                                    "cnt": "26",
                                    "vegosszeg": "45103300"
                                }
                            ]
                        },
                        "text/html": [
                            "<table>",
                            "<tr><th>kat_id</th><th>cnt</th><th>vegosszeg</th></tr>",
                            "<tr><td>10</td><td>1</td><td>10600</td></tr>",
                            "<tr><td>11</td><td>1</td><td>23000</td></tr>",
                            "<tr><td>12</td><td>1</td><td>45600</td></tr>",
                            "<tr><td>15</td><td>1</td><td>207900</td></tr>",
                            "<tr><td>17</td><td>1</td><td>12000</td></tr>",
                            "<tr><td>26</td><td>1</td><td>3600</td></tr>",
                            "<tr><td>29</td><td>1</td><td>172900</td></tr>",
                            "<tr><td>31</td><td>1</td><td>2500</td></tr>",
                            "<tr><td>33</td><td>1</td><td>5200</td></tr>",
                            "<tr><td>34</td><td>1</td><td>48300</td></tr>",
                            "<tr><td>37</td><td>1</td><td>2472690</td></tr>",
                            "<tr><td>38</td><td>1</td><td>3806000</td></tr>",
                            "<tr><td>40</td><td>1</td><td>562500</td></tr>",
                            "<tr><td>42</td><td>1</td><td>25500</td></tr>",
                            "<tr><td>44</td><td>1</td><td>6000</td></tr>",
                            "<tr><td>50</td><td>1</td><td>44500</td></tr>",
                            "<tr><td>53</td><td>1</td><td>7600</td></tr>",
                            "<tr><td>61</td><td>1</td><td>46200</td></tr>",
                            "<tr><td>74</td><td>1</td><td>17700</td></tr>",
                            "<tr><td>80</td><td>1</td><td>38400</td></tr>",
                            "<tr><td>82</td><td>1</td><td>137800</td></tr>",
                            "<tr><td>84</td><td>1</td><td>366800</td></tr>",
                            "<tr><td>86</td><td>1</td><td>195000</td></tr>",
                            "<tr><td>99</td><td>1</td><td>3200</td></tr>",
                            "<tr><td>101</td><td>1</td><td>5400</td></tr>",
                            "<tr><td>103</td><td>1</td><td>26700</td></tr>",
                            "<tr><td>105</td><td>1</td><td>2790000</td></tr>",
                            "<tr><td>107</td><td>1</td><td>1848000</td></tr>",
                            "<tr><td>108</td><td>1</td><td>2395810</td></tr>",
                            "<tr><td>109</td><td>1</td><td>4000</td></tr>",
                            "<tr><td>114</td><td>1</td><td>100000</td></tr>",
                            "<tr><td>115</td><td>1</td><td>3000</td></tr>",
                            "<tr><td>126</td><td>1</td><td>35600</td></tr>",
                            "<tr><td>130</td><td>1</td><td>153230</td></tr>",
                            "<tr><td>131</td><td>1</td><td>13500</td></tr>",
                            "<tr><td>132</td><td>1</td><td>35600</td></tr>",
                            "<tr><td>135</td><td>1</td><td>38700</td></tr>",
                            "<tr><td>139</td><td>1</td><td>316500</td></tr>",
                            "<tr><td>140</td><td>1</td><td>64000</td></tr>",
                            "<tr><td>142</td><td>1</td><td>10300</td></tr>",
                            "<tr><td>147</td><td>1</td><td>1425000</td></tr>",
                            "<tr><td>148</td><td>1</td><td>147900</td></tr>",
                            "<tr><td>153</td><td>1</td><td>4000</td></tr>",
                            "<tr><td>155</td><td>1</td><td>8100</td></tr>",
                            "<tr><td>150</td><td>2</td><td>156000</td></tr>",
                            "<tr><td>144</td><td>2</td><td>30800</td></tr>",
                            "<tr><td>141</td><td>2</td><td>14400</td></tr>",
                            "<tr><td>136</td><td>2</td><td>700800</td></tr>",
                            "<tr><td>123</td><td>2</td><td>170500</td></tr>",
                            "<tr><td>134</td><td>2</td><td>387000</td></tr>",
                            "<tr><td>127</td><td>2</td><td>1031600</td></tr>",
                            "<tr><td>128</td><td>2</td><td>59000</td></tr>",
                            "<tr><td>129</td><td>2</td><td>168600</td></tr>",
                            "<tr><td>116</td><td>2</td><td>84400</td></tr>",
                            "<tr><td>117</td><td>2</td><td>33600</td></tr>",
                            "<tr><td>112</td><td>2</td><td>522400</td></tr>",
                            "<tr><td>121</td><td>2</td><td>140700</td></tr>",
                            "<tr><td>110</td><td>2</td><td>327800</td></tr>",
                            "<tr><td>104</td><td>2</td><td>559200</td></tr>",
                            "<tr><td>94</td><td>2</td><td>59300</td></tr>",
                            "<tr><td>95</td><td>2</td><td>621600</td></tr>",
                            "<tr><td>88</td><td>2</td><td>25339000</td></tr>",
                            "<tr><td>90</td><td>2</td><td>3000</td></tr>",
                            "<tr><td>92</td><td>2</td><td>103600</td></tr>",
                            "<tr><td>71</td><td>2</td><td>455000</td></tr>",
                            "<tr><td>72</td><td>2</td><td>248900</td></tr>",
                            "<tr><td>73</td><td>2</td><td>95600</td></tr>",
                            "<tr><td>75</td><td>2</td><td>15000</td></tr>",
                            "<tr><td>62</td><td>2</td><td>1689600</td></tr>",
                            "<tr><td>55</td><td>2</td><td>4218600</td></tr>",
                            "<tr><td>65</td><td>2</td><td>32000</td></tr>",
                            "<tr><td>67</td><td>2</td><td>57900</td></tr>",
                            "<tr><td>68</td><td>2</td><td>4200</td></tr>",
                            "<tr><td>57</td><td>2</td><td>1825200</td></tr>",
                            "<tr><td>48</td><td>2</td><td>165600</td></tr>",
                            "<tr><td>49</td><td>2</td><td>19100</td></tr>",
                            "<tr><td>39</td><td>2</td><td>5457550</td></tr>",
                            "<tr><td>22</td><td>2</td><td>30900</td></tr>",
                            "<tr><td>18</td><td>2</td><td>16500</td></tr>",
                            "<tr><td>9</td><td>2</td><td>1274400</td></tr>",
                            "<tr><td>13</td><td>2</td><td>59400</td></tr>",
                            "<tr><td>5</td><td>3</td><td>367000</td></tr>",
                            "<tr><td>7</td><td>3</td><td>332500</td></tr>",
                            "<tr><td>8</td><td>3</td><td>19567800</td></tr>",
                            "<tr><td>20</td><td>3</td><td>31500</td></tr>",
                            "<tr><td>27</td><td>3</td><td>29300</td></tr>",
                            "<tr><td>32</td><td>3</td><td>5447200</td></tr>",
                            "<tr><td>43</td><td>3</td><td>12800</td></tr>",
                            "<tr><td>58</td><td>3</td><td>62600</td></tr>",
                            "<tr><td>51</td><td>3</td><td>541600</td></tr>",
                            "<tr><td>70</td><td>3</td><td>62700</td></tr>",
                            "<tr><td>89</td><td>3</td><td>155000</td></tr>",
                            "<tr><td>111</td><td>3</td><td>99800</td></tr>",
                            "<tr><td>119</td><td>3</td><td>439900</td></tr>",
                            "<tr><td>137</td><td>3</td><td>7500</td></tr>",
                            "<tr><td>143</td><td>3</td><td>76000</td></tr>",
                            "<tr><td>151</td><td>4</td><td>81500</td></tr>",
                            "<tr><td>154</td><td>4</td><td>1120800</td></tr>",
                            "<tr><td>125</td><td>4</td><td>164800</td></tr>",
                            "<tr><td>79</td><td>4</td><td>138200</td></tr>",
                            "<tr><td>98</td><td>4</td><td>63500</td></tr>",
                            "<tr><td>56</td><td>4</td><td>3682270</td></tr>",
                            "<tr><td>64</td><td>4</td><td>834500</td></tr>",
                            "<tr><td>59</td><td>4</td><td>451400</td></tr>",
                            "<tr><td>47</td><td>4</td><td>2028100</td></tr>",
                            "<tr><td>25</td><td>4</td><td>166800</td></tr>",
                            "<tr><td>14</td><td>4</td><td>2758700</td></tr>",
                            "<tr><td>21</td><td>5</td><td>484300</td></tr>",
                            "<tr><td>36</td><td>5</td><td>2388300</td></tr>",
                            "<tr><td>28</td><td>5</td><td>2732700</td></tr>",
                            "<tr><td>60</td><td>5</td><td>2054300</td></tr>",
                            "<tr><td>76</td><td>5</td><td>53400</td></tr>",
                            "<tr><td>106</td><td>5</td><td>716700</td></tr>",
                            "<tr><td>138</td><td>5</td><td>202800</td></tr>",
                            "<tr><td>133</td><td>6</td><td>679300</td></tr>",
                            "<tr><td>152</td><td>6</td><td>99100</td></tr>",
                            "<tr><td>149</td><td>6</td><td>23054300</td></tr>",
                            "<tr><td>83</td><td>6</td><td>356900</td></tr>",
                            "<tr><td>54</td><td>6</td><td>13118600</td></tr>",
                            "<tr><td>46</td><td>7</td><td>88800</td></tr>",
                            "<tr><td>66</td><td>7</td><td>702200</td></tr>",
                            "<tr><td>24</td><td>7</td><td>801400</td></tr>",
                            "<tr><td>30</td><td>7</td><td>598300</td></tr>",
                            "<tr><td>35</td><td>7</td><td>1105740</td></tr>",
                            "<tr><td>16</td><td>7</td><td>270900</td></tr>",
                            "<tr><td>146</td><td>7</td><td>3286800</td></tr>",
                            "<tr><td>122</td><td>7</td><td>430300</td></tr>",
                            "<tr><td>93</td><td>7</td><td>440600</td></tr>",
                            "<tr><td>91</td><td>7</td><td>1709960</td></tr>",
                            "<tr><td>100</td><td>9</td><td>7424300</td></tr>",
                            "<tr><td>96</td><td>9</td><td>4587600</td></tr>",
                            "<tr><td>118</td><td>9</td><td>14527100</td></tr>",
                            "<tr><td>97</td><td>10</td><td>769600</td></tr>",
                            "<tr><td>124</td><td>10</td><td>2190600</td></tr>",
                            "<tr><td>45</td><td>11</td><td>1058500</td></tr>",
                            "<tr><td>41</td><td>13</td><td>758400</td></tr>",
                            "<tr><td>4</td><td>15</td><td>6767500</td></tr>",
                            "<tr><td>85</td><td>16</td><td>1078700</td></tr>",
                            "<tr><td>145</td><td>18</td><td>3812600</td></tr>",
                            "<tr><td>19</td><td>19</td><td>277800</td></tr>",
                            "<tr><td>6</td><td>20</td><td>6873300</td></tr>",
                            "<tr><td>78</td><td>24</td><td>954750</td></tr>",
                            "<tr><td>52</td><td>26</td><td>45103300</td></tr>",
                            "</table>"
                        ]
                    }
                },
                {
                    "output_type": "execute_result",
                    "metadata": {},
                    "execution_count": 45,
                    "data": {
                        "application/vnd.dataresource+json": {
                            "schema": {
                                "fields": [
                                    {
                                        "name": "kat_id"
                                    },
                                    {
                                        "name": "cnt"
                                    }
                                ]
                            },
                            "data": [
                                {
                                    "kat_id": "10",
                                    "cnt": "1"
                                },
                                {
                                    "kat_id": "11",
                                    "cnt": "1"
                                },
                                {
                                    "kat_id": "12",
                                    "cnt": "1"
                                },
                                {
                                    "kat_id": "15",
                                    "cnt": "1"
                                },
                                {
                                    "kat_id": "17",
                                    "cnt": "1"
                                },
                                {
                                    "kat_id": "26",
                                    "cnt": "1"
                                },
                                {
                                    "kat_id": "29",
                                    "cnt": "1"
                                },
                                {
                                    "kat_id": "31",
                                    "cnt": "1"
                                },
                                {
                                    "kat_id": "33",
                                    "cnt": "1"
                                },
                                {
                                    "kat_id": "34",
                                    "cnt": "1"
                                },
                                {
                                    "kat_id": "37",
                                    "cnt": "1"
                                },
                                {
                                    "kat_id": "38",
                                    "cnt": "1"
                                },
                                {
                                    "kat_id": "40",
                                    "cnt": "1"
                                },
                                {
                                    "kat_id": "42",
                                    "cnt": "1"
                                },
                                {
                                    "kat_id": "44",
                                    "cnt": "1"
                                },
                                {
                                    "kat_id": "50",
                                    "cnt": "1"
                                },
                                {
                                    "kat_id": "53",
                                    "cnt": "1"
                                },
                                {
                                    "kat_id": "61",
                                    "cnt": "1"
                                },
                                {
                                    "kat_id": "74",
                                    "cnt": "1"
                                },
                                {
                                    "kat_id": "80",
                                    "cnt": "1"
                                },
                                {
                                    "kat_id": "82",
                                    "cnt": "1"
                                },
                                {
                                    "kat_id": "84",
                                    "cnt": "1"
                                },
                                {
                                    "kat_id": "86",
                                    "cnt": "1"
                                },
                                {
                                    "kat_id": "99",
                                    "cnt": "1"
                                },
                                {
                                    "kat_id": "101",
                                    "cnt": "1"
                                },
                                {
                                    "kat_id": "103",
                                    "cnt": "1"
                                },
                                {
                                    "kat_id": "105",
                                    "cnt": "1"
                                },
                                {
                                    "kat_id": "107",
                                    "cnt": "1"
                                },
                                {
                                    "kat_id": "108",
                                    "cnt": "1"
                                },
                                {
                                    "kat_id": "109",
                                    "cnt": "1"
                                },
                                {
                                    "kat_id": "114",
                                    "cnt": "1"
                                },
                                {
                                    "kat_id": "115",
                                    "cnt": "1"
                                },
                                {
                                    "kat_id": "126",
                                    "cnt": "1"
                                },
                                {
                                    "kat_id": "130",
                                    "cnt": "1"
                                },
                                {
                                    "kat_id": "131",
                                    "cnt": "1"
                                },
                                {
                                    "kat_id": "132",
                                    "cnt": "1"
                                },
                                {
                                    "kat_id": "135",
                                    "cnt": "1"
                                },
                                {
                                    "kat_id": "139",
                                    "cnt": "1"
                                },
                                {
                                    "kat_id": "140",
                                    "cnt": "1"
                                },
                                {
                                    "kat_id": "142",
                                    "cnt": "1"
                                },
                                {
                                    "kat_id": "147",
                                    "cnt": "1"
                                },
                                {
                                    "kat_id": "148",
                                    "cnt": "1"
                                },
                                {
                                    "kat_id": "153",
                                    "cnt": "1"
                                },
                                {
                                    "kat_id": "155",
                                    "cnt": "1"
                                },
                                {
                                    "kat_id": "150",
                                    "cnt": "2"
                                },
                                {
                                    "kat_id": "144",
                                    "cnt": "2"
                                },
                                {
                                    "kat_id": "141",
                                    "cnt": "2"
                                },
                                {
                                    "kat_id": "136",
                                    "cnt": "2"
                                },
                                {
                                    "kat_id": "123",
                                    "cnt": "2"
                                },
                                {
                                    "kat_id": "134",
                                    "cnt": "2"
                                },
                                {
                                    "kat_id": "127",
                                    "cnt": "2"
                                },
                                {
                                    "kat_id": "128",
                                    "cnt": "2"
                                },
                                {
                                    "kat_id": "129",
                                    "cnt": "2"
                                },
                                {
                                    "kat_id": "116",
                                    "cnt": "2"
                                },
                                {
                                    "kat_id": "117",
                                    "cnt": "2"
                                },
                                {
                                    "kat_id": "112",
                                    "cnt": "2"
                                },
                                {
                                    "kat_id": "121",
                                    "cnt": "2"
                                },
                                {
                                    "kat_id": "110",
                                    "cnt": "2"
                                },
                                {
                                    "kat_id": "104",
                                    "cnt": "2"
                                },
                                {
                                    "kat_id": "94",
                                    "cnt": "2"
                                },
                                {
                                    "kat_id": "95",
                                    "cnt": "2"
                                },
                                {
                                    "kat_id": "88",
                                    "cnt": "2"
                                },
                                {
                                    "kat_id": "90",
                                    "cnt": "2"
                                },
                                {
                                    "kat_id": "92",
                                    "cnt": "2"
                                },
                                {
                                    "kat_id": "71",
                                    "cnt": "2"
                                },
                                {
                                    "kat_id": "72",
                                    "cnt": "2"
                                },
                                {
                                    "kat_id": "73",
                                    "cnt": "2"
                                },
                                {
                                    "kat_id": "75",
                                    "cnt": "2"
                                },
                                {
                                    "kat_id": "62",
                                    "cnt": "2"
                                },
                                {
                                    "kat_id": "55",
                                    "cnt": "2"
                                },
                                {
                                    "kat_id": "65",
                                    "cnt": "2"
                                },
                                {
                                    "kat_id": "67",
                                    "cnt": "2"
                                },
                                {
                                    "kat_id": "68",
                                    "cnt": "2"
                                },
                                {
                                    "kat_id": "57",
                                    "cnt": "2"
                                },
                                {
                                    "kat_id": "48",
                                    "cnt": "2"
                                },
                                {
                                    "kat_id": "49",
                                    "cnt": "2"
                                },
                                {
                                    "kat_id": "39",
                                    "cnt": "2"
                                },
                                {
                                    "kat_id": "22",
                                    "cnt": "2"
                                },
                                {
                                    "kat_id": "18",
                                    "cnt": "2"
                                },
                                {
                                    "kat_id": "9",
                                    "cnt": "2"
                                },
                                {
                                    "kat_id": "13",
                                    "cnt": "2"
                                },
                                {
                                    "kat_id": "5",
                                    "cnt": "3"
                                },
                                {
                                    "kat_id": "7",
                                    "cnt": "3"
                                },
                                {
                                    "kat_id": "8",
                                    "cnt": "3"
                                },
                                {
                                    "kat_id": "20",
                                    "cnt": "3"
                                },
                                {
                                    "kat_id": "27",
                                    "cnt": "3"
                                },
                                {
                                    "kat_id": "32",
                                    "cnt": "3"
                                },
                                {
                                    "kat_id": "43",
                                    "cnt": "3"
                                },
                                {
                                    "kat_id": "58",
                                    "cnt": "3"
                                },
                                {
                                    "kat_id": "51",
                                    "cnt": "3"
                                },
                                {
                                    "kat_id": "70",
                                    "cnt": "3"
                                },
                                {
                                    "kat_id": "89",
                                    "cnt": "3"
                                },
                                {
                                    "kat_id": "111",
                                    "cnt": "3"
                                },
                                {
                                    "kat_id": "119",
                                    "cnt": "3"
                                },
                                {
                                    "kat_id": "137",
                                    "cnt": "3"
                                },
                                {
                                    "kat_id": "143",
                                    "cnt": "3"
                                },
                                {
                                    "kat_id": "151",
                                    "cnt": "4"
                                },
                                {
                                    "kat_id": "154",
                                    "cnt": "4"
                                },
                                {
                                    "kat_id": "125",
                                    "cnt": "4"
                                },
                                {
                                    "kat_id": "79",
                                    "cnt": "4"
                                },
                                {
                                    "kat_id": "98",
                                    "cnt": "4"
                                },
                                {
                                    "kat_id": "56",
                                    "cnt": "4"
                                },
                                {
                                    "kat_id": "64",
                                    "cnt": "4"
                                },
                                {
                                    "kat_id": "59",
                                    "cnt": "4"
                                },
                                {
                                    "kat_id": "47",
                                    "cnt": "4"
                                },
                                {
                                    "kat_id": "25",
                                    "cnt": "4"
                                },
                                {
                                    "kat_id": "14",
                                    "cnt": "4"
                                },
                                {
                                    "kat_id": "21",
                                    "cnt": "5"
                                },
                                {
                                    "kat_id": "36",
                                    "cnt": "5"
                                },
                                {
                                    "kat_id": "28",
                                    "cnt": "5"
                                },
                                {
                                    "kat_id": "60",
                                    "cnt": "5"
                                },
                                {
                                    "kat_id": "76",
                                    "cnt": "5"
                                },
                                {
                                    "kat_id": "106",
                                    "cnt": "5"
                                },
                                {
                                    "kat_id": "138",
                                    "cnt": "5"
                                },
                                {
                                    "kat_id": "133",
                                    "cnt": "6"
                                },
                                {
                                    "kat_id": "152",
                                    "cnt": "6"
                                },
                                {
                                    "kat_id": "149",
                                    "cnt": "6"
                                },
                                {
                                    "kat_id": "83",
                                    "cnt": "6"
                                },
                                {
                                    "kat_id": "54",
                                    "cnt": "6"
                                },
                                {
                                    "kat_id": "46",
                                    "cnt": "7"
                                },
                                {
                                    "kat_id": "66",
                                    "cnt": "7"
                                },
                                {
                                    "kat_id": "24",
                                    "cnt": "7"
                                },
                                {
                                    "kat_id": "30",
                                    "cnt": "7"
                                },
                                {
                                    "kat_id": "35",
                                    "cnt": "7"
                                },
                                {
                                    "kat_id": "16",
                                    "cnt": "7"
                                },
                                {
                                    "kat_id": "146",
                                    "cnt": "7"
                                },
                                {
                                    "kat_id": "122",
                                    "cnt": "7"
                                },
                                {
                                    "kat_id": "93",
                                    "cnt": "7"
                                },
                                {
                                    "kat_id": "91",
                                    "cnt": "7"
                                },
                                {
                                    "kat_id": "100",
                                    "cnt": "9"
                                },
                                {
                                    "kat_id": "96",
                                    "cnt": "9"
                                },
                                {
                                    "kat_id": "118",
                                    "cnt": "9"
                                },
                                {
                                    "kat_id": "97",
                                    "cnt": "10"
                                },
                                {
                                    "kat_id": "124",
                                    "cnt": "10"
                                },
                                {
                                    "kat_id": "45",
                                    "cnt": "11"
                                },
                                {
                                    "kat_id": "41",
                                    "cnt": "13"
                                },
                                {
                                    "kat_id": "4",
                                    "cnt": "15"
                                },
                                {
                                    "kat_id": "85",
                                    "cnt": "16"
                                },
                                {
                                    "kat_id": "145",
                                    "cnt": "18"
                                },
                                {
                                    "kat_id": "19",
                                    "cnt": "19"
                                },
                                {
                                    "kat_id": "6",
                                    "cnt": "20"
                                },
                                {
                                    "kat_id": "78",
                                    "cnt": "24"
                                },
                                {
                                    "kat_id": "52",
                                    "cnt": "26"
                                },
                                {
                                    "kat_id": "NULL",
                                    "cnt": "551"
                                }
                            ]
                        },
                        "text/html": [
                            "<table>",
                            "<tr><th>kat_id</th><th>cnt</th></tr>",
                            "<tr><td>10</td><td>1</td></tr>",
                            "<tr><td>11</td><td>1</td></tr>",
                            "<tr><td>12</td><td>1</td></tr>",
                            "<tr><td>15</td><td>1</td></tr>",
                            "<tr><td>17</td><td>1</td></tr>",
                            "<tr><td>26</td><td>1</td></tr>",
                            "<tr><td>29</td><td>1</td></tr>",
                            "<tr><td>31</td><td>1</td></tr>",
                            "<tr><td>33</td><td>1</td></tr>",
                            "<tr><td>34</td><td>1</td></tr>",
                            "<tr><td>37</td><td>1</td></tr>",
                            "<tr><td>38</td><td>1</td></tr>",
                            "<tr><td>40</td><td>1</td></tr>",
                            "<tr><td>42</td><td>1</td></tr>",
                            "<tr><td>44</td><td>1</td></tr>",
                            "<tr><td>50</td><td>1</td></tr>",
                            "<tr><td>53</td><td>1</td></tr>",
                            "<tr><td>61</td><td>1</td></tr>",
                            "<tr><td>74</td><td>1</td></tr>",
                            "<tr><td>80</td><td>1</td></tr>",
                            "<tr><td>82</td><td>1</td></tr>",
                            "<tr><td>84</td><td>1</td></tr>",
                            "<tr><td>86</td><td>1</td></tr>",
                            "<tr><td>99</td><td>1</td></tr>",
                            "<tr><td>101</td><td>1</td></tr>",
                            "<tr><td>103</td><td>1</td></tr>",
                            "<tr><td>105</td><td>1</td></tr>",
                            "<tr><td>107</td><td>1</td></tr>",
                            "<tr><td>108</td><td>1</td></tr>",
                            "<tr><td>109</td><td>1</td></tr>",
                            "<tr><td>114</td><td>1</td></tr>",
                            "<tr><td>115</td><td>1</td></tr>",
                            "<tr><td>126</td><td>1</td></tr>",
                            "<tr><td>130</td><td>1</td></tr>",
                            "<tr><td>131</td><td>1</td></tr>",
                            "<tr><td>132</td><td>1</td></tr>",
                            "<tr><td>135</td><td>1</td></tr>",
                            "<tr><td>139</td><td>1</td></tr>",
                            "<tr><td>140</td><td>1</td></tr>",
                            "<tr><td>142</td><td>1</td></tr>",
                            "<tr><td>147</td><td>1</td></tr>",
                            "<tr><td>148</td><td>1</td></tr>",
                            "<tr><td>153</td><td>1</td></tr>",
                            "<tr><td>155</td><td>1</td></tr>",
                            "<tr><td>150</td><td>2</td></tr>",
                            "<tr><td>144</td><td>2</td></tr>",
                            "<tr><td>141</td><td>2</td></tr>",
                            "<tr><td>136</td><td>2</td></tr>",
                            "<tr><td>123</td><td>2</td></tr>",
                            "<tr><td>134</td><td>2</td></tr>",
                            "<tr><td>127</td><td>2</td></tr>",
                            "<tr><td>128</td><td>2</td></tr>",
                            "<tr><td>129</td><td>2</td></tr>",
                            "<tr><td>116</td><td>2</td></tr>",
                            "<tr><td>117</td><td>2</td></tr>",
                            "<tr><td>112</td><td>2</td></tr>",
                            "<tr><td>121</td><td>2</td></tr>",
                            "<tr><td>110</td><td>2</td></tr>",
                            "<tr><td>104</td><td>2</td></tr>",
                            "<tr><td>94</td><td>2</td></tr>",
                            "<tr><td>95</td><td>2</td></tr>",
                            "<tr><td>88</td><td>2</td></tr>",
                            "<tr><td>90</td><td>2</td></tr>",
                            "<tr><td>92</td><td>2</td></tr>",
                            "<tr><td>71</td><td>2</td></tr>",
                            "<tr><td>72</td><td>2</td></tr>",
                            "<tr><td>73</td><td>2</td></tr>",
                            "<tr><td>75</td><td>2</td></tr>",
                            "<tr><td>62</td><td>2</td></tr>",
                            "<tr><td>55</td><td>2</td></tr>",
                            "<tr><td>65</td><td>2</td></tr>",
                            "<tr><td>67</td><td>2</td></tr>",
                            "<tr><td>68</td><td>2</td></tr>",
                            "<tr><td>57</td><td>2</td></tr>",
                            "<tr><td>48</td><td>2</td></tr>",
                            "<tr><td>49</td><td>2</td></tr>",
                            "<tr><td>39</td><td>2</td></tr>",
                            "<tr><td>22</td><td>2</td></tr>",
                            "<tr><td>18</td><td>2</td></tr>",
                            "<tr><td>9</td><td>2</td></tr>",
                            "<tr><td>13</td><td>2</td></tr>",
                            "<tr><td>5</td><td>3</td></tr>",
                            "<tr><td>7</td><td>3</td></tr>",
                            "<tr><td>8</td><td>3</td></tr>",
                            "<tr><td>20</td><td>3</td></tr>",
                            "<tr><td>27</td><td>3</td></tr>",
                            "<tr><td>32</td><td>3</td></tr>",
                            "<tr><td>43</td><td>3</td></tr>",
                            "<tr><td>58</td><td>3</td></tr>",
                            "<tr><td>51</td><td>3</td></tr>",
                            "<tr><td>70</td><td>3</td></tr>",
                            "<tr><td>89</td><td>3</td></tr>",
                            "<tr><td>111</td><td>3</td></tr>",
                            "<tr><td>119</td><td>3</td></tr>",
                            "<tr><td>137</td><td>3</td></tr>",
                            "<tr><td>143</td><td>3</td></tr>",
                            "<tr><td>151</td><td>4</td></tr>",
                            "<tr><td>154</td><td>4</td></tr>",
                            "<tr><td>125</td><td>4</td></tr>",
                            "<tr><td>79</td><td>4</td></tr>",
                            "<tr><td>98</td><td>4</td></tr>",
                            "<tr><td>56</td><td>4</td></tr>",
                            "<tr><td>64</td><td>4</td></tr>",
                            "<tr><td>59</td><td>4</td></tr>",
                            "<tr><td>47</td><td>4</td></tr>",
                            "<tr><td>25</td><td>4</td></tr>",
                            "<tr><td>14</td><td>4</td></tr>",
                            "<tr><td>21</td><td>5</td></tr>",
                            "<tr><td>36</td><td>5</td></tr>",
                            "<tr><td>28</td><td>5</td></tr>",
                            "<tr><td>60</td><td>5</td></tr>",
                            "<tr><td>76</td><td>5</td></tr>",
                            "<tr><td>106</td><td>5</td></tr>",
                            "<tr><td>138</td><td>5</td></tr>",
                            "<tr><td>133</td><td>6</td></tr>",
                            "<tr><td>152</td><td>6</td></tr>",
                            "<tr><td>149</td><td>6</td></tr>",
                            "<tr><td>83</td><td>6</td></tr>",
                            "<tr><td>54</td><td>6</td></tr>",
                            "<tr><td>46</td><td>7</td></tr>",
                            "<tr><td>66</td><td>7</td></tr>",
                            "<tr><td>24</td><td>7</td></tr>",
                            "<tr><td>30</td><td>7</td></tr>",
                            "<tr><td>35</td><td>7</td></tr>",
                            "<tr><td>16</td><td>7</td></tr>",
                            "<tr><td>146</td><td>7</td></tr>",
                            "<tr><td>122</td><td>7</td></tr>",
                            "<tr><td>93</td><td>7</td></tr>",
                            "<tr><td>91</td><td>7</td></tr>",
                            "<tr><td>100</td><td>9</td></tr>",
                            "<tr><td>96</td><td>9</td></tr>",
                            "<tr><td>118</td><td>9</td></tr>",
                            "<tr><td>97</td><td>10</td></tr>",
                            "<tr><td>124</td><td>10</td></tr>",
                            "<tr><td>45</td><td>11</td></tr>",
                            "<tr><td>41</td><td>13</td></tr>",
                            "<tr><td>4</td><td>15</td></tr>",
                            "<tr><td>85</td><td>16</td></tr>",
                            "<tr><td>145</td><td>18</td></tr>",
                            "<tr><td>19</td><td>19</td></tr>",
                            "<tr><td>6</td><td>20</td></tr>",
                            "<tr><td>78</td><td>24</td></tr>",
                            "<tr><td>52</td><td>26</td></tr>",
                            "<tr><td>NULL</td><td>551</td></tr>",
                            "</table>"
                        ]
                    }
                }
            ],
            "execution_count": 45
        },
        {
            "cell_type": "markdown",
            "source": [
                "4. <span style=\"background-color: rgb(255, 255, 255); color: rgb(0, 0, 0); font-family: &quot;Open Sans&quot;, sans-serif; font-size: 14.44px;\">Készítsünk listát az ügyfelek számáról születési év szerint, azon belül nem szerinti bontásban!&nbsp;</span> \n",
                "\n",
                "a. A lista megfelelően jelölve tartalmazza a részösszegeket és a végösszeget is!  \n",
                "b. Az oszlopoknak adjunk nevet értelemszerűen!"
            ],
            "metadata": {
                "azdata_cell_guid": "8e7fef82-8022-49a0-8255-fc2846c2134b"
            },
            "attachments": {}
        },
        {
            "cell_type": "code",
            "source": [
                "SELECT case \r\n",
                "            when  GROUPING_ID(szulev)=1 then 'végösszeg' \r\n",
                "            else cast(szulev as nvarchar(5)) \r\n",
                "        end as 'szulev',\r\n",
                "       case\r\n",
                "            WHEN GROUPING_ID(szulev,nem)=1 then 'részössz'\r\n",
                "            when GROUPING_ID(SZULEV,nem)=3 then 'végössz'\r\n",
                "            else NEM\r\n",
                "        end as 'nem',\r\n",
                "       count(*) as db\r\n",
                "from Ugyfel\r\n",
                "group by  rollup (SZULEV, NEM)\r\n",
                ""
            ],
            "metadata": {
                "azdata_cell_guid": "36f7b396-4a1f-45e5-8720-2302537c91bc",
                "language": "sql"
            },
            "outputs": [
                {
                    "output_type": "display_data",
                    "data": {
                        "text/html": "(96 rows affected)"
                    },
                    "metadata": {}
                },
                {
                    "output_type": "display_data",
                    "data": {
                        "text/html": "Total execution time: 00:00:00.046"
                    },
                    "metadata": {}
                },
                {
                    "output_type": "execute_result",
                    "metadata": {},
                    "execution_count": 50,
                    "data": {
                        "application/vnd.dataresource+json": {
                            "schema": {
                                "fields": [
                                    {
                                        "name": "szulev"
                                    },
                                    {
                                        "name": "nem"
                                    },
                                    {
                                        "name": "db"
                                    }
                                ]
                            },
                            "data": [
                                {
                                    "szulev": "1967",
                                    "nem": "F",
                                    "db": "5"
                                },
                                {
                                    "szulev": "1967",
                                    "nem": "N",
                                    "db": "3"
                                },
                                {
                                    "szulev": "1967",
                                    "nem": "részössz",
                                    "db": "8"
                                },
                                {
                                    "szulev": "1968",
                                    "nem": "F",
                                    "db": "5"
                                },
                                {
                                    "szulev": "1968",
                                    "nem": "N",
                                    "db": "3"
                                },
                                {
                                    "szulev": "1968",
                                    "nem": "részössz",
                                    "db": "8"
                                },
                                {
                                    "szulev": "1969",
                                    "nem": "F",
                                    "db": "5"
                                },
                                {
                                    "szulev": "1969",
                                    "nem": "N",
                                    "db": "3"
                                },
                                {
                                    "szulev": "1969",
                                    "nem": "részössz",
                                    "db": "8"
                                },
                                {
                                    "szulev": "1970",
                                    "nem": "F",
                                    "db": "4"
                                },
                                {
                                    "szulev": "1970",
                                    "nem": "részössz",
                                    "db": "4"
                                },
                                {
                                    "szulev": "1971",
                                    "nem": "F",
                                    "db": "2"
                                },
                                {
                                    "szulev": "1971",
                                    "nem": "N",
                                    "db": "3"
                                },
                                {
                                    "szulev": "1971",
                                    "nem": "részössz",
                                    "db": "5"
                                },
                                {
                                    "szulev": "1972",
                                    "nem": "F",
                                    "db": "2"
                                },
                                {
                                    "szulev": "1972",
                                    "nem": "N",
                                    "db": "2"
                                },
                                {
                                    "szulev": "1972",
                                    "nem": "részössz",
                                    "db": "4"
                                },
                                {
                                    "szulev": "1973",
                                    "nem": "F",
                                    "db": "2"
                                },
                                {
                                    "szulev": "1973",
                                    "nem": "N",
                                    "db": "2"
                                },
                                {
                                    "szulev": "1973",
                                    "nem": "részössz",
                                    "db": "4"
                                },
                                {
                                    "szulev": "1974",
                                    "nem": "F",
                                    "db": "1"
                                },
                                {
                                    "szulev": "1974",
                                    "nem": "N",
                                    "db": "3"
                                },
                                {
                                    "szulev": "1974",
                                    "nem": "részössz",
                                    "db": "4"
                                },
                                {
                                    "szulev": "1975",
                                    "nem": "F",
                                    "db": "8"
                                },
                                {
                                    "szulev": "1975",
                                    "nem": "N",
                                    "db": "3"
                                },
                                {
                                    "szulev": "1975",
                                    "nem": "részössz",
                                    "db": "11"
                                },
                                {
                                    "szulev": "1976",
                                    "nem": "F",
                                    "db": "5"
                                },
                                {
                                    "szulev": "1976",
                                    "nem": "N",
                                    "db": "2"
                                },
                                {
                                    "szulev": "1976",
                                    "nem": "részössz",
                                    "db": "7"
                                },
                                {
                                    "szulev": "1977",
                                    "nem": "F",
                                    "db": "4"
                                },
                                {
                                    "szulev": "1977",
                                    "nem": "N",
                                    "db": "1"
                                },
                                {
                                    "szulev": "1977",
                                    "nem": "részössz",
                                    "db": "5"
                                },
                                {
                                    "szulev": "1978",
                                    "nem": "F",
                                    "db": "3"
                                },
                                {
                                    "szulev": "1978",
                                    "nem": "N",
                                    "db": "4"
                                },
                                {
                                    "szulev": "1978",
                                    "nem": "részössz",
                                    "db": "7"
                                },
                                {
                                    "szulev": "1979",
                                    "nem": "F",
                                    "db": "4"
                                },
                                {
                                    "szulev": "1979",
                                    "nem": "N",
                                    "db": "3"
                                },
                                {
                                    "szulev": "1979",
                                    "nem": "részössz",
                                    "db": "7"
                                },
                                {
                                    "szulev": "1980",
                                    "nem": "F",
                                    "db": "4"
                                },
                                {
                                    "szulev": "1980",
                                    "nem": "N",
                                    "db": "3"
                                },
                                {
                                    "szulev": "1980",
                                    "nem": "részössz",
                                    "db": "7"
                                },
                                {
                                    "szulev": "1981",
                                    "nem": "N",
                                    "db": "4"
                                },
                                {
                                    "szulev": "1981",
                                    "nem": "részössz",
                                    "db": "4"
                                },
                                {
                                    "szulev": "1982",
                                    "nem": "F",
                                    "db": "2"
                                },
                                {
                                    "szulev": "1982",
                                    "nem": "N",
                                    "db": "2"
                                },
                                {
                                    "szulev": "1982",
                                    "nem": "részössz",
                                    "db": "4"
                                },
                                {
                                    "szulev": "1983",
                                    "nem": "F",
                                    "db": "5"
                                },
                                {
                                    "szulev": "1983",
                                    "nem": "N",
                                    "db": "3"
                                },
                                {
                                    "szulev": "1983",
                                    "nem": "részössz",
                                    "db": "8"
                                },
                                {
                                    "szulev": "1984",
                                    "nem": "F",
                                    "db": "6"
                                },
                                {
                                    "szulev": "1984",
                                    "nem": "N",
                                    "db": "2"
                                },
                                {
                                    "szulev": "1984",
                                    "nem": "részössz",
                                    "db": "8"
                                },
                                {
                                    "szulev": "1985",
                                    "nem": "F",
                                    "db": "5"
                                },
                                {
                                    "szulev": "1985",
                                    "nem": "N",
                                    "db": "1"
                                },
                                {
                                    "szulev": "1985",
                                    "nem": "részössz",
                                    "db": "6"
                                },
                                {
                                    "szulev": "1986",
                                    "nem": "F",
                                    "db": "7"
                                },
                                {
                                    "szulev": "1986",
                                    "nem": "N",
                                    "db": "2"
                                },
                                {
                                    "szulev": "1986",
                                    "nem": "részössz",
                                    "db": "9"
                                },
                                {
                                    "szulev": "1987",
                                    "nem": "F",
                                    "db": "2"
                                },
                                {
                                    "szulev": "1987",
                                    "nem": "N",
                                    "db": "3"
                                },
                                {
                                    "szulev": "1987",
                                    "nem": "részössz",
                                    "db": "5"
                                },
                                {
                                    "szulev": "1988",
                                    "nem": "F",
                                    "db": "2"
                                },
                                {
                                    "szulev": "1988",
                                    "nem": "N",
                                    "db": "4"
                                },
                                {
                                    "szulev": "1988",
                                    "nem": "részössz",
                                    "db": "6"
                                },
                                {
                                    "szulev": "1989",
                                    "nem": "F",
                                    "db": "6"
                                },
                                {
                                    "szulev": "1989",
                                    "nem": "N",
                                    "db": "1"
                                },
                                {
                                    "szulev": "1989",
                                    "nem": "részössz",
                                    "db": "7"
                                },
                                {
                                    "szulev": "1990",
                                    "nem": "F",
                                    "db": "5"
                                },
                                {
                                    "szulev": "1990",
                                    "nem": "N",
                                    "db": "3"
                                },
                                {
                                    "szulev": "1990",
                                    "nem": "részössz",
                                    "db": "8"
                                },
                                {
                                    "szulev": "1991",
                                    "nem": "F",
                                    "db": "3"
                                },
                                {
                                    "szulev": "1991",
                                    "nem": "N",
                                    "db": "3"
                                },
                                {
                                    "szulev": "1991",
                                    "nem": "részössz",
                                    "db": "6"
                                },
                                {
                                    "szulev": "1992",
                                    "nem": "F",
                                    "db": "3"
                                },
                                {
                                    "szulev": "1992",
                                    "nem": "N",
                                    "db": "1"
                                },
                                {
                                    "szulev": "1992",
                                    "nem": "részössz",
                                    "db": "4"
                                },
                                {
                                    "szulev": "1993",
                                    "nem": "F",
                                    "db": "2"
                                },
                                {
                                    "szulev": "1993",
                                    "nem": "N",
                                    "db": "3"
                                },
                                {
                                    "szulev": "1993",
                                    "nem": "részössz",
                                    "db": "5"
                                },
                                {
                                    "szulev": "1994",
                                    "nem": "N",
                                    "db": "3"
                                },
                                {
                                    "szulev": "1994",
                                    "nem": "részössz",
                                    "db": "3"
                                },
                                {
                                    "szulev": "1995",
                                    "nem": "F",
                                    "db": "3"
                                },
                                {
                                    "szulev": "1995",
                                    "nem": "N",
                                    "db": "3"
                                },
                                {
                                    "szulev": "1995",
                                    "nem": "részössz",
                                    "db": "6"
                                },
                                {
                                    "szulev": "1996",
                                    "nem": "F",
                                    "db": "2"
                                },
                                {
                                    "szulev": "1996",
                                    "nem": "N",
                                    "db": "5"
                                },
                                {
                                    "szulev": "1996",
                                    "nem": "részössz",
                                    "db": "7"
                                },
                                {
                                    "szulev": "1997",
                                    "nem": "F",
                                    "db": "10"
                                },
                                {
                                    "szulev": "1997",
                                    "nem": "N",
                                    "db": "2"
                                },
                                {
                                    "szulev": "1997",
                                    "nem": "részössz",
                                    "db": "12"
                                },
                                {
                                    "szulev": "1998",
                                    "nem": "F",
                                    "db": "1"
                                },
                                {
                                    "szulev": "1998",
                                    "nem": "N",
                                    "db": "1"
                                },
                                {
                                    "szulev": "1998",
                                    "nem": "részössz",
                                    "db": "2"
                                },
                                {
                                    "szulev": "2000",
                                    "nem": "F",
                                    "db": "1"
                                },
                                {
                                    "szulev": "2000",
                                    "nem": "részössz",
                                    "db": "1"
                                },
                                {
                                    "szulev": "végösszeg",
                                    "nem": "végössz",
                                    "db": "200"
                                }
                            ]
                        },
                        "text/html": [
                            "<table>",
                            "<tr><th>szulev</th><th>nem</th><th>db</th></tr>",
                            "<tr><td>1967</td><td>F</td><td>5</td></tr>",
                            "<tr><td>1967</td><td>N</td><td>3</td></tr>",
                            "<tr><td>1967</td><td>részössz</td><td>8</td></tr>",
                            "<tr><td>1968</td><td>F</td><td>5</td></tr>",
                            "<tr><td>1968</td><td>N</td><td>3</td></tr>",
                            "<tr><td>1968</td><td>részössz</td><td>8</td></tr>",
                            "<tr><td>1969</td><td>F</td><td>5</td></tr>",
                            "<tr><td>1969</td><td>N</td><td>3</td></tr>",
                            "<tr><td>1969</td><td>részössz</td><td>8</td></tr>",
                            "<tr><td>1970</td><td>F</td><td>4</td></tr>",
                            "<tr><td>1970</td><td>részössz</td><td>4</td></tr>",
                            "<tr><td>1971</td><td>F</td><td>2</td></tr>",
                            "<tr><td>1971</td><td>N</td><td>3</td></tr>",
                            "<tr><td>1971</td><td>részössz</td><td>5</td></tr>",
                            "<tr><td>1972</td><td>F</td><td>2</td></tr>",
                            "<tr><td>1972</td><td>N</td><td>2</td></tr>",
                            "<tr><td>1972</td><td>részössz</td><td>4</td></tr>",
                            "<tr><td>1973</td><td>F</td><td>2</td></tr>",
                            "<tr><td>1973</td><td>N</td><td>2</td></tr>",
                            "<tr><td>1973</td><td>részössz</td><td>4</td></tr>",
                            "<tr><td>1974</td><td>F</td><td>1</td></tr>",
                            "<tr><td>1974</td><td>N</td><td>3</td></tr>",
                            "<tr><td>1974</td><td>részössz</td><td>4</td></tr>",
                            "<tr><td>1975</td><td>F</td><td>8</td></tr>",
                            "<tr><td>1975</td><td>N</td><td>3</td></tr>",
                            "<tr><td>1975</td><td>részössz</td><td>11</td></tr>",
                            "<tr><td>1976</td><td>F</td><td>5</td></tr>",
                            "<tr><td>1976</td><td>N</td><td>2</td></tr>",
                            "<tr><td>1976</td><td>részössz</td><td>7</td></tr>",
                            "<tr><td>1977</td><td>F</td><td>4</td></tr>",
                            "<tr><td>1977</td><td>N</td><td>1</td></tr>",
                            "<tr><td>1977</td><td>részössz</td><td>5</td></tr>",
                            "<tr><td>1978</td><td>F</td><td>3</td></tr>",
                            "<tr><td>1978</td><td>N</td><td>4</td></tr>",
                            "<tr><td>1978</td><td>részössz</td><td>7</td></tr>",
                            "<tr><td>1979</td><td>F</td><td>4</td></tr>",
                            "<tr><td>1979</td><td>N</td><td>3</td></tr>",
                            "<tr><td>1979</td><td>részössz</td><td>7</td></tr>",
                            "<tr><td>1980</td><td>F</td><td>4</td></tr>",
                            "<tr><td>1980</td><td>N</td><td>3</td></tr>",
                            "<tr><td>1980</td><td>részössz</td><td>7</td></tr>",
                            "<tr><td>1981</td><td>N</td><td>4</td></tr>",
                            "<tr><td>1981</td><td>részössz</td><td>4</td></tr>",
                            "<tr><td>1982</td><td>F</td><td>2</td></tr>",
                            "<tr><td>1982</td><td>N</td><td>2</td></tr>",
                            "<tr><td>1982</td><td>részössz</td><td>4</td></tr>",
                            "<tr><td>1983</td><td>F</td><td>5</td></tr>",
                            "<tr><td>1983</td><td>N</td><td>3</td></tr>",
                            "<tr><td>1983</td><td>részössz</td><td>8</td></tr>",
                            "<tr><td>1984</td><td>F</td><td>6</td></tr>",
                            "<tr><td>1984</td><td>N</td><td>2</td></tr>",
                            "<tr><td>1984</td><td>részössz</td><td>8</td></tr>",
                            "<tr><td>1985</td><td>F</td><td>5</td></tr>",
                            "<tr><td>1985</td><td>N</td><td>1</td></tr>",
                            "<tr><td>1985</td><td>részössz</td><td>6</td></tr>",
                            "<tr><td>1986</td><td>F</td><td>7</td></tr>",
                            "<tr><td>1986</td><td>N</td><td>2</td></tr>",
                            "<tr><td>1986</td><td>részössz</td><td>9</td></tr>",
                            "<tr><td>1987</td><td>F</td><td>2</td></tr>",
                            "<tr><td>1987</td><td>N</td><td>3</td></tr>",
                            "<tr><td>1987</td><td>részössz</td><td>5</td></tr>",
                            "<tr><td>1988</td><td>F</td><td>2</td></tr>",
                            "<tr><td>1988</td><td>N</td><td>4</td></tr>",
                            "<tr><td>1988</td><td>részössz</td><td>6</td></tr>",
                            "<tr><td>1989</td><td>F</td><td>6</td></tr>",
                            "<tr><td>1989</td><td>N</td><td>1</td></tr>",
                            "<tr><td>1989</td><td>részössz</td><td>7</td></tr>",
                            "<tr><td>1990</td><td>F</td><td>5</td></tr>",
                            "<tr><td>1990</td><td>N</td><td>3</td></tr>",
                            "<tr><td>1990</td><td>részössz</td><td>8</td></tr>",
                            "<tr><td>1991</td><td>F</td><td>3</td></tr>",
                            "<tr><td>1991</td><td>N</td><td>3</td></tr>",
                            "<tr><td>1991</td><td>részössz</td><td>6</td></tr>",
                            "<tr><td>1992</td><td>F</td><td>3</td></tr>",
                            "<tr><td>1992</td><td>N</td><td>1</td></tr>",
                            "<tr><td>1992</td><td>részössz</td><td>4</td></tr>",
                            "<tr><td>1993</td><td>F</td><td>2</td></tr>",
                            "<tr><td>1993</td><td>N</td><td>3</td></tr>",
                            "<tr><td>1993</td><td>részössz</td><td>5</td></tr>",
                            "<tr><td>1994</td><td>N</td><td>3</td></tr>",
                            "<tr><td>1994</td><td>részössz</td><td>3</td></tr>",
                            "<tr><td>1995</td><td>F</td><td>3</td></tr>",
                            "<tr><td>1995</td><td>N</td><td>3</td></tr>",
                            "<tr><td>1995</td><td>részössz</td><td>6</td></tr>",
                            "<tr><td>1996</td><td>F</td><td>2</td></tr>",
                            "<tr><td>1996</td><td>N</td><td>5</td></tr>",
                            "<tr><td>1996</td><td>részössz</td><td>7</td></tr>",
                            "<tr><td>1997</td><td>F</td><td>10</td></tr>",
                            "<tr><td>1997</td><td>N</td><td>2</td></tr>",
                            "<tr><td>1997</td><td>részössz</td><td>12</td></tr>",
                            "<tr><td>1998</td><td>F</td><td>1</td></tr>",
                            "<tr><td>1998</td><td>N</td><td>1</td></tr>",
                            "<tr><td>1998</td><td>részössz</td><td>2</td></tr>",
                            "<tr><td>2000</td><td>F</td><td>1</td></tr>",
                            "<tr><td>2000</td><td>részössz</td><td>1</td></tr>",
                            "<tr><td>végösszeg</td><td>végössz</td><td>200</td></tr>",
                            "</table>"
                        ]
                    }
                }
            ],
            "execution_count": 50
        },
        {
            "cell_type": "markdown",
            "source": [
                "5. <span style=\"background-color: rgb(255, 255, 255); color: rgb(0, 0, 0); font-family: &quot;Open Sans&quot;, sans-serif; font-size: 14.44px;\">Készítsünk listát a termékek számáról a felvitel hónapja, azon belül napja szerint csoportosítva.&nbsp;</span> \n",
                "\n",
                "a. A lista csak a részösszegeket és a végösszeget tartalmazza!  \n",
                "b. Az oszlopoknak adjunk megfelelő nevet!  \n",
                "c. Ötlet: HAVING + GROUPING\\_ID fv együttes használata"
            ],
            "metadata": {
                "azdata_cell_guid": "84239ca2-6b5e-49f5-9860-d44c11d6de32"
            },
            "attachments": {}
        },
        {
            "cell_type": "code",
            "source": [
                "select MONTH(FELVITEL) as honap,\r\n",
                "        day(FELVITEL) as nap,\r\n",
                "        count(*) as db \r\n",
                "\r\n",
                "from Termek\r\n",
                "group by rollup(MONTH(FELVITEL),day(FELVITEL))\r\n",
                "--csak a vegösszeg és részösszeg\r\n",
                "HAVING GROUPING_ID(MONTH(FELVITEL),day(FELVITEL)) > 0\r\n",
                ""
            ],
            "metadata": {
                "azdata_cell_guid": "06d9a62b-9430-424b-a135-d80e675f0eb3",
                "language": "sql"
            },
            "outputs": [
                {
                    "output_type": "display_data",
                    "data": {
                        "text/html": "(5 rows affected)"
                    },
                    "metadata": {}
                },
                {
                    "output_type": "display_data",
                    "data": {
                        "text/html": "Total execution time: 00:00:00.045"
                    },
                    "metadata": {}
                },
                {
                    "output_type": "execute_result",
                    "metadata": {},
                    "execution_count": 56,
                    "data": {
                        "application/vnd.dataresource+json": {
                            "schema": {
                                "fields": [
                                    {
                                        "name": "honap"
                                    },
                                    {
                                        "name": "nap"
                                    },
                                    {
                                        "name": "db"
                                    }
                                ]
                            },
                            "data": [
                                {
                                    "honap": "7",
                                    "nap": "NULL",
                                    "db": "355"
                                },
                                {
                                    "honap": "8",
                                    "nap": "NULL",
                                    "db": "194"
                                },
                                {
                                    "honap": "9",
                                    "nap": "NULL",
                                    "db": "1"
                                },
                                {
                                    "honap": "12",
                                    "nap": "NULL",
                                    "db": "1"
                                },
                                {
                                    "honap": "NULL",
                                    "nap": "NULL",
                                    "db": "551"
                                }
                            ]
                        },
                        "text/html": [
                            "<table>",
                            "<tr><th>honap</th><th>nap</th><th>db</th></tr>",
                            "<tr><td>7</td><td>NULL</td><td>355</td></tr>",
                            "<tr><td>8</td><td>NULL</td><td>194</td></tr>",
                            "<tr><td>9</td><td>NULL</td><td>1</td></tr>",
                            "<tr><td>12</td><td>NULL</td><td>1</td></tr>",
                            "<tr><td>NULL</td><td>NULL</td><td>551</td></tr>",
                            "</table>"
                        ]
                    }
                }
            ],
            "execution_count": 56
        }
    ]
}