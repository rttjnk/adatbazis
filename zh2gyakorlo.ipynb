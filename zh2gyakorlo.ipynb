{
    "metadata": {
        "kernelspec": {
            "name": "SQL",
            "display_name": "SQL",
            "language": "sql"
        },
        "language_info": {
            "name": "sql",
            "version": ""
        }
    },
    "nbformat_minor": 2,
    "nbformat": 4,
    "cells": [
        {
            "cell_type": "code",
            "source": [
                "--1.feladat"
            ],
            "metadata": {
                "azdata_cell_guid": "ca790feb-b480-4040-9649-0830bc1853b2",
                "language": "sql"
            },
            "outputs": [],
            "execution_count": null
        }
    ]
}