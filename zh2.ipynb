{
    "metadata": {
        "kernelspec": {
            "name": "SQL",
            "display_name": "SQL",
            "language": "sql"
        },
        "language_info": {
            "name": "sql",
            "version": ""
        }
    },
    "nbformat_minor": 2,
    "nbformat": 4,
    "cells": [
        {
            "cell_type": "code",
            "source": [
                "--1.feladat\r\n",
                "\r\n",
                "select iif(SZOBA_FK is null, 'Összesen', cast(szoba_fk as nvarchar(10))) as 'Szobaszám', \r\n",
                "        count(FOGLALAS_PK) as 'Foglalások száma'\r\n",
                "from Foglalas\r\n",
                "where FELNOTT_SZAM>GYERMEK_SZAM\r\n",
                "group by rollup (SZOBA_FK)"
            ],
            "metadata": {
                "azdata_cell_guid": "de9f8792-1294-4f6f-aea2-41b6ef1cacf5",
                "language": "sql"
            },
            "outputs": [
{
    "output_type": "display_data",
    "data": {
        "text/html": "(190 rows affected)"
    },
    "metadata": {}
}, {
    "output_type": "display_data",
    "data": {
        "text/html": "Total execution time: 00:00:00.047"
    },
    "metadata": {}
}, {
    "output_type": "execute_result",
    "metadata": {},
    "execution_count": 1,
    "data": {
        "application/vnd.dataresource+json": {
            "schema": {
                "fields": [
                    {
                        "name": "Szobaszám"
                    },
                    {
                        "name": "Foglalások száma"
                    }
                ]
            },
            "data": [
                {
                    "Szobaszám": "1",
                    "Foglalások száma": "7"
                },
                {
                    "Szobaszám": "2",
                    "Foglalások száma": "2"
                },
                {
                    "Szobaszám": "3",
                    "Foglalások száma": "3"
                },
                {
                    "Szobaszám": "4",
                    "Foglalások száma": "5"
                },
                {
                    "Szobaszám": "5",
                    "Foglalások száma": "2"
                },
                {
                    "Szobaszám": "6",
                    "Foglalások száma": "5"
                },
                {
                    "Szobaszám": "7",
                    "Foglalások száma": "6"
                },
                {
                    "Szobaszám": "8",
                    "Foglalások száma": "5"
                },
                {
                    "Szobaszám": "9",
                    "Foglalások száma": "4"
                },
                {
                    "Szobaszám": "10",
                    "Foglalások száma": "4"
                },
                {
                    "Szobaszám": "11",
                    "Foglalások száma": "4"
                },
                {
                    "Szobaszám": "12",
                    "Foglalások száma": "7"
                },
                {
                    "Szobaszám": "13",
                    "Foglalások száma": "4"
                },
                {
                    "Szobaszám": "14",
                    "Foglalások száma": "3"
                },
                {
                    "Szobaszám": "15",
                    "Foglalások száma": "4"
                },
                {
                    "Szobaszám": "16",
                    "Foglalások száma": "1"
                },
                {
                    "Szobaszám": "17",
                    "Foglalások száma": "2"
                },
                {
                    "Szobaszám": "18",
                    "Foglalások száma": "3"
                },
                {
                    "Szobaszám": "19",
                    "Foglalások száma": "4"
                },
                {
                    "Szobaszám": "20",
                    "Foglalások száma": "5"
                },
                {
                    "Szobaszám": "21",
                    "Foglalások száma": "1"
                },
                {
                    "Szobaszám": "22",
                    "Foglalások száma": "2"
                },
                {
                    "Szobaszám": "23",
                    "Foglalások száma": "3"
                },
                {
                    "Szobaszám": "24",
                    "Foglalások száma": "3"
                },
                {
                    "Szobaszám": "25",
                    "Foglalások száma": "1"
                },
                {
                    "Szobaszám": "27",
                    "Foglalások száma": "5"
                },
                {
                    "Szobaszám": "28",
                    "Foglalások száma": "5"
                },
                {
                    "Szobaszám": "29",
                    "Foglalások száma": "3"
                },
                {
                    "Szobaszám": "30",
                    "Foglalások száma": "2"
                },
                {
                    "Szobaszám": "31",
                    "Foglalások száma": "1"
                },
                {
                    "Szobaszám": "32",
                    "Foglalások száma": "1"
                },
                {
                    "Szobaszám": "33",
                    "Foglalások száma": "3"
                },
                {
                    "Szobaszám": "34",
                    "Foglalások száma": "3"
                },
                {
                    "Szobaszám": "35",
                    "Foglalások száma": "6"
                },
                {
                    "Szobaszám": "36",
                    "Foglalások száma": "4"
                },
                {
                    "Szobaszám": "37",
                    "Foglalások száma": "2"
                },
                {
                    "Szobaszám": "38",
                    "Foglalások száma": "5"
                },
                {
                    "Szobaszám": "39",
                    "Foglalások száma": "4"
                },
                {
                    "Szobaszám": "40",
                    "Foglalások száma": "3"
                },
                {
                    "Szobaszám": "41",
                    "Foglalások száma": "1"
                },
                {
                    "Szobaszám": "42",
                    "Foglalások száma": "5"
                },
                {
                    "Szobaszám": "43",
                    "Foglalások száma": "4"
                },
                {
                    "Szobaszám": "44",
                    "Foglalások száma": "6"
                },
                {
                    "Szobaszám": "45",
                    "Foglalások száma": "4"
                },
                {
                    "Szobaszám": "46",
                    "Foglalások száma": "3"
                },
                {
                    "Szobaszám": "47",
                    "Foglalások száma": "2"
                },
                {
                    "Szobaszám": "48",
                    "Foglalások száma": "6"
                },
                {
                    "Szobaszám": "49",
                    "Foglalások száma": "5"
                },
                {
                    "Szobaszám": "50",
                    "Foglalások száma": "3"
                },
                {
                    "Szobaszám": "51",
                    "Foglalások száma": "3"
                },
                {
                    "Szobaszám": "52",
                    "Foglalások száma": "5"
                },
                {
                    "Szobaszám": "54",
                    "Foglalások száma": "4"
                },
                {
                    "Szobaszám": "55",
                    "Foglalások száma": "3"
                },
                {
                    "Szobaszám": "56",
                    "Foglalások száma": "1"
                },
                {
                    "Szobaszám": "57",
                    "Foglalások száma": "3"
                },
                {
                    "Szobaszám": "58",
                    "Foglalások száma": "8"
                },
                {
                    "Szobaszám": "59",
                    "Foglalások száma": "4"
                },
                {
                    "Szobaszám": "60",
                    "Foglalások száma": "1"
                },
                {
                    "Szobaszám": "61",
                    "Foglalások száma": "4"
                },
                {
                    "Szobaszám": "62",
                    "Foglalások száma": "3"
                },
                {
                    "Szobaszám": "63",
                    "Foglalások száma": "3"
                },
                {
                    "Szobaszám": "64",
                    "Foglalások száma": "5"
                },
                {
                    "Szobaszám": "66",
                    "Foglalások száma": "3"
                },
                {
                    "Szobaszám": "67",
                    "Foglalások száma": "2"
                },
                {
                    "Szobaszám": "69",
                    "Foglalások száma": "2"
                },
                {
                    "Szobaszám": "70",
                    "Foglalások száma": "8"
                },
                {
                    "Szobaszám": "71",
                    "Foglalások száma": "2"
                },
                {
                    "Szobaszám": "72",
                    "Foglalások száma": "2"
                },
                {
                    "Szobaszám": "73",
                    "Foglalások száma": "4"
                },
                {
                    "Szobaszám": "74",
                    "Foglalások száma": "8"
                },
                {
                    "Szobaszám": "75",
                    "Foglalások száma": "2"
                },
                {
                    "Szobaszám": "76",
                    "Foglalások száma": "2"
                },
                {
                    "Szobaszám": "77",
                    "Foglalások száma": "3"
                },
                {
                    "Szobaszám": "78",
                    "Foglalások száma": "3"
                },
                {
                    "Szobaszám": "79",
                    "Foglalások száma": "4"
                },
                {
                    "Szobaszám": "80",
                    "Foglalások száma": "5"
                },
                {
                    "Szobaszám": "81",
                    "Foglalások száma": "3"
                },
                {
                    "Szobaszám": "82",
                    "Foglalások száma": "5"
                },
                {
                    "Szobaszám": "83",
                    "Foglalások száma": "5"
                },
                {
                    "Szobaszám": "84",
                    "Foglalások száma": "3"
                },
                {
                    "Szobaszám": "85",
                    "Foglalások száma": "2"
                },
                {
                    "Szobaszám": "86",
                    "Foglalások száma": "4"
                },
                {
                    "Szobaszám": "87",
                    "Foglalások száma": "5"
                },
                {
                    "Szobaszám": "88",
                    "Foglalások száma": "5"
                },
                {
                    "Szobaszám": "89",
                    "Foglalások száma": "8"
                },
                {
                    "Szobaszám": "90",
                    "Foglalások száma": "3"
                },
                {
                    "Szobaszám": "91",
                    "Foglalások száma": "2"
                },
                {
                    "Szobaszám": "92",
                    "Foglalások száma": "5"
                },
                {
                    "Szobaszám": "93",
                    "Foglalások száma": "3"
                },
                {
                    "Szobaszám": "94",
                    "Foglalások száma": "6"
                },
                {
                    "Szobaszám": "95",
                    "Foglalások száma": "3"
                },
                {
                    "Szobaszám": "96",
                    "Foglalások száma": "6"
                },
                {
                    "Szobaszám": "97",
                    "Foglalások száma": "5"
                },
                {
                    "Szobaszám": "98",
                    "Foglalások száma": "4"
                },
                {
                    "Szobaszám": "99",
                    "Foglalások száma": "4"
                },
                {
                    "Szobaszám": "100",
                    "Foglalások száma": "2"
                },
                {
                    "Szobaszám": "101",
                    "Foglalások száma": "1"
                },
                {
                    "Szobaszám": "102",
                    "Foglalások száma": "1"
                },
                {
                    "Szobaszám": "103",
                    "Foglalások száma": "1"
                },
                {
                    "Szobaszám": "104",
                    "Foglalások száma": "3"
                },
                {
                    "Szobaszám": "106",
                    "Foglalások száma": "4"
                },
                {
                    "Szobaszám": "107",
                    "Foglalások száma": "4"
                },
                {
                    "Szobaszám": "108",
                    "Foglalások száma": "1"
                },
                {
                    "Szobaszám": "109",
                    "Foglalások száma": "2"
                },
                {
                    "Szobaszám": "110",
                    "Foglalások száma": "5"
                },
                {
                    "Szobaszám": "111",
                    "Foglalások száma": "1"
                },
                {
                    "Szobaszám": "112",
                    "Foglalások száma": "4"
                },
                {
                    "Szobaszám": "113",
                    "Foglalások száma": "2"
                },
                {
                    "Szobaszám": "114",
                    "Foglalások száma": "1"
                },
                {
                    "Szobaszám": "115",
                    "Foglalások száma": "5"
                },
                {
                    "Szobaszám": "117",
                    "Foglalások száma": "4"
                },
                {
                    "Szobaszám": "118",
                    "Foglalások száma": "2"
                },
                {
                    "Szobaszám": "119",
                    "Foglalások száma": "4"
                },
                {
                    "Szobaszám": "120",
                    "Foglalások száma": "2"
                },
                {
                    "Szobaszám": "121",
                    "Foglalások száma": "5"
                },
                {
                    "Szobaszám": "122",
                    "Foglalások száma": "3"
                },
                {
                    "Szobaszám": "123",
                    "Foglalások száma": "5"
                },
                {
                    "Szobaszám": "124",
                    "Foglalások száma": "4"
                },
                {
                    "Szobaszám": "126",
                    "Foglalások száma": "4"
                },
                {
                    "Szobaszám": "127",
                    "Foglalások száma": "5"
                },
                {
                    "Szobaszám": "129",
                    "Foglalások száma": "3"
                },
                {
                    "Szobaszám": "130",
                    "Foglalások száma": "5"
                },
                {
                    "Szobaszám": "131",
                    "Foglalások száma": "4"
                },
                {
                    "Szobaszám": "132",
                    "Foglalások száma": "4"
                },
                {
                    "Szobaszám": "133",
                    "Foglalások száma": "4"
                },
                {
                    "Szobaszám": "134",
                    "Foglalások száma": "4"
                },
                {
                    "Szobaszám": "135",
                    "Foglalások száma": "3"
                },
                {
                    "Szobaszám": "136",
                    "Foglalások száma": "2"
                },
                {
                    "Szobaszám": "137",
                    "Foglalások száma": "2"
                },
                {
                    "Szobaszám": "138",
                    "Foglalások száma": "5"
                },
                {
                    "Szobaszám": "139",
                    "Foglalások száma": "6"
                },
                {
                    "Szobaszám": "140",
                    "Foglalások száma": "5"
                },
                {
                    "Szobaszám": "141",
                    "Foglalások száma": "4"
                },
                {
                    "Szobaszám": "142",
                    "Foglalások száma": "1"
                },
                {
                    "Szobaszám": "143",
                    "Foglalások száma": "5"
                },
                {
                    "Szobaszám": "144",
                    "Foglalások száma": "2"
                },
                {
                    "Szobaszám": "145",
                    "Foglalások száma": "2"
                },
                {
                    "Szobaszám": "146",
                    "Foglalások száma": "3"
                },
                {
                    "Szobaszám": "147",
                    "Foglalások száma": "1"
                },
                {
                    "Szobaszám": "148",
                    "Foglalások száma": "5"
                },
                {
                    "Szobaszám": "149",
                    "Foglalások száma": "5"
                },
                {
                    "Szobaszám": "150",
                    "Foglalások száma": "6"
                },
                {
                    "Szobaszám": "151",
                    "Foglalások száma": "2"
                },
                {
                    "Szobaszám": "152",
                    "Foglalások száma": "3"
                },
                {
                    "Szobaszám": "153",
                    "Foglalások száma": "4"
                },
                {
                    "Szobaszám": "154",
                    "Foglalások száma": "3"
                },
                {
                    "Szobaszám": "155",
                    "Foglalások száma": "3"
                },
                {
                    "Szobaszám": "156",
                    "Foglalások száma": "2"
                },
                {
                    "Szobaszám": "157",
                    "Foglalások száma": "2"
                },
                {
                    "Szobaszám": "158",
                    "Foglalások száma": "3"
                },
                {
                    "Szobaszám": "160",
                    "Foglalások száma": "2"
                },
                {
                    "Szobaszám": "161",
                    "Foglalások száma": "3"
                },
                {
                    "Szobaszám": "162",
                    "Foglalások száma": "2"
                },
                {
                    "Szobaszám": "163",
                    "Foglalások száma": "5"
                },
                {
                    "Szobaszám": "164",
                    "Foglalások száma": "4"
                },
                {
                    "Szobaszám": "165",
                    "Foglalások száma": "5"
                },
                {
                    "Szobaszám": "166",
                    "Foglalások száma": "3"
                },
                {
                    "Szobaszám": "167",
                    "Foglalások száma": "2"
                },
                {
                    "Szobaszám": "168",
                    "Foglalások száma": "1"
                },
                {
                    "Szobaszám": "169",
                    "Foglalások száma": "3"
                },
                {
                    "Szobaszám": "170",
                    "Foglalások száma": "3"
                },
                {
                    "Szobaszám": "171",
                    "Foglalások száma": "5"
                },
                {
                    "Szobaszám": "172",
                    "Foglalások száma": "6"
                },
                {
                    "Szobaszám": "173",
                    "Foglalások száma": "3"
                },
                {
                    "Szobaszám": "174",
                    "Foglalások száma": "4"
                },
                {
                    "Szobaszám": "175",
                    "Foglalások száma": "3"
                },
                {
                    "Szobaszám": "176",
                    "Foglalások száma": "2"
                },
                {
                    "Szobaszám": "177",
                    "Foglalások száma": "1"
                },
                {
                    "Szobaszám": "178",
                    "Foglalások száma": "1"
                },
                {
                    "Szobaszám": "179",
                    "Foglalások száma": "2"
                },
                {
                    "Szobaszám": "180",
                    "Foglalások száma": "1"
                },
                {
                    "Szobaszám": "181",
                    "Foglalások száma": "5"
                },
                {
                    "Szobaszám": "182",
                    "Foglalások száma": "11"
                },
                {
                    "Szobaszám": "183",
                    "Foglalások száma": "3"
                },
                {
                    "Szobaszám": "184",
                    "Foglalások száma": "4"
                },
                {
                    "Szobaszám": "185",
                    "Foglalások száma": "10"
                },
                {
                    "Szobaszám": "186",
                    "Foglalások száma": "1"
                },
                {
                    "Szobaszám": "187",
                    "Foglalások száma": "6"
                },
                {
                    "Szobaszám": "188",
                    "Foglalások száma": "2"
                },
                {
                    "Szobaszám": "189",
                    "Foglalások száma": "1"
                },
                {
                    "Szobaszám": "190",
                    "Foglalások száma": "5"
                },
                {
                    "Szobaszám": "191",
                    "Foglalások száma": "3"
                },
                {
                    "Szobaszám": "192",
                    "Foglalások száma": "1"
                },
                {
                    "Szobaszám": "193",
                    "Foglalások száma": "2"
                },
                {
                    "Szobaszám": "194",
                    "Foglalások száma": "1"
                },
                {
                    "Szobaszám": "195",
                    "Foglalások száma": "5"
                },
                {
                    "Szobaszám": "196",
                    "Foglalások száma": "2"
                },
                {
                    "Szobaszám": "197",
                    "Foglalások száma": "6"
                },
                {
                    "Szobaszám": "198",
                    "Foglalások száma": "7"
                },
                {
                    "Szobaszám": "Összesen",
                    "Foglalások száma": "668"
                }
            ]
        },
        "text/html": [
            "<table>",
            "<tr><th>Szobaszám</th><th>Foglalások száma</th></tr>",
            "<tr><td>1</td><td>7</td></tr>",
            "<tr><td>2</td><td>2</td></tr>",
            "<tr><td>3</td><td>3</td></tr>",
            "<tr><td>4</td><td>5</td></tr>",
            "<tr><td>5</td><td>2</td></tr>",
            "<tr><td>6</td><td>5</td></tr>",
            "<tr><td>7</td><td>6</td></tr>",
            "<tr><td>8</td><td>5</td></tr>",
            "<tr><td>9</td><td>4</td></tr>",
            "<tr><td>10</td><td>4</td></tr>",
            "<tr><td>11</td><td>4</td></tr>",
            "<tr><td>12</td><td>7</td></tr>",
            "<tr><td>13</td><td>4</td></tr>",
            "<tr><td>14</td><td>3</td></tr>",
            "<tr><td>15</td><td>4</td></tr>",
            "<tr><td>16</td><td>1</td></tr>",
            "<tr><td>17</td><td>2</td></tr>",
            "<tr><td>18</td><td>3</td></tr>",
            "<tr><td>19</td><td>4</td></tr>",
            "<tr><td>20</td><td>5</td></tr>",
            "<tr><td>21</td><td>1</td></tr>",
            "<tr><td>22</td><td>2</td></tr>",
            "<tr><td>23</td><td>3</td></tr>",
            "<tr><td>24</td><td>3</td></tr>",
            "<tr><td>25</td><td>1</td></tr>",
            "<tr><td>27</td><td>5</td></tr>",
            "<tr><td>28</td><td>5</td></tr>",
            "<tr><td>29</td><td>3</td></tr>",
            "<tr><td>30</td><td>2</td></tr>",
            "<tr><td>31</td><td>1</td></tr>",
            "<tr><td>32</td><td>1</td></tr>",
            "<tr><td>33</td><td>3</td></tr>",
            "<tr><td>34</td><td>3</td></tr>",
            "<tr><td>35</td><td>6</td></tr>",
            "<tr><td>36</td><td>4</td></tr>",
            "<tr><td>37</td><td>2</td></tr>",
            "<tr><td>38</td><td>5</td></tr>",
            "<tr><td>39</td><td>4</td></tr>",
            "<tr><td>40</td><td>3</td></tr>",
            "<tr><td>41</td><td>1</td></tr>",
            "<tr><td>42</td><td>5</td></tr>",
            "<tr><td>43</td><td>4</td></tr>",
            "<tr><td>44</td><td>6</td></tr>",
            "<tr><td>45</td><td>4</td></tr>",
            "<tr><td>46</td><td>3</td></tr>",
            "<tr><td>47</td><td>2</td></tr>",
            "<tr><td>48</td><td>6</td></tr>",
            "<tr><td>49</td><td>5</td></tr>",
            "<tr><td>50</td><td>3</td></tr>",
            "<tr><td>51</td><td>3</td></tr>",
            "<tr><td>52</td><td>5</td></tr>",
            "<tr><td>54</td><td>4</td></tr>",
            "<tr><td>55</td><td>3</td></tr>",
            "<tr><td>56</td><td>1</td></tr>",
            "<tr><td>57</td><td>3</td></tr>",
            "<tr><td>58</td><td>8</td></tr>",
            "<tr><td>59</td><td>4</td></tr>",
            "<tr><td>60</td><td>1</td></tr>",
            "<tr><td>61</td><td>4</td></tr>",
            "<tr><td>62</td><td>3</td></tr>",
            "<tr><td>63</td><td>3</td></tr>",
            "<tr><td>64</td><td>5</td></tr>",
            "<tr><td>66</td><td>3</td></tr>",
            "<tr><td>67</td><td>2</td></tr>",
            "<tr><td>69</td><td>2</td></tr>",
            "<tr><td>70</td><td>8</td></tr>",
            "<tr><td>71</td><td>2</td></tr>",
            "<tr><td>72</td><td>2</td></tr>",
            "<tr><td>73</td><td>4</td></tr>",
            "<tr><td>74</td><td>8</td></tr>",
            "<tr><td>75</td><td>2</td></tr>",
            "<tr><td>76</td><td>2</td></tr>",
            "<tr><td>77</td><td>3</td></tr>",
            "<tr><td>78</td><td>3</td></tr>",
            "<tr><td>79</td><td>4</td></tr>",
            "<tr><td>80</td><td>5</td></tr>",
            "<tr><td>81</td><td>3</td></tr>",
            "<tr><td>82</td><td>5</td></tr>",
            "<tr><td>83</td><td>5</td></tr>",
            "<tr><td>84</td><td>3</td></tr>",
            "<tr><td>85</td><td>2</td></tr>",
            "<tr><td>86</td><td>4</td></tr>",
            "<tr><td>87</td><td>5</td></tr>",
            "<tr><td>88</td><td>5</td></tr>",
            "<tr><td>89</td><td>8</td></tr>",
            "<tr><td>90</td><td>3</td></tr>",
            "<tr><td>91</td><td>2</td></tr>",
            "<tr><td>92</td><td>5</td></tr>",
            "<tr><td>93</td><td>3</td></tr>",
            "<tr><td>94</td><td>6</td></tr>",
            "<tr><td>95</td><td>3</td></tr>",
            "<tr><td>96</td><td>6</td></tr>",
            "<tr><td>97</td><td>5</td></tr>",
            "<tr><td>98</td><td>4</td></tr>",
            "<tr><td>99</td><td>4</td></tr>",
            "<tr><td>100</td><td>2</td></tr>",
            "<tr><td>101</td><td>1</td></tr>",
            "<tr><td>102</td><td>1</td></tr>",
            "<tr><td>103</td><td>1</td></tr>",
            "<tr><td>104</td><td>3</td></tr>",
            "<tr><td>106</td><td>4</td></tr>",
            "<tr><td>107</td><td>4</td></tr>",
            "<tr><td>108</td><td>1</td></tr>",
            "<tr><td>109</td><td>2</td></tr>",
            "<tr><td>110</td><td>5</td></tr>",
            "<tr><td>111</td><td>1</td></tr>",
            "<tr><td>112</td><td>4</td></tr>",
            "<tr><td>113</td><td>2</td></tr>",
            "<tr><td>114</td><td>1</td></tr>",
            "<tr><td>115</td><td>5</td></tr>",
            "<tr><td>117</td><td>4</td></tr>",
            "<tr><td>118</td><td>2</td></tr>",
            "<tr><td>119</td><td>4</td></tr>",
            "<tr><td>120</td><td>2</td></tr>",
            "<tr><td>121</td><td>5</td></tr>",
            "<tr><td>122</td><td>3</td></tr>",
            "<tr><td>123</td><td>5</td></tr>",
            "<tr><td>124</td><td>4</td></tr>",
            "<tr><td>126</td><td>4</td></tr>",
            "<tr><td>127</td><td>5</td></tr>",
            "<tr><td>129</td><td>3</td></tr>",
            "<tr><td>130</td><td>5</td></tr>",
            "<tr><td>131</td><td>4</td></tr>",
            "<tr><td>132</td><td>4</td></tr>",
            "<tr><td>133</td><td>4</td></tr>",
            "<tr><td>134</td><td>4</td></tr>",
            "<tr><td>135</td><td>3</td></tr>",
            "<tr><td>136</td><td>2</td></tr>",
            "<tr><td>137</td><td>2</td></tr>",
            "<tr><td>138</td><td>5</td></tr>",
            "<tr><td>139</td><td>6</td></tr>",
            "<tr><td>140</td><td>5</td></tr>",
            "<tr><td>141</td><td>4</td></tr>",
            "<tr><td>142</td><td>1</td></tr>",
            "<tr><td>143</td><td>5</td></tr>",
            "<tr><td>144</td><td>2</td></tr>",
            "<tr><td>145</td><td>2</td></tr>",
            "<tr><td>146</td><td>3</td></tr>",
            "<tr><td>147</td><td>1</td></tr>",
            "<tr><td>148</td><td>5</td></tr>",
            "<tr><td>149</td><td>5</td></tr>",
            "<tr><td>150</td><td>6</td></tr>",
            "<tr><td>151</td><td>2</td></tr>",
            "<tr><td>152</td><td>3</td></tr>",
            "<tr><td>153</td><td>4</td></tr>",
            "<tr><td>154</td><td>3</td></tr>",
            "<tr><td>155</td><td>3</td></tr>",
            "<tr><td>156</td><td>2</td></tr>",
            "<tr><td>157</td><td>2</td></tr>",
            "<tr><td>158</td><td>3</td></tr>",
            "<tr><td>160</td><td>2</td></tr>",
            "<tr><td>161</td><td>3</td></tr>",
            "<tr><td>162</td><td>2</td></tr>",
            "<tr><td>163</td><td>5</td></tr>",
            "<tr><td>164</td><td>4</td></tr>",
            "<tr><td>165</td><td>5</td></tr>",
            "<tr><td>166</td><td>3</td></tr>",
            "<tr><td>167</td><td>2</td></tr>",
            "<tr><td>168</td><td>1</td></tr>",
            "<tr><td>169</td><td>3</td></tr>",
            "<tr><td>170</td><td>3</td></tr>",
            "<tr><td>171</td><td>5</td></tr>",
            "<tr><td>172</td><td>6</td></tr>",
            "<tr><td>173</td><td>3</td></tr>",
            "<tr><td>174</td><td>4</td></tr>",
            "<tr><td>175</td><td>3</td></tr>",
            "<tr><td>176</td><td>2</td></tr>",
            "<tr><td>177</td><td>1</td></tr>",
            "<tr><td>178</td><td>1</td></tr>",
            "<tr><td>179</td><td>2</td></tr>",
            "<tr><td>180</td><td>1</td></tr>",
            "<tr><td>181</td><td>5</td></tr>",
            "<tr><td>182</td><td>11</td></tr>",
            "<tr><td>183</td><td>3</td></tr>",
            "<tr><td>184</td><td>4</td></tr>",
            "<tr><td>185</td><td>10</td></tr>",
            "<tr><td>186</td><td>1</td></tr>",
            "<tr><td>187</td><td>6</td></tr>",
            "<tr><td>188</td><td>2</td></tr>",
            "<tr><td>189</td><td>1</td></tr>",
            "<tr><td>190</td><td>5</td></tr>",
            "<tr><td>191</td><td>3</td></tr>",
            "<tr><td>192</td><td>1</td></tr>",
            "<tr><td>193</td><td>2</td></tr>",
            "<tr><td>194</td><td>1</td></tr>",
            "<tr><td>195</td><td>5</td></tr>",
            "<tr><td>196</td><td>2</td></tr>",
            "<tr><td>197</td><td>6</td></tr>",
            "<tr><td>198</td><td>7</td></tr>",
            "<tr><td>Összesen</td><td>668</td></tr>",
            "</table>"
        ]
    }
}
],
            "execution_count": 1
        }
    ]
}