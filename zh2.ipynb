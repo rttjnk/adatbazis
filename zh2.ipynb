{
    "metadata": {
        "kernelspec": {
            "name": "SQL",
            "display_name": "SQL",
            "language": "sql"
        },
        "language_info": {
            "name": "sql",
            "version": ""
        }
    },
    "nbformat_minor": 2,
    "nbformat": 4,
    "cells": [
        {
            "cell_type": "code",
            "source": [
                "--1.feladat\r\n",
                "\r\n",
                "select iif(SZOBA_FK is null, 'Összesen', cast(szoba_fk as nvarchar(10))) as 'Szobaszám', \r\n",
                "        count(FOGLALAS_PK) as 'Foglalások száma'\r\n",
                "from Foglalas\r\n",
                "where FELNOTT_SZAM>GYERMEK_SZAM\r\n",
                "group by rollup (SZOBA_FK)"
            ],
            "metadata": {
                "azdata_cell_guid": "de9f8792-1294-4f6f-aea2-41b6ef1cacf5",
                "language": "sql"
            },
            "outputs": [
                {
                    "output_type": "display_data",
                    "data": {
                        "text/html": "(190 rows affected)"
                    },
                    "metadata": {}
                },
                {
                    "output_type": "display_data",
                    "data": {
                        "text/html": "Total execution time: 00:00:00.047"
                    },
                    "metadata": {}
                },
                {
                    "output_type": "execute_result",
                    "metadata": {},
                    "execution_count": 1,
                    "data": {
                        "application/vnd.dataresource+json": {
                            "schema": {
                                "fields": [
                                    {
                                        "name": "Szobaszám"
                                    },
                                    {
                                        "name": "Foglalások száma"
                                    }
                                ]
                            },
                            "data": [
                                {
                                    "Szobaszám": "1",
                                    "Foglalások száma": "7"
                                },
                                {
                                    "Szobaszám": "2",
                                    "Foglalások száma": "2"
                                },
                                {
                                    "Szobaszám": "3",
                                    "Foglalások száma": "3"
                                },
                                {
                                    "Szobaszám": "4",
                                    "Foglalások száma": "5"
                                },
                                {
                                    "Szobaszám": "5",
                                    "Foglalások száma": "2"
                                },
                                {
                                    "Szobaszám": "6",
                                    "Foglalások száma": "5"
                                },
                                {
                                    "Szobaszám": "7",
                                    "Foglalások száma": "6"
                                },
                                {
                                    "Szobaszám": "8",
                                    "Foglalások száma": "5"
                                },
                                {
                                    "Szobaszám": "9",
                                    "Foglalások száma": "4"
                                },
                                {
                                    "Szobaszám": "10",
                                    "Foglalások száma": "4"
                                },
                                {
                                    "Szobaszám": "11",
                                    "Foglalások száma": "4"
                                },
                                {
                                    "Szobaszám": "12",
                                    "Foglalások száma": "7"
                                },
                                {
                                    "Szobaszám": "13",
                                    "Foglalások száma": "4"
                                },
                                {
                                    "Szobaszám": "14",
                                    "Foglalások száma": "3"
                                },
                                {
                                    "Szobaszám": "15",
                                    "Foglalások száma": "4"
                                },
                                {
                                    "Szobaszám": "16",
                                    "Foglalások száma": "1"
                                },
                                {
                                    "Szobaszám": "17",
                                    "Foglalások száma": "2"
                                },
                                {
                                    "Szobaszám": "18",
                                    "Foglalások száma": "3"
                                },
                                {
                                    "Szobaszám": "19",
                                    "Foglalások száma": "4"
                                },
                                {
                                    "Szobaszám": "20",
                                    "Foglalások száma": "5"
                                },
                                {
                                    "Szobaszám": "21",
                                    "Foglalások száma": "1"
                                },
                                {
                                    "Szobaszám": "22",
                                    "Foglalások száma": "2"
                                },
                                {
                                    "Szobaszám": "23",
                                    "Foglalások száma": "3"
                                },
                                {
                                    "Szobaszám": "24",
                                    "Foglalások száma": "3"
                                },
                                {
                                    "Szobaszám": "25",
                                    "Foglalások száma": "1"
                                },
                                {
                                    "Szobaszám": "27",
                                    "Foglalások száma": "5"
                                },
                                {
                                    "Szobaszám": "28",
                                    "Foglalások száma": "5"
                                },
                                {
                                    "Szobaszám": "29",
                                    "Foglalások száma": "3"
                                },
                                {
                                    "Szobaszám": "30",
                                    "Foglalások száma": "2"
                                },
                                {
                                    "Szobaszám": "31",
                                    "Foglalások száma": "1"
                                },
                                {
                                    "Szobaszám": "32",
                                    "Foglalások száma": "1"
                                },
                                {
                                    "Szobaszám": "33",
                                    "Foglalások száma": "3"
                                },
                                {
                                    "Szobaszám": "34",
                                    "Foglalások száma": "3"
                                },
                                {
                                    "Szobaszám": "35",
                                    "Foglalások száma": "6"
                                },
                                {
                                    "Szobaszám": "36",
                                    "Foglalások száma": "4"
                                },
                                {
                                    "Szobaszám": "37",
                                    "Foglalások száma": "2"
                                },
                                {
                                    "Szobaszám": "38",
                                    "Foglalások száma": "5"
                                },
                                {
                                    "Szobaszám": "39",
                                    "Foglalások száma": "4"
                                },
                                {
                                    "Szobaszám": "40",
                                    "Foglalások száma": "3"
                                },
                                {
                                    "Szobaszám": "41",
                                    "Foglalások száma": "1"
                                },
                                {
                                    "Szobaszám": "42",
                                    "Foglalások száma": "5"
                                },
                                {
                                    "Szobaszám": "43",
                                    "Foglalások száma": "4"
                                },
                                {
                                    "Szobaszám": "44",
                                    "Foglalások száma": "6"
                                },
                                {
                                    "Szobaszám": "45",
                                    "Foglalások száma": "4"
                                },
                                {
                                    "Szobaszám": "46",
                                    "Foglalások száma": "3"
                                },
                                {
                                    "Szobaszám": "47",
                                    "Foglalások száma": "2"
                                },
                                {
                                    "Szobaszám": "48",
                                    "Foglalások száma": "6"
                                },
                                {
                                    "Szobaszám": "49",
                                    "Foglalások száma": "5"
                                },
                                {
                                    "Szobaszám": "50",
                                    "Foglalások száma": "3"
                                },
                                {
                                    "Szobaszám": "51",
                                    "Foglalások száma": "3"
                                },
                                {
                                    "Szobaszám": "52",
                                    "Foglalások száma": "5"
                                },
                                {
                                    "Szobaszám": "54",
                                    "Foglalások száma": "4"
                                },
                                {
                                    "Szobaszám": "55",
                                    "Foglalások száma": "3"
                                },
                                {
                                    "Szobaszám": "56",
                                    "Foglalások száma": "1"
                                },
                                {
                                    "Szobaszám": "57",
                                    "Foglalások száma": "3"
                                },
                                {
                                    "Szobaszám": "58",
                                    "Foglalások száma": "8"
                                },
                                {
                                    "Szobaszám": "59",
                                    "Foglalások száma": "4"
                                },
                                {
                                    "Szobaszám": "60",
                                    "Foglalások száma": "1"
                                },
                                {
                                    "Szobaszám": "61",
                                    "Foglalások száma": "4"
                                },
                                {
                                    "Szobaszám": "62",
                                    "Foglalások száma": "3"
                                },
                                {
                                    "Szobaszám": "63",
                                    "Foglalások száma": "3"
                                },
                                {
                                    "Szobaszám": "64",
                                    "Foglalások száma": "5"
                                },
                                {
                                    "Szobaszám": "66",
                                    "Foglalások száma": "3"
                                },
                                {
                                    "Szobaszám": "67",
                                    "Foglalások száma": "2"
                                },
                                {
                                    "Szobaszám": "69",
                                    "Foglalások száma": "2"
                                },
                                {
                                    "Szobaszám": "70",
                                    "Foglalások száma": "8"
                                },
                                {
                                    "Szobaszám": "71",
                                    "Foglalások száma": "2"
                                },
                                {
                                    "Szobaszám": "72",
                                    "Foglalások száma": "2"
                                },
                                {
                                    "Szobaszám": "73",
                                    "Foglalások száma": "4"
                                },
                                {
                                    "Szobaszám": "74",
                                    "Foglalások száma": "8"
                                },
                                {
                                    "Szobaszám": "75",
                                    "Foglalások száma": "2"
                                },
                                {
                                    "Szobaszám": "76",
                                    "Foglalások száma": "2"
                                },
                                {
                                    "Szobaszám": "77",
                                    "Foglalások száma": "3"
                                },
                                {
                                    "Szobaszám": "78",
                                    "Foglalások száma": "3"
                                },
                                {
                                    "Szobaszám": "79",
                                    "Foglalások száma": "4"
                                },
                                {
                                    "Szobaszám": "80",
                                    "Foglalások száma": "5"
                                },
                                {
                                    "Szobaszám": "81",
                                    "Foglalások száma": "3"
                                },
                                {
                                    "Szobaszám": "82",
                                    "Foglalások száma": "5"
                                },
                                {
                                    "Szobaszám": "83",
                                    "Foglalások száma": "5"
                                },
                                {
                                    "Szobaszám": "84",
                                    "Foglalások száma": "3"
                                },
                                {
                                    "Szobaszám": "85",
                                    "Foglalások száma": "2"
                                },
                                {
                                    "Szobaszám": "86",
                                    "Foglalások száma": "4"
                                },
                                {
                                    "Szobaszám": "87",
                                    "Foglalások száma": "5"
                                },
                                {
                                    "Szobaszám": "88",
                                    "Foglalások száma": "5"
                                },
                                {
                                    "Szobaszám": "89",
                                    "Foglalások száma": "8"
                                },
                                {
                                    "Szobaszám": "90",
                                    "Foglalások száma": "3"
                                },
                                {
                                    "Szobaszám": "91",
                                    "Foglalások száma": "2"
                                },
                                {
                                    "Szobaszám": "92",
                                    "Foglalások száma": "5"
                                },
                                {
                                    "Szobaszám": "93",
                                    "Foglalások száma": "3"
                                },
                                {
                                    "Szobaszám": "94",
                                    "Foglalások száma": "6"
                                },
                                {
                                    "Szobaszám": "95",
                                    "Foglalások száma": "3"
                                },
                                {
                                    "Szobaszám": "96",
                                    "Foglalások száma": "6"
                                },
                                {
                                    "Szobaszám": "97",
                                    "Foglalások száma": "5"
                                },
                                {
                                    "Szobaszám": "98",
                                    "Foglalások száma": "4"
                                },
                                {
                                    "Szobaszám": "99",
                                    "Foglalások száma": "4"
                                },
                                {
                                    "Szobaszám": "100",
                                    "Foglalások száma": "2"
                                },
                                {
                                    "Szobaszám": "101",
                                    "Foglalások száma": "1"
                                },
                                {
                                    "Szobaszám": "102",
                                    "Foglalások száma": "1"
                                },
                                {
                                    "Szobaszám": "103",
                                    "Foglalások száma": "1"
                                },
                                {
                                    "Szobaszám": "104",
                                    "Foglalások száma": "3"
                                },
                                {
                                    "Szobaszám": "106",
                                    "Foglalások száma": "4"
                                },
                                {
                                    "Szobaszám": "107",
                                    "Foglalások száma": "4"
                                },
                                {
                                    "Szobaszám": "108",
                                    "Foglalások száma": "1"
                                },
                                {
                                    "Szobaszám": "109",
                                    "Foglalások száma": "2"
                                },
                                {
                                    "Szobaszám": "110",
                                    "Foglalások száma": "5"
                                },
                                {
                                    "Szobaszám": "111",
                                    "Foglalások száma": "1"
                                },
                                {
                                    "Szobaszám": "112",
                                    "Foglalások száma": "4"
                                },
                                {
                                    "Szobaszám": "113",
                                    "Foglalások száma": "2"
                                },
                                {
                                    "Szobaszám": "114",
                                    "Foglalások száma": "1"
                                },
                                {
                                    "Szobaszám": "115",
                                    "Foglalások száma": "5"
                                },
                                {
                                    "Szobaszám": "117",
                                    "Foglalások száma": "4"
                                },
                                {
                                    "Szobaszám": "118",
                                    "Foglalások száma": "2"
                                },
                                {
                                    "Szobaszám": "119",
                                    "Foglalások száma": "4"
                                },
                                {
                                    "Szobaszám": "120",
                                    "Foglalások száma": "2"
                                },
                                {
                                    "Szobaszám": "121",
                                    "Foglalások száma": "5"
                                },
                                {
                                    "Szobaszám": "122",
                                    "Foglalások száma": "3"
                                },
                                {
                                    "Szobaszám": "123",
                                    "Foglalások száma": "5"
                                },
                                {
                                    "Szobaszám": "124",
                                    "Foglalások száma": "4"
                                },
                                {
                                    "Szobaszám": "126",
                                    "Foglalások száma": "4"
                                },
                                {
                                    "Szobaszám": "127",
                                    "Foglalások száma": "5"
                                },
                                {
                                    "Szobaszám": "129",
                                    "Foglalások száma": "3"
                                },
                                {
                                    "Szobaszám": "130",
                                    "Foglalások száma": "5"
                                },
                                {
                                    "Szobaszám": "131",
                                    "Foglalások száma": "4"
                                },
                                {
                                    "Szobaszám": "132",
                                    "Foglalások száma": "4"
                                },
                                {
                                    "Szobaszám": "133",
                                    "Foglalások száma": "4"
                                },
                                {
                                    "Szobaszám": "134",
                                    "Foglalások száma": "4"
                                },
                                {
                                    "Szobaszám": "135",
                                    "Foglalások száma": "3"
                                },
                                {
                                    "Szobaszám": "136",
                                    "Foglalások száma": "2"
                                },
                                {
                                    "Szobaszám": "137",
                                    "Foglalások száma": "2"
                                },
                                {
                                    "Szobaszám": "138",
                                    "Foglalások száma": "5"
                                },
                                {
                                    "Szobaszám": "139",
                                    "Foglalások száma": "6"
                                },
                                {
                                    "Szobaszám": "140",
                                    "Foglalások száma": "5"
                                },
                                {
                                    "Szobaszám": "141",
                                    "Foglalások száma": "4"
                                },
                                {
                                    "Szobaszám": "142",
                                    "Foglalások száma": "1"
                                },
                                {
                                    "Szobaszám": "143",
                                    "Foglalások száma": "5"
                                },
                                {
                                    "Szobaszám": "144",
                                    "Foglalások száma": "2"
                                },
                                {
                                    "Szobaszám": "145",
                                    "Foglalások száma": "2"
                                },
                                {
                                    "Szobaszám": "146",
                                    "Foglalások száma": "3"
                                },
                                {
                                    "Szobaszám": "147",
                                    "Foglalások száma": "1"
                                },
                                {
                                    "Szobaszám": "148",
                                    "Foglalások száma": "5"
                                },
                                {
                                    "Szobaszám": "149",
                                    "Foglalások száma": "5"
                                },
                                {
                                    "Szobaszám": "150",
                                    "Foglalások száma": "6"
                                },
                                {
                                    "Szobaszám": "151",
                                    "Foglalások száma": "2"
                                },
                                {
                                    "Szobaszám": "152",
                                    "Foglalások száma": "3"
                                },
                                {
                                    "Szobaszám": "153",
                                    "Foglalások száma": "4"
                                },
                                {
                                    "Szobaszám": "154",
                                    "Foglalások száma": "3"
                                },
                                {
                                    "Szobaszám": "155",
                                    "Foglalások száma": "3"
                                },
                                {
                                    "Szobaszám": "156",
                                    "Foglalások száma": "2"
                                },
                                {
                                    "Szobaszám": "157",
                                    "Foglalások száma": "2"
                                },
                                {
                                    "Szobaszám": "158",
                                    "Foglalások száma": "3"
                                },
                                {
                                    "Szobaszám": "160",
                                    "Foglalások száma": "2"
                                },
                                {
                                    "Szobaszám": "161",
                                    "Foglalások száma": "3"
                                },
                                {
                                    "Szobaszám": "162",
                                    "Foglalások száma": "2"
                                },
                                {
                                    "Szobaszám": "163",
                                    "Foglalások száma": "5"
                                },
                                {
                                    "Szobaszám": "164",
                                    "Foglalások száma": "4"
                                },
                                {
                                    "Szobaszám": "165",
                                    "Foglalások száma": "5"
                                },
                                {
                                    "Szobaszám": "166",
                                    "Foglalások száma": "3"
                                },
                                {
                                    "Szobaszám": "167",
                                    "Foglalások száma": "2"
                                },
                                {
                                    "Szobaszám": "168",
                                    "Foglalások száma": "1"
                                },
                                {
                                    "Szobaszám": "169",
                                    "Foglalások száma": "3"
                                },
                                {
                                    "Szobaszám": "170",
                                    "Foglalások száma": "3"
                                },
                                {
                                    "Szobaszám": "171",
                                    "Foglalások száma": "5"
                                },
                                {
                                    "Szobaszám": "172",
                                    "Foglalások száma": "6"
                                },
                                {
                                    "Szobaszám": "173",
                                    "Foglalások száma": "3"
                                },
                                {
                                    "Szobaszám": "174",
                                    "Foglalások száma": "4"
                                },
                                {
                                    "Szobaszám": "175",
                                    "Foglalások száma": "3"
                                },
                                {
                                    "Szobaszám": "176",
                                    "Foglalások száma": "2"
                                },
                                {
                                    "Szobaszám": "177",
                                    "Foglalások száma": "1"
                                },
                                {
                                    "Szobaszám": "178",
                                    "Foglalások száma": "1"
                                },
                                {
                                    "Szobaszám": "179",
                                    "Foglalások száma": "2"
                                },
                                {
                                    "Szobaszám": "180",
                                    "Foglalások száma": "1"
                                },
                                {
                                    "Szobaszám": "181",
                                    "Foglalások száma": "5"
                                },
                                {
                                    "Szobaszám": "182",
                                    "Foglalások száma": "11"
                                },
                                {
                                    "Szobaszám": "183",
                                    "Foglalások száma": "3"
                                },
                                {
                                    "Szobaszám": "184",
                                    "Foglalások száma": "4"
                                },
                                {
                                    "Szobaszám": "185",
                                    "Foglalások száma": "10"
                                },
                                {
                                    "Szobaszám": "186",
                                    "Foglalások száma": "1"
                                },
                                {
                                    "Szobaszám": "187",
                                    "Foglalások száma": "6"
                                },
                                {
                                    "Szobaszám": "188",
                                    "Foglalások száma": "2"
                                },
                                {
                                    "Szobaszám": "189",
                                    "Foglalások száma": "1"
                                },
                                {
                                    "Szobaszám": "190",
                                    "Foglalások száma": "5"
                                },
                                {
                                    "Szobaszám": "191",
                                    "Foglalások száma": "3"
                                },
                                {
                                    "Szobaszám": "192",
                                    "Foglalások száma": "1"
                                },
                                {
                                    "Szobaszám": "193",
                                    "Foglalások száma": "2"
                                },
                                {
                                    "Szobaszám": "194",
                                    "Foglalások száma": "1"
                                },
                                {
                                    "Szobaszám": "195",
                                    "Foglalások száma": "5"
                                },
                                {
                                    "Szobaszám": "196",
                                    "Foglalások száma": "2"
                                },
                                {
                                    "Szobaszám": "197",
                                    "Foglalások száma": "6"
                                },
                                {
                                    "Szobaszám": "198",
                                    "Foglalások száma": "7"
                                },
                                {
                                    "Szobaszám": "Összesen",
                                    "Foglalások száma": "668"
                                }
                            ]
                        },
                        "text/html": [
                            "<table>",
                            "<tr><th>Szobaszám</th><th>Foglalások száma</th></tr>",
                            "<tr><td>1</td><td>7</td></tr>",
                            "<tr><td>2</td><td>2</td></tr>",
                            "<tr><td>3</td><td>3</td></tr>",
                            "<tr><td>4</td><td>5</td></tr>",
                            "<tr><td>5</td><td>2</td></tr>",
                            "<tr><td>6</td><td>5</td></tr>",
                            "<tr><td>7</td><td>6</td></tr>",
                            "<tr><td>8</td><td>5</td></tr>",
                            "<tr><td>9</td><td>4</td></tr>",
                            "<tr><td>10</td><td>4</td></tr>",
                            "<tr><td>11</td><td>4</td></tr>",
                            "<tr><td>12</td><td>7</td></tr>",
                            "<tr><td>13</td><td>4</td></tr>",
                            "<tr><td>14</td><td>3</td></tr>",
                            "<tr><td>15</td><td>4</td></tr>",
                            "<tr><td>16</td><td>1</td></tr>",
                            "<tr><td>17</td><td>2</td></tr>",
                            "<tr><td>18</td><td>3</td></tr>",
                            "<tr><td>19</td><td>4</td></tr>",
                            "<tr><td>20</td><td>5</td></tr>",
                            "<tr><td>21</td><td>1</td></tr>",
                            "<tr><td>22</td><td>2</td></tr>",
                            "<tr><td>23</td><td>3</td></tr>",
                            "<tr><td>24</td><td>3</td></tr>",
                            "<tr><td>25</td><td>1</td></tr>",
                            "<tr><td>27</td><td>5</td></tr>",
                            "<tr><td>28</td><td>5</td></tr>",
                            "<tr><td>29</td><td>3</td></tr>",
                            "<tr><td>30</td><td>2</td></tr>",
                            "<tr><td>31</td><td>1</td></tr>",
                            "<tr><td>32</td><td>1</td></tr>",
                            "<tr><td>33</td><td>3</td></tr>",
                            "<tr><td>34</td><td>3</td></tr>",
                            "<tr><td>35</td><td>6</td></tr>",
                            "<tr><td>36</td><td>4</td></tr>",
                            "<tr><td>37</td><td>2</td></tr>",
                            "<tr><td>38</td><td>5</td></tr>",
                            "<tr><td>39</td><td>4</td></tr>",
                            "<tr><td>40</td><td>3</td></tr>",
                            "<tr><td>41</td><td>1</td></tr>",
                            "<tr><td>42</td><td>5</td></tr>",
                            "<tr><td>43</td><td>4</td></tr>",
                            "<tr><td>44</td><td>6</td></tr>",
                            "<tr><td>45</td><td>4</td></tr>",
                            "<tr><td>46</td><td>3</td></tr>",
                            "<tr><td>47</td><td>2</td></tr>",
                            "<tr><td>48</td><td>6</td></tr>",
                            "<tr><td>49</td><td>5</td></tr>",
                            "<tr><td>50</td><td>3</td></tr>",
                            "<tr><td>51</td><td>3</td></tr>",
                            "<tr><td>52</td><td>5</td></tr>",
                            "<tr><td>54</td><td>4</td></tr>",
                            "<tr><td>55</td><td>3</td></tr>",
                            "<tr><td>56</td><td>1</td></tr>",
                            "<tr><td>57</td><td>3</td></tr>",
                            "<tr><td>58</td><td>8</td></tr>",
                            "<tr><td>59</td><td>4</td></tr>",
                            "<tr><td>60</td><td>1</td></tr>",
                            "<tr><td>61</td><td>4</td></tr>",
                            "<tr><td>62</td><td>3</td></tr>",
                            "<tr><td>63</td><td>3</td></tr>",
                            "<tr><td>64</td><td>5</td></tr>",
                            "<tr><td>66</td><td>3</td></tr>",
                            "<tr><td>67</td><td>2</td></tr>",
                            "<tr><td>69</td><td>2</td></tr>",
                            "<tr><td>70</td><td>8</td></tr>",
                            "<tr><td>71</td><td>2</td></tr>",
                            "<tr><td>72</td><td>2</td></tr>",
                            "<tr><td>73</td><td>4</td></tr>",
                            "<tr><td>74</td><td>8</td></tr>",
                            "<tr><td>75</td><td>2</td></tr>",
                            "<tr><td>76</td><td>2</td></tr>",
                            "<tr><td>77</td><td>3</td></tr>",
                            "<tr><td>78</td><td>3</td></tr>",
                            "<tr><td>79</td><td>4</td></tr>",
                            "<tr><td>80</td><td>5</td></tr>",
                            "<tr><td>81</td><td>3</td></tr>",
                            "<tr><td>82</td><td>5</td></tr>",
                            "<tr><td>83</td><td>5</td></tr>",
                            "<tr><td>84</td><td>3</td></tr>",
                            "<tr><td>85</td><td>2</td></tr>",
                            "<tr><td>86</td><td>4</td></tr>",
                            "<tr><td>87</td><td>5</td></tr>",
                            "<tr><td>88</td><td>5</td></tr>",
                            "<tr><td>89</td><td>8</td></tr>",
                            "<tr><td>90</td><td>3</td></tr>",
                            "<tr><td>91</td><td>2</td></tr>",
                            "<tr><td>92</td><td>5</td></tr>",
                            "<tr><td>93</td><td>3</td></tr>",
                            "<tr><td>94</td><td>6</td></tr>",
                            "<tr><td>95</td><td>3</td></tr>",
                            "<tr><td>96</td><td>6</td></tr>",
                            "<tr><td>97</td><td>5</td></tr>",
                            "<tr><td>98</td><td>4</td></tr>",
                            "<tr><td>99</td><td>4</td></tr>",
                            "<tr><td>100</td><td>2</td></tr>",
                            "<tr><td>101</td><td>1</td></tr>",
                            "<tr><td>102</td><td>1</td></tr>",
                            "<tr><td>103</td><td>1</td></tr>",
                            "<tr><td>104</td><td>3</td></tr>",
                            "<tr><td>106</td><td>4</td></tr>",
                            "<tr><td>107</td><td>4</td></tr>",
                            "<tr><td>108</td><td>1</td></tr>",
                            "<tr><td>109</td><td>2</td></tr>",
                            "<tr><td>110</td><td>5</td></tr>",
                            "<tr><td>111</td><td>1</td></tr>",
                            "<tr><td>112</td><td>4</td></tr>",
                            "<tr><td>113</td><td>2</td></tr>",
                            "<tr><td>114</td><td>1</td></tr>",
                            "<tr><td>115</td><td>5</td></tr>",
                            "<tr><td>117</td><td>4</td></tr>",
                            "<tr><td>118</td><td>2</td></tr>",
                            "<tr><td>119</td><td>4</td></tr>",
                            "<tr><td>120</td><td>2</td></tr>",
                            "<tr><td>121</td><td>5</td></tr>",
                            "<tr><td>122</td><td>3</td></tr>",
                            "<tr><td>123</td><td>5</td></tr>",
                            "<tr><td>124</td><td>4</td></tr>",
                            "<tr><td>126</td><td>4</td></tr>",
                            "<tr><td>127</td><td>5</td></tr>",
                            "<tr><td>129</td><td>3</td></tr>",
                            "<tr><td>130</td><td>5</td></tr>",
                            "<tr><td>131</td><td>4</td></tr>",
                            "<tr><td>132</td><td>4</td></tr>",
                            "<tr><td>133</td><td>4</td></tr>",
                            "<tr><td>134</td><td>4</td></tr>",
                            "<tr><td>135</td><td>3</td></tr>",
                            "<tr><td>136</td><td>2</td></tr>",
                            "<tr><td>137</td><td>2</td></tr>",
                            "<tr><td>138</td><td>5</td></tr>",
                            "<tr><td>139</td><td>6</td></tr>",
                            "<tr><td>140</td><td>5</td></tr>",
                            "<tr><td>141</td><td>4</td></tr>",
                            "<tr><td>142</td><td>1</td></tr>",
                            "<tr><td>143</td><td>5</td></tr>",
                            "<tr><td>144</td><td>2</td></tr>",
                            "<tr><td>145</td><td>2</td></tr>",
                            "<tr><td>146</td><td>3</td></tr>",
                            "<tr><td>147</td><td>1</td></tr>",
                            "<tr><td>148</td><td>5</td></tr>",
                            "<tr><td>149</td><td>5</td></tr>",
                            "<tr><td>150</td><td>6</td></tr>",
                            "<tr><td>151</td><td>2</td></tr>",
                            "<tr><td>152</td><td>3</td></tr>",
                            "<tr><td>153</td><td>4</td></tr>",
                            "<tr><td>154</td><td>3</td></tr>",
                            "<tr><td>155</td><td>3</td></tr>",
                            "<tr><td>156</td><td>2</td></tr>",
                            "<tr><td>157</td><td>2</td></tr>",
                            "<tr><td>158</td><td>3</td></tr>",
                            "<tr><td>160</td><td>2</td></tr>",
                            "<tr><td>161</td><td>3</td></tr>",
                            "<tr><td>162</td><td>2</td></tr>",
                            "<tr><td>163</td><td>5</td></tr>",
                            "<tr><td>164</td><td>4</td></tr>",
                            "<tr><td>165</td><td>5</td></tr>",
                            "<tr><td>166</td><td>3</td></tr>",
                            "<tr><td>167</td><td>2</td></tr>",
                            "<tr><td>168</td><td>1</td></tr>",
                            "<tr><td>169</td><td>3</td></tr>",
                            "<tr><td>170</td><td>3</td></tr>",
                            "<tr><td>171</td><td>5</td></tr>",
                            "<tr><td>172</td><td>6</td></tr>",
                            "<tr><td>173</td><td>3</td></tr>",
                            "<tr><td>174</td><td>4</td></tr>",
                            "<tr><td>175</td><td>3</td></tr>",
                            "<tr><td>176</td><td>2</td></tr>",
                            "<tr><td>177</td><td>1</td></tr>",
                            "<tr><td>178</td><td>1</td></tr>",
                            "<tr><td>179</td><td>2</td></tr>",
                            "<tr><td>180</td><td>1</td></tr>",
                            "<tr><td>181</td><td>5</td></tr>",
                            "<tr><td>182</td><td>11</td></tr>",
                            "<tr><td>183</td><td>3</td></tr>",
                            "<tr><td>184</td><td>4</td></tr>",
                            "<tr><td>185</td><td>10</td></tr>",
                            "<tr><td>186</td><td>1</td></tr>",
                            "<tr><td>187</td><td>6</td></tr>",
                            "<tr><td>188</td><td>2</td></tr>",
                            "<tr><td>189</td><td>1</td></tr>",
                            "<tr><td>190</td><td>5</td></tr>",
                            "<tr><td>191</td><td>3</td></tr>",
                            "<tr><td>192</td><td>1</td></tr>",
                            "<tr><td>193</td><td>2</td></tr>",
                            "<tr><td>194</td><td>1</td></tr>",
                            "<tr><td>195</td><td>5</td></tr>",
                            "<tr><td>196</td><td>2</td></tr>",
                            "<tr><td>197</td><td>6</td></tr>",
                            "<tr><td>198</td><td>7</td></tr>",
                            "<tr><td>Összesen</td><td>668</td></tr>",
                            "</table>"
                        ]
                    }
                }
            ],
            "execution_count": 1
        },
        {
            "cell_type": "code",
            "source": [
                "--2.feladat\r\n",
                "\r\n",
                "select sz.SZOBA_id as 'Szoba_ID', f.FOGLALAS_PK as 'Foglalás_ID',\r\n",
                "        DATEDIFF(day,f.METTOL, f.MEDDIG) as 'Foglalás időtartama',\r\n",
                "        lag(datediff(day,f.METTOL, f.MEDDIG), 1,0) over (partition by sz.szoba_id order by foglalas_pk) as 'Előző foglalás időtartama'\r\n",
                "from Foglalas f join Szoba sz on f.SZOBA_FK=sz.SZOBA_ID"
            ],
            "metadata": {
                "azdata_cell_guid": "ab243464-6f9d-496e-ba6a-f7689f37fca1",
                "language": "sql"
            },
            "outputs": [
                {
                    "output_type": "display_data",
                    "data": {
                        "text/html": "(1027 rows affected)"
                    },
                    "metadata": {}
                },
                {
                    "output_type": "display_data",
                    "data": {
                        "text/html": "Total execution time: 00:00:00.020"
                    },
                    "metadata": {}
                },
                {
                    "output_type": "execute_result",
                    "metadata": {},
                    "execution_count": 4,
                    "data": {
                        "application/vnd.dataresource+json": {
                            "schema": {
                                "fields": [
                                    {
                                        "name": "Szoba_ID"
                                    },
                                    {
                                        "name": "Foglalás_ID"
                                    },
                                    {
                                        "name": "Foglalás időtartama"
                                    },
                                    {
                                        "name": "Előző foglalás időtartama"
                                    }
                                ]
                            },
                            "data": [
                                {
                                    "Szoba_ID": "1",
                                    "Foglalás_ID": "620",
                                    "Foglalás időtartama": "5",
                                    "Előző foglalás időtartama": "0"
                                },
                                {
                                    "Szoba_ID": "1",
                                    "Foglalás_ID": "738",
                                    "Foglalás időtartama": "7",
                                    "Előző foglalás időtartama": "5"
                                },
                                {
                                    "Szoba_ID": "1",
                                    "Foglalás_ID": "803",
                                    "Foglalás időtartama": "4",
                                    "Előző foglalás időtartama": "7"
                                },
                                {
                                    "Szoba_ID": "1",
                                    "Foglalás_ID": "949",
                                    "Foglalás időtartama": "1",
                                    "Előző foglalás időtartama": "4"
                                },
                                {
                                    "Szoba_ID": "1",
                                    "Foglalás_ID": "1137",
                                    "Foglalás időtartama": "2",
                                    "Előző foglalás időtartama": "1"
                                },
                                {
                                    "Szoba_ID": "1",
                                    "Foglalás_ID": "1152",
                                    "Foglalás időtartama": "1",
                                    "Előző foglalás időtartama": "2"
                                },
                                {
                                    "Szoba_ID": "1",
                                    "Foglalás_ID": "1274",
                                    "Foglalás időtartama": "1",
                                    "Előző foglalás időtartama": "1"
                                },
                                {
                                    "Szoba_ID": "1",
                                    "Foglalás_ID": "1334",
                                    "Foglalás időtartama": "4",
                                    "Előző foglalás időtartama": "1"
                                },
                                {
                                    "Szoba_ID": "2",
                                    "Foglalás_ID": "828",
                                    "Foglalás időtartama": "3",
                                    "Előző foglalás időtartama": "0"
                                },
                                {
                                    "Szoba_ID": "2",
                                    "Foglalás_ID": "1051",
                                    "Foglalás időtartama": "1",
                                    "Előző foglalás időtartama": "3"
                                },
                                {
                                    "Szoba_ID": "2",
                                    "Foglalás_ID": "1069",
                                    "Foglalás időtartama": "7",
                                    "Előző foglalás időtartama": "1"
                                },
                                {
                                    "Szoba_ID": "2",
                                    "Foglalás_ID": "1311",
                                    "Foglalás időtartama": "7",
                                    "Előző foglalás időtartama": "7"
                                },
                                {
                                    "Szoba_ID": "3",
                                    "Foglalás_ID": "629",
                                    "Foglalás időtartama": "4",
                                    "Előző foglalás időtartama": "0"
                                },
                                {
                                    "Szoba_ID": "3",
                                    "Foglalás_ID": "666",
                                    "Foglalás időtartama": "6",
                                    "Előző foglalás időtartama": "4"
                                },
                                {
                                    "Szoba_ID": "3",
                                    "Foglalás_ID": "788",
                                    "Foglalás időtartama": "6",
                                    "Előző foglalás időtartama": "6"
                                },
                                {
                                    "Szoba_ID": "3",
                                    "Foglalás_ID": "1038",
                                    "Foglalás időtartama": "3",
                                    "Előző foglalás időtartama": "6"
                                },
                                {
                                    "Szoba_ID": "3",
                                    "Foglalás_ID": "1110",
                                    "Foglalás időtartama": "7",
                                    "Előző foglalás időtartama": "3"
                                },
                                {
                                    "Szoba_ID": "3",
                                    "Foglalás_ID": "1151",
                                    "Foglalás időtartama": "1",
                                    "Előző foglalás időtartama": "7"
                                },
                                {
                                    "Szoba_ID": "3",
                                    "Foglalás_ID": "1434",
                                    "Foglalás időtartama": "5",
                                    "Előző foglalás időtartama": "1"
                                },
                                {
                                    "Szoba_ID": "3",
                                    "Foglalás_ID": "1544",
                                    "Foglalás időtartama": "5",
                                    "Előző foglalás időtartama": "5"
                                },
                                {
                                    "Szoba_ID": "4",
                                    "Foglalás_ID": "651",
                                    "Foglalás időtartama": "7",
                                    "Előző foglalás időtartama": "0"
                                },
                                {
                                    "Szoba_ID": "4",
                                    "Foglalás_ID": "946",
                                    "Foglalás időtartama": "5",
                                    "Előző foglalás időtartama": "7"
                                },
                                {
                                    "Szoba_ID": "4",
                                    "Foglalás_ID": "1001",
                                    "Foglalás időtartama": "7",
                                    "Előző foglalás időtartama": "5"
                                },
                                {
                                    "Szoba_ID": "4",
                                    "Foglalás_ID": "1127",
                                    "Foglalás időtartama": "3",
                                    "Előző foglalás időtartama": "7"
                                },
                                {
                                    "Szoba_ID": "4",
                                    "Foglalás_ID": "1132",
                                    "Foglalás időtartama": "6",
                                    "Előző foglalás időtartama": "3"
                                },
                                {
                                    "Szoba_ID": "4",
                                    "Foglalás_ID": "1492",
                                    "Foglalás időtartama": "6",
                                    "Előző foglalás időtartama": "6"
                                },
                                {
                                    "Szoba_ID": "5",
                                    "Foglalás_ID": "564",
                                    "Foglalás időtartama": "2",
                                    "Előző foglalás időtartama": "0"
                                },
                                {
                                    "Szoba_ID": "5",
                                    "Foglalás_ID": "965",
                                    "Foglalás időtartama": "7",
                                    "Előző foglalás időtartama": "2"
                                },
                                {
                                    "Szoba_ID": "5",
                                    "Foglalás_ID": "1073",
                                    "Foglalás időtartama": "5",
                                    "Előző foglalás időtartama": "7"
                                },
                                {
                                    "Szoba_ID": "5",
                                    "Foglalás_ID": "1257",
                                    "Foglalás időtartama": "3",
                                    "Előző foglalás időtartama": "5"
                                },
                                {
                                    "Szoba_ID": "6",
                                    "Foglalás_ID": "560",
                                    "Foglalás időtartama": "6",
                                    "Előző foglalás időtartama": "0"
                                },
                                {
                                    "Szoba_ID": "6",
                                    "Foglalás_ID": "772",
                                    "Foglalás időtartama": "6",
                                    "Előző foglalás időtartama": "6"
                                },
                                {
                                    "Szoba_ID": "6",
                                    "Foglalás_ID": "850",
                                    "Foglalás időtartama": "2",
                                    "Előző foglalás időtartama": "6"
                                },
                                {
                                    "Szoba_ID": "6",
                                    "Foglalás_ID": "873",
                                    "Foglalás időtartama": "3",
                                    "Előző foglalás időtartama": "2"
                                },
                                {
                                    "Szoba_ID": "6",
                                    "Foglalás_ID": "990",
                                    "Foglalás időtartama": "4",
                                    "Előző foglalás időtartama": "3"
                                },
                                {
                                    "Szoba_ID": "6",
                                    "Foglalás_ID": "1099",
                                    "Foglalás időtartama": "4",
                                    "Előző foglalás időtartama": "4"
                                },
                                {
                                    "Szoba_ID": "7",
                                    "Foglalás_ID": "562",
                                    "Foglalás időtartama": "4",
                                    "Előző foglalás időtartama": "0"
                                },
                                {
                                    "Szoba_ID": "7",
                                    "Foglalás_ID": "759",
                                    "Foglalás időtartama": "7",
                                    "Előző foglalás időtartama": "4"
                                },
                                {
                                    "Szoba_ID": "7",
                                    "Foglalás_ID": "1131",
                                    "Foglalás időtartama": "1",
                                    "Előző foglalás időtartama": "7"
                                },
                                {
                                    "Szoba_ID": "7",
                                    "Foglalás_ID": "1175",
                                    "Foglalás időtartama": "4",
                                    "Előző foglalás időtartama": "1"
                                },
                                {
                                    "Szoba_ID": "7",
                                    "Foglalás_ID": "1182",
                                    "Foglalás időtartama": "4",
                                    "Előző foglalás időtartama": "4"
                                },
                                {
                                    "Szoba_ID": "7",
                                    "Foglalás_ID": "1252",
                                    "Foglalás időtartama": "2",
                                    "Előző foglalás időtartama": "4"
                                },
                                {
                                    "Szoba_ID": "8",
                                    "Foglalás_ID": "694",
                                    "Foglalás időtartama": "4",
                                    "Előző foglalás időtartama": "0"
                                },
                                {
                                    "Szoba_ID": "8",
                                    "Foglalás_ID": "818",
                                    "Foglalás időtartama": "4",
                                    "Előző foglalás időtartama": "4"
                                },
                                {
                                    "Szoba_ID": "8",
                                    "Foglalás_ID": "832",
                                    "Foglalás időtartama": "4",
                                    "Előző foglalás időtartama": "4"
                                },
                                {
                                    "Szoba_ID": "8",
                                    "Foglalás_ID": "882",
                                    "Foglalás időtartama": "1",
                                    "Előző foglalás időtartama": "4"
                                },
                                {
                                    "Szoba_ID": "8",
                                    "Foglalás_ID": "947",
                                    "Foglalás időtartama": "3",
                                    "Előző foglalás időtartama": "1"
                                },
                                {
                                    "Szoba_ID": "9",
                                    "Foglalás_ID": "609",
                                    "Foglalás időtartama": "2",
                                    "Előző foglalás időtartama": "0"
                                },
                                {
                                    "Szoba_ID": "9",
                                    "Foglalás_ID": "1157",
                                    "Foglalás időtartama": "6",
                                    "Előző foglalás időtartama": "2"
                                },
                                {
                                    "Szoba_ID": "9",
                                    "Foglalás_ID": "1220",
                                    "Foglalás időtartama": "3",
                                    "Előző foglalás időtartama": "6"
                                },
                                {
                                    "Szoba_ID": "9",
                                    "Foglalás_ID": "1260",
                                    "Foglalás időtartama": "6",
                                    "Előző foglalás időtartama": "3"
                                },
                                {
                                    "Szoba_ID": "9",
                                    "Foglalás_ID": "1423",
                                    "Foglalás időtartama": "3",
                                    "Előző foglalás időtartama": "6"
                                },
                                {
                                    "Szoba_ID": "9",
                                    "Foglalás_ID": "1537",
                                    "Foglalás időtartama": "3",
                                    "Előző foglalás időtartama": "3"
                                },
                                {
                                    "Szoba_ID": "10",
                                    "Foglalás_ID": "569",
                                    "Foglalás időtartama": "3",
                                    "Előző foglalás időtartama": "0"
                                },
                                {
                                    "Szoba_ID": "10",
                                    "Foglalás_ID": "790",
                                    "Foglalás időtartama": "5",
                                    "Előző foglalás időtartama": "3"
                                },
                                {
                                    "Szoba_ID": "10",
                                    "Foglalás_ID": "795",
                                    "Foglalás időtartama": "4",
                                    "Előző foglalás időtartama": "5"
                                },
                                {
                                    "Szoba_ID": "10",
                                    "Foglalás_ID": "1319",
                                    "Foglalás időtartama": "6",
                                    "Előző foglalás időtartama": "4"
                                },
                                {
                                    "Szoba_ID": "11",
                                    "Foglalás_ID": "918",
                                    "Foglalás időtartama": "6",
                                    "Előző foglalás időtartama": "0"
                                },
                                {
                                    "Szoba_ID": "11",
                                    "Foglalás_ID": "1123",
                                    "Foglalás időtartama": "5",
                                    "Előző foglalás időtartama": "6"
                                },
                                {
                                    "Szoba_ID": "11",
                                    "Foglalás_ID": "1236",
                                    "Foglalás időtartama": "1",
                                    "Előző foglalás időtartama": "5"
                                },
                                {
                                    "Szoba_ID": "11",
                                    "Foglalás_ID": "1523",
                                    "Foglalás időtartama": "1",
                                    "Előző foglalás időtartama": "1"
                                },
                                {
                                    "Szoba_ID": "12",
                                    "Foglalás_ID": "697",
                                    "Foglalás időtartama": "2",
                                    "Előző foglalás időtartama": "0"
                                },
                                {
                                    "Szoba_ID": "12",
                                    "Foglalás_ID": "775",
                                    "Foglalás időtartama": "4",
                                    "Előző foglalás időtartama": "2"
                                },
                                {
                                    "Szoba_ID": "12",
                                    "Foglalás_ID": "876",
                                    "Foglalás időtartama": "7",
                                    "Előző foglalás időtartama": "4"
                                },
                                {
                                    "Szoba_ID": "12",
                                    "Foglalás_ID": "951",
                                    "Foglalás időtartama": "3",
                                    "Előző foglalás időtartama": "7"
                                },
                                {
                                    "Szoba_ID": "12",
                                    "Foglalás_ID": "970",
                                    "Foglalás időtartama": "2",
                                    "Előző foglalás időtartama": "3"
                                },
                                {
                                    "Szoba_ID": "12",
                                    "Foglalás_ID": "1020",
                                    "Foglalás időtartama": "5",
                                    "Előző foglalás időtartama": "2"
                                },
                                {
                                    "Szoba_ID": "12",
                                    "Foglalás_ID": "1140",
                                    "Foglalás időtartama": "3",
                                    "Előző foglalás időtartama": "5"
                                },
                                {
                                    "Szoba_ID": "12",
                                    "Foglalás_ID": "1164",
                                    "Foglalás időtartama": "5",
                                    "Előző foglalás időtartama": "3"
                                },
                                {
                                    "Szoba_ID": "12",
                                    "Foglalás_ID": "1430",
                                    "Foglalás időtartama": "2",
                                    "Előző foglalás időtartama": "5"
                                },
                                {
                                    "Szoba_ID": "13",
                                    "Foglalás_ID": "763",
                                    "Foglalás időtartama": "4",
                                    "Előző foglalás időtartama": "0"
                                },
                                {
                                    "Szoba_ID": "13",
                                    "Foglalás_ID": "1044",
                                    "Foglalás időtartama": "6",
                                    "Előző foglalás időtartama": "4"
                                },
                                {
                                    "Szoba_ID": "13",
                                    "Foglalás_ID": "1347",
                                    "Foglalás időtartama": "3",
                                    "Előző foglalás időtartama": "6"
                                },
                                {
                                    "Szoba_ID": "13",
                                    "Foglalás_ID": "1469",
                                    "Foglalás időtartama": "2",
                                    "Előző foglalás időtartama": "3"
                                },
                                {
                                    "Szoba_ID": "14",
                                    "Foglalás_ID": "663",
                                    "Foglalás időtartama": "1",
                                    "Előző foglalás időtartama": "0"
                                },
                                {
                                    "Szoba_ID": "14",
                                    "Foglalás_ID": "813",
                                    "Foglalás időtartama": "3",
                                    "Előző foglalás időtartama": "1"
                                },
                                {
                                    "Szoba_ID": "14",
                                    "Foglalás_ID": "1542",
                                    "Foglalás időtartama": "4",
                                    "Előző foglalás időtartama": "3"
                                },
                                {
                                    "Szoba_ID": "15",
                                    "Foglalás_ID": "791",
                                    "Foglalás időtartama": "5",
                                    "Előző foglalás időtartama": "0"
                                },
                                {
                                    "Szoba_ID": "15",
                                    "Foglalás_ID": "1028",
                                    "Foglalás időtartama": "2",
                                    "Előző foglalás időtartama": "5"
                                },
                                {
                                    "Szoba_ID": "15",
                                    "Foglalás_ID": "1129",
                                    "Foglalás időtartama": "4",
                                    "Előző foglalás időtartama": "2"
                                },
                                {
                                    "Szoba_ID": "15",
                                    "Foglalás_ID": "1244",
                                    "Foglalás időtartama": "1",
                                    "Előző foglalás időtartama": "4"
                                },
                                {
                                    "Szoba_ID": "15",
                                    "Foglalás_ID": "1418",
                                    "Foglalás időtartama": "4",
                                    "Előző foglalás időtartama": "1"
                                },
                                {
                                    "Szoba_ID": "15",
                                    "Foglalás_ID": "1442",
                                    "Foglalás időtartama": "3",
                                    "Előző foglalás időtartama": "4"
                                },
                                {
                                    "Szoba_ID": "16",
                                    "Foglalás_ID": "687",
                                    "Foglalás időtartama": "3",
                                    "Előző foglalás időtartama": "0"
                                },
                                {
                                    "Szoba_ID": "16",
                                    "Foglalás_ID": "856",
                                    "Foglalás időtartama": "6",
                                    "Előző foglalás időtartama": "3"
                                },
                                {
                                    "Szoba_ID": "16",
                                    "Foglalás_ID": "896",
                                    "Foglalás időtartama": "1",
                                    "Előző foglalás időtartama": "6"
                                },
                                {
                                    "Szoba_ID": "16",
                                    "Foglalás_ID": "973",
                                    "Foglalás időtartama": "1",
                                    "Előző foglalás időtartama": "1"
                                },
                                {
                                    "Szoba_ID": "16",
                                    "Foglalás_ID": "1498",
                                    "Foglalás időtartama": "7",
                                    "Előző foglalás időtartama": "1"
                                },
                                {
                                    "Szoba_ID": "17",
                                    "Foglalás_ID": "602",
                                    "Foglalás időtartama": "6",
                                    "Előző foglalás időtartama": "0"
                                },
                                {
                                    "Szoba_ID": "17",
                                    "Foglalás_ID": "713",
                                    "Foglalás időtartama": "6",
                                    "Előző foglalás időtartama": "6"
                                },
                                {
                                    "Szoba_ID": "17",
                                    "Foglalás_ID": "744",
                                    "Foglalás időtartama": "1",
                                    "Előző foglalás időtartama": "6"
                                },
                                {
                                    "Szoba_ID": "17",
                                    "Foglalás_ID": "916",
                                    "Foglalás időtartama": "2",
                                    "Előző foglalás időtartama": "1"
                                },
                                {
                                    "Szoba_ID": "17",
                                    "Foglalás_ID": "1316",
                                    "Foglalás időtartama": "5",
                                    "Előző foglalás időtartama": "2"
                                },
                                {
                                    "Szoba_ID": "17",
                                    "Foglalás_ID": "1549",
                                    "Foglalás időtartama": "3",
                                    "Előző foglalás időtartama": "5"
                                },
                                {
                                    "Szoba_ID": "18",
                                    "Foglalás_ID": "626",
                                    "Foglalás időtartama": "3",
                                    "Előző foglalás időtartama": "0"
                                },
                                {
                                    "Szoba_ID": "18",
                                    "Foglalás_ID": "767",
                                    "Foglalás időtartama": "3",
                                    "Előző foglalás időtartama": "3"
                                },
                                {
                                    "Szoba_ID": "18",
                                    "Foglalás_ID": "1035",
                                    "Foglalás időtartama": "6",
                                    "Előző foglalás időtartama": "3"
                                },
                                {
                                    "Szoba_ID": "18",
                                    "Foglalás_ID": "1173",
                                    "Foglalás időtartama": "6",
                                    "Előző foglalás időtartama": "6"
                                },
                                {
                                    "Szoba_ID": "18",
                                    "Foglalás_ID": "1198",
                                    "Foglalás időtartama": "4",
                                    "Előző foglalás időtartama": "6"
                                },
                                {
                                    "Szoba_ID": "18",
                                    "Foglalás_ID": "1505",
                                    "Foglalás időtartama": "6",
                                    "Előző foglalás időtartama": "4"
                                },
                                {
                                    "Szoba_ID": "19",
                                    "Foglalás_ID": "696",
                                    "Foglalás időtartama": "1",
                                    "Előző foglalás időtartama": "0"
                                },
                                {
                                    "Szoba_ID": "19",
                                    "Foglalás_ID": "778",
                                    "Foglalás időtartama": "1",
                                    "Előző foglalás időtartama": "1"
                                },
                                {
                                    "Szoba_ID": "19",
                                    "Foglalás_ID": "948",
                                    "Foglalás időtartama": "2",
                                    "Előző foglalás időtartama": "1"
                                },
                                {
                                    "Szoba_ID": "19",
                                    "Foglalás_ID": "1139",
                                    "Foglalás időtartama": "7",
                                    "Előző foglalás időtartama": "2"
                                },
                                {
                                    "Szoba_ID": "19",
                                    "Foglalás_ID": "1237",
                                    "Foglalás időtartama": "1",
                                    "Előző foglalás időtartama": "7"
                                },
                                {
                                    "Szoba_ID": "19",
                                    "Foglalás_ID": "1533",
                                    "Foglalás időtartama": "1",
                                    "Előző foglalás időtartama": "1"
                                },
                                {
                                    "Szoba_ID": "20",
                                    "Foglalás_ID": "755",
                                    "Foglalás időtartama": "6",
                                    "Előző foglalás időtartama": "0"
                                },
                                {
                                    "Szoba_ID": "20",
                                    "Foglalás_ID": "820",
                                    "Foglalás időtartama": "1",
                                    "Előző foglalás időtartama": "6"
                                },
                                {
                                    "Szoba_ID": "20",
                                    "Foglalás_ID": "1070",
                                    "Foglalás időtartama": "1",
                                    "Előző foglalás időtartama": "1"
                                },
                                {
                                    "Szoba_ID": "20",
                                    "Foglalás_ID": "1106",
                                    "Foglalás időtartama": "2",
                                    "Előző foglalás időtartama": "1"
                                },
                                {
                                    "Szoba_ID": "20",
                                    "Foglalás_ID": "1114",
                                    "Foglalás időtartama": "5",
                                    "Előző foglalás időtartama": "2"
                                },
                                {
                                    "Szoba_ID": "21",
                                    "Foglalás_ID": "566",
                                    "Foglalás időtartama": "6",
                                    "Előző foglalás időtartama": "0"
                                },
                                {
                                    "Szoba_ID": "21",
                                    "Foglalás_ID": "660",
                                    "Foglalás időtartama": "5",
                                    "Előző foglalás időtartama": "6"
                                },
                                {
                                    "Szoba_ID": "21",
                                    "Foglalás_ID": "805",
                                    "Foglalás időtartama": "1",
                                    "Előző foglalás időtartama": "5"
                                },
                                {
                                    "Szoba_ID": "21",
                                    "Foglalás_ID": "1212",
                                    "Foglalás időtartama": "6",
                                    "Előző foglalás időtartama": "1"
                                },
                                {
                                    "Szoba_ID": "22",
                                    "Foglalás_ID": "906",
                                    "Foglalás időtartama": "1",
                                    "Előző foglalás időtartama": "0"
                                },
                                {
                                    "Szoba_ID": "22",
                                    "Foglalás_ID": "1005",
                                    "Foglalás időtartama": "3",
                                    "Előző foglalás időtartama": "1"
                                },
                                {
                                    "Szoba_ID": "22",
                                    "Foglalás_ID": "1130",
                                    "Foglalás időtartama": "1",
                                    "Előző foglalás időtartama": "3"
                                },
                                {
                                    "Szoba_ID": "22",
                                    "Foglalás_ID": "1195",
                                    "Foglalás időtartama": "6",
                                    "Előző foglalás időtartama": "1"
                                },
                                {
                                    "Szoba_ID": "22",
                                    "Foglalás_ID": "1206",
                                    "Foglalás időtartama": "7",
                                    "Előző foglalás időtartama": "6"
                                },
                                {
                                    "Szoba_ID": "22",
                                    "Foglalás_ID": "1287",
                                    "Foglalás időtartama": "3",
                                    "Előző foglalás időtartama": "7"
                                },
                                {
                                    "Szoba_ID": "23",
                                    "Foglalás_ID": "848",
                                    "Foglalás időtartama": "1",
                                    "Előző foglalás időtartama": "0"
                                },
                                {
                                    "Szoba_ID": "23",
                                    "Foglalás_ID": "934",
                                    "Foglalás időtartama": "1",
                                    "Előző foglalás időtartama": "1"
                                },
                                {
                                    "Szoba_ID": "23",
                                    "Foglalás_ID": "945",
                                    "Foglalás időtartama": "7",
                                    "Előző foglalás időtartama": "1"
                                },
                                {
                                    "Szoba_ID": "24",
                                    "Foglalás_ID": "852",
                                    "Foglalás időtartama": "2",
                                    "Előző foglalás időtartama": "0"
                                },
                                {
                                    "Szoba_ID": "24",
                                    "Foglalás_ID": "1167",
                                    "Foglalás időtartama": "1",
                                    "Előző foglalás időtartama": "2"
                                },
                                {
                                    "Szoba_ID": "24",
                                    "Foglalás_ID": "1415",
                                    "Foglalás időtartama": "3",
                                    "Előző foglalás időtartama": "1"
                                },
                                {
                                    "Szoba_ID": "25",
                                    "Foglalás_ID": "1052",
                                    "Foglalás időtartama": "3",
                                    "Előző foglalás időtartama": "0"
                                },
                                {
                                    "Szoba_ID": "25",
                                    "Foglalás_ID": "1362",
                                    "Foglalás időtartama": "2",
                                    "Előző foglalás időtartama": "3"
                                },
                                {
                                    "Szoba_ID": "26",
                                    "Foglalás_ID": "1158",
                                    "Foglalás időtartama": "2",
                                    "Előző foglalás időtartama": "0"
                                },
                                {
                                    "Szoba_ID": "26",
                                    "Foglalás_ID": "1388",
                                    "Foglalás időtartama": "3",
                                    "Előző foglalás időtartama": "2"
                                },
                                {
                                    "Szoba_ID": "27",
                                    "Foglalás_ID": "758",
                                    "Foglalás időtartama": "3",
                                    "Előző foglalás időtartama": "0"
                                },
                                {
                                    "Szoba_ID": "27",
                                    "Foglalás_ID": "807",
                                    "Foglalás időtartama": "2",
                                    "Előző foglalás időtartama": "3"
                                },
                                {
                                    "Szoba_ID": "27",
                                    "Foglalás_ID": "1031",
                                    "Foglalás időtartama": "2",
                                    "Előző foglalás időtartama": "2"
                                },
                                {
                                    "Szoba_ID": "27",
                                    "Foglalás_ID": "1082",
                                    "Foglalás időtartama": "5",
                                    "Előző foglalás időtartama": "2"
                                },
                                {
                                    "Szoba_ID": "27",
                                    "Foglalás_ID": "1275",
                                    "Foglalás időtartama": "6",
                                    "Előző foglalás időtartama": "5"
                                },
                                {
                                    "Szoba_ID": "27",
                                    "Foglalás_ID": "1377",
                                    "Foglalás időtartama": "1",
                                    "Előző foglalás időtartama": "6"
                                },
                                {
                                    "Szoba_ID": "27",
                                    "Foglalás_ID": "1476",
                                    "Foglalás időtartama": "1",
                                    "Előző foglalás időtartama": "1"
                                },
                                {
                                    "Szoba_ID": "28",
                                    "Foglalás_ID": "725",
                                    "Foglalás időtartama": "5",
                                    "Előző foglalás időtartama": "0"
                                },
                                {
                                    "Szoba_ID": "28",
                                    "Foglalás_ID": "872",
                                    "Foglalás időtartama": "5",
                                    "Előző foglalás időtartama": "5"
                                },
                                {
                                    "Szoba_ID": "28",
                                    "Foglalás_ID": "886",
                                    "Foglalás időtartama": "4",
                                    "Előző foglalás időtartama": "5"
                                },
                                {
                                    "Szoba_ID": "28",
                                    "Foglalás_ID": "901",
                                    "Foglalás időtartama": "4",
                                    "Előző foglalás időtartama": "4"
                                },
                                {
                                    "Szoba_ID": "28",
                                    "Foglalás_ID": "1150",
                                    "Foglalás időtartama": "6",
                                    "Előző foglalás időtartama": "4"
                                },
                                {
                                    "Szoba_ID": "28",
                                    "Foglalás_ID": "1459",
                                    "Foglalás időtartama": "2",
                                    "Előző foglalás időtartama": "6"
                                },
                                {
                                    "Szoba_ID": "29",
                                    "Foglalás_ID": "611",
                                    "Foglalás időtartama": "5",
                                    "Előző foglalás időtartama": "0"
                                },
                                {
                                    "Szoba_ID": "29",
                                    "Foglalás_ID": "894",
                                    "Foglalás időtartama": "1",
                                    "Előző foglalás időtartama": "5"
                                },
                                {
                                    "Szoba_ID": "29",
                                    "Foglalás_ID": "1076",
                                    "Foglalás időtartama": "7",
                                    "Előző foglalás időtartama": "1"
                                },
                                {
                                    "Szoba_ID": "29",
                                    "Foglalás_ID": "1185",
                                    "Foglalás időtartama": "5",
                                    "Előző foglalás időtartama": "7"
                                },
                                {
                                    "Szoba_ID": "29",
                                    "Foglalás_ID": "1235",
                                    "Foglalás időtartama": "7",
                                    "Előző foglalás időtartama": "5"
                                },
                                {
                                    "Szoba_ID": "29",
                                    "Foglalás_ID": "1568",
                                    "Foglalás időtartama": "7",
                                    "Előző foglalás időtartama": "7"
                                },
                                {
                                    "Szoba_ID": "30",
                                    "Foglalás_ID": "604",
                                    "Foglalás időtartama": "2",
                                    "Előző foglalás időtartama": "0"
                                },
                                {
                                    "Szoba_ID": "30",
                                    "Foglalás_ID": "1023",
                                    "Foglalás időtartama": "7",
                                    "Előző foglalás időtartama": "2"
                                },
                                {
                                    "Szoba_ID": "30",
                                    "Foglalás_ID": "1136",
                                    "Foglalás időtartama": "5",
                                    "Előző foglalás időtartama": "7"
                                },
                                {
                                    "Szoba_ID": "31",
                                    "Foglalás_ID": "598",
                                    "Foglalás időtartama": "2",
                                    "Előző foglalás időtartama": "0"
                                },
                                {
                                    "Szoba_ID": "31",
                                    "Foglalás_ID": "606",
                                    "Foglalás időtartama": "1",
                                    "Előző foglalás időtartama": "2"
                                },
                                {
                                    "Szoba_ID": "31",
                                    "Foglalás_ID": "728",
                                    "Foglalás időtartama": "4",
                                    "Előző foglalás időtartama": "1"
                                },
                                {
                                    "Szoba_ID": "32",
                                    "Foglalás_ID": "920",
                                    "Foglalás időtartama": "4",
                                    "Előző foglalás időtartama": "0"
                                },
                                {
                                    "Szoba_ID": "33",
                                    "Foglalás_ID": "624",
                                    "Foglalás időtartama": "6",
                                    "Előző foglalás időtartama": "0"
                                },
                                {
                                    "Szoba_ID": "33",
                                    "Foglalás_ID": "1012",
                                    "Foglalás időtartama": "7",
                                    "Előző foglalás időtartama": "6"
                                },
                                {
                                    "Szoba_ID": "33",
                                    "Foglalás_ID": "1053",
                                    "Foglalás időtartama": "1",
                                    "Előző foglalás időtartama": "7"
                                },
                                {
                                    "Szoba_ID": "33",
                                    "Foglalás_ID": "1321",
                                    "Foglalás időtartama": "4",
                                    "Előző foglalás időtartama": "1"
                                },
                                {
                                    "Szoba_ID": "33",
                                    "Foglalás_ID": "1344",
                                    "Foglalás időtartama": "5",
                                    "Előző foglalás időtartama": "4"
                                },
                                {
                                    "Szoba_ID": "33",
                                    "Foglalás_ID": "1381",
                                    "Foglalás időtartama": "6",
                                    "Előző foglalás időtartama": "5"
                                },
                                {
                                    "Szoba_ID": "34",
                                    "Foglalás_ID": "777",
                                    "Foglalás időtartama": "3",
                                    "Előző foglalás időtartama": "0"
                                },
                                {
                                    "Szoba_ID": "34",
                                    "Foglalás_ID": "821",
                                    "Foglalás időtartama": "1",
                                    "Előző foglalás időtartama": "3"
                                },
                                {
                                    "Szoba_ID": "34",
                                    "Foglalás_ID": "870",
                                    "Foglalás időtartama": "6",
                                    "Előző foglalás időtartama": "1"
                                },
                                {
                                    "Szoba_ID": "34",
                                    "Foglalás_ID": "904",
                                    "Foglalás időtartama": "2",
                                    "Előző foglalás időtartama": "6"
                                },
                                {
                                    "Szoba_ID": "35",
                                    "Foglalás_ID": "686",
                                    "Foglalás időtartama": "6",
                                    "Előző foglalás időtartama": "0"
                                },
                                {
                                    "Szoba_ID": "35",
                                    "Foglalás_ID": "707",
                                    "Foglalás időtartama": "2",
                                    "Előző foglalás időtartama": "6"
                                },
                                {
                                    "Szoba_ID": "35",
                                    "Foglalás_ID": "829",
                                    "Foglalás időtartama": "2",
                                    "Előző foglalás időtartama": "2"
                                },
                                {
                                    "Szoba_ID": "35",
                                    "Foglalás_ID": "971",
                                    "Foglalás időtartama": "3",
                                    "Előző foglalás időtartama": "2"
                                },
                                {
                                    "Szoba_ID": "35",
                                    "Foglalás_ID": "979",
                                    "Foglalás időtartama": "7",
                                    "Előző foglalás időtartama": "3"
                                },
                                {
                                    "Szoba_ID": "35",
                                    "Foglalás_ID": "1411",
                                    "Foglalás időtartama": "1",
                                    "Előző foglalás időtartama": "7"
                                },
                                {
                                    "Szoba_ID": "35",
                                    "Foglalás_ID": "1436",
                                    "Foglalás időtartama": "1",
                                    "Előző foglalás időtartama": "1"
                                },
                                {
                                    "Szoba_ID": "35",
                                    "Foglalás_ID": "1480",
                                    "Foglalás időtartama": "37",
                                    "Előző foglalás időtartama": "1"
                                },
                                {
                                    "Szoba_ID": "35",
                                    "Foglalás_ID": "1529",
                                    "Foglalás időtartama": "4",
                                    "Előző foglalás időtartama": "37"
                                },
                                {
                                    "Szoba_ID": "36",
                                    "Foglalás_ID": "748",
                                    "Foglalás időtartama": "2",
                                    "Előző foglalás időtartama": "0"
                                },
                                {
                                    "Szoba_ID": "36",
                                    "Foglalás_ID": "750",
                                    "Foglalás időtartama": "6",
                                    "Előző foglalás időtartama": "2"
                                },
                                {
                                    "Szoba_ID": "36",
                                    "Foglalás_ID": "895",
                                    "Foglalás időtartama": "5",
                                    "Előző foglalás időtartama": "6"
                                },
                                {
                                    "Szoba_ID": "36",
                                    "Foglalás_ID": "919",
                                    "Foglalás időtartama": "1",
                                    "Előző foglalás időtartama": "5"
                                },
                                {
                                    "Szoba_ID": "36",
                                    "Foglalás_ID": "985",
                                    "Foglalás időtartama": "6",
                                    "Előző foglalás időtartama": "1"
                                },
                                {
                                    "Szoba_ID": "36",
                                    "Foglalás_ID": "1003",
                                    "Foglalás időtartama": "4",
                                    "Előző foglalás időtartama": "6"
                                },
                                {
                                    "Szoba_ID": "37",
                                    "Foglalás_ID": "688",
                                    "Foglalás időtartama": "2",
                                    "Előző foglalás időtartama": "0"
                                },
                                {
                                    "Szoba_ID": "37",
                                    "Foglalás_ID": "705",
                                    "Foglalás időtartama": "4",
                                    "Előző foglalás időtartama": "2"
                                },
                                {
                                    "Szoba_ID": "37",
                                    "Foglalás_ID": "1335",
                                    "Foglalás időtartama": "7",
                                    "Előző foglalás időtartama": "4"
                                },
                                {
                                    "Szoba_ID": "38",
                                    "Foglalás_ID": "627",
                                    "Foglalás időtartama": "6",
                                    "Előző foglalás időtartama": "0"
                                },
                                {
                                    "Szoba_ID": "38",
                                    "Foglalás_ID": "1033",
                                    "Foglalás időtartama": "2",
                                    "Előző foglalás időtartama": "6"
                                },
                                {
                                    "Szoba_ID": "38",
                                    "Foglalás_ID": "1060",
                                    "Foglalás időtartama": "2",
                                    "Előző foglalás időtartama": "2"
                                },
                                {
                                    "Szoba_ID": "38",
                                    "Foglalás_ID": "1078",
                                    "Foglalás időtartama": "7",
                                    "Előző foglalás időtartama": "2"
                                },
                                {
                                    "Szoba_ID": "38",
                                    "Foglalás_ID": "1351",
                                    "Foglalás időtartama": "4",
                                    "Előző foglalás időtartama": "7"
                                },
                                {
                                    "Szoba_ID": "38",
                                    "Foglalás_ID": "1416",
                                    "Foglalás időtartama": "5",
                                    "Előző foglalás időtartama": "4"
                                },
                                {
                                    "Szoba_ID": "38",
                                    "Foglalás_ID": "1478",
                                    "Foglalás időtartama": "4",
                                    "Előző foglalás időtartama": "5"
                                },
                                {
                                    "Szoba_ID": "38",
                                    "Foglalás_ID": "1556",
                                    "Foglalás időtartama": "6",
                                    "Előző foglalás időtartama": "4"
                                },
                                {
                                    "Szoba_ID": "39",
                                    "Foglalás_ID": "601",
                                    "Foglalás időtartama": "6",
                                    "Előző foglalás időtartama": "0"
                                },
                                {
                                    "Szoba_ID": "39",
                                    "Foglalás_ID": "899",
                                    "Foglalás időtartama": "6",
                                    "Előző foglalás időtartama": "6"
                                },
                                {
                                    "Szoba_ID": "39",
                                    "Foglalás_ID": "1214",
                                    "Foglalás időtartama": "5",
                                    "Előző foglalás időtartama": "6"
                                },
                                {
                                    "Szoba_ID": "39",
                                    "Foglalás_ID": "1380",
                                    "Foglalás időtartama": "5",
                                    "Előző foglalás időtartama": "5"
                                },
                                {
                                    "Szoba_ID": "39",
                                    "Foglalás_ID": "1435",
                                    "Foglalás időtartama": "7",
                                    "Előző foglalás időtartama": "5"
                                },
                                {
                                    "Szoba_ID": "39",
                                    "Foglalás_ID": "1454",
                                    "Foglalás időtartama": "1",
                                    "Előző foglalás időtartama": "7"
                                },
                                {
                                    "Szoba_ID": "39",
                                    "Foglalás_ID": "1538",
                                    "Foglalás időtartama": "2",
                                    "Előző foglalás időtartama": "1"
                                },
                                {
                                    "Szoba_ID": "40",
                                    "Foglalás_ID": "924",
                                    "Foglalás időtartama": "5",
                                    "Előző foglalás időtartama": "0"
                                },
                                {
                                    "Szoba_ID": "40",
                                    "Foglalás_ID": "932",
                                    "Foglalás időtartama": "6",
                                    "Előző foglalás időtartama": "5"
                                },
                                {
                                    "Szoba_ID": "40",
                                    "Foglalás_ID": "1018",
                                    "Foglalás időtartama": "5",
                                    "Előző foglalás időtartama": "6"
                                },
                                {
                                    "Szoba_ID": "40",
                                    "Foglalás_ID": "1118",
                                    "Foglalás időtartama": "5",
                                    "Előző foglalás időtartama": "5"
                                },
                                {
                                    "Szoba_ID": "41",
                                    "Foglalás_ID": "960",
                                    "Foglalás időtartama": "6",
                                    "Előző foglalás időtartama": "0"
                                },
                                {
                                    "Szoba_ID": "41",
                                    "Foglalás_ID": "1144",
                                    "Foglalás időtartama": "1",
                                    "Előző foglalás időtartama": "6"
                                },
                                {
                                    "Szoba_ID": "42",
                                    "Foglalás_ID": "561",
                                    "Foglalás időtartama": "4",
                                    "Előző foglalás időtartama": "0"
                                },
                                {
                                    "Szoba_ID": "42",
                                    "Foglalás_ID": "590",
                                    "Foglalás időtartama": "5",
                                    "Előző foglalás időtartama": "4"
                                },
                                {
                                    "Szoba_ID": "42",
                                    "Foglalás_ID": "770",
                                    "Foglalás időtartama": "3",
                                    "Előző foglalás időtartama": "5"
                                },
                                {
                                    "Szoba_ID": "42",
                                    "Foglalás_ID": "851",
                                    "Foglalás időtartama": "7",
                                    "Előző foglalás időtartama": "3"
                                },
                                {
                                    "Szoba_ID": "42",
                                    "Foglalás_ID": "1309",
                                    "Foglalás időtartama": "2",
                                    "Előző foglalás időtartama": "7"
                                },
                                {
                                    "Szoba_ID": "42",
                                    "Foglalás_ID": "1444",
                                    "Foglalás időtartama": "6",
                                    "Előző foglalás időtartama": "2"
                                },
                                {
                                    "Szoba_ID": "43",
                                    "Foglalás_ID": "670",
                                    "Foglalás időtartama": "4",
                                    "Előző foglalás időtartama": "0"
                                },
                                {
                                    "Szoba_ID": "43",
                                    "Foglalás_ID": "1019",
                                    "Foglalás időtartama": "4",
                                    "Előző foglalás időtartama": "4"
                                },
                                {
                                    "Szoba_ID": "43",
                                    "Foglalás_ID": "1088",
                                    "Foglalás időtartama": "2",
                                    "Előző foglalás időtartama": "4"
                                },
                                {
                                    "Szoba_ID": "43",
                                    "Foglalás_ID": "1207",
                                    "Foglalás időtartama": "1",
                                    "Előző foglalás időtartama": "2"
                                },
                                {
                                    "Szoba_ID": "43",
                                    "Foglalás_ID": "1227",
                                    "Foglalás időtartama": "5",
                                    "Előző foglalás időtartama": "1"
                                },
                                {
                                    "Szoba_ID": "43",
                                    "Foglalás_ID": "1270",
                                    "Foglalás időtartama": "4",
                                    "Előző foglalás időtartama": "5"
                                },
                                {
                                    "Szoba_ID": "43",
                                    "Foglalás_ID": "1524",
                                    "Foglalás időtartama": "1",
                                    "Előző foglalás időtartama": "4"
                                },
                                {
                                    "Szoba_ID": "43",
                                    "Foglalás_ID": "1553",
                                    "Foglalás időtartama": "5",
                                    "Előző foglalás időtartama": "1"
                                },
                                {
                                    "Szoba_ID": "44",
                                    "Foglalás_ID": "589",
                                    "Foglalás időtartama": "2",
                                    "Előző foglalás időtartama": "0"
                                },
                                {
                                    "Szoba_ID": "44",
                                    "Foglalás_ID": "658",
                                    "Foglalás időtartama": "6",
                                    "Előző foglalás időtartama": "2"
                                },
                                {
                                    "Szoba_ID": "44",
                                    "Foglalás_ID": "823",
                                    "Foglalás időtartama": "2",
                                    "Előző foglalás időtartama": "6"
                                },
                                {
                                    "Szoba_ID": "44",
                                    "Foglalás_ID": "1295",
                                    "Foglalás időtartama": "2",
                                    "Előző foglalás időtartama": "2"
                                },
                                {
                                    "Szoba_ID": "44",
                                    "Foglalás_ID": "1425",
                                    "Foglalás időtartama": "2",
                                    "Előző foglalás időtartama": "2"
                                },
                                {
                                    "Szoba_ID": "44",
                                    "Foglalás_ID": "1552",
                                    "Foglalás időtartama": "2",
                                    "Előző foglalás időtartama": "2"
                                },
                                {
                                    "Szoba_ID": "45",
                                    "Foglalás_ID": "800",
                                    "Foglalás időtartama": "5",
                                    "Előző foglalás időtartama": "0"
                                },
                                {
                                    "Szoba_ID": "45",
                                    "Foglalás_ID": "802",
                                    "Foglalás időtartama": "7",
                                    "Előző foglalás időtartama": "5"
                                },
                                {
                                    "Szoba_ID": "45",
                                    "Foglalás_ID": "846",
                                    "Foglalás időtartama": "3",
                                    "Előző foglalás időtartama": "7"
                                },
                                {
                                    "Szoba_ID": "45",
                                    "Foglalás_ID": "1135",
                                    "Foglalás időtartama": "3",
                                    "Előző foglalás időtartama": "3"
                                },
                                {
                                    "Szoba_ID": "45",
                                    "Foglalás_ID": "1303",
                                    "Foglalás időtartama": "2",
                                    "Előző foglalás időtartama": "3"
                                },
                                {
                                    "Szoba_ID": "46",
                                    "Foglalás_ID": "752",
                                    "Foglalás időtartama": "5",
                                    "Előző foglalás időtartama": "0"
                                },
                                {
                                    "Szoba_ID": "46",
                                    "Foglalás_ID": "1187",
                                    "Foglalás időtartama": "7",
                                    "Előző foglalás időtartama": "5"
                                },
                                {
                                    "Szoba_ID": "46",
                                    "Foglalás_ID": "1291",
                                    "Foglalás időtartama": "3",
                                    "Előző foglalás időtartama": "7"
                                },
                                {
                                    "Szoba_ID": "46",
                                    "Foglalás_ID": "1515",
                                    "Foglalás időtartama": "4",
                                    "Előző foglalás időtartama": "3"
                                },
                                {
                                    "Szoba_ID": "47",
                                    "Foglalás_ID": "955",
                                    "Foglalás időtartama": "1",
                                    "Előző foglalás időtartama": "0"
                                },
                                {
                                    "Szoba_ID": "47",
                                    "Foglalás_ID": "1056",
                                    "Foglalás időtartama": "7",
                                    "Előző foglalás időtartama": "1"
                                },
                                {
                                    "Szoba_ID": "48",
                                    "Foglalás_ID": "603",
                                    "Foglalás időtartama": "3",
                                    "Előző foglalás időtartama": "0"
                                },
                                {
                                    "Szoba_ID": "48",
                                    "Foglalás_ID": "628",
                                    "Foglalás időtartama": "2",
                                    "Előző foglalás időtartama": "3"
                                },
                                {
                                    "Szoba_ID": "48",
                                    "Foglalás_ID": "824",
                                    "Foglalás időtartama": "2",
                                    "Előző foglalás időtartama": "2"
                                },
                                {
                                    "Szoba_ID": "48",
                                    "Foglalás_ID": "914",
                                    "Foglalás időtartama": "5",
                                    "Előző foglalás időtartama": "2"
                                },
                                {
                                    "Szoba_ID": "48",
                                    "Foglalás_ID": "986",
                                    "Foglalás időtartama": "5",
                                    "Előző foglalás időtartama": "5"
                                },
                                {
                                    "Szoba_ID": "48",
                                    "Foglalás_ID": "1243",
                                    "Foglalás időtartama": "6",
                                    "Előző foglalás időtartama": "5"
                                },
                                {
                                    "Szoba_ID": "48",
                                    "Foglalás_ID": "1546",
                                    "Foglalás időtartama": "3",
                                    "Előző foglalás időtartama": "6"
                                },
                                {
                                    "Szoba_ID": "48",
                                    "Foglalás_ID": "1547",
                                    "Foglalás időtartama": "1",
                                    "Előző foglalás időtartama": "3"
                                },
                                {
                                    "Szoba_ID": "48",
                                    "Foglalás_ID": "1581",
                                    "Foglalás időtartama": "5",
                                    "Előző foglalás időtartama": "1"
                                },
                                {
                                    "Szoba_ID": "49",
                                    "Foglalás_ID": "793",
                                    "Foglalás időtartama": "6",
                                    "Előző foglalás időtartama": "0"
                                },
                                {
                                    "Szoba_ID": "49",
                                    "Foglalás_ID": "826",
                                    "Foglalás időtartama": "4",
                                    "Előző foglalás időtartama": "6"
                                },
                                {
                                    "Szoba_ID": "49",
                                    "Foglalás_ID": "888",
                                    "Foglalás időtartama": "7",
                                    "Előző foglalás időtartama": "4"
                                },
                                {
                                    "Szoba_ID": "49",
                                    "Foglalás_ID": "1066",
                                    "Foglalás időtartama": "7",
                                    "Előző foglalás időtartama": "7"
                                },
                                {
                                    "Szoba_ID": "49",
                                    "Foglalás_ID": "1200",
                                    "Foglalás időtartama": "7",
                                    "Előző foglalás időtartama": "7"
                                },
                                {
                                    "Szoba_ID": "49",
                                    "Foglalás_ID": "1221",
                                    "Foglalás időtartama": "2",
                                    "Előző foglalás időtartama": "7"
                                },
                                {
                                    "Szoba_ID": "49",
                                    "Foglalás_ID": "1536",
                                    "Foglalás időtartama": "6",
                                    "Előző foglalás időtartama": "2"
                                },
                                {
                                    "Szoba_ID": "50",
                                    "Foglalás_ID": "787",
                                    "Foglalás időtartama": "3",
                                    "Előző foglalás időtartama": "0"
                                },
                                {
                                    "Szoba_ID": "50",
                                    "Foglalás_ID": "1063",
                                    "Foglalás időtartama": "2",
                                    "Előző foglalás időtartama": "3"
                                },
                                {
                                    "Szoba_ID": "50",
                                    "Foglalás_ID": "1224",
                                    "Foglalás időtartama": "1",
                                    "Előző foglalás időtartama": "2"
                                },
                                {
                                    "Szoba_ID": "50",
                                    "Foglalás_ID": "1272",
                                    "Foglalás időtartama": "1",
                                    "Előző foglalás időtartama": "1"
                                },
                                {
                                    "Szoba_ID": "51",
                                    "Foglalás_ID": "811",
                                    "Foglalás időtartama": "2",
                                    "Előző foglalás időtartama": "0"
                                },
                                {
                                    "Szoba_ID": "51",
                                    "Foglalás_ID": "865",
                                    "Foglalás időtartama": "7",
                                    "Előző foglalás időtartama": "2"
                                },
                                {
                                    "Szoba_ID": "51",
                                    "Foglalás_ID": "1165",
                                    "Foglalás időtartama": "5",
                                    "Előző foglalás időtartama": "7"
                                },
                                {
                                    "Szoba_ID": "51",
                                    "Foglalás_ID": "1477",
                                    "Foglalás időtartama": "6",
                                    "Előző foglalás időtartama": "5"
                                },
                                {
                                    "Szoba_ID": "51",
                                    "Foglalás_ID": "1550",
                                    "Foglalás időtartama": "1",
                                    "Előző foglalás időtartama": "6"
                                },
                                {
                                    "Szoba_ID": "52",
                                    "Foglalás_ID": "822",
                                    "Foglalás időtartama": "7",
                                    "Előző foglalás időtartama": "0"
                                },
                                {
                                    "Szoba_ID": "52",
                                    "Foglalás_ID": "1202",
                                    "Foglalás időtartama": "2",
                                    "Előző foglalás időtartama": "7"
                                },
                                {
                                    "Szoba_ID": "52",
                                    "Foglalás_ID": "1258",
                                    "Foglalás időtartama": "5",
                                    "Előző foglalás időtartama": "2"
                                },
                                {
                                    "Szoba_ID": "52",
                                    "Foglalás_ID": "1431",
                                    "Foglalás időtartama": "5",
                                    "Előző foglalás időtartama": "5"
                                },
                                {
                                    "Szoba_ID": "52",
                                    "Foglalás_ID": "1534",
                                    "Foglalás időtartama": "5",
                                    "Előző foglalás időtartama": "5"
                                },
                                {
                                    "Szoba_ID": "53",
                                    "Foglalás_ID": "855",
                                    "Foglalás időtartama": "1",
                                    "Előző foglalás időtartama": "0"
                                },
                                {
                                    "Szoba_ID": "53",
                                    "Foglalás_ID": "987",
                                    "Foglalás időtartama": "4",
                                    "Előző foglalás időtartama": "1"
                                },
                                {
                                    "Szoba_ID": "54",
                                    "Foglalás_ID": "622",
                                    "Foglalás időtartama": "7",
                                    "Előző foglalás időtartama": "0"
                                },
                                {
                                    "Szoba_ID": "54",
                                    "Foglalás_ID": "642",
                                    "Foglalás időtartama": "5",
                                    "Előző foglalás időtartama": "7"
                                },
                                {
                                    "Szoba_ID": "54",
                                    "Foglalás_ID": "668",
                                    "Foglalás időtartama": "1",
                                    "Előző foglalás időtartama": "5"
                                },
                                {
                                    "Szoba_ID": "54",
                                    "Foglalás_ID": "889",
                                    "Foglalás időtartama": "2",
                                    "Előző foglalás időtartama": "1"
                                },
                                {
                                    "Szoba_ID": "54",
                                    "Foglalás_ID": "1096",
                                    "Foglalás időtartama": "4",
                                    "Előző foglalás időtartama": "2"
                                },
                                {
                                    "Szoba_ID": "54",
                                    "Foglalás_ID": "1328",
                                    "Foglalás időtartama": "4",
                                    "Előző foglalás időtartama": "4"
                                },
                                {
                                    "Szoba_ID": "55",
                                    "Foglalás_ID": "734",
                                    "Foglalás időtartama": "6",
                                    "Előző foglalás időtartama": "0"
                                },
                                {
                                    "Szoba_ID": "55",
                                    "Foglalás_ID": "1086",
                                    "Foglalás időtartama": "5",
                                    "Előző foglalás időtartama": "6"
                                },
                                {
                                    "Szoba_ID": "55",
                                    "Foglalás_ID": "1163",
                                    "Foglalás időtartama": "2",
                                    "Előző foglalás időtartama": "5"
                                },
                                {
                                    "Szoba_ID": "55",
                                    "Foglalás_ID": "1232",
                                    "Foglalás időtartama": "7",
                                    "Előző foglalás időtartama": "2"
                                },
                                {
                                    "Szoba_ID": "55",
                                    "Foglalás_ID": "1327",
                                    "Foglalás időtartama": "6",
                                    "Előző foglalás időtartama": "7"
                                },
                                {
                                    "Szoba_ID": "55",
                                    "Foglalás_ID": "1386",
                                    "Foglalás időtartama": "2",
                                    "Előző foglalás időtartama": "6"
                                },
                                {
                                    "Szoba_ID": "55",
                                    "Foglalás_ID": "1512",
                                    "Foglalás időtartama": "1",
                                    "Előző foglalás időtartama": "2"
                                },
                                {
                                    "Szoba_ID": "55",
                                    "Foglalás_ID": "1520",
                                    "Foglalás időtartama": "1",
                                    "Előző foglalás időtartama": "1"
                                },
                                {
                                    "Szoba_ID": "56",
                                    "Foglalás_ID": "838",
                                    "Foglalás időtartama": "2",
                                    "Előző foglalás időtartama": "0"
                                },
                                {
                                    "Szoba_ID": "56",
                                    "Foglalás_ID": "935",
                                    "Foglalás időtartama": "4",
                                    "Előző foglalás időtartama": "2"
                                },
                                {
                                    "Szoba_ID": "57",
                                    "Foglalás_ID": "1348",
                                    "Foglalás időtartama": "1",
                                    "Előző foglalás időtartama": "0"
                                },
                                {
                                    "Szoba_ID": "57",
                                    "Foglalás_ID": "1389",
                                    "Foglalás időtartama": "1",
                                    "Előző foglalás időtartama": "1"
                                },
                                {
                                    "Szoba_ID": "57",
                                    "Foglalás_ID": "1466",
                                    "Foglalás időtartama": "7",
                                    "Előző foglalás időtartama": "1"
                                },
                                {
                                    "Szoba_ID": "57",
                                    "Foglalás_ID": "1504",
                                    "Foglalás időtartama": "4",
                                    "Előző foglalás időtartama": "7"
                                },
                                {
                                    "Szoba_ID": "58",
                                    "Foglalás_ID": "719",
                                    "Foglalás időtartama": "3",
                                    "Előző foglalás időtartama": "0"
                                },
                                {
                                    "Szoba_ID": "58",
                                    "Foglalás_ID": "773",
                                    "Foglalás időtartama": "2",
                                    "Előző foglalás időtartama": "3"
                                },
                                {
                                    "Szoba_ID": "58",
                                    "Foglalás_ID": "883",
                                    "Foglalás időtartama": "5",
                                    "Előző foglalás időtartama": "2"
                                },
                                {
                                    "Szoba_ID": "58",
                                    "Foglalás_ID": "1113",
                                    "Foglalás időtartama": "3",
                                    "Előző foglalás időtartama": "5"
                                },
                                {
                                    "Szoba_ID": "58",
                                    "Foglalás_ID": "1186",
                                    "Foglalás időtartama": "6",
                                    "Előző foglalás időtartama": "3"
                                },
                                {
                                    "Szoba_ID": "58",
                                    "Foglalás_ID": "1208",
                                    "Foglalás időtartama": "6",
                                    "Előző foglalás időtartama": "6"
                                },
                                {
                                    "Szoba_ID": "58",
                                    "Foglalás_ID": "1255",
                                    "Foglalás időtartama": "7",
                                    "Előző foglalás időtartama": "6"
                                },
                                {
                                    "Szoba_ID": "58",
                                    "Foglalás_ID": "1261",
                                    "Foglalás időtartama": "6",
                                    "Előző foglalás időtartama": "7"
                                },
                                {
                                    "Szoba_ID": "58",
                                    "Foglalás_ID": "1285",
                                    "Foglalás időtartama": "7",
                                    "Előző foglalás időtartama": "6"
                                },
                                {
                                    "Szoba_ID": "58",
                                    "Foglalás_ID": "1293",
                                    "Foglalás időtartama": "3",
                                    "Előző foglalás időtartama": "7"
                                },
                                {
                                    "Szoba_ID": "58",
                                    "Foglalás_ID": "1307",
                                    "Foglalás időtartama": "6",
                                    "Előző foglalás időtartama": "3"
                                },
                                {
                                    "Szoba_ID": "58",
                                    "Foglalás_ID": "1322",
                                    "Foglalás időtartama": "3",
                                    "Előző foglalás időtartama": "6"
                                },
                                {
                                    "Szoba_ID": "58",
                                    "Foglalás_ID": "1451",
                                    "Foglalás időtartama": "6",
                                    "Előző foglalás időtartama": "3"
                                },
                                {
                                    "Szoba_ID": "59",
                                    "Foglalás_ID": "1080",
                                    "Foglalás időtartama": "1",
                                    "Előző foglalás időtartama": "0"
                                },
                                {
                                    "Szoba_ID": "59",
                                    "Foglalás_ID": "1084",
                                    "Foglalás időtartama": "2",
                                    "Előző foglalás időtartama": "1"
                                },
                                {
                                    "Szoba_ID": "59",
                                    "Foglalás_ID": "1170",
                                    "Foglalás időtartama": "5",
                                    "Előző foglalás időtartama": "2"
                                },
                                {
                                    "Szoba_ID": "59",
                                    "Foglalás_ID": "1191",
                                    "Foglalás időtartama": "6",
                                    "Előző foglalás időtartama": "5"
                                },
                                {
                                    "Szoba_ID": "59",
                                    "Foglalás_ID": "1239",
                                    "Foglalás időtartama": "2",
                                    "Előző foglalás időtartama": "6"
                                },
                                {
                                    "Szoba_ID": "59",
                                    "Foglalás_ID": "1288",
                                    "Foglalás időtartama": "3",
                                    "Előző foglalás időtartama": "2"
                                },
                                {
                                    "Szoba_ID": "59",
                                    "Foglalás_ID": "1573",
                                    "Foglalás időtartama": "1",
                                    "Előző foglalás időtartama": "3"
                                },
                                {
                                    "Szoba_ID": "60",
                                    "Foglalás_ID": "676",
                                    "Foglalás időtartama": "2",
                                    "Előző foglalás időtartama": "0"
                                },
                                {
                                    "Szoba_ID": "61",
                                    "Foglalás_ID": "701",
                                    "Foglalás időtartama": "2",
                                    "Előző foglalás időtartama": "0"
                                },
                                {
                                    "Szoba_ID": "61",
                                    "Foglalás_ID": "756",
                                    "Foglalás időtartama": "6",
                                    "Előző foglalás időtartama": "2"
                                },
                                {
                                    "Szoba_ID": "61",
                                    "Foglalás_ID": "1148",
                                    "Foglalás időtartama": "3",
                                    "Előző foglalás időtartama": "6"
                                },
                                {
                                    "Szoba_ID": "61",
                                    "Foglalás_ID": "1218",
                                    "Foglalás időtartama": "2",
                                    "Előző foglalás időtartama": "3"
                                },
                                {
                                    "Szoba_ID": "61",
                                    "Foglalás_ID": "1496",
                                    "Foglalás időtartama": "7",
                                    "Előző foglalás időtartama": "2"
                                },
                                {
                                    "Szoba_ID": "62",
                                    "Foglalás_ID": "702",
                                    "Foglalás időtartama": "5",
                                    "Előző foglalás időtartama": "0"
                                },
                                {
                                    "Szoba_ID": "62",
                                    "Foglalás_ID": "936",
                                    "Foglalás időtartama": "3",
                                    "Előző foglalás időtartama": "5"
                                },
                                {
                                    "Szoba_ID": "62",
                                    "Foglalás_ID": "938",
                                    "Foglalás időtartama": "1",
                                    "Előző foglalás időtartama": "3"
                                },
                                {
                                    "Szoba_ID": "62",
                                    "Foglalás_ID": "1081",
                                    "Foglalás időtartama": "7",
                                    "Előző foglalás időtartama": "1"
                                },
                                {
                                    "Szoba_ID": "62",
                                    "Foglalás_ID": "1426",
                                    "Foglalás időtartama": "4",
                                    "Előző foglalás időtartama": "7"
                                },
                                {
                                    "Szoba_ID": "63",
                                    "Foglalás_ID": "625",
                                    "Foglalás időtartama": "3",
                                    "Előző foglalás időtartama": "0"
                                },
                                {
                                    "Szoba_ID": "63",
                                    "Foglalás_ID": "769",
                                    "Foglalás időtartama": "5",
                                    "Előző foglalás időtartama": "3"
                                },
                                {
                                    "Szoba_ID": "63",
                                    "Foglalás_ID": "845",
                                    "Foglalás időtartama": "1",
                                    "Előző foglalás időtartama": "5"
                                },
                                {
                                    "Szoba_ID": "63",
                                    "Foglalás_ID": "891",
                                    "Foglalás időtartama": "6",
                                    "Előző foglalás időtartama": "1"
                                },
                                {
                                    "Szoba_ID": "64",
                                    "Foglalás_ID": "875",
                                    "Foglalás időtartama": "2",
                                    "Előző foglalás időtartama": "0"
                                },
                                {
                                    "Szoba_ID": "64",
                                    "Foglalás_ID": "1122",
                                    "Foglalás időtartama": "4",
                                    "Előző foglalás időtartama": "2"
                                },
                                {
                                    "Szoba_ID": "64",
                                    "Foglalás_ID": "1233",
                                    "Foglalás időtartama": "7",
                                    "Előző foglalás időtartama": "4"
                                },
                                {
                                    "Szoba_ID": "64",
                                    "Foglalás_ID": "1446",
                                    "Foglalás időtartama": "6",
                                    "Előző foglalás időtartama": "7"
                                },
                                {
                                    "Szoba_ID": "64",
                                    "Foglalás_ID": "1465",
                                    "Foglalás időtartama": "4",
                                    "Előző foglalás időtartama": "6"
                                },
                                {
                                    "Szoba_ID": "64",
                                    "Foglalás_ID": "1582",
                                    "Foglalás időtartama": "1",
                                    "Előző foglalás időtartama": "4"
                                },
                                {
                                    "Szoba_ID": "65",
                                    "Foglalás_ID": "650",
                                    "Foglalás időtartama": "6",
                                    "Előző foglalás időtartama": "0"
                                },
                                {
                                    "Szoba_ID": "66",
                                    "Foglalás_ID": "736",
                                    "Foglalás időtartama": "3",
                                    "Előző foglalás időtartama": "0"
                                },
                                {
                                    "Szoba_ID": "66",
                                    "Foglalás_ID": "950",
                                    "Foglalás időtartama": "3",
                                    "Előző foglalás időtartama": "3"
                                },
                                {
                                    "Szoba_ID": "66",
                                    "Foglalás_ID": "1234",
                                    "Foglalás időtartama": "3",
                                    "Előző foglalás időtartama": "3"
                                },
                                {
                                    "Szoba_ID": "66",
                                    "Foglalás_ID": "1264",
                                    "Foglalás időtartama": "4",
                                    "Előző foglalás időtartama": "3"
                                },
                                {
                                    "Szoba_ID": "67",
                                    "Foglalás_ID": "638",
                                    "Foglalás időtartama": "5",
                                    "Előző foglalás időtartama": "0"
                                },
                                {
                                    "Szoba_ID": "67",
                                    "Foglalás_ID": "645",
                                    "Foglalás időtartama": "6",
                                    "Előző foglalás időtartama": "5"
                                },
                                {
                                    "Szoba_ID": "67",
                                    "Foglalás_ID": "874",
                                    "Foglalás időtartama": "6",
                                    "Előző foglalás időtartama": "6"
                                },
                                {
                                    "Szoba_ID": "67",
                                    "Foglalás_ID": "1382",
                                    "Foglalás időtartama": "1",
                                    "Előző foglalás időtartama": "6"
                                },
                                {
                                    "Szoba_ID": "67",
                                    "Foglalás_ID": "1580",
                                    "Foglalás időtartama": "5",
                                    "Előző foglalás időtartama": "1"
                                },
                                {
                                    "Szoba_ID": "67",
                                    "Foglalás_ID": "1584",
                                    "Foglalás időtartama": "1",
                                    "Előző foglalás időtartama": "5"
                                },
                                {
                                    "Szoba_ID": "68",
                                    "Foglalás_ID": "563",
                                    "Foglalás időtartama": "5",
                                    "Előző foglalás időtartama": "0"
                                },
                                {
                                    "Szoba_ID": "68",
                                    "Foglalás_ID": "1027",
                                    "Foglalás időtartama": "7",
                                    "Előző foglalás időtartama": "5"
                                },
                                {
                                    "Szoba_ID": "68",
                                    "Foglalás_ID": "1324",
                                    "Foglalás időtartama": "4",
                                    "Előző foglalás időtartama": "7"
                                },
                                {
                                    "Szoba_ID": "69",
                                    "Foglalás_ID": "885",
                                    "Foglalás időtartama": "1",
                                    "Előző foglalás időtartama": "0"
                                },
                                {
                                    "Szoba_ID": "69",
                                    "Foglalás_ID": "1055",
                                    "Foglalás időtartama": "5",
                                    "Előző foglalás időtartama": "1"
                                },
                                {
                                    "Szoba_ID": "69",
                                    "Foglalás_ID": "1225",
                                    "Foglalás időtartama": "5",
                                    "Előző foglalás időtartama": "5"
                                },
                                {
                                    "Szoba_ID": "69",
                                    "Foglalás_ID": "1246",
                                    "Foglalás időtartama": "7",
                                    "Előző foglalás időtartama": "5"
                                },
                                {
                                    "Szoba_ID": "70",
                                    "Foglalás_ID": "585",
                                    "Foglalás időtartama": "5",
                                    "Előző foglalás időtartama": "0"
                                },
                                {
                                    "Szoba_ID": "70",
                                    "Foglalás_ID": "704",
                                    "Foglalás időtartama": "3",
                                    "Előző foglalás időtartama": "5"
                                },
                                {
                                    "Szoba_ID": "70",
                                    "Foglalás_ID": "814",
                                    "Foglalás időtartama": "3",
                                    "Előző foglalás időtartama": "3"
                                },
                                {
                                    "Szoba_ID": "70",
                                    "Foglalás_ID": "860",
                                    "Foglalás időtartama": "2",
                                    "Előző foglalás időtartama": "3"
                                },
                                {
                                    "Szoba_ID": "70",
                                    "Foglalás_ID": "1006",
                                    "Foglalás időtartama": "3",
                                    "Előző foglalás időtartama": "2"
                                },
                                {
                                    "Szoba_ID": "70",
                                    "Foglalás_ID": "1092",
                                    "Foglalás időtartama": "3",
                                    "Előző foglalás időtartama": "3"
                                },
                                {
                                    "Szoba_ID": "70",
                                    "Foglalás_ID": "1126",
                                    "Foglalás időtartama": "3",
                                    "Előző foglalás időtartama": "3"
                                },
                                {
                                    "Szoba_ID": "70",
                                    "Foglalás_ID": "1325",
                                    "Foglalás időtartama": "7",
                                    "Előző foglalás időtartama": "3"
                                },
                                {
                                    "Szoba_ID": "70",
                                    "Foglalás_ID": "1333",
                                    "Foglalás időtartama": "6",
                                    "Előző foglalás időtartama": "7"
                                },
                                {
                                    "Szoba_ID": "70",
                                    "Foglalás_ID": "1365",
                                    "Foglalás időtartama": "3",
                                    "Előző foglalás időtartama": "6"
                                },
                                {
                                    "Szoba_ID": "70",
                                    "Foglalás_ID": "1457",
                                    "Foglalás időtartama": "7",
                                    "Előző foglalás időtartama": "3"
                                },
                                {
                                    "Szoba_ID": "71",
                                    "Foglalás_ID": "681",
                                    "Foglalás időtartama": "3",
                                    "Előző foglalás időtartama": "0"
                                },
                                {
                                    "Szoba_ID": "71",
                                    "Foglalás_ID": "712",
                                    "Foglalás időtartama": "1",
                                    "Előző foglalás időtartama": "3"
                                },
                                {
                                    "Szoba_ID": "71",
                                    "Foglalás_ID": "1009",
                                    "Foglalás időtartama": "1",
                                    "Előző foglalás időtartama": "1"
                                },
                                {
                                    "Szoba_ID": "72",
                                    "Foglalás_ID": "902",
                                    "Foglalás időtartama": "5",
                                    "Előző foglalás időtartama": "0"
                                },
                                {
                                    "Szoba_ID": "72",
                                    "Foglalás_ID": "961",
                                    "Foglalás időtartama": "6",
                                    "Előző foglalás időtartama": "5"
                                },
                                {
                                    "Szoba_ID": "72",
                                    "Foglalás_ID": "1318",
                                    "Foglalás időtartama": "2",
                                    "Előző foglalás időtartama": "6"
                                },
                                {
                                    "Szoba_ID": "72",
                                    "Foglalás_ID": "1396",
                                    "Foglalás időtartama": "3",
                                    "Előző foglalás időtartama": "2"
                                },
                                {
                                    "Szoba_ID": "73",
                                    "Foglalás_ID": "714",
                                    "Foglalás időtartama": "7",
                                    "Előző foglalás időtartama": "0"
                                },
                                {
                                    "Szoba_ID": "73",
                                    "Foglalás_ID": "1000",
                                    "Foglalás időtartama": "4",
                                    "Előző foglalás időtartama": "7"
                                },
                                {
                                    "Szoba_ID": "73",
                                    "Foglalás_ID": "1159",
                                    "Foglalás időtartama": "5",
                                    "Előző foglalás időtartama": "4"
                                },
                                {
                                    "Szoba_ID": "73",
                                    "Foglalás_ID": "1331",
                                    "Foglalás időtartama": "4",
                                    "Előző foglalás időtartama": "5"
                                },
                                {
                                    "Szoba_ID": "74",
                                    "Foglalás_ID": "595",
                                    "Foglalás időtartama": "7",
                                    "Előző foglalás időtartama": "0"
                                },
                                {
                                    "Szoba_ID": "74",
                                    "Foglalás_ID": "797",
                                    "Foglalás időtartama": "5",
                                    "Előző foglalás időtartama": "7"
                                },
                                {
                                    "Szoba_ID": "74",
                                    "Foglalás_ID": "830",
                                    "Foglalás időtartama": "1",
                                    "Előző foglalás időtartama": "5"
                                },
                                {
                                    "Szoba_ID": "74",
                                    "Foglalás_ID": "847",
                                    "Foglalás időtartama": "3",
                                    "Előző foglalás időtartama": "1"
                                },
                                {
                                    "Szoba_ID": "74",
                                    "Foglalás_ID": "877",
                                    "Foglalás időtartama": "4",
                                    "Előző foglalás időtartama": "3"
                                },
                                {
                                    "Szoba_ID": "74",
                                    "Foglalás_ID": "940",
                                    "Foglalás időtartama": "5",
                                    "Előző foglalás időtartama": "4"
                                },
                                {
                                    "Szoba_ID": "74",
                                    "Foglalás_ID": "963",
                                    "Foglalás időtartama": "1",
                                    "Előző foglalás időtartama": "5"
                                },
                                {
                                    "Szoba_ID": "74",
                                    "Foglalás_ID": "1093",
                                    "Foglalás időtartama": "6",
                                    "Előző foglalás időtartama": "1"
                                },
                                {
                                    "Szoba_ID": "74",
                                    "Foglalás_ID": "1179",
                                    "Foglalás időtartama": "7",
                                    "Előző foglalás időtartama": "6"
                                },
                                {
                                    "Szoba_ID": "75",
                                    "Foglalás_ID": "1013",
                                    "Foglalás időtartama": "5",
                                    "Előző foglalás időtartama": "0"
                                },
                                {
                                    "Szoba_ID": "75",
                                    "Foglalás_ID": "1412",
                                    "Foglalás időtartama": "2",
                                    "Előző foglalás időtartama": "5"
                                },
                                {
                                    "Szoba_ID": "75",
                                    "Foglalás_ID": "1458",
                                    "Foglalás időtartama": "1",
                                    "Előző foglalás időtartama": "2"
                                },
                                {
                                    "Szoba_ID": "76",
                                    "Foglalás_ID": "683",
                                    "Foglalás időtartama": "7",
                                    "Előző foglalás időtartama": "0"
                                },
                                {
                                    "Szoba_ID": "76",
                                    "Foglalás_ID": "976",
                                    "Foglalás időtartama": "2",
                                    "Előző foglalás időtartama": "7"
                                },
                                {
                                    "Szoba_ID": "76",
                                    "Foglalás_ID": "1557",
                                    "Foglalás időtartama": "3",
                                    "Előző foglalás időtartama": "2"
                                },
                                {
                                    "Szoba_ID": "77",
                                    "Foglalás_ID": "593",
                                    "Foglalás időtartama": "3",
                                    "Előző foglalás időtartama": "0"
                                },
                                {
                                    "Szoba_ID": "77",
                                    "Foglalás_ID": "698",
                                    "Foglalás időtartama": "4",
                                    "Előző foglalás időtartama": "3"
                                },
                                {
                                    "Szoba_ID": "77",
                                    "Foglalás_ID": "982",
                                    "Foglalás időtartama": "3",
                                    "Előző foglalás időtartama": "4"
                                },
                                {
                                    "Szoba_ID": "77",
                                    "Foglalás_ID": "1104",
                                    "Foglalás időtartama": "1",
                                    "Előző foglalás időtartama": "3"
                                },
                                {
                                    "Szoba_ID": "77",
                                    "Foglalás_ID": "1439",
                                    "Foglalás időtartama": "6",
                                    "Előző foglalás időtartama": "1"
                                },
                                {
                                    "Szoba_ID": "77",
                                    "Foglalás_ID": "1461",
                                    "Foglalás időtartama": "4",
                                    "Előző foglalás időtartama": "6"
                                },
                                {
                                    "Szoba_ID": "78",
                                    "Foglalás_ID": "568",
                                    "Foglalás időtartama": "1",
                                    "Előző foglalás időtartama": "0"
                                },
                                {
                                    "Szoba_ID": "78",
                                    "Foglalás_ID": "646",
                                    "Foglalás időtartama": "3",
                                    "Előző foglalás időtartama": "1"
                                },
                                {
                                    "Szoba_ID": "78",
                                    "Foglalás_ID": "700",
                                    "Foglalás időtartama": "5",
                                    "Előző foglalás időtartama": "3"
                                },
                                {
                                    "Szoba_ID": "78",
                                    "Foglalás_ID": "1268",
                                    "Foglalás időtartama": "2",
                                    "Előző foglalás időtartama": "5"
                                },
                                {
                                    "Szoba_ID": "78",
                                    "Foglalás_ID": "1281",
                                    "Foglalás időtartama": "3",
                                    "Előző foglalás időtartama": "2"
                                },
                                {
                                    "Szoba_ID": "78",
                                    "Foglalás_ID": "1577",
                                    "Foglalás időtartama": "7",
                                    "Előző foglalás időtartama": "3"
                                },
                                {
                                    "Szoba_ID": "79",
                                    "Foglalás_ID": "583",
                                    "Foglalás időtartama": "6",
                                    "Előző foglalás időtartama": "0"
                                },
                                {
                                    "Szoba_ID": "79",
                                    "Foglalás_ID": "1054",
                                    "Foglalás időtartama": "1",
                                    "Előző foglalás időtartama": "6"
                                },
                                {
                                    "Szoba_ID": "79",
                                    "Foglalás_ID": "1229",
                                    "Foglalás időtartama": "7",
                                    "Előző foglalás időtartama": "1"
                                },
                                {
                                    "Szoba_ID": "79",
                                    "Foglalás_ID": "1345",
                                    "Foglalás időtartama": "3",
                                    "Előző foglalás időtartama": "7"
                                },
                                {
                                    "Szoba_ID": "79",
                                    "Foglalás_ID": "1447",
                                    "Foglalás időtartama": "4",
                                    "Előző foglalás időtartama": "3"
                                },
                                {
                                    "Szoba_ID": "80",
                                    "Foglalás_ID": "667",
                                    "Foglalás időtartama": "6",
                                    "Előző foglalás időtartama": "0"
                                },
                                {
                                    "Szoba_ID": "80",
                                    "Foglalás_ID": "887",
                                    "Foglalás időtartama": "6",
                                    "Előző foglalás időtartama": "6"
                                },
                                {
                                    "Szoba_ID": "80",
                                    "Foglalás_ID": "929",
                                    "Foglalás időtartama": "2",
                                    "Előző foglalás időtartama": "6"
                                },
                                {
                                    "Szoba_ID": "80",
                                    "Foglalás_ID": "983",
                                    "Foglalás időtartama": "6",
                                    "Előző foglalás időtartama": "2"
                                },
                                {
                                    "Szoba_ID": "80",
                                    "Foglalás_ID": "1071",
                                    "Foglalás időtartama": "4",
                                    "Előző foglalás időtartama": "6"
                                },
                                {
                                    "Szoba_ID": "80",
                                    "Foglalás_ID": "1279",
                                    "Foglalás időtartama": "5",
                                    "Előző foglalás időtartama": "4"
                                },
                                {
                                    "Szoba_ID": "80",
                                    "Foglalás_ID": "1367",
                                    "Foglalás időtartama": "3",
                                    "Előző foglalás időtartama": "5"
                                },
                                {
                                    "Szoba_ID": "81",
                                    "Foglalás_ID": "1366",
                                    "Foglalás időtartama": "5",
                                    "Előző foglalás időtartama": "0"
                                },
                                {
                                    "Szoba_ID": "81",
                                    "Foglalás_ID": "1443",
                                    "Foglalás időtartama": "7",
                                    "Előző foglalás időtartama": "5"
                                },
                                {
                                    "Szoba_ID": "81",
                                    "Foglalás_ID": "1464",
                                    "Foglalás időtartama": "7",
                                    "Előző foglalás időtartama": "7"
                                },
                                {
                                    "Szoba_ID": "81",
                                    "Foglalás_ID": "1506",
                                    "Foglalás időtartama": "3",
                                    "Előző foglalás időtartama": "7"
                                },
                                {
                                    "Szoba_ID": "81",
                                    "Foglalás_ID": "1562",
                                    "Foglalás időtartama": "3",
                                    "Előző foglalás időtartama": "3"
                                },
                                {
                                    "Szoba_ID": "82",
                                    "Foglalás_ID": "862",
                                    "Foglalás időtartama": "4",
                                    "Előző foglalás időtartama": "0"
                                },
                                {
                                    "Szoba_ID": "82",
                                    "Foglalás_ID": "871",
                                    "Foglalás időtartama": "5",
                                    "Előző foglalás időtartama": "4"
                                },
                                {
                                    "Szoba_ID": "82",
                                    "Foglalás_ID": "997",
                                    "Foglalás időtartama": "6",
                                    "Előző foglalás időtartama": "5"
                                },
                                {
                                    "Szoba_ID": "82",
                                    "Foglalás_ID": "1277",
                                    "Foglalás időtartama": "5",
                                    "Előző foglalás időtartama": "6"
                                },
                                {
                                    "Szoba_ID": "82",
                                    "Foglalás_ID": "1341",
                                    "Foglalás időtartama": "2",
                                    "Előző foglalás időtartama": "5"
                                },
                                {
                                    "Szoba_ID": "82",
                                    "Foglalás_ID": "1406",
                                    "Foglalás időtartama": "1",
                                    "Előző foglalás időtartama": "2"
                                },
                                {
                                    "Szoba_ID": "83",
                                    "Foglalás_ID": "572",
                                    "Foglalás időtartama": "7",
                                    "Előző foglalás időtartama": "0"
                                },
                                {
                                    "Szoba_ID": "83",
                                    "Foglalás_ID": "674",
                                    "Foglalás időtartama": "4",
                                    "Előző foglalás időtartama": "7"
                                },
                                {
                                    "Szoba_ID": "83",
                                    "Foglalás_ID": "798",
                                    "Foglalás időtartama": "4",
                                    "Előző foglalás időtartama": "4"
                                },
                                {
                                    "Szoba_ID": "83",
                                    "Foglalás_ID": "869",
                                    "Foglalás időtartama": "6",
                                    "Előző foglalás időtartama": "4"
                                },
                                {
                                    "Szoba_ID": "83",
                                    "Foglalás_ID": "878",
                                    "Foglalás időtartama": "6",
                                    "Előző foglalás időtartama": "6"
                                },
                                {
                                    "Szoba_ID": "83",
                                    "Foglalás_ID": "995",
                                    "Foglalás időtartama": "5",
                                    "Előző foglalás időtartama": "6"
                                },
                                {
                                    "Szoba_ID": "83",
                                    "Foglalás_ID": "1119",
                                    "Foglalás időtartama": "6",
                                    "Előző foglalás időtartama": "5"
                                },
                                {
                                    "Szoba_ID": "83",
                                    "Foglalás_ID": "1379",
                                    "Foglalás időtartama": "7",
                                    "Előző foglalás időtartama": "6"
                                },
                                {
                                    "Szoba_ID": "84",
                                    "Foglalás_ID": "819",
                                    "Foglalás időtartama": "2",
                                    "Előző foglalás időtartama": "0"
                                },
                                {
                                    "Szoba_ID": "84",
                                    "Foglalás_ID": "954",
                                    "Foglalás időtartama": "5",
                                    "Előző foglalás időtartama": "2"
                                },
                                {
                                    "Szoba_ID": "84",
                                    "Foglalás_ID": "1376",
                                    "Foglalás időtartama": "5",
                                    "Előző foglalás időtartama": "5"
                                },
                                {
                                    "Szoba_ID": "84",
                                    "Foglalás_ID": "1384",
                                    "Foglalás időtartama": "7",
                                    "Előző foglalás időtartama": "5"
                                },
                                {
                                    "Szoba_ID": "85",
                                    "Foglalás_ID": "647",
                                    "Foglalás időtartama": "3",
                                    "Előző foglalás időtartama": "0"
                                },
                                {
                                    "Szoba_ID": "85",
                                    "Foglalás_ID": "1059",
                                    "Foglalás időtartama": "3",
                                    "Előző foglalás időtartama": "3"
                                },
                                {
                                    "Szoba_ID": "85",
                                    "Foglalás_ID": "1320",
                                    "Foglalás időtartama": "1",
                                    "Előző foglalás időtartama": "3"
                                },
                                {
                                    "Szoba_ID": "85",
                                    "Foglalás_ID": "1513",
                                    "Foglalás időtartama": "7",
                                    "Előző foglalás időtartama": "1"
                                },
                                {
                                    "Szoba_ID": "86",
                                    "Foglalás_ID": "859",
                                    "Foglalás időtartama": "1",
                                    "Előző foglalás időtartama": "0"
                                },
                                {
                                    "Szoba_ID": "86",
                                    "Foglalás_ID": "1057",
                                    "Foglalás időtartama": "5",
                                    "Előző foglalás időtartama": "1"
                                },
                                {
                                    "Szoba_ID": "86",
                                    "Foglalás_ID": "1079",
                                    "Foglalás időtartama": "4",
                                    "Előző foglalás időtartama": "5"
                                },
                                {
                                    "Szoba_ID": "86",
                                    "Foglalás_ID": "1108",
                                    "Foglalás időtartama": "1",
                                    "Előző foglalás időtartama": "4"
                                },
                                {
                                    "Szoba_ID": "86",
                                    "Foglalás_ID": "1453",
                                    "Foglalás időtartama": "1",
                                    "Előző foglalás időtartama": "1"
                                },
                                {
                                    "Szoba_ID": "87",
                                    "Foglalás_ID": "558",
                                    "Foglalás időtartama": "4",
                                    "Előző foglalás időtartama": "0"
                                },
                                {
                                    "Szoba_ID": "87",
                                    "Foglalás_ID": "844",
                                    "Foglalás időtartama": "1",
                                    "Előző foglalás időtartama": "4"
                                },
                                {
                                    "Szoba_ID": "87",
                                    "Foglalás_ID": "1103",
                                    "Foglalás időtartama": "3",
                                    "Előző foglalás időtartama": "1"
                                },
                                {
                                    "Szoba_ID": "87",
                                    "Foglalás_ID": "1349",
                                    "Foglalás időtartama": "5",
                                    "Előző foglalás időtartama": "3"
                                },
                                {
                                    "Szoba_ID": "87",
                                    "Foglalás_ID": "1456",
                                    "Foglalás időtartama": "5",
                                    "Előző foglalás időtartama": "5"
                                },
                                {
                                    "Szoba_ID": "88",
                                    "Foglalás_ID": "757",
                                    "Foglalás időtartama": "7",
                                    "Előző foglalás időtartama": "0"
                                },
                                {
                                    "Szoba_ID": "88",
                                    "Foglalás_ID": "866",
                                    "Foglalás időtartama": "2",
                                    "Előző foglalás időtartama": "7"
                                },
                                {
                                    "Szoba_ID": "88",
                                    "Foglalás_ID": "1196",
                                    "Foglalás időtartama": "3",
                                    "Előző foglalás időtartama": "2"
                                },
                                {
                                    "Szoba_ID": "88",
                                    "Foglalás_ID": "1273",
                                    "Foglalás időtartama": "7",
                                    "Előző foglalás időtartama": "3"
                                },
                                {
                                    "Szoba_ID": "88",
                                    "Foglalás_ID": "1300",
                                    "Foglalás időtartama": "3",
                                    "Előző foglalás időtartama": "7"
                                },
                                {
                                    "Szoba_ID": "88",
                                    "Foglalás_ID": "1359",
                                    "Foglalás időtartama": "2",
                                    "Előző foglalás időtartama": "3"
                                },
                                {
                                    "Szoba_ID": "88",
                                    "Foglalás_ID": "1548",
                                    "Foglalás időtartama": "7",
                                    "Előző foglalás időtartama": "2"
                                },
                                {
                                    "Szoba_ID": "88",
                                    "Foglalás_ID": "1575",
                                    "Foglalás időtartama": "6",
                                    "Előző foglalás időtartama": "7"
                                },
                                {
                                    "Szoba_ID": "89",
                                    "Foglalás_ID": "817",
                                    "Foglalás időtartama": "3",
                                    "Előző foglalás időtartama": "0"
                                },
                                {
                                    "Szoba_ID": "89",
                                    "Foglalás_ID": "1037",
                                    "Foglalás időtartama": "7",
                                    "Előző foglalás időtartama": "3"
                                },
                                {
                                    "Szoba_ID": "89",
                                    "Foglalás_ID": "1101",
                                    "Foglalás időtartama": "5",
                                    "Előző foglalás időtartama": "7"
                                },
                                {
                                    "Szoba_ID": "89",
                                    "Foglalás_ID": "1189",
                                    "Foglalás időtartama": "6",
                                    "Előző foglalás időtartama": "5"
                                },
                                {
                                    "Szoba_ID": "89",
                                    "Foglalás_ID": "1253",
                                    "Foglalás időtartama": "2",
                                    "Előző foglalás időtartama": "6"
                                },
                                {
                                    "Szoba_ID": "89",
                                    "Foglalás_ID": "1269",
                                    "Foglalás időtartama": "2",
                                    "Előző foglalás időtartama": "2"
                                },
                                {
                                    "Szoba_ID": "89",
                                    "Foglalás_ID": "1399",
                                    "Foglalás időtartama": "2",
                                    "Előző foglalás időtartama": "2"
                                },
                                {
                                    "Szoba_ID": "89",
                                    "Foglalás_ID": "1521",
                                    "Foglalás időtartama": "7",
                                    "Előző foglalás időtartama": "2"
                                },
                                {
                                    "Szoba_ID": "90",
                                    "Foglalás_ID": "729",
                                    "Foglalás időtartama": "2",
                                    "Előző foglalás időtartama": "0"
                                },
                                {
                                    "Szoba_ID": "90",
                                    "Foglalás_ID": "1174",
                                    "Foglalás időtartama": "7",
                                    "Előző foglalás időtartama": "2"
                                },
                                {
                                    "Szoba_ID": "90",
                                    "Foglalás_ID": "1299",
                                    "Foglalás időtartama": "6",
                                    "Előző foglalás időtartama": "7"
                                },
                                {
                                    "Szoba_ID": "90",
                                    "Foglalás_ID": "1405",
                                    "Foglalás időtartama": "5",
                                    "Előző foglalás időtartama": "6"
                                },
                                {
                                    "Szoba_ID": "91",
                                    "Foglalás_ID": "636",
                                    "Foglalás időtartama": "6",
                                    "Előző foglalás időtartama": "0"
                                },
                                {
                                    "Szoba_ID": "91",
                                    "Foglalás_ID": "732",
                                    "Foglalás időtartama": "4",
                                    "Előző foglalás időtartama": "6"
                                },
                                {
                                    "Szoba_ID": "91",
                                    "Foglalás_ID": "1213",
                                    "Foglalás időtartama": "3",
                                    "Előző foglalás időtartama": "4"
                                },
                                {
                                    "Szoba_ID": "91",
                                    "Foglalás_ID": "1397",
                                    "Foglalás időtartama": "4",
                                    "Előző foglalás időtartama": "3"
                                },
                                {
                                    "Szoba_ID": "92",
                                    "Foglalás_ID": "809",
                                    "Foglalás időtartama": "3",
                                    "Előző foglalás időtartama": "0"
                                },
                                {
                                    "Szoba_ID": "92",
                                    "Foglalás_ID": "841",
                                    "Foglalás időtartama": "6",
                                    "Előző foglalás időtartama": "3"
                                },
                                {
                                    "Szoba_ID": "92",
                                    "Foglalás_ID": "942",
                                    "Foglalás időtartama": "6",
                                    "Előző foglalás időtartama": "6"
                                },
                                {
                                    "Szoba_ID": "92",
                                    "Foglalás_ID": "1016",
                                    "Foglalás időtartama": "2",
                                    "Előző foglalás időtartama": "6"
                                },
                                {
                                    "Szoba_ID": "92",
                                    "Foglalás_ID": "1527",
                                    "Foglalás időtartama": "2",
                                    "Előző foglalás időtartama": "2"
                                },
                                {
                                    "Szoba_ID": "92",
                                    "Foglalás_ID": "1555",
                                    "Foglalás időtartama": "4",
                                    "Előző foglalás időtartama": "2"
                                },
                                {
                                    "Szoba_ID": "93",
                                    "Foglalás_ID": "741",
                                    "Foglalás időtartama": "7",
                                    "Előző foglalás időtartama": "0"
                                },
                                {
                                    "Szoba_ID": "93",
                                    "Foglalás_ID": "1169",
                                    "Foglalás időtartama": "4",
                                    "Előző foglalás időtartama": "7"
                                },
                                {
                                    "Szoba_ID": "93",
                                    "Foglalás_ID": "1217",
                                    "Foglalás időtartama": "1",
                                    "Előző foglalás időtartama": "4"
                                },
                                {
                                    "Szoba_ID": "93",
                                    "Foglalás_ID": "1355",
                                    "Foglalás időtartama": "2",
                                    "Előző foglalás időtartama": "1"
                                },
                                {
                                    "Szoba_ID": "93",
                                    "Foglalás_ID": "1391",
                                    "Foglalás időtartama": "4",
                                    "Előző foglalás időtartama": "2"
                                },
                                {
                                    "Szoba_ID": "94",
                                    "Foglalás_ID": "616",
                                    "Foglalás időtartama": "4",
                                    "Előző foglalás időtartama": "0"
                                },
                                {
                                    "Szoba_ID": "94",
                                    "Foglalás_ID": "665",
                                    "Foglalás időtartama": "7",
                                    "Előző foglalás időtartama": "4"
                                },
                                {
                                    "Szoba_ID": "94",
                                    "Foglalás_ID": "727",
                                    "Foglalás időtartama": "3",
                                    "Előző foglalás időtartama": "7"
                                },
                                {
                                    "Szoba_ID": "94",
                                    "Foglalás_ID": "975",
                                    "Foglalás időtartama": "5",
                                    "Előző foglalás időtartama": "3"
                                },
                                {
                                    "Szoba_ID": "94",
                                    "Foglalás_ID": "1241",
                                    "Foglalás időtartama": "7",
                                    "Előző foglalás időtartama": "5"
                                },
                                {
                                    "Szoba_ID": "94",
                                    "Foglalás_ID": "1305",
                                    "Foglalás időtartama": "2",
                                    "Előző foglalás időtartama": "7"
                                },
                                {
                                    "Szoba_ID": "94",
                                    "Foglalás_ID": "1312",
                                    "Foglalás időtartama": "3",
                                    "Előző foglalás időtartama": "2"
                                },
                                {
                                    "Szoba_ID": "94",
                                    "Foglalás_ID": "1368",
                                    "Foglalás időtartama": "1",
                                    "Előző foglalás időtartama": "3"
                                },
                                {
                                    "Szoba_ID": "94",
                                    "Foglalás_ID": "1518",
                                    "Foglalás időtartama": "2",
                                    "Előző foglalás időtartama": "1"
                                },
                                {
                                    "Szoba_ID": "94",
                                    "Foglalás_ID": "1564",
                                    "Foglalás időtartama": "7",
                                    "Előző foglalás időtartama": "2"
                                },
                                {
                                    "Szoba_ID": "95",
                                    "Foglalás_ID": "656",
                                    "Foglalás időtartama": "7",
                                    "Előző foglalás időtartama": "0"
                                },
                                {
                                    "Szoba_ID": "95",
                                    "Foglalás_ID": "1048",
                                    "Foglalás időtartama": "3",
                                    "Előző foglalás időtartama": "7"
                                },
                                {
                                    "Szoba_ID": "95",
                                    "Foglalás_ID": "1097",
                                    "Foglalás időtartama": "4",
                                    "Előző foglalás időtartama": "3"
                                },
                                {
                                    "Szoba_ID": "95",
                                    "Foglalás_ID": "1543",
                                    "Foglalás időtartama": "7",
                                    "Előző foglalás időtartama": "4"
                                },
                                {
                                    "Szoba_ID": "96",
                                    "Foglalás_ID": "607",
                                    "Foglalás időtartama": "4",
                                    "Előző foglalás időtartama": "0"
                                },
                                {
                                    "Szoba_ID": "96",
                                    "Foglalás_ID": "623",
                                    "Foglalás időtartama": "7",
                                    "Előző foglalás időtartama": "4"
                                },
                                {
                                    "Szoba_ID": "96",
                                    "Foglalás_ID": "671",
                                    "Foglalás időtartama": "4",
                                    "Előző foglalás időtartama": "7"
                                },
                                {
                                    "Szoba_ID": "96",
                                    "Foglalás_ID": "780",
                                    "Foglalás időtartama": "1",
                                    "Előző foglalás időtartama": "4"
                                },
                                {
                                    "Szoba_ID": "96",
                                    "Foglalás_ID": "1378",
                                    "Foglalás időtartama": "3",
                                    "Előző foglalás időtartama": "1"
                                },
                                {
                                    "Szoba_ID": "96",
                                    "Foglalás_ID": "1438",
                                    "Foglalás időtartama": "2",
                                    "Előző foglalás időtartama": "3"
                                },
                                {
                                    "Szoba_ID": "96",
                                    "Foglalás_ID": "1569",
                                    "Foglalás időtartama": "7",
                                    "Előző foglalás időtartama": "2"
                                },
                                {
                                    "Szoba_ID": "97",
                                    "Foglalás_ID": "635",
                                    "Foglalás időtartama": "3",
                                    "Előző foglalás időtartama": "0"
                                },
                                {
                                    "Szoba_ID": "97",
                                    "Foglalás_ID": "718",
                                    "Foglalás időtartama": "7",
                                    "Előző foglalás időtartama": "3"
                                },
                                {
                                    "Szoba_ID": "97",
                                    "Foglalás_ID": "726",
                                    "Foglalás időtartama": "4",
                                    "Előző foglalás időtartama": "7"
                                },
                                {
                                    "Szoba_ID": "97",
                                    "Foglalás_ID": "836",
                                    "Foglalás időtartama": "2",
                                    "Előző foglalás időtartama": "4"
                                },
                                {
                                    "Szoba_ID": "97",
                                    "Foglalás_ID": "1395",
                                    "Foglalás időtartama": "1",
                                    "Előző foglalás időtartama": "2"
                                },
                                {
                                    "Szoba_ID": "97",
                                    "Foglalás_ID": "1417",
                                    "Foglalás időtartama": "7",
                                    "Előző foglalás időtartama": "1"
                                },
                                {
                                    "Szoba_ID": "97",
                                    "Foglalás_ID": "1528",
                                    "Foglalás időtartama": "2",
                                    "Előző foglalás időtartama": "7"
                                },
                                {
                                    "Szoba_ID": "98",
                                    "Foglalás_ID": "631",
                                    "Foglalás időtartama": "6",
                                    "Előző foglalás időtartama": "0"
                                },
                                {
                                    "Szoba_ID": "98",
                                    "Foglalás_ID": "884",
                                    "Foglalás időtartama": "5",
                                    "Előző foglalás időtartama": "6"
                                },
                                {
                                    "Szoba_ID": "98",
                                    "Foglalás_ID": "1050",
                                    "Foglalás időtartama": "6",
                                    "Előző foglalás időtartama": "5"
                                },
                                {
                                    "Szoba_ID": "98",
                                    "Foglalás_ID": "1402",
                                    "Foglalás időtartama": "2",
                                    "Előző foglalás időtartama": "6"
                                },
                                {
                                    "Szoba_ID": "99",
                                    "Foglalás_ID": "632",
                                    "Foglalás időtartama": "1",
                                    "Előző foglalás időtartama": "0"
                                },
                                {
                                    "Szoba_ID": "99",
                                    "Foglalás_ID": "691",
                                    "Foglalás időtartama": "5",
                                    "Előző foglalás időtartama": "1"
                                },
                                {
                                    "Szoba_ID": "99",
                                    "Foglalás_ID": "1072",
                                    "Foglalás időtartama": "1",
                                    "Előző foglalás időtartama": "5"
                                },
                                {
                                    "Szoba_ID": "99",
                                    "Foglalás_ID": "1408",
                                    "Foglalás időtartama": "1",
                                    "Előző foglalás időtartama": "1"
                                },
                                {
                                    "Szoba_ID": "99",
                                    "Foglalás_ID": "1486",
                                    "Foglalás időtartama": "5",
                                    "Előző foglalás időtartama": "1"
                                },
                                {
                                    "Szoba_ID": "100",
                                    "Foglalás_ID": "597",
                                    "Foglalás időtartama": "1",
                                    "Előző foglalás időtartama": "0"
                                },
                                {
                                    "Szoba_ID": "100",
                                    "Foglalás_ID": "637",
                                    "Foglalás időtartama": "5",
                                    "Előző foglalás időtartama": "1"
                                },
                                {
                                    "Szoba_ID": "100",
                                    "Foglalás_ID": "1315",
                                    "Foglalás időtartama": "5",
                                    "Előző foglalás időtartama": "5"
                                },
                                {
                                    "Szoba_ID": "100",
                                    "Foglalás_ID": "1482",
                                    "Foglalás időtartama": "7",
                                    "Előző foglalás időtartama": "5"
                                },
                                {
                                    "Szoba_ID": "101",
                                    "Foglalás_ID": "715",
                                    "Foglalás időtartama": "3",
                                    "Előző foglalás időtartama": "0"
                                },
                                {
                                    "Szoba_ID": "101",
                                    "Foglalás_ID": "1332",
                                    "Foglalás időtartama": "6",
                                    "Előző foglalás időtartama": "3"
                                },
                                {
                                    "Szoba_ID": "101",
                                    "Foglalás_ID": "1516",
                                    "Foglalás időtartama": "4",
                                    "Előző foglalás időtartama": "6"
                                },
                                {
                                    "Szoba_ID": "102",
                                    "Foglalás_ID": "689",
                                    "Foglalás időtartama": "5",
                                    "Előző foglalás időtartama": "0"
                                },
                                {
                                    "Szoba_ID": "102",
                                    "Foglalás_ID": "1343",
                                    "Foglalás időtartama": "2",
                                    "Előző foglalás időtartama": "5"
                                },
                                {
                                    "Szoba_ID": "103",
                                    "Foglalás_ID": "972",
                                    "Foglalás időtartama": "2",
                                    "Előző foglalás időtartama": "0"
                                },
                                {
                                    "Szoba_ID": "103",
                                    "Foglalás_ID": "992",
                                    "Foglalás időtartama": "7",
                                    "Előző foglalás időtartama": "2"
                                },
                                {
                                    "Szoba_ID": "103",
                                    "Foglalás_ID": "1398",
                                    "Foglalás időtartama": "1",
                                    "Előző foglalás időtartama": "7"
                                },
                                {
                                    "Szoba_ID": "103",
                                    "Foglalás_ID": "1485",
                                    "Foglalás időtartama": "4",
                                    "Előző foglalás időtartama": "1"
                                },
                                {
                                    "Szoba_ID": "104",
                                    "Foglalás_ID": "837",
                                    "Foglalás időtartama": "4",
                                    "Előző foglalás időtartama": "0"
                                },
                                {
                                    "Szoba_ID": "104",
                                    "Foglalás_ID": "1180",
                                    "Foglalás időtartama": "1",
                                    "Előző foglalás időtartama": "4"
                                },
                                {
                                    "Szoba_ID": "104",
                                    "Foglalás_ID": "1522",
                                    "Foglalás időtartama": "2",
                                    "Előző foglalás időtartama": "1"
                                },
                                {
                                    "Szoba_ID": "104",
                                    "Foglalás_ID": "1532",
                                    "Foglalás időtartama": "3",
                                    "Előző foglalás időtartama": "2"
                                },
                                {
                                    "Szoba_ID": "105",
                                    "Foglalás_ID": "618",
                                    "Foglalás időtartama": "1",
                                    "Előző foglalás időtartama": "0"
                                },
                                {
                                    "Szoba_ID": "105",
                                    "Foglalás_ID": "1525",
                                    "Foglalás időtartama": "5",
                                    "Előző foglalás időtartama": "1"
                                },
                                {
                                    "Szoba_ID": "106",
                                    "Foglalás_ID": "610",
                                    "Foglalás időtartama": "3",
                                    "Előző foglalás időtartama": "0"
                                },
                                {
                                    "Szoba_ID": "106",
                                    "Foglalás_ID": "708",
                                    "Foglalás időtartama": "7",
                                    "Előző foglalás időtartama": "3"
                                },
                                {
                                    "Szoba_ID": "106",
                                    "Foglalás_ID": "1228",
                                    "Foglalás időtartama": "7",
                                    "Előző foglalás időtartama": "7"
                                },
                                {
                                    "Szoba_ID": "106",
                                    "Foglalás_ID": "1271",
                                    "Foglalás időtartama": "5",
                                    "Előző foglalás időtartama": "7"
                                },
                                {
                                    "Szoba_ID": "106",
                                    "Foglalás_ID": "1372",
                                    "Foglalás időtartama": "7",
                                    "Előző foglalás időtartama": "5"
                                },
                                {
                                    "Szoba_ID": "106",
                                    "Foglalás_ID": "1510",
                                    "Foglalás időtartama": "6",
                                    "Előző foglalás időtartama": "7"
                                },
                                {
                                    "Szoba_ID": "107",
                                    "Foglalás_ID": "586",
                                    "Foglalás időtartama": "6",
                                    "Előző foglalás időtartama": "0"
                                },
                                {
                                    "Szoba_ID": "107",
                                    "Foglalás_ID": "1250",
                                    "Foglalás időtartama": "4",
                                    "Előző foglalás időtartama": "6"
                                },
                                {
                                    "Szoba_ID": "107",
                                    "Foglalás_ID": "1354",
                                    "Foglalás időtartama": "1",
                                    "Előző foglalás időtartama": "4"
                                },
                                {
                                    "Szoba_ID": "107",
                                    "Foglalás_ID": "1452",
                                    "Foglalás időtartama": "6",
                                    "Előző foglalás időtartama": "1"
                                },
                                {
                                    "Szoba_ID": "107",
                                    "Foglalás_ID": "1494",
                                    "Foglalás időtartama": "2",
                                    "Előző foglalás időtartama": "6"
                                },
                                {
                                    "Szoba_ID": "108",
                                    "Foglalás_ID": "1102",
                                    "Foglalás időtartama": "1",
                                    "Előző foglalás időtartama": "0"
                                },
                                {
                                    "Szoba_ID": "108",
                                    "Foglalás_ID": "1392",
                                    "Foglalás időtartama": "6",
                                    "Előző foglalás időtartama": "1"
                                },
                                {
                                    "Szoba_ID": "109",
                                    "Foglalás_ID": "614",
                                    "Foglalás időtartama": "4",
                                    "Előző foglalás időtartama": "0"
                                },
                                {
                                    "Szoba_ID": "109",
                                    "Foglalás_ID": "621",
                                    "Foglalás időtartama": "7",
                                    "Előző foglalás időtartama": "4"
                                },
                                {
                                    "Szoba_ID": "109",
                                    "Foglalás_ID": "654",
                                    "Foglalás időtartama": "5",
                                    "Előző foglalás időtartama": "7"
                                },
                                {
                                    "Szoba_ID": "109",
                                    "Foglalás_ID": "810",
                                    "Foglalás időtartama": "2",
                                    "Előző foglalás időtartama": "5"
                                },
                                {
                                    "Szoba_ID": "109",
                                    "Foglalás_ID": "1083",
                                    "Foglalás időtartama": "1",
                                    "Előző foglalás időtartama": "2"
                                },
                                {
                                    "Szoba_ID": "109",
                                    "Foglalás_ID": "1298",
                                    "Foglalás időtartama": "4",
                                    "Előző foglalás időtartama": "1"
                                },
                                {
                                    "Szoba_ID": "109",
                                    "Foglalás_ID": "1560",
                                    "Foglalás időtartama": "1",
                                    "Előző foglalás időtartama": "4"
                                },
                                {
                                    "Szoba_ID": "110",
                                    "Foglalás_ID": "685",
                                    "Foglalás időtartama": "1",
                                    "Előző foglalás időtartama": "0"
                                },
                                {
                                    "Szoba_ID": "110",
                                    "Foglalás_ID": "931",
                                    "Foglalás időtartama": "5",
                                    "Előző foglalás időtartama": "1"
                                },
                                {
                                    "Szoba_ID": "110",
                                    "Foglalás_ID": "964",
                                    "Foglalás időtartama": "6",
                                    "Előző foglalás időtartama": "5"
                                },
                                {
                                    "Szoba_ID": "110",
                                    "Foglalás_ID": "1041",
                                    "Foglalás időtartama": "3",
                                    "Előző foglalás időtartama": "6"
                                },
                                {
                                    "Szoba_ID": "110",
                                    "Foglalás_ID": "1109",
                                    "Foglalás időtartama": "5",
                                    "Előző foglalás időtartama": "3"
                                },
                                {
                                    "Szoba_ID": "110",
                                    "Foglalás_ID": "1162",
                                    "Foglalás időtartama": "2",
                                    "Előző foglalás időtartama": "5"
                                },
                                {
                                    "Szoba_ID": "110",
                                    "Foglalás_ID": "1424",
                                    "Foglalás időtartama": "1",
                                    "Előző foglalás időtartama": "2"
                                },
                                {
                                    "Szoba_ID": "110",
                                    "Foglalás_ID": "1489",
                                    "Foglalás időtartama": "6",
                                    "Előző foglalás időtartama": "1"
                                },
                                {
                                    "Szoba_ID": "111",
                                    "Foglalás_ID": "605",
                                    "Foglalás időtartama": "7",
                                    "Előző foglalás időtartama": "0"
                                },
                                {
                                    "Szoba_ID": "111",
                                    "Foglalás_ID": "786",
                                    "Foglalás időtartama": "4",
                                    "Előző foglalás időtartama": "7"
                                },
                                {
                                    "Szoba_ID": "111",
                                    "Foglalás_ID": "959",
                                    "Foglalás időtartama": "7",
                                    "Előző foglalás időtartama": "4"
                                },
                                {
                                    "Szoba_ID": "111",
                                    "Foglalás_ID": "1296",
                                    "Foglalás időtartama": "3",
                                    "Előző foglalás időtartama": "7"
                                },
                                {
                                    "Szoba_ID": "111",
                                    "Foglalás_ID": "1353",
                                    "Foglalás időtartama": "5",
                                    "Előző foglalás időtartama": "3"
                                },
                                {
                                    "Szoba_ID": "112",
                                    "Foglalás_ID": "776",
                                    "Foglalás időtartama": "4",
                                    "Előző foglalás időtartama": "0"
                                },
                                {
                                    "Szoba_ID": "112",
                                    "Foglalás_ID": "801",
                                    "Foglalás időtartama": "5",
                                    "Előző foglalás időtartama": "4"
                                },
                                {
                                    "Szoba_ID": "112",
                                    "Foglalás_ID": "921",
                                    "Foglalás időtartama": "1",
                                    "Előző foglalás időtartama": "5"
                                },
                                {
                                    "Szoba_ID": "112",
                                    "Foglalás_ID": "1124",
                                    "Foglalás időtartama": "6",
                                    "Előző foglalás időtartama": "1"
                                },
                                {
                                    "Szoba_ID": "112",
                                    "Foglalás_ID": "1530",
                                    "Foglalás időtartama": "6",
                                    "Előző foglalás időtartama": "6"
                                },
                                {
                                    "Szoba_ID": "113",
                                    "Foglalás_ID": "1029",
                                    "Foglalás időtartama": "5",
                                    "Előző foglalás időtartama": "0"
                                },
                                {
                                    "Szoba_ID": "113",
                                    "Foglalás_ID": "1085",
                                    "Foglalás időtartama": "4",
                                    "Előző foglalás időtartama": "5"
                                },
                                {
                                    "Szoba_ID": "113",
                                    "Foglalás_ID": "1263",
                                    "Foglalás időtartama": "1",
                                    "Előző foglalás időtartama": "4"
                                },
                                {
                                    "Szoba_ID": "113",
                                    "Foglalás_ID": "1495",
                                    "Foglalás időtartama": "7",
                                    "Előző foglalás időtartama": "1"
                                },
                                {
                                    "Szoba_ID": "113",
                                    "Foglalás_ID": "1499",
                                    "Foglalás időtartama": "2",
                                    "Előző foglalás időtartama": "7"
                                },
                                {
                                    "Szoba_ID": "114",
                                    "Foglalás_ID": "737",
                                    "Foglalás időtartama": "2",
                                    "Előző foglalás időtartama": "0"
                                },
                                {
                                    "Szoba_ID": "114",
                                    "Foglalás_ID": "827",
                                    "Foglalás időtartama": "7",
                                    "Előző foglalás időtartama": "2"
                                },
                                {
                                    "Szoba_ID": "114",
                                    "Foglalás_ID": "966",
                                    "Foglalás időtartama": "6",
                                    "Előző foglalás időtartama": "7"
                                },
                                {
                                    "Szoba_ID": "114",
                                    "Foglalás_ID": "1540",
                                    "Foglalás időtartama": "3",
                                    "Előző foglalás időtartama": "6"
                                },
                                {
                                    "Szoba_ID": "115",
                                    "Foglalás_ID": "596",
                                    "Foglalás időtartama": "7",
                                    "Előző foglalás időtartama": "0"
                                },
                                {
                                    "Szoba_ID": "115",
                                    "Foglalás_ID": "943",
                                    "Foglalás időtartama": "7",
                                    "Előző foglalás időtartama": "7"
                                },
                                {
                                    "Szoba_ID": "115",
                                    "Foglalás_ID": "1121",
                                    "Foglalás időtartama": "7",
                                    "Előző foglalás időtartama": "7"
                                },
                                {
                                    "Szoba_ID": "115",
                                    "Foglalás_ID": "1154",
                                    "Foglalás időtartama": "4",
                                    "Előző foglalás időtartama": "7"
                                },
                                {
                                    "Szoba_ID": "115",
                                    "Foglalás_ID": "1352",
                                    "Foglalás időtartama": "3",
                                    "Előző foglalás időtartama": "4"
                                },
                                {
                                    "Szoba_ID": "115",
                                    "Foglalás_ID": "1554",
                                    "Foglalás időtartama": "3",
                                    "Előző foglalás időtartama": "3"
                                },
                                {
                                    "Szoba_ID": "115",
                                    "Foglalás_ID": "1566",
                                    "Foglalás időtartama": "1",
                                    "Előző foglalás időtartama": "3"
                                },
                                {
                                    "Szoba_ID": "116",
                                    "Foglalás_ID": "1455",
                                    "Foglalás időtartama": "2",
                                    "Előző foglalás időtartama": "0"
                                },
                                {
                                    "Szoba_ID": "116",
                                    "Foglalás_ID": "1501",
                                    "Foglalás időtartama": "4",
                                    "Előző foglalás időtartama": "2"
                                },
                                {
                                    "Szoba_ID": "117",
                                    "Foglalás_ID": "612",
                                    "Foglalás időtartama": "2",
                                    "Előző foglalás időtartama": "0"
                                },
                                {
                                    "Szoba_ID": "117",
                                    "Foglalás_ID": "617",
                                    "Foglalás időtartama": "3",
                                    "Előző foglalás időtartama": "2"
                                },
                                {
                                    "Szoba_ID": "117",
                                    "Foglalás_ID": "953",
                                    "Foglalás időtartama": "5",
                                    "Előző foglalás időtartama": "3"
                                },
                                {
                                    "Szoba_ID": "117",
                                    "Foglalás_ID": "962",
                                    "Foglalás időtartama": "4",
                                    "Előző foglalás időtartama": "5"
                                },
                                {
                                    "Szoba_ID": "117",
                                    "Foglalás_ID": "1002",
                                    "Foglalás időtartama": "1",
                                    "Előző foglalás időtartama": "4"
                                },
                                {
                                    "Szoba_ID": "117",
                                    "Foglalás_ID": "1192",
                                    "Foglalás időtartama": "2",
                                    "Előző foglalás időtartama": "1"
                                },
                                {
                                    "Szoba_ID": "117",
                                    "Foglalás_ID": "1247",
                                    "Foglalás időtartama": "3",
                                    "Előző foglalás időtartama": "2"
                                },
                                {
                                    "Szoba_ID": "117",
                                    "Foglalás_ID": "1468",
                                    "Foglalás időtartama": "7",
                                    "Előző foglalás időtartama": "3"
                                },
                                {
                                    "Szoba_ID": "118",
                                    "Foglalás_ID": "716",
                                    "Foglalás időtartama": "1",
                                    "Előző foglalás időtartama": "0"
                                },
                                {
                                    "Szoba_ID": "118",
                                    "Foglalás_ID": "864",
                                    "Foglalás időtartama": "6",
                                    "Előző foglalás időtartama": "1"
                                },
                                {
                                    "Szoba_ID": "118",
                                    "Foglalás_ID": "994",
                                    "Foglalás időtartama": "7",
                                    "Előző foglalás időtartama": "6"
                                },
                                {
                                    "Szoba_ID": "118",
                                    "Foglalás_ID": "996",
                                    "Foglalás időtartama": "3",
                                    "Előző foglalás időtartama": "7"
                                },
                                {
                                    "Szoba_ID": "118",
                                    "Foglalás_ID": "1374",
                                    "Foglalás időtartama": "5",
                                    "Előző foglalás időtartama": "3"
                                },
                                {
                                    "Szoba_ID": "118",
                                    "Foglalás_ID": "1472",
                                    "Foglalás időtartama": "6",
                                    "Előző foglalás időtartama": "5"
                                },
                                {
                                    "Szoba_ID": "118",
                                    "Foglalás_ID": "1481",
                                    "Foglalás időtartama": "3",
                                    "Előző foglalás időtartama": "6"
                                },
                                {
                                    "Szoba_ID": "119",
                                    "Foglalás_ID": "706",
                                    "Foglalás időtartama": "2",
                                    "Előző foglalás időtartama": "0"
                                },
                                {
                                    "Szoba_ID": "119",
                                    "Foglalás_ID": "722",
                                    "Foglalás időtartama": "1",
                                    "Előző foglalás időtartama": "2"
                                },
                                {
                                    "Szoba_ID": "119",
                                    "Foglalás_ID": "1026",
                                    "Foglalás időtartama": "3",
                                    "Előző foglalás időtartama": "1"
                                },
                                {
                                    "Szoba_ID": "119",
                                    "Foglalás_ID": "1413",
                                    "Foglalás időtartama": "3",
                                    "Előző foglalás időtartama": "3"
                                },
                                {
                                    "Szoba_ID": "119",
                                    "Foglalás_ID": "1488",
                                    "Foglalás időtartama": "3",
                                    "Előző foglalás időtartama": "3"
                                },
                                {
                                    "Szoba_ID": "120",
                                    "Foglalás_ID": "762",
                                    "Foglalás időtartama": "3",
                                    "Előző foglalás időtartama": "0"
                                },
                                {
                                    "Szoba_ID": "120",
                                    "Foglalás_ID": "998",
                                    "Foglalás időtartama": "3",
                                    "Előző foglalás időtartama": "3"
                                },
                                {
                                    "Szoba_ID": "120",
                                    "Foglalás_ID": "1089",
                                    "Foglalás időtartama": "6",
                                    "Előző foglalás időtartama": "3"
                                },
                                {
                                    "Szoba_ID": "120",
                                    "Foglalás_ID": "1339",
                                    "Foglalás időtartama": "6",
                                    "Előző foglalás időtartama": "6"
                                },
                                {
                                    "Szoba_ID": "120",
                                    "Foglalás_ID": "1483",
                                    "Foglalás időtartama": "1",
                                    "Előző foglalás időtartama": "6"
                                },
                                {
                                    "Szoba_ID": "120",
                                    "Foglalás_ID": "1493",
                                    "Foglalás időtartama": "7",
                                    "Előző foglalás időtartama": "1"
                                },
                                {
                                    "Szoba_ID": "121",
                                    "Foglalás_ID": "735",
                                    "Foglalás időtartama": "6",
                                    "Előző foglalás időtartama": "0"
                                },
                                {
                                    "Szoba_ID": "121",
                                    "Foglalás_ID": "739",
                                    "Foglalás időtartama": "6",
                                    "Előző foglalás időtartama": "6"
                                },
                                {
                                    "Szoba_ID": "121",
                                    "Foglalás_ID": "858",
                                    "Foglalás időtartama": "5",
                                    "Előző foglalás időtartama": "6"
                                },
                                {
                                    "Szoba_ID": "121",
                                    "Foglalás_ID": "1049",
                                    "Foglalás időtartama": "3",
                                    "Előző foglalás időtartama": "5"
                                },
                                {
                                    "Szoba_ID": "121",
                                    "Foglalás_ID": "1128",
                                    "Foglalás időtartama": "4",
                                    "Előző foglalás időtartama": "3"
                                },
                                {
                                    "Szoba_ID": "121",
                                    "Foglalás_ID": "1215",
                                    "Foglalás időtartama": "4",
                                    "Előző foglalás időtartama": "4"
                                },
                                {
                                    "Szoba_ID": "121",
                                    "Foglalás_ID": "1373",
                                    "Foglalás időtartama": "5",
                                    "Előző foglalás időtartama": "4"
                                },
                                {
                                    "Szoba_ID": "121",
                                    "Foglalás_ID": "1393",
                                    "Foglalás időtartama": "6",
                                    "Előző foglalás időtartama": "5"
                                },
                                {
                                    "Szoba_ID": "122",
                                    "Foglalás_ID": "1007",
                                    "Foglalás időtartama": "2",
                                    "Előző foglalás időtartama": "0"
                                },
                                {
                                    "Szoba_ID": "122",
                                    "Foglalás_ID": "1036",
                                    "Foglalás időtartama": "2",
                                    "Előző foglalás időtartama": "2"
                                },
                                {
                                    "Szoba_ID": "122",
                                    "Foglalás_ID": "1062",
                                    "Foglalás időtartama": "3",
                                    "Előző foglalás időtartama": "2"
                                },
                                {
                                    "Szoba_ID": "122",
                                    "Foglalás_ID": "1166",
                                    "Foglalás időtartama": "4",
                                    "Előző foglalás időtartama": "3"
                                },
                                {
                                    "Szoba_ID": "122",
                                    "Foglalás_ID": "1209",
                                    "Foglalás időtartama": "1",
                                    "Előző foglalás időtartama": "4"
                                },
                                {
                                    "Szoba_ID": "122",
                                    "Foglalás_ID": "1245",
                                    "Foglalás időtartama": "2",
                                    "Előző foglalás időtartama": "1"
                                },
                                {
                                    "Szoba_ID": "122",
                                    "Foglalás_ID": "1337",
                                    "Foglalás időtartama": "2",
                                    "Előző foglalás időtartama": "2"
                                },
                                {
                                    "Szoba_ID": "122",
                                    "Foglalás_ID": "1385",
                                    "Foglalás időtartama": "5",
                                    "Előző foglalás időtartama": "2"
                                },
                                {
                                    "Szoba_ID": "122",
                                    "Foglalás_ID": "1440",
                                    "Foglalás időtartama": "3",
                                    "Előző foglalás időtartama": "5"
                                },
                                {
                                    "Szoba_ID": "123",
                                    "Foglalás_ID": "587",
                                    "Foglalás időtartama": "7",
                                    "Előző foglalás időtartama": "0"
                                },
                                {
                                    "Szoba_ID": "123",
                                    "Foglalás_ID": "923",
                                    "Foglalás időtartama": "4",
                                    "Előző foglalás időtartama": "7"
                                },
                                {
                                    "Szoba_ID": "123",
                                    "Foglalás_ID": "967",
                                    "Foglalás időtartama": "5",
                                    "Előző foglalás időtartama": "4"
                                },
                                {
                                    "Szoba_ID": "123",
                                    "Foglalás_ID": "1223",
                                    "Foglalás időtartama": "1",
                                    "Előző foglalás időtartama": "5"
                                },
                                {
                                    "Szoba_ID": "123",
                                    "Foglalás_ID": "1282",
                                    "Foglalás időtartama": "6",
                                    "Előző foglalás időtartama": "1"
                                },
                                {
                                    "Szoba_ID": "124",
                                    "Foglalás_ID": "861",
                                    "Foglalás időtartama": "1",
                                    "Előző foglalás időtartama": "0"
                                },
                                {
                                    "Szoba_ID": "124",
                                    "Foglalás_ID": "1210",
                                    "Foglalás időtartama": "4",
                                    "Előző foglalás időtartama": "1"
                                },
                                {
                                    "Szoba_ID": "124",
                                    "Foglalás_ID": "1330",
                                    "Foglalás időtartama": "7",
                                    "Előző foglalás időtartama": "4"
                                },
                                {
                                    "Szoba_ID": "124",
                                    "Foglalás_ID": "1403",
                                    "Foglalás időtartama": "6",
                                    "Előző foglalás időtartama": "7"
                                },
                                {
                                    "Szoba_ID": "124",
                                    "Foglalás_ID": "1419",
                                    "Foglalás időtartama": "3",
                                    "Előző foglalás időtartama": "6"
                                },
                                {
                                    "Szoba_ID": "124",
                                    "Foglalás_ID": "1531",
                                    "Foglalás időtartama": "6",
                                    "Előző foglalás időtartama": "3"
                                },
                                {
                                    "Szoba_ID": "125",
                                    "Foglalás_ID": "576",
                                    "Foglalás időtartama": "1",
                                    "Előző foglalás időtartama": "0"
                                },
                                {
                                    "Szoba_ID": "126",
                                    "Foglalás_ID": "754",
                                    "Foglalás időtartama": "4",
                                    "Előző foglalás időtartama": "0"
                                },
                                {
                                    "Szoba_ID": "126",
                                    "Foglalás_ID": "806",
                                    "Foglalás időtartama": "6",
                                    "Előző foglalás időtartama": "4"
                                },
                                {
                                    "Szoba_ID": "126",
                                    "Foglalás_ID": "1134",
                                    "Foglalás időtartama": "1",
                                    "Előző foglalás időtartama": "6"
                                },
                                {
                                    "Szoba_ID": "126",
                                    "Foglalás_ID": "1364",
                                    "Foglalás időtartama": "6",
                                    "Előző foglalás időtartama": "1"
                                },
                                {
                                    "Szoba_ID": "126",
                                    "Foglalás_ID": "1428",
                                    "Foglalás időtartama": "7",
                                    "Előző foglalás időtartama": "6"
                                },
                                {
                                    "Szoba_ID": "126",
                                    "Foglalás_ID": "1500",
                                    "Foglalás időtartama": "4",
                                    "Előző foglalás időtartama": "7"
                                },
                                {
                                    "Szoba_ID": "127",
                                    "Foglalás_ID": "643",
                                    "Foglalás időtartama": "2",
                                    "Előző foglalás időtartama": "0"
                                },
                                {
                                    "Szoba_ID": "127",
                                    "Foglalás_ID": "853",
                                    "Foglalás időtartama": "5",
                                    "Előző foglalás időtartama": "2"
                                },
                                {
                                    "Szoba_ID": "127",
                                    "Foglalás_ID": "879",
                                    "Foglalás időtartama": "2",
                                    "Előző foglalás időtartama": "5"
                                },
                                {
                                    "Szoba_ID": "127",
                                    "Foglalás_ID": "1034",
                                    "Foglalás időtartama": "6",
                                    "Előző foglalás időtartama": "2"
                                },
                                {
                                    "Szoba_ID": "127",
                                    "Foglalás_ID": "1226",
                                    "Foglalás időtartama": "5",
                                    "Előző foglalás időtartama": "6"
                                },
                                {
                                    "Szoba_ID": "127",
                                    "Foglalás_ID": "1286",
                                    "Foglalás időtartama": "1",
                                    "Előző foglalás időtartama": "5"
                                },
                                {
                                    "Szoba_ID": "127",
                                    "Foglalás_ID": "1579",
                                    "Foglalás időtartama": "5",
                                    "Előző foglalás időtartama": "1"
                                },
                                {
                                    "Szoba_ID": "128",
                                    "Foglalás_ID": "717",
                                    "Foglalás időtartama": "2",
                                    "Előző foglalás időtartama": "0"
                                },
                                {
                                    "Szoba_ID": "128",
                                    "Foglalás_ID": "815",
                                    "Foglalás időtartama": "1",
                                    "Előző foglalás időtartama": "2"
                                },
                                {
                                    "Szoba_ID": "128",
                                    "Foglalás_ID": "1290",
                                    "Foglalás időtartama": "1",
                                    "Előző foglalás időtartama": "1"
                                },
                                {
                                    "Szoba_ID": "128",
                                    "Foglalás_ID": "1574",
                                    "Foglalás időtartama": "1",
                                    "Előző foglalás időtartama": "1"
                                },
                                {
                                    "Szoba_ID": "128",
                                    "Foglalás_ID": "1583",
                                    "Foglalás időtartama": "4",
                                    "Előző foglalás időtartama": "1"
                                },
                                {
                                    "Szoba_ID": "129",
                                    "Foglalás_ID": "723",
                                    "Foglalás időtartama": "7",
                                    "Előző foglalás időtartama": "0"
                                },
                                {
                                    "Szoba_ID": "129",
                                    "Foglalás_ID": "1360",
                                    "Foglalás időtartama": "6",
                                    "Előző foglalás időtartama": "7"
                                },
                                {
                                    "Szoba_ID": "129",
                                    "Foglalás_ID": "1445",
                                    "Foglalás időtartama": "7",
                                    "Előző foglalás időtartama": "6"
                                },
                                {
                                    "Szoba_ID": "129",
                                    "Foglalás_ID": "1509",
                                    "Foglalás időtartama": "6",
                                    "Előző foglalás időtartama": "7"
                                },
                                {
                                    "Szoba_ID": "130",
                                    "Foglalás_ID": "580",
                                    "Foglalás időtartama": "3",
                                    "Előző foglalás időtartama": "0"
                                },
                                {
                                    "Szoba_ID": "130",
                                    "Foglalás_ID": "613",
                                    "Foglalás időtartama": "3",
                                    "Előző foglalás időtartama": "3"
                                },
                                {
                                    "Szoba_ID": "130",
                                    "Foglalás_ID": "779",
                                    "Foglalás időtartama": "6",
                                    "Előző foglalás időtartama": "3"
                                },
                                {
                                    "Szoba_ID": "130",
                                    "Foglalás_ID": "910",
                                    "Foglalás időtartama": "2",
                                    "Előző foglalás időtartama": "6"
                                },
                                {
                                    "Szoba_ID": "130",
                                    "Foglalás_ID": "1040",
                                    "Foglalás időtartama": "1",
                                    "Előző foglalás időtartama": "2"
                                },
                                {
                                    "Szoba_ID": "130",
                                    "Foglalás_ID": "1475",
                                    "Foglalás időtartama": "7",
                                    "Előző foglalás időtartama": "1"
                                },
                                {
                                    "Szoba_ID": "131",
                                    "Foglalás_ID": "559",
                                    "Foglalás időtartama": "2",
                                    "Előző foglalás időtartama": "0"
                                },
                                {
                                    "Szoba_ID": "131",
                                    "Foglalás_ID": "655",
                                    "Foglalás időtartama": "1",
                                    "Előző foglalás időtartama": "2"
                                },
                                {
                                    "Szoba_ID": "131",
                                    "Foglalás_ID": "760",
                                    "Foglalás időtartama": "4",
                                    "Előző foglalás időtartama": "1"
                                },
                                {
                                    "Szoba_ID": "131",
                                    "Foglalás_ID": "881",
                                    "Foglalás időtartama": "6",
                                    "Előző foglalás időtartama": "4"
                                },
                                {
                                    "Szoba_ID": "131",
                                    "Foglalás_ID": "1474",
                                    "Foglalás időtartama": "5",
                                    "Előző foglalás időtartama": "6"
                                },
                                {
                                    "Szoba_ID": "132",
                                    "Foglalás_ID": "619",
                                    "Foglalás időtartama": "7",
                                    "Előző foglalás időtartama": "0"
                                },
                                {
                                    "Szoba_ID": "132",
                                    "Foglalás_ID": "999",
                                    "Foglalás időtartama": "6",
                                    "Előző foglalás időtartama": "7"
                                },
                                {
                                    "Szoba_ID": "132",
                                    "Foglalás_ID": "1090",
                                    "Foglalás időtartama": "7",
                                    "Előző foglalás időtartama": "6"
                                },
                                {
                                    "Szoba_ID": "132",
                                    "Foglalás_ID": "1111",
                                    "Foglalás időtartama": "3",
                                    "Előző foglalás időtartama": "7"
                                },
                                {
                                    "Szoba_ID": "132",
                                    "Foglalás_ID": "1301",
                                    "Foglalás időtartama": "2",
                                    "Előző foglalás időtartama": "3"
                                },
                                {
                                    "Szoba_ID": "132",
                                    "Foglalás_ID": "1519",
                                    "Foglalás időtartama": "2",
                                    "Előző foglalás időtartama": "2"
                                },
                                {
                                    "Szoba_ID": "133",
                                    "Foglalás_ID": "909",
                                    "Foglalás időtartama": "4",
                                    "Előző foglalás időtartama": "0"
                                },
                                {
                                    "Szoba_ID": "133",
                                    "Foglalás_ID": "988",
                                    "Foglalás időtartama": "3",
                                    "Előző foglalás időtartama": "4"
                                },
                                {
                                    "Szoba_ID": "133",
                                    "Foglalás_ID": "1149",
                                    "Foglalás időtartama": "7",
                                    "Előző foglalás időtartama": "3"
                                },
                                {
                                    "Szoba_ID": "133",
                                    "Foglalás_ID": "1306",
                                    "Foglalás időtartama": "3",
                                    "Előző foglalás időtartama": "7"
                                },
                                {
                                    "Szoba_ID": "133",
                                    "Foglalás_ID": "1363",
                                    "Foglalás időtartama": "5",
                                    "Előző foglalás időtartama": "3"
                                },
                                {
                                    "Szoba_ID": "133",
                                    "Foglalás_ID": "1409",
                                    "Foglalás időtartama": "1",
                                    "Előző foglalás időtartama": "5"
                                },
                                {
                                    "Szoba_ID": "134",
                                    "Foglalás_ID": "1004",
                                    "Foglalás időtartama": "5",
                                    "Előző foglalás időtartama": "0"
                                },
                                {
                                    "Szoba_ID": "134",
                                    "Foglalás_ID": "1024",
                                    "Foglalás időtartama": "1",
                                    "Előző foglalás időtartama": "5"
                                },
                                {
                                    "Szoba_ID": "134",
                                    "Foglalás_ID": "1045",
                                    "Foglalás időtartama": "2",
                                    "Előző foglalás időtartama": "1"
                                },
                                {
                                    "Szoba_ID": "134",
                                    "Foglalás_ID": "1178",
                                    "Foglalás időtartama": "7",
                                    "Előző foglalás időtartama": "2"
                                },
                                {
                                    "Szoba_ID": "134",
                                    "Foglalás_ID": "1219",
                                    "Foglalás időtartama": "6",
                                    "Előző foglalás időtartama": "7"
                                },
                                {
                                    "Szoba_ID": "134",
                                    "Foglalás_ID": "1535",
                                    "Foglalás időtartama": "7",
                                    "Előző foglalás időtartama": "6"
                                },
                                {
                                    "Szoba_ID": "135",
                                    "Foglalás_ID": "724",
                                    "Foglalás időtartama": "6",
                                    "Előző foglalás időtartama": "0"
                                },
                                {
                                    "Szoba_ID": "135",
                                    "Foglalás_ID": "849",
                                    "Foglalás időtartama": "7",
                                    "Előző foglalás időtartama": "6"
                                },
                                {
                                    "Szoba_ID": "135",
                                    "Foglalás_ID": "1289",
                                    "Foglalás időtartama": "3",
                                    "Előző foglalás időtartama": "7"
                                },
                                {
                                    "Szoba_ID": "136",
                                    "Foglalás_ID": "584",
                                    "Foglalás időtartama": "2",
                                    "Előző foglalás időtartama": "0"
                                },
                                {
                                    "Szoba_ID": "136",
                                    "Foglalás_ID": "661",
                                    "Foglalás időtartama": "5",
                                    "Előző foglalás időtartama": "2"
                                },
                                {
                                    "Szoba_ID": "136",
                                    "Foglalás_ID": "1046",
                                    "Foglalás időtartama": "4",
                                    "Előző foglalás időtartama": "5"
                                },
                                {
                                    "Szoba_ID": "137",
                                    "Foglalás_ID": "582",
                                    "Foglalás időtartama": "3",
                                    "Előző foglalás időtartama": "0"
                                },
                                {
                                    "Szoba_ID": "137",
                                    "Foglalás_ID": "649",
                                    "Foglalás időtartama": "5",
                                    "Előző foglalás időtartama": "3"
                                },
                                {
                                    "Szoba_ID": "137",
                                    "Foglalás_ID": "657",
                                    "Foglalás időtartama": "6",
                                    "Előző foglalás időtartama": "5"
                                },
                                {
                                    "Szoba_ID": "137",
                                    "Foglalás_ID": "1014",
                                    "Foglalás időtartama": "1",
                                    "Előző foglalás időtartama": "6"
                                },
                                {
                                    "Szoba_ID": "137",
                                    "Foglalás_ID": "1201",
                                    "Foglalás időtartama": "6",
                                    "Előző foglalás időtartama": "1"
                                },
                                {
                                    "Szoba_ID": "137",
                                    "Foglalás_ID": "1280",
                                    "Foglalás időtartama": "3",
                                    "Előző foglalás időtartama": "6"
                                },
                                {
                                    "Szoba_ID": "138",
                                    "Foglalás_ID": "768",
                                    "Foglalás időtartama": "6",
                                    "Előző foglalás időtartama": "0"
                                },
                                {
                                    "Szoba_ID": "138",
                                    "Foglalás_ID": "796",
                                    "Foglalás időtartama": "4",
                                    "Előző foglalás időtartama": "6"
                                },
                                {
                                    "Szoba_ID": "138",
                                    "Foglalás_ID": "1256",
                                    "Foglalás időtartama": "4",
                                    "Előző foglalás időtartama": "4"
                                },
                                {
                                    "Szoba_ID": "138",
                                    "Foglalás_ID": "1283",
                                    "Foglalás időtartama": "2",
                                    "Előző foglalás időtartama": "4"
                                },
                                {
                                    "Szoba_ID": "138",
                                    "Foglalás_ID": "1294",
                                    "Foglalás időtartama": "5",
                                    "Előző foglalás időtartama": "2"
                                },
                                {
                                    "Szoba_ID": "138",
                                    "Foglalás_ID": "1358",
                                    "Foglalás időtartama": "7",
                                    "Előző foglalás időtartama": "5"
                                },
                                {
                                    "Szoba_ID": "138",
                                    "Foglalás_ID": "1370",
                                    "Foglalás időtartama": "5",
                                    "Előző foglalás időtartama": "7"
                                },
                                {
                                    "Szoba_ID": "139",
                                    "Foglalás_ID": "579",
                                    "Foglalás időtartama": "2",
                                    "Előző foglalás időtartama": "0"
                                },
                                {
                                    "Szoba_ID": "139",
                                    "Foglalás_ID": "745",
                                    "Foglalás időtartama": "1",
                                    "Előző foglalás időtartama": "2"
                                },
                                {
                                    "Szoba_ID": "139",
                                    "Foglalás_ID": "751",
                                    "Foglalás időtartama": "4",
                                    "Előző foglalás időtartama": "1"
                                },
                                {
                                    "Szoba_ID": "139",
                                    "Foglalás_ID": "1042",
                                    "Foglalás időtartama": "2",
                                    "Előző foglalás időtartama": "4"
                                },
                                {
                                    "Szoba_ID": "139",
                                    "Foglalás_ID": "1064",
                                    "Foglalás időtartama": "6",
                                    "Előző foglalás időtartama": "2"
                                },
                                {
                                    "Szoba_ID": "139",
                                    "Foglalás_ID": "1433",
                                    "Foglalás időtartama": "6",
                                    "Előző foglalás időtartama": "6"
                                },
                                {
                                    "Szoba_ID": "139",
                                    "Foglalás_ID": "1450",
                                    "Foglalás időtartama": "7",
                                    "Előző foglalás időtartama": "6"
                                },
                                {
                                    "Szoba_ID": "140",
                                    "Foglalás_ID": "733",
                                    "Foglalás időtartama": "1",
                                    "Előző foglalás időtartama": "0"
                                },
                                {
                                    "Szoba_ID": "140",
                                    "Foglalás_ID": "915",
                                    "Foglalás időtartama": "2",
                                    "Előző foglalás időtartama": "1"
                                },
                                {
                                    "Szoba_ID": "140",
                                    "Foglalás_ID": "1098",
                                    "Foglalás időtartama": "2",
                                    "Előző foglalás időtartama": "2"
                                },
                                {
                                    "Szoba_ID": "140",
                                    "Foglalás_ID": "1156",
                                    "Foglalás időtartama": "3",
                                    "Előző foglalás időtartama": "2"
                                },
                                {
                                    "Szoba_ID": "140",
                                    "Foglalás_ID": "1259",
                                    "Foglalás időtartama": "7",
                                    "Előző foglalás időtartama": "3"
                                },
                                {
                                    "Szoba_ID": "140",
                                    "Foglalás_ID": "1357",
                                    "Foglalás időtartama": "4",
                                    "Előző foglalás időtartama": "7"
                                },
                                {
                                    "Szoba_ID": "140",
                                    "Foglalás_ID": "1361",
                                    "Foglalás időtartama": "3",
                                    "Előző foglalás időtartama": "4"
                                },
                                {
                                    "Szoba_ID": "140",
                                    "Foglalás_ID": "1371",
                                    "Foglalás időtartama": "1",
                                    "Előző foglalás időtartama": "3"
                                },
                                {
                                    "Szoba_ID": "141",
                                    "Foglalás_ID": "565",
                                    "Foglalás időtartama": "6",
                                    "Előző foglalás időtartama": "0"
                                },
                                {
                                    "Szoba_ID": "141",
                                    "Foglalás_ID": "761",
                                    "Foglalás időtartama": "3",
                                    "Előző foglalás időtartama": "6"
                                },
                                {
                                    "Szoba_ID": "141",
                                    "Foglalás_ID": "784",
                                    "Foglalás időtartama": "7",
                                    "Előző foglalás időtartama": "3"
                                },
                                {
                                    "Szoba_ID": "141",
                                    "Foglalás_ID": "908",
                                    "Foglalás időtartama": "2",
                                    "Előző foglalás időtartama": "7"
                                },
                                {
                                    "Szoba_ID": "141",
                                    "Foglalás_ID": "1254",
                                    "Foglalás időtartama": "4",
                                    "Előző foglalás időtartama": "2"
                                },
                                {
                                    "Szoba_ID": "141",
                                    "Foglalás_ID": "1401",
                                    "Foglalás időtartama": "6",
                                    "Előző foglalás időtartama": "4"
                                },
                                {
                                    "Szoba_ID": "142",
                                    "Foglalás_ID": "1369",
                                    "Foglalás időtartama": "6",
                                    "Előző foglalás időtartama": "0"
                                },
                                {
                                    "Szoba_ID": "142",
                                    "Foglalás_ID": "1545",
                                    "Foglalás időtartama": "3",
                                    "Előző foglalás időtartama": "6"
                                },
                                {
                                    "Szoba_ID": "143",
                                    "Foglalás_ID": "980",
                                    "Foglalás időtartama": "3",
                                    "Előző foglalás időtartama": "0"
                                },
                                {
                                    "Szoba_ID": "143",
                                    "Foglalás_ID": "1155",
                                    "Foglalás időtartama": "7",
                                    "Előző foglalás időtartama": "3"
                                },
                                {
                                    "Szoba_ID": "143",
                                    "Foglalás_ID": "1193",
                                    "Foglalás időtartama": "6",
                                    "Előző foglalás időtartama": "7"
                                },
                                {
                                    "Szoba_ID": "143",
                                    "Foglalás_ID": "1222",
                                    "Foglalás időtartama": "2",
                                    "Előző foglalás időtartama": "6"
                                },
                                {
                                    "Szoba_ID": "143",
                                    "Foglalás_ID": "1313",
                                    "Foglalás időtartama": "4",
                                    "Előző foglalás időtartama": "2"
                                },
                                {
                                    "Szoba_ID": "143",
                                    "Foglalás_ID": "1394",
                                    "Foglalás időtartama": "3",
                                    "Előző foglalás időtartama": "4"
                                },
                                {
                                    "Szoba_ID": "143",
                                    "Foglalás_ID": "1448",
                                    "Foglalás időtartama": "6",
                                    "Előző foglalás időtartama": "3"
                                },
                                {
                                    "Szoba_ID": "144",
                                    "Foglalás_ID": "581",
                                    "Foglalás időtartama": "4",
                                    "Előző foglalás időtartama": "0"
                                },
                                {
                                    "Szoba_ID": "144",
                                    "Foglalás_ID": "1087",
                                    "Foglalás időtartama": "2",
                                    "Előző foglalás időtartama": "4"
                                },
                                {
                                    "Szoba_ID": "144",
                                    "Foglalás_ID": "1199",
                                    "Foglalás időtartama": "7",
                                    "Előző foglalás időtartama": "2"
                                },
                                {
                                    "Szoba_ID": "144",
                                    "Foglalás_ID": "1297",
                                    "Foglalás időtartama": "1",
                                    "Előző foglalás időtartama": "7"
                                },
                                {
                                    "Szoba_ID": "144",
                                    "Foglalás_ID": "1572",
                                    "Foglalás időtartama": "2",
                                    "Előző foglalás időtartama": "1"
                                },
                                {
                                    "Szoba_ID": "145",
                                    "Foglalás_ID": "703",
                                    "Foglalás időtartama": "4",
                                    "Előző foglalás időtartama": "0"
                                },
                                {
                                    "Szoba_ID": "145",
                                    "Foglalás_ID": "1077",
                                    "Foglalás időtartama": "1",
                                    "Előző foglalás időtartama": "4"
                                },
                                {
                                    "Szoba_ID": "145",
                                    "Foglalás_ID": "1120",
                                    "Foglalás időtartama": "1",
                                    "Előző foglalás időtartama": "1"
                                },
                                {
                                    "Szoba_ID": "145",
                                    "Foglalás_ID": "1145",
                                    "Foglalás időtartama": "4",
                                    "Előző foglalás időtartama": "1"
                                },
                                {
                                    "Szoba_ID": "145",
                                    "Foglalás_ID": "1338",
                                    "Foglalás időtartama": "2",
                                    "Előző foglalás időtartama": "4"
                                },
                                {
                                    "Szoba_ID": "145",
                                    "Foglalás_ID": "1471",
                                    "Foglalás időtartama": "1",
                                    "Előző foglalás időtartama": "2"
                                },
                                {
                                    "Szoba_ID": "146",
                                    "Foglalás_ID": "664",
                                    "Foglalás időtartama": "3",
                                    "Előző foglalás időtartama": "0"
                                },
                                {
                                    "Szoba_ID": "146",
                                    "Foglalás_ID": "789",
                                    "Foglalás időtartama": "7",
                                    "Előző foglalás időtartama": "3"
                                },
                                {
                                    "Szoba_ID": "146",
                                    "Foglalás_ID": "804",
                                    "Foglalás időtartama": "7",
                                    "Előző foglalás időtartama": "7"
                                },
                                {
                                    "Szoba_ID": "146",
                                    "Foglalás_ID": "890",
                                    "Foglalás időtartama": "3",
                                    "Előző foglalás időtartama": "7"
                                },
                                {
                                    "Szoba_ID": "146",
                                    "Foglalás_ID": "1032",
                                    "Foglalás időtartama": "5",
                                    "Előző foglalás időtartama": "3"
                                },
                                {
                                    "Szoba_ID": "146",
                                    "Foglalás_ID": "1479",
                                    "Foglalás időtartama": "6",
                                    "Előző foglalás időtartama": "5"
                                },
                                {
                                    "Szoba_ID": "147",
                                    "Foglalás_ID": "771",
                                    "Foglalás időtartama": "4",
                                    "Előző foglalás időtartama": "0"
                                },
                                {
                                    "Szoba_ID": "148",
                                    "Foglalás_ID": "678",
                                    "Foglalás időtartama": "4",
                                    "Előző foglalás időtartama": "0"
                                },
                                {
                                    "Szoba_ID": "148",
                                    "Foglalás_ID": "765",
                                    "Foglalás időtartama": "3",
                                    "Előző foglalás időtartama": "4"
                                },
                                {
                                    "Szoba_ID": "148",
                                    "Foglalás_ID": "783",
                                    "Foglalás időtartama": "7",
                                    "Előző foglalás időtartama": "3"
                                },
                                {
                                    "Szoba_ID": "148",
                                    "Foglalás_ID": "808",
                                    "Foglalás időtartama": "2",
                                    "Előző foglalás időtartama": "7"
                                },
                                {
                                    "Szoba_ID": "148",
                                    "Foglalás_ID": "812",
                                    "Foglalás időtartama": "6",
                                    "Előző foglalás időtartama": "2"
                                },
                                {
                                    "Szoba_ID": "148",
                                    "Foglalás_ID": "1578",
                                    "Foglalás időtartama": "7",
                                    "Előző foglalás időtartama": "6"
                                },
                                {
                                    "Szoba_ID": "149",
                                    "Foglalás_ID": "591",
                                    "Foglalás időtartama": "1",
                                    "Előző foglalás időtartama": "0"
                                },
                                {
                                    "Szoba_ID": "149",
                                    "Foglalás_ID": "652",
                                    "Foglalás időtartama": "1",
                                    "Előző foglalás időtartama": "1"
                                },
                                {
                                    "Szoba_ID": "149",
                                    "Foglalás_ID": "833",
                                    "Foglalás időtartama": "2",
                                    "Előző foglalás időtartama": "1"
                                },
                                {
                                    "Szoba_ID": "149",
                                    "Foglalás_ID": "834",
                                    "Foglalás időtartama": "5",
                                    "Előző foglalás időtartama": "2"
                                },
                                {
                                    "Szoba_ID": "149",
                                    "Foglalás_ID": "843",
                                    "Foglalás időtartama": "4",
                                    "Előző foglalás időtartama": "5"
                                },
                                {
                                    "Szoba_ID": "149",
                                    "Foglalás_ID": "1146",
                                    "Foglalás időtartama": "6",
                                    "Előző foglalás időtartama": "4"
                                },
                                {
                                    "Szoba_ID": "149",
                                    "Foglalás_ID": "1514",
                                    "Foglalás időtartama": "5",
                                    "Előző foglalás időtartama": "6"
                                },
                                {
                                    "Szoba_ID": "150",
                                    "Foglalás_ID": "641",
                                    "Foglalás időtartama": "3",
                                    "Előző foglalás időtartama": "0"
                                },
                                {
                                    "Szoba_ID": "150",
                                    "Foglalás_ID": "1100",
                                    "Foglalás időtartama": "5",
                                    "Előző foglalás időtartama": "3"
                                },
                                {
                                    "Szoba_ID": "150",
                                    "Foglalás_ID": "1105",
                                    "Foglalás időtartama": "1",
                                    "Előző foglalás időtartama": "5"
                                },
                                {
                                    "Szoba_ID": "150",
                                    "Foglalás_ID": "1177",
                                    "Foglalás időtartama": "1",
                                    "Előző foglalás időtartama": "1"
                                },
                                {
                                    "Szoba_ID": "150",
                                    "Foglalás_ID": "1203",
                                    "Foglalás időtartama": "4",
                                    "Előző foglalás időtartama": "1"
                                },
                                {
                                    "Szoba_ID": "150",
                                    "Foglalás_ID": "1432",
                                    "Foglalás időtartama": "3",
                                    "Előző foglalás időtartama": "4"
                                },
                                {
                                    "Szoba_ID": "151",
                                    "Foglalás_ID": "893",
                                    "Foglalás időtartama": "3",
                                    "Előző foglalás időtartama": "0"
                                },
                                {
                                    "Szoba_ID": "151",
                                    "Foglalás_ID": "1058",
                                    "Foglalás időtartama": "3",
                                    "Előző foglalás időtartama": "3"
                                },
                                {
                                    "Szoba_ID": "151",
                                    "Foglalás_ID": "1115",
                                    "Foglalás időtartama": "3",
                                    "Előző foglalás időtartama": "3"
                                },
                                {
                                    "Szoba_ID": "152",
                                    "Foglalás_ID": "730",
                                    "Foglalás időtartama": "2",
                                    "Előző foglalás időtartama": "0"
                                },
                                {
                                    "Szoba_ID": "152",
                                    "Foglalás_ID": "1160",
                                    "Foglalás időtartama": "7",
                                    "Előző foglalás időtartama": "2"
                                },
                                {
                                    "Szoba_ID": "152",
                                    "Foglalás_ID": "1197",
                                    "Foglalás időtartama": "6",
                                    "Előző foglalás időtartama": "7"
                                },
                                {
                                    "Szoba_ID": "152",
                                    "Foglalás_ID": "1558",
                                    "Foglalás időtartama": "2",
                                    "Előző foglalás időtartama": "6"
                                },
                                {
                                    "Szoba_ID": "153",
                                    "Foglalás_ID": "594",
                                    "Foglalás időtartama": "3",
                                    "Előző foglalás időtartama": "0"
                                },
                                {
                                    "Szoba_ID": "153",
                                    "Foglalás_ID": "969",
                                    "Foglalás időtartama": "6",
                                    "Előző foglalás időtartama": "3"
                                },
                                {
                                    "Szoba_ID": "153",
                                    "Foglalás_ID": "1460",
                                    "Foglalás időtartama": "3",
                                    "Előző foglalás időtartama": "6"
                                },
                                {
                                    "Szoba_ID": "153",
                                    "Foglalás_ID": "1470",
                                    "Foglalás időtartama": "5",
                                    "Előző foglalás időtartama": "3"
                                },
                                {
                                    "Szoba_ID": "153",
                                    "Foglalás_ID": "1507",
                                    "Foglalás időtartama": "3",
                                    "Előző foglalás időtartama": "5"
                                },
                                {
                                    "Szoba_ID": "154",
                                    "Foglalás_ID": "968",
                                    "Foglalás időtartama": "1",
                                    "Előző foglalás időtartama": "0"
                                },
                                {
                                    "Szoba_ID": "154",
                                    "Foglalás_ID": "1061",
                                    "Foglalás időtartama": "7",
                                    "Előző foglalás időtartama": "1"
                                },
                                {
                                    "Szoba_ID": "154",
                                    "Foglalás_ID": "1168",
                                    "Foglalás időtartama": "6",
                                    "Előző foglalás időtartama": "7"
                                },
                                {
                                    "Szoba_ID": "154",
                                    "Foglalás_ID": "1262",
                                    "Foglalás időtartama": "1",
                                    "Előző foglalás időtartama": "6"
                                },
                                {
                                    "Szoba_ID": "154",
                                    "Foglalás_ID": "1539",
                                    "Foglalás időtartama": "2",
                                    "Előző foglalás időtartama": "1"
                                },
                                {
                                    "Szoba_ID": "155",
                                    "Foglalás_ID": "575",
                                    "Foglalás időtartama": "1",
                                    "Előző foglalás időtartama": "0"
                                },
                                {
                                    "Szoba_ID": "155",
                                    "Foglalás_ID": "577",
                                    "Foglalás időtartama": "3",
                                    "Előző foglalás időtartama": "1"
                                },
                                {
                                    "Szoba_ID": "155",
                                    "Foglalás_ID": "1112",
                                    "Foglalás időtartama": "4",
                                    "Előző foglalás időtartama": "3"
                                },
                                {
                                    "Szoba_ID": "155",
                                    "Foglalás_ID": "1310",
                                    "Foglalás időtartama": "1",
                                    "Előző foglalás időtartama": "4"
                                },
                                {
                                    "Szoba_ID": "155",
                                    "Foglalás_ID": "1541",
                                    "Foglalás időtartama": "1",
                                    "Előző foglalás időtartama": "1"
                                },
                                {
                                    "Szoba_ID": "156",
                                    "Foglalás_ID": "588",
                                    "Foglalás időtartama": "7",
                                    "Előző foglalás időtartama": "0"
                                },
                                {
                                    "Szoba_ID": "156",
                                    "Foglalás_ID": "692",
                                    "Foglalás időtartama": "6",
                                    "Előző foglalás időtartama": "7"
                                },
                                {
                                    "Szoba_ID": "156",
                                    "Foglalás_ID": "907",
                                    "Foglalás időtartama": "3",
                                    "Előző foglalás időtartama": "6"
                                },
                                {
                                    "Szoba_ID": "156",
                                    "Foglalás_ID": "956",
                                    "Foglalás időtartama": "6",
                                    "Előző foglalás időtartama": "3"
                                },
                                {
                                    "Szoba_ID": "156",
                                    "Foglalás_ID": "1462",
                                    "Foglalás időtartama": "7",
                                    "Előző foglalás időtartama": "6"
                                },
                                {
                                    "Szoba_ID": "156",
                                    "Foglalás_ID": "1490",
                                    "Foglalás időtartama": "1",
                                    "Előző foglalás időtartama": "7"
                                },
                                {
                                    "Szoba_ID": "156",
                                    "Foglalás_ID": "1561",
                                    "Foglalás időtartama": "4",
                                    "Előző foglalás időtartama": "1"
                                },
                                {
                                    "Szoba_ID": "157",
                                    "Foglalás_ID": "648",
                                    "Foglalás időtartama": "4",
                                    "Előző foglalás időtartama": "0"
                                },
                                {
                                    "Szoba_ID": "157",
                                    "Foglalás_ID": "1025",
                                    "Foglalás időtartama": "3",
                                    "Előző foglalás időtartama": "4"
                                },
                                {
                                    "Szoba_ID": "157",
                                    "Foglalás_ID": "1047",
                                    "Foglalás időtartama": "4",
                                    "Előző foglalás időtartama": "3"
                                },
                                {
                                    "Szoba_ID": "157",
                                    "Foglalás_ID": "1240",
                                    "Foglalás időtartama": "7",
                                    "Előző foglalás időtartama": "4"
                                },
                                {
                                    "Szoba_ID": "157",
                                    "Foglalás_ID": "1551",
                                    "Foglalás időtartama": "3",
                                    "Előző foglalás időtartama": "7"
                                },
                                {
                                    "Szoba_ID": "158",
                                    "Foglalás_ID": "825",
                                    "Foglalás időtartama": "4",
                                    "Előző foglalás időtartama": "0"
                                },
                                {
                                    "Szoba_ID": "158",
                                    "Foglalás_ID": "840",
                                    "Foglalás időtartama": "4",
                                    "Előző foglalás időtartama": "4"
                                },
                                {
                                    "Szoba_ID": "158",
                                    "Foglalás_ID": "1117",
                                    "Foglalás időtartama": "3",
                                    "Előző foglalás időtartama": "4"
                                },
                                {
                                    "Szoba_ID": "160",
                                    "Foglalás_ID": "720",
                                    "Foglalás időtartama": "2",
                                    "Előző foglalás időtartama": "0"
                                },
                                {
                                    "Szoba_ID": "160",
                                    "Foglalás_ID": "922",
                                    "Foglalás időtartama": "2",
                                    "Előző foglalás időtartama": "2"
                                },
                                {
                                    "Szoba_ID": "160",
                                    "Foglalás_ID": "927",
                                    "Foglalás időtartama": "4",
                                    "Előző foglalás időtartama": "2"
                                },
                                {
                                    "Szoba_ID": "160",
                                    "Foglalás_ID": "933",
                                    "Foglalás időtartama": "4",
                                    "Előző foglalás időtartama": "4"
                                },
                                {
                                    "Szoba_ID": "160",
                                    "Foglalás_ID": "1565",
                                    "Foglalás időtartama": "3",
                                    "Előző foglalás időtartama": "4"
                                },
                                {
                                    "Szoba_ID": "161",
                                    "Foglalás_ID": "639",
                                    "Foglalás időtartama": "4",
                                    "Előző foglalás időtartama": "0"
                                },
                                {
                                    "Szoba_ID": "161",
                                    "Foglalás_ID": "653",
                                    "Foglalás időtartama": "7",
                                    "Előző foglalás időtartama": "4"
                                },
                                {
                                    "Szoba_ID": "161",
                                    "Foglalás_ID": "911",
                                    "Foglalás időtartama": "4",
                                    "Előző foglalás időtartama": "7"
                                },
                                {
                                    "Szoba_ID": "161",
                                    "Foglalás_ID": "1068",
                                    "Foglalás időtartama": "6",
                                    "Előző foglalás időtartama": "4"
                                },
                                {
                                    "Szoba_ID": "161",
                                    "Foglalás_ID": "1190",
                                    "Foglalás időtartama": "7",
                                    "Előző foglalás időtartama": "6"
                                },
                                {
                                    "Szoba_ID": "161",
                                    "Foglalás_ID": "1571",
                                    "Foglalás időtartama": "4",
                                    "Előző foglalás időtartama": "7"
                                },
                                {
                                    "Szoba_ID": "162",
                                    "Foglalás_ID": "599",
                                    "Foglalás időtartama": "4",
                                    "Előző foglalás időtartama": "0"
                                },
                                {
                                    "Szoba_ID": "162",
                                    "Foglalás_ID": "1205",
                                    "Foglalás időtartama": "6",
                                    "Előző foglalás időtartama": "4"
                                },
                                {
                                    "Szoba_ID": "162",
                                    "Foglalás_ID": "1400",
                                    "Foglalás időtartama": "1",
                                    "Előző foglalás időtartama": "6"
                                },
                                {
                                    "Szoba_ID": "163",
                                    "Foglalás_ID": "630",
                                    "Foglalás időtartama": "2",
                                    "Előző foglalás időtartama": "0"
                                },
                                {
                                    "Szoba_ID": "163",
                                    "Foglalás_ID": "782",
                                    "Foglalás időtartama": "3",
                                    "Előző foglalás időtartama": "2"
                                },
                                {
                                    "Szoba_ID": "163",
                                    "Foglalás_ID": "941",
                                    "Foglalás időtartama": "1",
                                    "Előző foglalás időtartama": "3"
                                },
                                {
                                    "Szoba_ID": "163",
                                    "Foglalás_ID": "1075",
                                    "Foglalás időtartama": "4",
                                    "Előző foglalás időtartama": "1"
                                },
                                {
                                    "Szoba_ID": "163",
                                    "Foglalás_ID": "1107",
                                    "Foglalás időtartama": "3",
                                    "Előző foglalás időtartama": "4"
                                },
                                {
                                    "Szoba_ID": "163",
                                    "Foglalás_ID": "1265",
                                    "Foglalás időtartama": "5",
                                    "Előző foglalás időtartama": "3"
                                },
                                {
                                    "Szoba_ID": "163",
                                    "Foglalás_ID": "1487",
                                    "Foglalás időtartama": "3",
                                    "Előző foglalás időtartama": "5"
                                },
                                {
                                    "Szoba_ID": "164",
                                    "Foglalás_ID": "570",
                                    "Foglalás időtartama": "7",
                                    "Előző foglalás időtartama": "0"
                                },
                                {
                                    "Szoba_ID": "164",
                                    "Foglalás_ID": "742",
                                    "Foglalás időtartama": "6",
                                    "Előző foglalás időtartama": "7"
                                },
                                {
                                    "Szoba_ID": "164",
                                    "Foglalás_ID": "1010",
                                    "Foglalás időtartama": "2",
                                    "Előző foglalás időtartama": "6"
                                },
                                {
                                    "Szoba_ID": "164",
                                    "Foglalás_ID": "1284",
                                    "Foglalás időtartama": "4",
                                    "Előző foglalás időtartama": "2"
                                },
                                {
                                    "Szoba_ID": "164",
                                    "Foglalás_ID": "1292",
                                    "Foglalás időtartama": "2",
                                    "Előző foglalás időtartama": "4"
                                },
                                {
                                    "Szoba_ID": "165",
                                    "Foglalás_ID": "640",
                                    "Foglalás időtartama": "3",
                                    "Előző foglalás időtartama": "0"
                                },
                                {
                                    "Szoba_ID": "165",
                                    "Foglalás_ID": "857",
                                    "Foglalás időtartama": "5",
                                    "Előző foglalás időtartama": "3"
                                },
                                {
                                    "Szoba_ID": "165",
                                    "Foglalás_ID": "892",
                                    "Foglalás időtartama": "3",
                                    "Előző foglalás időtartama": "5"
                                },
                                {
                                    "Szoba_ID": "165",
                                    "Foglalás_ID": "897",
                                    "Foglalás időtartama": "6",
                                    "Előző foglalás időtartama": "3"
                                },
                                {
                                    "Szoba_ID": "165",
                                    "Foglalás_ID": "900",
                                    "Foglalás időtartama": "6",
                                    "Előző foglalás időtartama": "6"
                                },
                                {
                                    "Szoba_ID": "165",
                                    "Foglalás_ID": "1141",
                                    "Foglalás időtartama": "1",
                                    "Előző foglalás időtartama": "6"
                                },
                                {
                                    "Szoba_ID": "165",
                                    "Foglalás_ID": "1375",
                                    "Foglalás időtartama": "4",
                                    "Előző foglalás időtartama": "1"
                                },
                                {
                                    "Szoba_ID": "166",
                                    "Foglalás_ID": "644",
                                    "Foglalás időtartama": "7",
                                    "Előző foglalás időtartama": "0"
                                },
                                {
                                    "Szoba_ID": "166",
                                    "Foglalás_ID": "781",
                                    "Foglalás időtartama": "7",
                                    "Előző foglalás időtartama": "7"
                                },
                                {
                                    "Szoba_ID": "166",
                                    "Foglalás_ID": "1526",
                                    "Foglalás időtartama": "2",
                                    "Előző foglalás időtartama": "7"
                                },
                                {
                                    "Szoba_ID": "167",
                                    "Foglalás_ID": "854",
                                    "Foglalás időtartama": "7",
                                    "Előző foglalás időtartama": "0"
                                },
                                {
                                    "Szoba_ID": "167",
                                    "Foglalás_ID": "1414",
                                    "Foglalás időtartama": "3",
                                    "Előző foglalás időtartama": "7"
                                },
                                {
                                    "Szoba_ID": "168",
                                    "Foglalás_ID": "792",
                                    "Foglalás időtartama": "3",
                                    "Előző foglalás időtartama": "0"
                                },
                                {
                                    "Szoba_ID": "168",
                                    "Foglalás_ID": "794",
                                    "Foglalás időtartama": "4",
                                    "Előző foglalás időtartama": "3"
                                },
                                {
                                    "Szoba_ID": "168",
                                    "Foglalás_ID": "930",
                                    "Foglalás időtartama": "3",
                                    "Előző foglalás időtartama": "4"
                                },
                                {
                                    "Szoba_ID": "168",
                                    "Foglalás_ID": "1249",
                                    "Foglalás időtartama": "4",
                                    "Előző foglalás időtartama": "3"
                                },
                                {
                                    "Szoba_ID": "168",
                                    "Foglalás_ID": "1266",
                                    "Foglalás időtartama": "4",
                                    "Előző foglalás időtartama": "4"
                                },
                                {
                                    "Szoba_ID": "169",
                                    "Foglalás_ID": "573",
                                    "Foglalás időtartama": "5",
                                    "Előző foglalás időtartama": "0"
                                },
                                {
                                    "Szoba_ID": "169",
                                    "Foglalás_ID": "659",
                                    "Foglalás időtartama": "6",
                                    "Előző foglalás időtartama": "5"
                                },
                                {
                                    "Szoba_ID": "169",
                                    "Foglalás_ID": "746",
                                    "Foglalás időtartama": "7",
                                    "Előző foglalás időtartama": "6"
                                },
                                {
                                    "Szoba_ID": "169",
                                    "Foglalás_ID": "974",
                                    "Foglalás időtartama": "1",
                                    "Előző foglalás időtartama": "7"
                                },
                                {
                                    "Szoba_ID": "169",
                                    "Foglalás_ID": "1356",
                                    "Foglalás időtartama": "4",
                                    "Előző foglalás időtartama": "1"
                                },
                                {
                                    "Szoba_ID": "169",
                                    "Foglalás_ID": "1427",
                                    "Foglalás időtartama": "1",
                                    "Előző foglalás időtartama": "4"
                                },
                                {
                                    "Szoba_ID": "170",
                                    "Foglalás_ID": "567",
                                    "Foglalás időtartama": "7",
                                    "Előző foglalás időtartama": "0"
                                },
                                {
                                    "Szoba_ID": "170",
                                    "Foglalás_ID": "944",
                                    "Foglalás időtartama": "4",
                                    "Előző foglalás időtartama": "7"
                                },
                                {
                                    "Szoba_ID": "170",
                                    "Foglalás_ID": "1194",
                                    "Foglalás időtartama": "4",
                                    "Előző foglalás időtartama": "4"
                                },
                                {
                                    "Szoba_ID": "170",
                                    "Foglalás_ID": "1267",
                                    "Foglalás időtartama": "7",
                                    "Előző foglalás időtartama": "4"
                                },
                                {
                                    "Szoba_ID": "170",
                                    "Foglalás_ID": "1342",
                                    "Foglalás időtartama": "6",
                                    "Előző foglalás időtartama": "7"
                                },
                                {
                                    "Szoba_ID": "171",
                                    "Foglalás_ID": "574",
                                    "Foglalás időtartama": "2",
                                    "Előző foglalás időtartama": "0"
                                },
                                {
                                    "Szoba_ID": "171",
                                    "Foglalás_ID": "981",
                                    "Foglalás időtartama": "4",
                                    "Előző foglalás időtartama": "2"
                                },
                                {
                                    "Szoba_ID": "171",
                                    "Foglalás_ID": "1181",
                                    "Foglalás időtartama": "6",
                                    "Előző foglalás időtartama": "4"
                                },
                                {
                                    "Szoba_ID": "171",
                                    "Foglalás_ID": "1329",
                                    "Foglalás időtartama": "5",
                                    "Előző foglalás időtartama": "6"
                                },
                                {
                                    "Szoba_ID": "171",
                                    "Foglalás_ID": "1567",
                                    "Foglalás időtartama": "6",
                                    "Előző foglalás időtartama": "5"
                                },
                                {
                                    "Szoba_ID": "172",
                                    "Foglalás_ID": "709",
                                    "Foglalás időtartama": "5",
                                    "Előző foglalás időtartama": "0"
                                },
                                {
                                    "Szoba_ID": "172",
                                    "Foglalás_ID": "749",
                                    "Foglalás időtartama": "6",
                                    "Előző foglalás időtartama": "5"
                                },
                                {
                                    "Szoba_ID": "172",
                                    "Foglalás_ID": "839",
                                    "Foglalás időtartama": "5",
                                    "Előző foglalás időtartama": "6"
                                },
                                {
                                    "Szoba_ID": "172",
                                    "Foglalás_ID": "984",
                                    "Foglalás időtartama": "4",
                                    "Előző foglalás időtartama": "5"
                                },
                                {
                                    "Szoba_ID": "172",
                                    "Foglalás_ID": "1142",
                                    "Foglalás időtartama": "4",
                                    "Előző foglalás időtartama": "4"
                                },
                                {
                                    "Szoba_ID": "172",
                                    "Foglalás_ID": "1171",
                                    "Foglalás időtartama": "5",
                                    "Előző foglalás időtartama": "4"
                                },
                                {
                                    "Szoba_ID": "172",
                                    "Foglalás_ID": "1336",
                                    "Foglalás időtartama": "5",
                                    "Előző foglalás időtartama": "5"
                                },
                                {
                                    "Szoba_ID": "172",
                                    "Foglalás_ID": "1421",
                                    "Foglalás időtartama": "5",
                                    "Előző foglalás időtartama": "5"
                                },
                                {
                                    "Szoba_ID": "172",
                                    "Foglalás_ID": "1491",
                                    "Foglalás időtartama": "2",
                                    "Előző foglalás időtartama": "5"
                                },
                                {
                                    "Szoba_ID": "173",
                                    "Foglalás_ID": "669",
                                    "Foglalás időtartama": "7",
                                    "Előző foglalás időtartama": "0"
                                },
                                {
                                    "Szoba_ID": "173",
                                    "Foglalás_ID": "913",
                                    "Foglalás időtartama": "1",
                                    "Előző foglalás időtartama": "7"
                                },
                                {
                                    "Szoba_ID": "173",
                                    "Foglalás_ID": "1350",
                                    "Foglalás időtartama": "3",
                                    "Előző foglalás időtartama": "1"
                                },
                                {
                                    "Szoba_ID": "173",
                                    "Foglalás_ID": "1429",
                                    "Foglalás időtartama": "4",
                                    "Előző foglalás időtartama": "3"
                                },
                                {
                                    "Szoba_ID": "174",
                                    "Foglalás_ID": "682",
                                    "Foglalás időtartama": "3",
                                    "Előző foglalás időtartama": "0"
                                },
                                {
                                    "Szoba_ID": "174",
                                    "Foglalás_ID": "917",
                                    "Foglalás időtartama": "2",
                                    "Előző foglalás időtartama": "3"
                                },
                                {
                                    "Szoba_ID": "174",
                                    "Foglalás_ID": "1015",
                                    "Foglalás időtartama": "5",
                                    "Előző foglalás időtartama": "2"
                                },
                                {
                                    "Szoba_ID": "174",
                                    "Foglalás_ID": "1276",
                                    "Foglalás időtartama": "1",
                                    "Előző foglalás időtartama": "5"
                                },
                                {
                                    "Szoba_ID": "175",
                                    "Foglalás_ID": "799",
                                    "Foglalás időtartama": "4",
                                    "Előző foglalás időtartama": "0"
                                },
                                {
                                    "Szoba_ID": "175",
                                    "Foglalás_ID": "867",
                                    "Foglalás időtartama": "6",
                                    "Előző foglalás időtartama": "4"
                                },
                                {
                                    "Szoba_ID": "175",
                                    "Foglalás_ID": "1094",
                                    "Foglalás időtartama": "5",
                                    "Előző foglalás időtartama": "6"
                                },
                                {
                                    "Szoba_ID": "175",
                                    "Foglalás_ID": "1133",
                                    "Foglalás időtartama": "2",
                                    "Előző foglalás időtartama": "5"
                                },
                                {
                                    "Szoba_ID": "175",
                                    "Foglalás_ID": "1407",
                                    "Foglalás időtartama": "7",
                                    "Előző foglalás időtartama": "2"
                                },
                                {
                                    "Szoba_ID": "176",
                                    "Foglalás_ID": "592",
                                    "Foglalás időtartama": "5",
                                    "Előző foglalás időtartama": "0"
                                },
                                {
                                    "Szoba_ID": "176",
                                    "Foglalás_ID": "1143",
                                    "Foglalás időtartama": "6",
                                    "Előző foglalás időtartama": "5"
                                },
                                {
                                    "Szoba_ID": "176",
                                    "Foglalás_ID": "1278",
                                    "Foglalás időtartama": "6",
                                    "Előző foglalás időtartama": "6"
                                },
                                {
                                    "Szoba_ID": "176",
                                    "Foglalás_ID": "1383",
                                    "Foglalás időtartama": "4",
                                    "Előző foglalás időtartama": "6"
                                },
                                {
                                    "Szoba_ID": "176",
                                    "Foglalás_ID": "1511",
                                    "Foglalás időtartama": "2",
                                    "Előző foglalás időtartama": "4"
                                },
                                {
                                    "Szoba_ID": "176",
                                    "Foglalás_ID": "1570",
                                    "Foglalás időtartama": "3",
                                    "Előző foglalás időtartama": "2"
                                },
                                {
                                    "Szoba_ID": "177",
                                    "Foglalás_ID": "785",
                                    "Foglalás időtartama": "3",
                                    "Előző foglalás időtartama": "0"
                                },
                                {
                                    "Szoba_ID": "177",
                                    "Foglalás_ID": "831",
                                    "Foglalás időtartama": "7",
                                    "Előző foglalás időtartama": "3"
                                },
                                {
                                    "Szoba_ID": "177",
                                    "Foglalás_ID": "1176",
                                    "Foglalás időtartama": "3",
                                    "Előző foglalás időtartama": "7"
                                },
                                {
                                    "Szoba_ID": "177",
                                    "Foglalás_ID": "1503",
                                    "Foglalás időtartama": "3",
                                    "Előző foglalás időtartama": "3"
                                },
                                {
                                    "Szoba_ID": "178",
                                    "Foglalás_ID": "816",
                                    "Foglalás időtartama": "4",
                                    "Előző foglalás időtartama": "0"
                                },
                                {
                                    "Szoba_ID": "178",
                                    "Foglalás_ID": "991",
                                    "Foglalás időtartama": "7",
                                    "Előző foglalás időtartama": "4"
                                },
                                {
                                    "Szoba_ID": "178",
                                    "Foglalás_ID": "1211",
                                    "Foglalás időtartama": "3",
                                    "Előző foglalás időtartama": "7"
                                },
                                {
                                    "Szoba_ID": "178",
                                    "Foglalás_ID": "1242",
                                    "Foglalás időtartama": "1",
                                    "Előző foglalás időtartama": "3"
                                },
                                {
                                    "Szoba_ID": "179",
                                    "Foglalás_ID": "662",
                                    "Foglalás időtartama": "2",
                                    "Előző foglalás időtartama": "0"
                                },
                                {
                                    "Szoba_ID": "179",
                                    "Foglalás_ID": "1021",
                                    "Foglalás időtartama": "1",
                                    "Előző foglalás időtartama": "2"
                                },
                                {
                                    "Szoba_ID": "179",
                                    "Foglalás_ID": "1497",
                                    "Foglalás időtartama": "1",
                                    "Előző foglalás időtartama": "1"
                                },
                                {
                                    "Szoba_ID": "180",
                                    "Foglalás_ID": "905",
                                    "Foglalás időtartama": "5",
                                    "Előző foglalás időtartama": "0"
                                },
                                {
                                    "Szoba_ID": "180",
                                    "Foglalás_ID": "1559",
                                    "Foglalás időtartama": "3",
                                    "Előző foglalás időtartama": "5"
                                },
                                {
                                    "Szoba_ID": "180",
                                    "Foglalás_ID": "1563",
                                    "Foglalás időtartama": "6",
                                    "Előző foglalás időtartama": "3"
                                },
                                {
                                    "Szoba_ID": "181",
                                    "Foglalás_ID": "677",
                                    "Foglalás időtartama": "4",
                                    "Előző foglalás időtartama": "0"
                                },
                                {
                                    "Szoba_ID": "181",
                                    "Foglalás_ID": "731",
                                    "Foglalás időtartama": "6",
                                    "Előző foglalás időtartama": "4"
                                },
                                {
                                    "Szoba_ID": "181",
                                    "Foglalás_ID": "937",
                                    "Foglalás időtartama": "3",
                                    "Előző foglalás időtartama": "6"
                                },
                                {
                                    "Szoba_ID": "181",
                                    "Foglalás_ID": "958",
                                    "Foglalás időtartama": "5",
                                    "Előző foglalás időtartama": "3"
                                },
                                {
                                    "Szoba_ID": "181",
                                    "Foglalás_ID": "1022",
                                    "Foglalás időtartama": "1",
                                    "Előző foglalás időtartama": "5"
                                },
                                {
                                    "Szoba_ID": "181",
                                    "Foglalás_ID": "1346",
                                    "Foglalás időtartama": "6",
                                    "Előző foglalás időtartama": "1"
                                },
                                {
                                    "Szoba_ID": "182",
                                    "Foglalás_ID": "571",
                                    "Foglalás időtartama": "2",
                                    "Előző foglalás időtartama": "0"
                                },
                                {
                                    "Szoba_ID": "182",
                                    "Foglalás_ID": "740",
                                    "Foglalás időtartama": "3",
                                    "Előző foglalás időtartama": "2"
                                },
                                {
                                    "Szoba_ID": "182",
                                    "Foglalás_ID": "928",
                                    "Foglalás időtartama": "2",
                                    "Előző foglalás időtartama": "3"
                                },
                                {
                                    "Szoba_ID": "182",
                                    "Foglalás_ID": "1008",
                                    "Foglalás időtartama": "6",
                                    "Előző foglalás időtartama": "2"
                                },
                                {
                                    "Szoba_ID": "182",
                                    "Foglalás_ID": "1188",
                                    "Foglalás időtartama": "1",
                                    "Előző foglalás időtartama": "6"
                                },
                                {
                                    "Szoba_ID": "182",
                                    "Foglalás_ID": "1230",
                                    "Foglalás időtartama": "7",
                                    "Előző foglalás időtartama": "1"
                                },
                                {
                                    "Szoba_ID": "182",
                                    "Foglalás_ID": "1231",
                                    "Foglalás időtartama": "4",
                                    "Előző foglalás időtartama": "7"
                                },
                                {
                                    "Szoba_ID": "182",
                                    "Foglalás_ID": "1308",
                                    "Foglalás időtartama": "1",
                                    "Előző foglalás időtartama": "4"
                                },
                                {
                                    "Szoba_ID": "182",
                                    "Foglalás_ID": "1317",
                                    "Foglalás időtartama": "3",
                                    "Előző foglalás időtartama": "1"
                                },
                                {
                                    "Szoba_ID": "182",
                                    "Foglalás_ID": "1326",
                                    "Foglalás időtartama": "4",
                                    "Előző foglalás időtartama": "3"
                                },
                                {
                                    "Szoba_ID": "182",
                                    "Foglalás_ID": "1410",
                                    "Foglalás időtartama": "4",
                                    "Előző foglalás időtartama": "4"
                                },
                                {
                                    "Szoba_ID": "182",
                                    "Foglalás_ID": "1422",
                                    "Foglalás időtartama": "3",
                                    "Előző foglalás időtartama": "4"
                                },
                                {
                                    "Szoba_ID": "183",
                                    "Foglalás_ID": "939",
                                    "Foglalás időtartama": "4",
                                    "Előző foglalás időtartama": "0"
                                },
                                {
                                    "Szoba_ID": "183",
                                    "Foglalás_ID": "1067",
                                    "Foglalás időtartama": "7",
                                    "Előző foglalás időtartama": "4"
                                },
                                {
                                    "Szoba_ID": "183",
                                    "Foglalás_ID": "1147",
                                    "Foglalás időtartama": "4",
                                    "Előző foglalás időtartama": "7"
                                },
                                {
                                    "Szoba_ID": "183",
                                    "Foglalás_ID": "1437",
                                    "Foglalás időtartama": "4",
                                    "Előző foglalás időtartama": "4"
                                },
                                {
                                    "Szoba_ID": "184",
                                    "Foglalás_ID": "608",
                                    "Foglalás időtartama": "2",
                                    "Előző foglalás időtartama": "0"
                                },
                                {
                                    "Szoba_ID": "184",
                                    "Foglalás_ID": "684",
                                    "Foglalás időtartama": "3",
                                    "Előző foglalás időtartama": "2"
                                },
                                {
                                    "Szoba_ID": "184",
                                    "Foglalás_ID": "880",
                                    "Foglalás időtartama": "4",
                                    "Előző foglalás időtartama": "3"
                                },
                                {
                                    "Szoba_ID": "184",
                                    "Foglalás_ID": "1251",
                                    "Foglalás időtartama": "4",
                                    "Előző foglalás időtartama": "4"
                                },
                                {
                                    "Szoba_ID": "185",
                                    "Foglalás_ID": "578",
                                    "Foglalás időtartama": "6",
                                    "Előző foglalás időtartama": "0"
                                },
                                {
                                    "Szoba_ID": "185",
                                    "Foglalás_ID": "672",
                                    "Foglalás időtartama": "3",
                                    "Előző foglalás időtartama": "6"
                                },
                                {
                                    "Szoba_ID": "185",
                                    "Foglalás_ID": "679",
                                    "Foglalás időtartama": "5",
                                    "Előző foglalás időtartama": "3"
                                },
                                {
                                    "Szoba_ID": "185",
                                    "Foglalás_ID": "693",
                                    "Foglalás időtartama": "2",
                                    "Előző foglalás időtartama": "5"
                                },
                                {
                                    "Szoba_ID": "185",
                                    "Foglalás_ID": "711",
                                    "Foglalás időtartama": "3",
                                    "Előző foglalás időtartama": "2"
                                },
                                {
                                    "Szoba_ID": "185",
                                    "Foglalás_ID": "863",
                                    "Foglalás időtartama": "4",
                                    "Előző foglalás időtartama": "3"
                                },
                                {
                                    "Szoba_ID": "185",
                                    "Foglalás_ID": "898",
                                    "Foglalás időtartama": "4",
                                    "Előző foglalás időtartama": "4"
                                },
                                {
                                    "Szoba_ID": "185",
                                    "Foglalás_ID": "925",
                                    "Foglalás időtartama": "6",
                                    "Előző foglalás időtartama": "4"
                                },
                                {
                                    "Szoba_ID": "185",
                                    "Foglalás_ID": "1125",
                                    "Foglalás időtartama": "3",
                                    "Előző foglalás időtartama": "6"
                                },
                                {
                                    "Szoba_ID": "185",
                                    "Foglalás_ID": "1183",
                                    "Foglalás időtartama": "5",
                                    "Előző foglalás időtartama": "3"
                                },
                                {
                                    "Szoba_ID": "185",
                                    "Foglalás_ID": "1441",
                                    "Foglalás időtartama": "7",
                                    "Előző foglalás időtartama": "5"
                                },
                                {
                                    "Szoba_ID": "185",
                                    "Foglalás_ID": "1463",
                                    "Foglalás időtartama": "7",
                                    "Előző foglalás időtartama": "7"
                                },
                                {
                                    "Szoba_ID": "186",
                                    "Foglalás_ID": "615",
                                    "Foglalás időtartama": "3",
                                    "Előző foglalás időtartama": "0"
                                },
                                {
                                    "Szoba_ID": "186",
                                    "Foglalás_ID": "1153",
                                    "Foglalás időtartama": "3",
                                    "Előző foglalás időtartama": "3"
                                },
                                {
                                    "Szoba_ID": "186",
                                    "Foglalás_ID": "1248",
                                    "Foglalás időtartama": "2",
                                    "Előző foglalás időtartama": "3"
                                },
                                {
                                    "Szoba_ID": "186",
                                    "Foglalás_ID": "1467",
                                    "Foglalás időtartama": "3",
                                    "Előző foglalás időtartama": "2"
                                },
                                {
                                    "Szoba_ID": "187",
                                    "Foglalás_ID": "633",
                                    "Foglalás időtartama": "6",
                                    "Előző foglalás időtartama": "0"
                                },
                                {
                                    "Szoba_ID": "187",
                                    "Foglalás_ID": "695",
                                    "Foglalás időtartama": "6",
                                    "Előző foglalás időtartama": "6"
                                },
                                {
                                    "Szoba_ID": "187",
                                    "Foglalás_ID": "743",
                                    "Foglalás időtartama": "2",
                                    "Előző foglalás időtartama": "6"
                                },
                                {
                                    "Szoba_ID": "187",
                                    "Foglalás_ID": "766",
                                    "Foglalás időtartama": "1",
                                    "Előző foglalás időtartama": "2"
                                },
                                {
                                    "Szoba_ID": "187",
                                    "Foglalás_ID": "868",
                                    "Foglalás időtartama": "4",
                                    "Előző foglalás időtartama": "1"
                                },
                                {
                                    "Szoba_ID": "187",
                                    "Foglalás_ID": "957",
                                    "Foglalás időtartama": "4",
                                    "Előző foglalás időtartama": "4"
                                },
                                {
                                    "Szoba_ID": "187",
                                    "Foglalás_ID": "1404",
                                    "Foglalás időtartama": "2",
                                    "Előző foglalás időtartama": "4"
                                },
                                {
                                    "Szoba_ID": "188",
                                    "Foglalás_ID": "690",
                                    "Foglalás időtartama": "4",
                                    "Előző foglalás időtartama": "0"
                                },
                                {
                                    "Szoba_ID": "188",
                                    "Foglalás_ID": "710",
                                    "Foglalás időtartama": "7",
                                    "Előző foglalás időtartama": "4"
                                },
                                {
                                    "Szoba_ID": "188",
                                    "Foglalás_ID": "747",
                                    "Foglalás időtartama": "3",
                                    "Előző foglalás időtartama": "7"
                                },
                                {
                                    "Szoba_ID": "188",
                                    "Foglalás_ID": "912",
                                    "Foglalás időtartama": "1",
                                    "Előző foglalás időtartama": "3"
                                },
                                {
                                    "Szoba_ID": "188",
                                    "Foglalás_ID": "1030",
                                    "Foglalás időtartama": "4",
                                    "Előző foglalás időtartama": "1"
                                },
                                {
                                    "Szoba_ID": "188",
                                    "Foglalás_ID": "1390",
                                    "Foglalás időtartama": "5",
                                    "Előző foglalás időtartama": "4"
                                },
                                {
                                    "Szoba_ID": "189",
                                    "Foglalás_ID": "699",
                                    "Foglalás időtartama": "2",
                                    "Előző foglalás időtartama": "0"
                                },
                                {
                                    "Szoba_ID": "189",
                                    "Foglalás_ID": "753",
                                    "Foglalás időtartama": "1",
                                    "Előző foglalás időtartama": "2"
                                },
                                {
                                    "Szoba_ID": "189",
                                    "Foglalás_ID": "1204",
                                    "Foglalás időtartama": "2",
                                    "Előző foglalás időtartama": "1"
                                },
                                {
                                    "Szoba_ID": "189",
                                    "Foglalás_ID": "1449",
                                    "Foglalás időtartama": "2",
                                    "Előző foglalás időtartama": "2"
                                },
                                {
                                    "Szoba_ID": "189",
                                    "Foglalás_ID": "1576",
                                    "Foglalás időtartama": "3",
                                    "Előző foglalás időtartama": "2"
                                },
                                {
                                    "Szoba_ID": "190",
                                    "Foglalás_ID": "600",
                                    "Foglalás időtartama": "7",
                                    "Előző foglalás időtartama": "0"
                                },
                                {
                                    "Szoba_ID": "190",
                                    "Foglalás_ID": "774",
                                    "Foglalás időtartama": "5",
                                    "Előző foglalás időtartama": "7"
                                },
                                {
                                    "Szoba_ID": "190",
                                    "Foglalás_ID": "989",
                                    "Foglalás időtartama": "1",
                                    "Előző foglalás időtartama": "5"
                                },
                                {
                                    "Szoba_ID": "190",
                                    "Foglalás_ID": "1017",
                                    "Foglalás időtartama": "1",
                                    "Előző foglalás időtartama": "1"
                                },
                                {
                                    "Szoba_ID": "190",
                                    "Foglalás_ID": "1517",
                                    "Foglalás időtartama": "5",
                                    "Előző foglalás időtartama": "1"
                                },
                                {
                                    "Szoba_ID": "191",
                                    "Foglalás_ID": "1039",
                                    "Foglalás időtartama": "6",
                                    "Előző foglalás időtartama": "0"
                                },
                                {
                                    "Szoba_ID": "191",
                                    "Foglalás_ID": "1302",
                                    "Foglalás időtartama": "1",
                                    "Előző foglalás időtartama": "6"
                                },
                                {
                                    "Szoba_ID": "191",
                                    "Foglalás_ID": "1323",
                                    "Foglalás időtartama": "7",
                                    "Előző foglalás időtartama": "1"
                                },
                                {
                                    "Szoba_ID": "191",
                                    "Foglalás_ID": "1502",
                                    "Foglalás időtartama": "2",
                                    "Előző foglalás időtartama": "7"
                                },
                                {
                                    "Szoba_ID": "191",
                                    "Foglalás_ID": "1508",
                                    "Foglalás időtartama": "7",
                                    "Előző foglalás időtartama": "2"
                                },
                                {
                                    "Szoba_ID": "192",
                                    "Foglalás_ID": "680",
                                    "Foglalás időtartama": "4",
                                    "Előző foglalás időtartama": "0"
                                },
                                {
                                    "Szoba_ID": "192",
                                    "Foglalás_ID": "903",
                                    "Foglalás időtartama": "7",
                                    "Előző foglalás időtartama": "4"
                                },
                                {
                                    "Szoba_ID": "193",
                                    "Foglalás_ID": "634",
                                    "Foglalás időtartama": "6",
                                    "Előző foglalás időtartama": "0"
                                },
                                {
                                    "Szoba_ID": "193",
                                    "Foglalás_ID": "675",
                                    "Foglalás időtartama": "2",
                                    "Előző foglalás időtartama": "6"
                                },
                                {
                                    "Szoba_ID": "193",
                                    "Foglalás_ID": "835",
                                    "Foglalás időtartama": "2",
                                    "Előző foglalás időtartama": "2"
                                },
                                {
                                    "Szoba_ID": "193",
                                    "Foglalás_ID": "926",
                                    "Foglalás időtartama": "1",
                                    "Előző foglalás időtartama": "2"
                                },
                                {
                                    "Szoba_ID": "193",
                                    "Foglalás_ID": "977",
                                    "Foglalás időtartama": "2",
                                    "Előző foglalás időtartama": "1"
                                },
                                {
                                    "Szoba_ID": "193",
                                    "Foglalás_ID": "1043",
                                    "Foglalás időtartama": "6",
                                    "Előző foglalás időtartama": "2"
                                },
                                {
                                    "Szoba_ID": "193",
                                    "Foglalás_ID": "1238",
                                    "Foglalás időtartama": "6",
                                    "Előző foglalás időtartama": "6"
                                },
                                {
                                    "Szoba_ID": "194",
                                    "Foglalás_ID": "1095",
                                    "Foglalás időtartama": "5",
                                    "Előző foglalás időtartama": "0"
                                },
                                {
                                    "Szoba_ID": "195",
                                    "Foglalás_ID": "721",
                                    "Foglalás időtartama": "4",
                                    "Előző foglalás időtartama": "0"
                                },
                                {
                                    "Szoba_ID": "195",
                                    "Foglalás_ID": "842",
                                    "Foglalás időtartama": "4",
                                    "Előző foglalás időtartama": "4"
                                },
                                {
                                    "Szoba_ID": "195",
                                    "Foglalás_ID": "1074",
                                    "Foglalás időtartama": "7",
                                    "Előző foglalás időtartama": "4"
                                },
                                {
                                    "Szoba_ID": "195",
                                    "Foglalás_ID": "1184",
                                    "Foglalás időtartama": "5",
                                    "Előző foglalás időtartama": "7"
                                },
                                {
                                    "Szoba_ID": "195",
                                    "Foglalás_ID": "1473",
                                    "Foglalás időtartama": "7",
                                    "Előző foglalás időtartama": "5"
                                },
                                {
                                    "Szoba_ID": "195",
                                    "Foglalás_ID": "1484",
                                    "Foglalás időtartama": "1",
                                    "Előző foglalás időtartama": "7"
                                },
                                {
                                    "Szoba_ID": "196",
                                    "Foglalás_ID": "673",
                                    "Foglalás időtartama": "5",
                                    "Előző foglalás időtartama": "0"
                                },
                                {
                                    "Szoba_ID": "196",
                                    "Foglalás_ID": "952",
                                    "Foglalás időtartama": "3",
                                    "Előző foglalás időtartama": "5"
                                },
                                {
                                    "Szoba_ID": "196",
                                    "Foglalás_ID": "1314",
                                    "Foglalás időtartama": "5",
                                    "Előző foglalás időtartama": "3"
                                },
                                {
                                    "Szoba_ID": "196",
                                    "Foglalás_ID": "1340",
                                    "Foglalás időtartama": "5",
                                    "Előző foglalás időtartama": "5"
                                },
                                {
                                    "Szoba_ID": "197",
                                    "Foglalás_ID": "764",
                                    "Foglalás időtartama": "7",
                                    "Előző foglalás időtartama": "0"
                                },
                                {
                                    "Szoba_ID": "197",
                                    "Foglalás_ID": "993",
                                    "Foglalás időtartama": "7",
                                    "Előző foglalás időtartama": "7"
                                },
                                {
                                    "Szoba_ID": "197",
                                    "Foglalás_ID": "1091",
                                    "Foglalás időtartama": "7",
                                    "Előző foglalás időtartama": "7"
                                },
                                {
                                    "Szoba_ID": "197",
                                    "Foglalás_ID": "1172",
                                    "Foglalás időtartama": "7",
                                    "Előző foglalás időtartama": "7"
                                },
                                {
                                    "Szoba_ID": "197",
                                    "Foglalás_ID": "1304",
                                    "Foglalás időtartama": "7",
                                    "Előző foglalás időtartama": "7"
                                },
                                {
                                    "Szoba_ID": "197",
                                    "Foglalás_ID": "1387",
                                    "Foglalás időtartama": "3",
                                    "Előző foglalás időtartama": "7"
                                },
                                {
                                    "Szoba_ID": "198",
                                    "Foglalás_ID": "978",
                                    "Foglalás időtartama": "1",
                                    "Előző foglalás időtartama": "0"
                                },
                                {
                                    "Szoba_ID": "198",
                                    "Foglalás_ID": "1011",
                                    "Foglalás időtartama": "7",
                                    "Előző foglalás időtartama": "1"
                                },
                                {
                                    "Szoba_ID": "198",
                                    "Foglalás_ID": "1065",
                                    "Foglalás időtartama": "3",
                                    "Előző foglalás időtartama": "7"
                                },
                                {
                                    "Szoba_ID": "198",
                                    "Foglalás_ID": "1116",
                                    "Foglalás időtartama": "1",
                                    "Előző foglalás időtartama": "3"
                                },
                                {
                                    "Szoba_ID": "198",
                                    "Foglalás_ID": "1138",
                                    "Foglalás időtartama": "5",
                                    "Előző foglalás időtartama": "1"
                                },
                                {
                                    "Szoba_ID": "198",
                                    "Foglalás_ID": "1161",
                                    "Foglalás időtartama": "5",
                                    "Előző foglalás időtartama": "5"
                                },
                                {
                                    "Szoba_ID": "198",
                                    "Foglalás_ID": "1216",
                                    "Foglalás időtartama": "7",
                                    "Előző foglalás időtartama": "5"
                                },
                                {
                                    "Szoba_ID": "198",
                                    "Foglalás_ID": "1420",
                                    "Foglalás időtartama": "5",
                                    "Előző foglalás időtartama": "7"
                                }
                            ]
                        },
                        "text/html": [
                            "<table>",
                            "<tr><th>Szoba_ID</th><th>Foglalás_ID</th><th>Foglalás időtartama</th><th>Előző foglalás időtartama</th></tr>",
                            "<tr><td>1</td><td>620</td><td>5</td><td>0</td></tr>",
                            "<tr><td>1</td><td>738</td><td>7</td><td>5</td></tr>",
                            "<tr><td>1</td><td>803</td><td>4</td><td>7</td></tr>",
                            "<tr><td>1</td><td>949</td><td>1</td><td>4</td></tr>",
                            "<tr><td>1</td><td>1137</td><td>2</td><td>1</td></tr>",
                            "<tr><td>1</td><td>1152</td><td>1</td><td>2</td></tr>",
                            "<tr><td>1</td><td>1274</td><td>1</td><td>1</td></tr>",
                            "<tr><td>1</td><td>1334</td><td>4</td><td>1</td></tr>",
                            "<tr><td>2</td><td>828</td><td>3</td><td>0</td></tr>",
                            "<tr><td>2</td><td>1051</td><td>1</td><td>3</td></tr>",
                            "<tr><td>2</td><td>1069</td><td>7</td><td>1</td></tr>",
                            "<tr><td>2</td><td>1311</td><td>7</td><td>7</td></tr>",
                            "<tr><td>3</td><td>629</td><td>4</td><td>0</td></tr>",
                            "<tr><td>3</td><td>666</td><td>6</td><td>4</td></tr>",
                            "<tr><td>3</td><td>788</td><td>6</td><td>6</td></tr>",
                            "<tr><td>3</td><td>1038</td><td>3</td><td>6</td></tr>",
                            "<tr><td>3</td><td>1110</td><td>7</td><td>3</td></tr>",
                            "<tr><td>3</td><td>1151</td><td>1</td><td>7</td></tr>",
                            "<tr><td>3</td><td>1434</td><td>5</td><td>1</td></tr>",
                            "<tr><td>3</td><td>1544</td><td>5</td><td>5</td></tr>",
                            "<tr><td>4</td><td>651</td><td>7</td><td>0</td></tr>",
                            "<tr><td>4</td><td>946</td><td>5</td><td>7</td></tr>",
                            "<tr><td>4</td><td>1001</td><td>7</td><td>5</td></tr>",
                            "<tr><td>4</td><td>1127</td><td>3</td><td>7</td></tr>",
                            "<tr><td>4</td><td>1132</td><td>6</td><td>3</td></tr>",
                            "<tr><td>4</td><td>1492</td><td>6</td><td>6</td></tr>",
                            "<tr><td>5</td><td>564</td><td>2</td><td>0</td></tr>",
                            "<tr><td>5</td><td>965</td><td>7</td><td>2</td></tr>",
                            "<tr><td>5</td><td>1073</td><td>5</td><td>7</td></tr>",
                            "<tr><td>5</td><td>1257</td><td>3</td><td>5</td></tr>",
                            "<tr><td>6</td><td>560</td><td>6</td><td>0</td></tr>",
                            "<tr><td>6</td><td>772</td><td>6</td><td>6</td></tr>",
                            "<tr><td>6</td><td>850</td><td>2</td><td>6</td></tr>",
                            "<tr><td>6</td><td>873</td><td>3</td><td>2</td></tr>",
                            "<tr><td>6</td><td>990</td><td>4</td><td>3</td></tr>",
                            "<tr><td>6</td><td>1099</td><td>4</td><td>4</td></tr>",
                            "<tr><td>7</td><td>562</td><td>4</td><td>0</td></tr>",
                            "<tr><td>7</td><td>759</td><td>7</td><td>4</td></tr>",
                            "<tr><td>7</td><td>1131</td><td>1</td><td>7</td></tr>",
                            "<tr><td>7</td><td>1175</td><td>4</td><td>1</td></tr>",
                            "<tr><td>7</td><td>1182</td><td>4</td><td>4</td></tr>",
                            "<tr><td>7</td><td>1252</td><td>2</td><td>4</td></tr>",
                            "<tr><td>8</td><td>694</td><td>4</td><td>0</td></tr>",
                            "<tr><td>8</td><td>818</td><td>4</td><td>4</td></tr>",
                            "<tr><td>8</td><td>832</td><td>4</td><td>4</td></tr>",
                            "<tr><td>8</td><td>882</td><td>1</td><td>4</td></tr>",
                            "<tr><td>8</td><td>947</td><td>3</td><td>1</td></tr>",
                            "<tr><td>9</td><td>609</td><td>2</td><td>0</td></tr>",
                            "<tr><td>9</td><td>1157</td><td>6</td><td>2</td></tr>",
                            "<tr><td>9</td><td>1220</td><td>3</td><td>6</td></tr>",
                            "<tr><td>9</td><td>1260</td><td>6</td><td>3</td></tr>",
                            "<tr><td>9</td><td>1423</td><td>3</td><td>6</td></tr>",
                            "<tr><td>9</td><td>1537</td><td>3</td><td>3</td></tr>",
                            "<tr><td>10</td><td>569</td><td>3</td><td>0</td></tr>",
                            "<tr><td>10</td><td>790</td><td>5</td><td>3</td></tr>",
                            "<tr><td>10</td><td>795</td><td>4</td><td>5</td></tr>",
                            "<tr><td>10</td><td>1319</td><td>6</td><td>4</td></tr>",
                            "<tr><td>11</td><td>918</td><td>6</td><td>0</td></tr>",
                            "<tr><td>11</td><td>1123</td><td>5</td><td>6</td></tr>",
                            "<tr><td>11</td><td>1236</td><td>1</td><td>5</td></tr>",
                            "<tr><td>11</td><td>1523</td><td>1</td><td>1</td></tr>",
                            "<tr><td>12</td><td>697</td><td>2</td><td>0</td></tr>",
                            "<tr><td>12</td><td>775</td><td>4</td><td>2</td></tr>",
                            "<tr><td>12</td><td>876</td><td>7</td><td>4</td></tr>",
                            "<tr><td>12</td><td>951</td><td>3</td><td>7</td></tr>",
                            "<tr><td>12</td><td>970</td><td>2</td><td>3</td></tr>",
                            "<tr><td>12</td><td>1020</td><td>5</td><td>2</td></tr>",
                            "<tr><td>12</td><td>1140</td><td>3</td><td>5</td></tr>",
                            "<tr><td>12</td><td>1164</td><td>5</td><td>3</td></tr>",
                            "<tr><td>12</td><td>1430</td><td>2</td><td>5</td></tr>",
                            "<tr><td>13</td><td>763</td><td>4</td><td>0</td></tr>",
                            "<tr><td>13</td><td>1044</td><td>6</td><td>4</td></tr>",
                            "<tr><td>13</td><td>1347</td><td>3</td><td>6</td></tr>",
                            "<tr><td>13</td><td>1469</td><td>2</td><td>3</td></tr>",
                            "<tr><td>14</td><td>663</td><td>1</td><td>0</td></tr>",
                            "<tr><td>14</td><td>813</td><td>3</td><td>1</td></tr>",
                            "<tr><td>14</td><td>1542</td><td>4</td><td>3</td></tr>",
                            "<tr><td>15</td><td>791</td><td>5</td><td>0</td></tr>",
                            "<tr><td>15</td><td>1028</td><td>2</td><td>5</td></tr>",
                            "<tr><td>15</td><td>1129</td><td>4</td><td>2</td></tr>",
                            "<tr><td>15</td><td>1244</td><td>1</td><td>4</td></tr>",
                            "<tr><td>15</td><td>1418</td><td>4</td><td>1</td></tr>",
                            "<tr><td>15</td><td>1442</td><td>3</td><td>4</td></tr>",
                            "<tr><td>16</td><td>687</td><td>3</td><td>0</td></tr>",
                            "<tr><td>16</td><td>856</td><td>6</td><td>3</td></tr>",
                            "<tr><td>16</td><td>896</td><td>1</td><td>6</td></tr>",
                            "<tr><td>16</td><td>973</td><td>1</td><td>1</td></tr>",
                            "<tr><td>16</td><td>1498</td><td>7</td><td>1</td></tr>",
                            "<tr><td>17</td><td>602</td><td>6</td><td>0</td></tr>",
                            "<tr><td>17</td><td>713</td><td>6</td><td>6</td></tr>",
                            "<tr><td>17</td><td>744</td><td>1</td><td>6</td></tr>",
                            "<tr><td>17</td><td>916</td><td>2</td><td>1</td></tr>",
                            "<tr><td>17</td><td>1316</td><td>5</td><td>2</td></tr>",
                            "<tr><td>17</td><td>1549</td><td>3</td><td>5</td></tr>",
                            "<tr><td>18</td><td>626</td><td>3</td><td>0</td></tr>",
                            "<tr><td>18</td><td>767</td><td>3</td><td>3</td></tr>",
                            "<tr><td>18</td><td>1035</td><td>6</td><td>3</td></tr>",
                            "<tr><td>18</td><td>1173</td><td>6</td><td>6</td></tr>",
                            "<tr><td>18</td><td>1198</td><td>4</td><td>6</td></tr>",
                            "<tr><td>18</td><td>1505</td><td>6</td><td>4</td></tr>",
                            "<tr><td>19</td><td>696</td><td>1</td><td>0</td></tr>",
                            "<tr><td>19</td><td>778</td><td>1</td><td>1</td></tr>",
                            "<tr><td>19</td><td>948</td><td>2</td><td>1</td></tr>",
                            "<tr><td>19</td><td>1139</td><td>7</td><td>2</td></tr>",
                            "<tr><td>19</td><td>1237</td><td>1</td><td>7</td></tr>",
                            "<tr><td>19</td><td>1533</td><td>1</td><td>1</td></tr>",
                            "<tr><td>20</td><td>755</td><td>6</td><td>0</td></tr>",
                            "<tr><td>20</td><td>820</td><td>1</td><td>6</td></tr>",
                            "<tr><td>20</td><td>1070</td><td>1</td><td>1</td></tr>",
                            "<tr><td>20</td><td>1106</td><td>2</td><td>1</td></tr>",
                            "<tr><td>20</td><td>1114</td><td>5</td><td>2</td></tr>",
                            "<tr><td>21</td><td>566</td><td>6</td><td>0</td></tr>",
                            "<tr><td>21</td><td>660</td><td>5</td><td>6</td></tr>",
                            "<tr><td>21</td><td>805</td><td>1</td><td>5</td></tr>",
                            "<tr><td>21</td><td>1212</td><td>6</td><td>1</td></tr>",
                            "<tr><td>22</td><td>906</td><td>1</td><td>0</td></tr>",
                            "<tr><td>22</td><td>1005</td><td>3</td><td>1</td></tr>",
                            "<tr><td>22</td><td>1130</td><td>1</td><td>3</td></tr>",
                            "<tr><td>22</td><td>1195</td><td>6</td><td>1</td></tr>",
                            "<tr><td>22</td><td>1206</td><td>7</td><td>6</td></tr>",
                            "<tr><td>22</td><td>1287</td><td>3</td><td>7</td></tr>",
                            "<tr><td>23</td><td>848</td><td>1</td><td>0</td></tr>",
                            "<tr><td>23</td><td>934</td><td>1</td><td>1</td></tr>",
                            "<tr><td>23</td><td>945</td><td>7</td><td>1</td></tr>",
                            "<tr><td>24</td><td>852</td><td>2</td><td>0</td></tr>",
                            "<tr><td>24</td><td>1167</td><td>1</td><td>2</td></tr>",
                            "<tr><td>24</td><td>1415</td><td>3</td><td>1</td></tr>",
                            "<tr><td>25</td><td>1052</td><td>3</td><td>0</td></tr>",
                            "<tr><td>25</td><td>1362</td><td>2</td><td>3</td></tr>",
                            "<tr><td>26</td><td>1158</td><td>2</td><td>0</td></tr>",
                            "<tr><td>26</td><td>1388</td><td>3</td><td>2</td></tr>",
                            "<tr><td>27</td><td>758</td><td>3</td><td>0</td></tr>",
                            "<tr><td>27</td><td>807</td><td>2</td><td>3</td></tr>",
                            "<tr><td>27</td><td>1031</td><td>2</td><td>2</td></tr>",
                            "<tr><td>27</td><td>1082</td><td>5</td><td>2</td></tr>",
                            "<tr><td>27</td><td>1275</td><td>6</td><td>5</td></tr>",
                            "<tr><td>27</td><td>1377</td><td>1</td><td>6</td></tr>",
                            "<tr><td>27</td><td>1476</td><td>1</td><td>1</td></tr>",
                            "<tr><td>28</td><td>725</td><td>5</td><td>0</td></tr>",
                            "<tr><td>28</td><td>872</td><td>5</td><td>5</td></tr>",
                            "<tr><td>28</td><td>886</td><td>4</td><td>5</td></tr>",
                            "<tr><td>28</td><td>901</td><td>4</td><td>4</td></tr>",
                            "<tr><td>28</td><td>1150</td><td>6</td><td>4</td></tr>",
                            "<tr><td>28</td><td>1459</td><td>2</td><td>6</td></tr>",
                            "<tr><td>29</td><td>611</td><td>5</td><td>0</td></tr>",
                            "<tr><td>29</td><td>894</td><td>1</td><td>5</td></tr>",
                            "<tr><td>29</td><td>1076</td><td>7</td><td>1</td></tr>",
                            "<tr><td>29</td><td>1185</td><td>5</td><td>7</td></tr>",
                            "<tr><td>29</td><td>1235</td><td>7</td><td>5</td></tr>",
                            "<tr><td>29</td><td>1568</td><td>7</td><td>7</td></tr>",
                            "<tr><td>30</td><td>604</td><td>2</td><td>0</td></tr>",
                            "<tr><td>30</td><td>1023</td><td>7</td><td>2</td></tr>",
                            "<tr><td>30</td><td>1136</td><td>5</td><td>7</td></tr>",
                            "<tr><td>31</td><td>598</td><td>2</td><td>0</td></tr>",
                            "<tr><td>31</td><td>606</td><td>1</td><td>2</td></tr>",
                            "<tr><td>31</td><td>728</td><td>4</td><td>1</td></tr>",
                            "<tr><td>32</td><td>920</td><td>4</td><td>0</td></tr>",
                            "<tr><td>33</td><td>624</td><td>6</td><td>0</td></tr>",
                            "<tr><td>33</td><td>1012</td><td>7</td><td>6</td></tr>",
                            "<tr><td>33</td><td>1053</td><td>1</td><td>7</td></tr>",
                            "<tr><td>33</td><td>1321</td><td>4</td><td>1</td></tr>",
                            "<tr><td>33</td><td>1344</td><td>5</td><td>4</td></tr>",
                            "<tr><td>33</td><td>1381</td><td>6</td><td>5</td></tr>",
                            "<tr><td>34</td><td>777</td><td>3</td><td>0</td></tr>",
                            "<tr><td>34</td><td>821</td><td>1</td><td>3</td></tr>",
                            "<tr><td>34</td><td>870</td><td>6</td><td>1</td></tr>",
                            "<tr><td>34</td><td>904</td><td>2</td><td>6</td></tr>",
                            "<tr><td>35</td><td>686</td><td>6</td><td>0</td></tr>",
                            "<tr><td>35</td><td>707</td><td>2</td><td>6</td></tr>",
                            "<tr><td>35</td><td>829</td><td>2</td><td>2</td></tr>",
                            "<tr><td>35</td><td>971</td><td>3</td><td>2</td></tr>",
                            "<tr><td>35</td><td>979</td><td>7</td><td>3</td></tr>",
                            "<tr><td>35</td><td>1411</td><td>1</td><td>7</td></tr>",
                            "<tr><td>35</td><td>1436</td><td>1</td><td>1</td></tr>",
                            "<tr><td>35</td><td>1480</td><td>37</td><td>1</td></tr>",
                            "<tr><td>35</td><td>1529</td><td>4</td><td>37</td></tr>",
                            "<tr><td>36</td><td>748</td><td>2</td><td>0</td></tr>",
                            "<tr><td>36</td><td>750</td><td>6</td><td>2</td></tr>",
                            "<tr><td>36</td><td>895</td><td>5</td><td>6</td></tr>",
                            "<tr><td>36</td><td>919</td><td>1</td><td>5</td></tr>",
                            "<tr><td>36</td><td>985</td><td>6</td><td>1</td></tr>",
                            "<tr><td>36</td><td>1003</td><td>4</td><td>6</td></tr>",
                            "<tr><td>37</td><td>688</td><td>2</td><td>0</td></tr>",
                            "<tr><td>37</td><td>705</td><td>4</td><td>2</td></tr>",
                            "<tr><td>37</td><td>1335</td><td>7</td><td>4</td></tr>",
                            "<tr><td>38</td><td>627</td><td>6</td><td>0</td></tr>",
                            "<tr><td>38</td><td>1033</td><td>2</td><td>6</td></tr>",
                            "<tr><td>38</td><td>1060</td><td>2</td><td>2</td></tr>",
                            "<tr><td>38</td><td>1078</td><td>7</td><td>2</td></tr>",
                            "<tr><td>38</td><td>1351</td><td>4</td><td>7</td></tr>",
                            "<tr><td>38</td><td>1416</td><td>5</td><td>4</td></tr>",
                            "<tr><td>38</td><td>1478</td><td>4</td><td>5</td></tr>",
                            "<tr><td>38</td><td>1556</td><td>6</td><td>4</td></tr>",
                            "<tr><td>39</td><td>601</td><td>6</td><td>0</td></tr>",
                            "<tr><td>39</td><td>899</td><td>6</td><td>6</td></tr>",
                            "<tr><td>39</td><td>1214</td><td>5</td><td>6</td></tr>",
                            "<tr><td>39</td><td>1380</td><td>5</td><td>5</td></tr>",
                            "<tr><td>39</td><td>1435</td><td>7</td><td>5</td></tr>",
                            "<tr><td>39</td><td>1454</td><td>1</td><td>7</td></tr>",
                            "<tr><td>39</td><td>1538</td><td>2</td><td>1</td></tr>",
                            "<tr><td>40</td><td>924</td><td>5</td><td>0</td></tr>",
                            "<tr><td>40</td><td>932</td><td>6</td><td>5</td></tr>",
                            "<tr><td>40</td><td>1018</td><td>5</td><td>6</td></tr>",
                            "<tr><td>40</td><td>1118</td><td>5</td><td>5</td></tr>",
                            "<tr><td>41</td><td>960</td><td>6</td><td>0</td></tr>",
                            "<tr><td>41</td><td>1144</td><td>1</td><td>6</td></tr>",
                            "<tr><td>42</td><td>561</td><td>4</td><td>0</td></tr>",
                            "<tr><td>42</td><td>590</td><td>5</td><td>4</td></tr>",
                            "<tr><td>42</td><td>770</td><td>3</td><td>5</td></tr>",
                            "<tr><td>42</td><td>851</td><td>7</td><td>3</td></tr>",
                            "<tr><td>42</td><td>1309</td><td>2</td><td>7</td></tr>",
                            "<tr><td>42</td><td>1444</td><td>6</td><td>2</td></tr>",
                            "<tr><td>43</td><td>670</td><td>4</td><td>0</td></tr>",
                            "<tr><td>43</td><td>1019</td><td>4</td><td>4</td></tr>",
                            "<tr><td>43</td><td>1088</td><td>2</td><td>4</td></tr>",
                            "<tr><td>43</td><td>1207</td><td>1</td><td>2</td></tr>",
                            "<tr><td>43</td><td>1227</td><td>5</td><td>1</td></tr>",
                            "<tr><td>43</td><td>1270</td><td>4</td><td>5</td></tr>",
                            "<tr><td>43</td><td>1524</td><td>1</td><td>4</td></tr>",
                            "<tr><td>43</td><td>1553</td><td>5</td><td>1</td></tr>",
                            "<tr><td>44</td><td>589</td><td>2</td><td>0</td></tr>",
                            "<tr><td>44</td><td>658</td><td>6</td><td>2</td></tr>",
                            "<tr><td>44</td><td>823</td><td>2</td><td>6</td></tr>",
                            "<tr><td>44</td><td>1295</td><td>2</td><td>2</td></tr>",
                            "<tr><td>44</td><td>1425</td><td>2</td><td>2</td></tr>",
                            "<tr><td>44</td><td>1552</td><td>2</td><td>2</td></tr>",
                            "<tr><td>45</td><td>800</td><td>5</td><td>0</td></tr>",
                            "<tr><td>45</td><td>802</td><td>7</td><td>5</td></tr>",
                            "<tr><td>45</td><td>846</td><td>3</td><td>7</td></tr>",
                            "<tr><td>45</td><td>1135</td><td>3</td><td>3</td></tr>",
                            "<tr><td>45</td><td>1303</td><td>2</td><td>3</td></tr>",
                            "<tr><td>46</td><td>752</td><td>5</td><td>0</td></tr>",
                            "<tr><td>46</td><td>1187</td><td>7</td><td>5</td></tr>",
                            "<tr><td>46</td><td>1291</td><td>3</td><td>7</td></tr>",
                            "<tr><td>46</td><td>1515</td><td>4</td><td>3</td></tr>",
                            "<tr><td>47</td><td>955</td><td>1</td><td>0</td></tr>",
                            "<tr><td>47</td><td>1056</td><td>7</td><td>1</td></tr>",
                            "<tr><td>48</td><td>603</td><td>3</td><td>0</td></tr>",
                            "<tr><td>48</td><td>628</td><td>2</td><td>3</td></tr>",
                            "<tr><td>48</td><td>824</td><td>2</td><td>2</td></tr>",
                            "<tr><td>48</td><td>914</td><td>5</td><td>2</td></tr>",
                            "<tr><td>48</td><td>986</td><td>5</td><td>5</td></tr>",
                            "<tr><td>48</td><td>1243</td><td>6</td><td>5</td></tr>",
                            "<tr><td>48</td><td>1546</td><td>3</td><td>6</td></tr>",
                            "<tr><td>48</td><td>1547</td><td>1</td><td>3</td></tr>",
                            "<tr><td>48</td><td>1581</td><td>5</td><td>1</td></tr>",
                            "<tr><td>49</td><td>793</td><td>6</td><td>0</td></tr>",
                            "<tr><td>49</td><td>826</td><td>4</td><td>6</td></tr>",
                            "<tr><td>49</td><td>888</td><td>7</td><td>4</td></tr>",
                            "<tr><td>49</td><td>1066</td><td>7</td><td>7</td></tr>",
                            "<tr><td>49</td><td>1200</td><td>7</td><td>7</td></tr>",
                            "<tr><td>49</td><td>1221</td><td>2</td><td>7</td></tr>",
                            "<tr><td>49</td><td>1536</td><td>6</td><td>2</td></tr>",
                            "<tr><td>50</td><td>787</td><td>3</td><td>0</td></tr>",
                            "<tr><td>50</td><td>1063</td><td>2</td><td>3</td></tr>",
                            "<tr><td>50</td><td>1224</td><td>1</td><td>2</td></tr>",
                            "<tr><td>50</td><td>1272</td><td>1</td><td>1</td></tr>",
                            "<tr><td>51</td><td>811</td><td>2</td><td>0</td></tr>",
                            "<tr><td>51</td><td>865</td><td>7</td><td>2</td></tr>",
                            "<tr><td>51</td><td>1165</td><td>5</td><td>7</td></tr>",
                            "<tr><td>51</td><td>1477</td><td>6</td><td>5</td></tr>",
                            "<tr><td>51</td><td>1550</td><td>1</td><td>6</td></tr>",
                            "<tr><td>52</td><td>822</td><td>7</td><td>0</td></tr>",
                            "<tr><td>52</td><td>1202</td><td>2</td><td>7</td></tr>",
                            "<tr><td>52</td><td>1258</td><td>5</td><td>2</td></tr>",
                            "<tr><td>52</td><td>1431</td><td>5</td><td>5</td></tr>",
                            "<tr><td>52</td><td>1534</td><td>5</td><td>5</td></tr>",
                            "<tr><td>53</td><td>855</td><td>1</td><td>0</td></tr>",
                            "<tr><td>53</td><td>987</td><td>4</td><td>1</td></tr>",
                            "<tr><td>54</td><td>622</td><td>7</td><td>0</td></tr>",
                            "<tr><td>54</td><td>642</td><td>5</td><td>7</td></tr>",
                            "<tr><td>54</td><td>668</td><td>1</td><td>5</td></tr>",
                            "<tr><td>54</td><td>889</td><td>2</td><td>1</td></tr>",
                            "<tr><td>54</td><td>1096</td><td>4</td><td>2</td></tr>",
                            "<tr><td>54</td><td>1328</td><td>4</td><td>4</td></tr>",
                            "<tr><td>55</td><td>734</td><td>6</td><td>0</td></tr>",
                            "<tr><td>55</td><td>1086</td><td>5</td><td>6</td></tr>",
                            "<tr><td>55</td><td>1163</td><td>2</td><td>5</td></tr>",
                            "<tr><td>55</td><td>1232</td><td>7</td><td>2</td></tr>",
                            "<tr><td>55</td><td>1327</td><td>6</td><td>7</td></tr>",
                            "<tr><td>55</td><td>1386</td><td>2</td><td>6</td></tr>",
                            "<tr><td>55</td><td>1512</td><td>1</td><td>2</td></tr>",
                            "<tr><td>55</td><td>1520</td><td>1</td><td>1</td></tr>",
                            "<tr><td>56</td><td>838</td><td>2</td><td>0</td></tr>",
                            "<tr><td>56</td><td>935</td><td>4</td><td>2</td></tr>",
                            "<tr><td>57</td><td>1348</td><td>1</td><td>0</td></tr>",
                            "<tr><td>57</td><td>1389</td><td>1</td><td>1</td></tr>",
                            "<tr><td>57</td><td>1466</td><td>7</td><td>1</td></tr>",
                            "<tr><td>57</td><td>1504</td><td>4</td><td>7</td></tr>",
                            "<tr><td>58</td><td>719</td><td>3</td><td>0</td></tr>",
                            "<tr><td>58</td><td>773</td><td>2</td><td>3</td></tr>",
                            "<tr><td>58</td><td>883</td><td>5</td><td>2</td></tr>",
                            "<tr><td>58</td><td>1113</td><td>3</td><td>5</td></tr>",
                            "<tr><td>58</td><td>1186</td><td>6</td><td>3</td></tr>",
                            "<tr><td>58</td><td>1208</td><td>6</td><td>6</td></tr>",
                            "<tr><td>58</td><td>1255</td><td>7</td><td>6</td></tr>",
                            "<tr><td>58</td><td>1261</td><td>6</td><td>7</td></tr>",
                            "<tr><td>58</td><td>1285</td><td>7</td><td>6</td></tr>",
                            "<tr><td>58</td><td>1293</td><td>3</td><td>7</td></tr>",
                            "<tr><td>58</td><td>1307</td><td>6</td><td>3</td></tr>",
                            "<tr><td>58</td><td>1322</td><td>3</td><td>6</td></tr>",
                            "<tr><td>58</td><td>1451</td><td>6</td><td>3</td></tr>",
                            "<tr><td>59</td><td>1080</td><td>1</td><td>0</td></tr>",
                            "<tr><td>59</td><td>1084</td><td>2</td><td>1</td></tr>",
                            "<tr><td>59</td><td>1170</td><td>5</td><td>2</td></tr>",
                            "<tr><td>59</td><td>1191</td><td>6</td><td>5</td></tr>",
                            "<tr><td>59</td><td>1239</td><td>2</td><td>6</td></tr>",
                            "<tr><td>59</td><td>1288</td><td>3</td><td>2</td></tr>",
                            "<tr><td>59</td><td>1573</td><td>1</td><td>3</td></tr>",
                            "<tr><td>60</td><td>676</td><td>2</td><td>0</td></tr>",
                            "<tr><td>61</td><td>701</td><td>2</td><td>0</td></tr>",
                            "<tr><td>61</td><td>756</td><td>6</td><td>2</td></tr>",
                            "<tr><td>61</td><td>1148</td><td>3</td><td>6</td></tr>",
                            "<tr><td>61</td><td>1218</td><td>2</td><td>3</td></tr>",
                            "<tr><td>61</td><td>1496</td><td>7</td><td>2</td></tr>",
                            "<tr><td>62</td><td>702</td><td>5</td><td>0</td></tr>",
                            "<tr><td>62</td><td>936</td><td>3</td><td>5</td></tr>",
                            "<tr><td>62</td><td>938</td><td>1</td><td>3</td></tr>",
                            "<tr><td>62</td><td>1081</td><td>7</td><td>1</td></tr>",
                            "<tr><td>62</td><td>1426</td><td>4</td><td>7</td></tr>",
                            "<tr><td>63</td><td>625</td><td>3</td><td>0</td></tr>",
                            "<tr><td>63</td><td>769</td><td>5</td><td>3</td></tr>",
                            "<tr><td>63</td><td>845</td><td>1</td><td>5</td></tr>",
                            "<tr><td>63</td><td>891</td><td>6</td><td>1</td></tr>",
                            "<tr><td>64</td><td>875</td><td>2</td><td>0</td></tr>",
                            "<tr><td>64</td><td>1122</td><td>4</td><td>2</td></tr>",
                            "<tr><td>64</td><td>1233</td><td>7</td><td>4</td></tr>",
                            "<tr><td>64</td><td>1446</td><td>6</td><td>7</td></tr>",
                            "<tr><td>64</td><td>1465</td><td>4</td><td>6</td></tr>",
                            "<tr><td>64</td><td>1582</td><td>1</td><td>4</td></tr>",
                            "<tr><td>65</td><td>650</td><td>6</td><td>0</td></tr>",
                            "<tr><td>66</td><td>736</td><td>3</td><td>0</td></tr>",
                            "<tr><td>66</td><td>950</td><td>3</td><td>3</td></tr>",
                            "<tr><td>66</td><td>1234</td><td>3</td><td>3</td></tr>",
                            "<tr><td>66</td><td>1264</td><td>4</td><td>3</td></tr>",
                            "<tr><td>67</td><td>638</td><td>5</td><td>0</td></tr>",
                            "<tr><td>67</td><td>645</td><td>6</td><td>5</td></tr>",
                            "<tr><td>67</td><td>874</td><td>6</td><td>6</td></tr>",
                            "<tr><td>67</td><td>1382</td><td>1</td><td>6</td></tr>",
                            "<tr><td>67</td><td>1580</td><td>5</td><td>1</td></tr>",
                            "<tr><td>67</td><td>1584</td><td>1</td><td>5</td></tr>",
                            "<tr><td>68</td><td>563</td><td>5</td><td>0</td></tr>",
                            "<tr><td>68</td><td>1027</td><td>7</td><td>5</td></tr>",
                            "<tr><td>68</td><td>1324</td><td>4</td><td>7</td></tr>",
                            "<tr><td>69</td><td>885</td><td>1</td><td>0</td></tr>",
                            "<tr><td>69</td><td>1055</td><td>5</td><td>1</td></tr>",
                            "<tr><td>69</td><td>1225</td><td>5</td><td>5</td></tr>",
                            "<tr><td>69</td><td>1246</td><td>7</td><td>5</td></tr>",
                            "<tr><td>70</td><td>585</td><td>5</td><td>0</td></tr>",
                            "<tr><td>70</td><td>704</td><td>3</td><td>5</td></tr>",
                            "<tr><td>70</td><td>814</td><td>3</td><td>3</td></tr>",
                            "<tr><td>70</td><td>860</td><td>2</td><td>3</td></tr>",
                            "<tr><td>70</td><td>1006</td><td>3</td><td>2</td></tr>",
                            "<tr><td>70</td><td>1092</td><td>3</td><td>3</td></tr>",
                            "<tr><td>70</td><td>1126</td><td>3</td><td>3</td></tr>",
                            "<tr><td>70</td><td>1325</td><td>7</td><td>3</td></tr>",
                            "<tr><td>70</td><td>1333</td><td>6</td><td>7</td></tr>",
                            "<tr><td>70</td><td>1365</td><td>3</td><td>6</td></tr>",
                            "<tr><td>70</td><td>1457</td><td>7</td><td>3</td></tr>",
                            "<tr><td>71</td><td>681</td><td>3</td><td>0</td></tr>",
                            "<tr><td>71</td><td>712</td><td>1</td><td>3</td></tr>",
                            "<tr><td>71</td><td>1009</td><td>1</td><td>1</td></tr>",
                            "<tr><td>72</td><td>902</td><td>5</td><td>0</td></tr>",
                            "<tr><td>72</td><td>961</td><td>6</td><td>5</td></tr>",
                            "<tr><td>72</td><td>1318</td><td>2</td><td>6</td></tr>",
                            "<tr><td>72</td><td>1396</td><td>3</td><td>2</td></tr>",
                            "<tr><td>73</td><td>714</td><td>7</td><td>0</td></tr>",
                            "<tr><td>73</td><td>1000</td><td>4</td><td>7</td></tr>",
                            "<tr><td>73</td><td>1159</td><td>5</td><td>4</td></tr>",
                            "<tr><td>73</td><td>1331</td><td>4</td><td>5</td></tr>",
                            "<tr><td>74</td><td>595</td><td>7</td><td>0</td></tr>",
                            "<tr><td>74</td><td>797</td><td>5</td><td>7</td></tr>",
                            "<tr><td>74</td><td>830</td><td>1</td><td>5</td></tr>",
                            "<tr><td>74</td><td>847</td><td>3</td><td>1</td></tr>",
                            "<tr><td>74</td><td>877</td><td>4</td><td>3</td></tr>",
                            "<tr><td>74</td><td>940</td><td>5</td><td>4</td></tr>",
                            "<tr><td>74</td><td>963</td><td>1</td><td>5</td></tr>",
                            "<tr><td>74</td><td>1093</td><td>6</td><td>1</td></tr>",
                            "<tr><td>74</td><td>1179</td><td>7</td><td>6</td></tr>",
                            "<tr><td>75</td><td>1013</td><td>5</td><td>0</td></tr>",
                            "<tr><td>75</td><td>1412</td><td>2</td><td>5</td></tr>",
                            "<tr><td>75</td><td>1458</td><td>1</td><td>2</td></tr>",
                            "<tr><td>76</td><td>683</td><td>7</td><td>0</td></tr>",
                            "<tr><td>76</td><td>976</td><td>2</td><td>7</td></tr>",
                            "<tr><td>76</td><td>1557</td><td>3</td><td>2</td></tr>",
                            "<tr><td>77</td><td>593</td><td>3</td><td>0</td></tr>",
                            "<tr><td>77</td><td>698</td><td>4</td><td>3</td></tr>",
                            "<tr><td>77</td><td>982</td><td>3</td><td>4</td></tr>",
                            "<tr><td>77</td><td>1104</td><td>1</td><td>3</td></tr>",
                            "<tr><td>77</td><td>1439</td><td>6</td><td>1</td></tr>",
                            "<tr><td>77</td><td>1461</td><td>4</td><td>6</td></tr>",
                            "<tr><td>78</td><td>568</td><td>1</td><td>0</td></tr>",
                            "<tr><td>78</td><td>646</td><td>3</td><td>1</td></tr>",
                            "<tr><td>78</td><td>700</td><td>5</td><td>3</td></tr>",
                            "<tr><td>78</td><td>1268</td><td>2</td><td>5</td></tr>",
                            "<tr><td>78</td><td>1281</td><td>3</td><td>2</td></tr>",
                            "<tr><td>78</td><td>1577</td><td>7</td><td>3</td></tr>",
                            "<tr><td>79</td><td>583</td><td>6</td><td>0</td></tr>",
                            "<tr><td>79</td><td>1054</td><td>1</td><td>6</td></tr>",
                            "<tr><td>79</td><td>1229</td><td>7</td><td>1</td></tr>",
                            "<tr><td>79</td><td>1345</td><td>3</td><td>7</td></tr>",
                            "<tr><td>79</td><td>1447</td><td>4</td><td>3</td></tr>",
                            "<tr><td>80</td><td>667</td><td>6</td><td>0</td></tr>",
                            "<tr><td>80</td><td>887</td><td>6</td><td>6</td></tr>",
                            "<tr><td>80</td><td>929</td><td>2</td><td>6</td></tr>",
                            "<tr><td>80</td><td>983</td><td>6</td><td>2</td></tr>",
                            "<tr><td>80</td><td>1071</td><td>4</td><td>6</td></tr>",
                            "<tr><td>80</td><td>1279</td><td>5</td><td>4</td></tr>",
                            "<tr><td>80</td><td>1367</td><td>3</td><td>5</td></tr>",
                            "<tr><td>81</td><td>1366</td><td>5</td><td>0</td></tr>",
                            "<tr><td>81</td><td>1443</td><td>7</td><td>5</td></tr>",
                            "<tr><td>81</td><td>1464</td><td>7</td><td>7</td></tr>",
                            "<tr><td>81</td><td>1506</td><td>3</td><td>7</td></tr>",
                            "<tr><td>81</td><td>1562</td><td>3</td><td>3</td></tr>",
                            "<tr><td>82</td><td>862</td><td>4</td><td>0</td></tr>",
                            "<tr><td>82</td><td>871</td><td>5</td><td>4</td></tr>",
                            "<tr><td>82</td><td>997</td><td>6</td><td>5</td></tr>",
                            "<tr><td>82</td><td>1277</td><td>5</td><td>6</td></tr>",
                            "<tr><td>82</td><td>1341</td><td>2</td><td>5</td></tr>",
                            "<tr><td>82</td><td>1406</td><td>1</td><td>2</td></tr>",
                            "<tr><td>83</td><td>572</td><td>7</td><td>0</td></tr>",
                            "<tr><td>83</td><td>674</td><td>4</td><td>7</td></tr>",
                            "<tr><td>83</td><td>798</td><td>4</td><td>4</td></tr>",
                            "<tr><td>83</td><td>869</td><td>6</td><td>4</td></tr>",
                            "<tr><td>83</td><td>878</td><td>6</td><td>6</td></tr>",
                            "<tr><td>83</td><td>995</td><td>5</td><td>6</td></tr>",
                            "<tr><td>83</td><td>1119</td><td>6</td><td>5</td></tr>",
                            "<tr><td>83</td><td>1379</td><td>7</td><td>6</td></tr>",
                            "<tr><td>84</td><td>819</td><td>2</td><td>0</td></tr>",
                            "<tr><td>84</td><td>954</td><td>5</td><td>2</td></tr>",
                            "<tr><td>84</td><td>1376</td><td>5</td><td>5</td></tr>",
                            "<tr><td>84</td><td>1384</td><td>7</td><td>5</td></tr>",
                            "<tr><td>85</td><td>647</td><td>3</td><td>0</td></tr>",
                            "<tr><td>85</td><td>1059</td><td>3</td><td>3</td></tr>",
                            "<tr><td>85</td><td>1320</td><td>1</td><td>3</td></tr>",
                            "<tr><td>85</td><td>1513</td><td>7</td><td>1</td></tr>",
                            "<tr><td>86</td><td>859</td><td>1</td><td>0</td></tr>",
                            "<tr><td>86</td><td>1057</td><td>5</td><td>1</td></tr>",
                            "<tr><td>86</td><td>1079</td><td>4</td><td>5</td></tr>",
                            "<tr><td>86</td><td>1108</td><td>1</td><td>4</td></tr>",
                            "<tr><td>86</td><td>1453</td><td>1</td><td>1</td></tr>",
                            "<tr><td>87</td><td>558</td><td>4</td><td>0</td></tr>",
                            "<tr><td>87</td><td>844</td><td>1</td><td>4</td></tr>",
                            "<tr><td>87</td><td>1103</td><td>3</td><td>1</td></tr>",
                            "<tr><td>87</td><td>1349</td><td>5</td><td>3</td></tr>",
                            "<tr><td>87</td><td>1456</td><td>5</td><td>5</td></tr>",
                            "<tr><td>88</td><td>757</td><td>7</td><td>0</td></tr>",
                            "<tr><td>88</td><td>866</td><td>2</td><td>7</td></tr>",
                            "<tr><td>88</td><td>1196</td><td>3</td><td>2</td></tr>",
                            "<tr><td>88</td><td>1273</td><td>7</td><td>3</td></tr>",
                            "<tr><td>88</td><td>1300</td><td>3</td><td>7</td></tr>",
                            "<tr><td>88</td><td>1359</td><td>2</td><td>3</td></tr>",
                            "<tr><td>88</td><td>1548</td><td>7</td><td>2</td></tr>",
                            "<tr><td>88</td><td>1575</td><td>6</td><td>7</td></tr>",
                            "<tr><td>89</td><td>817</td><td>3</td><td>0</td></tr>",
                            "<tr><td>89</td><td>1037</td><td>7</td><td>3</td></tr>",
                            "<tr><td>89</td><td>1101</td><td>5</td><td>7</td></tr>",
                            "<tr><td>89</td><td>1189</td><td>6</td><td>5</td></tr>",
                            "<tr><td>89</td><td>1253</td><td>2</td><td>6</td></tr>",
                            "<tr><td>89</td><td>1269</td><td>2</td><td>2</td></tr>",
                            "<tr><td>89</td><td>1399</td><td>2</td><td>2</td></tr>",
                            "<tr><td>89</td><td>1521</td><td>7</td><td>2</td></tr>",
                            "<tr><td>90</td><td>729</td><td>2</td><td>0</td></tr>",
                            "<tr><td>90</td><td>1174</td><td>7</td><td>2</td></tr>",
                            "<tr><td>90</td><td>1299</td><td>6</td><td>7</td></tr>",
                            "<tr><td>90</td><td>1405</td><td>5</td><td>6</td></tr>",
                            "<tr><td>91</td><td>636</td><td>6</td><td>0</td></tr>",
                            "<tr><td>91</td><td>732</td><td>4</td><td>6</td></tr>",
                            "<tr><td>91</td><td>1213</td><td>3</td><td>4</td></tr>",
                            "<tr><td>91</td><td>1397</td><td>4</td><td>3</td></tr>",
                            "<tr><td>92</td><td>809</td><td>3</td><td>0</td></tr>",
                            "<tr><td>92</td><td>841</td><td>6</td><td>3</td></tr>",
                            "<tr><td>92</td><td>942</td><td>6</td><td>6</td></tr>",
                            "<tr><td>92</td><td>1016</td><td>2</td><td>6</td></tr>",
                            "<tr><td>92</td><td>1527</td><td>2</td><td>2</td></tr>",
                            "<tr><td>92</td><td>1555</td><td>4</td><td>2</td></tr>",
                            "<tr><td>93</td><td>741</td><td>7</td><td>0</td></tr>",
                            "<tr><td>93</td><td>1169</td><td>4</td><td>7</td></tr>",
                            "<tr><td>93</td><td>1217</td><td>1</td><td>4</td></tr>",
                            "<tr><td>93</td><td>1355</td><td>2</td><td>1</td></tr>",
                            "<tr><td>93</td><td>1391</td><td>4</td><td>2</td></tr>",
                            "<tr><td>94</td><td>616</td><td>4</td><td>0</td></tr>",
                            "<tr><td>94</td><td>665</td><td>7</td><td>4</td></tr>",
                            "<tr><td>94</td><td>727</td><td>3</td><td>7</td></tr>",
                            "<tr><td>94</td><td>975</td><td>5</td><td>3</td></tr>",
                            "<tr><td>94</td><td>1241</td><td>7</td><td>5</td></tr>",
                            "<tr><td>94</td><td>1305</td><td>2</td><td>7</td></tr>",
                            "<tr><td>94</td><td>1312</td><td>3</td><td>2</td></tr>",
                            "<tr><td>94</td><td>1368</td><td>1</td><td>3</td></tr>",
                            "<tr><td>94</td><td>1518</td><td>2</td><td>1</td></tr>",
                            "<tr><td>94</td><td>1564</td><td>7</td><td>2</td></tr>",
                            "<tr><td>95</td><td>656</td><td>7</td><td>0</td></tr>",
                            "<tr><td>95</td><td>1048</td><td>3</td><td>7</td></tr>",
                            "<tr><td>95</td><td>1097</td><td>4</td><td>3</td></tr>",
                            "<tr><td>95</td><td>1543</td><td>7</td><td>4</td></tr>",
                            "<tr><td>96</td><td>607</td><td>4</td><td>0</td></tr>",
                            "<tr><td>96</td><td>623</td><td>7</td><td>4</td></tr>",
                            "<tr><td>96</td><td>671</td><td>4</td><td>7</td></tr>",
                            "<tr><td>96</td><td>780</td><td>1</td><td>4</td></tr>",
                            "<tr><td>96</td><td>1378</td><td>3</td><td>1</td></tr>",
                            "<tr><td>96</td><td>1438</td><td>2</td><td>3</td></tr>",
                            "<tr><td>96</td><td>1569</td><td>7</td><td>2</td></tr>",
                            "<tr><td>97</td><td>635</td><td>3</td><td>0</td></tr>",
                            "<tr><td>97</td><td>718</td><td>7</td><td>3</td></tr>",
                            "<tr><td>97</td><td>726</td><td>4</td><td>7</td></tr>",
                            "<tr><td>97</td><td>836</td><td>2</td><td>4</td></tr>",
                            "<tr><td>97</td><td>1395</td><td>1</td><td>2</td></tr>",
                            "<tr><td>97</td><td>1417</td><td>7</td><td>1</td></tr>",
                            "<tr><td>97</td><td>1528</td><td>2</td><td>7</td></tr>",
                            "<tr><td>98</td><td>631</td><td>6</td><td>0</td></tr>",
                            "<tr><td>98</td><td>884</td><td>5</td><td>6</td></tr>",
                            "<tr><td>98</td><td>1050</td><td>6</td><td>5</td></tr>",
                            "<tr><td>98</td><td>1402</td><td>2</td><td>6</td></tr>",
                            "<tr><td>99</td><td>632</td><td>1</td><td>0</td></tr>",
                            "<tr><td>99</td><td>691</td><td>5</td><td>1</td></tr>",
                            "<tr><td>99</td><td>1072</td><td>1</td><td>5</td></tr>",
                            "<tr><td>99</td><td>1408</td><td>1</td><td>1</td></tr>",
                            "<tr><td>99</td><td>1486</td><td>5</td><td>1</td></tr>",
                            "<tr><td>100</td><td>597</td><td>1</td><td>0</td></tr>",
                            "<tr><td>100</td><td>637</td><td>5</td><td>1</td></tr>",
                            "<tr><td>100</td><td>1315</td><td>5</td><td>5</td></tr>",
                            "<tr><td>100</td><td>1482</td><td>7</td><td>5</td></tr>",
                            "<tr><td>101</td><td>715</td><td>3</td><td>0</td></tr>",
                            "<tr><td>101</td><td>1332</td><td>6</td><td>3</td></tr>",
                            "<tr><td>101</td><td>1516</td><td>4</td><td>6</td></tr>",
                            "<tr><td>102</td><td>689</td><td>5</td><td>0</td></tr>",
                            "<tr><td>102</td><td>1343</td><td>2</td><td>5</td></tr>",
                            "<tr><td>103</td><td>972</td><td>2</td><td>0</td></tr>",
                            "<tr><td>103</td><td>992</td><td>7</td><td>2</td></tr>",
                            "<tr><td>103</td><td>1398</td><td>1</td><td>7</td></tr>",
                            "<tr><td>103</td><td>1485</td><td>4</td><td>1</td></tr>",
                            "<tr><td>104</td><td>837</td><td>4</td><td>0</td></tr>",
                            "<tr><td>104</td><td>1180</td><td>1</td><td>4</td></tr>",
                            "<tr><td>104</td><td>1522</td><td>2</td><td>1</td></tr>",
                            "<tr><td>104</td><td>1532</td><td>3</td><td>2</td></tr>",
                            "<tr><td>105</td><td>618</td><td>1</td><td>0</td></tr>",
                            "<tr><td>105</td><td>1525</td><td>5</td><td>1</td></tr>",
                            "<tr><td>106</td><td>610</td><td>3</td><td>0</td></tr>",
                            "<tr><td>106</td><td>708</td><td>7</td><td>3</td></tr>",
                            "<tr><td>106</td><td>1228</td><td>7</td><td>7</td></tr>",
                            "<tr><td>106</td><td>1271</td><td>5</td><td>7</td></tr>",
                            "<tr><td>106</td><td>1372</td><td>7</td><td>5</td></tr>",
                            "<tr><td>106</td><td>1510</td><td>6</td><td>7</td></tr>",
                            "<tr><td>107</td><td>586</td><td>6</td><td>0</td></tr>",
                            "<tr><td>107</td><td>1250</td><td>4</td><td>6</td></tr>",
                            "<tr><td>107</td><td>1354</td><td>1</td><td>4</td></tr>",
                            "<tr><td>107</td><td>1452</td><td>6</td><td>1</td></tr>",
                            "<tr><td>107</td><td>1494</td><td>2</td><td>6</td></tr>",
                            "<tr><td>108</td><td>1102</td><td>1</td><td>0</td></tr>",
                            "<tr><td>108</td><td>1392</td><td>6</td><td>1</td></tr>",
                            "<tr><td>109</td><td>614</td><td>4</td><td>0</td></tr>",
                            "<tr><td>109</td><td>621</td><td>7</td><td>4</td></tr>",
                            "<tr><td>109</td><td>654</td><td>5</td><td>7</td></tr>",
                            "<tr><td>109</td><td>810</td><td>2</td><td>5</td></tr>",
                            "<tr><td>109</td><td>1083</td><td>1</td><td>2</td></tr>",
                            "<tr><td>109</td><td>1298</td><td>4</td><td>1</td></tr>",
                            "<tr><td>109</td><td>1560</td><td>1</td><td>4</td></tr>",
                            "<tr><td>110</td><td>685</td><td>1</td><td>0</td></tr>",
                            "<tr><td>110</td><td>931</td><td>5</td><td>1</td></tr>",
                            "<tr><td>110</td><td>964</td><td>6</td><td>5</td></tr>",
                            "<tr><td>110</td><td>1041</td><td>3</td><td>6</td></tr>",
                            "<tr><td>110</td><td>1109</td><td>5</td><td>3</td></tr>",
                            "<tr><td>110</td><td>1162</td><td>2</td><td>5</td></tr>",
                            "<tr><td>110</td><td>1424</td><td>1</td><td>2</td></tr>",
                            "<tr><td>110</td><td>1489</td><td>6</td><td>1</td></tr>",
                            "<tr><td>111</td><td>605</td><td>7</td><td>0</td></tr>",
                            "<tr><td>111</td><td>786</td><td>4</td><td>7</td></tr>",
                            "<tr><td>111</td><td>959</td><td>7</td><td>4</td></tr>",
                            "<tr><td>111</td><td>1296</td><td>3</td><td>7</td></tr>",
                            "<tr><td>111</td><td>1353</td><td>5</td><td>3</td></tr>",
                            "<tr><td>112</td><td>776</td><td>4</td><td>0</td></tr>",
                            "<tr><td>112</td><td>801</td><td>5</td><td>4</td></tr>",
                            "<tr><td>112</td><td>921</td><td>1</td><td>5</td></tr>",
                            "<tr><td>112</td><td>1124</td><td>6</td><td>1</td></tr>",
                            "<tr><td>112</td><td>1530</td><td>6</td><td>6</td></tr>",
                            "<tr><td>113</td><td>1029</td><td>5</td><td>0</td></tr>",
                            "<tr><td>113</td><td>1085</td><td>4</td><td>5</td></tr>",
                            "<tr><td>113</td><td>1263</td><td>1</td><td>4</td></tr>",
                            "<tr><td>113</td><td>1495</td><td>7</td><td>1</td></tr>",
                            "<tr><td>113</td><td>1499</td><td>2</td><td>7</td></tr>",
                            "<tr><td>114</td><td>737</td><td>2</td><td>0</td></tr>",
                            "<tr><td>114</td><td>827</td><td>7</td><td>2</td></tr>",
                            "<tr><td>114</td><td>966</td><td>6</td><td>7</td></tr>",
                            "<tr><td>114</td><td>1540</td><td>3</td><td>6</td></tr>",
                            "<tr><td>115</td><td>596</td><td>7</td><td>0</td></tr>",
                            "<tr><td>115</td><td>943</td><td>7</td><td>7</td></tr>",
                            "<tr><td>115</td><td>1121</td><td>7</td><td>7</td></tr>",
                            "<tr><td>115</td><td>1154</td><td>4</td><td>7</td></tr>",
                            "<tr><td>115</td><td>1352</td><td>3</td><td>4</td></tr>",
                            "<tr><td>115</td><td>1554</td><td>3</td><td>3</td></tr>",
                            "<tr><td>115</td><td>1566</td><td>1</td><td>3</td></tr>",
                            "<tr><td>116</td><td>1455</td><td>2</td><td>0</td></tr>",
                            "<tr><td>116</td><td>1501</td><td>4</td><td>2</td></tr>",
                            "<tr><td>117</td><td>612</td><td>2</td><td>0</td></tr>",
                            "<tr><td>117</td><td>617</td><td>3</td><td>2</td></tr>",
                            "<tr><td>117</td><td>953</td><td>5</td><td>3</td></tr>",
                            "<tr><td>117</td><td>962</td><td>4</td><td>5</td></tr>",
                            "<tr><td>117</td><td>1002</td><td>1</td><td>4</td></tr>",
                            "<tr><td>117</td><td>1192</td><td>2</td><td>1</td></tr>",
                            "<tr><td>117</td><td>1247</td><td>3</td><td>2</td></tr>",
                            "<tr><td>117</td><td>1468</td><td>7</td><td>3</td></tr>",
                            "<tr><td>118</td><td>716</td><td>1</td><td>0</td></tr>",
                            "<tr><td>118</td><td>864</td><td>6</td><td>1</td></tr>",
                            "<tr><td>118</td><td>994</td><td>7</td><td>6</td></tr>",
                            "<tr><td>118</td><td>996</td><td>3</td><td>7</td></tr>",
                            "<tr><td>118</td><td>1374</td><td>5</td><td>3</td></tr>",
                            "<tr><td>118</td><td>1472</td><td>6</td><td>5</td></tr>",
                            "<tr><td>118</td><td>1481</td><td>3</td><td>6</td></tr>",
                            "<tr><td>119</td><td>706</td><td>2</td><td>0</td></tr>",
                            "<tr><td>119</td><td>722</td><td>1</td><td>2</td></tr>",
                            "<tr><td>119</td><td>1026</td><td>3</td><td>1</td></tr>",
                            "<tr><td>119</td><td>1413</td><td>3</td><td>3</td></tr>",
                            "<tr><td>119</td><td>1488</td><td>3</td><td>3</td></tr>",
                            "<tr><td>120</td><td>762</td><td>3</td><td>0</td></tr>",
                            "<tr><td>120</td><td>998</td><td>3</td><td>3</td></tr>",
                            "<tr><td>120</td><td>1089</td><td>6</td><td>3</td></tr>",
                            "<tr><td>120</td><td>1339</td><td>6</td><td>6</td></tr>",
                            "<tr><td>120</td><td>1483</td><td>1</td><td>6</td></tr>",
                            "<tr><td>120</td><td>1493</td><td>7</td><td>1</td></tr>",
                            "<tr><td>121</td><td>735</td><td>6</td><td>0</td></tr>",
                            "<tr><td>121</td><td>739</td><td>6</td><td>6</td></tr>",
                            "<tr><td>121</td><td>858</td><td>5</td><td>6</td></tr>",
                            "<tr><td>121</td><td>1049</td><td>3</td><td>5</td></tr>",
                            "<tr><td>121</td><td>1128</td><td>4</td><td>3</td></tr>",
                            "<tr><td>121</td><td>1215</td><td>4</td><td>4</td></tr>",
                            "<tr><td>121</td><td>1373</td><td>5</td><td>4</td></tr>",
                            "<tr><td>121</td><td>1393</td><td>6</td><td>5</td></tr>",
                            "<tr><td>122</td><td>1007</td><td>2</td><td>0</td></tr>",
                            "<tr><td>122</td><td>1036</td><td>2</td><td>2</td></tr>",
                            "<tr><td>122</td><td>1062</td><td>3</td><td>2</td></tr>",
                            "<tr><td>122</td><td>1166</td><td>4</td><td>3</td></tr>",
                            "<tr><td>122</td><td>1209</td><td>1</td><td>4</td></tr>",
                            "<tr><td>122</td><td>1245</td><td>2</td><td>1</td></tr>",
                            "<tr><td>122</td><td>1337</td><td>2</td><td>2</td></tr>",
                            "<tr><td>122</td><td>1385</td><td>5</td><td>2</td></tr>",
                            "<tr><td>122</td><td>1440</td><td>3</td><td>5</td></tr>",
                            "<tr><td>123</td><td>587</td><td>7</td><td>0</td></tr>",
                            "<tr><td>123</td><td>923</td><td>4</td><td>7</td></tr>",
                            "<tr><td>123</td><td>967</td><td>5</td><td>4</td></tr>",
                            "<tr><td>123</td><td>1223</td><td>1</td><td>5</td></tr>",
                            "<tr><td>123</td><td>1282</td><td>6</td><td>1</td></tr>",
                            "<tr><td>124</td><td>861</td><td>1</td><td>0</td></tr>",
                            "<tr><td>124</td><td>1210</td><td>4</td><td>1</td></tr>",
                            "<tr><td>124</td><td>1330</td><td>7</td><td>4</td></tr>",
                            "<tr><td>124</td><td>1403</td><td>6</td><td>7</td></tr>",
                            "<tr><td>124</td><td>1419</td><td>3</td><td>6</td></tr>",
                            "<tr><td>124</td><td>1531</td><td>6</td><td>3</td></tr>",
                            "<tr><td>125</td><td>576</td><td>1</td><td>0</td></tr>",
                            "<tr><td>126</td><td>754</td><td>4</td><td>0</td></tr>",
                            "<tr><td>126</td><td>806</td><td>6</td><td>4</td></tr>",
                            "<tr><td>126</td><td>1134</td><td>1</td><td>6</td></tr>",
                            "<tr><td>126</td><td>1364</td><td>6</td><td>1</td></tr>",
                            "<tr><td>126</td><td>1428</td><td>7</td><td>6</td></tr>",
                            "<tr><td>126</td><td>1500</td><td>4</td><td>7</td></tr>",
                            "<tr><td>127</td><td>643</td><td>2</td><td>0</td></tr>",
                            "<tr><td>127</td><td>853</td><td>5</td><td>2</td></tr>",
                            "<tr><td>127</td><td>879</td><td>2</td><td>5</td></tr>",
                            "<tr><td>127</td><td>1034</td><td>6</td><td>2</td></tr>",
                            "<tr><td>127</td><td>1226</td><td>5</td><td>6</td></tr>",
                            "<tr><td>127</td><td>1286</td><td>1</td><td>5</td></tr>",
                            "<tr><td>127</td><td>1579</td><td>5</td><td>1</td></tr>",
                            "<tr><td>128</td><td>717</td><td>2</td><td>0</td></tr>",
                            "<tr><td>128</td><td>815</td><td>1</td><td>2</td></tr>",
                            "<tr><td>128</td><td>1290</td><td>1</td><td>1</td></tr>",
                            "<tr><td>128</td><td>1574</td><td>1</td><td>1</td></tr>",
                            "<tr><td>128</td><td>1583</td><td>4</td><td>1</td></tr>",
                            "<tr><td>129</td><td>723</td><td>7</td><td>0</td></tr>",
                            "<tr><td>129</td><td>1360</td><td>6</td><td>7</td></tr>",
                            "<tr><td>129</td><td>1445</td><td>7</td><td>6</td></tr>",
                            "<tr><td>129</td><td>1509</td><td>6</td><td>7</td></tr>",
                            "<tr><td>130</td><td>580</td><td>3</td><td>0</td></tr>",
                            "<tr><td>130</td><td>613</td><td>3</td><td>3</td></tr>",
                            "<tr><td>130</td><td>779</td><td>6</td><td>3</td></tr>",
                            "<tr><td>130</td><td>910</td><td>2</td><td>6</td></tr>",
                            "<tr><td>130</td><td>1040</td><td>1</td><td>2</td></tr>",
                            "<tr><td>130</td><td>1475</td><td>7</td><td>1</td></tr>",
                            "<tr><td>131</td><td>559</td><td>2</td><td>0</td></tr>",
                            "<tr><td>131</td><td>655</td><td>1</td><td>2</td></tr>",
                            "<tr><td>131</td><td>760</td><td>4</td><td>1</td></tr>",
                            "<tr><td>131</td><td>881</td><td>6</td><td>4</td></tr>",
                            "<tr><td>131</td><td>1474</td><td>5</td><td>6</td></tr>",
                            "<tr><td>132</td><td>619</td><td>7</td><td>0</td></tr>",
                            "<tr><td>132</td><td>999</td><td>6</td><td>7</td></tr>",
                            "<tr><td>132</td><td>1090</td><td>7</td><td>6</td></tr>",
                            "<tr><td>132</td><td>1111</td><td>3</td><td>7</td></tr>",
                            "<tr><td>132</td><td>1301</td><td>2</td><td>3</td></tr>",
                            "<tr><td>132</td><td>1519</td><td>2</td><td>2</td></tr>",
                            "<tr><td>133</td><td>909</td><td>4</td><td>0</td></tr>",
                            "<tr><td>133</td><td>988</td><td>3</td><td>4</td></tr>",
                            "<tr><td>133</td><td>1149</td><td>7</td><td>3</td></tr>",
                            "<tr><td>133</td><td>1306</td><td>3</td><td>7</td></tr>",
                            "<tr><td>133</td><td>1363</td><td>5</td><td>3</td></tr>",
                            "<tr><td>133</td><td>1409</td><td>1</td><td>5</td></tr>",
                            "<tr><td>134</td><td>1004</td><td>5</td><td>0</td></tr>",
                            "<tr><td>134</td><td>1024</td><td>1</td><td>5</td></tr>",
                            "<tr><td>134</td><td>1045</td><td>2</td><td>1</td></tr>",
                            "<tr><td>134</td><td>1178</td><td>7</td><td>2</td></tr>",
                            "<tr><td>134</td><td>1219</td><td>6</td><td>7</td></tr>",
                            "<tr><td>134</td><td>1535</td><td>7</td><td>6</td></tr>",
                            "<tr><td>135</td><td>724</td><td>6</td><td>0</td></tr>",
                            "<tr><td>135</td><td>849</td><td>7</td><td>6</td></tr>",
                            "<tr><td>135</td><td>1289</td><td>3</td><td>7</td></tr>",
                            "<tr><td>136</td><td>584</td><td>2</td><td>0</td></tr>",
                            "<tr><td>136</td><td>661</td><td>5</td><td>2</td></tr>",
                            "<tr><td>136</td><td>1046</td><td>4</td><td>5</td></tr>",
                            "<tr><td>137</td><td>582</td><td>3</td><td>0</td></tr>",
                            "<tr><td>137</td><td>649</td><td>5</td><td>3</td></tr>",
                            "<tr><td>137</td><td>657</td><td>6</td><td>5</td></tr>",
                            "<tr><td>137</td><td>1014</td><td>1</td><td>6</td></tr>",
                            "<tr><td>137</td><td>1201</td><td>6</td><td>1</td></tr>",
                            "<tr><td>137</td><td>1280</td><td>3</td><td>6</td></tr>",
                            "<tr><td>138</td><td>768</td><td>6</td><td>0</td></tr>",
                            "<tr><td>138</td><td>796</td><td>4</td><td>6</td></tr>",
                            "<tr><td>138</td><td>1256</td><td>4</td><td>4</td></tr>",
                            "<tr><td>138</td><td>1283</td><td>2</td><td>4</td></tr>",
                            "<tr><td>138</td><td>1294</td><td>5</td><td>2</td></tr>",
                            "<tr><td>138</td><td>1358</td><td>7</td><td>5</td></tr>",
                            "<tr><td>138</td><td>1370</td><td>5</td><td>7</td></tr>",
                            "<tr><td>139</td><td>579</td><td>2</td><td>0</td></tr>",
                            "<tr><td>139</td><td>745</td><td>1</td><td>2</td></tr>",
                            "<tr><td>139</td><td>751</td><td>4</td><td>1</td></tr>",
                            "<tr><td>139</td><td>1042</td><td>2</td><td>4</td></tr>",
                            "<tr><td>139</td><td>1064</td><td>6</td><td>2</td></tr>",
                            "<tr><td>139</td><td>1433</td><td>6</td><td>6</td></tr>",
                            "<tr><td>139</td><td>1450</td><td>7</td><td>6</td></tr>",
                            "<tr><td>140</td><td>733</td><td>1</td><td>0</td></tr>",
                            "<tr><td>140</td><td>915</td><td>2</td><td>1</td></tr>",
                            "<tr><td>140</td><td>1098</td><td>2</td><td>2</td></tr>",
                            "<tr><td>140</td><td>1156</td><td>3</td><td>2</td></tr>",
                            "<tr><td>140</td><td>1259</td><td>7</td><td>3</td></tr>",
                            "<tr><td>140</td><td>1357</td><td>4</td><td>7</td></tr>",
                            "<tr><td>140</td><td>1361</td><td>3</td><td>4</td></tr>",
                            "<tr><td>140</td><td>1371</td><td>1</td><td>3</td></tr>",
                            "<tr><td>141</td><td>565</td><td>6</td><td>0</td></tr>",
                            "<tr><td>141</td><td>761</td><td>3</td><td>6</td></tr>",
                            "<tr><td>141</td><td>784</td><td>7</td><td>3</td></tr>",
                            "<tr><td>141</td><td>908</td><td>2</td><td>7</td></tr>",
                            "<tr><td>141</td><td>1254</td><td>4</td><td>2</td></tr>",
                            "<tr><td>141</td><td>1401</td><td>6</td><td>4</td></tr>",
                            "<tr><td>142</td><td>1369</td><td>6</td><td>0</td></tr>",
                            "<tr><td>142</td><td>1545</td><td>3</td><td>6</td></tr>",
                            "<tr><td>143</td><td>980</td><td>3</td><td>0</td></tr>",
                            "<tr><td>143</td><td>1155</td><td>7</td><td>3</td></tr>",
                            "<tr><td>143</td><td>1193</td><td>6</td><td>7</td></tr>",
                            "<tr><td>143</td><td>1222</td><td>2</td><td>6</td></tr>",
                            "<tr><td>143</td><td>1313</td><td>4</td><td>2</td></tr>",
                            "<tr><td>143</td><td>1394</td><td>3</td><td>4</td></tr>",
                            "<tr><td>143</td><td>1448</td><td>6</td><td>3</td></tr>",
                            "<tr><td>144</td><td>581</td><td>4</td><td>0</td></tr>",
                            "<tr><td>144</td><td>1087</td><td>2</td><td>4</td></tr>",
                            "<tr><td>144</td><td>1199</td><td>7</td><td>2</td></tr>",
                            "<tr><td>144</td><td>1297</td><td>1</td><td>7</td></tr>",
                            "<tr><td>144</td><td>1572</td><td>2</td><td>1</td></tr>",
                            "<tr><td>145</td><td>703</td><td>4</td><td>0</td></tr>",
                            "<tr><td>145</td><td>1077</td><td>1</td><td>4</td></tr>",
                            "<tr><td>145</td><td>1120</td><td>1</td><td>1</td></tr>",
                            "<tr><td>145</td><td>1145</td><td>4</td><td>1</td></tr>",
                            "<tr><td>145</td><td>1338</td><td>2</td><td>4</td></tr>",
                            "<tr><td>145</td><td>1471</td><td>1</td><td>2</td></tr>",
                            "<tr><td>146</td><td>664</td><td>3</td><td>0</td></tr>",
                            "<tr><td>146</td><td>789</td><td>7</td><td>3</td></tr>",
                            "<tr><td>146</td><td>804</td><td>7</td><td>7</td></tr>",
                            "<tr><td>146</td><td>890</td><td>3</td><td>7</td></tr>",
                            "<tr><td>146</td><td>1032</td><td>5</td><td>3</td></tr>",
                            "<tr><td>146</td><td>1479</td><td>6</td><td>5</td></tr>",
                            "<tr><td>147</td><td>771</td><td>4</td><td>0</td></tr>",
                            "<tr><td>148</td><td>678</td><td>4</td><td>0</td></tr>",
                            "<tr><td>148</td><td>765</td><td>3</td><td>4</td></tr>",
                            "<tr><td>148</td><td>783</td><td>7</td><td>3</td></tr>",
                            "<tr><td>148</td><td>808</td><td>2</td><td>7</td></tr>",
                            "<tr><td>148</td><td>812</td><td>6</td><td>2</td></tr>",
                            "<tr><td>148</td><td>1578</td><td>7</td><td>6</td></tr>",
                            "<tr><td>149</td><td>591</td><td>1</td><td>0</td></tr>",
                            "<tr><td>149</td><td>652</td><td>1</td><td>1</td></tr>",
                            "<tr><td>149</td><td>833</td><td>2</td><td>1</td></tr>",
                            "<tr><td>149</td><td>834</td><td>5</td><td>2</td></tr>",
                            "<tr><td>149</td><td>843</td><td>4</td><td>5</td></tr>",
                            "<tr><td>149</td><td>1146</td><td>6</td><td>4</td></tr>",
                            "<tr><td>149</td><td>1514</td><td>5</td><td>6</td></tr>",
                            "<tr><td>150</td><td>641</td><td>3</td><td>0</td></tr>",
                            "<tr><td>150</td><td>1100</td><td>5</td><td>3</td></tr>",
                            "<tr><td>150</td><td>1105</td><td>1</td><td>5</td></tr>",
                            "<tr><td>150</td><td>1177</td><td>1</td><td>1</td></tr>",
                            "<tr><td>150</td><td>1203</td><td>4</td><td>1</td></tr>",
                            "<tr><td>150</td><td>1432</td><td>3</td><td>4</td></tr>",
                            "<tr><td>151</td><td>893</td><td>3</td><td>0</td></tr>",
                            "<tr><td>151</td><td>1058</td><td>3</td><td>3</td></tr>",
                            "<tr><td>151</td><td>1115</td><td>3</td><td>3</td></tr>",
                            "<tr><td>152</td><td>730</td><td>2</td><td>0</td></tr>",
                            "<tr><td>152</td><td>1160</td><td>7</td><td>2</td></tr>",
                            "<tr><td>152</td><td>1197</td><td>6</td><td>7</td></tr>",
                            "<tr><td>152</td><td>1558</td><td>2</td><td>6</td></tr>",
                            "<tr><td>153</td><td>594</td><td>3</td><td>0</td></tr>",
                            "<tr><td>153</td><td>969</td><td>6</td><td>3</td></tr>",
                            "<tr><td>153</td><td>1460</td><td>3</td><td>6</td></tr>",
                            "<tr><td>153</td><td>1470</td><td>5</td><td>3</td></tr>",
                            "<tr><td>153</td><td>1507</td><td>3</td><td>5</td></tr>",
                            "<tr><td>154</td><td>968</td><td>1</td><td>0</td></tr>",
                            "<tr><td>154</td><td>1061</td><td>7</td><td>1</td></tr>",
                            "<tr><td>154</td><td>1168</td><td>6</td><td>7</td></tr>",
                            "<tr><td>154</td><td>1262</td><td>1</td><td>6</td></tr>",
                            "<tr><td>154</td><td>1539</td><td>2</td><td>1</td></tr>",
                            "<tr><td>155</td><td>575</td><td>1</td><td>0</td></tr>",
                            "<tr><td>155</td><td>577</td><td>3</td><td>1</td></tr>",
                            "<tr><td>155</td><td>1112</td><td>4</td><td>3</td></tr>",
                            "<tr><td>155</td><td>1310</td><td>1</td><td>4</td></tr>",
                            "<tr><td>155</td><td>1541</td><td>1</td><td>1</td></tr>",
                            "<tr><td>156</td><td>588</td><td>7</td><td>0</td></tr>",
                            "<tr><td>156</td><td>692</td><td>6</td><td>7</td></tr>",
                            "<tr><td>156</td><td>907</td><td>3</td><td>6</td></tr>",
                            "<tr><td>156</td><td>956</td><td>6</td><td>3</td></tr>",
                            "<tr><td>156</td><td>1462</td><td>7</td><td>6</td></tr>",
                            "<tr><td>156</td><td>1490</td><td>1</td><td>7</td></tr>",
                            "<tr><td>156</td><td>1561</td><td>4</td><td>1</td></tr>",
                            "<tr><td>157</td><td>648</td><td>4</td><td>0</td></tr>",
                            "<tr><td>157</td><td>1025</td><td>3</td><td>4</td></tr>",
                            "<tr><td>157</td><td>1047</td><td>4</td><td>3</td></tr>",
                            "<tr><td>157</td><td>1240</td><td>7</td><td>4</td></tr>",
                            "<tr><td>157</td><td>1551</td><td>3</td><td>7</td></tr>",
                            "<tr><td>158</td><td>825</td><td>4</td><td>0</td></tr>",
                            "<tr><td>158</td><td>840</td><td>4</td><td>4</td></tr>",
                            "<tr><td>158</td><td>1117</td><td>3</td><td>4</td></tr>",
                            "<tr><td>160</td><td>720</td><td>2</td><td>0</td></tr>",
                            "<tr><td>160</td><td>922</td><td>2</td><td>2</td></tr>",
                            "<tr><td>160</td><td>927</td><td>4</td><td>2</td></tr>",
                            "<tr><td>160</td><td>933</td><td>4</td><td>4</td></tr>",
                            "<tr><td>160</td><td>1565</td><td>3</td><td>4</td></tr>",
                            "<tr><td>161</td><td>639</td><td>4</td><td>0</td></tr>",
                            "<tr><td>161</td><td>653</td><td>7</td><td>4</td></tr>",
                            "<tr><td>161</td><td>911</td><td>4</td><td>7</td></tr>",
                            "<tr><td>161</td><td>1068</td><td>6</td><td>4</td></tr>",
                            "<tr><td>161</td><td>1190</td><td>7</td><td>6</td></tr>",
                            "<tr><td>161</td><td>1571</td><td>4</td><td>7</td></tr>",
                            "<tr><td>162</td><td>599</td><td>4</td><td>0</td></tr>",
                            "<tr><td>162</td><td>1205</td><td>6</td><td>4</td></tr>",
                            "<tr><td>162</td><td>1400</td><td>1</td><td>6</td></tr>",
                            "<tr><td>163</td><td>630</td><td>2</td><td>0</td></tr>",
                            "<tr><td>163</td><td>782</td><td>3</td><td>2</td></tr>",
                            "<tr><td>163</td><td>941</td><td>1</td><td>3</td></tr>",
                            "<tr><td>163</td><td>1075</td><td>4</td><td>1</td></tr>",
                            "<tr><td>163</td><td>1107</td><td>3</td><td>4</td></tr>",
                            "<tr><td>163</td><td>1265</td><td>5</td><td>3</td></tr>",
                            "<tr><td>163</td><td>1487</td><td>3</td><td>5</td></tr>",
                            "<tr><td>164</td><td>570</td><td>7</td><td>0</td></tr>",
                            "<tr><td>164</td><td>742</td><td>6</td><td>7</td></tr>",
                            "<tr><td>164</td><td>1010</td><td>2</td><td>6</td></tr>",
                            "<tr><td>164</td><td>1284</td><td>4</td><td>2</td></tr>",
                            "<tr><td>164</td><td>1292</td><td>2</td><td>4</td></tr>",
                            "<tr><td>165</td><td>640</td><td>3</td><td>0</td></tr>",
                            "<tr><td>165</td><td>857</td><td>5</td><td>3</td></tr>",
                            "<tr><td>165</td><td>892</td><td>3</td><td>5</td></tr>",
                            "<tr><td>165</td><td>897</td><td>6</td><td>3</td></tr>",
                            "<tr><td>165</td><td>900</td><td>6</td><td>6</td></tr>",
                            "<tr><td>165</td><td>1141</td><td>1</td><td>6</td></tr>",
                            "<tr><td>165</td><td>1375</td><td>4</td><td>1</td></tr>",
                            "<tr><td>166</td><td>644</td><td>7</td><td>0</td></tr>",
                            "<tr><td>166</td><td>781</td><td>7</td><td>7</td></tr>",
                            "<tr><td>166</td><td>1526</td><td>2</td><td>7</td></tr>",
                            "<tr><td>167</td><td>854</td><td>7</td><td>0</td></tr>",
                            "<tr><td>167</td><td>1414</td><td>3</td><td>7</td></tr>",
                            "<tr><td>168</td><td>792</td><td>3</td><td>0</td></tr>",
                            "<tr><td>168</td><td>794</td><td>4</td><td>3</td></tr>",
                            "<tr><td>168</td><td>930</td><td>3</td><td>4</td></tr>",
                            "<tr><td>168</td><td>1249</td><td>4</td><td>3</td></tr>",
                            "<tr><td>168</td><td>1266</td><td>4</td><td>4</td></tr>",
                            "<tr><td>169</td><td>573</td><td>5</td><td>0</td></tr>",
                            "<tr><td>169</td><td>659</td><td>6</td><td>5</td></tr>",
                            "<tr><td>169</td><td>746</td><td>7</td><td>6</td></tr>",
                            "<tr><td>169</td><td>974</td><td>1</td><td>7</td></tr>",
                            "<tr><td>169</td><td>1356</td><td>4</td><td>1</td></tr>",
                            "<tr><td>169</td><td>1427</td><td>1</td><td>4</td></tr>",
                            "<tr><td>170</td><td>567</td><td>7</td><td>0</td></tr>",
                            "<tr><td>170</td><td>944</td><td>4</td><td>7</td></tr>",
                            "<tr><td>170</td><td>1194</td><td>4</td><td>4</td></tr>",
                            "<tr><td>170</td><td>1267</td><td>7</td><td>4</td></tr>",
                            "<tr><td>170</td><td>1342</td><td>6</td><td>7</td></tr>",
                            "<tr><td>171</td><td>574</td><td>2</td><td>0</td></tr>",
                            "<tr><td>171</td><td>981</td><td>4</td><td>2</td></tr>",
                            "<tr><td>171</td><td>1181</td><td>6</td><td>4</td></tr>",
                            "<tr><td>171</td><td>1329</td><td>5</td><td>6</td></tr>",
                            "<tr><td>171</td><td>1567</td><td>6</td><td>5</td></tr>",
                            "<tr><td>172</td><td>709</td><td>5</td><td>0</td></tr>",
                            "<tr><td>172</td><td>749</td><td>6</td><td>5</td></tr>",
                            "<tr><td>172</td><td>839</td><td>5</td><td>6</td></tr>",
                            "<tr><td>172</td><td>984</td><td>4</td><td>5</td></tr>",
                            "<tr><td>172</td><td>1142</td><td>4</td><td>4</td></tr>",
                            "<tr><td>172</td><td>1171</td><td>5</td><td>4</td></tr>",
                            "<tr><td>172</td><td>1336</td><td>5</td><td>5</td></tr>",
                            "<tr><td>172</td><td>1421</td><td>5</td><td>5</td></tr>",
                            "<tr><td>172</td><td>1491</td><td>2</td><td>5</td></tr>",
                            "<tr><td>173</td><td>669</td><td>7</td><td>0</td></tr>",
                            "<tr><td>173</td><td>913</td><td>1</td><td>7</td></tr>",
                            "<tr><td>173</td><td>1350</td><td>3</td><td>1</td></tr>",
                            "<tr><td>173</td><td>1429</td><td>4</td><td>3</td></tr>",
                            "<tr><td>174</td><td>682</td><td>3</td><td>0</td></tr>",
                            "<tr><td>174</td><td>917</td><td>2</td><td>3</td></tr>",
                            "<tr><td>174</td><td>1015</td><td>5</td><td>2</td></tr>",
                            "<tr><td>174</td><td>1276</td><td>1</td><td>5</td></tr>",
                            "<tr><td>175</td><td>799</td><td>4</td><td>0</td></tr>",
                            "<tr><td>175</td><td>867</td><td>6</td><td>4</td></tr>",
                            "<tr><td>175</td><td>1094</td><td>5</td><td>6</td></tr>",
                            "<tr><td>175</td><td>1133</td><td>2</td><td>5</td></tr>",
                            "<tr><td>175</td><td>1407</td><td>7</td><td>2</td></tr>",
                            "<tr><td>176</td><td>592</td><td>5</td><td>0</td></tr>",
                            "<tr><td>176</td><td>1143</td><td>6</td><td>5</td></tr>",
                            "<tr><td>176</td><td>1278</td><td>6</td><td>6</td></tr>",
                            "<tr><td>176</td><td>1383</td><td>4</td><td>6</td></tr>",
                            "<tr><td>176</td><td>1511</td><td>2</td><td>4</td></tr>",
                            "<tr><td>176</td><td>1570</td><td>3</td><td>2</td></tr>",
                            "<tr><td>177</td><td>785</td><td>3</td><td>0</td></tr>",
                            "<tr><td>177</td><td>831</td><td>7</td><td>3</td></tr>",
                            "<tr><td>177</td><td>1176</td><td>3</td><td>7</td></tr>",
                            "<tr><td>177</td><td>1503</td><td>3</td><td>3</td></tr>",
                            "<tr><td>178</td><td>816</td><td>4</td><td>0</td></tr>",
                            "<tr><td>178</td><td>991</td><td>7</td><td>4</td></tr>",
                            "<tr><td>178</td><td>1211</td><td>3</td><td>7</td></tr>",
                            "<tr><td>178</td><td>1242</td><td>1</td><td>3</td></tr>",
                            "<tr><td>179</td><td>662</td><td>2</td><td>0</td></tr>",
                            "<tr><td>179</td><td>1021</td><td>1</td><td>2</td></tr>",
                            "<tr><td>179</td><td>1497</td><td>1</td><td>1</td></tr>",
                            "<tr><td>180</td><td>905</td><td>5</td><td>0</td></tr>",
                            "<tr><td>180</td><td>1559</td><td>3</td><td>5</td></tr>",
                            "<tr><td>180</td><td>1563</td><td>6</td><td>3</td></tr>",
                            "<tr><td>181</td><td>677</td><td>4</td><td>0</td></tr>",
                            "<tr><td>181</td><td>731</td><td>6</td><td>4</td></tr>",
                            "<tr><td>181</td><td>937</td><td>3</td><td>6</td></tr>",
                            "<tr><td>181</td><td>958</td><td>5</td><td>3</td></tr>",
                            "<tr><td>181</td><td>1022</td><td>1</td><td>5</td></tr>",
                            "<tr><td>181</td><td>1346</td><td>6</td><td>1</td></tr>",
                            "<tr><td>182</td><td>571</td><td>2</td><td>0</td></tr>",
                            "<tr><td>182</td><td>740</td><td>3</td><td>2</td></tr>",
                            "<tr><td>182</td><td>928</td><td>2</td><td>3</td></tr>",
                            "<tr><td>182</td><td>1008</td><td>6</td><td>2</td></tr>",
                            "<tr><td>182</td><td>1188</td><td>1</td><td>6</td></tr>",
                            "<tr><td>182</td><td>1230</td><td>7</td><td>1</td></tr>",
                            "<tr><td>182</td><td>1231</td><td>4</td><td>7</td></tr>",
                            "<tr><td>182</td><td>1308</td><td>1</td><td>4</td></tr>",
                            "<tr><td>182</td><td>1317</td><td>3</td><td>1</td></tr>",
                            "<tr><td>182</td><td>1326</td><td>4</td><td>3</td></tr>",
                            "<tr><td>182</td><td>1410</td><td>4</td><td>4</td></tr>",
                            "<tr><td>182</td><td>1422</td><td>3</td><td>4</td></tr>",
                            "<tr><td>183</td><td>939</td><td>4</td><td>0</td></tr>",
                            "<tr><td>183</td><td>1067</td><td>7</td><td>4</td></tr>",
                            "<tr><td>183</td><td>1147</td><td>4</td><td>7</td></tr>",
                            "<tr><td>183</td><td>1437</td><td>4</td><td>4</td></tr>",
                            "<tr><td>184</td><td>608</td><td>2</td><td>0</td></tr>",
                            "<tr><td>184</td><td>684</td><td>3</td><td>2</td></tr>",
                            "<tr><td>184</td><td>880</td><td>4</td><td>3</td></tr>",
                            "<tr><td>184</td><td>1251</td><td>4</td><td>4</td></tr>",
                            "<tr><td>185</td><td>578</td><td>6</td><td>0</td></tr>",
                            "<tr><td>185</td><td>672</td><td>3</td><td>6</td></tr>",
                            "<tr><td>185</td><td>679</td><td>5</td><td>3</td></tr>",
                            "<tr><td>185</td><td>693</td><td>2</td><td>5</td></tr>",
                            "<tr><td>185</td><td>711</td><td>3</td><td>2</td></tr>",
                            "<tr><td>185</td><td>863</td><td>4</td><td>3</td></tr>",
                            "<tr><td>185</td><td>898</td><td>4</td><td>4</td></tr>",
                            "<tr><td>185</td><td>925</td><td>6</td><td>4</td></tr>",
                            "<tr><td>185</td><td>1125</td><td>3</td><td>6</td></tr>",
                            "<tr><td>185</td><td>1183</td><td>5</td><td>3</td></tr>",
                            "<tr><td>185</td><td>1441</td><td>7</td><td>5</td></tr>",
                            "<tr><td>185</td><td>1463</td><td>7</td><td>7</td></tr>",
                            "<tr><td>186</td><td>615</td><td>3</td><td>0</td></tr>",
                            "<tr><td>186</td><td>1153</td><td>3</td><td>3</td></tr>",
                            "<tr><td>186</td><td>1248</td><td>2</td><td>3</td></tr>",
                            "<tr><td>186</td><td>1467</td><td>3</td><td>2</td></tr>",
                            "<tr><td>187</td><td>633</td><td>6</td><td>0</td></tr>",
                            "<tr><td>187</td><td>695</td><td>6</td><td>6</td></tr>",
                            "<tr><td>187</td><td>743</td><td>2</td><td>6</td></tr>",
                            "<tr><td>187</td><td>766</td><td>1</td><td>2</td></tr>",
                            "<tr><td>187</td><td>868</td><td>4</td><td>1</td></tr>",
                            "<tr><td>187</td><td>957</td><td>4</td><td>4</td></tr>",
                            "<tr><td>187</td><td>1404</td><td>2</td><td>4</td></tr>",
                            "<tr><td>188</td><td>690</td><td>4</td><td>0</td></tr>",
                            "<tr><td>188</td><td>710</td><td>7</td><td>4</td></tr>",
                            "<tr><td>188</td><td>747</td><td>3</td><td>7</td></tr>",
                            "<tr><td>188</td><td>912</td><td>1</td><td>3</td></tr>",
                            "<tr><td>188</td><td>1030</td><td>4</td><td>1</td></tr>",
                            "<tr><td>188</td><td>1390</td><td>5</td><td>4</td></tr>",
                            "<tr><td>189</td><td>699</td><td>2</td><td>0</td></tr>",
                            "<tr><td>189</td><td>753</td><td>1</td><td>2</td></tr>",
                            "<tr><td>189</td><td>1204</td><td>2</td><td>1</td></tr>",
                            "<tr><td>189</td><td>1449</td><td>2</td><td>2</td></tr>",
                            "<tr><td>189</td><td>1576</td><td>3</td><td>2</td></tr>",
                            "<tr><td>190</td><td>600</td><td>7</td><td>0</td></tr>",
                            "<tr><td>190</td><td>774</td><td>5</td><td>7</td></tr>",
                            "<tr><td>190</td><td>989</td><td>1</td><td>5</td></tr>",
                            "<tr><td>190</td><td>1017</td><td>1</td><td>1</td></tr>",
                            "<tr><td>190</td><td>1517</td><td>5</td><td>1</td></tr>",
                            "<tr><td>191</td><td>1039</td><td>6</td><td>0</td></tr>",
                            "<tr><td>191</td><td>1302</td><td>1</td><td>6</td></tr>",
                            "<tr><td>191</td><td>1323</td><td>7</td><td>1</td></tr>",
                            "<tr><td>191</td><td>1502</td><td>2</td><td>7</td></tr>",
                            "<tr><td>191</td><td>1508</td><td>7</td><td>2</td></tr>",
                            "<tr><td>192</td><td>680</td><td>4</td><td>0</td></tr>",
                            "<tr><td>192</td><td>903</td><td>7</td><td>4</td></tr>",
                            "<tr><td>193</td><td>634</td><td>6</td><td>0</td></tr>",
                            "<tr><td>193</td><td>675</td><td>2</td><td>6</td></tr>",
                            "<tr><td>193</td><td>835</td><td>2</td><td>2</td></tr>",
                            "<tr><td>193</td><td>926</td><td>1</td><td>2</td></tr>",
                            "<tr><td>193</td><td>977</td><td>2</td><td>1</td></tr>",
                            "<tr><td>193</td><td>1043</td><td>6</td><td>2</td></tr>",
                            "<tr><td>193</td><td>1238</td><td>6</td><td>6</td></tr>",
                            "<tr><td>194</td><td>1095</td><td>5</td><td>0</td></tr>",
                            "<tr><td>195</td><td>721</td><td>4</td><td>0</td></tr>",
                            "<tr><td>195</td><td>842</td><td>4</td><td>4</td></tr>",
                            "<tr><td>195</td><td>1074</td><td>7</td><td>4</td></tr>",
                            "<tr><td>195</td><td>1184</td><td>5</td><td>7</td></tr>",
                            "<tr><td>195</td><td>1473</td><td>7</td><td>5</td></tr>",
                            "<tr><td>195</td><td>1484</td><td>1</td><td>7</td></tr>",
                            "<tr><td>196</td><td>673</td><td>5</td><td>0</td></tr>",
                            "<tr><td>196</td><td>952</td><td>3</td><td>5</td></tr>",
                            "<tr><td>196</td><td>1314</td><td>5</td><td>3</td></tr>",
                            "<tr><td>196</td><td>1340</td><td>5</td><td>5</td></tr>",
                            "<tr><td>197</td><td>764</td><td>7</td><td>0</td></tr>",
                            "<tr><td>197</td><td>993</td><td>7</td><td>7</td></tr>",
                            "<tr><td>197</td><td>1091</td><td>7</td><td>7</td></tr>",
                            "<tr><td>197</td><td>1172</td><td>7</td><td>7</td></tr>",
                            "<tr><td>197</td><td>1304</td><td>7</td><td>7</td></tr>",
                            "<tr><td>197</td><td>1387</td><td>3</td><td>7</td></tr>",
                            "<tr><td>198</td><td>978</td><td>1</td><td>0</td></tr>",
                            "<tr><td>198</td><td>1011</td><td>7</td><td>1</td></tr>",
                            "<tr><td>198</td><td>1065</td><td>3</td><td>7</td></tr>",
                            "<tr><td>198</td><td>1116</td><td>1</td><td>3</td></tr>",
                            "<tr><td>198</td><td>1138</td><td>5</td><td>1</td></tr>",
                            "<tr><td>198</td><td>1161</td><td>5</td><td>5</td></tr>",
                            "<tr><td>198</td><td>1216</td><td>7</td><td>5</td></tr>",
                            "<tr><td>198</td><td>1420</td><td>5</td><td>7</td></tr>",
                            "</table>"
                        ]
                    }
                }
            ],
            "execution_count": 4
        },
        {
            "cell_type": "code",
            "source": [
                "--3.feladat\r\n",
                "\r\n",
                "select SZALLAS_ID,SZALLAS_NEV, CSILLAGOK_SZAMA,\r\n",
                "        iif(CSILLAGOK_SZAMA>=3, 'Igen', 'Nem') as 'Legalább 3 csillagos?'\r\n",
                "from szallashely \r\n",
                "where SZALLAS_ID not in(\r\n",
                "    --van 3 fős szoba\r\n",
                "    select SZALLAS_FK\r\n",
                "    from szoba\r\n",
                "    where FEROHELY=3)"
            ],
            "metadata": {
                "azdata_cell_guid": "a7b6435c-3e86-4f86-a570-d259d33d6be4",
                "language": "sql"
            },
            "outputs": [
                {
                    "output_type": "display_data",
                    "data": {
                        "text/html": "(2 rows affected)"
                    },
                    "metadata": {}
                },
                {
                    "output_type": "display_data",
                    "data": {
                        "text/html": "(21 rows affected)"
                    },
                    "metadata": {}
                },
                {
                    "output_type": "display_data",
                    "data": {
                        "text/html": "Total execution time: 00:00:00.020"
                    },
                    "metadata": {}
                },
                {
                    "output_type": "execute_result",
                    "metadata": {},
                    "execution_count": 17,
                    "data": {
                        "application/vnd.dataresource+json": {
                            "schema": {
                                "fields": [
                                    {
                                        "name": "SZALLAS_ID"
                                    },
                                    {
                                        "name": "SZALLAS_NEV"
                                    },
                                    {
                                        "name": "CSILLAGOK_SZAMA"
                                    },
                                    {
                                        "name": "Legalább 3 csillagos?"
                                    }
                                ]
                            },
                            "data": [
                                {
                                    "SZALLAS_ID": "19",
                                    "SZALLAS_NEV": "Nyárfás Vendégház",
                                    "CSILLAGOK_SZAMA": "0",
                                    "Legalább 3 csillagos?": "Nem"
                                },
                                {
                                    "SZALLAS_ID": "21",
                                    "SZALLAS_NEV": "Müller Vendégház",
                                    "CSILLAGOK_SZAMA": "0",
                                    "Legalább 3 csillagos?": "Nem"
                                }
                            ]
                        },
                        "text/html": [
                            "<table>",
                            "<tr><th>SZALLAS_ID</th><th>SZALLAS_NEV</th><th>CSILLAGOK_SZAMA</th><th>Legalább 3 csillagos?</th></tr>",
                            "<tr><td>19</td><td>Nyárfás Vendégház</td><td>0</td><td>Nem</td></tr>",
                            "<tr><td>21</td><td>Müller Vendégház</td><td>0</td><td>Nem</td></tr>",
                            "</table>"
                        ]
                    }
                },
                {
                    "output_type": "execute_result",
                    "metadata": {},
                    "execution_count": 17,
                    "data": {
                        "application/vnd.dataresource+json": {
                            "schema": {
                                "fields": [
                                    {
                                        "name": "SZALLAS_ID"
                                    },
                                    {
                                        "name": "SZALLAS_NEV"
                                    },
                                    {
                                        "name": "HELY"
                                    },
                                    {
                                        "name": "CSILLAGOK_SZAMA"
                                    },
                                    {
                                        "name": "TIPUS"
                                    },
                                    {
                                        "name": "ROGZITETTE"
                                    },
                                    {
                                        "name": "ROGZ_IDO"
                                    },
                                    {
                                        "name": "CIM"
                                    }
                                ]
                            },
                            "data": [
                                {
                                    "SZALLAS_ID": "1",
                                    "SZALLAS_NEV": "Sába-Ház",
                                    "HELY": "Balaton-dél",
                                    "CSILLAGOK_SZAMA": "0",
                                    "TIPUS": "vendégház",
                                    "ROGZITETTE": "Béla",
                                    "ROGZ_IDO": "2016-02-28",
                                    "CIM": "8630 Balatonboglár, Radnóti Miklós utca 8"
                                },
                                {
                                    "SZALLAS_ID": "2",
                                    "SZALLAS_NEV": "Családi Ház",
                                    "HELY": "Balaton-dél",
                                    "CSILLAGOK_SZAMA": "0",
                                    "TIPUS": "vendégház",
                                    "ROGZITETTE": "Béla",
                                    "ROGZ_IDO": "2016-03-02",
                                    "CIM": "8630 Balatonboglár, József Attila utca 25"
                                },
                                {
                                    "SZALLAS_ID": "3",
                                    "SZALLAS_NEV": "Fortuna Apartman",
                                    "HELY": "Hajdúbihar megye",
                                    "CSILLAGOK_SZAMA": "0",
                                    "TIPUS": "Apartman",
                                    "ROGZITETTE": "Sára",
                                    "ROGZ_IDO": "2016-03-06",
                                    "CIM": "4200 Hajdúszoboszló, Wesselényi utca 56."
                                },
                                {
                                    "SZALLAS_ID": "4",
                                    "SZALLAS_NEV": "Fortuna panzió",
                                    "HELY": "Budapest",
                                    "CSILLAGOK_SZAMA": "3",
                                    "TIPUS": "panzió",
                                    "ROGZITETTE": "Béla",
                                    "ROGZ_IDO": "2016-03-07",
                                    "CIM": "1019 Budapest XIV. Cinkotai út 86."
                                },
                                {
                                    "SZALLAS_ID": "5",
                                    "SZALLAS_NEV": "Fortuna Panzió",
                                    "HELY": "Békés megye",
                                    "CSILLAGOK_SZAMA": "3",
                                    "TIPUS": "panzió",
                                    "ROGZITETTE": "Sára",
                                    "ROGZ_IDO": "2016-03-08",
                                    "CIM": "5900 Orosháza, Gyopárosfürdő Tópart utca 3."
                                },
                                {
                                    "SZALLAS_ID": "6",
                                    "SZALLAS_NEV": "Kentaur Hotel",
                                    "HELY": "Balaton-dél",
                                    "CSILLAGOK_SZAMA": "3",
                                    "TIPUS": "Hotel",
                                    "ROGZITETTE": "Béla",
                                    "ROGZ_IDO": "2016-03-08",
                                    "CIM": "8600 Siófok (Széplak), Akácfa utca 1"
                                },
                                {
                                    "SZALLAS_ID": "7",
                                    "SZALLAS_NEV": "Szieszta Apartmanház",
                                    "HELY": "Balaton-dél",
                                    "CSILLAGOK_SZAMA": "0",
                                    "TIPUS": "Apartman",
                                    "ROGZITETTE": "Mari",
                                    "ROGZ_IDO": "2016-03-11",
                                    "CIM": "8630 Balatonboglár, Dózsa György utca 108"
                                },
                                {
                                    "SZALLAS_ID": "8",
                                    "SZALLAS_NEV": "Hotel Három Hattyú",
                                    "HELY": "Balaton-dél",
                                    "CSILLAGOK_SZAMA": "4",
                                    "TIPUS": "Hotel",
                                    "ROGZITETTE": "Béla",
                                    "ROGZ_IDO": "2016-03-13",
                                    "CIM": "8623 Balatonföldvár, Rákóczi Ferenc út 45."
                                },
                                {
                                    "SZALLAS_ID": "9",
                                    "SZALLAS_NEV": "Jáde panzió",
                                    "HELY": "Balaton-dél",
                                    "CSILLAGOK_SZAMA": "3",
                                    "TIPUS": "panzió",
                                    "ROGZITETTE": "Mari",
                                    "ROGZ_IDO": "2016-03-16",
                                    "CIM": "8624 Balatonföldvár, Kiss u.2."
                                },
                                {
                                    "SZALLAS_ID": "10",
                                    "SZALLAS_NEV": "Lagúna Hotel",
                                    "HELY": "Budapest",
                                    "CSILLAGOK_SZAMA": "4",
                                    "TIPUS": "Hotel",
                                    "ROGZITETTE": "Sára",
                                    "ROGZ_IDO": "2016-03-20",
                                    "CIM": "1097 Budapest, Albert Flórián út 3"
                                },
                                {
                                    "SZALLAS_ID": "11",
                                    "SZALLAS_NEV": "Partiszél Vendégház",
                                    "HELY": "Balaton-észak",
                                    "CSILLAGOK_SZAMA": "0",
                                    "TIPUS": "vendégház",
                                    "ROGZITETTE": "Béla",
                                    "ROGZ_IDO": "2016-03-22",
                                    "CIM": "8220 Balatonalmádi Neptun u. 23."
                                },
                                {
                                    "SZALLAS_ID": "12",
                                    "SZALLAS_NEV": "Gold Hotel",
                                    "HELY": "Budapest",
                                    "CSILLAGOK_SZAMA": "3",
                                    "TIPUS": "Hotel",
                                    "ROGZITETTE": "Béla",
                                    "ROGZ_IDO": "2016-03-24",
                                    "CIM": "1016 Budapest, Hegyalja út 12"
                                },
                                {
                                    "SZALLAS_ID": "13",
                                    "SZALLAS_NEV": "Riviéra Panzió",
                                    "HELY": "Csongrád megye",
                                    "CSILLAGOK_SZAMA": "3",
                                    "TIPUS": "panzió",
                                    "ROGZITETTE": "Sára",
                                    "ROGZ_IDO": "2016-03-27",
                                    "CIM": "6722 Szeged, Petőfi Sándor út 3."
                                },
                                {
                                    "SZALLAS_ID": "14",
                                    "SZALLAS_NEV": "Nyárfás Vendégház",
                                    "HELY": "Csongrád megye",
                                    "CSILLAGOK_SZAMA": "0",
                                    "TIPUS": "vendégház",
                                    "ROGZITETTE": "Béla",
                                    "ROGZ_IDO": "2016-03-27",
                                    "CIM": "6723 Szeged, Nagy u. 12."
                                },
                                {
                                    "SZALLAS_ID": "15",
                                    "SZALLAS_NEV": "Tímárház Panzió",
                                    "HELY": "Balaton-dél",
                                    "CSILLAGOK_SZAMA": "3",
                                    "TIPUS": "panzió",
                                    "ROGZITETTE": "Béla",
                                    "ROGZ_IDO": "2016-03-29",
                                    "CIM": "8600 Siófok, Virág utca 1"
                                },
                                {
                                    "SZALLAS_ID": "16",
                                    "SZALLAS_NEV": "Bagoly Hotel",
                                    "HELY": "Pest megye",
                                    "CSILLAGOK_SZAMA": "3",
                                    "TIPUS": "Hotel",
                                    "ROGZITETTE": "Mari",
                                    "ROGZ_IDO": "2016-04-01",
                                    "CIM": "2230 Gyömrő, Bergszász u. 5."
                                },
                                {
                                    "SZALLAS_ID": "17",
                                    "SZALLAS_NEV": "Szarvas Hotel",
                                    "HELY": "Tolna megye",
                                    "CSILLAGOK_SZAMA": "4",
                                    "TIPUS": "Hotel",
                                    "ROGZITETTE": "Béla",
                                    "ROGZ_IDO": "2016-04-04",
                                    "CIM": "7121 Szálka, Petőfi Sándor u."
                                },
                                {
                                    "SZALLAS_ID": "18",
                                    "SZALLAS_NEV": "Fortuna Apartman",
                                    "HELY": "Dél-Somogy",
                                    "CSILLAGOK_SZAMA": "0",
                                    "TIPUS": "Apartman",
                                    "ROGZITETTE": "Béla",
                                    "ROGZ_IDO": "2016-04-07",
                                    "CIM": "7570 Barcs, Kossuth u. 13."
                                },
                                {
                                    "SZALLAS_ID": "19",
                                    "SZALLAS_NEV": "Nyárfás Vendégház",
                                    "HELY": "Dél-Somogy",
                                    "CSILLAGOK_SZAMA": "0",
                                    "TIPUS": "vendégház",
                                    "ROGZITETTE": "Sára",
                                    "ROGZ_IDO": "2016-04-07",
                                    "CIM": "7570 Barcs, Bajcsy-Zs. u. 53"
                                },
                                {
                                    "SZALLAS_ID": "20",
                                    "SZALLAS_NEV": "Kollégium",
                                    "HELY": "Budapest",
                                    "CSILLAGOK_SZAMA": "0",
                                    "TIPUS": "Diákszálló",
                                    "ROGZITETTE": "Sára",
                                    "ROGZ_IDO": "2016-04-07",
                                    "CIM": "1146 Budapest, Ajtósi Dürer sor 23."
                                },
                                {
                                    "SZALLAS_ID": "21",
                                    "SZALLAS_NEV": "Müller Vendégház",
                                    "HELY": "Dél-Somogy",
                                    "CSILLAGOK_SZAMA": "0",
                                    "TIPUS": "vendégház",
                                    "ROGZITETTE": "Béla",
                                    "ROGZ_IDO": "2016-04-07",
                                    "CIM": "7570 Barcs, Magyar u. 10."
                                }
                            ]
                        },
                        "text/html": [
                            "<table>",
                            "<tr><th>SZALLAS_ID</th><th>SZALLAS_NEV</th><th>HELY</th><th>CSILLAGOK_SZAMA</th><th>TIPUS</th><th>ROGZITETTE</th><th>ROGZ_IDO</th><th>CIM</th></tr>",
                            "<tr><td>1</td><td>Sába-Ház</td><td>Balaton-dél</td><td>0</td><td>vendégház</td><td>Béla</td><td>2016-02-28</td><td>8630 Balatonboglár, Radnóti Miklós utca 8</td></tr>",
                            "<tr><td>2</td><td>Családi Ház</td><td>Balaton-dél</td><td>0</td><td>vendégház</td><td>Béla</td><td>2016-03-02</td><td>8630 Balatonboglár, József Attila utca 25</td></tr>",
                            "<tr><td>3</td><td>Fortuna Apartman</td><td>Hajdúbihar megye</td><td>0</td><td>Apartman</td><td>Sára</td><td>2016-03-06</td><td>4200 Hajdúszoboszló, Wesselényi utca 56.</td></tr>",
                            "<tr><td>4</td><td>Fortuna panzió</td><td>Budapest</td><td>3</td><td>panzió</td><td>Béla</td><td>2016-03-07</td><td>1019 Budapest XIV. Cinkotai út 86.</td></tr>",
                            "<tr><td>5</td><td>Fortuna Panzió</td><td>Békés megye</td><td>3</td><td>panzió</td><td>Sára</td><td>2016-03-08</td><td>5900 Orosháza, Gyopárosfürdő Tópart utca 3.</td></tr>",
                            "<tr><td>6</td><td>Kentaur Hotel</td><td>Balaton-dél</td><td>3</td><td>Hotel</td><td>Béla</td><td>2016-03-08</td><td>8600 Siófok (Széplak), Akácfa utca 1</td></tr>",
                            "<tr><td>7</td><td>Szieszta Apartmanház</td><td>Balaton-dél</td><td>0</td><td>Apartman</td><td>Mari</td><td>2016-03-11</td><td>8630 Balatonboglár, Dózsa György utca 108</td></tr>",
                            "<tr><td>8</td><td>Hotel Három Hattyú</td><td>Balaton-dél</td><td>4</td><td>Hotel</td><td>Béla</td><td>2016-03-13</td><td>8623 Balatonföldvár, Rákóczi Ferenc út 45.</td></tr>",
                            "<tr><td>9</td><td>Jáde panzió</td><td>Balaton-dél</td><td>3</td><td>panzió</td><td>Mari</td><td>2016-03-16</td><td>8624 Balatonföldvár, Kiss u.2.</td></tr>",
                            "<tr><td>10</td><td>Lagúna Hotel</td><td>Budapest</td><td>4</td><td>Hotel</td><td>Sára</td><td>2016-03-20</td><td>1097 Budapest, Albert Flórián út 3</td></tr>",
                            "<tr><td>11</td><td>Partiszél Vendégház</td><td>Balaton-észak</td><td>0</td><td>vendégház</td><td>Béla</td><td>2016-03-22</td><td>8220 Balatonalmádi Neptun u. 23.</td></tr>",
                            "<tr><td>12</td><td>Gold Hotel</td><td>Budapest</td><td>3</td><td>Hotel</td><td>Béla</td><td>2016-03-24</td><td>1016 Budapest, Hegyalja út 12</td></tr>",
                            "<tr><td>13</td><td>Riviéra Panzió</td><td>Csongrád megye</td><td>3</td><td>panzió</td><td>Sára</td><td>2016-03-27</td><td>6722 Szeged, Petőfi Sándor út 3.</td></tr>",
                            "<tr><td>14</td><td>Nyárfás Vendégház</td><td>Csongrád megye</td><td>0</td><td>vendégház</td><td>Béla</td><td>2016-03-27</td><td>6723 Szeged, Nagy u. 12.</td></tr>",
                            "<tr><td>15</td><td>Tímárház Panzió</td><td>Balaton-dél</td><td>3</td><td>panzió</td><td>Béla</td><td>2016-03-29</td><td>8600 Siófok, Virág utca 1</td></tr>",
                            "<tr><td>16</td><td>Bagoly Hotel</td><td>Pest megye</td><td>3</td><td>Hotel</td><td>Mari</td><td>2016-04-01</td><td>2230 Gyömrő, Bergszász u. 5.</td></tr>",
                            "<tr><td>17</td><td>Szarvas Hotel</td><td>Tolna megye</td><td>4</td><td>Hotel</td><td>Béla</td><td>2016-04-04</td><td>7121 Szálka, Petőfi Sándor u.</td></tr>",
                            "<tr><td>18</td><td>Fortuna Apartman</td><td>Dél-Somogy</td><td>0</td><td>Apartman</td><td>Béla</td><td>2016-04-07</td><td>7570 Barcs, Kossuth u. 13.</td></tr>",
                            "<tr><td>19</td><td>Nyárfás Vendégház</td><td>Dél-Somogy</td><td>0</td><td>vendégház</td><td>Sára</td><td>2016-04-07</td><td>7570 Barcs, Bajcsy-Zs. u. 53</td></tr>",
                            "<tr><td>20</td><td>Kollégium</td><td>Budapest</td><td>0</td><td>Diákszálló</td><td>Sára</td><td>2016-04-07</td><td>1146 Budapest, Ajtósi Dürer sor 23.</td></tr>",
                            "<tr><td>21</td><td>Müller Vendégház</td><td>Dél-Somogy</td><td>0</td><td>vendégház</td><td>Béla</td><td>2016-04-07</td><td>7570 Barcs, Magyar u. 10.</td></tr>",
                            "</table>"
                        ]
                    }
                }
            ],
            "execution_count": 17
        }
    ]
}