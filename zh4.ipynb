{
    "metadata": {
        "kernelspec": {
            "name": "SQL",
            "display_name": "SQL",
            "language": "sql"
        },
        "language_info": {
            "name": "sql",
            "version": ""
        }
    },
    "nbformat_minor": 2,
    "nbformat": 4,
    "cells": [
        {
            "cell_type": "markdown",
            "source": [
                "Jelenítsük meg minden egyes szoba esetén, hogy hányszor foglalták le!\n",
                "\n",
                "- Csak a szoba azonosítója és a foglalások darabszáma jelenjen meg\n",
                "- Azok a szobák is jelenjenek meg, ahol nem történt foglalás"
            ],
            "metadata": {
                "azdata_cell_guid": "d2074214-68d2-4ad9-8a8f-50f25e3b73da"
            },
            "attachments": {}
        },
        {
            "cell_type": "code",
            "source": [
                "select sz.szoba_id, count(f.foglalas_pk)\r\n",
                "from szoba sz left join foglalas f on sz.szoba_id=f.szoba_fk\r\n",
                "group by sz.szoba_id"
            ],
            "metadata": {
                "azdata_cell_guid": "9f19774e-1c48-45e9-ab65-98b47c4dbe31",
                "language": "sql"
            },
            "outputs": [
                {
                    "output_type": "display_data",
                    "data": {
                        "text/html": "(294 rows affected)"
                    },
                    "metadata": {}
                },
                {
                    "output_type": "display_data",
                    "data": {
                        "text/html": "Total execution time: 00:00:00.035"
                    },
                    "metadata": {}
                },
                {
                    "output_type": "execute_result",
                    "metadata": {},
                    "execution_count": 5,
                    "data": {
                        "application/vnd.dataresource+json": {
                            "schema": {
                                "fields": [
                                    {
                                        "name": "szoba_id"
                                    },
                                    {
                                        "name": "(No column name)"
                                    }
                                ]
                            },
                            "data": [
                                {
                                    "szoba_id": "1",
                                    "(No column name)": "8"
                                },
                                {
                                    "szoba_id": "2",
                                    "(No column name)": "4"
                                },
                                {
                                    "szoba_id": "3",
                                    "(No column name)": "8"
                                },
                                {
                                    "szoba_id": "4",
                                    "(No column name)": "6"
                                },
                                {
                                    "szoba_id": "5",
                                    "(No column name)": "4"
                                },
                                {
                                    "szoba_id": "6",
                                    "(No column name)": "6"
                                },
                                {
                                    "szoba_id": "7",
                                    "(No column name)": "6"
                                },
                                {
                                    "szoba_id": "8",
                                    "(No column name)": "5"
                                },
                                {
                                    "szoba_id": "9",
                                    "(No column name)": "6"
                                },
                                {
                                    "szoba_id": "10",
                                    "(No column name)": "4"
                                },
                                {
                                    "szoba_id": "11",
                                    "(No column name)": "4"
                                },
                                {
                                    "szoba_id": "12",
                                    "(No column name)": "9"
                                },
                                {
                                    "szoba_id": "13",
                                    "(No column name)": "4"
                                },
                                {
                                    "szoba_id": "14",
                                    "(No column name)": "3"
                                },
                                {
                                    "szoba_id": "15",
                                    "(No column name)": "6"
                                },
                                {
                                    "szoba_id": "16",
                                    "(No column name)": "5"
                                },
                                {
                                    "szoba_id": "17",
                                    "(No column name)": "6"
                                },
                                {
                                    "szoba_id": "18",
                                    "(No column name)": "6"
                                },
                                {
                                    "szoba_id": "19",
                                    "(No column name)": "6"
                                },
                                {
                                    "szoba_id": "20",
                                    "(No column name)": "5"
                                },
                                {
                                    "szoba_id": "21",
                                    "(No column name)": "4"
                                },
                                {
                                    "szoba_id": "22",
                                    "(No column name)": "6"
                                },
                                {
                                    "szoba_id": "23",
                                    "(No column name)": "3"
                                },
                                {
                                    "szoba_id": "24",
                                    "(No column name)": "3"
                                },
                                {
                                    "szoba_id": "25",
                                    "(No column name)": "2"
                                },
                                {
                                    "szoba_id": "26",
                                    "(No column name)": "2"
                                },
                                {
                                    "szoba_id": "27",
                                    "(No column name)": "7"
                                },
                                {
                                    "szoba_id": "28",
                                    "(No column name)": "6"
                                },
                                {
                                    "szoba_id": "29",
                                    "(No column name)": "6"
                                },
                                {
                                    "szoba_id": "30",
                                    "(No column name)": "3"
                                },
                                {
                                    "szoba_id": "31",
                                    "(No column name)": "3"
                                },
                                {
                                    "szoba_id": "32",
                                    "(No column name)": "1"
                                },
                                {
                                    "szoba_id": "33",
                                    "(No column name)": "6"
                                },
                                {
                                    "szoba_id": "34",
                                    "(No column name)": "4"
                                },
                                {
                                    "szoba_id": "35",
                                    "(No column name)": "9"
                                },
                                {
                                    "szoba_id": "36",
                                    "(No column name)": "6"
                                },
                                {
                                    "szoba_id": "37",
                                    "(No column name)": "3"
                                },
                                {
                                    "szoba_id": "38",
                                    "(No column name)": "8"
                                },
                                {
                                    "szoba_id": "39",
                                    "(No column name)": "7"
                                },
                                {
                                    "szoba_id": "40",
                                    "(No column name)": "4"
                                },
                                {
                                    "szoba_id": "41",
                                    "(No column name)": "2"
                                },
                                {
                                    "szoba_id": "42",
                                    "(No column name)": "6"
                                },
                                {
                                    "szoba_id": "43",
                                    "(No column name)": "8"
                                },
                                {
                                    "szoba_id": "44",
                                    "(No column name)": "6"
                                },
                                {
                                    "szoba_id": "45",
                                    "(No column name)": "5"
                                },
                                {
                                    "szoba_id": "46",
                                    "(No column name)": "4"
                                },
                                {
                                    "szoba_id": "47",
                                    "(No column name)": "2"
                                },
                                {
                                    "szoba_id": "48",
                                    "(No column name)": "9"
                                },
                                {
                                    "szoba_id": "49",
                                    "(No column name)": "7"
                                },
                                {
                                    "szoba_id": "50",
                                    "(No column name)": "4"
                                },
                                {
                                    "szoba_id": "51",
                                    "(No column name)": "5"
                                },
                                {
                                    "szoba_id": "52",
                                    "(No column name)": "5"
                                },
                                {
                                    "szoba_id": "53",
                                    "(No column name)": "2"
                                },
                                {
                                    "szoba_id": "54",
                                    "(No column name)": "6"
                                },
                                {
                                    "szoba_id": "55",
                                    "(No column name)": "8"
                                },
                                {
                                    "szoba_id": "56",
                                    "(No column name)": "2"
                                },
                                {
                                    "szoba_id": "57",
                                    "(No column name)": "4"
                                },
                                {
                                    "szoba_id": "58",
                                    "(No column name)": "13"
                                },
                                {
                                    "szoba_id": "59",
                                    "(No column name)": "7"
                                },
                                {
                                    "szoba_id": "60",
                                    "(No column name)": "1"
                                },
                                {
                                    "szoba_id": "61",
                                    "(No column name)": "5"
                                },
                                {
                                    "szoba_id": "62",
                                    "(No column name)": "5"
                                },
                                {
                                    "szoba_id": "63",
                                    "(No column name)": "4"
                                },
                                {
                                    "szoba_id": "64",
                                    "(No column name)": "6"
                                },
                                {
                                    "szoba_id": "65",
                                    "(No column name)": "1"
                                },
                                {
                                    "szoba_id": "66",
                                    "(No column name)": "4"
                                },
                                {
                                    "szoba_id": "67",
                                    "(No column name)": "6"
                                },
                                {
                                    "szoba_id": "68",
                                    "(No column name)": "3"
                                },
                                {
                                    "szoba_id": "69",
                                    "(No column name)": "4"
                                },
                                {
                                    "szoba_id": "70",
                                    "(No column name)": "11"
                                },
                                {
                                    "szoba_id": "71",
                                    "(No column name)": "3"
                                },
                                {
                                    "szoba_id": "72",
                                    "(No column name)": "4"
                                },
                                {
                                    "szoba_id": "73",
                                    "(No column name)": "4"
                                },
                                {
                                    "szoba_id": "74",
                                    "(No column name)": "9"
                                },
                                {
                                    "szoba_id": "75",
                                    "(No column name)": "3"
                                },
                                {
                                    "szoba_id": "76",
                                    "(No column name)": "3"
                                },
                                {
                                    "szoba_id": "77",
                                    "(No column name)": "6"
                                },
                                {
                                    "szoba_id": "78",
                                    "(No column name)": "6"
                                },
                                {
                                    "szoba_id": "79",
                                    "(No column name)": "5"
                                },
                                {
                                    "szoba_id": "80",
                                    "(No column name)": "7"
                                },
                                {
                                    "szoba_id": "81",
                                    "(No column name)": "5"
                                },
                                {
                                    "szoba_id": "82",
                                    "(No column name)": "6"
                                },
                                {
                                    "szoba_id": "83",
                                    "(No column name)": "8"
                                },
                                {
                                    "szoba_id": "84",
                                    "(No column name)": "4"
                                },
                                {
                                    "szoba_id": "85",
                                    "(No column name)": "4"
                                },
                                {
                                    "szoba_id": "86",
                                    "(No column name)": "5"
                                },
                                {
                                    "szoba_id": "87",
                                    "(No column name)": "5"
                                },
                                {
                                    "szoba_id": "88",
                                    "(No column name)": "8"
                                },
                                {
                                    "szoba_id": "89",
                                    "(No column name)": "8"
                                },
                                {
                                    "szoba_id": "90",
                                    "(No column name)": "4"
                                },
                                {
                                    "szoba_id": "91",
                                    "(No column name)": "4"
                                },
                                {
                                    "szoba_id": "92",
                                    "(No column name)": "6"
                                },
                                {
                                    "szoba_id": "93",
                                    "(No column name)": "5"
                                },
                                {
                                    "szoba_id": "94",
                                    "(No column name)": "10"
                                },
                                {
                                    "szoba_id": "95",
                                    "(No column name)": "4"
                                },
                                {
                                    "szoba_id": "96",
                                    "(No column name)": "7"
                                },
                                {
                                    "szoba_id": "97",
                                    "(No column name)": "7"
                                },
                                {
                                    "szoba_id": "98",
                                    "(No column name)": "4"
                                },
                                {
                                    "szoba_id": "99",
                                    "(No column name)": "5"
                                },
                                {
                                    "szoba_id": "100",
                                    "(No column name)": "4"
                                },
                                {
                                    "szoba_id": "101",
                                    "(No column name)": "3"
                                },
                                {
                                    "szoba_id": "102",
                                    "(No column name)": "2"
                                },
                                {
                                    "szoba_id": "103",
                                    "(No column name)": "4"
                                },
                                {
                                    "szoba_id": "104",
                                    "(No column name)": "4"
                                },
                                {
                                    "szoba_id": "105",
                                    "(No column name)": "2"
                                },
                                {
                                    "szoba_id": "106",
                                    "(No column name)": "6"
                                },
                                {
                                    "szoba_id": "107",
                                    "(No column name)": "5"
                                },
                                {
                                    "szoba_id": "108",
                                    "(No column name)": "2"
                                },
                                {
                                    "szoba_id": "109",
                                    "(No column name)": "7"
                                },
                                {
                                    "szoba_id": "110",
                                    "(No column name)": "8"
                                },
                                {
                                    "szoba_id": "111",
                                    "(No column name)": "5"
                                },
                                {
                                    "szoba_id": "112",
                                    "(No column name)": "5"
                                },
                                {
                                    "szoba_id": "113",
                                    "(No column name)": "5"
                                },
                                {
                                    "szoba_id": "114",
                                    "(No column name)": "4"
                                },
                                {
                                    "szoba_id": "115",
                                    "(No column name)": "7"
                                },
                                {
                                    "szoba_id": "116",
                                    "(No column name)": "2"
                                },
                                {
                                    "szoba_id": "117",
                                    "(No column name)": "8"
                                },
                                {
                                    "szoba_id": "118",
                                    "(No column name)": "7"
                                },
                                {
                                    "szoba_id": "119",
                                    "(No column name)": "5"
                                },
                                {
                                    "szoba_id": "120",
                                    "(No column name)": "6"
                                },
                                {
                                    "szoba_id": "121",
                                    "(No column name)": "8"
                                },
                                {
                                    "szoba_id": "122",
                                    "(No column name)": "9"
                                },
                                {
                                    "szoba_id": "123",
                                    "(No column name)": "5"
                                },
                                {
                                    "szoba_id": "124",
                                    "(No column name)": "6"
                                },
                                {
                                    "szoba_id": "125",
                                    "(No column name)": "1"
                                },
                                {
                                    "szoba_id": "126",
                                    "(No column name)": "6"
                                },
                                {
                                    "szoba_id": "127",
                                    "(No column name)": "7"
                                },
                                {
                                    "szoba_id": "128",
                                    "(No column name)": "5"
                                },
                                {
                                    "szoba_id": "129",
                                    "(No column name)": "4"
                                },
                                {
                                    "szoba_id": "130",
                                    "(No column name)": "6"
                                },
                                {
                                    "szoba_id": "131",
                                    "(No column name)": "5"
                                },
                                {
                                    "szoba_id": "132",
                                    "(No column name)": "6"
                                },
                                {
                                    "szoba_id": "133",
                                    "(No column name)": "6"
                                },
                                {
                                    "szoba_id": "134",
                                    "(No column name)": "6"
                                },
                                {
                                    "szoba_id": "135",
                                    "(No column name)": "3"
                                },
                                {
                                    "szoba_id": "136",
                                    "(No column name)": "3"
                                },
                                {
                                    "szoba_id": "137",
                                    "(No column name)": "6"
                                },
                                {
                                    "szoba_id": "138",
                                    "(No column name)": "7"
                                },
                                {
                                    "szoba_id": "139",
                                    "(No column name)": "7"
                                },
                                {
                                    "szoba_id": "140",
                                    "(No column name)": "8"
                                },
                                {
                                    "szoba_id": "141",
                                    "(No column name)": "6"
                                },
                                {
                                    "szoba_id": "142",
                                    "(No column name)": "2"
                                },
                                {
                                    "szoba_id": "143",
                                    "(No column name)": "7"
                                },
                                {
                                    "szoba_id": "144",
                                    "(No column name)": "5"
                                },
                                {
                                    "szoba_id": "145",
                                    "(No column name)": "6"
                                },
                                {
                                    "szoba_id": "146",
                                    "(No column name)": "6"
                                },
                                {
                                    "szoba_id": "147",
                                    "(No column name)": "1"
                                },
                                {
                                    "szoba_id": "148",
                                    "(No column name)": "6"
                                },
                                {
                                    "szoba_id": "149",
                                    "(No column name)": "7"
                                },
                                {
                                    "szoba_id": "150",
                                    "(No column name)": "6"
                                },
                                {
                                    "szoba_id": "151",
                                    "(No column name)": "3"
                                },
                                {
                                    "szoba_id": "152",
                                    "(No column name)": "4"
                                },
                                {
                                    "szoba_id": "153",
                                    "(No column name)": "5"
                                },
                                {
                                    "szoba_id": "154",
                                    "(No column name)": "5"
                                },
                                {
                                    "szoba_id": "155",
                                    "(No column name)": "5"
                                },
                                {
                                    "szoba_id": "156",
                                    "(No column name)": "7"
                                },
                                {
                                    "szoba_id": "157",
                                    "(No column name)": "5"
                                },
                                {
                                    "szoba_id": "158",
                                    "(No column name)": "3"
                                },
                                {
                                    "szoba_id": "159",
                                    "(No column name)": "0"
                                },
                                {
                                    "szoba_id": "160",
                                    "(No column name)": "5"
                                },
                                {
                                    "szoba_id": "161",
                                    "(No column name)": "6"
                                },
                                {
                                    "szoba_id": "162",
                                    "(No column name)": "3"
                                },
                                {
                                    "szoba_id": "163",
                                    "(No column name)": "7"
                                },
                                {
                                    "szoba_id": "164",
                                    "(No column name)": "5"
                                },
                                {
                                    "szoba_id": "165",
                                    "(No column name)": "7"
                                },
                                {
                                    "szoba_id": "166",
                                    "(No column name)": "3"
                                },
                                {
                                    "szoba_id": "167",
                                    "(No column name)": "2"
                                },
                                {
                                    "szoba_id": "168",
                                    "(No column name)": "5"
                                },
                                {
                                    "szoba_id": "169",
                                    "(No column name)": "6"
                                },
                                {
                                    "szoba_id": "170",
                                    "(No column name)": "5"
                                },
                                {
                                    "szoba_id": "171",
                                    "(No column name)": "5"
                                },
                                {
                                    "szoba_id": "172",
                                    "(No column name)": "9"
                                },
                                {
                                    "szoba_id": "173",
                                    "(No column name)": "4"
                                },
                                {
                                    "szoba_id": "174",
                                    "(No column name)": "4"
                                },
                                {
                                    "szoba_id": "175",
                                    "(No column name)": "5"
                                },
                                {
                                    "szoba_id": "176",
                                    "(No column name)": "6"
                                },
                                {
                                    "szoba_id": "177",
                                    "(No column name)": "4"
                                },
                                {
                                    "szoba_id": "178",
                                    "(No column name)": "4"
                                },
                                {
                                    "szoba_id": "179",
                                    "(No column name)": "3"
                                },
                                {
                                    "szoba_id": "180",
                                    "(No column name)": "3"
                                },
                                {
                                    "szoba_id": "181",
                                    "(No column name)": "6"
                                },
                                {
                                    "szoba_id": "182",
                                    "(No column name)": "12"
                                },
                                {
                                    "szoba_id": "183",
                                    "(No column name)": "4"
                                },
                                {
                                    "szoba_id": "184",
                                    "(No column name)": "4"
                                },
                                {
                                    "szoba_id": "185",
                                    "(No column name)": "12"
                                },
                                {
                                    "szoba_id": "186",
                                    "(No column name)": "4"
                                },
                                {
                                    "szoba_id": "187",
                                    "(No column name)": "7"
                                },
                                {
                                    "szoba_id": "188",
                                    "(No column name)": "6"
                                },
                                {
                                    "szoba_id": "189",
                                    "(No column name)": "5"
                                },
                                {
                                    "szoba_id": "190",
                                    "(No column name)": "5"
                                },
                                {
                                    "szoba_id": "191",
                                    "(No column name)": "5"
                                },
                                {
                                    "szoba_id": "192",
                                    "(No column name)": "2"
                                },
                                {
                                    "szoba_id": "193",
                                    "(No column name)": "7"
                                },
                                {
                                    "szoba_id": "194",
                                    "(No column name)": "1"
                                },
                                {
                                    "szoba_id": "195",
                                    "(No column name)": "6"
                                },
                                {
                                    "szoba_id": "196",
                                    "(No column name)": "4"
                                },
                                {
                                    "szoba_id": "197",
                                    "(No column name)": "6"
                                },
                                {
                                    "szoba_id": "198",
                                    "(No column name)": "8"
                                },
                                {
                                    "szoba_id": "199",
                                    "(No column name)": "0"
                                },
                                {
                                    "szoba_id": "200",
                                    "(No column name)": "0"
                                },
                                {
                                    "szoba_id": "201",
                                    "(No column name)": "0"
                                },
                                {
                                    "szoba_id": "202",
                                    "(No column name)": "0"
                                },
                                {
                                    "szoba_id": "203",
                                    "(No column name)": "0"
                                },
                                {
                                    "szoba_id": "204",
                                    "(No column name)": "0"
                                },
                                {
                                    "szoba_id": "205",
                                    "(No column name)": "0"
                                },
                                {
                                    "szoba_id": "206",
                                    "(No column name)": "0"
                                },
                                {
                                    "szoba_id": "207",
                                    "(No column name)": "0"
                                },
                                {
                                    "szoba_id": "208",
                                    "(No column name)": "0"
                                },
                                {
                                    "szoba_id": "209",
                                    "(No column name)": "0"
                                },
                                {
                                    "szoba_id": "210",
                                    "(No column name)": "0"
                                },
                                {
                                    "szoba_id": "211",
                                    "(No column name)": "0"
                                },
                                {
                                    "szoba_id": "212",
                                    "(No column name)": "0"
                                },
                                {
                                    "szoba_id": "213",
                                    "(No column name)": "0"
                                },
                                {
                                    "szoba_id": "214",
                                    "(No column name)": "0"
                                },
                                {
                                    "szoba_id": "215",
                                    "(No column name)": "0"
                                },
                                {
                                    "szoba_id": "216",
                                    "(No column name)": "0"
                                },
                                {
                                    "szoba_id": "217",
                                    "(No column name)": "0"
                                },
                                {
                                    "szoba_id": "218",
                                    "(No column name)": "0"
                                },
                                {
                                    "szoba_id": "219",
                                    "(No column name)": "0"
                                },
                                {
                                    "szoba_id": "220",
                                    "(No column name)": "0"
                                },
                                {
                                    "szoba_id": "221",
                                    "(No column name)": "0"
                                },
                                {
                                    "szoba_id": "222",
                                    "(No column name)": "0"
                                },
                                {
                                    "szoba_id": "223",
                                    "(No column name)": "0"
                                },
                                {
                                    "szoba_id": "224",
                                    "(No column name)": "0"
                                },
                                {
                                    "szoba_id": "225",
                                    "(No column name)": "0"
                                },
                                {
                                    "szoba_id": "226",
                                    "(No column name)": "0"
                                },
                                {
                                    "szoba_id": "227",
                                    "(No column name)": "0"
                                },
                                {
                                    "szoba_id": "228",
                                    "(No column name)": "0"
                                },
                                {
                                    "szoba_id": "229",
                                    "(No column name)": "0"
                                },
                                {
                                    "szoba_id": "230",
                                    "(No column name)": "0"
                                },
                                {
                                    "szoba_id": "231",
                                    "(No column name)": "0"
                                },
                                {
                                    "szoba_id": "232",
                                    "(No column name)": "0"
                                },
                                {
                                    "szoba_id": "233",
                                    "(No column name)": "0"
                                },
                                {
                                    "szoba_id": "234",
                                    "(No column name)": "0"
                                },
                                {
                                    "szoba_id": "235",
                                    "(No column name)": "0"
                                },
                                {
                                    "szoba_id": "236",
                                    "(No column name)": "0"
                                },
                                {
                                    "szoba_id": "237",
                                    "(No column name)": "0"
                                },
                                {
                                    "szoba_id": "238",
                                    "(No column name)": "0"
                                },
                                {
                                    "szoba_id": "239",
                                    "(No column name)": "0"
                                },
                                {
                                    "szoba_id": "240",
                                    "(No column name)": "0"
                                },
                                {
                                    "szoba_id": "241",
                                    "(No column name)": "0"
                                },
                                {
                                    "szoba_id": "242",
                                    "(No column name)": "0"
                                },
                                {
                                    "szoba_id": "243",
                                    "(No column name)": "0"
                                },
                                {
                                    "szoba_id": "244",
                                    "(No column name)": "0"
                                },
                                {
                                    "szoba_id": "245",
                                    "(No column name)": "0"
                                },
                                {
                                    "szoba_id": "246",
                                    "(No column name)": "0"
                                },
                                {
                                    "szoba_id": "247",
                                    "(No column name)": "0"
                                },
                                {
                                    "szoba_id": "248",
                                    "(No column name)": "0"
                                },
                                {
                                    "szoba_id": "249",
                                    "(No column name)": "0"
                                },
                                {
                                    "szoba_id": "250",
                                    "(No column name)": "0"
                                },
                                {
                                    "szoba_id": "251",
                                    "(No column name)": "0"
                                },
                                {
                                    "szoba_id": "252",
                                    "(No column name)": "0"
                                },
                                {
                                    "szoba_id": "253",
                                    "(No column name)": "0"
                                },
                                {
                                    "szoba_id": "254",
                                    "(No column name)": "0"
                                },
                                {
                                    "szoba_id": "255",
                                    "(No column name)": "0"
                                },
                                {
                                    "szoba_id": "256",
                                    "(No column name)": "0"
                                },
                                {
                                    "szoba_id": "257",
                                    "(No column name)": "0"
                                },
                                {
                                    "szoba_id": "258",
                                    "(No column name)": "0"
                                },
                                {
                                    "szoba_id": "259",
                                    "(No column name)": "0"
                                },
                                {
                                    "szoba_id": "260",
                                    "(No column name)": "0"
                                },
                                {
                                    "szoba_id": "261",
                                    "(No column name)": "0"
                                },
                                {
                                    "szoba_id": "262",
                                    "(No column name)": "0"
                                },
                                {
                                    "szoba_id": "263",
                                    "(No column name)": "0"
                                },
                                {
                                    "szoba_id": "264",
                                    "(No column name)": "0"
                                },
                                {
                                    "szoba_id": "265",
                                    "(No column name)": "0"
                                },
                                {
                                    "szoba_id": "266",
                                    "(No column name)": "0"
                                },
                                {
                                    "szoba_id": "267",
                                    "(No column name)": "0"
                                },
                                {
                                    "szoba_id": "268",
                                    "(No column name)": "0"
                                },
                                {
                                    "szoba_id": "269",
                                    "(No column name)": "0"
                                },
                                {
                                    "szoba_id": "270",
                                    "(No column name)": "0"
                                },
                                {
                                    "szoba_id": "271",
                                    "(No column name)": "0"
                                },
                                {
                                    "szoba_id": "272",
                                    "(No column name)": "0"
                                },
                                {
                                    "szoba_id": "273",
                                    "(No column name)": "0"
                                },
                                {
                                    "szoba_id": "274",
                                    "(No column name)": "0"
                                },
                                {
                                    "szoba_id": "275",
                                    "(No column name)": "0"
                                },
                                {
                                    "szoba_id": "276",
                                    "(No column name)": "0"
                                },
                                {
                                    "szoba_id": "277",
                                    "(No column name)": "0"
                                },
                                {
                                    "szoba_id": "278",
                                    "(No column name)": "0"
                                },
                                {
                                    "szoba_id": "279",
                                    "(No column name)": "0"
                                },
                                {
                                    "szoba_id": "280",
                                    "(No column name)": "0"
                                },
                                {
                                    "szoba_id": "281",
                                    "(No column name)": "0"
                                },
                                {
                                    "szoba_id": "282",
                                    "(No column name)": "0"
                                },
                                {
                                    "szoba_id": "283",
                                    "(No column name)": "0"
                                },
                                {
                                    "szoba_id": "284",
                                    "(No column name)": "0"
                                },
                                {
                                    "szoba_id": "285",
                                    "(No column name)": "0"
                                },
                                {
                                    "szoba_id": "286",
                                    "(No column name)": "0"
                                },
                                {
                                    "szoba_id": "287",
                                    "(No column name)": "0"
                                },
                                {
                                    "szoba_id": "288",
                                    "(No column name)": "0"
                                },
                                {
                                    "szoba_id": "289",
                                    "(No column name)": "0"
                                },
                                {
                                    "szoba_id": "290",
                                    "(No column name)": "0"
                                },
                                {
                                    "szoba_id": "291",
                                    "(No column name)": "0"
                                },
                                {
                                    "szoba_id": "292",
                                    "(No column name)": "0"
                                },
                                {
                                    "szoba_id": "293",
                                    "(No column name)": "0"
                                },
                                {
                                    "szoba_id": "294",
                                    "(No column name)": "0"
                                }
                            ]
                        },
                        "text/html": [
                            "<table>",
                            "<tr><th>szoba_id</th><th>(No column name)</th></tr>",
                            "<tr><td>1</td><td>8</td></tr>",
                            "<tr><td>2</td><td>4</td></tr>",
                            "<tr><td>3</td><td>8</td></tr>",
                            "<tr><td>4</td><td>6</td></tr>",
                            "<tr><td>5</td><td>4</td></tr>",
                            "<tr><td>6</td><td>6</td></tr>",
                            "<tr><td>7</td><td>6</td></tr>",
                            "<tr><td>8</td><td>5</td></tr>",
                            "<tr><td>9</td><td>6</td></tr>",
                            "<tr><td>10</td><td>4</td></tr>",
                            "<tr><td>11</td><td>4</td></tr>",
                            "<tr><td>12</td><td>9</td></tr>",
                            "<tr><td>13</td><td>4</td></tr>",
                            "<tr><td>14</td><td>3</td></tr>",
                            "<tr><td>15</td><td>6</td></tr>",
                            "<tr><td>16</td><td>5</td></tr>",
                            "<tr><td>17</td><td>6</td></tr>",
                            "<tr><td>18</td><td>6</td></tr>",
                            "<tr><td>19</td><td>6</td></tr>",
                            "<tr><td>20</td><td>5</td></tr>",
                            "<tr><td>21</td><td>4</td></tr>",
                            "<tr><td>22</td><td>6</td></tr>",
                            "<tr><td>23</td><td>3</td></tr>",
                            "<tr><td>24</td><td>3</td></tr>",
                            "<tr><td>25</td><td>2</td></tr>",
                            "<tr><td>26</td><td>2</td></tr>",
                            "<tr><td>27</td><td>7</td></tr>",
                            "<tr><td>28</td><td>6</td></tr>",
                            "<tr><td>29</td><td>6</td></tr>",
                            "<tr><td>30</td><td>3</td></tr>",
                            "<tr><td>31</td><td>3</td></tr>",
                            "<tr><td>32</td><td>1</td></tr>",
                            "<tr><td>33</td><td>6</td></tr>",
                            "<tr><td>34</td><td>4</td></tr>",
                            "<tr><td>35</td><td>9</td></tr>",
                            "<tr><td>36</td><td>6</td></tr>",
                            "<tr><td>37</td><td>3</td></tr>",
                            "<tr><td>38</td><td>8</td></tr>",
                            "<tr><td>39</td><td>7</td></tr>",
                            "<tr><td>40</td><td>4</td></tr>",
                            "<tr><td>41</td><td>2</td></tr>",
                            "<tr><td>42</td><td>6</td></tr>",
                            "<tr><td>43</td><td>8</td></tr>",
                            "<tr><td>44</td><td>6</td></tr>",
                            "<tr><td>45</td><td>5</td></tr>",
                            "<tr><td>46</td><td>4</td></tr>",
                            "<tr><td>47</td><td>2</td></tr>",
                            "<tr><td>48</td><td>9</td></tr>",
                            "<tr><td>49</td><td>7</td></tr>",
                            "<tr><td>50</td><td>4</td></tr>",
                            "<tr><td>51</td><td>5</td></tr>",
                            "<tr><td>52</td><td>5</td></tr>",
                            "<tr><td>53</td><td>2</td></tr>",
                            "<tr><td>54</td><td>6</td></tr>",
                            "<tr><td>55</td><td>8</td></tr>",
                            "<tr><td>56</td><td>2</td></tr>",
                            "<tr><td>57</td><td>4</td></tr>",
                            "<tr><td>58</td><td>13</td></tr>",
                            "<tr><td>59</td><td>7</td></tr>",
                            "<tr><td>60</td><td>1</td></tr>",
                            "<tr><td>61</td><td>5</td></tr>",
                            "<tr><td>62</td><td>5</td></tr>",
                            "<tr><td>63</td><td>4</td></tr>",
                            "<tr><td>64</td><td>6</td></tr>",
                            "<tr><td>65</td><td>1</td></tr>",
                            "<tr><td>66</td><td>4</td></tr>",
                            "<tr><td>67</td><td>6</td></tr>",
                            "<tr><td>68</td><td>3</td></tr>",
                            "<tr><td>69</td><td>4</td></tr>",
                            "<tr><td>70</td><td>11</td></tr>",
                            "<tr><td>71</td><td>3</td></tr>",
                            "<tr><td>72</td><td>4</td></tr>",
                            "<tr><td>73</td><td>4</td></tr>",
                            "<tr><td>74</td><td>9</td></tr>",
                            "<tr><td>75</td><td>3</td></tr>",
                            "<tr><td>76</td><td>3</td></tr>",
                            "<tr><td>77</td><td>6</td></tr>",
                            "<tr><td>78</td><td>6</td></tr>",
                            "<tr><td>79</td><td>5</td></tr>",
                            "<tr><td>80</td><td>7</td></tr>",
                            "<tr><td>81</td><td>5</td></tr>",
                            "<tr><td>82</td><td>6</td></tr>",
                            "<tr><td>83</td><td>8</td></tr>",
                            "<tr><td>84</td><td>4</td></tr>",
                            "<tr><td>85</td><td>4</td></tr>",
                            "<tr><td>86</td><td>5</td></tr>",
                            "<tr><td>87</td><td>5</td></tr>",
                            "<tr><td>88</td><td>8</td></tr>",
                            "<tr><td>89</td><td>8</td></tr>",
                            "<tr><td>90</td><td>4</td></tr>",
                            "<tr><td>91</td><td>4</td></tr>",
                            "<tr><td>92</td><td>6</td></tr>",
                            "<tr><td>93</td><td>5</td></tr>",
                            "<tr><td>94</td><td>10</td></tr>",
                            "<tr><td>95</td><td>4</td></tr>",
                            "<tr><td>96</td><td>7</td></tr>",
                            "<tr><td>97</td><td>7</td></tr>",
                            "<tr><td>98</td><td>4</td></tr>",
                            "<tr><td>99</td><td>5</td></tr>",
                            "<tr><td>100</td><td>4</td></tr>",
                            "<tr><td>101</td><td>3</td></tr>",
                            "<tr><td>102</td><td>2</td></tr>",
                            "<tr><td>103</td><td>4</td></tr>",
                            "<tr><td>104</td><td>4</td></tr>",
                            "<tr><td>105</td><td>2</td></tr>",
                            "<tr><td>106</td><td>6</td></tr>",
                            "<tr><td>107</td><td>5</td></tr>",
                            "<tr><td>108</td><td>2</td></tr>",
                            "<tr><td>109</td><td>7</td></tr>",
                            "<tr><td>110</td><td>8</td></tr>",
                            "<tr><td>111</td><td>5</td></tr>",
                            "<tr><td>112</td><td>5</td></tr>",
                            "<tr><td>113</td><td>5</td></tr>",
                            "<tr><td>114</td><td>4</td></tr>",
                            "<tr><td>115</td><td>7</td></tr>",
                            "<tr><td>116</td><td>2</td></tr>",
                            "<tr><td>117</td><td>8</td></tr>",
                            "<tr><td>118</td><td>7</td></tr>",
                            "<tr><td>119</td><td>5</td></tr>",
                            "<tr><td>120</td><td>6</td></tr>",
                            "<tr><td>121</td><td>8</td></tr>",
                            "<tr><td>122</td><td>9</td></tr>",
                            "<tr><td>123</td><td>5</td></tr>",
                            "<tr><td>124</td><td>6</td></tr>",
                            "<tr><td>125</td><td>1</td></tr>",
                            "<tr><td>126</td><td>6</td></tr>",
                            "<tr><td>127</td><td>7</td></tr>",
                            "<tr><td>128</td><td>5</td></tr>",
                            "<tr><td>129</td><td>4</td></tr>",
                            "<tr><td>130</td><td>6</td></tr>",
                            "<tr><td>131</td><td>5</td></tr>",
                            "<tr><td>132</td><td>6</td></tr>",
                            "<tr><td>133</td><td>6</td></tr>",
                            "<tr><td>134</td><td>6</td></tr>",
                            "<tr><td>135</td><td>3</td></tr>",
                            "<tr><td>136</td><td>3</td></tr>",
                            "<tr><td>137</td><td>6</td></tr>",
                            "<tr><td>138</td><td>7</td></tr>",
                            "<tr><td>139</td><td>7</td></tr>",
                            "<tr><td>140</td><td>8</td></tr>",
                            "<tr><td>141</td><td>6</td></tr>",
                            "<tr><td>142</td><td>2</td></tr>",
                            "<tr><td>143</td><td>7</td></tr>",
                            "<tr><td>144</td><td>5</td></tr>",
                            "<tr><td>145</td><td>6</td></tr>",
                            "<tr><td>146</td><td>6</td></tr>",
                            "<tr><td>147</td><td>1</td></tr>",
                            "<tr><td>148</td><td>6</td></tr>",
                            "<tr><td>149</td><td>7</td></tr>",
                            "<tr><td>150</td><td>6</td></tr>",
                            "<tr><td>151</td><td>3</td></tr>",
                            "<tr><td>152</td><td>4</td></tr>",
                            "<tr><td>153</td><td>5</td></tr>",
                            "<tr><td>154</td><td>5</td></tr>",
                            "<tr><td>155</td><td>5</td></tr>",
                            "<tr><td>156</td><td>7</td></tr>",
                            "<tr><td>157</td><td>5</td></tr>",
                            "<tr><td>158</td><td>3</td></tr>",
                            "<tr><td>159</td><td>0</td></tr>",
                            "<tr><td>160</td><td>5</td></tr>",
                            "<tr><td>161</td><td>6</td></tr>",
                            "<tr><td>162</td><td>3</td></tr>",
                            "<tr><td>163</td><td>7</td></tr>",
                            "<tr><td>164</td><td>5</td></tr>",
                            "<tr><td>165</td><td>7</td></tr>",
                            "<tr><td>166</td><td>3</td></tr>",
                            "<tr><td>167</td><td>2</td></tr>",
                            "<tr><td>168</td><td>5</td></tr>",
                            "<tr><td>169</td><td>6</td></tr>",
                            "<tr><td>170</td><td>5</td></tr>",
                            "<tr><td>171</td><td>5</td></tr>",
                            "<tr><td>172</td><td>9</td></tr>",
                            "<tr><td>173</td><td>4</td></tr>",
                            "<tr><td>174</td><td>4</td></tr>",
                            "<tr><td>175</td><td>5</td></tr>",
                            "<tr><td>176</td><td>6</td></tr>",
                            "<tr><td>177</td><td>4</td></tr>",
                            "<tr><td>178</td><td>4</td></tr>",
                            "<tr><td>179</td><td>3</td></tr>",
                            "<tr><td>180</td><td>3</td></tr>",
                            "<tr><td>181</td><td>6</td></tr>",
                            "<tr><td>182</td><td>12</td></tr>",
                            "<tr><td>183</td><td>4</td></tr>",
                            "<tr><td>184</td><td>4</td></tr>",
                            "<tr><td>185</td><td>12</td></tr>",
                            "<tr><td>186</td><td>4</td></tr>",
                            "<tr><td>187</td><td>7</td></tr>",
                            "<tr><td>188</td><td>6</td></tr>",
                            "<tr><td>189</td><td>5</td></tr>",
                            "<tr><td>190</td><td>5</td></tr>",
                            "<tr><td>191</td><td>5</td></tr>",
                            "<tr><td>192</td><td>2</td></tr>",
                            "<tr><td>193</td><td>7</td></tr>",
                            "<tr><td>194</td><td>1</td></tr>",
                            "<tr><td>195</td><td>6</td></tr>",
                            "<tr><td>196</td><td>4</td></tr>",
                            "<tr><td>197</td><td>6</td></tr>",
                            "<tr><td>198</td><td>8</td></tr>",
                            "<tr><td>199</td><td>0</td></tr>",
                            "<tr><td>200</td><td>0</td></tr>",
                            "<tr><td>201</td><td>0</td></tr>",
                            "<tr><td>202</td><td>0</td></tr>",
                            "<tr><td>203</td><td>0</td></tr>",
                            "<tr><td>204</td><td>0</td></tr>",
                            "<tr><td>205</td><td>0</td></tr>",
                            "<tr><td>206</td><td>0</td></tr>",
                            "<tr><td>207</td><td>0</td></tr>",
                            "<tr><td>208</td><td>0</td></tr>",
                            "<tr><td>209</td><td>0</td></tr>",
                            "<tr><td>210</td><td>0</td></tr>",
                            "<tr><td>211</td><td>0</td></tr>",
                            "<tr><td>212</td><td>0</td></tr>",
                            "<tr><td>213</td><td>0</td></tr>",
                            "<tr><td>214</td><td>0</td></tr>",
                            "<tr><td>215</td><td>0</td></tr>",
                            "<tr><td>216</td><td>0</td></tr>",
                            "<tr><td>217</td><td>0</td></tr>",
                            "<tr><td>218</td><td>0</td></tr>",
                            "<tr><td>219</td><td>0</td></tr>",
                            "<tr><td>220</td><td>0</td></tr>",
                            "<tr><td>221</td><td>0</td></tr>",
                            "<tr><td>222</td><td>0</td></tr>",
                            "<tr><td>223</td><td>0</td></tr>",
                            "<tr><td>224</td><td>0</td></tr>",
                            "<tr><td>225</td><td>0</td></tr>",
                            "<tr><td>226</td><td>0</td></tr>",
                            "<tr><td>227</td><td>0</td></tr>",
                            "<tr><td>228</td><td>0</td></tr>",
                            "<tr><td>229</td><td>0</td></tr>",
                            "<tr><td>230</td><td>0</td></tr>",
                            "<tr><td>231</td><td>0</td></tr>",
                            "<tr><td>232</td><td>0</td></tr>",
                            "<tr><td>233</td><td>0</td></tr>",
                            "<tr><td>234</td><td>0</td></tr>",
                            "<tr><td>235</td><td>0</td></tr>",
                            "<tr><td>236</td><td>0</td></tr>",
                            "<tr><td>237</td><td>0</td></tr>",
                            "<tr><td>238</td><td>0</td></tr>",
                            "<tr><td>239</td><td>0</td></tr>",
                            "<tr><td>240</td><td>0</td></tr>",
                            "<tr><td>241</td><td>0</td></tr>",
                            "<tr><td>242</td><td>0</td></tr>",
                            "<tr><td>243</td><td>0</td></tr>",
                            "<tr><td>244</td><td>0</td></tr>",
                            "<tr><td>245</td><td>0</td></tr>",
                            "<tr><td>246</td><td>0</td></tr>",
                            "<tr><td>247</td><td>0</td></tr>",
                            "<tr><td>248</td><td>0</td></tr>",
                            "<tr><td>249</td><td>0</td></tr>",
                            "<tr><td>250</td><td>0</td></tr>",
                            "<tr><td>251</td><td>0</td></tr>",
                            "<tr><td>252</td><td>0</td></tr>",
                            "<tr><td>253</td><td>0</td></tr>",
                            "<tr><td>254</td><td>0</td></tr>",
                            "<tr><td>255</td><td>0</td></tr>",
                            "<tr><td>256</td><td>0</td></tr>",
                            "<tr><td>257</td><td>0</td></tr>",
                            "<tr><td>258</td><td>0</td></tr>",
                            "<tr><td>259</td><td>0</td></tr>",
                            "<tr><td>260</td><td>0</td></tr>",
                            "<tr><td>261</td><td>0</td></tr>",
                            "<tr><td>262</td><td>0</td></tr>",
                            "<tr><td>263</td><td>0</td></tr>",
                            "<tr><td>264</td><td>0</td></tr>",
                            "<tr><td>265</td><td>0</td></tr>",
                            "<tr><td>266</td><td>0</td></tr>",
                            "<tr><td>267</td><td>0</td></tr>",
                            "<tr><td>268</td><td>0</td></tr>",
                            "<tr><td>269</td><td>0</td></tr>",
                            "<tr><td>270</td><td>0</td></tr>",
                            "<tr><td>271</td><td>0</td></tr>",
                            "<tr><td>272</td><td>0</td></tr>",
                            "<tr><td>273</td><td>0</td></tr>",
                            "<tr><td>274</td><td>0</td></tr>",
                            "<tr><td>275</td><td>0</td></tr>",
                            "<tr><td>276</td><td>0</td></tr>",
                            "<tr><td>277</td><td>0</td></tr>",
                            "<tr><td>278</td><td>0</td></tr>",
                            "<tr><td>279</td><td>0</td></tr>",
                            "<tr><td>280</td><td>0</td></tr>",
                            "<tr><td>281</td><td>0</td></tr>",
                            "<tr><td>282</td><td>0</td></tr>",
                            "<tr><td>283</td><td>0</td></tr>",
                            "<tr><td>284</td><td>0</td></tr>",
                            "<tr><td>285</td><td>0</td></tr>",
                            "<tr><td>286</td><td>0</td></tr>",
                            "<tr><td>287</td><td>0</td></tr>",
                            "<tr><td>288</td><td>0</td></tr>",
                            "<tr><td>289</td><td>0</td></tr>",
                            "<tr><td>290</td><td>0</td></tr>",
                            "<tr><td>291</td><td>0</td></tr>",
                            "<tr><td>292</td><td>0</td></tr>",
                            "<tr><td>293</td><td>0</td></tr>",
                            "<tr><td>294</td><td>0</td></tr>",
                            "</table>"
                        ]
                    }
                }
            ],
            "execution_count": 5
        },
        {
            "cell_type": "markdown",
            "source": [
                "<span style=\"color: rgb(0, 0, 0); font-family: &quot;Open Sans&quot;, sans-serif; font-size: 14.44px; background-color: rgb(255, 255, 255);\">Listázzuk azon szálláshelyek azonosítóját és nevét, amelyek a saját helyükön (HELY) a legtöbb csillaggal rendelkeznek!</span>"
            ],
            "metadata": {
                "azdata_cell_guid": "7f6a28a2-6a0b-4cd7-8bdd-3774657edab9"
            },
            "attachments": {}
        },
        {
            "cell_type": "code",
            "source": [
                "SELECT szh1.szallas_id, szh1.szallas_nev\r\n",
                "FROM szallashely szh1\r\n",
                "WHERE szh1.csillagok_szama = (\r\n",
                "    SELECT MAX(szh2.csillagok_szama)\r\n",
                "    FROM szallashely szh2\r\n",
                "    WHERE szh2.hely = szh1.hely\r\n",
                ")"
            ],
            "metadata": {
                "azdata_cell_guid": "5efe9f3c-2644-408d-b234-2fccc4169359",
                "language": "sql"
            },
            "outputs": [
                {
                    "output_type": "display_data",
                    "data": {
                        "text/html": "(11 rows affected)"
                    },
                    "metadata": {}
                },
                {
                    "output_type": "display_data",
                    "data": {
                        "text/html": "Total execution time: 00:00:00.006"
                    },
                    "metadata": {}
                },
                {
                    "output_type": "execute_result",
                    "metadata": {},
                    "execution_count": 7,
                    "data": {
                        "application/vnd.dataresource+json": {
                            "schema": {
                                "fields": [
                                    {
                                        "name": "szallas_id"
                                    },
                                    {
                                        "name": "szallas_nev"
                                    }
                                ]
                            },
                            "data": [
                                {
                                    "szallas_id": "17",
                                    "szallas_nev": "Szarvas Hotel"
                                },
                                {
                                    "szallas_id": "16",
                                    "szallas_nev": "Bagoly Hotel"
                                },
                                {
                                    "szallas_id": "3",
                                    "szallas_nev": "Fortuna Apartman"
                                },
                                {
                                    "szallas_id": "18",
                                    "szallas_nev": "Fortuna Apartman"
                                },
                                {
                                    "szallas_id": "19",
                                    "szallas_nev": "Nyárfás Vendégház"
                                },
                                {
                                    "szallas_id": "21",
                                    "szallas_nev": "Müller Vendégház"
                                },
                                {
                                    "szallas_id": "13",
                                    "szallas_nev": "Riviéra Panzió"
                                },
                                {
                                    "szallas_id": "10",
                                    "szallas_nev": "Lagúna Hotel"
                                },
                                {
                                    "szallas_id": "5",
                                    "szallas_nev": "Fortuna Panzió"
                                },
                                {
                                    "szallas_id": "11",
                                    "szallas_nev": "Partiszél Vendégház"
                                },
                                {
                                    "szallas_id": "8",
                                    "szallas_nev": "Hotel Három Hattyú"
                                }
                            ]
                        },
                        "text/html": [
                            "<table>",
                            "<tr><th>szallas_id</th><th>szallas_nev</th></tr>",
                            "<tr><td>17</td><td>Szarvas Hotel</td></tr>",
                            "<tr><td>16</td><td>Bagoly Hotel</td></tr>",
                            "<tr><td>3</td><td>Fortuna Apartman</td></tr>",
                            "<tr><td>18</td><td>Fortuna Apartman</td></tr>",
                            "<tr><td>19</td><td>Nyárfás Vendégház</td></tr>",
                            "<tr><td>21</td><td>Müller Vendégház</td></tr>",
                            "<tr><td>13</td><td>Riviéra Panzió</td></tr>",
                            "<tr><td>10</td><td>Lagúna Hotel</td></tr>",
                            "<tr><td>5</td><td>Fortuna Panzió</td></tr>",
                            "<tr><td>11</td><td>Partiszél Vendégház</td></tr>",
                            "<tr><td>8</td><td>Hotel Három Hattyú</td></tr>",
                            "</table>"
                        ]
                    }
                }
            ],
            "execution_count": 7
        },
        {
            "cell_type": "markdown",
            "source": [
                "Készítsen lekérdezést, amely sorszámozza a vendégeket a foglalások száma alapján\n",
                "\n",
                "- A sorszám mellett jelenjen meg a vendég azonosítója, neve és a foglalások száma is\n",
                "- A legtöbbet foglaló vendég kapja az egyes sorszámot\n",
                "- Holtverseny esetén a számozás annyit ugorjon, ahány egyforma érték van"
            ],
            "metadata": {
                "language": "sql",
                "azdata_cell_guid": "1af0d26f-bbf9-4ad4-a9da-51e0ff399228"
            },
            "attachments": {}
        },
        {
            "cell_type": "code",
            "source": [
                "select  RANK() over (order by count(f.FOGLALAS_PK) desc) as sorszam,\r\n",
                "        v.USERNEV,\r\n",
                "        v.NEV,\r\n",
                "        count(f.FOGLALAS_PK) as db\r\n",
                "from Vendeg v join Foglalas f on v.USERNEV = f.UGYFEL_FK\r\n",
                "group by v.USERNEV,\r\n",
                "        v.NEV"
            ],
            "metadata": {
                "language": "sql",
                "azdata_cell_guid": "875c97a6-6943-4e56-9cdc-350c1ccd02a7",
                "tags": []
            },
            "outputs": [
                {
                    "output_type": "display_data",
                    "data": {
                        "text/html": "(195 rows affected)"
                    },
                    "metadata": {}
                },
                {
                    "output_type": "display_data",
                    "data": {
                        "text/html": "Total execution time: 00:00:00.037"
                    },
                    "metadata": {}
                },
                {
                    "output_type": "execute_result",
                    "metadata": {},
                    "execution_count": 13,
                    "data": {
                        "application/vnd.dataresource+json": {
                            "schema": {
                                "fields": [
                                    {
                                        "name": "sorszam"
                                    },
                                    {
                                        "name": "USERNEV"
                                    },
                                    {
                                        "name": "NEV"
                                    },
                                    {
                                        "name": "db"
                                    }
                                ]
                            },
                            "data": [
                                {
                                    "sorszam": "1",
                                    "USERNEV": "andras41",
                                    "NEV": "Komjáti András",
                                    "db": "13"
                                },
                                {
                                    "sorszam": "1",
                                    "USERNEV": "ARONK",
                                    "NEV": "Kelemen Áron",
                                    "db": "13"
                                },
                                {
                                    "sorszam": "3",
                                    "USERNEV": "krisztian4",
                                    "NEV": "Czérna Krisztián",
                                    "db": "12"
                                },
                                {
                                    "sorszam": "3",
                                    "USERNEV": "peter4",
                                    "NEV": "Bíró Péter",
                                    "db": "12"
                                },
                                {
                                    "sorszam": "3",
                                    "USERNEV": "sara",
                                    "NEV": "Farkas Sára",
                                    "db": "12"
                                },
                                {
                                    "sorszam": "3",
                                    "USERNEV": "zoltan4",
                                    "NEV": "Barna Zoltán",
                                    "db": "12"
                                },
                                {
                                    "sorszam": "7",
                                    "USERNEV": "kata",
                                    "NEV": "Gondos Katalin",
                                    "db": "10"
                                },
                                {
                                    "sorszam": "7",
                                    "USERNEV": "akos",
                                    "NEV": "Bíró Ákos",
                                    "db": "10"
                                },
                                {
                                    "sorszam": "7",
                                    "USERNEV": "balazs2",
                                    "NEV": "Szűcs Balázs",
                                    "db": "10"
                                },
                                {
                                    "sorszam": "7",
                                    "USERNEV": "balint1",
                                    "NEV": "Molnár Bálint",
                                    "db": "10"
                                },
                                {
                                    "sorszam": "7",
                                    "USERNEV": "eszter2",
                                    "NEV": "Balogh Eszter",
                                    "db": "10"
                                },
                                {
                                    "sorszam": "12",
                                    "USERNEV": "dani",
                                    "NEV": "Vörös Dániel",
                                    "db": "9"
                                },
                                {
                                    "sorszam": "12",
                                    "USERNEV": "daniel",
                                    "NEV": "Rácz Dániel",
                                    "db": "9"
                                },
                                {
                                    "sorszam": "12",
                                    "USERNEV": "david",
                                    "NEV": "Ambrus Dávid",
                                    "db": "9"
                                },
                                {
                                    "sorszam": "12",
                                    "USERNEV": "BEATRIXK",
                                    "NEV": "Kerényi Beatrix",
                                    "db": "9"
                                },
                                {
                                    "sorszam": "12",
                                    "USERNEV": "bence",
                                    "NEV": "Győrffy Bence",
                                    "db": "9"
                                },
                                {
                                    "sorszam": "12",
                                    "USERNEV": "ANIKOS",
                                    "NEV": "Simon Anikó",
                                    "db": "9"
                                },
                                {
                                    "sorszam": "12",
                                    "USERNEV": "katalin",
                                    "NEV": "Horváth Katalin",
                                    "db": "9"
                                },
                                {
                                    "sorszam": "12",
                                    "USERNEV": "katka",
                                    "NEV": "Kovács Katalin",
                                    "db": "9"
                                },
                                {
                                    "sorszam": "12",
                                    "USERNEV": "norbert4",
                                    "NEV": "Mile Norbert",
                                    "db": "9"
                                },
                                {
                                    "sorszam": "12",
                                    "USERNEV": "szilvia1",
                                    "NEV": "Tari Szilvia",
                                    "db": "9"
                                },
                                {
                                    "sorszam": "12",
                                    "USERNEV": "TAMASF",
                                    "NEV": "Fényes Tamás",
                                    "db": "9"
                                },
                                {
                                    "sorszam": "23",
                                    "USERNEV": "tunde",
                                    "NEV": "Turcsik Tünde",
                                    "db": "8"
                                },
                                {
                                    "sorszam": "23",
                                    "USERNEV": "ROBERTI",
                                    "NEV": "Iván Róbert",
                                    "db": "8"
                                },
                                {
                                    "sorszam": "23",
                                    "USERNEV": "MATYASS",
                                    "NEV": "Szilágyi Mátyás",
                                    "db": "8"
                                },
                                {
                                    "sorszam": "23",
                                    "USERNEV": "krisztina",
                                    "NEV": "Szedlár Krisztina",
                                    "db": "8"
                                },
                                {
                                    "sorszam": "23",
                                    "USERNEV": "maria1",
                                    "NEV": "Baráth Mária",
                                    "db": "8"
                                },
                                {
                                    "sorszam": "23",
                                    "USERNEV": "fruzsina4",
                                    "NEV": "Frank Fruzsina",
                                    "db": "8"
                                },
                                {
                                    "sorszam": "23",
                                    "USERNEV": "GYORGYO",
                                    "NEV": "Oroszi György",
                                    "db": "8"
                                },
                                {
                                    "sorszam": "23",
                                    "USERNEV": "anett3",
                                    "NEV": "Pivarcsi Anett",
                                    "db": "8"
                                },
                                {
                                    "sorszam": "23",
                                    "USERNEV": "andras3",
                                    "NEV": "Vígh András",
                                    "db": "8"
                                },
                                {
                                    "sorszam": "23",
                                    "USERNEV": "bernadett2",
                                    "NEV": "Kovács Bernadett",
                                    "db": "8"
                                },
                                {
                                    "sorszam": "23",
                                    "USERNEV": "csongor3",
                                    "NEV": "Nagymihály Csongor",
                                    "db": "8"
                                },
                                {
                                    "sorszam": "34",
                                    "USERNEV": "daniel1",
                                    "NEV": "Keszler Dániel",
                                    "db": "7"
                                },
                                {
                                    "sorszam": "34",
                                    "USERNEV": "edit",
                                    "NEV": "Bittmann Edit",
                                    "db": "7"
                                },
                                {
                                    "sorszam": "34",
                                    "USERNEV": "emese",
                                    "NEV": "Kuruc Emese",
                                    "db": "7"
                                },
                                {
                                    "sorszam": "34",
                                    "USERNEV": "BERNADETTO",
                                    "NEV": "Orbán Bernadett",
                                    "db": "7"
                                },
                                {
                                    "sorszam": "34",
                                    "USERNEV": "bernadett1",
                                    "NEV": "Simon Bernadett",
                                    "db": "7"
                                },
                                {
                                    "sorszam": "34",
                                    "USERNEV": "alexandra",
                                    "NEV": "Bagóczki Alexandra",
                                    "db": "7"
                                },
                                {
                                    "sorszam": "34",
                                    "USERNEV": "andras21",
                                    "NEV": "Molnár András",
                                    "db": "7"
                                },
                                {
                                    "sorszam": "34",
                                    "USERNEV": "arpad2",
                                    "NEV": "Ötvös Árpád",
                                    "db": "7"
                                },
                                {
                                    "sorszam": "34",
                                    "USERNEV": "ARPADH",
                                    "NEV": "Horváth Árpád",
                                    "db": "7"
                                },
                                {
                                    "sorszam": "34",
                                    "USERNEV": "imre1",
                                    "NEV": "Papp Imre",
                                    "db": "7"
                                },
                                {
                                    "sorszam": "34",
                                    "USERNEV": "GYONGYIK",
                                    "NEV": "Kornseé Gyöngyi",
                                    "db": "7"
                                },
                                {
                                    "sorszam": "34",
                                    "USERNEV": "kati",
                                    "NEV": "Zatykó Katalin",
                                    "db": "7"
                                },
                                {
                                    "sorszam": "34",
                                    "USERNEV": "JANOSG",
                                    "NEV": "Giliga János",
                                    "db": "7"
                                },
                                {
                                    "sorszam": "34",
                                    "USERNEV": "JOZSEFG",
                                    "NEV": "Gyuris József",
                                    "db": "7"
                                },
                                {
                                    "sorszam": "34",
                                    "USERNEV": "marton",
                                    "NEV": "Kalacsi Márton",
                                    "db": "7"
                                },
                                {
                                    "sorszam": "34",
                                    "USERNEV": "nikoletta4",
                                    "NEV": "Kő Nikoletta",
                                    "db": "7"
                                },
                                {
                                    "sorszam": "34",
                                    "USERNEV": "norbert2",
                                    "NEV": "Hegedűs Norbert",
                                    "db": "7"
                                },
                                {
                                    "sorszam": "34",
                                    "USERNEV": "SZABOLCSM",
                                    "NEV": "Miklós Szabolcs",
                                    "db": "7"
                                },
                                {
                                    "sorszam": "34",
                                    "USERNEV": "SZILARDS",
                                    "NEV": "Szalai Szilárd",
                                    "db": "7"
                                },
                                {
                                    "sorszam": "34",
                                    "USERNEV": "vivien3",
                                    "NEV": "Boros Vivien",
                                    "db": "7"
                                },
                                {
                                    "sorszam": "54",
                                    "USERNEV": "ZSOLTJ",
                                    "NEV": "Józsa Zsolt",
                                    "db": "6"
                                },
                                {
                                    "sorszam": "54",
                                    "USERNEV": "ZOLTANP",
                                    "NEV": "Pintér Zoltán",
                                    "db": "6"
                                },
                                {
                                    "sorszam": "54",
                                    "USERNEV": "ZSUZSAV",
                                    "NEV": "Vajda Zsuzsa",
                                    "db": "6"
                                },
                                {
                                    "sorszam": "54",
                                    "USERNEV": "veronika4",
                                    "NEV": "Tankó Veronika",
                                    "db": "6"
                                },
                                {
                                    "sorszam": "54",
                                    "USERNEV": "tihamer",
                                    "NEV": "Kazy Tihamér",
                                    "db": "6"
                                },
                                {
                                    "sorszam": "54",
                                    "USERNEV": "RENATAK",
                                    "NEV": "Kardos Renáta",
                                    "db": "6"
                                },
                                {
                                    "sorszam": "54",
                                    "USERNEV": "polla",
                                    "NEV": "Palágyi Polla",
                                    "db": "6"
                                },
                                {
                                    "sorszam": "54",
                                    "USERNEV": "peter3",
                                    "NEV": "Szalai Péter",
                                    "db": "6"
                                },
                                {
                                    "sorszam": "54",
                                    "USERNEV": "MONIKAM",
                                    "NEV": "Mohos Mónika",
                                    "db": "6"
                                },
                                {
                                    "sorszam": "54",
                                    "USERNEV": "kriszti",
                                    "NEV": "Horváth Krisztina",
                                    "db": "6"
                                },
                                {
                                    "sorszam": "54",
                                    "USERNEV": "LASZLON",
                                    "NEV": "Nagy László",
                                    "db": "6"
                                },
                                {
                                    "sorszam": "54",
                                    "USERNEV": "krisztina1",
                                    "NEV": "Bori Krisztina",
                                    "db": "6"
                                },
                                {
                                    "sorszam": "54",
                                    "USERNEV": "KRISZTIANM",
                                    "NEV": "Mogyródi Krisztián",
                                    "db": "6"
                                },
                                {
                                    "sorszam": "54",
                                    "USERNEV": "lala",
                                    "NEV": "Nagymihály Lajos",
                                    "db": "6"
                                },
                                {
                                    "sorszam": "54",
                                    "USERNEV": "katalin4",
                                    "NEV": "Kertész Katalin",
                                    "db": "6"
                                },
                                {
                                    "sorszam": "54",
                                    "USERNEV": "gabor1",
                                    "NEV": "Köves Gábor",
                                    "db": "6"
                                },
                                {
                                    "sorszam": "54",
                                    "USERNEV": "gabriella1",
                                    "NEV": "Nagy Gabriella",
                                    "db": "6"
                                },
                                {
                                    "sorszam": "54",
                                    "USERNEV": "ARPADM",
                                    "NEV": "Móricz Árpád",
                                    "db": "6"
                                },
                                {
                                    "sorszam": "54",
                                    "USERNEV": "ANNAMARIAR",
                                    "NEV": "Regős Annamária",
                                    "db": "6"
                                },
                                {
                                    "sorszam": "54",
                                    "USERNEV": "aron2",
                                    "NEV": "Jakab Áron",
                                    "db": "6"
                                },
                                {
                                    "sorszam": "54",
                                    "USERNEV": "attila1",
                                    "NEV": "Gulyás Attila",
                                    "db": "6"
                                },
                                {
                                    "sorszam": "54",
                                    "USERNEV": "andrea",
                                    "NEV": "Kiss Andrea",
                                    "db": "6"
                                },
                                {
                                    "sorszam": "54",
                                    "USERNEV": "AGNESH",
                                    "NEV": "Horváth Ágnes",
                                    "db": "6"
                                },
                                {
                                    "sorszam": "54",
                                    "USERNEV": "adam4",
                                    "NEV": "Bieniek Ádám",
                                    "db": "6"
                                },
                                {
                                    "sorszam": "54",
                                    "USERNEV": "beata4",
                                    "NEV": "Bagi Beáta",
                                    "db": "6"
                                },
                                {
                                    "sorszam": "54",
                                    "USERNEV": "BENCEB",
                                    "NEV": "Bajusz Bence",
                                    "db": "6"
                                },
                                {
                                    "sorszam": "54",
                                    "USERNEV": "bertalan",
                                    "NEV": "Csiger Bertalan",
                                    "db": "6"
                                },
                                {
                                    "sorszam": "54",
                                    "USERNEV": "BEATRIXS",
                                    "NEV": "Szekendi Beatrix",
                                    "db": "6"
                                },
                                {
                                    "sorszam": "54",
                                    "USERNEV": "BELAF",
                                    "NEV": "Farkas Béla",
                                    "db": "6"
                                },
                                {
                                    "sorszam": "54",
                                    "USERNEV": "balazs3",
                                    "NEV": "Bakódy Balázs",
                                    "db": "6"
                                },
                                {
                                    "sorszam": "54",
                                    "USERNEV": "balazs1",
                                    "NEV": "Bozsik Balázs",
                                    "db": "6"
                                },
                                {
                                    "sorszam": "54",
                                    "USERNEV": "david1",
                                    "NEV": "Sobják Dávid",
                                    "db": "6"
                                },
                                {
                                    "sorszam": "54",
                                    "USERNEV": "denes",
                                    "NEV": "Tömböly Dénes",
                                    "db": "6"
                                },
                                {
                                    "sorszam": "87",
                                    "USERNEV": "dora3",
                                    "NEV": "Sarodi Dóra",
                                    "db": "5"
                                },
                                {
                                    "sorszam": "87",
                                    "USERNEV": "EVAV",
                                    "NEV": "Viktor Éva",
                                    "db": "5"
                                },
                                {
                                    "sorszam": "87",
                                    "USERNEV": "brigitta",
                                    "NEV": "Székely Brigitta",
                                    "db": "5"
                                },
                                {
                                    "sorszam": "87",
                                    "USERNEV": "brigitta3",
                                    "NEV": "Pataki Brigitta",
                                    "db": "5"
                                },
                                {
                                    "sorszam": "87",
                                    "USERNEV": "agnes",
                                    "NEV": "Lengyel Ágnes",
                                    "db": "5"
                                },
                                {
                                    "sorszam": "87",
                                    "USERNEV": "ANDRASE",
                                    "NEV": "Erdei András",
                                    "db": "5"
                                },
                                {
                                    "sorszam": "87",
                                    "USERNEV": "andi",
                                    "NEV": "Maródi Andrea",
                                    "db": "5"
                                },
                                {
                                    "sorszam": "87",
                                    "USERNEV": "andras2",
                                    "NEV": "Tóth András",
                                    "db": "5"
                                },
                                {
                                    "sorszam": "87",
                                    "USERNEV": "gusztav",
                                    "NEV": "Bárci Gusztáv",
                                    "db": "5"
                                },
                                {
                                    "sorszam": "87",
                                    "USERNEV": "julia",
                                    "NEV": "Tóth Júlia",
                                    "db": "5"
                                },
                                {
                                    "sorszam": "87",
                                    "USERNEV": "janos3",
                                    "NEV": "Harangozó János",
                                    "db": "5"
                                },
                                {
                                    "sorszam": "87",
                                    "USERNEV": "jozsef2",
                                    "NEV": "Vajda József",
                                    "db": "5"
                                },
                                {
                                    "sorszam": "87",
                                    "USERNEV": "KRISZTINAG",
                                    "NEV": "Gyárfás Krisztina",
                                    "db": "5"
                                },
                                {
                                    "sorszam": "87",
                                    "USERNEV": "laszlo2",
                                    "NEV": "Móra László",
                                    "db": "5"
                                },
                                {
                                    "sorszam": "87",
                                    "USERNEV": "mark",
                                    "NEV": "Kispál Márk",
                                    "db": "5"
                                },
                                {
                                    "sorszam": "87",
                                    "USERNEV": "MIHALYJ",
                                    "NEV": "Juhász Mihály",
                                    "db": "5"
                                },
                                {
                                    "sorszam": "87",
                                    "USERNEV": "pal",
                                    "NEV": "Barabás Pál",
                                    "db": "5"
                                },
                                {
                                    "sorszam": "87",
                                    "USERNEV": "norbert",
                                    "NEV": "Szűcs Norbert",
                                    "db": "5"
                                },
                                {
                                    "sorszam": "87",
                                    "USERNEV": "PETERB",
                                    "NEV": "Berendi Péter",
                                    "db": "5"
                                },
                                {
                                    "sorszam": "87",
                                    "USERNEV": "RENATAS",
                                    "NEV": "Szirmai Renáta",
                                    "db": "5"
                                },
                                {
                                    "sorszam": "87",
                                    "USERNEV": "SEBASTIANF",
                                    "NEV": "Foltényi Sebastián",
                                    "db": "5"
                                },
                                {
                                    "sorszam": "87",
                                    "USERNEV": "reka4",
                                    "NEV": "Szikszai Réka",
                                    "db": "5"
                                },
                                {
                                    "sorszam": "87",
                                    "USERNEV": "timea2",
                                    "NEV": "Dusha Tímea",
                                    "db": "5"
                                },
                                {
                                    "sorszam": "87",
                                    "USERNEV": "valentin",
                                    "NEV": "Feró Valentin",
                                    "db": "5"
                                },
                                {
                                    "sorszam": "87",
                                    "USERNEV": "sandor3",
                                    "NEV": "Farkas Sándor",
                                    "db": "5"
                                },
                                {
                                    "sorszam": "112",
                                    "USERNEV": "sandor4",
                                    "NEV": "Nagy Sándor",
                                    "db": "4"
                                },
                                {
                                    "sorszam": "112",
                                    "USERNEV": "VIKTORIAU",
                                    "NEV": "Urbán Viktoria",
                                    "db": "4"
                                },
                                {
                                    "sorszam": "112",
                                    "USERNEV": "tamas",
                                    "NEV": "Antal Tamás",
                                    "db": "4"
                                },
                                {
                                    "sorszam": "112",
                                    "USERNEV": "sandor",
                                    "NEV": "Karasz Sándor",
                                    "db": "4"
                                },
                                {
                                    "sorszam": "112",
                                    "USERNEV": "roland",
                                    "NEV": "Tóth Roland",
                                    "db": "4"
                                },
                                {
                                    "sorszam": "112",
                                    "USERNEV": "roland1",
                                    "NEV": "Ferencz Roland",
                                    "db": "4"
                                },
                                {
                                    "sorszam": "112",
                                    "USERNEV": "sebestyen",
                                    "NEV": "Rab Sebestyén",
                                    "db": "4"
                                },
                                {
                                    "sorszam": "112",
                                    "USERNEV": "robert2",
                                    "NEV": "Patay Róbert",
                                    "db": "4"
                                },
                                {
                                    "sorszam": "112",
                                    "USERNEV": "rajmond4",
                                    "NEV": "Rácz Rajmond",
                                    "db": "4"
                                },
                                {
                                    "sorszam": "112",
                                    "USERNEV": "zsolt1",
                                    "NEV": "Pulai Zsolt",
                                    "db": "4"
                                },
                                {
                                    "sorszam": "112",
                                    "USERNEV": "zsuzsa3",
                                    "NEV": "Varsányi Zsuzsa",
                                    "db": "4"
                                },
                                {
                                    "sorszam": "112",
                                    "USERNEV": "zsuzsanna",
                                    "NEV": "Barta Zsuzsanna",
                                    "db": "4"
                                },
                                {
                                    "sorszam": "112",
                                    "USERNEV": "nikolett3",
                                    "NEV": "Horváth Nikolett",
                                    "db": "4"
                                },
                                {
                                    "sorszam": "112",
                                    "USERNEV": "peter1",
                                    "NEV": "Kozma Péter",
                                    "db": "4"
                                },
                                {
                                    "sorszam": "112",
                                    "USERNEV": "peter2",
                                    "NEV": "Bozsó Péter",
                                    "db": "4"
                                },
                                {
                                    "sorszam": "112",
                                    "USERNEV": "NIKOLETTAT",
                                    "NEV": "Tatár Nikoletta",
                                    "db": "4"
                                },
                                {
                                    "sorszam": "112",
                                    "USERNEV": "MARKH",
                                    "NEV": "Horváth Márk",
                                    "db": "4"
                                },
                                {
                                    "sorszam": "112",
                                    "USERNEV": "LASZLOA",
                                    "NEV": "Antal László",
                                    "db": "4"
                                },
                                {
                                    "sorszam": "112",
                                    "USERNEV": "JANOSP",
                                    "NEV": "Pálinkás János",
                                    "db": "4"
                                },
                                {
                                    "sorszam": "112",
                                    "USERNEV": "julianna4",
                                    "NEV": "Szabó Julianna",
                                    "db": "4"
                                },
                                {
                                    "sorszam": "112",
                                    "USERNEV": "eva2",
                                    "NEV": "Perlinger Éva",
                                    "db": "4"
                                },
                                {
                                    "sorszam": "112",
                                    "USERNEV": "georgij",
                                    "NEV": "Nyíri Georgij",
                                    "db": "4"
                                },
                                {
                                    "sorszam": "112",
                                    "USERNEV": "gabor4",
                                    "NEV": "Telek Gábor",
                                    "db": "4"
                                },
                                {
                                    "sorszam": "112",
                                    "USERNEV": "istvan1",
                                    "NEV": "Vizi István",
                                    "db": "4"
                                },
                                {
                                    "sorszam": "112",
                                    "USERNEV": "ilona3",
                                    "NEV": "Bosnyák Ilona",
                                    "db": "4"
                                },
                                {
                                    "sorszam": "112",
                                    "USERNEV": "aniko4",
                                    "NEV": "Böröcz Anikó",
                                    "db": "4"
                                },
                                {
                                    "sorszam": "112",
                                    "USERNEV": "anita",
                                    "NEV": "Hamvay-Kovács Anita",
                                    "db": "4"
                                },
                                {
                                    "sorszam": "112",
                                    "USERNEV": "andrea4",
                                    "NEV": "Neizer Andrea",
                                    "db": "4"
                                },
                                {
                                    "sorszam": "112",
                                    "USERNEV": "ATTILAO",
                                    "NEV": "Opra Attila",
                                    "db": "4"
                                },
                                {
                                    "sorszam": "112",
                                    "USERNEV": "ferenc1",
                                    "NEV": "Orosz Ferenc",
                                    "db": "4"
                                },
                                {
                                    "sorszam": "112",
                                    "USERNEV": "ESZTERE",
                                    "NEV": "Érsek Eszter",
                                    "db": "4"
                                },
                                {
                                    "sorszam": "112",
                                    "USERNEV": "eszter",
                                    "NEV": "Molnár Eszter",
                                    "db": "4"
                                },
                                {
                                    "sorszam": "112",
                                    "USERNEV": "debora",
                                    "NEV": "Barna Debóra",
                                    "db": "4"
                                },
                                {
                                    "sorszam": "145",
                                    "USERNEV": "eszter4",
                                    "NEV": "Fülöp Eszter",
                                    "db": "3"
                                },
                                {
                                    "sorszam": "145",
                                    "USERNEV": "balint",
                                    "NEV": "Horváth Bálint",
                                    "db": "3"
                                },
                                {
                                    "sorszam": "145",
                                    "USERNEV": "ANDREAT",
                                    "NEV": "Tornyos Andrea",
                                    "db": "3"
                                },
                                {
                                    "sorszam": "145",
                                    "USERNEV": "aniko",
                                    "NEV": "Tóth Anikó",
                                    "db": "3"
                                },
                                {
                                    "sorszam": "145",
                                    "USERNEV": "attila4",
                                    "NEV": "Baróti Attila",
                                    "db": "3"
                                },
                                {
                                    "sorszam": "145",
                                    "USERNEV": "attila",
                                    "NEV": "Csóti Attila",
                                    "db": "3"
                                },
                                {
                                    "sorszam": "145",
                                    "USERNEV": "andras4",
                                    "NEV": "Back András",
                                    "db": "3"
                                },
                                {
                                    "sorszam": "145",
                                    "USERNEV": "agnes3",
                                    "NEV": "Hartyánszky Ágnes",
                                    "db": "3"
                                },
                                {
                                    "sorszam": "145",
                                    "USERNEV": "adam1",
                                    "NEV": "Kiss Ádám",
                                    "db": "3"
                                },
                                {
                                    "sorszam": "145",
                                    "USERNEV": "AGNESK",
                                    "NEV": "Kovács Ágnes",
                                    "db": "3"
                                },
                                {
                                    "sorszam": "145",
                                    "USERNEV": "aladar",
                                    "NEV": "Dunai Aladár",
                                    "db": "3"
                                },
                                {
                                    "sorszam": "145",
                                    "USERNEV": "henrik3",
                                    "NEV": "Nádudvari Henrik",
                                    "db": "3"
                                },
                                {
                                    "sorszam": "145",
                                    "USERNEV": "IBOLYAA",
                                    "NEV": "Andor Ibolya",
                                    "db": "3"
                                },
                                {
                                    "sorszam": "145",
                                    "USERNEV": "istvan",
                                    "NEV": "Soós István",
                                    "db": "3"
                                },
                                {
                                    "sorszam": "145",
                                    "USERNEV": "klaudia2",
                                    "NEV": "Bakó Klaudia",
                                    "db": "3"
                                },
                                {
                                    "sorszam": "145",
                                    "USERNEV": "kornel4",
                                    "NEV": "Lukács Kornél",
                                    "db": "3"
                                },
                                {
                                    "sorszam": "145",
                                    "USERNEV": "jozsef",
                                    "NEV": "Gergely József",
                                    "db": "3"
                                },
                                {
                                    "sorszam": "145",
                                    "USERNEV": "JUDITH",
                                    "NEV": "Hídasi Judit",
                                    "db": "3"
                                },
                                {
                                    "sorszam": "145",
                                    "USERNEV": "MATEK",
                                    "NEV": "Koza Máté",
                                    "db": "3"
                                },
                                {
                                    "sorszam": "145",
                                    "USERNEV": "lajos",
                                    "NEV": "Kiss Lajos",
                                    "db": "3"
                                },
                                {
                                    "sorszam": "145",
                                    "USERNEV": "NANDORF",
                                    "NEV": "Fő Nándor",
                                    "db": "3"
                                },
                                {
                                    "sorszam": "145",
                                    "USERNEV": "miklos2",
                                    "NEV": "Gondos Miklós",
                                    "db": "3"
                                },
                                {
                                    "sorszam": "145",
                                    "USERNEV": "MIKLOSB",
                                    "NEV": "Balla Miklós",
                                    "db": "3"
                                },
                                {
                                    "sorszam": "145",
                                    "USERNEV": "norbert5",
                                    "NEV": "Béres Norbert",
                                    "db": "3"
                                },
                                {
                                    "sorszam": "145",
                                    "USERNEV": "ZOLTANT",
                                    "NEV": "Tóth Zoltán",
                                    "db": "3"
                                },
                                {
                                    "sorszam": "145",
                                    "USERNEV": "zsuzsa",
                                    "NEV": "Pusztai Zsuzsanna",
                                    "db": "3"
                                },
                                {
                                    "sorszam": "145",
                                    "USERNEV": "roza2",
                                    "NEV": "Bucskó Róza",
                                    "db": "3"
                                },
                                {
                                    "sorszam": "172",
                                    "USERNEV": "ROBERTP",
                                    "NEV": "Pásztor Róbert",
                                    "db": "2"
                                },
                                {
                                    "sorszam": "172",
                                    "USERNEV": "VIKTORK",
                                    "NEV": "Keresztúri Viktor",
                                    "db": "2"
                                },
                                {
                                    "sorszam": "172",
                                    "USERNEV": "tibor",
                                    "NEV": "Gombos Tibor",
                                    "db": "2"
                                },
                                {
                                    "sorszam": "172",
                                    "USERNEV": "tamara2",
                                    "NEV": "Miklós Tamara",
                                    "db": "2"
                                },
                                {
                                    "sorszam": "172",
                                    "USERNEV": "zoltan",
                                    "NEV": "Fodor Zoltán",
                                    "db": "2"
                                },
                                {
                                    "sorszam": "172",
                                    "USERNEV": "zsofi1",
                                    "NEV": "Molnár Zsófi",
                                    "db": "2"
                                },
                                {
                                    "sorszam": "172",
                                    "USERNEV": "matyas2",
                                    "NEV": "Botka Mátyás",
                                    "db": "2"
                                },
                                {
                                    "sorszam": "172",
                                    "USERNEV": "julia4",
                                    "NEV": "Nagy Júlia",
                                    "db": "2"
                                },
                                {
                                    "sorszam": "172",
                                    "USERNEV": "kristof4",
                                    "NEV": "Poprádi Kristóf",
                                    "db": "2"
                                },
                                {
                                    "sorszam": "172",
                                    "USERNEV": "ISTVANV",
                                    "NEV": "Varga István",
                                    "db": "2"
                                },
                                {
                                    "sorszam": "172",
                                    "USERNEV": "imre",
                                    "NEV": "Búza Imre",
                                    "db": "2"
                                },
                                {
                                    "sorszam": "172",
                                    "USERNEV": "adam3",
                                    "NEV": "Barkóci Ádám",
                                    "db": "2"
                                },
                                {
                                    "sorszam": "172",
                                    "USERNEV": "annamaria1",
                                    "NEV": "Szűcs Annamária",
                                    "db": "2"
                                },
                                {
                                    "sorszam": "172",
                                    "USERNEV": "balint2",
                                    "NEV": "Vukasinovity Bálint",
                                    "db": "2"
                                },
                                {
                                    "sorszam": "172",
                                    "USERNEV": "balu",
                                    "NEV": "Endresz Bálint",
                                    "db": "2"
                                },
                                {
                                    "sorszam": "172",
                                    "USERNEV": "eva",
                                    "NEV": "Enyedi Éva",
                                    "db": "2"
                                },
                                {
                                    "sorszam": "188",
                                    "USERNEV": "david4",
                                    "NEV": "Berta Dávid",
                                    "db": "1"
                                },
                                {
                                    "sorszam": "188",
                                    "USERNEV": "ANDRASN",
                                    "NEV": "Nagy András",
                                    "db": "1"
                                },
                                {
                                    "sorszam": "188",
                                    "USERNEV": "andrea3",
                                    "NEV": "Szomor Andrea",
                                    "db": "1"
                                },
                                {
                                    "sorszam": "188",
                                    "USERNEV": "gabriella10",
                                    "NEV": "Vida Gabriella",
                                    "db": "1"
                                },
                                {
                                    "sorszam": "188",
                                    "USERNEV": "laszlo1",
                                    "NEV": "Farkas László",
                                    "db": "1"
                                },
                                {
                                    "sorszam": "188",
                                    "USERNEV": "tibor2",
                                    "NEV": "Dániel Tibor",
                                    "db": "1"
                                },
                                {
                                    "sorszam": "188",
                                    "USERNEV": "timea",
                                    "NEV": "Papós Tímea",
                                    "db": "1"
                                },
                                {
                                    "sorszam": "188",
                                    "USERNEV": "szabolcs",
                                    "NEV": "Bodor Szabolcs",
                                    "db": "1"
                                }
                            ]
                        },
                        "text/html": [
                            "<table>",
                            "<tr><th>sorszam</th><th>USERNEV</th><th>NEV</th><th>db</th></tr>",
                            "<tr><td>1</td><td>andras41</td><td>Komjáti András</td><td>13</td></tr>",
                            "<tr><td>1</td><td>ARONK</td><td>Kelemen Áron</td><td>13</td></tr>",
                            "<tr><td>3</td><td>krisztian4</td><td>Czérna Krisztián</td><td>12</td></tr>",
                            "<tr><td>3</td><td>peter4</td><td>Bíró Péter</td><td>12</td></tr>",
                            "<tr><td>3</td><td>sara</td><td>Farkas Sára</td><td>12</td></tr>",
                            "<tr><td>3</td><td>zoltan4</td><td>Barna Zoltán</td><td>12</td></tr>",
                            "<tr><td>7</td><td>kata</td><td>Gondos Katalin</td><td>10</td></tr>",
                            "<tr><td>7</td><td>akos</td><td>Bíró Ákos</td><td>10</td></tr>",
                            "<tr><td>7</td><td>balazs2</td><td>Szűcs Balázs</td><td>10</td></tr>",
                            "<tr><td>7</td><td>balint1</td><td>Molnár Bálint</td><td>10</td></tr>",
                            "<tr><td>7</td><td>eszter2</td><td>Balogh Eszter</td><td>10</td></tr>",
                            "<tr><td>12</td><td>dani</td><td>Vörös Dániel</td><td>9</td></tr>",
                            "<tr><td>12</td><td>daniel</td><td>Rácz Dániel</td><td>9</td></tr>",
                            "<tr><td>12</td><td>david</td><td>Ambrus Dávid</td><td>9</td></tr>",
                            "<tr><td>12</td><td>BEATRIXK</td><td>Kerényi Beatrix</td><td>9</td></tr>",
                            "<tr><td>12</td><td>bence</td><td>Győrffy Bence</td><td>9</td></tr>",
                            "<tr><td>12</td><td>ANIKOS</td><td>Simon Anikó</td><td>9</td></tr>",
                            "<tr><td>12</td><td>katalin</td><td>Horváth Katalin</td><td>9</td></tr>",
                            "<tr><td>12</td><td>katka</td><td>Kovács Katalin</td><td>9</td></tr>",
                            "<tr><td>12</td><td>norbert4</td><td>Mile Norbert</td><td>9</td></tr>",
                            "<tr><td>12</td><td>szilvia1</td><td>Tari Szilvia</td><td>9</td></tr>",
                            "<tr><td>12</td><td>TAMASF</td><td>Fényes Tamás</td><td>9</td></tr>",
                            "<tr><td>23</td><td>tunde</td><td>Turcsik Tünde</td><td>8</td></tr>",
                            "<tr><td>23</td><td>ROBERTI</td><td>Iván Róbert</td><td>8</td></tr>",
                            "<tr><td>23</td><td>MATYASS</td><td>Szilágyi Mátyás</td><td>8</td></tr>",
                            "<tr><td>23</td><td>krisztina</td><td>Szedlár Krisztina</td><td>8</td></tr>",
                            "<tr><td>23</td><td>maria1</td><td>Baráth Mária</td><td>8</td></tr>",
                            "<tr><td>23</td><td>fruzsina4</td><td>Frank Fruzsina</td><td>8</td></tr>",
                            "<tr><td>23</td><td>GYORGYO</td><td>Oroszi György</td><td>8</td></tr>",
                            "<tr><td>23</td><td>anett3</td><td>Pivarcsi Anett</td><td>8</td></tr>",
                            "<tr><td>23</td><td>andras3</td><td>Vígh András</td><td>8</td></tr>",
                            "<tr><td>23</td><td>bernadett2</td><td>Kovács Bernadett</td><td>8</td></tr>",
                            "<tr><td>23</td><td>csongor3</td><td>Nagymihály Csongor</td><td>8</td></tr>",
                            "<tr><td>34</td><td>daniel1</td><td>Keszler Dániel</td><td>7</td></tr>",
                            "<tr><td>34</td><td>edit</td><td>Bittmann Edit</td><td>7</td></tr>",
                            "<tr><td>34</td><td>emese</td><td>Kuruc Emese</td><td>7</td></tr>",
                            "<tr><td>34</td><td>BERNADETTO</td><td>Orbán Bernadett</td><td>7</td></tr>",
                            "<tr><td>34</td><td>bernadett1</td><td>Simon Bernadett</td><td>7</td></tr>",
                            "<tr><td>34</td><td>alexandra</td><td>Bagóczki Alexandra</td><td>7</td></tr>",
                            "<tr><td>34</td><td>andras21</td><td>Molnár András</td><td>7</td></tr>",
                            "<tr><td>34</td><td>arpad2</td><td>Ötvös Árpád</td><td>7</td></tr>",
                            "<tr><td>34</td><td>ARPADH</td><td>Horváth Árpád</td><td>7</td></tr>",
                            "<tr><td>34</td><td>imre1</td><td>Papp Imre</td><td>7</td></tr>",
                            "<tr><td>34</td><td>GYONGYIK</td><td>Kornseé Gyöngyi</td><td>7</td></tr>",
                            "<tr><td>34</td><td>kati</td><td>Zatykó Katalin</td><td>7</td></tr>",
                            "<tr><td>34</td><td>JANOSG</td><td>Giliga János</td><td>7</td></tr>",
                            "<tr><td>34</td><td>JOZSEFG</td><td>Gyuris József</td><td>7</td></tr>",
                            "<tr><td>34</td><td>marton</td><td>Kalacsi Márton</td><td>7</td></tr>",
                            "<tr><td>34</td><td>nikoletta4</td><td>Kő Nikoletta</td><td>7</td></tr>",
                            "<tr><td>34</td><td>norbert2</td><td>Hegedűs Norbert</td><td>7</td></tr>",
                            "<tr><td>34</td><td>SZABOLCSM</td><td>Miklós Szabolcs</td><td>7</td></tr>",
                            "<tr><td>34</td><td>SZILARDS</td><td>Szalai Szilárd</td><td>7</td></tr>",
                            "<tr><td>34</td><td>vivien3</td><td>Boros Vivien</td><td>7</td></tr>",
                            "<tr><td>54</td><td>ZSOLTJ</td><td>Józsa Zsolt</td><td>6</td></tr>",
                            "<tr><td>54</td><td>ZOLTANP</td><td>Pintér Zoltán</td><td>6</td></tr>",
                            "<tr><td>54</td><td>ZSUZSAV</td><td>Vajda Zsuzsa</td><td>6</td></tr>",
                            "<tr><td>54</td><td>veronika4</td><td>Tankó Veronika</td><td>6</td></tr>",
                            "<tr><td>54</td><td>tihamer</td><td>Kazy Tihamér</td><td>6</td></tr>",
                            "<tr><td>54</td><td>RENATAK</td><td>Kardos Renáta</td><td>6</td></tr>",
                            "<tr><td>54</td><td>polla</td><td>Palágyi Polla</td><td>6</td></tr>",
                            "<tr><td>54</td><td>peter3</td><td>Szalai Péter</td><td>6</td></tr>",
                            "<tr><td>54</td><td>MONIKAM</td><td>Mohos Mónika</td><td>6</td></tr>",
                            "<tr><td>54</td><td>kriszti</td><td>Horváth Krisztina</td><td>6</td></tr>",
                            "<tr><td>54</td><td>LASZLON</td><td>Nagy László</td><td>6</td></tr>",
                            "<tr><td>54</td><td>krisztina1</td><td>Bori Krisztina</td><td>6</td></tr>",
                            "<tr><td>54</td><td>KRISZTIANM</td><td>Mogyródi Krisztián</td><td>6</td></tr>",
                            "<tr><td>54</td><td>lala</td><td>Nagymihály Lajos</td><td>6</td></tr>",
                            "<tr><td>54</td><td>katalin4</td><td>Kertész Katalin</td><td>6</td></tr>",
                            "<tr><td>54</td><td>gabor1</td><td>Köves Gábor</td><td>6</td></tr>",
                            "<tr><td>54</td><td>gabriella1</td><td>Nagy Gabriella</td><td>6</td></tr>",
                            "<tr><td>54</td><td>ARPADM</td><td>Móricz Árpád</td><td>6</td></tr>",
                            "<tr><td>54</td><td>ANNAMARIAR</td><td>Regős Annamária</td><td>6</td></tr>",
                            "<tr><td>54</td><td>aron2</td><td>Jakab Áron</td><td>6</td></tr>",
                            "<tr><td>54</td><td>attila1</td><td>Gulyás Attila</td><td>6</td></tr>",
                            "<tr><td>54</td><td>andrea</td><td>Kiss Andrea</td><td>6</td></tr>",
                            "<tr><td>54</td><td>AGNESH</td><td>Horváth Ágnes</td><td>6</td></tr>",
                            "<tr><td>54</td><td>adam4</td><td>Bieniek Ádám</td><td>6</td></tr>",
                            "<tr><td>54</td><td>beata4</td><td>Bagi Beáta</td><td>6</td></tr>",
                            "<tr><td>54</td><td>BENCEB</td><td>Bajusz Bence</td><td>6</td></tr>",
                            "<tr><td>54</td><td>bertalan</td><td>Csiger Bertalan</td><td>6</td></tr>",
                            "<tr><td>54</td><td>BEATRIXS</td><td>Szekendi Beatrix</td><td>6</td></tr>",
                            "<tr><td>54</td><td>BELAF</td><td>Farkas Béla</td><td>6</td></tr>",
                            "<tr><td>54</td><td>balazs3</td><td>Bakódy Balázs</td><td>6</td></tr>",
                            "<tr><td>54</td><td>balazs1</td><td>Bozsik Balázs</td><td>6</td></tr>",
                            "<tr><td>54</td><td>david1</td><td>Sobják Dávid</td><td>6</td></tr>",
                            "<tr><td>54</td><td>denes</td><td>Tömböly Dénes</td><td>6</td></tr>",
                            "<tr><td>87</td><td>dora3</td><td>Sarodi Dóra</td><td>5</td></tr>",
                            "<tr><td>87</td><td>EVAV</td><td>Viktor Éva</td><td>5</td></tr>",
                            "<tr><td>87</td><td>brigitta</td><td>Székely Brigitta</td><td>5</td></tr>",
                            "<tr><td>87</td><td>brigitta3</td><td>Pataki Brigitta</td><td>5</td></tr>",
                            "<tr><td>87</td><td>agnes</td><td>Lengyel Ágnes</td><td>5</td></tr>",
                            "<tr><td>87</td><td>ANDRASE</td><td>Erdei András</td><td>5</td></tr>",
                            "<tr><td>87</td><td>andi</td><td>Maródi Andrea</td><td>5</td></tr>",
                            "<tr><td>87</td><td>andras2</td><td>Tóth András</td><td>5</td></tr>",
                            "<tr><td>87</td><td>gusztav</td><td>Bárci Gusztáv</td><td>5</td></tr>",
                            "<tr><td>87</td><td>julia</td><td>Tóth Júlia</td><td>5</td></tr>",
                            "<tr><td>87</td><td>janos3</td><td>Harangozó János</td><td>5</td></tr>",
                            "<tr><td>87</td><td>jozsef2</td><td>Vajda József</td><td>5</td></tr>",
                            "<tr><td>87</td><td>KRISZTINAG</td><td>Gyárfás Krisztina</td><td>5</td></tr>",
                            "<tr><td>87</td><td>laszlo2</td><td>Móra László</td><td>5</td></tr>",
                            "<tr><td>87</td><td>mark</td><td>Kispál Márk</td><td>5</td></tr>",
                            "<tr><td>87</td><td>MIHALYJ</td><td>Juhász Mihály</td><td>5</td></tr>",
                            "<tr><td>87</td><td>pal</td><td>Barabás Pál</td><td>5</td></tr>",
                            "<tr><td>87</td><td>norbert</td><td>Szűcs Norbert</td><td>5</td></tr>",
                            "<tr><td>87</td><td>PETERB</td><td>Berendi Péter</td><td>5</td></tr>",
                            "<tr><td>87</td><td>RENATAS</td><td>Szirmai Renáta</td><td>5</td></tr>",
                            "<tr><td>87</td><td>SEBASTIANF</td><td>Foltényi Sebastián</td><td>5</td></tr>",
                            "<tr><td>87</td><td>reka4</td><td>Szikszai Réka</td><td>5</td></tr>",
                            "<tr><td>87</td><td>timea2</td><td>Dusha Tímea</td><td>5</td></tr>",
                            "<tr><td>87</td><td>valentin</td><td>Feró Valentin</td><td>5</td></tr>",
                            "<tr><td>87</td><td>sandor3</td><td>Farkas Sándor</td><td>5</td></tr>",
                            "<tr><td>112</td><td>sandor4</td><td>Nagy Sándor</td><td>4</td></tr>",
                            "<tr><td>112</td><td>VIKTORIAU</td><td>Urbán Viktoria</td><td>4</td></tr>",
                            "<tr><td>112</td><td>tamas</td><td>Antal Tamás</td><td>4</td></tr>",
                            "<tr><td>112</td><td>sandor</td><td>Karasz Sándor</td><td>4</td></tr>",
                            "<tr><td>112</td><td>roland</td><td>Tóth Roland</td><td>4</td></tr>",
                            "<tr><td>112</td><td>roland1</td><td>Ferencz Roland</td><td>4</td></tr>",
                            "<tr><td>112</td><td>sebestyen</td><td>Rab Sebestyén</td><td>4</td></tr>",
                            "<tr><td>112</td><td>robert2</td><td>Patay Róbert</td><td>4</td></tr>",
                            "<tr><td>112</td><td>rajmond4</td><td>Rácz Rajmond</td><td>4</td></tr>",
                            "<tr><td>112</td><td>zsolt1</td><td>Pulai Zsolt</td><td>4</td></tr>",
                            "<tr><td>112</td><td>zsuzsa3</td><td>Varsányi Zsuzsa</td><td>4</td></tr>",
                            "<tr><td>112</td><td>zsuzsanna</td><td>Barta Zsuzsanna</td><td>4</td></tr>",
                            "<tr><td>112</td><td>nikolett3</td><td>Horváth Nikolett</td><td>4</td></tr>",
                            "<tr><td>112</td><td>peter1</td><td>Kozma Péter</td><td>4</td></tr>",
                            "<tr><td>112</td><td>peter2</td><td>Bozsó Péter</td><td>4</td></tr>",
                            "<tr><td>112</td><td>NIKOLETTAT</td><td>Tatár Nikoletta</td><td>4</td></tr>",
                            "<tr><td>112</td><td>MARKH</td><td>Horváth Márk</td><td>4</td></tr>",
                            "<tr><td>112</td><td>LASZLOA</td><td>Antal László</td><td>4</td></tr>",
                            "<tr><td>112</td><td>JANOSP</td><td>Pálinkás János</td><td>4</td></tr>",
                            "<tr><td>112</td><td>julianna4</td><td>Szabó Julianna</td><td>4</td></tr>",
                            "<tr><td>112</td><td>eva2</td><td>Perlinger Éva</td><td>4</td></tr>",
                            "<tr><td>112</td><td>georgij</td><td>Nyíri Georgij</td><td>4</td></tr>",
                            "<tr><td>112</td><td>gabor4</td><td>Telek Gábor</td><td>4</td></tr>",
                            "<tr><td>112</td><td>istvan1</td><td>Vizi István</td><td>4</td></tr>",
                            "<tr><td>112</td><td>ilona3</td><td>Bosnyák Ilona</td><td>4</td></tr>",
                            "<tr><td>112</td><td>aniko4</td><td>Böröcz Anikó</td><td>4</td></tr>",
                            "<tr><td>112</td><td>anita</td><td>Hamvay-Kovács Anita</td><td>4</td></tr>",
                            "<tr><td>112</td><td>andrea4</td><td>Neizer Andrea</td><td>4</td></tr>",
                            "<tr><td>112</td><td>ATTILAO</td><td>Opra Attila</td><td>4</td></tr>",
                            "<tr><td>112</td><td>ferenc1</td><td>Orosz Ferenc</td><td>4</td></tr>",
                            "<tr><td>112</td><td>ESZTERE</td><td>Érsek Eszter</td><td>4</td></tr>",
                            "<tr><td>112</td><td>eszter</td><td>Molnár Eszter</td><td>4</td></tr>",
                            "<tr><td>112</td><td>debora</td><td>Barna Debóra</td><td>4</td></tr>",
                            "<tr><td>145</td><td>eszter4</td><td>Fülöp Eszter</td><td>3</td></tr>",
                            "<tr><td>145</td><td>balint</td><td>Horváth Bálint</td><td>3</td></tr>",
                            "<tr><td>145</td><td>ANDREAT</td><td>Tornyos Andrea</td><td>3</td></tr>",
                            "<tr><td>145</td><td>aniko</td><td>Tóth Anikó</td><td>3</td></tr>",
                            "<tr><td>145</td><td>attila4</td><td>Baróti Attila</td><td>3</td></tr>",
                            "<tr><td>145</td><td>attila</td><td>Csóti Attila</td><td>3</td></tr>",
                            "<tr><td>145</td><td>andras4</td><td>Back András</td><td>3</td></tr>",
                            "<tr><td>145</td><td>agnes3</td><td>Hartyánszky Ágnes</td><td>3</td></tr>",
                            "<tr><td>145</td><td>adam1</td><td>Kiss Ádám</td><td>3</td></tr>",
                            "<tr><td>145</td><td>AGNESK</td><td>Kovács Ágnes</td><td>3</td></tr>",
                            "<tr><td>145</td><td>aladar</td><td>Dunai Aladár</td><td>3</td></tr>",
                            "<tr><td>145</td><td>henrik3</td><td>Nádudvari Henrik</td><td>3</td></tr>",
                            "<tr><td>145</td><td>IBOLYAA</td><td>Andor Ibolya</td><td>3</td></tr>",
                            "<tr><td>145</td><td>istvan</td><td>Soós István</td><td>3</td></tr>",
                            "<tr><td>145</td><td>klaudia2</td><td>Bakó Klaudia</td><td>3</td></tr>",
                            "<tr><td>145</td><td>kornel4</td><td>Lukács Kornél</td><td>3</td></tr>",
                            "<tr><td>145</td><td>jozsef</td><td>Gergely József</td><td>3</td></tr>",
                            "<tr><td>145</td><td>JUDITH</td><td>Hídasi Judit</td><td>3</td></tr>",
                            "<tr><td>145</td><td>MATEK</td><td>Koza Máté</td><td>3</td></tr>",
                            "<tr><td>145</td><td>lajos</td><td>Kiss Lajos</td><td>3</td></tr>",
                            "<tr><td>145</td><td>NANDORF</td><td>Fő Nándor</td><td>3</td></tr>",
                            "<tr><td>145</td><td>miklos2</td><td>Gondos Miklós</td><td>3</td></tr>",
                            "<tr><td>145</td><td>MIKLOSB</td><td>Balla Miklós</td><td>3</td></tr>",
                            "<tr><td>145</td><td>norbert5</td><td>Béres Norbert</td><td>3</td></tr>",
                            "<tr><td>145</td><td>ZOLTANT</td><td>Tóth Zoltán</td><td>3</td></tr>",
                            "<tr><td>145</td><td>zsuzsa</td><td>Pusztai Zsuzsanna</td><td>3</td></tr>",
                            "<tr><td>145</td><td>roza2</td><td>Bucskó Róza</td><td>3</td></tr>",
                            "<tr><td>172</td><td>ROBERTP</td><td>Pásztor Róbert</td><td>2</td></tr>",
                            "<tr><td>172</td><td>VIKTORK</td><td>Keresztúri Viktor</td><td>2</td></tr>",
                            "<tr><td>172</td><td>tibor</td><td>Gombos Tibor</td><td>2</td></tr>",
                            "<tr><td>172</td><td>tamara2</td><td>Miklós Tamara</td><td>2</td></tr>",
                            "<tr><td>172</td><td>zoltan</td><td>Fodor Zoltán</td><td>2</td></tr>",
                            "<tr><td>172</td><td>zsofi1</td><td>Molnár Zsófi</td><td>2</td></tr>",
                            "<tr><td>172</td><td>matyas2</td><td>Botka Mátyás</td><td>2</td></tr>",
                            "<tr><td>172</td><td>julia4</td><td>Nagy Júlia</td><td>2</td></tr>",
                            "<tr><td>172</td><td>kristof4</td><td>Poprádi Kristóf</td><td>2</td></tr>",
                            "<tr><td>172</td><td>ISTVANV</td><td>Varga István</td><td>2</td></tr>",
                            "<tr><td>172</td><td>imre</td><td>Búza Imre</td><td>2</td></tr>",
                            "<tr><td>172</td><td>adam3</td><td>Barkóci Ádám</td><td>2</td></tr>",
                            "<tr><td>172</td><td>annamaria1</td><td>Szűcs Annamária</td><td>2</td></tr>",
                            "<tr><td>172</td><td>balint2</td><td>Vukasinovity Bálint</td><td>2</td></tr>",
                            "<tr><td>172</td><td>balu</td><td>Endresz Bálint</td><td>2</td></tr>",
                            "<tr><td>172</td><td>eva</td><td>Enyedi Éva</td><td>2</td></tr>",
                            "<tr><td>188</td><td>david4</td><td>Berta Dávid</td><td>1</td></tr>",
                            "<tr><td>188</td><td>ANDRASN</td><td>Nagy András</td><td>1</td></tr>",
                            "<tr><td>188</td><td>andrea3</td><td>Szomor Andrea</td><td>1</td></tr>",
                            "<tr><td>188</td><td>gabriella10</td><td>Vida Gabriella</td><td>1</td></tr>",
                            "<tr><td>188</td><td>laszlo1</td><td>Farkas László</td><td>1</td></tr>",
                            "<tr><td>188</td><td>tibor2</td><td>Dániel Tibor</td><td>1</td></tr>",
                            "<tr><td>188</td><td>timea</td><td>Papós Tímea</td><td>1</td></tr>",
                            "<tr><td>188</td><td>szabolcs</td><td>Bodor Szabolcs</td><td>1</td></tr>",
                            "</table>"
                        ]
                    }
                }
            ],
            "execution_count": 13
        },
        {
            "cell_type": "markdown",
            "source": [
                "Készítsen lekérdezést, amely megjeleníti, hogy szálláshelyenként, azon belül a pótágyak száma szerint hány főre foglaltak összesen (felnőtt + gyermek)!\n",
                "\n",
                "- Jelenjenek meg a részösszegek és a végösszeg is!"
            ],
            "metadata": {
                "language": "sql",
                "azdata_cell_guid": "d1cc9376-ce71-498f-9fc5-37263171eadc"
            },
            "attachments": {}
        },
        {
            "cell_type": "code",
            "source": [
                "select iif(SZALLAS_NEV IS null, 'Végösszeg',CAST((szallas_nev) as nvarchar(50)) ) as szallas ,\r\n",
                "        iif(POTAGY is null, 'Részösszeg', cast((potagy) as nvarchar(20))) as potagy, \r\n",
                "        sum(f.FELNOTT_SZAM+f.GYERMEK_SZAM) as fo\r\n",
                "from szallashely szh join szoba sz on szh.SZALLAS_ID=sz.SZALLAS_FK\r\n",
                "                    join foglalas f on sz.SZOBA_ID=f.SZOBA_FK\r\n",
                "group by rollup(SZALLAS_NEV, POTAGY)"
            ],
            "metadata": {
                "language": "sql",
                "azdata_cell_guid": "6eff15cb-0fbd-4257-9a5e-99c7d858612e"
            },
            "outputs": [
                {
                    "output_type": "display_data",
                    "data": {
                        "text/html": "(41 rows affected)"
                    },
                    "metadata": {}
                },
                {
                    "output_type": "display_data",
                    "data": {
                        "text/html": "Total execution time: 00:00:00.038"
                    },
                    "metadata": {}
                },
                {
                    "output_type": "execute_result",
                    "metadata": {},
                    "execution_count": 8,
                    "data": {
                        "application/vnd.dataresource+json": {
                            "schema": {
                                "fields": [
                                    {
                                        "name": "szallas"
                                    },
                                    {
                                        "name": "potagy"
                                    },
                                    {
                                        "name": "fo"
                                    }
                                ]
                            },
                            "data": [
                                {
                                    "szallas": "Családi Ház",
                                    "potagy": "0",
                                    "fo": "10"
                                },
                                {
                                    "szallas": "Családi Ház",
                                    "potagy": "1",
                                    "fo": "31"
                                },
                                {
                                    "szallas": "Családi Ház",
                                    "potagy": "2",
                                    "fo": "11"
                                },
                                {
                                    "szallas": "Családi Ház",
                                    "potagy": "Részösszeg",
                                    "fo": "52"
                                },
                                {
                                    "szallas": "Fortuna Apartman",
                                    "potagy": "0",
                                    "fo": "18"
                                },
                                {
                                    "szallas": "Fortuna Apartman",
                                    "potagy": "1",
                                    "fo": "52"
                                },
                                {
                                    "szallas": "Fortuna Apartman",
                                    "potagy": "2",
                                    "fo": "36"
                                },
                                {
                                    "szallas": "Fortuna Apartman",
                                    "potagy": "Részösszeg",
                                    "fo": "106"
                                },
                                {
                                    "szallas": "Fortuna Panzió",
                                    "potagy": "0",
                                    "fo": "158"
                                },
                                {
                                    "szallas": "Fortuna panzió",
                                    "potagy": "1",
                                    "fo": "113"
                                },
                                {
                                    "szallas": "Fortuna panzió",
                                    "potagy": "2",
                                    "fo": "40"
                                },
                                {
                                    "szallas": "Fortuna Panzió",
                                    "potagy": "Részösszeg",
                                    "fo": "311"
                                },
                                {
                                    "szallas": "Gold Hotel",
                                    "potagy": "0",
                                    "fo": "216"
                                },
                                {
                                    "szallas": "Gold Hotel",
                                    "potagy": "1",
                                    "fo": "93"
                                },
                                {
                                    "szallas": "Gold Hotel",
                                    "potagy": "2",
                                    "fo": "119"
                                },
                                {
                                    "szallas": "Gold Hotel",
                                    "potagy": "Részösszeg",
                                    "fo": "428"
                                },
                                {
                                    "szallas": "Hotel Három Hattyú",
                                    "potagy": "0",
                                    "fo": "183"
                                },
                                {
                                    "szallas": "Hotel Három Hattyú",
                                    "potagy": "1",
                                    "fo": "258"
                                },
                                {
                                    "szallas": "Hotel Három Hattyú",
                                    "potagy": "2",
                                    "fo": "63"
                                },
                                {
                                    "szallas": "Hotel Három Hattyú",
                                    "potagy": "Részösszeg",
                                    "fo": "504"
                                },
                                {
                                    "szallas": "Jáde panzió",
                                    "potagy": "0",
                                    "fo": "66"
                                },
                                {
                                    "szallas": "Jáde panzió",
                                    "potagy": "Részösszeg",
                                    "fo": "66"
                                },
                                {
                                    "szallas": "Kentaur Hotel",
                                    "potagy": "0",
                                    "fo": "168"
                                },
                                {
                                    "szallas": "Kentaur Hotel",
                                    "potagy": "1",
                                    "fo": "224"
                                },
                                {
                                    "szallas": "Kentaur Hotel",
                                    "potagy": "2",
                                    "fo": "28"
                                },
                                {
                                    "szallas": "Kentaur Hotel",
                                    "potagy": "Részösszeg",
                                    "fo": "420"
                                },
                                {
                                    "szallas": "Lagúna Hotel",
                                    "potagy": "0",
                                    "fo": "105"
                                },
                                {
                                    "szallas": "Lagúna Hotel",
                                    "potagy": "1",
                                    "fo": "150"
                                },
                                {
                                    "szallas": "Lagúna Hotel",
                                    "potagy": "2",
                                    "fo": "36"
                                },
                                {
                                    "szallas": "Lagúna Hotel",
                                    "potagy": "Részösszeg",
                                    "fo": "291"
                                },
                                {
                                    "szallas": "Partiszél Vendégház",
                                    "potagy": "0",
                                    "fo": "31"
                                },
                                {
                                    "szallas": "Partiszél Vendégház",
                                    "potagy": "1",
                                    "fo": "17"
                                },
                                {
                                    "szallas": "Partiszél Vendégház",
                                    "potagy": "2",
                                    "fo": "15"
                                },
                                {
                                    "szallas": "Partiszél Vendégház",
                                    "potagy": "Részösszeg",
                                    "fo": "63"
                                },
                                {
                                    "szallas": "Sába-Ház",
                                    "potagy": "0",
                                    "fo": "67"
                                },
                                {
                                    "szallas": "Sába-Ház",
                                    "potagy": "1",
                                    "fo": "99"
                                },
                                {
                                    "szallas": "Sába-Ház",
                                    "potagy": "Részösszeg",
                                    "fo": "166"
                                },
                                {
                                    "szallas": "Szieszta Apartmanház",
                                    "potagy": "0",
                                    "fo": "64"
                                },
                                {
                                    "szallas": "Szieszta Apartmanház",
                                    "potagy": "1",
                                    "fo": "19"
                                },
                                {
                                    "szallas": "Szieszta Apartmanház",
                                    "potagy": "Részösszeg",
                                    "fo": "83"
                                },
                                {
                                    "szallas": "Végösszeg",
                                    "potagy": "Részösszeg",
                                    "fo": "2490"
                                }
                            ]
                        },
                        "text/html": [
                            "<table>",
                            "<tr><th>szallas</th><th>potagy</th><th>fo</th></tr>",
                            "<tr><td>Családi Ház</td><td>0</td><td>10</td></tr>",
                            "<tr><td>Családi Ház</td><td>1</td><td>31</td></tr>",
                            "<tr><td>Családi Ház</td><td>2</td><td>11</td></tr>",
                            "<tr><td>Családi Ház</td><td>Részösszeg</td><td>52</td></tr>",
                            "<tr><td>Fortuna Apartman</td><td>0</td><td>18</td></tr>",
                            "<tr><td>Fortuna Apartman</td><td>1</td><td>52</td></tr>",
                            "<tr><td>Fortuna Apartman</td><td>2</td><td>36</td></tr>",
                            "<tr><td>Fortuna Apartman</td><td>Részösszeg</td><td>106</td></tr>",
                            "<tr><td>Fortuna Panzió</td><td>0</td><td>158</td></tr>",
                            "<tr><td>Fortuna panzió</td><td>1</td><td>113</td></tr>",
                            "<tr><td>Fortuna panzió</td><td>2</td><td>40</td></tr>",
                            "<tr><td>Fortuna Panzió</td><td>Részösszeg</td><td>311</td></tr>",
                            "<tr><td>Gold Hotel</td><td>0</td><td>216</td></tr>",
                            "<tr><td>Gold Hotel</td><td>1</td><td>93</td></tr>",
                            "<tr><td>Gold Hotel</td><td>2</td><td>119</td></tr>",
                            "<tr><td>Gold Hotel</td><td>Részösszeg</td><td>428</td></tr>",
                            "<tr><td>Hotel Három Hattyú</td><td>0</td><td>183</td></tr>",
                            "<tr><td>Hotel Három Hattyú</td><td>1</td><td>258</td></tr>",
                            "<tr><td>Hotel Három Hattyú</td><td>2</td><td>63</td></tr>",
                            "<tr><td>Hotel Három Hattyú</td><td>Részösszeg</td><td>504</td></tr>",
                            "<tr><td>Jáde panzió</td><td>0</td><td>66</td></tr>",
                            "<tr><td>Jáde panzió</td><td>Részösszeg</td><td>66</td></tr>",
                            "<tr><td>Kentaur Hotel</td><td>0</td><td>168</td></tr>",
                            "<tr><td>Kentaur Hotel</td><td>1</td><td>224</td></tr>",
                            "<tr><td>Kentaur Hotel</td><td>2</td><td>28</td></tr>",
                            "<tr><td>Kentaur Hotel</td><td>Részösszeg</td><td>420</td></tr>",
                            "<tr><td>Lagúna Hotel</td><td>0</td><td>105</td></tr>",
                            "<tr><td>Lagúna Hotel</td><td>1</td><td>150</td></tr>",
                            "<tr><td>Lagúna Hotel</td><td>2</td><td>36</td></tr>",
                            "<tr><td>Lagúna Hotel</td><td>Részösszeg</td><td>291</td></tr>",
                            "<tr><td>Partiszél Vendégház</td><td>0</td><td>31</td></tr>",
                            "<tr><td>Partiszél Vendégház</td><td>1</td><td>17</td></tr>",
                            "<tr><td>Partiszél Vendégház</td><td>2</td><td>15</td></tr>",
                            "<tr><td>Partiszél Vendégház</td><td>Részösszeg</td><td>63</td></tr>",
                            "<tr><td>Sába-Ház</td><td>0</td><td>67</td></tr>",
                            "<tr><td>Sába-Ház</td><td>1</td><td>99</td></tr>",
                            "<tr><td>Sába-Ház</td><td>Részösszeg</td><td>166</td></tr>",
                            "<tr><td>Szieszta Apartmanház</td><td>0</td><td>64</td></tr>",
                            "<tr><td>Szieszta Apartmanház</td><td>1</td><td>19</td></tr>",
                            "<tr><td>Szieszta Apartmanház</td><td>Részösszeg</td><td>83</td></tr>",
                            "<tr><td>Végösszeg</td><td>Részösszeg</td><td>2490</td></tr>",
                            "</table>"
                        ]
                    }
                }
            ],
            "execution_count": 8
        },
        {
            "cell_type": "markdown",
            "source": [
                "Készítsünk ideiglenes táblát #MASKED\\_GUEST néven, ahol \n",
                "\n",
                "- a tábla felépítése megegyezik a vendég tábláéval, DE\n",
                "- a vendégek nevének csak az első 2, és az utolsó 3 karaktere jelenjen meg, közötte X-ek legyenek!"
            ],
            "metadata": {
                "azdata_cell_guid": "160d9fbf-3d0f-4b53-a464-2cc829ce3814"
            },
            "attachments": {}
        },
        {
            "cell_type": "code",
            "source": [
                "create table #MASKED_GUEST(\r\n",
                "    [USERNEV] [nvarchar](20) PRIMARY KEY,\r\n",
                "\t[NEV] [nvarchar](50) masked with (function = 'partial(2, \"XXXX\", 3)'),\r\n",
                "\t[EMAIL] [nvarchar](60),\r\n",
                "\t[SZAML_CIM] [nvarchar](100),\r\n",
                "\t[SZUL_DAT] [date])"
            ],
            "metadata": {
                "azdata_cell_guid": "9a69e2c6-3f64-44e0-a682-e8bb25b5bd1e",
                "language": "sql"
            },
            "outputs": [
                {
                    "output_type": "display_data",
                    "data": {
                        "text/html": "Commands completed successfully."
                    },
                    "metadata": {}
                },
                {
                    "output_type": "display_data",
                    "data": {
                        "text/html": "Total execution time: 00:00:00.003"
                    },
                    "metadata": {}
                }
            ],
            "execution_count": 9
        },
        {
            "cell_type": "markdown",
            "source": [
                "Oldja meg REDIS-ben a következő feladatokat:\n",
                "\n",
                "- hozzon létre egy string kulcsot, amely egy könyvtár nevét tartalmazza\n",
                "- hozzon létre egy hash kulcsot, amely egy könyv legalább 3 adatát tartalmazza\n",
                "- hozzon létre egy set kulcsot, amely a könyvtárban lévő könyvek műfajait tartalmazza (legalább 3)\n",
                "- hozzon létre egy list kulcsot, amely a kikölcsönzött könyvek címeit tartalmazza (legalább 3)\n",
                "- hozzon létre egy sorted set kulcsot, amely az adott könyvek címeit és a könyv kölcsönzéseinek számát tartalmazza (legalább 3)"
            ],
            "metadata": {
                "language": "sql",
                "azdata_cell_guid": "2571cebd-1e5b-4181-ada8-3628de6fcc0c"
            },
            "attachments": {}
        },
        {
            "cell_type": "code",
            "source": [
                "set konyvtar \"Juhász Gyula Könyvtár\"\r\n",
                "\r\n",
                "hmset konyv cim \"Ez egy teszt\" kiadasev 2024 kiado BCE\r\n",
                "\r\n",
                "sadd mufaj romantikus thriller drama gasztronomia\r\n",
                "\r\n",
                "rpush kolcsonozve \"Az ember tragédiája\" \"Ez egy teszt\" \"Harmadik könyv\"\r\n",
                "\r\n",
                "zadd kolcsonzesek 4 \"Az ember tragédiája\" 6 \"EZ egy teszt\" 3 \"Harmadik könyv\""
            ],
            "metadata": {
                "language": "sql",
                "azdata_cell_guid": "1ee80346-7e03-4bb2-b5b7-f3f685d645e4"
            },
            "outputs": [],
            "execution_count": null
        },
        {
            "cell_type": "markdown",
            "source": [
                "Cassandra CQL Shellben hozza létre a következő táblát:\n",
                "\n",
                "STUDENT(ID, Nev, Teljesitett\\_felevek, Eredmenyek, Nyelvtudas)\n",
                "\n",
                "- Az ID legyen az elsődleges kulcs\n",
                "- A Teljesitett félévek legyen LIST, tartalma egész számok, pl: 1, 2, 3\n",
                "- Az Eredmenyek legyen MAP, tartalma, hogy melyik félévben mennyi volt az átlag, pl: 1: 3,00, 2: 4.55, 3: 4,10\n",
                "- A Nyelvtudas legyen SET, tartalma a nyelvek megnevezése\n",
                "\n",
                "Vigyen fel legalább 2 rekordot!"
            ],
            "metadata": {
                "language": "sql",
                "azdata_cell_guid": "1974941d-da35-46f1-b1f0-41a7a91d160e"
            },
            "attachments": {}
        },
        {
            "cell_type": "code",
            "source": [
                "create table student(\r\n",
                "      ... ID int PRIMARY KEY ,\r\n",
                "      ... Nev text,\r\n",
                "      ... Teljesitett_felevek list<int>,\r\n",
                "      ... Eredmenyek map<int, float>,\r\n",
                "      ... Nyelvtudas set<text>);\r\n",
                "\r\n",
                "      INSERT INTO student (ID, Nev, Teljesitett_felevek, Eredmenyek, Nyelvtudas) \r\n",
                "      VALUES ( 1, 'Tóth Béla', [1,2,3], {1:3.00, 2:4.55, 3:4.10}, {'orosz', 'angol'});"
            ],
            "metadata": {
                "language": "sql",
                "azdata_cell_guid": "4731968c-8081-431f-a6a9-9bbe7d3f0726"
            },
            "outputs": [],
            "execution_count": null
        },
        {
            "cell_type": "markdown",
            "source": [
                "A Neo4j Sandbox-ban vagy a Desktopban jelenítsük meg azon személyeket, akik egy filmben szerepeltek Tom Hanks-sel.\n",
                "\n",
                "- Egy szereplő neve csak egyszer jelenjen meg\n",
                "- Tom Hanks ne legyen benne a listában"
            ],
            "metadata": {
                "language": "sql",
                "azdata_cell_guid": "3ca2db7b-dc3f-4c4b-a4a9-a99090379c8a"
            },
            "attachments": {}
        },
        {
            "cell_type": "code",
            "source": [
                "MATCH(p:Person)-[:ACTED_IN]->(m:Movie)<-[:ACTED_IN]-(p2:Person)\r\n",
                "WHERE p.name='Tom Hanks' and p2.name <>'Tom Hanks'\r\n",
                "RETURN DISTINCT p2.name as Színészek"
            ],
            "metadata": {
                "language": "sql",
                "azdata_cell_guid": "20d4254c-f640-4957-a57d-883034af75a3"
            },
            "outputs": [],
            "execution_count": null
        }
    ]
}