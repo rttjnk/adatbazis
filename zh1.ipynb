{
    "metadata": {
        "kernelspec": {
            "name": "SQL",
            "display_name": "SQL",
            "language": "sql"
        },
        "language_info": {
            "name": "sql",
            "version": ""
        }
    },
    "nbformat_minor": 2,
    "nbformat": 4,
    "cells": [
        {
            "cell_type": "code",
            "source": [
                "--1.feladat\r\n",
                "\r\n",
                "SELECT ROGZITETTE as \"Rögzítő\",\r\n",
                "       SZALLAS_NEV as \"Szállás neve\",\r\n",
                "       CIM as \"Cím\"\r\n",
                "FROM Szallashely\r\n",
                "WHERE MONTH(ROGZ_IDO)=3"
            ],
            "metadata": {
                "azdata_cell_guid": "05b3263d-dd8e-464e-a1cc-fc663b55db88",
                "language": "sql"
            },
            "outputs": [
                {
                    "output_type": "display_data",
                    "data": {
                        "text/html": "(14 rows affected)"
                    },
                    "metadata": {}
                },
                {
                    "output_type": "display_data",
                    "data": {
                        "text/html": "Total execution time: 00:00:00.042"
                    },
                    "metadata": {}
                },
                {
                    "output_type": "execute_result",
                    "metadata": {},
                    "execution_count": 1,
                    "data": {
                        "application/vnd.dataresource+json": {
                            "schema": {
                                "fields": [
                                    {
                                        "name": "Rögzítő"
                                    },
                                    {
                                        "name": "Szállás neve"
                                    },
                                    {
                                        "name": "Cím"
                                    }
                                ]
                            },
                            "data": [
                                {
                                    "Rögzítő": "Béla",
                                    "Szállás neve": "Családi Ház",
                                    "Cím": "8630 Balatonboglár, József Attila utca 25"
                                },
                                {
                                    "Rögzítő": "Sára",
                                    "Szállás neve": "Fortuna Apartman",
                                    "Cím": "4200 Hajdúszoboszló, Wesselényi utca 56."
                                },
                                {
                                    "Rögzítő": "Béla",
                                    "Szállás neve": "Fortuna panzió",
                                    "Cím": "1019 Budapest XIV. Cinkotai út 86."
                                },
                                {
                                    "Rögzítő": "Sára",
                                    "Szállás neve": "Fortuna Panzió",
                                    "Cím": "5900 Orosháza, Gyopárosfürdő Tópart utca 3."
                                },
                                {
                                    "Rögzítő": "Béla",
                                    "Szállás neve": "Kentaur Hotel",
                                    "Cím": "8600 Siófok (Széplak), Akácfa utca 1"
                                },
                                {
                                    "Rögzítő": "Mari",
                                    "Szállás neve": "Szieszta Apartmanház",
                                    "Cím": "8630 Balatonboglár, Dózsa György utca 108"
                                },
                                {
                                    "Rögzítő": "Béla",
                                    "Szállás neve": "Hotel Három Hattyú",
                                    "Cím": "8623 Balatonföldvár, Rákóczi Ferenc út 45."
                                },
                                {
                                    "Rögzítő": "Mari",
                                    "Szállás neve": "Jáde panzió",
                                    "Cím": "8624 Balatonföldvár, Kiss u.2."
                                },
                                {
                                    "Rögzítő": "Sára",
                                    "Szállás neve": "Lagúna Hotel",
                                    "Cím": "1097 Budapest, Albert Flórián út 3"
                                },
                                {
                                    "Rögzítő": "Béla",
                                    "Szállás neve": "Partiszél Vendégház",
                                    "Cím": "8220 Balatonalmádi Neptun u. 23."
                                },
                                {
                                    "Rögzítő": "Béla",
                                    "Szállás neve": "Gold Hotel",
                                    "Cím": "1016 Budapest, Hegyalja út 12"
                                },
                                {
                                    "Rögzítő": "Sára",
                                    "Szállás neve": "Riviéra Panzió",
                                    "Cím": "6722 Szeged, Petőfi Sándor út 3."
                                },
                                {
                                    "Rögzítő": "Béla",
                                    "Szállás neve": "Nyárfás Vendégház",
                                    "Cím": "6723 Szeged, Nagy u. 12."
                                },
                                {
                                    "Rögzítő": "Béla",
                                    "Szállás neve": "Tímárház Panzió",
                                    "Cím": "8600 Siófok, Virág utca 1"
                                }
                            ]
                        },
                        "text/html": [
                            "<table>",
                            "<tr><th>Rögzítő</th><th>Szállás neve</th><th>Cím</th></tr>",
                            "<tr><td>Béla</td><td>Családi Ház</td><td>8630 Balatonboglár, József Attila utca 25</td></tr>",
                            "<tr><td>Sára</td><td>Fortuna Apartman</td><td>4200 Hajdúszoboszló, Wesselényi utca 56.</td></tr>",
                            "<tr><td>Béla</td><td>Fortuna panzió</td><td>1019 Budapest XIV. Cinkotai út 86.</td></tr>",
                            "<tr><td>Sára</td><td>Fortuna Panzió</td><td>5900 Orosháza, Gyopárosfürdő Tópart utca 3.</td></tr>",
                            "<tr><td>Béla</td><td>Kentaur Hotel</td><td>8600 Siófok (Széplak), Akácfa utca 1</td></tr>",
                            "<tr><td>Mari</td><td>Szieszta Apartmanház</td><td>8630 Balatonboglár, Dózsa György utca 108</td></tr>",
                            "<tr><td>Béla</td><td>Hotel Három Hattyú</td><td>8623 Balatonföldvár, Rákóczi Ferenc út 45.</td></tr>",
                            "<tr><td>Mari</td><td>Jáde panzió</td><td>8624 Balatonföldvár, Kiss u.2.</td></tr>",
                            "<tr><td>Sára</td><td>Lagúna Hotel</td><td>1097 Budapest, Albert Flórián út 3</td></tr>",
                            "<tr><td>Béla</td><td>Partiszél Vendégház</td><td>8220 Balatonalmádi Neptun u. 23.</td></tr>",
                            "<tr><td>Béla</td><td>Gold Hotel</td><td>1016 Budapest, Hegyalja út 12</td></tr>",
                            "<tr><td>Sára</td><td>Riviéra Panzió</td><td>6722 Szeged, Petőfi Sándor út 3.</td></tr>",
                            "<tr><td>Béla</td><td>Nyárfás Vendégház</td><td>6723 Szeged, Nagy u. 12.</td></tr>",
                            "<tr><td>Béla</td><td>Tímárház Panzió</td><td>8600 Siófok, Virág utca 1</td></tr>",
                            "</table>"
                        ]
                    }
                }
            ],
            "execution_count": 1
        },
        {
            "cell_type": "code",
            "source": [
                "--2.feladat\r\n",
                "\r\n",
                "SELECT TIPUS as \"Szálláshely típusa\",\r\n",
                "        round(AVG(CSILLAGOK_SZAMA),0)\r\n",
                "FROM Szallashely\r\n",
                "GROUP BY TIPUS"
            ],
            "metadata": {
                "azdata_cell_guid": "8c6c6063-9497-4513-99cf-ad7698dc4b16",
                "language": "sql"
            },
            "outputs": [
                {
                    "output_type": "display_data",
                    "data": {
                        "text/html": "(5 rows affected)"
                    },
                    "metadata": {}
                },
                {
                    "output_type": "display_data",
                    "data": {
                        "text/html": "Total execution time: 00:00:00.007"
                    },
                    "metadata": {}
                },
                {
                    "output_type": "execute_result",
                    "metadata": {},
                    "execution_count": 5,
                    "data": {
                        "application/vnd.dataresource+json": {
                            "schema": {
                                "fields": [
                                    {
                                        "name": "Szálláshely típusa"
                                    },
                                    {
                                        "name": "(No column name)"
                                    }
                                ]
                            },
                            "data": [
                                {
                                    "Szálláshely típusa": "Apartman",
                                    "(No column name)": "0"
                                },
                                {
                                    "Szálláshely típusa": "Diákszálló",
                                    "(No column name)": "0"
                                },
                                {
                                    "Szálláshely típusa": "Hotel",
                                    "(No column name)": "3"
                                },
                                {
                                    "Szálláshely típusa": "panzió",
                                    "(No column name)": "3"
                                },
                                {
                                    "Szálláshely típusa": "vendégház",
                                    "(No column name)": "0"
                                }
                            ]
                        },
                        "text/html": [
                            "<table>",
                            "<tr><th>Szálláshely típusa</th><th>(No column name)</th></tr>",
                            "<tr><td>Apartman</td><td>0</td></tr>",
                            "<tr><td>Diákszálló</td><td>0</td></tr>",
                            "<tr><td>Hotel</td><td>3</td></tr>",
                            "<tr><td>panzió</td><td>3</td></tr>",
                            "<tr><td>vendégház</td><td>0</td></tr>",
                            "</table>"
                        ]
                    }
                }
            ],
            "execution_count": 5
        },
        {
            "cell_type": "code",
            "source": [
                "--3.feladat\r\n",
                "\r\n",
                "SELECT szall.SZALLAS_NEV as \"Szállás neve\",\r\n",
                "        COUNT(f.FOGLALAS_PK) as \"foglalások száma\"\r\n",
                "FROM Szoba s JOIN Foglalas f on s.SZOBA_ID=f.SZOBA_FK\r\n",
                "            right JOIN Szallashely szall ON szall.SZALLAS_ID=s.SZALLAS_FK\r\n",
                "GROUP BY szall.SZALLAS_NEV"
            ],
            "metadata": {
                "azdata_cell_guid": "a49c45d2-5baa-4228-b8e8-bd24778b720f",
                "language": "sql",
                "tags": []
            },
            "outputs": [
                {
                    "output_type": "display_data",
                    "data": {
                        "text/html": "Warning: Null value is eliminated by an aggregate or other SET operation."
                    },
                    "metadata": {}
                },
                {
                    "output_type": "display_data",
                    "data": {
                        "text/html": "(18 rows affected)"
                    },
                    "metadata": {}
                },
                {
                    "output_type": "display_data",
                    "data": {
                        "text/html": "Total execution time: 00:00:00.014"
                    },
                    "metadata": {}
                },
                {
                    "output_type": "execute_result",
                    "metadata": {},
                    "execution_count": 7,
                    "data": {
                        "application/vnd.dataresource+json": {
                            "schema": {
                                "fields": [
                                    {
                                        "name": "Szállás neve"
                                    },
                                    {
                                        "name": "foglalások száma"
                                    }
                                ]
                            },
                            "data": [
                                {
                                    "Szállás neve": "Szieszta Apartmanház",
                                    "foglalások száma": "34"
                                },
                                {
                                    "Szállás neve": "Fortuna Panzió",
                                    "foglalások száma": "126"
                                },
                                {
                                    "Szállás neve": "Nyárfás Vendégház",
                                    "foglalások száma": "0"
                                },
                                {
                                    "Szállás neve": "Kentaur Hotel",
                                    "foglalások száma": "179"
                                },
                                {
                                    "Szállás neve": "Partiszél Vendégház",
                                    "foglalások száma": "26"
                                },
                                {
                                    "Szállás neve": "Riviéra Panzió",
                                    "foglalások száma": "0"
                                },
                                {
                                    "Szállás neve": "Sába-Ház",
                                    "foglalások száma": "70"
                                },
                                {
                                    "Szállás neve": "Tímárház Panzió",
                                    "foglalások száma": "0"
                                },
                                {
                                    "Szállás neve": "Bagoly Hotel",
                                    "foglalások száma": "0"
                                },
                                {
                                    "Szállás neve": "Müller Vendégház",
                                    "foglalások száma": "0"
                                },
                                {
                                    "Szállás neve": "Családi Ház",
                                    "foglalások száma": "18"
                                },
                                {
                                    "Szállás neve": "Fortuna Apartman",
                                    "foglalások száma": "39"
                                },
                                {
                                    "Szállás neve": "Szarvas Hotel",
                                    "foglalások száma": "0"
                                },
                                {
                                    "Szállás neve": "Hotel Három Hattyú",
                                    "foglalások száma": "204"
                                },
                                {
                                    "Szállás neve": "Jáde panzió",
                                    "foglalások száma": "29"
                                },
                                {
                                    "Szállás neve": "Lagúna Hotel",
                                    "foglalások száma": "123"
                                },
                                {
                                    "Szállás neve": "Gold Hotel",
                                    "foglalások száma": "179"
                                },
                                {
                                    "Szállás neve": "Kollégium",
                                    "foglalások száma": "0"
                                }
                            ]
                        },
                        "text/html": [
                            "<table>",
                            "<tr><th>Szállás neve</th><th>foglalások száma</th></tr>",
                            "<tr><td>Szieszta Apartmanház</td><td>34</td></tr>",
                            "<tr><td>Fortuna Panzió</td><td>126</td></tr>",
                            "<tr><td>Nyárfás Vendégház</td><td>0</td></tr>",
                            "<tr><td>Kentaur Hotel</td><td>179</td></tr>",
                            "<tr><td>Partiszél Vendégház</td><td>26</td></tr>",
                            "<tr><td>Riviéra Panzió</td><td>0</td></tr>",
                            "<tr><td>Sába-Ház</td><td>70</td></tr>",
                            "<tr><td>Tímárház Panzió</td><td>0</td></tr>",
                            "<tr><td>Bagoly Hotel</td><td>0</td></tr>",
                            "<tr><td>Müller Vendégház</td><td>0</td></tr>",
                            "<tr><td>Családi Ház</td><td>18</td></tr>",
                            "<tr><td>Fortuna Apartman</td><td>39</td></tr>",
                            "<tr><td>Szarvas Hotel</td><td>0</td></tr>",
                            "<tr><td>Hotel Három Hattyú</td><td>204</td></tr>",
                            "<tr><td>Jáde panzió</td><td>29</td></tr>",
                            "<tr><td>Lagúna Hotel</td><td>123</td></tr>",
                            "<tr><td>Gold Hotel</td><td>179</td></tr>",
                            "<tr><td>Kollégium</td><td>0</td></tr>",
                            "</table>"
                        ]
                    }
                }
            ],
            "execution_count": 7
        }
    ]
}