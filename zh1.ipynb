{
    "metadata": {
        "kernelspec": {
            "name": "SQL",
            "display_name": "SQL",
            "language": "sql"
        },
        "language_info": {
            "name": "sql",
            "version": ""
        }
    },
    "nbformat_minor": 2,
    "nbformat": 4,
    "cells": [
        {
            "cell_type": "code",
            "source": [
                "--1.feladat"
            ],
            "metadata": {
                "azdata_cell_guid": "05b3263d-dd8e-464e-a1cc-fc663b55db88",
                "language": "sql"
            },
            "outputs": [],
            "execution_count": null
        }
    ]
}